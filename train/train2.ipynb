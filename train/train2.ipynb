{
 "cells": [
  {
   "attachments": {},
   "cell_type": "markdown",
   "metadata": {},
   "source": [
    "[![GitHub](https://img.shields.io/badge/Github-hibana2077-blue?style=plastic-square&logo=github)](https://github.com/hibana2077)\n",
    "[![Colab](https://img.shields.io/badge/Colab-Open%20in%20Colab-blue?style=plastic-square&logo=googlecolab)](https://colab.research.google.com/github/hibana2077/hibana2077/blob/master/train/train.ipynb)"
   ]
  },
  {
   "cell_type": "code",
   "execution_count": null,
   "metadata": {},
   "outputs": [],
   "source": [
    "# !wget http://prdownloads.sourceforge.net/ta-lib/ta-lib-0.4.0-src.tar.gz\n",
    "# !tar -xzvf ta-lib-0.4.0-src.tar.gz\n",
    "# %cd ta-lib\n",
    "# !./configure --prefix=/usr\n",
    "# !make\n",
    "# !make install\n",
    "# !pip install Ta-Lib"
   ]
  },
  {
   "cell_type": "code",
   "execution_count": 1,
   "metadata": {},
   "outputs": [],
   "source": [
    "#using sklearn random forest classifier\n",
    "from sklearn.ensemble import RandomForestClassifier\n",
    "from sklearn.metrics import accuracy_score\n",
    "from sklearn.model_selection import train_test_split\n",
    "from sklearn.metrics import confusion_matrix\n",
    "from sklearn.metrics import classification_report\n",
    "from sklearn.metrics import roc_curve\n",
    "from sklearn.metrics import roc_auc_score\n",
    "from sklearn.metrics import precision_recall_curve\n",
    "from sklearn.metrics import f1_score\n",
    "from sklearn.metrics import auc\n",
    "from talib import abstract\n",
    "from ccxt import binance,bybit\n",
    "import pandas as pd\n",
    "import numpy as np\n",
    "import os"
   ]
  },
  {
   "cell_type": "code",
   "execution_count": 2,
   "metadata": {},
   "outputs": [],
   "source": [
    "os.remove(\"../data/BTC_USDT_15m.csv\")"
   ]
  },
  {
   "cell_type": "code",
   "execution_count": 3,
   "metadata": {},
   "outputs": [],
   "source": [
    "binance = binance()\n",
    "symbol = 'BTC/USDT'\n",
    "timeframe = '15m'\n",
    "file_name = f\"../data/{symbol.replace('/', '_')}_{timeframe}.csv\"\n",
    "start = binance.parse8601('2019-10-01T00:00:00Z')\n",
    "end = binance.parse8601('2022-12-30T00:00:00Z')\n",
    "cnt_time = start\n",
    "data = []\n",
    "while cnt_time < end:\n",
    "    ohlcv = binance.fetch_ohlcv(symbol, timeframe, cnt_time)\n",
    "    data += ohlcv\n",
    "    cnt_time = ohlcv[-1][0] + 900000 # 1h in ms    \n",
    "df = pd.DataFrame(data, columns=['time', 'open', 'high', 'low', 'close', 'volume'])\n",
    "df['time'] = pd.to_datetime(df['time'], unit='ms')\n",
    "df.to_csv(file_name, index=False)"
   ]
  },
  {
   "cell_type": "code",
   "execution_count": 4,
   "metadata": {},
   "outputs": [
    {
     "data": {
      "text/html": [
       "<div>\n",
       "<style scoped>\n",
       "    .dataframe tbody tr th:only-of-type {\n",
       "        vertical-align: middle;\n",
       "    }\n",
       "\n",
       "    .dataframe tbody tr th {\n",
       "        vertical-align: top;\n",
       "    }\n",
       "\n",
       "    .dataframe thead th {\n",
       "        text-align: right;\n",
       "    }\n",
       "</style>\n",
       "<table border=\"1\" class=\"dataframe\">\n",
       "  <thead>\n",
       "    <tr style=\"text-align: right;\">\n",
       "      <th></th>\n",
       "      <th>time</th>\n",
       "      <th>open</th>\n",
       "      <th>high</th>\n",
       "      <th>low</th>\n",
       "      <th>close</th>\n",
       "      <th>volume</th>\n",
       "    </tr>\n",
       "  </thead>\n",
       "  <tbody>\n",
       "    <tr>\n",
       "      <th>0</th>\n",
       "      <td>2019-10-01 00:00:00</td>\n",
       "      <td>8289.97</td>\n",
       "      <td>8310.08</td>\n",
       "      <td>8206.57</td>\n",
       "      <td>8243.39</td>\n",
       "      <td>1016.103644</td>\n",
       "    </tr>\n",
       "    <tr>\n",
       "      <th>1</th>\n",
       "      <td>2019-10-01 00:15:00</td>\n",
       "      <td>8242.94</td>\n",
       "      <td>8252.53</td>\n",
       "      <td>8210.01</td>\n",
       "      <td>8220.39</td>\n",
       "      <td>391.576024</td>\n",
       "    </tr>\n",
       "    <tr>\n",
       "      <th>2</th>\n",
       "      <td>2019-10-01 00:30:00</td>\n",
       "      <td>8220.78</td>\n",
       "      <td>8222.13</td>\n",
       "      <td>8188.00</td>\n",
       "      <td>8213.23</td>\n",
       "      <td>285.706881</td>\n",
       "    </tr>\n",
       "    <tr>\n",
       "      <th>3</th>\n",
       "      <td>2019-10-01 00:45:00</td>\n",
       "      <td>8213.23</td>\n",
       "      <td>8218.34</td>\n",
       "      <td>8195.36</td>\n",
       "      <td>8199.66</td>\n",
       "      <td>176.788254</td>\n",
       "    </tr>\n",
       "    <tr>\n",
       "      <th>4</th>\n",
       "      <td>2019-10-01 01:00:00</td>\n",
       "      <td>8199.21</td>\n",
       "      <td>8222.28</td>\n",
       "      <td>8173.05</td>\n",
       "      <td>8211.85</td>\n",
       "      <td>420.860704</td>\n",
       "    </tr>\n",
       "    <tr>\n",
       "      <th>...</th>\n",
       "      <td>...</td>\n",
       "      <td>...</td>\n",
       "      <td>...</td>\n",
       "      <td>...</td>\n",
       "      <td>...</td>\n",
       "      <td>...</td>\n",
       "    </tr>\n",
       "    <tr>\n",
       "      <th>113905</th>\n",
       "      <td>2023-01-01 05:30:00</td>\n",
       "      <td>16521.42</td>\n",
       "      <td>16522.75</td>\n",
       "      <td>16514.79</td>\n",
       "      <td>16520.02</td>\n",
       "      <td>669.280250</td>\n",
       "    </tr>\n",
       "    <tr>\n",
       "      <th>113906</th>\n",
       "      <td>2023-01-01 05:45:00</td>\n",
       "      <td>16520.03</td>\n",
       "      <td>16534.98</td>\n",
       "      <td>16518.85</td>\n",
       "      <td>16530.71</td>\n",
       "      <td>999.506850</td>\n",
       "    </tr>\n",
       "    <tr>\n",
       "      <th>113907</th>\n",
       "      <td>2023-01-01 06:00:00</td>\n",
       "      <td>16530.71</td>\n",
       "      <td>16543.69</td>\n",
       "      <td>16528.81</td>\n",
       "      <td>16537.72</td>\n",
       "      <td>949.233190</td>\n",
       "    </tr>\n",
       "    <tr>\n",
       "      <th>113908</th>\n",
       "      <td>2023-01-01 06:15:00</td>\n",
       "      <td>16538.05</td>\n",
       "      <td>16550.00</td>\n",
       "      <td>16537.64</td>\n",
       "      <td>16544.63</td>\n",
       "      <td>976.155330</td>\n",
       "    </tr>\n",
       "    <tr>\n",
       "      <th>113909</th>\n",
       "      <td>2023-01-01 06:30:00</td>\n",
       "      <td>16545.02</td>\n",
       "      <td>16545.96</td>\n",
       "      <td>16538.42</td>\n",
       "      <td>16538.69</td>\n",
       "      <td>306.285040</td>\n",
       "    </tr>\n",
       "  </tbody>\n",
       "</table>\n",
       "<p>113910 rows × 6 columns</p>\n",
       "</div>"
      ],
      "text/plain": [
       "                      time      open      high       low     close  \\\n",
       "0      2019-10-01 00:00:00   8289.97   8310.08   8206.57   8243.39   \n",
       "1      2019-10-01 00:15:00   8242.94   8252.53   8210.01   8220.39   \n",
       "2      2019-10-01 00:30:00   8220.78   8222.13   8188.00   8213.23   \n",
       "3      2019-10-01 00:45:00   8213.23   8218.34   8195.36   8199.66   \n",
       "4      2019-10-01 01:00:00   8199.21   8222.28   8173.05   8211.85   \n",
       "...                    ...       ...       ...       ...       ...   \n",
       "113905 2023-01-01 05:30:00  16521.42  16522.75  16514.79  16520.02   \n",
       "113906 2023-01-01 05:45:00  16520.03  16534.98  16518.85  16530.71   \n",
       "113907 2023-01-01 06:00:00  16530.71  16543.69  16528.81  16537.72   \n",
       "113908 2023-01-01 06:15:00  16538.05  16550.00  16537.64  16544.63   \n",
       "113909 2023-01-01 06:30:00  16545.02  16545.96  16538.42  16538.69   \n",
       "\n",
       "             volume  \n",
       "0       1016.103644  \n",
       "1        391.576024  \n",
       "2        285.706881  \n",
       "3        176.788254  \n",
       "4        420.860704  \n",
       "...             ...  \n",
       "113905   669.280250  \n",
       "113906   999.506850  \n",
       "113907   949.233190  \n",
       "113908   976.155330  \n",
       "113909   306.285040  \n",
       "\n",
       "[113910 rows x 6 columns]"
      ]
     },
     "execution_count": 4,
     "metadata": {},
     "output_type": "execute_result"
    }
   ],
   "source": [
    "df"
   ]
  },
  {
   "cell_type": "code",
   "execution_count": 5,
   "metadata": {},
   "outputs": [],
   "source": [
    "df['MFI'] = abstract.MFI(df, timeperiod=14)\n",
    "df['RSI'] = abstract.RSI(df, timeperiod=14)\n",
    "df['ADX'] = abstract.ADX(df, timeperiod=14)\n",
    "df['CCI'] = abstract.CCI(df, timeperiod=14)\n",
    "df['ATR'] = abstract.ATR(df, timeperiod=14)\n",
    "df['OBV'] = abstract.OBV(df, timeperiod=14)\n",
    "df['EMA'] = abstract.EMA(df, timeperiod=14)\n",
    "df['WILLR'] = abstract.WILLR(df, timeperiod=14)\n",
    "df['AD'] = abstract.AD(df, timeperiod=14)\n",
    "df['ADOSC'] = abstract.ADOSC(df, timeperiod=14)\n",
    "df['ADXR'] = abstract.ADXR(df, timeperiod=14)\n",
    "df['APO'] = abstract.APO(df, timeperiod=14)\n",
    "df['AROONOSC'] = abstract.AROONOSC(df, timeperiod=14)\n",
    "df['BOP'] = abstract.BOP(df, timeperiod=14)\n",
    "df['CCI'] = abstract.CCI(df, timeperiod=14)\n",
    "df['CMO'] = abstract.CMO(df, timeperiod=14)\n",
    "df['DX'] = abstract.DX(df, timeperiod=14)\n",
    "df['MOM'] = abstract.MOM(df, timeperiod=14)\n",
    "df['PPO'] = abstract.PPO(df, timeperiod=14)\n",
    "df['ROC'] = abstract.ROC(df, timeperiod=14)\n",
    "df['ROCP'] = abstract.ROCP(df, timeperiod=14)\n",
    "df['ROCR'] = abstract.ROCR(df, timeperiod=14)\n",
    "df['ROCR100'] = abstract.ROCR100(df, timeperiod=14)\n",
    "df['RSI'] = abstract.RSI(df, timeperiod=14)\n",
    "df['TRIX'] = abstract.TRIX(df, timeperiod=14)\n",
    "df['ULTOSC'] = abstract.ULTOSC(df, timeperiod=14)\n",
    "df['WILLR'] = abstract.WILLR(df, timeperiod=14)\n",
    "df['WMA'] = abstract.WMA(df, timeperiod=14)\n",
    "df['HT_TRENDLINE'] = abstract.HT_TRENDLINE(df, timeperiod=14)\n",
    "df['TRANGE'] = abstract.TRANGE(df, timeperiod=14)\n",
    "df['CLOSE_percent'] = df['close'].pct_change()"
   ]
  },
  {
   "cell_type": "code",
   "execution_count": 6,
   "metadata": {},
   "outputs": [],
   "source": [
    "df['UP'] = df['CLOSE_percent'].apply(lambda x: 1 if x > 0 else 0)\n",
    "df['DOWN'] = df['CLOSE_percent'].apply(lambda x: 1 if x < 0 else 0)\n",
    "df['UP'] = df['UP'].shift(-1) #shift UP DOWN 一個單位，因為我們要預測的是下一個時間點的漲跌\n",
    "df['DOWN'] = df['DOWN'].shift(-1)\n",
    "\n",
    "df = df.dropna()"
   ]
  },
  {
   "cell_type": "code",
   "execution_count": 7,
   "metadata": {},
   "outputs": [
    {
     "name": "stderr",
     "output_type": "stream",
     "text": [
      "C:\\Users\\李軒豪\\AppData\\Roaming\\Python\\Python310\\site-packages\\pandas\\core\\frame.py:3678: SettingWithCopyWarning: \n",
      "A value is trying to be set on a copy of a slice from a DataFrame.\n",
      "Try using .loc[row_indexer,col_indexer] = value instead\n",
      "\n",
      "See the caveats in the documentation: https://pandas.pydata.org/pandas-docs/stable/user_guide/indexing.html#returning-a-view-versus-a-copy\n",
      "  self[col] = igetitem(value, i)\n",
      "C:\\Users\\李軒豪\\AppData\\Roaming\\Python\\Python310\\site-packages\\pandas\\core\\frame.py:3678: SettingWithCopyWarning: \n",
      "A value is trying to be set on a copy of a slice from a DataFrame.\n",
      "Try using .loc[row_indexer,col_indexer] = value instead\n",
      "\n",
      "See the caveats in the documentation: https://pandas.pydata.org/pandas-docs/stable/user_guide/indexing.html#returning-a-view-versus-a-copy\n",
      "  self[col] = igetitem(value, i)\n"
     ]
    }
   ],
   "source": [
    "#正規化\n",
    "from sklearn.preprocessing import MinMaxScaler\n",
    "scaler = MinMaxScaler()\n",
    "df[['MFI','RSI','ADX','CCI','ATR','OBV','EMA','WILLR','AD','ADOSC','ADXR','APO','AROONOSC','BOP','CCI','CMO','DX','MOM','PPO','ROC','ROCP','ROCR','ROCR100','RSI','TRIX','ULTOSC','WILLR','WMA','HT_TRENDLINE','TRANGE']] = scaler.fit_transform(df[['MFI','RSI','ADX','CCI','ATR','OBV','EMA','WILLR','AD','ADOSC','ADXR','APO','AROONOSC','BOP','CCI','CMO','DX','MOM','PPO','ROC','ROCP','ROCR','ROCR100','RSI','TRIX','ULTOSC','WILLR','WMA','HT_TRENDLINE','TRANGE']])\n",
    "df[['open','high','low','close','volume']] = scaler.fit_transform(df[['open','high','low','close','volume']])"
   ]
  },
  {
   "cell_type": "code",
   "execution_count": 8,
   "metadata": {},
   "outputs": [],
   "source": [
    "X = df.drop(['UP','DOWN','time','CLOSE_percent'], axis=1)\n",
    "#y -> UP and DOWN\n",
    "y = df['UP'] #UP"
   ]
  },
  {
   "cell_type": "code",
   "execution_count": 9,
   "metadata": {},
   "outputs": [
    {
     "data": {
      "text/html": [
       "<div>\n",
       "<style scoped>\n",
       "    .dataframe tbody tr th:only-of-type {\n",
       "        vertical-align: middle;\n",
       "    }\n",
       "\n",
       "    .dataframe tbody tr th {\n",
       "        vertical-align: top;\n",
       "    }\n",
       "\n",
       "    .dataframe thead th {\n",
       "        text-align: right;\n",
       "    }\n",
       "</style>\n",
       "<table border=\"1\" class=\"dataframe\">\n",
       "  <thead>\n",
       "    <tr style=\"text-align: right;\">\n",
       "      <th></th>\n",
       "      <th>open</th>\n",
       "      <th>high</th>\n",
       "      <th>low</th>\n",
       "      <th>close</th>\n",
       "      <th>volume</th>\n",
       "      <th>MFI</th>\n",
       "      <th>RSI</th>\n",
       "      <th>ADX</th>\n",
       "      <th>CCI</th>\n",
       "      <th>ATR</th>\n",
       "      <th>...</th>\n",
       "      <th>PPO</th>\n",
       "      <th>ROC</th>\n",
       "      <th>ROCP</th>\n",
       "      <th>ROCR</th>\n",
       "      <th>ROCR100</th>\n",
       "      <th>TRIX</th>\n",
       "      <th>ULTOSC</th>\n",
       "      <th>WMA</th>\n",
       "      <th>HT_TRENDLINE</th>\n",
       "      <th>TRANGE</th>\n",
       "    </tr>\n",
       "  </thead>\n",
       "  <tbody>\n",
       "    <tr>\n",
       "      <th>63</th>\n",
       "      <td>0.068547</td>\n",
       "      <td>0.063779</td>\n",
       "      <td>0.070296</td>\n",
       "      <td>0.069147</td>\n",
       "      <td>0.009006</td>\n",
       "      <td>0.545123</td>\n",
       "      <td>0.573676</td>\n",
       "      <td>0.110529</td>\n",
       "      <td>0.663657</td>\n",
       "      <td>0.017247</td>\n",
       "      <td>...</td>\n",
       "      <td>0.665069</td>\n",
       "      <td>0.525270</td>\n",
       "      <td>0.525270</td>\n",
       "      <td>0.525270</td>\n",
       "      <td>0.525270</td>\n",
       "      <td>0.652433</td>\n",
       "      <td>0.483833</td>\n",
       "      <td>0.060348</td>\n",
       "      <td>0.056874</td>\n",
       "      <td>0.005730</td>\n",
       "    </tr>\n",
       "    <tr>\n",
       "      <th>64</th>\n",
       "      <td>0.069061</td>\n",
       "      <td>0.063711</td>\n",
       "      <td>0.070232</td>\n",
       "      <td>0.068538</td>\n",
       "      <td>0.005545</td>\n",
       "      <td>0.583632</td>\n",
       "      <td>0.478211</td>\n",
       "      <td>0.097099</td>\n",
       "      <td>0.543233</td>\n",
       "      <td>0.017270</td>\n",
       "      <td>...</td>\n",
       "      <td>0.663999</td>\n",
       "      <td>0.521721</td>\n",
       "      <td>0.521721</td>\n",
       "      <td>0.521721</td>\n",
       "      <td>0.521721</td>\n",
       "      <td>0.652979</td>\n",
       "      <td>0.423186</td>\n",
       "      <td>0.060335</td>\n",
       "      <td>0.056875</td>\n",
       "      <td>0.005697</td>\n",
       "    </tr>\n",
       "    <tr>\n",
       "      <th>65</th>\n",
       "      <td>0.068445</td>\n",
       "      <td>0.063783</td>\n",
       "      <td>0.070170</td>\n",
       "      <td>0.069236</td>\n",
       "      <td>0.006517</td>\n",
       "      <td>0.645869</td>\n",
       "      <td>0.569353</td>\n",
       "      <td>0.087159</td>\n",
       "      <td>0.630719</td>\n",
       "      <td>0.017612</td>\n",
       "      <td>...</td>\n",
       "      <td>0.664184</td>\n",
       "      <td>0.530577</td>\n",
       "      <td>0.530577</td>\n",
       "      <td>0.530577</td>\n",
       "      <td>0.530577</td>\n",
       "      <td>0.654181</td>\n",
       "      <td>0.571219</td>\n",
       "      <td>0.060415</td>\n",
       "      <td>0.056885</td>\n",
       "      <td>0.006910</td>\n",
       "    </tr>\n",
       "    <tr>\n",
       "      <th>66</th>\n",
       "      <td>0.069142</td>\n",
       "      <td>0.065076</td>\n",
       "      <td>0.070752</td>\n",
       "      <td>0.070208</td>\n",
       "      <td>0.028755</td>\n",
       "      <td>0.666238</td>\n",
       "      <td>0.661885</td>\n",
       "      <td>0.109944</td>\n",
       "      <td>0.828155</td>\n",
       "      <td>0.019634</td>\n",
       "      <td>...</td>\n",
       "      <td>0.666379</td>\n",
       "      <td>0.536803</td>\n",
       "      <td>0.536803</td>\n",
       "      <td>0.536803</td>\n",
       "      <td>0.536803</td>\n",
       "      <td>0.656909</td>\n",
       "      <td>0.610421</td>\n",
       "      <td>0.060617</td>\n",
       "      <td>0.056919</td>\n",
       "      <td>0.013368</td>\n",
       "    </tr>\n",
       "    <tr>\n",
       "      <th>67</th>\n",
       "      <td>0.070112</td>\n",
       "      <td>0.065230</td>\n",
       "      <td>0.071492</td>\n",
       "      <td>0.070131</td>\n",
       "      <td>0.014693</td>\n",
       "      <td>0.677433</td>\n",
       "      <td>0.650392</td>\n",
       "      <td>0.133758</td>\n",
       "      <td>0.750029</td>\n",
       "      <td>0.020111</td>\n",
       "      <td>...</td>\n",
       "      <td>0.668514</td>\n",
       "      <td>0.536073</td>\n",
       "      <td>0.536073</td>\n",
       "      <td>0.536073</td>\n",
       "      <td>0.536073</td>\n",
       "      <td>0.660414</td>\n",
       "      <td>0.595304</td>\n",
       "      <td>0.060796</td>\n",
       "      <td>0.056964</td>\n",
       "      <td>0.008062</td>\n",
       "    </tr>\n",
       "    <tr>\n",
       "      <th>...</th>\n",
       "      <td>...</td>\n",
       "      <td>...</td>\n",
       "      <td>...</td>\n",
       "      <td>...</td>\n",
       "      <td>...</td>\n",
       "      <td>...</td>\n",
       "      <td>...</td>\n",
       "      <td>...</td>\n",
       "      <td>...</td>\n",
       "      <td>...</td>\n",
       "      <td>...</td>\n",
       "      <td>...</td>\n",
       "      <td>...</td>\n",
       "      <td>...</td>\n",
       "      <td>...</td>\n",
       "      <td>...</td>\n",
       "      <td>...</td>\n",
       "      <td>...</td>\n",
       "      <td>...</td>\n",
       "      <td>...</td>\n",
       "      <td>...</td>\n",
       "    </tr>\n",
       "    <tr>\n",
       "      <th>113904</th>\n",
       "      <td>0.194818</td>\n",
       "      <td>0.189655</td>\n",
       "      <td>0.196764</td>\n",
       "      <td>0.194934</td>\n",
       "      <td>0.025318</td>\n",
       "      <td>0.234360</td>\n",
       "      <td>0.421736</td>\n",
       "      <td>0.425441</td>\n",
       "      <td>0.401437</td>\n",
       "      <td>0.004835</td>\n",
       "      <td>...</td>\n",
       "      <td>0.662153</td>\n",
       "      <td>0.516953</td>\n",
       "      <td>0.516953</td>\n",
       "      <td>0.516953</td>\n",
       "      <td>0.516953</td>\n",
       "      <td>0.655422</td>\n",
       "      <td>0.429195</td>\n",
       "      <td>0.188287</td>\n",
       "      <td>0.185677</td>\n",
       "      <td>0.001451</td>\n",
       "    </tr>\n",
       "    <tr>\n",
       "      <th>113905</th>\n",
       "      <td>0.194859</td>\n",
       "      <td>0.189656</td>\n",
       "      <td>0.196802</td>\n",
       "      <td>0.194917</td>\n",
       "      <td>0.016578</td>\n",
       "      <td>0.287359</td>\n",
       "      <td>0.416680</td>\n",
       "      <td>0.434927</td>\n",
       "      <td>0.416069</td>\n",
       "      <td>0.004536</td>\n",
       "      <td>...</td>\n",
       "      <td>0.661421</td>\n",
       "      <td>0.517084</td>\n",
       "      <td>0.517084</td>\n",
       "      <td>0.517084</td>\n",
       "      <td>0.517084</td>\n",
       "      <td>0.655338</td>\n",
       "      <td>0.442788</td>\n",
       "      <td>0.188263</td>\n",
       "      <td>0.185667</td>\n",
       "      <td>0.001116</td>\n",
       "    </tr>\n",
       "    <tr>\n",
       "      <th>113906</th>\n",
       "      <td>0.194838</td>\n",
       "      <td>0.189845</td>\n",
       "      <td>0.196865</td>\n",
       "      <td>0.195082</td>\n",
       "      <td>0.024758</td>\n",
       "      <td>0.297335</td>\n",
       "      <td>0.483630</td>\n",
       "      <td>0.419165</td>\n",
       "      <td>0.500923</td>\n",
       "      <td>0.004561</td>\n",
       "      <td>...</td>\n",
       "      <td>0.660866</td>\n",
       "      <td>0.517732</td>\n",
       "      <td>0.517732</td>\n",
       "      <td>0.517732</td>\n",
       "      <td>0.517732</td>\n",
       "      <td>0.655379</td>\n",
       "      <td>0.524410</td>\n",
       "      <td>0.188266</td>\n",
       "      <td>0.185665</td>\n",
       "      <td>0.002261</td>\n",
       "    </tr>\n",
       "    <tr>\n",
       "      <th>113907</th>\n",
       "      <td>0.195003</td>\n",
       "      <td>0.189980</td>\n",
       "      <td>0.197019</td>\n",
       "      <td>0.195190</td>\n",
       "      <td>0.023513</td>\n",
       "      <td>0.364064</td>\n",
       "      <td>0.522961</td>\n",
       "      <td>0.390650</td>\n",
       "      <td>0.601020</td>\n",
       "      <td>0.004538</td>\n",
       "      <td>...</td>\n",
       "      <td>0.661242</td>\n",
       "      <td>0.519734</td>\n",
       "      <td>0.519734</td>\n",
       "      <td>0.519734</td>\n",
       "      <td>0.519734</td>\n",
       "      <td>0.655573</td>\n",
       "      <td>0.614233</td>\n",
       "      <td>0.188287</td>\n",
       "      <td>0.185664</td>\n",
       "      <td>0.002086</td>\n",
       "    </tr>\n",
       "    <tr>\n",
       "      <th>113908</th>\n",
       "      <td>0.195116</td>\n",
       "      <td>0.190077</td>\n",
       "      <td>0.197155</td>\n",
       "      <td>0.195297</td>\n",
       "      <td>0.024179</td>\n",
       "      <td>0.426737</td>\n",
       "      <td>0.559136</td>\n",
       "      <td>0.358683</td>\n",
       "      <td>0.683898</td>\n",
       "      <td>0.004424</td>\n",
       "      <td>...</td>\n",
       "      <td>0.661617</td>\n",
       "      <td>0.519496</td>\n",
       "      <td>0.519496</td>\n",
       "      <td>0.519496</td>\n",
       "      <td>0.519496</td>\n",
       "      <td>0.655930</td>\n",
       "      <td>0.626364</td>\n",
       "      <td>0.188323</td>\n",
       "      <td>0.185668</td>\n",
       "      <td>0.001733</td>\n",
       "    </tr>\n",
       "  </tbody>\n",
       "</table>\n",
       "<p>113846 rows × 32 columns</p>\n",
       "</div>"
      ],
      "text/plain": [
       "            open      high       low     close    volume       MFI       RSI  \\\n",
       "63      0.068547  0.063779  0.070296  0.069147  0.009006  0.545123  0.573676   \n",
       "64      0.069061  0.063711  0.070232  0.068538  0.005545  0.583632  0.478211   \n",
       "65      0.068445  0.063783  0.070170  0.069236  0.006517  0.645869  0.569353   \n",
       "66      0.069142  0.065076  0.070752  0.070208  0.028755  0.666238  0.661885   \n",
       "67      0.070112  0.065230  0.071492  0.070131  0.014693  0.677433  0.650392   \n",
       "...          ...       ...       ...       ...       ...       ...       ...   \n",
       "113904  0.194818  0.189655  0.196764  0.194934  0.025318  0.234360  0.421736   \n",
       "113905  0.194859  0.189656  0.196802  0.194917  0.016578  0.287359  0.416680   \n",
       "113906  0.194838  0.189845  0.196865  0.195082  0.024758  0.297335  0.483630   \n",
       "113907  0.195003  0.189980  0.197019  0.195190  0.023513  0.364064  0.522961   \n",
       "113908  0.195116  0.190077  0.197155  0.195297  0.024179  0.426737  0.559136   \n",
       "\n",
       "             ADX       CCI       ATR  ...       PPO       ROC      ROCP  \\\n",
       "63      0.110529  0.663657  0.017247  ...  0.665069  0.525270  0.525270   \n",
       "64      0.097099  0.543233  0.017270  ...  0.663999  0.521721  0.521721   \n",
       "65      0.087159  0.630719  0.017612  ...  0.664184  0.530577  0.530577   \n",
       "66      0.109944  0.828155  0.019634  ...  0.666379  0.536803  0.536803   \n",
       "67      0.133758  0.750029  0.020111  ...  0.668514  0.536073  0.536073   \n",
       "...          ...       ...       ...  ...       ...       ...       ...   \n",
       "113904  0.425441  0.401437  0.004835  ...  0.662153  0.516953  0.516953   \n",
       "113905  0.434927  0.416069  0.004536  ...  0.661421  0.517084  0.517084   \n",
       "113906  0.419165  0.500923  0.004561  ...  0.660866  0.517732  0.517732   \n",
       "113907  0.390650  0.601020  0.004538  ...  0.661242  0.519734  0.519734   \n",
       "113908  0.358683  0.683898  0.004424  ...  0.661617  0.519496  0.519496   \n",
       "\n",
       "            ROCR   ROCR100      TRIX    ULTOSC       WMA  HT_TRENDLINE  \\\n",
       "63      0.525270  0.525270  0.652433  0.483833  0.060348      0.056874   \n",
       "64      0.521721  0.521721  0.652979  0.423186  0.060335      0.056875   \n",
       "65      0.530577  0.530577  0.654181  0.571219  0.060415      0.056885   \n",
       "66      0.536803  0.536803  0.656909  0.610421  0.060617      0.056919   \n",
       "67      0.536073  0.536073  0.660414  0.595304  0.060796      0.056964   \n",
       "...          ...       ...       ...       ...       ...           ...   \n",
       "113904  0.516953  0.516953  0.655422  0.429195  0.188287      0.185677   \n",
       "113905  0.517084  0.517084  0.655338  0.442788  0.188263      0.185667   \n",
       "113906  0.517732  0.517732  0.655379  0.524410  0.188266      0.185665   \n",
       "113907  0.519734  0.519734  0.655573  0.614233  0.188287      0.185664   \n",
       "113908  0.519496  0.519496  0.655930  0.626364  0.188323      0.185668   \n",
       "\n",
       "          TRANGE  \n",
       "63      0.005730  \n",
       "64      0.005697  \n",
       "65      0.006910  \n",
       "66      0.013368  \n",
       "67      0.008062  \n",
       "...          ...  \n",
       "113904  0.001451  \n",
       "113905  0.001116  \n",
       "113906  0.002261  \n",
       "113907  0.002086  \n",
       "113908  0.001733  \n",
       "\n",
       "[113846 rows x 32 columns]"
      ]
     },
     "execution_count": 9,
     "metadata": {},
     "output_type": "execute_result"
    }
   ],
   "source": [
    "X"
   ]
  },
  {
   "cell_type": "code",
   "execution_count": 10,
   "metadata": {},
   "outputs": [
    {
     "data": {
      "text/plain": [
       "1.0    57270\n",
       "0.0    56576\n",
       "Name: UP, dtype: int64"
      ]
     },
     "execution_count": 10,
     "metadata": {},
     "output_type": "execute_result"
    }
   ],
   "source": [
    "y.value_counts()"
   ]
  },
  {
   "cell_type": "code",
   "execution_count": 11,
   "metadata": {},
   "outputs": [],
   "source": [
    "X = X.values\n",
    "y = y.values"
   ]
  },
  {
   "cell_type": "code",
   "execution_count": 12,
   "metadata": {},
   "outputs": [],
   "source": [
    "X_train, X_test, y_train, y_test = train_test_split(X, y, test_size=0.25, random_state=1)"
   ]
  },
  {
   "cell_type": "code",
   "execution_count": 13,
   "metadata": {},
   "outputs": [
    {
     "data": {
      "text/plain": [
       "array([[0.45660004, 0.45706938, 0.45486613, ..., 0.45824923, 0.46015099,\n",
       "        0.08820994],\n",
       "       [0.46206755, 0.45785413, 0.46366982, ..., 0.45713222, 0.45609097,\n",
       "        0.01548531],\n",
       "       [0.06884395, 0.06353146, 0.07034482, ..., 0.06126379, 0.05825312,\n",
       "        0.00304351],\n",
       "       ...,\n",
       "       [0.04843619, 0.04305331, 0.04948957, ..., 0.04031012, 0.03686429,\n",
       "        0.00628749],\n",
       "       [0.65859559, 0.65750067, 0.66158932, ..., 0.65500844, 0.65230799,\n",
       "        0.03286739],\n",
       "       [0.27439417, 0.27277663, 0.27627633, ..., 0.27078841, 0.26937049,\n",
       "        0.03489873]])"
      ]
     },
     "execution_count": 13,
     "metadata": {},
     "output_type": "execute_result"
    }
   ],
   "source": [
    "X_train"
   ]
  },
  {
   "cell_type": "code",
   "execution_count": 14,
   "metadata": {},
   "outputs": [],
   "source": [
    "#random forest classifier with n_estimators=10 (default)\n",
    "model = RandomForestClassifier(\n",
    "    n_estimators=128)\n",
    "\n"
   ]
  },
  {
   "cell_type": "code",
   "execution_count": 15,
   "metadata": {},
   "outputs": [
    {
     "data": {
      "text/html": [
       "<style>#sk-container-id-1 {color: black;background-color: white;}#sk-container-id-1 pre{padding: 0;}#sk-container-id-1 div.sk-toggleable {background-color: white;}#sk-container-id-1 label.sk-toggleable__label {cursor: pointer;display: block;width: 100%;margin-bottom: 0;padding: 0.3em;box-sizing: border-box;text-align: center;}#sk-container-id-1 label.sk-toggleable__label-arrow:before {content: \"▸\";float: left;margin-right: 0.25em;color: #696969;}#sk-container-id-1 label.sk-toggleable__label-arrow:hover:before {color: black;}#sk-container-id-1 div.sk-estimator:hover label.sk-toggleable__label-arrow:before {color: black;}#sk-container-id-1 div.sk-toggleable__content {max-height: 0;max-width: 0;overflow: hidden;text-align: left;background-color: #f0f8ff;}#sk-container-id-1 div.sk-toggleable__content pre {margin: 0.2em;color: black;border-radius: 0.25em;background-color: #f0f8ff;}#sk-container-id-1 input.sk-toggleable__control:checked~div.sk-toggleable__content {max-height: 200px;max-width: 100%;overflow: auto;}#sk-container-id-1 input.sk-toggleable__control:checked~label.sk-toggleable__label-arrow:before {content: \"▾\";}#sk-container-id-1 div.sk-estimator input.sk-toggleable__control:checked~label.sk-toggleable__label {background-color: #d4ebff;}#sk-container-id-1 div.sk-label input.sk-toggleable__control:checked~label.sk-toggleable__label {background-color: #d4ebff;}#sk-container-id-1 input.sk-hidden--visually {border: 0;clip: rect(1px 1px 1px 1px);clip: rect(1px, 1px, 1px, 1px);height: 1px;margin: -1px;overflow: hidden;padding: 0;position: absolute;width: 1px;}#sk-container-id-1 div.sk-estimator {font-family: monospace;background-color: #f0f8ff;border: 1px dotted black;border-radius: 0.25em;box-sizing: border-box;margin-bottom: 0.5em;}#sk-container-id-1 div.sk-estimator:hover {background-color: #d4ebff;}#sk-container-id-1 div.sk-parallel-item::after {content: \"\";width: 100%;border-bottom: 1px solid gray;flex-grow: 1;}#sk-container-id-1 div.sk-label:hover label.sk-toggleable__label {background-color: #d4ebff;}#sk-container-id-1 div.sk-serial::before {content: \"\";position: absolute;border-left: 1px solid gray;box-sizing: border-box;top: 0;bottom: 0;left: 50%;z-index: 0;}#sk-container-id-1 div.sk-serial {display: flex;flex-direction: column;align-items: center;background-color: white;padding-right: 0.2em;padding-left: 0.2em;position: relative;}#sk-container-id-1 div.sk-item {position: relative;z-index: 1;}#sk-container-id-1 div.sk-parallel {display: flex;align-items: stretch;justify-content: center;background-color: white;position: relative;}#sk-container-id-1 div.sk-item::before, #sk-container-id-1 div.sk-parallel-item::before {content: \"\";position: absolute;border-left: 1px solid gray;box-sizing: border-box;top: 0;bottom: 0;left: 50%;z-index: -1;}#sk-container-id-1 div.sk-parallel-item {display: flex;flex-direction: column;z-index: 1;position: relative;background-color: white;}#sk-container-id-1 div.sk-parallel-item:first-child::after {align-self: flex-end;width: 50%;}#sk-container-id-1 div.sk-parallel-item:last-child::after {align-self: flex-start;width: 50%;}#sk-container-id-1 div.sk-parallel-item:only-child::after {width: 0;}#sk-container-id-1 div.sk-dashed-wrapped {border: 1px dashed gray;margin: 0 0.4em 0.5em 0.4em;box-sizing: border-box;padding-bottom: 0.4em;background-color: white;}#sk-container-id-1 div.sk-label label {font-family: monospace;font-weight: bold;display: inline-block;line-height: 1.2em;}#sk-container-id-1 div.sk-label-container {text-align: center;}#sk-container-id-1 div.sk-container {/* jupyter's `normalize.less` sets `[hidden] { display: none; }` but bootstrap.min.css set `[hidden] { display: none !important; }` so we also need the `!important` here to be able to override the default hidden behavior on the sphinx rendered scikit-learn.org. See: https://github.com/scikit-learn/scikit-learn/issues/21755 */display: inline-block !important;position: relative;}#sk-container-id-1 div.sk-text-repr-fallback {display: none;}</style><div id=\"sk-container-id-1\" class=\"sk-top-container\"><div class=\"sk-text-repr-fallback\"><pre>RandomForestClassifier(n_estimators=128)</pre><b>In a Jupyter environment, please rerun this cell to show the HTML representation or trust the notebook. <br />On GitHub, the HTML representation is unable to render, please try loading this page with nbviewer.org.</b></div><div class=\"sk-container\" hidden><div class=\"sk-item\"><div class=\"sk-estimator sk-toggleable\"><input class=\"sk-toggleable__control sk-hidden--visually\" id=\"sk-estimator-id-1\" type=\"checkbox\" checked><label for=\"sk-estimator-id-1\" class=\"sk-toggleable__label sk-toggleable__label-arrow\">RandomForestClassifier</label><div class=\"sk-toggleable__content\"><pre>RandomForestClassifier(n_estimators=128)</pre></div></div></div></div></div>"
      ],
      "text/plain": [
       "RandomForestClassifier(n_estimators=128)"
      ]
     },
     "execution_count": 15,
     "metadata": {},
     "output_type": "execute_result"
    }
   ],
   "source": [
    "#train the model using the training sets y_pred=clf.predict(X_test)\n",
    "model.fit(X_train,y_train)"
   ]
  },
  {
   "cell_type": "code",
   "execution_count": 16,
   "metadata": {},
   "outputs": [
    {
     "name": "stdout",
     "output_type": "stream",
     "text": [
      "0.5271941536083199\n"
     ]
    }
   ],
   "source": [
    "pred = model.predict(X_test)\n",
    "\n",
    "print(accuracy_score(y_test, pred))"
   ]
  },
  {
   "cell_type": "code",
   "execution_count": 17,
   "metadata": {},
   "outputs": [
    {
     "data": {
      "text/plain": [
       "array([1., 1., 1., ..., 0., 1., 1.])"
      ]
     },
     "execution_count": 17,
     "metadata": {},
     "output_type": "execute_result"
    }
   ],
   "source": [
    "pred"
   ]
  },
  {
   "cell_type": "code",
   "execution_count": 18,
   "metadata": {},
   "outputs": [
    {
     "data": {
      "text/plain": [
       "array([0.45660004, 0.45706938, 0.45486613, 0.45947973, 0.06942217,\n",
       "       0.51681164, 0.43555135, 0.14727653, 0.39895208, 0.16609507,\n",
       "       0.46466092, 0.45824186, 0.27686228, 0.79925654, 0.49706931,\n",
       "       0.15619416, 0.54233311, 0.07142857, 0.64559296, 0.43555135,\n",
       "       0.05408606, 0.49838958, 0.64838202, 0.50328912, 0.50328912,\n",
       "       0.50328912, 0.50328912, 0.64884387, 0.43747946, 0.45824923,\n",
       "       0.46015099, 0.08820994])"
      ]
     },
     "execution_count": 18,
     "metadata": {},
     "output_type": "execute_result"
    }
   ],
   "source": [
    "X_train[0]"
   ]
  },
  {
   "cell_type": "code",
   "execution_count": 19,
   "metadata": {},
   "outputs": [
    {
     "name": "stdout",
     "output_type": "stream",
     "text": [
      "1.0\n"
     ]
    }
   ],
   "source": [
    "test_ans = model.predict(X_train)\n",
    "print(accuracy_score(y_train, test_ans))"
   ]
  },
  {
   "cell_type": "code",
   "execution_count": 20,
   "metadata": {},
   "outputs": [
    {
     "data": {
      "text/plain": [
       "array([[7555, 6650],\n",
       "       [6807, 7450]], dtype=int64)"
      ]
     },
     "execution_count": 20,
     "metadata": {},
     "output_type": "execute_result"
    }
   ],
   "source": [
    "#confusion matrix\n",
    "confusion_matrix(y_test, pred)\n"
   ]
  },
  {
   "cell_type": "code",
   "execution_count": 21,
   "metadata": {},
   "outputs": [
    {
     "name": "stdout",
     "output_type": "stream",
     "text": [
      "              precision    recall  f1-score   support\n",
      "\n",
      "         0.0       0.53      0.53      0.53     14205\n",
      "         1.0       0.53      0.52      0.53     14257\n",
      "\n",
      "    accuracy                           0.53     28462\n",
      "   macro avg       0.53      0.53      0.53     28462\n",
      "weighted avg       0.53      0.53      0.53     28462\n",
      "\n"
     ]
    }
   ],
   "source": [
    "#classification report  \n",
    "print(classification_report(y_test, pred))"
   ]
  },
  {
   "cell_type": "code",
   "execution_count": 22,
   "metadata": {},
   "outputs": [
    {
     "name": "stdout",
     "output_type": "stream",
     "text": [
      "AUC: 0.53\n"
     ]
    }
   ],
   "source": [
    "#ROC curve\n",
    "fpr, tpr, thresholds = roc_curve(y_test, pred)\n",
    "auc = roc_auc_score(y_test, pred)\n",
    "print('AUC: %.2f' % auc)"
   ]
  },
  {
   "cell_type": "code",
   "execution_count": 23,
   "metadata": {},
   "outputs": [],
   "source": [
    "#save model\n",
    "import pickle\n",
    "filename = 'model.sav'\n",
    "pickle.dump(model, open(filename, 'wb'))\n"
   ]
  }
 ],
 "metadata": {
  "kernelspec": {
   "display_name": "Python 3",
   "language": "python",
   "name": "python3"
  },
  "language_info": {
   "codemirror_mode": {
    "name": "ipython",
    "version": 3
   },
   "file_extension": ".py",
   "mimetype": "text/x-python",
   "name": "python",
   "nbconvert_exporter": "python",
   "pygments_lexer": "ipython3",
   "version": "3.10.8 (tags/v3.10.8:aaaf517, Oct 11 2022, 16:50:30) [MSC v.1933 64 bit (AMD64)]"
  },
  "orig_nbformat": 4,
  "vscode": {
   "interpreter": {
    "hash": "26de051ba29f2982a8de78e945f0abaf191376122a1563185a90213a26c5da77"
   }
  }
 },
 "nbformat": 4,
 "nbformat_minor": 2
}
