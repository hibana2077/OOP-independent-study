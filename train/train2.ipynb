{
 "cells": [
  {
   "cell_type": "code",
   "execution_count": 1,
   "metadata": {},
   "outputs": [],
   "source": [
    "#using sklearn random forest classifier\n",
    "from sklearn.ensemble import RandomForestClassifier\n",
    "from sklearn.metrics import accuracy_score\n",
    "from sklearn.model_selection import train_test_split\n",
    "from sklearn.metrics import confusion_matrix\n",
    "from sklearn.metrics import classification_report\n",
    "from sklearn.metrics import roc_curve\n",
    "from sklearn.metrics import roc_auc_score\n",
    "from sklearn.metrics import precision_recall_curve\n",
    "from sklearn.metrics import f1_score\n",
    "from sklearn.metrics import auc\n",
    "from talib import abstract\n",
    "from ccxt import binance\n",
    "import pandas as pd\n",
    "import numpy as np\n",
    "import os"
   ]
  },
  {
   "cell_type": "code",
   "execution_count": 2,
   "metadata": {},
   "outputs": [],
   "source": [
    "os.remove(\"../data/BTC_USDT_15m.csv\")"
   ]
  },
  {
   "cell_type": "code",
   "execution_count": 3,
   "metadata": {},
   "outputs": [],
   "source": [
    "binance = binance()\n",
    "symbol = 'BTC/USDT'\n",
    "timeframe = '15m'\n",
    "file_name = f\"../data/{symbol.replace('/', '_')}_{timeframe}.csv\"\n",
    "start = binance.parse8601('2019-10-01T00:00:00Z')\n",
    "end = binance.parse8601('2022-12-30T00:00:00Z')\n",
    "cnt_time = start\n",
    "data = []\n",
    "while cnt_time < end:\n",
    "    ohlcv = binance.fetch_ohlcv(symbol, timeframe, cnt_time)\n",
    "    data += ohlcv\n",
    "    cnt_time = ohlcv[-1][0] + 900000 # 1h in ms    \n",
    "df = pd.DataFrame(data, columns=['time', 'open', 'high', 'low', 'close', 'volume'])\n",
    "df['time'] = pd.to_datetime(df['time'], unit='ms')\n",
    "df.to_csv(file_name, index=False)"
   ]
  },
  {
   "cell_type": "code",
   "execution_count": 4,
   "metadata": {},
   "outputs": [
    {
     "data": {
      "text/html": [
       "<div>\n",
       "<style scoped>\n",
       "    .dataframe tbody tr th:only-of-type {\n",
       "        vertical-align: middle;\n",
       "    }\n",
       "\n",
       "    .dataframe tbody tr th {\n",
       "        vertical-align: top;\n",
       "    }\n",
       "\n",
       "    .dataframe thead th {\n",
       "        text-align: right;\n",
       "    }\n",
       "</style>\n",
       "<table border=\"1\" class=\"dataframe\">\n",
       "  <thead>\n",
       "    <tr style=\"text-align: right;\">\n",
       "      <th></th>\n",
       "      <th>time</th>\n",
       "      <th>open</th>\n",
       "      <th>high</th>\n",
       "      <th>low</th>\n",
       "      <th>close</th>\n",
       "      <th>volume</th>\n",
       "    </tr>\n",
       "  </thead>\n",
       "  <tbody>\n",
       "    <tr>\n",
       "      <th>0</th>\n",
       "      <td>2019-10-01 00:00:00</td>\n",
       "      <td>8289.97</td>\n",
       "      <td>8310.08</td>\n",
       "      <td>8206.57</td>\n",
       "      <td>8243.39</td>\n",
       "      <td>1016.103644</td>\n",
       "    </tr>\n",
       "    <tr>\n",
       "      <th>1</th>\n",
       "      <td>2019-10-01 00:15:00</td>\n",
       "      <td>8242.94</td>\n",
       "      <td>8252.53</td>\n",
       "      <td>8210.01</td>\n",
       "      <td>8220.39</td>\n",
       "      <td>391.576024</td>\n",
       "    </tr>\n",
       "    <tr>\n",
       "      <th>2</th>\n",
       "      <td>2019-10-01 00:30:00</td>\n",
       "      <td>8220.78</td>\n",
       "      <td>8222.13</td>\n",
       "      <td>8188.00</td>\n",
       "      <td>8213.23</td>\n",
       "      <td>285.706881</td>\n",
       "    </tr>\n",
       "    <tr>\n",
       "      <th>3</th>\n",
       "      <td>2019-10-01 00:45:00</td>\n",
       "      <td>8213.23</td>\n",
       "      <td>8218.34</td>\n",
       "      <td>8195.36</td>\n",
       "      <td>8199.66</td>\n",
       "      <td>176.788254</td>\n",
       "    </tr>\n",
       "    <tr>\n",
       "      <th>4</th>\n",
       "      <td>2019-10-01 01:00:00</td>\n",
       "      <td>8199.21</td>\n",
       "      <td>8222.28</td>\n",
       "      <td>8173.05</td>\n",
       "      <td>8211.85</td>\n",
       "      <td>420.860704</td>\n",
       "    </tr>\n",
       "    <tr>\n",
       "      <th>...</th>\n",
       "      <td>...</td>\n",
       "      <td>...</td>\n",
       "      <td>...</td>\n",
       "      <td>...</td>\n",
       "      <td>...</td>\n",
       "      <td>...</td>\n",
       "    </tr>\n",
       "    <tr>\n",
       "      <th>113798</th>\n",
       "      <td>2022-12-31 02:45:00</td>\n",
       "      <td>16573.43</td>\n",
       "      <td>16579.79</td>\n",
       "      <td>16569.93</td>\n",
       "      <td>16575.94</td>\n",
       "      <td>771.456450</td>\n",
       "    </tr>\n",
       "    <tr>\n",
       "      <th>113799</th>\n",
       "      <td>2022-12-31 03:00:00</td>\n",
       "      <td>16576.18</td>\n",
       "      <td>16577.38</td>\n",
       "      <td>16569.61</td>\n",
       "      <td>16570.76</td>\n",
       "      <td>810.854950</td>\n",
       "    </tr>\n",
       "    <tr>\n",
       "      <th>113800</th>\n",
       "      <td>2022-12-31 03:15:00</td>\n",
       "      <td>16570.76</td>\n",
       "      <td>16574.11</td>\n",
       "      <td>16561.49</td>\n",
       "      <td>16565.41</td>\n",
       "      <td>996.310850</td>\n",
       "    </tr>\n",
       "    <tr>\n",
       "      <th>113801</th>\n",
       "      <td>2022-12-31 03:30:00</td>\n",
       "      <td>16565.09</td>\n",
       "      <td>16566.00</td>\n",
       "      <td>16552.08</td>\n",
       "      <td>16554.70</td>\n",
       "      <td>1116.508210</td>\n",
       "    </tr>\n",
       "    <tr>\n",
       "      <th>113802</th>\n",
       "      <td>2022-12-31 03:45:00</td>\n",
       "      <td>16555.26</td>\n",
       "      <td>16560.00</td>\n",
       "      <td>16552.51</td>\n",
       "      <td>16554.37</td>\n",
       "      <td>671.609490</td>\n",
       "    </tr>\n",
       "  </tbody>\n",
       "</table>\n",
       "<p>113803 rows × 6 columns</p>\n",
       "</div>"
      ],
      "text/plain": [
       "                      time      open      high       low     close  \\\n",
       "0      2019-10-01 00:00:00   8289.97   8310.08   8206.57   8243.39   \n",
       "1      2019-10-01 00:15:00   8242.94   8252.53   8210.01   8220.39   \n",
       "2      2019-10-01 00:30:00   8220.78   8222.13   8188.00   8213.23   \n",
       "3      2019-10-01 00:45:00   8213.23   8218.34   8195.36   8199.66   \n",
       "4      2019-10-01 01:00:00   8199.21   8222.28   8173.05   8211.85   \n",
       "...                    ...       ...       ...       ...       ...   \n",
       "113798 2022-12-31 02:45:00  16573.43  16579.79  16569.93  16575.94   \n",
       "113799 2022-12-31 03:00:00  16576.18  16577.38  16569.61  16570.76   \n",
       "113800 2022-12-31 03:15:00  16570.76  16574.11  16561.49  16565.41   \n",
       "113801 2022-12-31 03:30:00  16565.09  16566.00  16552.08  16554.70   \n",
       "113802 2022-12-31 03:45:00  16555.26  16560.00  16552.51  16554.37   \n",
       "\n",
       "             volume  \n",
       "0       1016.103644  \n",
       "1        391.576024  \n",
       "2        285.706881  \n",
       "3        176.788254  \n",
       "4        420.860704  \n",
       "...             ...  \n",
       "113798   771.456450  \n",
       "113799   810.854950  \n",
       "113800   996.310850  \n",
       "113801  1116.508210  \n",
       "113802   671.609490  \n",
       "\n",
       "[113803 rows x 6 columns]"
      ]
     },
     "execution_count": 4,
     "metadata": {},
     "output_type": "execute_result"
    }
   ],
   "source": [
    "df"
   ]
  },
  {
   "cell_type": "code",
   "execution_count": 5,
   "metadata": {},
   "outputs": [],
   "source": [
    "df['MFI'] = abstract.MFI(df, timeperiod=14)\n",
    "df['RSI'] = abstract.RSI(df, timeperiod=14)\n",
    "df['ADX'] = abstract.ADX(df, timeperiod=14)\n",
    "df['CCI'] = abstract.CCI(df, timeperiod=14)\n",
    "df['ATR'] = abstract.ATR(df, timeperiod=14)\n",
    "df['OBV'] = abstract.OBV(df, timeperiod=14)\n",
    "df['EMA'] = abstract.EMA(df, timeperiod=14)\n",
    "df['WILLR'] = abstract.WILLR(df, timeperiod=14)\n",
    "df['AD'] = abstract.AD(df, timeperiod=14)\n",
    "df['ADOSC'] = abstract.ADOSC(df, timeperiod=14)\n",
    "df['ADXR'] = abstract.ADXR(df, timeperiod=14)\n",
    "df['APO'] = abstract.APO(df, timeperiod=14)\n",
    "df['AROONOSC'] = abstract.AROONOSC(df, timeperiod=14)\n",
    "df['BOP'] = abstract.BOP(df, timeperiod=14)\n",
    "df['CCI'] = abstract.CCI(df, timeperiod=14)\n",
    "df['CMO'] = abstract.CMO(df, timeperiod=14)\n",
    "df['DX'] = abstract.DX(df, timeperiod=14)\n",
    "df['MOM'] = abstract.MOM(df, timeperiod=14)\n",
    "df['PPO'] = abstract.PPO(df, timeperiod=14)\n",
    "df['ROC'] = abstract.ROC(df, timeperiod=14)\n",
    "df['ROCP'] = abstract.ROCP(df, timeperiod=14)\n",
    "df['ROCR'] = abstract.ROCR(df, timeperiod=14)\n",
    "df['ROCR100'] = abstract.ROCR100(df, timeperiod=14)\n",
    "df['RSI'] = abstract.RSI(df, timeperiod=14)\n",
    "df['TRIX'] = abstract.TRIX(df, timeperiod=14)\n",
    "df['ULTOSC'] = abstract.ULTOSC(df, timeperiod=14)\n",
    "df['WILLR'] = abstract.WILLR(df, timeperiod=14)\n",
    "df['WMA'] = abstract.WMA(df, timeperiod=14)\n",
    "df['HT_TRENDLINE'] = abstract.HT_TRENDLINE(df, timeperiod=14)\n",
    "df['TRANGE'] = abstract.TRANGE(df, timeperiod=14)\n",
    "df['CLOSE_percent'] = df['close'].pct_change()"
   ]
  },
  {
   "cell_type": "code",
   "execution_count": 6,
   "metadata": {},
   "outputs": [],
   "source": [
    "df['UP'] = df['CLOSE_percent'].apply(lambda x: 1 if x > 0 else 0)\n",
    "df['DOWN'] = df['CLOSE_percent'].apply(lambda x: 1 if x < 0 else 0)\n",
    "df['UP'] = df['UP'].shift(-1) #shift UP DOWN 一個單位，因為我們要預測的是下一個時間點的漲跌\n",
    "df['DOWN'] = df['DOWN'].shift(-1)\n",
    "\n",
    "df = df.dropna()"
   ]
  },
  {
   "cell_type": "code",
   "execution_count": 7,
   "metadata": {},
   "outputs": [
    {
     "name": "stderr",
     "output_type": "stream",
     "text": [
      "C:\\Users\\李軒豪\\AppData\\Roaming\\Python\\Python310\\site-packages\\pandas\\core\\frame.py:3678: SettingWithCopyWarning: \n",
      "A value is trying to be set on a copy of a slice from a DataFrame.\n",
      "Try using .loc[row_indexer,col_indexer] = value instead\n",
      "\n",
      "See the caveats in the documentation: https://pandas.pydata.org/pandas-docs/stable/user_guide/indexing.html#returning-a-view-versus-a-copy\n",
      "  self[col] = igetitem(value, i)\n",
      "C:\\Users\\李軒豪\\AppData\\Roaming\\Python\\Python310\\site-packages\\pandas\\core\\frame.py:3678: SettingWithCopyWarning: \n",
      "A value is trying to be set on a copy of a slice from a DataFrame.\n",
      "Try using .loc[row_indexer,col_indexer] = value instead\n",
      "\n",
      "See the caveats in the documentation: https://pandas.pydata.org/pandas-docs/stable/user_guide/indexing.html#returning-a-view-versus-a-copy\n",
      "  self[col] = igetitem(value, i)\n"
     ]
    }
   ],
   "source": [
    "#正規化\n",
    "from sklearn.preprocessing import MinMaxScaler\n",
    "scaler = MinMaxScaler()\n",
    "df[['MFI','RSI','ADX','CCI','ATR','OBV','EMA','WILLR','AD','ADOSC','ADXR','APO','AROONOSC','BOP','CCI','CMO','DX','MOM','PPO','ROC','ROCP','ROCR','ROCR100','RSI','TRIX','ULTOSC','WILLR','WMA','HT_TRENDLINE','TRANGE']] = scaler.fit_transform(df[['MFI','RSI','ADX','CCI','ATR','OBV','EMA','WILLR','AD','ADOSC','ADXR','APO','AROONOSC','BOP','CCI','CMO','DX','MOM','PPO','ROC','ROCP','ROCR','ROCR100','RSI','TRIX','ULTOSC','WILLR','WMA','HT_TRENDLINE','TRANGE']])\n",
    "df[['open','high','low','close','volume']] = scaler.fit_transform(df[['open','high','low','close','volume']])"
   ]
  },
  {
   "cell_type": "code",
   "execution_count": 8,
   "metadata": {},
   "outputs": [],
   "source": [
    "X = df.drop(['UP','DOWN','time','CLOSE_percent'], axis=1)\n",
    "#y -> UP and DOWN\n",
    "y = df['UP'] #UP"
   ]
  },
  {
   "cell_type": "code",
   "execution_count": 9,
   "metadata": {},
   "outputs": [
    {
     "data": {
      "text/html": [
       "<div>\n",
       "<style scoped>\n",
       "    .dataframe tbody tr th:only-of-type {\n",
       "        vertical-align: middle;\n",
       "    }\n",
       "\n",
       "    .dataframe tbody tr th {\n",
       "        vertical-align: top;\n",
       "    }\n",
       "\n",
       "    .dataframe thead th {\n",
       "        text-align: right;\n",
       "    }\n",
       "</style>\n",
       "<table border=\"1\" class=\"dataframe\">\n",
       "  <thead>\n",
       "    <tr style=\"text-align: right;\">\n",
       "      <th></th>\n",
       "      <th>open</th>\n",
       "      <th>high</th>\n",
       "      <th>low</th>\n",
       "      <th>close</th>\n",
       "      <th>volume</th>\n",
       "      <th>MFI</th>\n",
       "      <th>RSI</th>\n",
       "      <th>ADX</th>\n",
       "      <th>CCI</th>\n",
       "      <th>ATR</th>\n",
       "      <th>...</th>\n",
       "      <th>PPO</th>\n",
       "      <th>ROC</th>\n",
       "      <th>ROCP</th>\n",
       "      <th>ROCR</th>\n",
       "      <th>ROCR100</th>\n",
       "      <th>TRIX</th>\n",
       "      <th>ULTOSC</th>\n",
       "      <th>WMA</th>\n",
       "      <th>HT_TRENDLINE</th>\n",
       "      <th>TRANGE</th>\n",
       "    </tr>\n",
       "  </thead>\n",
       "  <tbody>\n",
       "    <tr>\n",
       "      <th>63</th>\n",
       "      <td>0.068547</td>\n",
       "      <td>0.063779</td>\n",
       "      <td>0.070296</td>\n",
       "      <td>0.069147</td>\n",
       "      <td>0.009006</td>\n",
       "      <td>0.545123</td>\n",
       "      <td>0.573676</td>\n",
       "      <td>0.110529</td>\n",
       "      <td>0.663657</td>\n",
       "      <td>0.017247</td>\n",
       "      <td>...</td>\n",
       "      <td>0.665069</td>\n",
       "      <td>0.525270</td>\n",
       "      <td>0.525270</td>\n",
       "      <td>0.525270</td>\n",
       "      <td>0.525270</td>\n",
       "      <td>0.652433</td>\n",
       "      <td>0.483833</td>\n",
       "      <td>0.060348</td>\n",
       "      <td>0.056874</td>\n",
       "      <td>0.005730</td>\n",
       "    </tr>\n",
       "    <tr>\n",
       "      <th>64</th>\n",
       "      <td>0.069061</td>\n",
       "      <td>0.063711</td>\n",
       "      <td>0.070232</td>\n",
       "      <td>0.068538</td>\n",
       "      <td>0.005545</td>\n",
       "      <td>0.583632</td>\n",
       "      <td>0.478211</td>\n",
       "      <td>0.097099</td>\n",
       "      <td>0.543233</td>\n",
       "      <td>0.017270</td>\n",
       "      <td>...</td>\n",
       "      <td>0.663999</td>\n",
       "      <td>0.521721</td>\n",
       "      <td>0.521721</td>\n",
       "      <td>0.521721</td>\n",
       "      <td>0.521721</td>\n",
       "      <td>0.652979</td>\n",
       "      <td>0.423186</td>\n",
       "      <td>0.060335</td>\n",
       "      <td>0.056875</td>\n",
       "      <td>0.005697</td>\n",
       "    </tr>\n",
       "    <tr>\n",
       "      <th>65</th>\n",
       "      <td>0.068445</td>\n",
       "      <td>0.063783</td>\n",
       "      <td>0.070170</td>\n",
       "      <td>0.069236</td>\n",
       "      <td>0.006517</td>\n",
       "      <td>0.645869</td>\n",
       "      <td>0.569353</td>\n",
       "      <td>0.087159</td>\n",
       "      <td>0.630719</td>\n",
       "      <td>0.017612</td>\n",
       "      <td>...</td>\n",
       "      <td>0.664184</td>\n",
       "      <td>0.530577</td>\n",
       "      <td>0.530577</td>\n",
       "      <td>0.530577</td>\n",
       "      <td>0.530577</td>\n",
       "      <td>0.654181</td>\n",
       "      <td>0.571219</td>\n",
       "      <td>0.060415</td>\n",
       "      <td>0.056885</td>\n",
       "      <td>0.006910</td>\n",
       "    </tr>\n",
       "    <tr>\n",
       "      <th>66</th>\n",
       "      <td>0.069142</td>\n",
       "      <td>0.065076</td>\n",
       "      <td>0.070752</td>\n",
       "      <td>0.070208</td>\n",
       "      <td>0.028755</td>\n",
       "      <td>0.666238</td>\n",
       "      <td>0.661885</td>\n",
       "      <td>0.109944</td>\n",
       "      <td>0.828155</td>\n",
       "      <td>0.019634</td>\n",
       "      <td>...</td>\n",
       "      <td>0.666379</td>\n",
       "      <td>0.536803</td>\n",
       "      <td>0.536803</td>\n",
       "      <td>0.536803</td>\n",
       "      <td>0.536803</td>\n",
       "      <td>0.656909</td>\n",
       "      <td>0.610421</td>\n",
       "      <td>0.060617</td>\n",
       "      <td>0.056919</td>\n",
       "      <td>0.013368</td>\n",
       "    </tr>\n",
       "    <tr>\n",
       "      <th>67</th>\n",
       "      <td>0.070112</td>\n",
       "      <td>0.065230</td>\n",
       "      <td>0.071492</td>\n",
       "      <td>0.070131</td>\n",
       "      <td>0.014693</td>\n",
       "      <td>0.677433</td>\n",
       "      <td>0.650392</td>\n",
       "      <td>0.133758</td>\n",
       "      <td>0.750029</td>\n",
       "      <td>0.020111</td>\n",
       "      <td>...</td>\n",
       "      <td>0.668514</td>\n",
       "      <td>0.536073</td>\n",
       "      <td>0.536073</td>\n",
       "      <td>0.536073</td>\n",
       "      <td>0.536073</td>\n",
       "      <td>0.660414</td>\n",
       "      <td>0.595304</td>\n",
       "      <td>0.060796</td>\n",
       "      <td>0.056964</td>\n",
       "      <td>0.008062</td>\n",
       "    </tr>\n",
       "    <tr>\n",
       "      <th>...</th>\n",
       "      <td>...</td>\n",
       "      <td>...</td>\n",
       "      <td>...</td>\n",
       "      <td>...</td>\n",
       "      <td>...</td>\n",
       "      <td>...</td>\n",
       "      <td>...</td>\n",
       "      <td>...</td>\n",
       "      <td>...</td>\n",
       "      <td>...</td>\n",
       "      <td>...</td>\n",
       "      <td>...</td>\n",
       "      <td>...</td>\n",
       "      <td>...</td>\n",
       "      <td>...</td>\n",
       "      <td>...</td>\n",
       "      <td>...</td>\n",
       "      <td>...</td>\n",
       "      <td>...</td>\n",
       "      <td>...</td>\n",
       "      <td>...</td>\n",
       "    </tr>\n",
       "    <tr>\n",
       "      <th>113797</th>\n",
       "      <td>0.195580</td>\n",
       "      <td>0.190465</td>\n",
       "      <td>0.197587</td>\n",
       "      <td>0.195735</td>\n",
       "      <td>0.022960</td>\n",
       "      <td>0.436237</td>\n",
       "      <td>0.499643</td>\n",
       "      <td>0.160431</td>\n",
       "      <td>0.437095</td>\n",
       "      <td>0.006538</td>\n",
       "      <td>...</td>\n",
       "      <td>0.662161</td>\n",
       "      <td>0.517863</td>\n",
       "      <td>0.517863</td>\n",
       "      <td>0.517863</td>\n",
       "      <td>0.517863</td>\n",
       "      <td>0.662850</td>\n",
       "      <td>0.428888</td>\n",
       "      <td>0.189066</td>\n",
       "      <td>0.186483</td>\n",
       "      <td>0.001335</td>\n",
       "    </tr>\n",
       "    <tr>\n",
       "      <th>113798</th>\n",
       "      <td>0.195661</td>\n",
       "      <td>0.190537</td>\n",
       "      <td>0.197654</td>\n",
       "      <td>0.195780</td>\n",
       "      <td>0.019109</td>\n",
       "      <td>0.430939</td>\n",
       "      <td>0.514947</td>\n",
       "      <td>0.152548</td>\n",
       "      <td>0.463577</td>\n",
       "      <td>0.006189</td>\n",
       "      <td>...</td>\n",
       "      <td>0.660823</td>\n",
       "      <td>0.517987</td>\n",
       "      <td>0.517987</td>\n",
       "      <td>0.517987</td>\n",
       "      <td>0.517987</td>\n",
       "      <td>0.662195</td>\n",
       "      <td>0.500045</td>\n",
       "      <td>0.189051</td>\n",
       "      <td>0.186466</td>\n",
       "      <td>0.001382</td>\n",
       "    </tr>\n",
       "    <tr>\n",
       "      <th>113799</th>\n",
       "      <td>0.195704</td>\n",
       "      <td>0.190500</td>\n",
       "      <td>0.197649</td>\n",
       "      <td>0.195700</td>\n",
       "      <td>0.020085</td>\n",
       "      <td>0.347936</td>\n",
       "      <td>0.486486</td>\n",
       "      <td>0.144850</td>\n",
       "      <td>0.456942</td>\n",
       "      <td>0.005786</td>\n",
       "      <td>...</td>\n",
       "      <td>0.659909</td>\n",
       "      <td>0.515605</td>\n",
       "      <td>0.515605</td>\n",
       "      <td>0.515605</td>\n",
       "      <td>0.515605</td>\n",
       "      <td>0.661598</td>\n",
       "      <td>0.492841</td>\n",
       "      <td>0.189028</td>\n",
       "      <td>0.186446</td>\n",
       "      <td>0.001089</td>\n",
       "    </tr>\n",
       "    <tr>\n",
       "      <th>113800</th>\n",
       "      <td>0.195620</td>\n",
       "      <td>0.190449</td>\n",
       "      <td>0.197524</td>\n",
       "      <td>0.195618</td>\n",
       "      <td>0.024679</td>\n",
       "      <td>0.274824</td>\n",
       "      <td>0.458040</td>\n",
       "      <td>0.129274</td>\n",
       "      <td>0.424947</td>\n",
       "      <td>0.005592</td>\n",
       "      <td>...</td>\n",
       "      <td>0.659197</td>\n",
       "      <td>0.515861</td>\n",
       "      <td>0.515861</td>\n",
       "      <td>0.515861</td>\n",
       "      <td>0.515861</td>\n",
       "      <td>0.661014</td>\n",
       "      <td>0.465334</td>\n",
       "      <td>0.189001</td>\n",
       "      <td>0.186427</td>\n",
       "      <td>0.001769</td>\n",
       "    </tr>\n",
       "    <tr>\n",
       "      <th>113801</th>\n",
       "      <td>0.195533</td>\n",
       "      <td>0.190324</td>\n",
       "      <td>0.197378</td>\n",
       "      <td>0.195452</td>\n",
       "      <td>0.027656</td>\n",
       "      <td>0.273940</td>\n",
       "      <td>0.405980</td>\n",
       "      <td>0.124504</td>\n",
       "      <td>0.344704</td>\n",
       "      <td>0.005460</td>\n",
       "      <td>...</td>\n",
       "      <td>0.658763</td>\n",
       "      <td>0.516341</td>\n",
       "      <td>0.516341</td>\n",
       "      <td>0.516341</td>\n",
       "      <td>0.516341</td>\n",
       "      <td>0.660364</td>\n",
       "      <td>0.436284</td>\n",
       "      <td>0.188958</td>\n",
       "      <td>0.186392</td>\n",
       "      <td>0.001951</td>\n",
       "    </tr>\n",
       "  </tbody>\n",
       "</table>\n",
       "<p>113739 rows × 32 columns</p>\n",
       "</div>"
      ],
      "text/plain": [
       "            open      high       low     close    volume       MFI       RSI  \\\n",
       "63      0.068547  0.063779  0.070296  0.069147  0.009006  0.545123  0.573676   \n",
       "64      0.069061  0.063711  0.070232  0.068538  0.005545  0.583632  0.478211   \n",
       "65      0.068445  0.063783  0.070170  0.069236  0.006517  0.645869  0.569353   \n",
       "66      0.069142  0.065076  0.070752  0.070208  0.028755  0.666238  0.661885   \n",
       "67      0.070112  0.065230  0.071492  0.070131  0.014693  0.677433  0.650392   \n",
       "...          ...       ...       ...       ...       ...       ...       ...   \n",
       "113797  0.195580  0.190465  0.197587  0.195735  0.022960  0.436237  0.499643   \n",
       "113798  0.195661  0.190537  0.197654  0.195780  0.019109  0.430939  0.514947   \n",
       "113799  0.195704  0.190500  0.197649  0.195700  0.020085  0.347936  0.486486   \n",
       "113800  0.195620  0.190449  0.197524  0.195618  0.024679  0.274824  0.458040   \n",
       "113801  0.195533  0.190324  0.197378  0.195452  0.027656  0.273940  0.405980   \n",
       "\n",
       "             ADX       CCI       ATR  ...       PPO       ROC      ROCP  \\\n",
       "63      0.110529  0.663657  0.017247  ...  0.665069  0.525270  0.525270   \n",
       "64      0.097099  0.543233  0.017270  ...  0.663999  0.521721  0.521721   \n",
       "65      0.087159  0.630719  0.017612  ...  0.664184  0.530577  0.530577   \n",
       "66      0.109944  0.828155  0.019634  ...  0.666379  0.536803  0.536803   \n",
       "67      0.133758  0.750029  0.020111  ...  0.668514  0.536073  0.536073   \n",
       "...          ...       ...       ...  ...       ...       ...       ...   \n",
       "113797  0.160431  0.437095  0.006538  ...  0.662161  0.517863  0.517863   \n",
       "113798  0.152548  0.463577  0.006189  ...  0.660823  0.517987  0.517987   \n",
       "113799  0.144850  0.456942  0.005786  ...  0.659909  0.515605  0.515605   \n",
       "113800  0.129274  0.424947  0.005592  ...  0.659197  0.515861  0.515861   \n",
       "113801  0.124504  0.344704  0.005460  ...  0.658763  0.516341  0.516341   \n",
       "\n",
       "            ROCR   ROCR100      TRIX    ULTOSC       WMA  HT_TRENDLINE  \\\n",
       "63      0.525270  0.525270  0.652433  0.483833  0.060348      0.056874   \n",
       "64      0.521721  0.521721  0.652979  0.423186  0.060335      0.056875   \n",
       "65      0.530577  0.530577  0.654181  0.571219  0.060415      0.056885   \n",
       "66      0.536803  0.536803  0.656909  0.610421  0.060617      0.056919   \n",
       "67      0.536073  0.536073  0.660414  0.595304  0.060796      0.056964   \n",
       "...          ...       ...       ...       ...       ...           ...   \n",
       "113797  0.517863  0.517863  0.662850  0.428888  0.189066      0.186483   \n",
       "113798  0.517987  0.517987  0.662195  0.500045  0.189051      0.186466   \n",
       "113799  0.515605  0.515605  0.661598  0.492841  0.189028      0.186446   \n",
       "113800  0.515861  0.515861  0.661014  0.465334  0.189001      0.186427   \n",
       "113801  0.516341  0.516341  0.660364  0.436284  0.188958      0.186392   \n",
       "\n",
       "          TRANGE  \n",
       "63      0.005730  \n",
       "64      0.005697  \n",
       "65      0.006910  \n",
       "66      0.013368  \n",
       "67      0.008062  \n",
       "...          ...  \n",
       "113797  0.001335  \n",
       "113798  0.001382  \n",
       "113799  0.001089  \n",
       "113800  0.001769  \n",
       "113801  0.001951  \n",
       "\n",
       "[113739 rows x 32 columns]"
      ]
     },
     "execution_count": 9,
     "metadata": {},
     "output_type": "execute_result"
    }
   ],
   "source": [
    "X"
   ]
  },
  {
   "cell_type": "code",
   "execution_count": 10,
   "metadata": {},
   "outputs": [
    {
     "data": {
      "text/plain": [
       "1.0    57220\n",
       "0.0    56519\n",
       "Name: UP, dtype: int64"
      ]
     },
     "execution_count": 10,
     "metadata": {},
     "output_type": "execute_result"
    }
   ],
   "source": [
    "y.value_counts()"
   ]
  },
  {
   "cell_type": "code",
   "execution_count": 11,
   "metadata": {},
   "outputs": [],
   "source": [
    "X = X.values\n",
    "y = y.values"
   ]
  },
  {
   "cell_type": "code",
   "execution_count": 12,
   "metadata": {},
   "outputs": [],
   "source": [
    "X_train, X_test, y_train, y_test = train_test_split(X, y, test_size=0.25, random_state=1)"
   ]
  },
  {
   "cell_type": "code",
   "execution_count": 13,
   "metadata": {},
   "outputs": [
    {
     "data": {
      "text/plain": [
       "array([[0.07401561, 0.06894444, 0.07571084, ..., 0.06612936, 0.06294052,\n",
       "        0.00351595],\n",
       "       [0.24990375, 0.24593722, 0.25189686, ..., 0.24413769, 0.24185866,\n",
       "        0.01235629],\n",
       "       [0.28273195, 0.2782367 , 0.28370795, ..., 0.27735791, 0.27621881,\n",
       "        0.01706385],\n",
       "       ...,\n",
       "       [0.04843619, 0.04305331, 0.04948957, ..., 0.04031012, 0.03686429,\n",
       "        0.00628749],\n",
       "       [0.65859559, 0.65750067, 0.66158932, ..., 0.65500844, 0.65230799,\n",
       "        0.03286739],\n",
       "       [0.27439417, 0.27277663, 0.27627633, ..., 0.27078841, 0.26937049,\n",
       "        0.03489873]])"
      ]
     },
     "execution_count": 13,
     "metadata": {},
     "output_type": "execute_result"
    }
   ],
   "source": [
    "X_train"
   ]
  },
  {
   "cell_type": "code",
   "execution_count": 14,
   "metadata": {},
   "outputs": [],
   "source": [
    "#random forest classifier with n_estimators=10 (default)\n",
    "model = RandomForestClassifier(\n",
    "    n_estimators=120)\n",
    "\n"
   ]
  },
  {
   "cell_type": "code",
   "execution_count": 15,
   "metadata": {},
   "outputs": [
    {
     "data": {
      "text/html": [
       "<style>#sk-container-id-1 {color: black;background-color: white;}#sk-container-id-1 pre{padding: 0;}#sk-container-id-1 div.sk-toggleable {background-color: white;}#sk-container-id-1 label.sk-toggleable__label {cursor: pointer;display: block;width: 100%;margin-bottom: 0;padding: 0.3em;box-sizing: border-box;text-align: center;}#sk-container-id-1 label.sk-toggleable__label-arrow:before {content: \"▸\";float: left;margin-right: 0.25em;color: #696969;}#sk-container-id-1 label.sk-toggleable__label-arrow:hover:before {color: black;}#sk-container-id-1 div.sk-estimator:hover label.sk-toggleable__label-arrow:before {color: black;}#sk-container-id-1 div.sk-toggleable__content {max-height: 0;max-width: 0;overflow: hidden;text-align: left;background-color: #f0f8ff;}#sk-container-id-1 div.sk-toggleable__content pre {margin: 0.2em;color: black;border-radius: 0.25em;background-color: #f0f8ff;}#sk-container-id-1 input.sk-toggleable__control:checked~div.sk-toggleable__content {max-height: 200px;max-width: 100%;overflow: auto;}#sk-container-id-1 input.sk-toggleable__control:checked~label.sk-toggleable__label-arrow:before {content: \"▾\";}#sk-container-id-1 div.sk-estimator input.sk-toggleable__control:checked~label.sk-toggleable__label {background-color: #d4ebff;}#sk-container-id-1 div.sk-label input.sk-toggleable__control:checked~label.sk-toggleable__label {background-color: #d4ebff;}#sk-container-id-1 input.sk-hidden--visually {border: 0;clip: rect(1px 1px 1px 1px);clip: rect(1px, 1px, 1px, 1px);height: 1px;margin: -1px;overflow: hidden;padding: 0;position: absolute;width: 1px;}#sk-container-id-1 div.sk-estimator {font-family: monospace;background-color: #f0f8ff;border: 1px dotted black;border-radius: 0.25em;box-sizing: border-box;margin-bottom: 0.5em;}#sk-container-id-1 div.sk-estimator:hover {background-color: #d4ebff;}#sk-container-id-1 div.sk-parallel-item::after {content: \"\";width: 100%;border-bottom: 1px solid gray;flex-grow: 1;}#sk-container-id-1 div.sk-label:hover label.sk-toggleable__label {background-color: #d4ebff;}#sk-container-id-1 div.sk-serial::before {content: \"\";position: absolute;border-left: 1px solid gray;box-sizing: border-box;top: 0;bottom: 0;left: 50%;z-index: 0;}#sk-container-id-1 div.sk-serial {display: flex;flex-direction: column;align-items: center;background-color: white;padding-right: 0.2em;padding-left: 0.2em;position: relative;}#sk-container-id-1 div.sk-item {position: relative;z-index: 1;}#sk-container-id-1 div.sk-parallel {display: flex;align-items: stretch;justify-content: center;background-color: white;position: relative;}#sk-container-id-1 div.sk-item::before, #sk-container-id-1 div.sk-parallel-item::before {content: \"\";position: absolute;border-left: 1px solid gray;box-sizing: border-box;top: 0;bottom: 0;left: 50%;z-index: -1;}#sk-container-id-1 div.sk-parallel-item {display: flex;flex-direction: column;z-index: 1;position: relative;background-color: white;}#sk-container-id-1 div.sk-parallel-item:first-child::after {align-self: flex-end;width: 50%;}#sk-container-id-1 div.sk-parallel-item:last-child::after {align-self: flex-start;width: 50%;}#sk-container-id-1 div.sk-parallel-item:only-child::after {width: 0;}#sk-container-id-1 div.sk-dashed-wrapped {border: 1px dashed gray;margin: 0 0.4em 0.5em 0.4em;box-sizing: border-box;padding-bottom: 0.4em;background-color: white;}#sk-container-id-1 div.sk-label label {font-family: monospace;font-weight: bold;display: inline-block;line-height: 1.2em;}#sk-container-id-1 div.sk-label-container {text-align: center;}#sk-container-id-1 div.sk-container {/* jupyter's `normalize.less` sets `[hidden] { display: none; }` but bootstrap.min.css set `[hidden] { display: none !important; }` so we also need the `!important` here to be able to override the default hidden behavior on the sphinx rendered scikit-learn.org. See: https://github.com/scikit-learn/scikit-learn/issues/21755 */display: inline-block !important;position: relative;}#sk-container-id-1 div.sk-text-repr-fallback {display: none;}</style><div id=\"sk-container-id-1\" class=\"sk-top-container\"><div class=\"sk-text-repr-fallback\"><pre>RandomForestClassifier(n_estimators=120)</pre><b>In a Jupyter environment, please rerun this cell to show the HTML representation or trust the notebook. <br />On GitHub, the HTML representation is unable to render, please try loading this page with nbviewer.org.</b></div><div class=\"sk-container\" hidden><div class=\"sk-item\"><div class=\"sk-estimator sk-toggleable\"><input class=\"sk-toggleable__control sk-hidden--visually\" id=\"sk-estimator-id-1\" type=\"checkbox\" checked><label for=\"sk-estimator-id-1\" class=\"sk-toggleable__label sk-toggleable__label-arrow\">RandomForestClassifier</label><div class=\"sk-toggleable__content\"><pre>RandomForestClassifier(n_estimators=120)</pre></div></div></div></div></div>"
      ],
      "text/plain": [
       "RandomForestClassifier(n_estimators=120)"
      ]
     },
     "execution_count": 15,
     "metadata": {},
     "output_type": "execute_result"
    }
   ],
   "source": [
    "#train the model using the training sets y_pred=clf.predict(X_test)\n",
    "model.fit(X_train,y_train)"
   ]
  },
  {
   "cell_type": "code",
   "execution_count": 16,
   "metadata": {},
   "outputs": [
    {
     "name": "stdout",
     "output_type": "stream",
     "text": [
      "0.5304378406892913\n"
     ]
    }
   ],
   "source": [
    "pred = model.predict(X_test)\n",
    "\n",
    "print(accuracy_score(y_test, pred))"
   ]
  },
  {
   "cell_type": "code",
   "execution_count": 17,
   "metadata": {},
   "outputs": [
    {
     "data": {
      "text/plain": [
       "array([0., 1., 1., ..., 1., 1., 0.])"
      ]
     },
     "execution_count": 17,
     "metadata": {},
     "output_type": "execute_result"
    }
   ],
   "source": [
    "pred"
   ]
  },
  {
   "cell_type": "code",
   "execution_count": 18,
   "metadata": {},
   "outputs": [
    {
     "data": {
      "text/plain": [
       "array([0.07401561, 0.06894444, 0.07571084, 0.07419365, 0.00975678,\n",
       "       0.41563856, 0.42356651, 0.08950581, 0.44580353, 0.01745007,\n",
       "       0.24720223, 0.06370615, 0.47859029, 0.09165883, 0.51551069,\n",
       "       0.13764638, 0.55694102, 0.42857143, 0.61144338, 0.42356651,\n",
       "       0.15582398, 0.5204113 , 0.65045235, 0.51442521, 0.51442521,\n",
       "       0.51442521, 0.51442521, 0.63300074, 0.5385446 , 0.06612936,\n",
       "       0.06294052, 0.00351595])"
      ]
     },
     "execution_count": 18,
     "metadata": {},
     "output_type": "execute_result"
    }
   ],
   "source": [
    "X_train[0]"
   ]
  },
  {
   "cell_type": "code",
   "execution_count": 19,
   "metadata": {},
   "outputs": [
    {
     "name": "stdout",
     "output_type": "stream",
     "text": [
      "1.0\n"
     ]
    }
   ],
   "source": [
    "test_ans = model.predict(X_train)\n",
    "print(accuracy_score(y_train, test_ans))"
   ]
  },
  {
   "cell_type": "code",
   "execution_count": 20,
   "metadata": {},
   "outputs": [
    {
     "data": {
      "text/plain": [
       "array([[7566, 6765],\n",
       "       [6587, 7517]], dtype=int64)"
      ]
     },
     "execution_count": 20,
     "metadata": {},
     "output_type": "execute_result"
    }
   ],
   "source": [
    "#confusion matrix\n",
    "confusion_matrix(y_test, pred)\n"
   ]
  },
  {
   "cell_type": "code",
   "execution_count": 21,
   "metadata": {},
   "outputs": [
    {
     "name": "stdout",
     "output_type": "stream",
     "text": [
      "              precision    recall  f1-score   support\n",
      "\n",
      "         0.0       0.53      0.53      0.53     14331\n",
      "         1.0       0.53      0.53      0.53     14104\n",
      "\n",
      "    accuracy                           0.53     28435\n",
      "   macro avg       0.53      0.53      0.53     28435\n",
      "weighted avg       0.53      0.53      0.53     28435\n",
      "\n"
     ]
    }
   ],
   "source": [
    "#classification report  \n",
    "print(classification_report(y_test, pred))"
   ]
  },
  {
   "cell_type": "code",
   "execution_count": 22,
   "metadata": {},
   "outputs": [
    {
     "name": "stdout",
     "output_type": "stream",
     "text": [
      "AUC: 0.53\n"
     ]
    }
   ],
   "source": [
    "#ROC curve\n",
    "fpr, tpr, thresholds = roc_curve(y_test, pred)\n",
    "auc = roc_auc_score(y_test, pred)\n",
    "print('AUC: %.2f' % auc)"
   ]
  },
  {
   "cell_type": "code",
   "execution_count": null,
   "metadata": {},
   "outputs": [],
   "source": []
  }
 ],
 "metadata": {
  "kernelspec": {
   "display_name": "Python 3",
   "language": "python",
   "name": "python3"
  },
  "language_info": {
   "codemirror_mode": {
    "name": "ipython",
    "version": 3
   },
   "file_extension": ".py",
   "mimetype": "text/x-python",
   "name": "python",
   "nbconvert_exporter": "python",
   "pygments_lexer": "ipython3",
   "version": "3.10.8"
  },
  "orig_nbformat": 4,
  "vscode": {
   "interpreter": {
    "hash": "26de051ba29f2982a8de78e945f0abaf191376122a1563185a90213a26c5da77"
   }
  }
 },
 "nbformat": 4,
 "nbformat_minor": 2
}
