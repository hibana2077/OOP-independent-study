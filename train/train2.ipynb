{
 "cells": [
  {
   "attachments": {},
   "cell_type": "markdown",
   "metadata": {},
   "source": [
    "[![GitHub](https://img.shields.io/badge/Github-hibana2077-blue?style=plastic-square&logo=github)](https://github.com/hibana2077)\n",
    "[![Colab](https://img.shields.io/badge/Colab-Open%20in%20Colab-blue?style=plastic-square&logo=googlecolab)](https://colab.research.google.com/github/hibana2077/hibana2077/blob/master/train/train.ipynb)"
   ]
  },
  {
   "cell_type": "code",
   "execution_count": null,
   "metadata": {},
   "outputs": [],
   "source": [
    "# !wget http://prdownloads.sourceforge.net/ta-lib/ta-lib-0.4.0-src.tar.gz\n",
    "# !tar -xzvf ta-lib-0.4.0-src.tar.gz\n",
    "# %cd ta-lib\n",
    "# !./configure --prefix=/usr\n",
    "# !make\n",
    "# !make install\n",
    "# !pip install Ta-Lib"
   ]
  },
  {
   "cell_type": "code",
   "execution_count": 8,
   "metadata": {},
   "outputs": [],
   "source": [
    "#using sklearn random forest classifier\n",
    "from sklearn.ensemble import RandomForestClassifier\n",
    "from sklearn.metrics import accuracy_score\n",
    "from sklearn.model_selection import train_test_split\n",
    "from sklearn.metrics import confusion_matrix\n",
    "from sklearn.metrics import classification_report\n",
    "from sklearn.metrics import roc_curve\n",
    "from sklearn.metrics import roc_auc_score\n",
    "from sklearn.metrics import precision_recall_curve\n",
    "from sklearn.metrics import f1_score\n",
    "from sklearn.metrics import auc\n",
    "from talib import abstract\n",
    "from ccxt import binance,bybit\n",
    "import pandas as pd\n",
    "import numpy as np\n",
    "import os"
   ]
  },
  {
   "cell_type": "code",
   "execution_count": 2,
   "metadata": {},
   "outputs": [],
   "source": [
    "os.remove(\"../data/BTC_USDT_15m.csv\")"
   ]
  },
  {
   "cell_type": "code",
   "execution_count": 6,
   "metadata": {},
   "outputs": [
    {
     "data": {
      "text/plain": [
       "450000.0"
      ]
     },
     "execution_count": 6,
     "metadata": {},
     "output_type": "execute_result"
    }
   ],
   "source": [
    "900000/2"
   ]
  },
  {
   "cell_type": "code",
   "execution_count": 9,
   "metadata": {},
   "outputs": [],
   "source": [
    "binance = binance()\n",
    "symbol = 'BTC/USDT'\n",
    "timeframe = '5m'\n",
    "file_name = f\"../data/{symbol.replace('/', '_')}_{timeframe}.csv\"\n",
    "start = binance.parse8601('2019-10-01T00:00:00Z')\n",
    "end = binance.parse8601('2022-12-31T00:00:00Z')\n",
    "cnt_time = start\n",
    "data = []\n",
    "while cnt_time < end:\n",
    "    ohlcv = binance.fetch_ohlcv(symbol, timeframe, cnt_time)\n",
    "    data += ohlcv\n",
    "    cnt_time = ohlcv[-1][0] + 450000 # 1h in ms    \n",
    "df = pd.DataFrame(data, columns=['time', 'open', 'high', 'low', 'close', 'volume'])\n",
    "df['time'] = pd.to_datetime(df['time'], unit='ms')\n",
    "df.to_csv(file_name, index=False)"
   ]
  },
  {
   "cell_type": "code",
   "execution_count": 10,
   "metadata": {},
   "outputs": [
    {
     "data": {
      "text/html": [
       "<div>\n",
       "<style scoped>\n",
       "    .dataframe tbody tr th:only-of-type {\n",
       "        vertical-align: middle;\n",
       "    }\n",
       "\n",
       "    .dataframe tbody tr th {\n",
       "        vertical-align: top;\n",
       "    }\n",
       "\n",
       "    .dataframe thead th {\n",
       "        text-align: right;\n",
       "    }\n",
       "</style>\n",
       "<table border=\"1\" class=\"dataframe\">\n",
       "  <thead>\n",
       "    <tr style=\"text-align: right;\">\n",
       "      <th></th>\n",
       "      <th>time</th>\n",
       "      <th>open</th>\n",
       "      <th>high</th>\n",
       "      <th>low</th>\n",
       "      <th>close</th>\n",
       "      <th>volume</th>\n",
       "    </tr>\n",
       "  </thead>\n",
       "  <tbody>\n",
       "    <tr>\n",
       "      <th>0</th>\n",
       "      <td>2019-10-01 00:00:00</td>\n",
       "      <td>8289.97</td>\n",
       "      <td>8310.08</td>\n",
       "      <td>8238.01</td>\n",
       "      <td>8242.33</td>\n",
       "      <td>676.180919</td>\n",
       "    </tr>\n",
       "    <tr>\n",
       "      <th>1</th>\n",
       "      <td>2019-10-01 00:05:00</td>\n",
       "      <td>8241.55</td>\n",
       "      <td>8249.79</td>\n",
       "      <td>8230.03</td>\n",
       "      <td>8234.22</td>\n",
       "      <td>164.891499</td>\n",
       "    </tr>\n",
       "    <tr>\n",
       "      <th>2</th>\n",
       "      <td>2019-10-01 00:10:00</td>\n",
       "      <td>8235.52</td>\n",
       "      <td>8245.07</td>\n",
       "      <td>8206.57</td>\n",
       "      <td>8243.39</td>\n",
       "      <td>175.031226</td>\n",
       "    </tr>\n",
       "    <tr>\n",
       "      <th>3</th>\n",
       "      <td>2019-10-01 00:15:00</td>\n",
       "      <td>8242.94</td>\n",
       "      <td>8252.53</td>\n",
       "      <td>8235.18</td>\n",
       "      <td>8242.69</td>\n",
       "      <td>93.312935</td>\n",
       "    </tr>\n",
       "    <tr>\n",
       "      <th>4</th>\n",
       "      <td>2019-10-01 00:20:00</td>\n",
       "      <td>8239.17</td>\n",
       "      <td>8239.31</td>\n",
       "      <td>8210.01</td>\n",
       "      <td>8219.42</td>\n",
       "      <td>163.807780</td>\n",
       "    </tr>\n",
       "    <tr>\n",
       "      <th>...</th>\n",
       "      <td>...</td>\n",
       "      <td>...</td>\n",
       "      <td>...</td>\n",
       "      <td>...</td>\n",
       "      <td>...</td>\n",
       "      <td>...</td>\n",
       "    </tr>\n",
       "    <tr>\n",
       "      <th>340995</th>\n",
       "      <td>2023-01-01 02:50:00</td>\n",
       "      <td>16546.22</td>\n",
       "      <td>16547.24</td>\n",
       "      <td>16544.54</td>\n",
       "      <td>16546.33</td>\n",
       "      <td>309.266290</td>\n",
       "    </tr>\n",
       "    <tr>\n",
       "      <th>340996</th>\n",
       "      <td>2023-01-01 02:55:00</td>\n",
       "      <td>16545.77</td>\n",
       "      <td>16549.12</td>\n",
       "      <td>16545.01</td>\n",
       "      <td>16548.19</td>\n",
       "      <td>177.664020</td>\n",
       "    </tr>\n",
       "    <tr>\n",
       "      <th>340997</th>\n",
       "      <td>2023-01-01 03:00:00</td>\n",
       "      <td>16548.19</td>\n",
       "      <td>16548.19</td>\n",
       "      <td>16523.34</td>\n",
       "      <td>16529.36</td>\n",
       "      <td>910.837670</td>\n",
       "    </tr>\n",
       "    <tr>\n",
       "      <th>340998</th>\n",
       "      <td>2023-01-01 03:05:00</td>\n",
       "      <td>16529.36</td>\n",
       "      <td>16532.86</td>\n",
       "      <td>16526.00</td>\n",
       "      <td>16530.40</td>\n",
       "      <td>327.232960</td>\n",
       "    </tr>\n",
       "    <tr>\n",
       "      <th>340999</th>\n",
       "      <td>2023-01-01 03:10:00</td>\n",
       "      <td>16529.97</td>\n",
       "      <td>16531.43</td>\n",
       "      <td>16526.72</td>\n",
       "      <td>16527.87</td>\n",
       "      <td>321.351500</td>\n",
       "    </tr>\n",
       "  </tbody>\n",
       "</table>\n",
       "<p>341000 rows × 6 columns</p>\n",
       "</div>"
      ],
      "text/plain": [
       "                      time      open      high       low     close      volume\n",
       "0      2019-10-01 00:00:00   8289.97   8310.08   8238.01   8242.33  676.180919\n",
       "1      2019-10-01 00:05:00   8241.55   8249.79   8230.03   8234.22  164.891499\n",
       "2      2019-10-01 00:10:00   8235.52   8245.07   8206.57   8243.39  175.031226\n",
       "3      2019-10-01 00:15:00   8242.94   8252.53   8235.18   8242.69   93.312935\n",
       "4      2019-10-01 00:20:00   8239.17   8239.31   8210.01   8219.42  163.807780\n",
       "...                    ...       ...       ...       ...       ...         ...\n",
       "340995 2023-01-01 02:50:00  16546.22  16547.24  16544.54  16546.33  309.266290\n",
       "340996 2023-01-01 02:55:00  16545.77  16549.12  16545.01  16548.19  177.664020\n",
       "340997 2023-01-01 03:00:00  16548.19  16548.19  16523.34  16529.36  910.837670\n",
       "340998 2023-01-01 03:05:00  16529.36  16532.86  16526.00  16530.40  327.232960\n",
       "340999 2023-01-01 03:10:00  16529.97  16531.43  16526.72  16527.87  321.351500\n",
       "\n",
       "[341000 rows x 6 columns]"
      ]
     },
     "execution_count": 10,
     "metadata": {},
     "output_type": "execute_result"
    }
   ],
   "source": [
    "df"
   ]
  },
  {
   "cell_type": "code",
   "execution_count": 11,
   "metadata": {},
   "outputs": [],
   "source": [
    "df['MFI'] = abstract.MFI(df, timeperiod=14)\n",
    "df['RSI'] = abstract.RSI(df, timeperiod=14)\n",
    "df['ADX'] = abstract.ADX(df, timeperiod=14)\n",
    "df['CCI'] = abstract.CCI(df, timeperiod=14)\n",
    "df['ATR'] = abstract.ATR(df, timeperiod=14)\n",
    "df['OBV'] = abstract.OBV(df, timeperiod=14)\n",
    "df['EMA'] = abstract.EMA(df, timeperiod=14)\n",
    "df['WILLR'] = abstract.WILLR(df, timeperiod=14)\n",
    "df['AD'] = abstract.AD(df, timeperiod=14)\n",
    "df['ADOSC'] = abstract.ADOSC(df, timeperiod=14)\n",
    "df['ADXR'] = abstract.ADXR(df, timeperiod=14)\n",
    "df['APO'] = abstract.APO(df, timeperiod=14)\n",
    "df['AROONOSC'] = abstract.AROONOSC(df, timeperiod=14)\n",
    "df['BOP'] = abstract.BOP(df, timeperiod=14)\n",
    "df['CCI'] = abstract.CCI(df, timeperiod=14)\n",
    "df['CMO'] = abstract.CMO(df, timeperiod=14)\n",
    "df['DX'] = abstract.DX(df, timeperiod=14)\n",
    "df['MOM'] = abstract.MOM(df, timeperiod=14)\n",
    "df['PPO'] = abstract.PPO(df, timeperiod=14)\n",
    "df['ROC'] = abstract.ROC(df, timeperiod=14)\n",
    "df['ROCP'] = abstract.ROCP(df, timeperiod=14)\n",
    "df['ROCR'] = abstract.ROCR(df, timeperiod=14)\n",
    "df['ROCR100'] = abstract.ROCR100(df, timeperiod=14)\n",
    "df['RSI'] = abstract.RSI(df, timeperiod=14)\n",
    "df['TRIX'] = abstract.TRIX(df, timeperiod=14)\n",
    "df['ULTOSC'] = abstract.ULTOSC(df, timeperiod=14)\n",
    "df['WILLR'] = abstract.WILLR(df, timeperiod=14)\n",
    "df['WMA'] = abstract.WMA(df, timeperiod=14)\n",
    "df['HT_TRENDLINE'] = abstract.HT_TRENDLINE(df, timeperiod=14)\n",
    "df['TRANGE'] = abstract.TRANGE(df, timeperiod=14)\n",
    "df['CLOSE_percent'] = df['close'].pct_change()"
   ]
  },
  {
   "cell_type": "code",
   "execution_count": 12,
   "metadata": {},
   "outputs": [],
   "source": [
    "df['UP'] = df['CLOSE_percent'].apply(lambda x: 1 if x > 0 else 0)\n",
    "df['DOWN'] = df['CLOSE_percent'].apply(lambda x: 1 if x < 0 else 0)\n",
    "df['UP'] = df['UP'].shift(-1) #shift UP DOWN 一個單位，因為我們要預測的是下一個時間點的漲跌\n",
    "df['DOWN'] = df['DOWN'].shift(-1)\n",
    "\n",
    "df = df.dropna()"
   ]
  },
  {
   "cell_type": "code",
   "execution_count": 13,
   "metadata": {},
   "outputs": [
    {
     "name": "stderr",
     "output_type": "stream",
     "text": [
      "C:\\Users\\李軒豪\\AppData\\Roaming\\Python\\Python310\\site-packages\\pandas\\core\\frame.py:3678: SettingWithCopyWarning: \n",
      "A value is trying to be set on a copy of a slice from a DataFrame.\n",
      "Try using .loc[row_indexer,col_indexer] = value instead\n",
      "\n",
      "See the caveats in the documentation: https://pandas.pydata.org/pandas-docs/stable/user_guide/indexing.html#returning-a-view-versus-a-copy\n",
      "  self[col] = igetitem(value, i)\n",
      "C:\\Users\\李軒豪\\AppData\\Roaming\\Python\\Python310\\site-packages\\pandas\\core\\frame.py:3678: SettingWithCopyWarning: \n",
      "A value is trying to be set on a copy of a slice from a DataFrame.\n",
      "Try using .loc[row_indexer,col_indexer] = value instead\n",
      "\n",
      "See the caveats in the documentation: https://pandas.pydata.org/pandas-docs/stable/user_guide/indexing.html#returning-a-view-versus-a-copy\n",
      "  self[col] = igetitem(value, i)\n"
     ]
    }
   ],
   "source": [
    "#正規化\n",
    "from sklearn.preprocessing import MinMaxScaler\n",
    "scaler = MinMaxScaler()\n",
    "df[['MFI','RSI','ADX','CCI','ATR','OBV','EMA','WILLR','AD','ADOSC','ADXR','APO','AROONOSC','BOP','CCI','CMO','DX','MOM','PPO','ROC','ROCP','ROCR','ROCR100','RSI','TRIX','ULTOSC','WILLR','WMA','HT_TRENDLINE','TRANGE']] = scaler.fit_transform(df[['MFI','RSI','ADX','CCI','ATR','OBV','EMA','WILLR','AD','ADOSC','ADXR','APO','AROONOSC','BOP','CCI','CMO','DX','MOM','PPO','ROC','ROCP','ROCR','ROCR100','RSI','TRIX','ULTOSC','WILLR','WMA','HT_TRENDLINE','TRANGE']])\n",
    "df[['open','high','low','close','volume']] = scaler.fit_transform(df[['open','high','low','close','volume']])"
   ]
  },
  {
   "cell_type": "code",
   "execution_count": 14,
   "metadata": {},
   "outputs": [],
   "source": [
    "X = df.drop(['UP','DOWN','time','CLOSE_percent'], axis=1)\n",
    "#y -> UP and DOWN\n",
    "y = df['UP'] #UP"
   ]
  },
  {
   "cell_type": "code",
   "execution_count": 15,
   "metadata": {},
   "outputs": [
    {
     "data": {
      "text/html": [
       "<div>\n",
       "<style scoped>\n",
       "    .dataframe tbody tr th:only-of-type {\n",
       "        vertical-align: middle;\n",
       "    }\n",
       "\n",
       "    .dataframe tbody tr th {\n",
       "        vertical-align: top;\n",
       "    }\n",
       "\n",
       "    .dataframe thead th {\n",
       "        text-align: right;\n",
       "    }\n",
       "</style>\n",
       "<table border=\"1\" class=\"dataframe\">\n",
       "  <thead>\n",
       "    <tr style=\"text-align: right;\">\n",
       "      <th></th>\n",
       "      <th>open</th>\n",
       "      <th>high</th>\n",
       "      <th>low</th>\n",
       "      <th>close</th>\n",
       "      <th>volume</th>\n",
       "      <th>MFI</th>\n",
       "      <th>RSI</th>\n",
       "      <th>ADX</th>\n",
       "      <th>CCI</th>\n",
       "      <th>ATR</th>\n",
       "      <th>...</th>\n",
       "      <th>PPO</th>\n",
       "      <th>ROC</th>\n",
       "      <th>ROCP</th>\n",
       "      <th>ROCR</th>\n",
       "      <th>ROCR100</th>\n",
       "      <th>TRIX</th>\n",
       "      <th>ULTOSC</th>\n",
       "      <th>WMA</th>\n",
       "      <th>HT_TRENDLINE</th>\n",
       "      <th>TRANGE</th>\n",
       "    </tr>\n",
       "  </thead>\n",
       "  <tbody>\n",
       "    <tr>\n",
       "      <th>63</th>\n",
       "      <td>0.069941</td>\n",
       "      <td>0.066794</td>\n",
       "      <td>0.071348</td>\n",
       "      <td>0.069808</td>\n",
       "      <td>0.012331</td>\n",
       "      <td>0.661738</td>\n",
       "      <td>0.483007</td>\n",
       "      <td>0.165436</td>\n",
       "      <td>0.379781</td>\n",
       "      <td>0.010895</td>\n",
       "      <td>...</td>\n",
       "      <td>0.503713</td>\n",
       "      <td>0.382579</td>\n",
       "      <td>0.382579</td>\n",
       "      <td>0.382579</td>\n",
       "      <td>0.382579</td>\n",
       "      <td>0.598096</td>\n",
       "      <td>0.370193</td>\n",
       "      <td>0.065810</td>\n",
       "      <td>0.061314</td>\n",
       "      <td>0.003983</td>\n",
       "    </tr>\n",
       "    <tr>\n",
       "      <th>64</th>\n",
       "      <td>0.069707</td>\n",
       "      <td>0.066647</td>\n",
       "      <td>0.071265</td>\n",
       "      <td>0.069971</td>\n",
       "      <td>0.007189</td>\n",
       "      <td>0.602339</td>\n",
       "      <td>0.518361</td>\n",
       "      <td>0.159479</td>\n",
       "      <td>0.375967</td>\n",
       "      <td>0.010775</td>\n",
       "      <td>...</td>\n",
       "      <td>0.504393</td>\n",
       "      <td>0.384011</td>\n",
       "      <td>0.384011</td>\n",
       "      <td>0.384011</td>\n",
       "      <td>0.384011</td>\n",
       "      <td>0.595659</td>\n",
       "      <td>0.460342</td>\n",
       "      <td>0.065787</td>\n",
       "      <td>0.061316</td>\n",
       "      <td>0.003293</td>\n",
       "    </tr>\n",
       "    <tr>\n",
       "      <th>65</th>\n",
       "      <td>0.069866</td>\n",
       "      <td>0.066838</td>\n",
       "      <td>0.071483</td>\n",
       "      <td>0.070015</td>\n",
       "      <td>0.005445</td>\n",
       "      <td>0.599172</td>\n",
       "      <td>0.527829</td>\n",
       "      <td>0.145157</td>\n",
       "      <td>0.443669</td>\n",
       "      <td>0.010600</td>\n",
       "      <td>...</td>\n",
       "      <td>0.505099</td>\n",
       "      <td>0.382460</td>\n",
       "      <td>0.382460</td>\n",
       "      <td>0.382460</td>\n",
       "      <td>0.382460</td>\n",
       "      <td>0.593453</td>\n",
       "      <td>0.495088</td>\n",
       "      <td>0.065770</td>\n",
       "      <td>0.061316</td>\n",
       "      <td>0.003015</td>\n",
       "    </tr>\n",
       "    <tr>\n",
       "      <th>66</th>\n",
       "      <td>0.069931</td>\n",
       "      <td>0.066698</td>\n",
       "      <td>0.071391</td>\n",
       "      <td>0.069818</td>\n",
       "      <td>0.004796</td>\n",
       "      <td>0.541668</td>\n",
       "      <td>0.483205</td>\n",
       "      <td>0.135582</td>\n",
       "      <td>0.399074</td>\n",
       "      <td>0.010317</td>\n",
       "      <td>...</td>\n",
       "      <td>0.503023</td>\n",
       "      <td>0.379181</td>\n",
       "      <td>0.379181</td>\n",
       "      <td>0.379181</td>\n",
       "      <td>0.379181</td>\n",
       "      <td>0.591172</td>\n",
       "      <td>0.431068</td>\n",
       "      <td>0.065727</td>\n",
       "      <td>0.061299</td>\n",
       "      <td>0.002492</td>\n",
       "    </tr>\n",
       "    <tr>\n",
       "      <th>67</th>\n",
       "      <td>0.069734</td>\n",
       "      <td>0.066521</td>\n",
       "      <td>0.071265</td>\n",
       "      <td>0.069806</td>\n",
       "      <td>0.006702</td>\n",
       "      <td>0.450125</td>\n",
       "      <td>0.480447</td>\n",
       "      <td>0.131700</td>\n",
       "      <td>0.379396</td>\n",
       "      <td>0.009929</td>\n",
       "      <td>...</td>\n",
       "      <td>0.501570</td>\n",
       "      <td>0.377986</td>\n",
       "      <td>0.377986</td>\n",
       "      <td>0.377986</td>\n",
       "      <td>0.377986</td>\n",
       "      <td>0.588905</td>\n",
       "      <td>0.445980</td>\n",
       "      <td>0.065685</td>\n",
       "      <td>0.061281</td>\n",
       "      <td>0.001955</td>\n",
       "    </tr>\n",
       "    <tr>\n",
       "      <th>...</th>\n",
       "      <td>...</td>\n",
       "      <td>...</td>\n",
       "      <td>...</td>\n",
       "      <td>...</td>\n",
       "      <td>...</td>\n",
       "      <td>...</td>\n",
       "      <td>...</td>\n",
       "      <td>...</td>\n",
       "      <td>...</td>\n",
       "      <td>...</td>\n",
       "      <td>...</td>\n",
       "      <td>...</td>\n",
       "      <td>...</td>\n",
       "      <td>...</td>\n",
       "      <td>...</td>\n",
       "      <td>...</td>\n",
       "      <td>...</td>\n",
       "      <td>...</td>\n",
       "      <td>...</td>\n",
       "      <td>...</td>\n",
       "      <td>...</td>\n",
       "    </tr>\n",
       "    <tr>\n",
       "      <th>340994</th>\n",
       "      <td>0.195081</td>\n",
       "      <td>0.191859</td>\n",
       "      <td>0.196855</td>\n",
       "      <td>0.195275</td>\n",
       "      <td>0.016200</td>\n",
       "      <td>0.675832</td>\n",
       "      <td>0.531087</td>\n",
       "      <td>0.128412</td>\n",
       "      <td>0.444131</td>\n",
       "      <td>0.003952</td>\n",
       "      <td>...</td>\n",
       "      <td>0.506379</td>\n",
       "      <td>0.384672</td>\n",
       "      <td>0.384672</td>\n",
       "      <td>0.384672</td>\n",
       "      <td>0.384672</td>\n",
       "      <td>0.581174</td>\n",
       "      <td>0.494083</td>\n",
       "      <td>0.191896</td>\n",
       "      <td>0.187957</td>\n",
       "      <td>0.001461</td>\n",
       "    </tr>\n",
       "    <tr>\n",
       "      <th>340995</th>\n",
       "      <td>0.195195</td>\n",
       "      <td>0.191863</td>\n",
       "      <td>0.196954</td>\n",
       "      <td>0.195277</td>\n",
       "      <td>0.020469</td>\n",
       "      <td>0.673424</td>\n",
       "      <td>0.531854</td>\n",
       "      <td>0.115585</td>\n",
       "      <td>0.470624</td>\n",
       "      <td>0.003671</td>\n",
       "      <td>...</td>\n",
       "      <td>0.506002</td>\n",
       "      <td>0.384187</td>\n",
       "      <td>0.384187</td>\n",
       "      <td>0.384187</td>\n",
       "      <td>0.384187</td>\n",
       "      <td>0.581087</td>\n",
       "      <td>0.482614</td>\n",
       "      <td>0.191894</td>\n",
       "      <td>0.187959</td>\n",
       "      <td>0.000445</td>\n",
       "    </tr>\n",
       "    <tr>\n",
       "      <th>340996</th>\n",
       "      <td>0.195189</td>\n",
       "      <td>0.191892</td>\n",
       "      <td>0.196961</td>\n",
       "      <td>0.195306</td>\n",
       "      <td>0.011759</td>\n",
       "      <td>0.659282</td>\n",
       "      <td>0.545440</td>\n",
       "      <td>0.106894</td>\n",
       "      <td>0.491443</td>\n",
       "      <td>0.003463</td>\n",
       "      <td>...</td>\n",
       "      <td>0.505674</td>\n",
       "      <td>0.383715</td>\n",
       "      <td>0.383715</td>\n",
       "      <td>0.383715</td>\n",
       "      <td>0.383715</td>\n",
       "      <td>0.580995</td>\n",
       "      <td>0.509066</td>\n",
       "      <td>0.191894</td>\n",
       "      <td>0.187963</td>\n",
       "      <td>0.000677</td>\n",
       "    </tr>\n",
       "    <tr>\n",
       "      <th>340997</th>\n",
       "      <td>0.195226</td>\n",
       "      <td>0.191877</td>\n",
       "      <td>0.196627</td>\n",
       "      <td>0.195015</td>\n",
       "      <td>0.060284</td>\n",
       "      <td>0.508392</td>\n",
       "      <td>0.415726</td>\n",
       "      <td>0.118544</td>\n",
       "      <td>0.278598</td>\n",
       "      <td>0.004059</td>\n",
       "      <td>...</td>\n",
       "      <td>0.505376</td>\n",
       "      <td>0.381794</td>\n",
       "      <td>0.381794</td>\n",
       "      <td>0.381794</td>\n",
       "      <td>0.381794</td>\n",
       "      <td>0.580675</td>\n",
       "      <td>0.406061</td>\n",
       "      <td>0.191856</td>\n",
       "      <td>0.187962</td>\n",
       "      <td>0.004092</td>\n",
       "    </tr>\n",
       "    <tr>\n",
       "      <th>340998</th>\n",
       "      <td>0.194935</td>\n",
       "      <td>0.191641</td>\n",
       "      <td>0.196668</td>\n",
       "      <td>0.195031</td>\n",
       "      <td>0.021658</td>\n",
       "      <td>0.420283</td>\n",
       "      <td>0.424008</td>\n",
       "      <td>0.129361</td>\n",
       "      <td>0.287324</td>\n",
       "      <td>0.003928</td>\n",
       "      <td>...</td>\n",
       "      <td>0.505026</td>\n",
       "      <td>0.381323</td>\n",
       "      <td>0.381323</td>\n",
       "      <td>0.381323</td>\n",
       "      <td>0.381323</td>\n",
       "      <td>0.580229</td>\n",
       "      <td>0.382047</td>\n",
       "      <td>0.191822</td>\n",
       "      <td>0.187959</td>\n",
       "      <td>0.001130</td>\n",
       "    </tr>\n",
       "  </tbody>\n",
       "</table>\n",
       "<p>340936 rows × 32 columns</p>\n",
       "</div>"
      ],
      "text/plain": [
       "            open      high       low     close    volume       MFI       RSI  \\\n",
       "63      0.069941  0.066794  0.071348  0.069808  0.012331  0.661738  0.483007   \n",
       "64      0.069707  0.066647  0.071265  0.069971  0.007189  0.602339  0.518361   \n",
       "65      0.069866  0.066838  0.071483  0.070015  0.005445  0.599172  0.527829   \n",
       "66      0.069931  0.066698  0.071391  0.069818  0.004796  0.541668  0.483205   \n",
       "67      0.069734  0.066521  0.071265  0.069806  0.006702  0.450125  0.480447   \n",
       "...          ...       ...       ...       ...       ...       ...       ...   \n",
       "340994  0.195081  0.191859  0.196855  0.195275  0.016200  0.675832  0.531087   \n",
       "340995  0.195195  0.191863  0.196954  0.195277  0.020469  0.673424  0.531854   \n",
       "340996  0.195189  0.191892  0.196961  0.195306  0.011759  0.659282  0.545440   \n",
       "340997  0.195226  0.191877  0.196627  0.195015  0.060284  0.508392  0.415726   \n",
       "340998  0.194935  0.191641  0.196668  0.195031  0.021658  0.420283  0.424008   \n",
       "\n",
       "             ADX       CCI       ATR  ...       PPO       ROC      ROCP  \\\n",
       "63      0.165436  0.379781  0.010895  ...  0.503713  0.382579  0.382579   \n",
       "64      0.159479  0.375967  0.010775  ...  0.504393  0.384011  0.384011   \n",
       "65      0.145157  0.443669  0.010600  ...  0.505099  0.382460  0.382460   \n",
       "66      0.135582  0.399074  0.010317  ...  0.503023  0.379181  0.379181   \n",
       "67      0.131700  0.379396  0.009929  ...  0.501570  0.377986  0.377986   \n",
       "...          ...       ...       ...  ...       ...       ...       ...   \n",
       "340994  0.128412  0.444131  0.003952  ...  0.506379  0.384672  0.384672   \n",
       "340995  0.115585  0.470624  0.003671  ...  0.506002  0.384187  0.384187   \n",
       "340996  0.106894  0.491443  0.003463  ...  0.505674  0.383715  0.383715   \n",
       "340997  0.118544  0.278598  0.004059  ...  0.505376  0.381794  0.381794   \n",
       "340998  0.129361  0.287324  0.003928  ...  0.505026  0.381323  0.381323   \n",
       "\n",
       "            ROCR   ROCR100      TRIX    ULTOSC       WMA  HT_TRENDLINE  \\\n",
       "63      0.382579  0.382579  0.598096  0.370193  0.065810      0.061314   \n",
       "64      0.384011  0.384011  0.595659  0.460342  0.065787      0.061316   \n",
       "65      0.382460  0.382460  0.593453  0.495088  0.065770      0.061316   \n",
       "66      0.379181  0.379181  0.591172  0.431068  0.065727      0.061299   \n",
       "67      0.377986  0.377986  0.588905  0.445980  0.065685      0.061281   \n",
       "...          ...       ...       ...       ...       ...           ...   \n",
       "340994  0.384672  0.384672  0.581174  0.494083  0.191896      0.187957   \n",
       "340995  0.384187  0.384187  0.581087  0.482614  0.191894      0.187959   \n",
       "340996  0.383715  0.383715  0.580995  0.509066  0.191894      0.187963   \n",
       "340997  0.381794  0.381794  0.580675  0.406061  0.191856      0.187962   \n",
       "340998  0.381323  0.381323  0.580229  0.382047  0.191822      0.187959   \n",
       "\n",
       "          TRANGE  \n",
       "63      0.003983  \n",
       "64      0.003293  \n",
       "65      0.003015  \n",
       "66      0.002492  \n",
       "67      0.001955  \n",
       "...          ...  \n",
       "340994  0.001461  \n",
       "340995  0.000445  \n",
       "340996  0.000677  \n",
       "340997  0.004092  \n",
       "340998  0.001130  \n",
       "\n",
       "[340936 rows x 32 columns]"
      ]
     },
     "execution_count": 15,
     "metadata": {},
     "output_type": "execute_result"
    }
   ],
   "source": [
    "X"
   ]
  },
  {
   "cell_type": "code",
   "execution_count": 16,
   "metadata": {},
   "outputs": [
    {
     "data": {
      "text/plain": [
       "1.0    170470\n",
       "0.0    170466\n",
       "Name: UP, dtype: int64"
      ]
     },
     "execution_count": 16,
     "metadata": {},
     "output_type": "execute_result"
    }
   ],
   "source": [
    "y.value_counts()"
   ]
  },
  {
   "cell_type": "code",
   "execution_count": 17,
   "metadata": {},
   "outputs": [],
   "source": [
    "X = X.values\n",
    "y = y.values"
   ]
  },
  {
   "cell_type": "code",
   "execution_count": 18,
   "metadata": {},
   "outputs": [],
   "source": [
    "X_train, X_test, y_train, y_test = train_test_split(X, y, test_size=0.25, random_state=1)"
   ]
  },
  {
   "cell_type": "code",
   "execution_count": 19,
   "metadata": {},
   "outputs": [
    {
     "data": {
      "text/plain": [
       "array([[0.27632788, 0.27324343, 0.27784235, ..., 0.27207262, 0.26401881,\n",
       "        0.00713372],\n",
       "       [0.55146355, 0.54811184, 0.55207444, ..., 0.55059269, 0.55051342,\n",
       "        0.01876141],\n",
       "       [0.8267326 , 0.8229351 , 0.82676395, ..., 0.82821602, 0.82742852,\n",
       "        0.02502565],\n",
       "       ...,\n",
       "       [0.23931196, 0.2359925 , 0.24071207, ..., 0.23611055, 0.23174553,\n",
       "        0.00519055],\n",
       "       [0.57727593, 0.57396933, 0.57933603, ..., 0.57659318, 0.57578783,\n",
       "        0.00423379],\n",
       "       [0.30171433, 0.29868448, 0.30259586, ..., 0.29944291, 0.29626196,\n",
       "        0.0149179 ]])"
      ]
     },
     "execution_count": 19,
     "metadata": {},
     "output_type": "execute_result"
    }
   ],
   "source": [
    "X_train"
   ]
  },
  {
   "cell_type": "code",
   "execution_count": 20,
   "metadata": {},
   "outputs": [],
   "source": [
    "#random forest classifier with n_estimators=10 (default)\n",
    "model = RandomForestClassifier(\n",
    "    n_estimators=50,\n",
    "    max_depth=10)\n",
    "\n"
   ]
  },
  {
   "cell_type": "code",
   "execution_count": 21,
   "metadata": {},
   "outputs": [
    {
     "data": {
      "text/html": [
       "<style>#sk-container-id-1 {color: black;background-color: white;}#sk-container-id-1 pre{padding: 0;}#sk-container-id-1 div.sk-toggleable {background-color: white;}#sk-container-id-1 label.sk-toggleable__label {cursor: pointer;display: block;width: 100%;margin-bottom: 0;padding: 0.3em;box-sizing: border-box;text-align: center;}#sk-container-id-1 label.sk-toggleable__label-arrow:before {content: \"▸\";float: left;margin-right: 0.25em;color: #696969;}#sk-container-id-1 label.sk-toggleable__label-arrow:hover:before {color: black;}#sk-container-id-1 div.sk-estimator:hover label.sk-toggleable__label-arrow:before {color: black;}#sk-container-id-1 div.sk-toggleable__content {max-height: 0;max-width: 0;overflow: hidden;text-align: left;background-color: #f0f8ff;}#sk-container-id-1 div.sk-toggleable__content pre {margin: 0.2em;color: black;border-radius: 0.25em;background-color: #f0f8ff;}#sk-container-id-1 input.sk-toggleable__control:checked~div.sk-toggleable__content {max-height: 200px;max-width: 100%;overflow: auto;}#sk-container-id-1 input.sk-toggleable__control:checked~label.sk-toggleable__label-arrow:before {content: \"▾\";}#sk-container-id-1 div.sk-estimator input.sk-toggleable__control:checked~label.sk-toggleable__label {background-color: #d4ebff;}#sk-container-id-1 div.sk-label input.sk-toggleable__control:checked~label.sk-toggleable__label {background-color: #d4ebff;}#sk-container-id-1 input.sk-hidden--visually {border: 0;clip: rect(1px 1px 1px 1px);clip: rect(1px, 1px, 1px, 1px);height: 1px;margin: -1px;overflow: hidden;padding: 0;position: absolute;width: 1px;}#sk-container-id-1 div.sk-estimator {font-family: monospace;background-color: #f0f8ff;border: 1px dotted black;border-radius: 0.25em;box-sizing: border-box;margin-bottom: 0.5em;}#sk-container-id-1 div.sk-estimator:hover {background-color: #d4ebff;}#sk-container-id-1 div.sk-parallel-item::after {content: \"\";width: 100%;border-bottom: 1px solid gray;flex-grow: 1;}#sk-container-id-1 div.sk-label:hover label.sk-toggleable__label {background-color: #d4ebff;}#sk-container-id-1 div.sk-serial::before {content: \"\";position: absolute;border-left: 1px solid gray;box-sizing: border-box;top: 0;bottom: 0;left: 50%;z-index: 0;}#sk-container-id-1 div.sk-serial {display: flex;flex-direction: column;align-items: center;background-color: white;padding-right: 0.2em;padding-left: 0.2em;position: relative;}#sk-container-id-1 div.sk-item {position: relative;z-index: 1;}#sk-container-id-1 div.sk-parallel {display: flex;align-items: stretch;justify-content: center;background-color: white;position: relative;}#sk-container-id-1 div.sk-item::before, #sk-container-id-1 div.sk-parallel-item::before {content: \"\";position: absolute;border-left: 1px solid gray;box-sizing: border-box;top: 0;bottom: 0;left: 50%;z-index: -1;}#sk-container-id-1 div.sk-parallel-item {display: flex;flex-direction: column;z-index: 1;position: relative;background-color: white;}#sk-container-id-1 div.sk-parallel-item:first-child::after {align-self: flex-end;width: 50%;}#sk-container-id-1 div.sk-parallel-item:last-child::after {align-self: flex-start;width: 50%;}#sk-container-id-1 div.sk-parallel-item:only-child::after {width: 0;}#sk-container-id-1 div.sk-dashed-wrapped {border: 1px dashed gray;margin: 0 0.4em 0.5em 0.4em;box-sizing: border-box;padding-bottom: 0.4em;background-color: white;}#sk-container-id-1 div.sk-label label {font-family: monospace;font-weight: bold;display: inline-block;line-height: 1.2em;}#sk-container-id-1 div.sk-label-container {text-align: center;}#sk-container-id-1 div.sk-container {/* jupyter's `normalize.less` sets `[hidden] { display: none; }` but bootstrap.min.css set `[hidden] { display: none !important; }` so we also need the `!important` here to be able to override the default hidden behavior on the sphinx rendered scikit-learn.org. See: https://github.com/scikit-learn/scikit-learn/issues/21755 */display: inline-block !important;position: relative;}#sk-container-id-1 div.sk-text-repr-fallback {display: none;}</style><div id=\"sk-container-id-1\" class=\"sk-top-container\"><div class=\"sk-text-repr-fallback\"><pre>RandomForestClassifier(max_depth=10, n_estimators=50)</pre><b>In a Jupyter environment, please rerun this cell to show the HTML representation or trust the notebook. <br />On GitHub, the HTML representation is unable to render, please try loading this page with nbviewer.org.</b></div><div class=\"sk-container\" hidden><div class=\"sk-item\"><div class=\"sk-estimator sk-toggleable\"><input class=\"sk-toggleable__control sk-hidden--visually\" id=\"sk-estimator-id-1\" type=\"checkbox\" checked><label for=\"sk-estimator-id-1\" class=\"sk-toggleable__label sk-toggleable__label-arrow\">RandomForestClassifier</label><div class=\"sk-toggleable__content\"><pre>RandomForestClassifier(max_depth=10, n_estimators=50)</pre></div></div></div></div></div>"
      ],
      "text/plain": [
       "RandomForestClassifier(max_depth=10, n_estimators=50)"
      ]
     },
     "execution_count": 21,
     "metadata": {},
     "output_type": "execute_result"
    }
   ],
   "source": [
    "#train the model using the training sets y_pred=clf.predict(X_test)\n",
    "model.fit(X_train,y_train)"
   ]
  },
  {
   "cell_type": "code",
   "execution_count": 22,
   "metadata": {},
   "outputs": [
    {
     "name": "stdout",
     "output_type": "stream",
     "text": [
      "0.5354436023183237\n"
     ]
    }
   ],
   "source": [
    "pred = model.predict(X_test)\n",
    "\n",
    "print(accuracy_score(y_test, pred))"
   ]
  },
  {
   "cell_type": "code",
   "execution_count": 23,
   "metadata": {},
   "outputs": [
    {
     "data": {
      "text/plain": [
       "array([0., 1., 0., ..., 1., 0., 1.])"
      ]
     },
     "execution_count": 23,
     "metadata": {},
     "output_type": "execute_result"
    }
   ],
   "source": [
    "pred"
   ]
  },
  {
   "cell_type": "code",
   "execution_count": 24,
   "metadata": {},
   "outputs": [
    {
     "data": {
      "text/plain": [
       "array([0.27632788, 0.27324343, 0.27784235, 0.27628661, 0.04427659,\n",
       "       0.81135933, 0.75767514, 0.5501772 , 0.58722876, 0.04723819,\n",
       "       0.26102265, 0.27028821, 0.85444184, 0.76397494, 0.46387704,\n",
       "       0.39034977, 0.58184128, 0.96428571, 0.41539705, 0.75767514,\n",
       "       0.78085378, 0.63713659, 0.55509546, 0.42401154, 0.42401154,\n",
       "       0.42401154, 0.42401154, 0.64998448, 0.63925663, 0.27207262,\n",
       "       0.26401881, 0.00713372])"
      ]
     },
     "execution_count": 24,
     "metadata": {},
     "output_type": "execute_result"
    }
   ],
   "source": [
    "X_train[0]"
   ]
  },
  {
   "cell_type": "code",
   "execution_count": 25,
   "metadata": {},
   "outputs": [
    {
     "name": "stdout",
     "output_type": "stream",
     "text": [
      "0.6026742066937294\n"
     ]
    }
   ],
   "source": [
    "test_ans = model.predict(X_train)\n",
    "print(accuracy_score(y_train, test_ans))"
   ]
  },
  {
   "cell_type": "code",
   "execution_count": 26,
   "metadata": {},
   "outputs": [
    {
     "data": {
      "text/plain": [
       "array([[21938, 20520],\n",
       "       [19076, 23700]], dtype=int64)"
      ]
     },
     "execution_count": 26,
     "metadata": {},
     "output_type": "execute_result"
    }
   ],
   "source": [
    "#confusion matrix\n",
    "confusion_matrix(y_test, pred)\n"
   ]
  },
  {
   "cell_type": "code",
   "execution_count": 27,
   "metadata": {},
   "outputs": [
    {
     "name": "stdout",
     "output_type": "stream",
     "text": [
      "              precision    recall  f1-score   support\n",
      "\n",
      "         0.0       0.53      0.52      0.53     42458\n",
      "         1.0       0.54      0.55      0.54     42776\n",
      "\n",
      "    accuracy                           0.54     85234\n",
      "   macro avg       0.54      0.54      0.54     85234\n",
      "weighted avg       0.54      0.54      0.54     85234\n",
      "\n"
     ]
    }
   ],
   "source": [
    "#classification report  \n",
    "print(classification_report(y_test, pred))"
   ]
  },
  {
   "cell_type": "code",
   "execution_count": 28,
   "metadata": {},
   "outputs": [
    {
     "name": "stdout",
     "output_type": "stream",
     "text": [
      "AUC: 0.54\n"
     ]
    }
   ],
   "source": [
    "#ROC curve\n",
    "fpr, tpr, thresholds = roc_curve(y_test, pred)\n",
    "auc = roc_auc_score(y_test, pred)\n",
    "print('AUC: %.2f' % auc)"
   ]
  },
  {
   "cell_type": "code",
   "execution_count": 29,
   "metadata": {},
   "outputs": [],
   "source": [
    "#save model\n",
    "import pickle\n",
    "filename = 'RFCV2.sav'\n",
    "pickle.dump(model, open(filename, 'wb'))\n"
   ]
  }
 ],
 "metadata": {
  "kernelspec": {
   "display_name": "Python 3",
   "language": "python",
   "name": "python3"
  },
  "language_info": {
   "codemirror_mode": {
    "name": "ipython",
    "version": 3
   },
   "file_extension": ".py",
   "mimetype": "text/x-python",
   "name": "python",
   "nbconvert_exporter": "python",
   "pygments_lexer": "ipython3",
   "version": "3.10.8"
  },
  "orig_nbformat": 4,
  "vscode": {
   "interpreter": {
    "hash": "26de051ba29f2982a8de78e945f0abaf191376122a1563185a90213a26c5da77"
   }
  }
 },
 "nbformat": 4,
 "nbformat_minor": 2
}
