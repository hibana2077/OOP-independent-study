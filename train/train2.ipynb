{
 "cells": [
  {
   "cell_type": "code",
   "execution_count": 1,
   "metadata": {},
   "outputs": [],
   "source": [
    "#using sklearn random forest classifier\n",
    "from sklearn.ensemble import RandomForestClassifier\n",
    "from sklearn.metrics import accuracy_score\n",
    "from sklearn.model_selection import train_test_split\n",
    "from sklearn.metrics import confusion_matrix\n",
    "from sklearn.metrics import classification_report\n",
    "from sklearn.metrics import roc_curve\n",
    "from sklearn.metrics import roc_auc_score\n",
    "from sklearn.metrics import precision_recall_curve\n",
    "from sklearn.metrics import f1_score\n",
    "from sklearn.metrics import auc\n",
    "from talib import abstract\n",
    "from ccxt import binance\n",
    "import pandas as pd\n",
    "import numpy as np\n",
    "import os"
   ]
  },
  {
   "cell_type": "code",
   "execution_count": 2,
   "metadata": {},
   "outputs": [],
   "source": [
    "os.remove(\"../data/BTC_USDT_30m.csv\")"
   ]
  },
  {
   "cell_type": "code",
   "execution_count": 3,
   "metadata": {},
   "outputs": [],
   "source": [
    "binance = binance()\n",
    "symbol = 'BTC/USDT'\n",
    "timeframe = '30m'\n",
    "file_name = f\"../data/{symbol.replace('/', '_')}_{timeframe}.csv\"\n",
    "start = binance.parse8601('2019-10-01T00:00:00Z')\n",
    "end = binance.parse8601('2022-12-30T00:00:00Z')\n",
    "cnt_time = start\n",
    "data = []\n",
    "while cnt_time < end:\n",
    "    ohlcv = binance.fetch_ohlcv(symbol, timeframe, cnt_time)\n",
    "    data += ohlcv\n",
    "    cnt_time = ohlcv[-1][0] + 1800000 # 1h in ms    \n",
    "df = pd.DataFrame(data, columns=['time', 'open', 'high', 'low', 'close', 'volume'])\n",
    "df['time'] = pd.to_datetime(df['time'], unit='ms')\n",
    "df.to_csv(file_name, index=False)"
   ]
  },
  {
   "cell_type": "code",
   "execution_count": 4,
   "metadata": {},
   "outputs": [
    {
     "data": {
      "text/html": [
       "<div>\n",
       "<style scoped>\n",
       "    .dataframe tbody tr th:only-of-type {\n",
       "        vertical-align: middle;\n",
       "    }\n",
       "\n",
       "    .dataframe tbody tr th {\n",
       "        vertical-align: top;\n",
       "    }\n",
       "\n",
       "    .dataframe thead th {\n",
       "        text-align: right;\n",
       "    }\n",
       "</style>\n",
       "<table border=\"1\" class=\"dataframe\">\n",
       "  <thead>\n",
       "    <tr style=\"text-align: right;\">\n",
       "      <th></th>\n",
       "      <th>time</th>\n",
       "      <th>open</th>\n",
       "      <th>high</th>\n",
       "      <th>low</th>\n",
       "      <th>close</th>\n",
       "      <th>volume</th>\n",
       "    </tr>\n",
       "  </thead>\n",
       "  <tbody>\n",
       "    <tr>\n",
       "      <th>0</th>\n",
       "      <td>2019-10-01 00:00:00</td>\n",
       "      <td>8289.97</td>\n",
       "      <td>8310.08</td>\n",
       "      <td>8206.57</td>\n",
       "      <td>8220.39</td>\n",
       "      <td>1407.679668</td>\n",
       "    </tr>\n",
       "    <tr>\n",
       "      <th>1</th>\n",
       "      <td>2019-10-01 00:30:00</td>\n",
       "      <td>8220.78</td>\n",
       "      <td>8222.13</td>\n",
       "      <td>8188.00</td>\n",
       "      <td>8199.66</td>\n",
       "      <td>462.495135</td>\n",
       "    </tr>\n",
       "    <tr>\n",
       "      <th>2</th>\n",
       "      <td>2019-10-01 01:00:00</td>\n",
       "      <td>8199.21</td>\n",
       "      <td>8229.99</td>\n",
       "      <td>8173.05</td>\n",
       "      <td>8203.58</td>\n",
       "      <td>646.261799</td>\n",
       "    </tr>\n",
       "    <tr>\n",
       "      <th>3</th>\n",
       "      <td>2019-10-01 01:30:00</td>\n",
       "      <td>8204.99</td>\n",
       "      <td>8295.00</td>\n",
       "      <td>8193.57</td>\n",
       "      <td>8269.83</td>\n",
       "      <td>738.759621</td>\n",
       "    </tr>\n",
       "    <tr>\n",
       "      <th>4</th>\n",
       "      <td>2019-10-01 02:00:00</td>\n",
       "      <td>8269.83</td>\n",
       "      <td>8428.00</td>\n",
       "      <td>8265.14</td>\n",
       "      <td>8388.60</td>\n",
       "      <td>2763.540693</td>\n",
       "    </tr>\n",
       "    <tr>\n",
       "      <th>...</th>\n",
       "      <td>...</td>\n",
       "      <td>...</td>\n",
       "      <td>...</td>\n",
       "      <td>...</td>\n",
       "      <td>...</td>\n",
       "      <td>...</td>\n",
       "    </tr>\n",
       "    <tr>\n",
       "      <th>56878</th>\n",
       "      <td>2022-12-30 15:00:00</td>\n",
       "      <td>16414.18</td>\n",
       "      <td>16537.33</td>\n",
       "      <td>16400.40</td>\n",
       "      <td>16503.07</td>\n",
       "      <td>8734.614660</td>\n",
       "    </tr>\n",
       "    <tr>\n",
       "      <th>56879</th>\n",
       "      <td>2022-12-30 15:30:00</td>\n",
       "      <td>16503.76</td>\n",
       "      <td>16580.70</td>\n",
       "      <td>16502.24</td>\n",
       "      <td>16555.26</td>\n",
       "      <td>7322.280260</td>\n",
       "    </tr>\n",
       "    <tr>\n",
       "      <th>56880</th>\n",
       "      <td>2022-12-30 16:00:00</td>\n",
       "      <td>16555.26</td>\n",
       "      <td>16577.00</td>\n",
       "      <td>16517.31</td>\n",
       "      <td>16520.66</td>\n",
       "      <td>4773.922960</td>\n",
       "    </tr>\n",
       "    <tr>\n",
       "      <th>56881</th>\n",
       "      <td>2022-12-30 16:30:00</td>\n",
       "      <td>16520.14</td>\n",
       "      <td>16551.64</td>\n",
       "      <td>16515.45</td>\n",
       "      <td>16545.86</td>\n",
       "      <td>3067.765670</td>\n",
       "    </tr>\n",
       "    <tr>\n",
       "      <th>56882</th>\n",
       "      <td>2022-12-30 17:00:00</td>\n",
       "      <td>16545.86</td>\n",
       "      <td>16551.40</td>\n",
       "      <td>16521.28</td>\n",
       "      <td>16523.66</td>\n",
       "      <td>1787.676690</td>\n",
       "    </tr>\n",
       "  </tbody>\n",
       "</table>\n",
       "<p>56883 rows × 6 columns</p>\n",
       "</div>"
      ],
      "text/plain": [
       "                     time      open      high       low     close       volume\n",
       "0     2019-10-01 00:00:00   8289.97   8310.08   8206.57   8220.39  1407.679668\n",
       "1     2019-10-01 00:30:00   8220.78   8222.13   8188.00   8199.66   462.495135\n",
       "2     2019-10-01 01:00:00   8199.21   8229.99   8173.05   8203.58   646.261799\n",
       "3     2019-10-01 01:30:00   8204.99   8295.00   8193.57   8269.83   738.759621\n",
       "4     2019-10-01 02:00:00   8269.83   8428.00   8265.14   8388.60  2763.540693\n",
       "...                   ...       ...       ...       ...       ...          ...\n",
       "56878 2022-12-30 15:00:00  16414.18  16537.33  16400.40  16503.07  8734.614660\n",
       "56879 2022-12-30 15:30:00  16503.76  16580.70  16502.24  16555.26  7322.280260\n",
       "56880 2022-12-30 16:00:00  16555.26  16577.00  16517.31  16520.66  4773.922960\n",
       "56881 2022-12-30 16:30:00  16520.14  16551.64  16515.45  16545.86  3067.765670\n",
       "56882 2022-12-30 17:00:00  16545.86  16551.40  16521.28  16523.66  1787.676690\n",
       "\n",
       "[56883 rows x 6 columns]"
      ]
     },
     "execution_count": 4,
     "metadata": {},
     "output_type": "execute_result"
    }
   ],
   "source": [
    "df"
   ]
  },
  {
   "cell_type": "code",
   "execution_count": 5,
   "metadata": {},
   "outputs": [],
   "source": [
    "df['MFI'] = abstract.MFI(df, timeperiod=14)\n",
    "df['RSI'] = abstract.RSI(df, timeperiod=14)\n",
    "df['ADX'] = abstract.ADX(df, timeperiod=14)\n",
    "df['CCI'] = abstract.CCI(df, timeperiod=14)\n",
    "df['ATR'] = abstract.ATR(df, timeperiod=14)\n",
    "df['OBV'] = abstract.OBV(df, timeperiod=14)\n",
    "df['EMA'] = abstract.EMA(df, timeperiod=14)\n",
    "df['WILLR'] = abstract.WILLR(df, timeperiod=14)\n",
    "df['AD'] = abstract.AD(df, timeperiod=14)\n",
    "df['ADOSC'] = abstract.ADOSC(df, timeperiod=14)\n",
    "df['ADXR'] = abstract.ADXR(df, timeperiod=14)\n",
    "df['APO'] = abstract.APO(df, timeperiod=14)\n",
    "df['AROONOSC'] = abstract.AROONOSC(df, timeperiod=14)\n",
    "df['BOP'] = abstract.BOP(df, timeperiod=14)\n",
    "df['CCI'] = abstract.CCI(df, timeperiod=14)\n",
    "df['CMO'] = abstract.CMO(df, timeperiod=14)\n",
    "df['DX'] = abstract.DX(df, timeperiod=14)\n",
    "df['MOM'] = abstract.MOM(df, timeperiod=14)\n",
    "df['PPO'] = abstract.PPO(df, timeperiod=14)\n",
    "df['ROC'] = abstract.ROC(df, timeperiod=14)\n",
    "df['ROCP'] = abstract.ROCP(df, timeperiod=14)\n",
    "df['ROCR'] = abstract.ROCR(df, timeperiod=14)\n",
    "df['ROCR100'] = abstract.ROCR100(df, timeperiod=14)\n",
    "df['RSI'] = abstract.RSI(df, timeperiod=14)\n",
    "df['TRIX'] = abstract.TRIX(df, timeperiod=14)\n",
    "df['ULTOSC'] = abstract.ULTOSC(df, timeperiod=14)\n",
    "df['WILLR'] = abstract.WILLR(df, timeperiod=14)\n",
    "df['WMA'] = abstract.WMA(df, timeperiod=14)\n",
    "df['HT_TRENDLINE'] = abstract.HT_TRENDLINE(df, timeperiod=14)\n",
    "df['TRANGE'] = abstract.TRANGE(df, timeperiod=14)\n",
    "df['CLOSE_percent'] = df['close'].pct_change()"
   ]
  },
  {
   "cell_type": "code",
   "execution_count": 6,
   "metadata": {},
   "outputs": [],
   "source": [
    "df['UP'] = df['CLOSE_percent'].apply(lambda x: 1 if x > 0 else 0)\n",
    "df['DOWN'] = df['CLOSE_percent'].apply(lambda x: 1 if x < 0 else 0)\n",
    "df['UP'] = df['UP'].shift(-1) #shift UP DOWN 一個單位，因為我們要預測的是下一個時間點的漲跌\n",
    "df['DOWN'] = df['DOWN'].shift(-1)\n",
    "\n",
    "df = df.dropna()"
   ]
  },
  {
   "cell_type": "code",
   "execution_count": 7,
   "metadata": {},
   "outputs": [
    {
     "name": "stderr",
     "output_type": "stream",
     "text": [
      "C:\\Users\\李軒豪\\AppData\\Roaming\\Python\\Python310\\site-packages\\pandas\\core\\frame.py:3678: SettingWithCopyWarning: \n",
      "A value is trying to be set on a copy of a slice from a DataFrame.\n",
      "Try using .loc[row_indexer,col_indexer] = value instead\n",
      "\n",
      "See the caveats in the documentation: https://pandas.pydata.org/pandas-docs/stable/user_guide/indexing.html#returning-a-view-versus-a-copy\n",
      "  self[col] = igetitem(value, i)\n",
      "C:\\Users\\李軒豪\\AppData\\Roaming\\Python\\Python310\\site-packages\\pandas\\core\\frame.py:3678: SettingWithCopyWarning: \n",
      "A value is trying to be set on a copy of a slice from a DataFrame.\n",
      "Try using .loc[row_indexer,col_indexer] = value instead\n",
      "\n",
      "See the caveats in the documentation: https://pandas.pydata.org/pandas-docs/stable/user_guide/indexing.html#returning-a-view-versus-a-copy\n",
      "  self[col] = igetitem(value, i)\n"
     ]
    }
   ],
   "source": [
    "#正規化\n",
    "from sklearn.preprocessing import MinMaxScaler\n",
    "scaler = MinMaxScaler()\n",
    "df[['MFI','RSI','ADX','CCI','ATR','OBV','EMA','WILLR','AD','ADOSC','ADXR','APO','AROONOSC','BOP','CCI','CMO','DX','MOM','PPO','ROC','ROCP','ROCR','ROCR100','RSI','TRIX','ULTOSC','WILLR','WMA','HT_TRENDLINE','TRANGE']] = scaler.fit_transform(df[['MFI','RSI','ADX','CCI','ATR','OBV','EMA','WILLR','AD','ADOSC','ADXR','APO','AROONOSC','BOP','CCI','CMO','DX','MOM','PPO','ROC','ROCP','ROCR','ROCR100','RSI','TRIX','ULTOSC','WILLR','WMA','HT_TRENDLINE','TRANGE']])\n",
    "df[['open','high','low','close','volume']] = scaler.fit_transform(df[['open','high','low','close','volume']])"
   ]
  },
  {
   "cell_type": "code",
   "execution_count": 8,
   "metadata": {},
   "outputs": [],
   "source": [
    "X = df.drop(['close','open','high','low','volume','UP','DOWN','time'], axis=1)\n",
    "#y -> UP and DOWN\n",
    "y = df['UP'] #UP"
   ]
  },
  {
   "cell_type": "code",
   "execution_count": 9,
   "metadata": {},
   "outputs": [],
   "source": [
    "X = X.values\n",
    "y = y.values"
   ]
  },
  {
   "cell_type": "code",
   "execution_count": 10,
   "metadata": {},
   "outputs": [],
   "source": [
    "X_train, X_test, y_train, y_test = train_test_split(X, y, test_size=0.2, random_state=1)"
   ]
  },
  {
   "cell_type": "code",
   "execution_count": 11,
   "metadata": {},
   "outputs": [
    {
     "data": {
      "text/plain": [
       "array([[ 6.01001278e-01,  5.93489767e-01,  2.84192255e-01, ...,\n",
       "         1.67277153e-01,  1.74464571e-02,  5.79169214e-04],\n",
       "       [ 5.47043348e-01,  6.46787545e-01,  2.33580136e-01, ...,\n",
       "         2.20159440e-01,  1.28948000e-02,  1.18040794e-03],\n",
       "       [ 6.25743785e-01,  5.99658899e-01,  1.19705525e-01, ...,\n",
       "         7.68448610e-01,  5.27434686e-02, -2.56112610e-03],\n",
       "       ...,\n",
       "       [ 5.92007663e-01,  5.14257386e-01,  1.20999904e-01, ...,\n",
       "         6.40179773e-02,  4.41344414e-03,  5.91144077e-04],\n",
       "       [ 6.47860229e-01,  5.41801156e-01,  2.71412613e-01, ...,\n",
       "         7.22531877e-02,  2.80525443e-03, -7.59492334e-04],\n",
       "       [ 4.79123737e-01,  3.95881391e-01,  1.37330375e-01, ...,\n",
       "         6.97476097e-01,  1.37978694e-01, -1.95965477e-02]])"
      ]
     },
     "execution_count": 11,
     "metadata": {},
     "output_type": "execute_result"
    }
   ],
   "source": [
    "X_train"
   ]
  },
  {
   "cell_type": "code",
   "execution_count": 12,
   "metadata": {},
   "outputs": [],
   "source": [
    "#random forest classifier with n_estimators=10 (default)\n",
    "model = RandomForestClassifier(\n",
    "    n_estimators=10000,\n",
    "    criterion='gini',\n",
    "    max_features=10,\n",
    "    max_depth=8)\n",
    "\n"
   ]
  },
  {
   "cell_type": "code",
   "execution_count": 13,
   "metadata": {},
   "outputs": [
    {
     "data": {
      "text/html": [
       "<style>#sk-container-id-1 {color: black;background-color: white;}#sk-container-id-1 pre{padding: 0;}#sk-container-id-1 div.sk-toggleable {background-color: white;}#sk-container-id-1 label.sk-toggleable__label {cursor: pointer;display: block;width: 100%;margin-bottom: 0;padding: 0.3em;box-sizing: border-box;text-align: center;}#sk-container-id-1 label.sk-toggleable__label-arrow:before {content: \"▸\";float: left;margin-right: 0.25em;color: #696969;}#sk-container-id-1 label.sk-toggleable__label-arrow:hover:before {color: black;}#sk-container-id-1 div.sk-estimator:hover label.sk-toggleable__label-arrow:before {color: black;}#sk-container-id-1 div.sk-toggleable__content {max-height: 0;max-width: 0;overflow: hidden;text-align: left;background-color: #f0f8ff;}#sk-container-id-1 div.sk-toggleable__content pre {margin: 0.2em;color: black;border-radius: 0.25em;background-color: #f0f8ff;}#sk-container-id-1 input.sk-toggleable__control:checked~div.sk-toggleable__content {max-height: 200px;max-width: 100%;overflow: auto;}#sk-container-id-1 input.sk-toggleable__control:checked~label.sk-toggleable__label-arrow:before {content: \"▾\";}#sk-container-id-1 div.sk-estimator input.sk-toggleable__control:checked~label.sk-toggleable__label {background-color: #d4ebff;}#sk-container-id-1 div.sk-label input.sk-toggleable__control:checked~label.sk-toggleable__label {background-color: #d4ebff;}#sk-container-id-1 input.sk-hidden--visually {border: 0;clip: rect(1px 1px 1px 1px);clip: rect(1px, 1px, 1px, 1px);height: 1px;margin: -1px;overflow: hidden;padding: 0;position: absolute;width: 1px;}#sk-container-id-1 div.sk-estimator {font-family: monospace;background-color: #f0f8ff;border: 1px dotted black;border-radius: 0.25em;box-sizing: border-box;margin-bottom: 0.5em;}#sk-container-id-1 div.sk-estimator:hover {background-color: #d4ebff;}#sk-container-id-1 div.sk-parallel-item::after {content: \"\";width: 100%;border-bottom: 1px solid gray;flex-grow: 1;}#sk-container-id-1 div.sk-label:hover label.sk-toggleable__label {background-color: #d4ebff;}#sk-container-id-1 div.sk-serial::before {content: \"\";position: absolute;border-left: 1px solid gray;box-sizing: border-box;top: 0;bottom: 0;left: 50%;z-index: 0;}#sk-container-id-1 div.sk-serial {display: flex;flex-direction: column;align-items: center;background-color: white;padding-right: 0.2em;padding-left: 0.2em;position: relative;}#sk-container-id-1 div.sk-item {position: relative;z-index: 1;}#sk-container-id-1 div.sk-parallel {display: flex;align-items: stretch;justify-content: center;background-color: white;position: relative;}#sk-container-id-1 div.sk-item::before, #sk-container-id-1 div.sk-parallel-item::before {content: \"\";position: absolute;border-left: 1px solid gray;box-sizing: border-box;top: 0;bottom: 0;left: 50%;z-index: -1;}#sk-container-id-1 div.sk-parallel-item {display: flex;flex-direction: column;z-index: 1;position: relative;background-color: white;}#sk-container-id-1 div.sk-parallel-item:first-child::after {align-self: flex-end;width: 50%;}#sk-container-id-1 div.sk-parallel-item:last-child::after {align-self: flex-start;width: 50%;}#sk-container-id-1 div.sk-parallel-item:only-child::after {width: 0;}#sk-container-id-1 div.sk-dashed-wrapped {border: 1px dashed gray;margin: 0 0.4em 0.5em 0.4em;box-sizing: border-box;padding-bottom: 0.4em;background-color: white;}#sk-container-id-1 div.sk-label label {font-family: monospace;font-weight: bold;display: inline-block;line-height: 1.2em;}#sk-container-id-1 div.sk-label-container {text-align: center;}#sk-container-id-1 div.sk-container {/* jupyter's `normalize.less` sets `[hidden] { display: none; }` but bootstrap.min.css set `[hidden] { display: none !important; }` so we also need the `!important` here to be able to override the default hidden behavior on the sphinx rendered scikit-learn.org. See: https://github.com/scikit-learn/scikit-learn/issues/21755 */display: inline-block !important;position: relative;}#sk-container-id-1 div.sk-text-repr-fallback {display: none;}</style><div id=\"sk-container-id-1\" class=\"sk-top-container\"><div class=\"sk-text-repr-fallback\"><pre>RandomForestClassifier(max_depth=8, max_features=10, n_estimators=10000)</pre><b>In a Jupyter environment, please rerun this cell to show the HTML representation or trust the notebook. <br />On GitHub, the HTML representation is unable to render, please try loading this page with nbviewer.org.</b></div><div class=\"sk-container\" hidden><div class=\"sk-item\"><div class=\"sk-estimator sk-toggleable\"><input class=\"sk-toggleable__control sk-hidden--visually\" id=\"sk-estimator-id-1\" type=\"checkbox\" checked><label for=\"sk-estimator-id-1\" class=\"sk-toggleable__label sk-toggleable__label-arrow\">RandomForestClassifier</label><div class=\"sk-toggleable__content\"><pre>RandomForestClassifier(max_depth=8, max_features=10, n_estimators=10000)</pre></div></div></div></div></div>"
      ],
      "text/plain": [
       "RandomForestClassifier(max_depth=8, max_features=10, n_estimators=10000)"
      ]
     },
     "execution_count": 13,
     "metadata": {},
     "output_type": "execute_result"
    }
   ],
   "source": [
    "#train the model using the training sets y_pred=clf.predict(X_test)\n",
    "model.fit(X_train,y_train)"
   ]
  },
  {
   "cell_type": "code",
   "execution_count": 14,
   "metadata": {},
   "outputs": [
    {
     "name": "stdout",
     "output_type": "stream",
     "text": [
      "0.5517423442449841\n"
     ]
    }
   ],
   "source": [
    "pred = model.predict(X_test)\n",
    "\n",
    "print(accuracy_score(y_test, pred))"
   ]
  },
  {
   "cell_type": "code",
   "execution_count": 15,
   "metadata": {},
   "outputs": [
    {
     "data": {
      "text/plain": [
       "array([1., 0., 0., ..., 1., 0., 1.])"
      ]
     },
     "execution_count": 15,
     "metadata": {},
     "output_type": "execute_result"
    }
   ],
   "source": [
    "pred"
   ]
  },
  {
   "cell_type": "code",
   "execution_count": 16,
   "metadata": {},
   "outputs": [
    {
     "data": {
      "text/plain": [
       "array([6.01001278e-01, 5.93489767e-01, 2.84192255e-01, 4.50198774e-01,\n",
       "       9.65438295e-02, 2.67405684e-01, 1.70463761e-01, 4.70344437e-01,\n",
       "       4.43279015e-01, 5.92664108e-01, 2.94367031e-01, 6.19810191e-01,\n",
       "       7.50000000e-01, 5.35951662e-01, 5.93489767e-01, 1.19786628e-01,\n",
       "       5.92039504e-01, 7.45479661e-01, 5.63615588e-01, 5.63615588e-01,\n",
       "       5.63615588e-01, 5.63615588e-01, 7.32968140e-01, 4.61886854e-01,\n",
       "       1.72318548e-01, 1.67277153e-01, 1.74464571e-02, 5.79169214e-04])"
      ]
     },
     "execution_count": 16,
     "metadata": {},
     "output_type": "execute_result"
    }
   ],
   "source": [
    "X_train[0]"
   ]
  },
  {
   "cell_type": "code",
   "execution_count": 17,
   "metadata": {},
   "outputs": [
    {
     "name": "stdout",
     "output_type": "stream",
     "text": [
      "0.6371136288637114\n"
     ]
    }
   ],
   "source": [
    "test_ans = model.predict(X_train)\n",
    "print(accuracy_score(y_train, test_ans))"
   ]
  },
  {
   "cell_type": "code",
   "execution_count": 18,
   "metadata": {},
   "outputs": [
    {
     "data": {
      "text/plain": [
       "array([[2921, 2688],\n",
       "       [2406, 3349]], dtype=int64)"
      ]
     },
     "execution_count": 18,
     "metadata": {},
     "output_type": "execute_result"
    }
   ],
   "source": [
    "#confusion matrix\n",
    "confusion_matrix(y_test, pred)\n"
   ]
  },
  {
   "cell_type": "code",
   "execution_count": 19,
   "metadata": {},
   "outputs": [
    {
     "name": "stdout",
     "output_type": "stream",
     "text": [
      "              precision    recall  f1-score   support\n",
      "\n",
      "         0.0       0.55      0.52      0.53      5609\n",
      "         1.0       0.55      0.58      0.57      5755\n",
      "\n",
      "    accuracy                           0.55     11364\n",
      "   macro avg       0.55      0.55      0.55     11364\n",
      "weighted avg       0.55      0.55      0.55     11364\n",
      "\n"
     ]
    }
   ],
   "source": [
    "#classification report  \n",
    "print(classification_report(y_test, pred))"
   ]
  },
  {
   "cell_type": "code",
   "execution_count": 20,
   "metadata": {},
   "outputs": [
    {
     "name": "stdout",
     "output_type": "stream",
     "text": [
      "AUC: 0.55\n"
     ]
    }
   ],
   "source": [
    "#ROC curve\n",
    "fpr, tpr, thresholds = roc_curve(y_test, pred)\n",
    "auc = roc_auc_score(y_test, pred)\n",
    "print('AUC: %.2f' % auc)"
   ]
  }
 ],
 "metadata": {
  "kernelspec": {
   "display_name": "Python 3",
   "language": "python",
   "name": "python3"
  },
  "language_info": {
   "codemirror_mode": {
    "name": "ipython",
    "version": 3
   },
   "file_extension": ".py",
   "mimetype": "text/x-python",
   "name": "python",
   "nbconvert_exporter": "python",
   "pygments_lexer": "ipython3",
   "version": "3.10.8"
  },
  "orig_nbformat": 4,
  "vscode": {
   "interpreter": {
    "hash": "26de051ba29f2982a8de78e945f0abaf191376122a1563185a90213a26c5da77"
   }
  }
 },
 "nbformat": 4,
 "nbformat_minor": 2
}
