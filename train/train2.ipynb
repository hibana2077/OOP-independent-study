{
 "cells": [
  {
   "attachments": {},
   "cell_type": "markdown",
   "metadata": {},
   "source": [
    "[![GitHub](https://img.shields.io/badge/Github-hibana2077-blue?style=plastic-square&logo=github)](https://github.com/hibana2077)\n",
    "[![Colab](https://img.shields.io/badge/Colab-Open%20in%20Colab-blue?style=plastic-square&logo=googlecolab)](https://colab.research.google.com/github/hibana2077/hibana2077/blob/master/train/train.ipynb)"
   ]
  },
  {
   "cell_type": "code",
   "execution_count": null,
   "metadata": {},
   "outputs": [],
   "source": [
    "# !wget http://prdownloads.sourceforge.net/ta-lib/ta-lib-0.4.0-src.tar.gz\n",
    "# !tar -xzvf ta-lib-0.4.0-src.tar.gz\n",
    "# %cd ta-lib\n",
    "# !./configure --prefix=/usr\n",
    "# !make\n",
    "# !make install\n",
    "# !pip install Ta-Lib"
   ]
  },
  {
   "cell_type": "code",
   "execution_count": 30,
   "metadata": {},
   "outputs": [],
   "source": [
    "#using sklearn random forest classifier\n",
    "from sklearn.ensemble import RandomForestClassifier\n",
    "from sklearn.metrics import accuracy_score\n",
    "from sklearn.model_selection import train_test_split\n",
    "from sklearn.metrics import confusion_matrix\n",
    "from sklearn.metrics import classification_report\n",
    "from sklearn.metrics import roc_curve\n",
    "from sklearn.metrics import roc_auc_score\n",
    "from sklearn.metrics import precision_recall_curve\n",
    "from sklearn.metrics import f1_score\n",
    "from sklearn.metrics import auc\n",
    "from talib import abstract\n",
    "from ccxt import binance,bybit\n",
    "import pandas as pd\n",
    "import numpy as np\n",
    "import os"
   ]
  },
  {
   "cell_type": "code",
   "execution_count": 2,
   "metadata": {},
   "outputs": [],
   "source": [
    "os.remove(\"../data/BTC_USDT_15m.csv\")"
   ]
  },
  {
   "cell_type": "code",
   "execution_count": 2,
   "metadata": {},
   "outputs": [],
   "source": [
    "binance = binance()\n",
    "symbol = 'BTC/USDT'\n",
    "timeframe = '15m'\n",
    "file_name = f\"../data/{symbol.replace('/', '_')}_{timeframe}.csv\"\n",
    "start = binance.parse8601('2019-10-01T00:00:00Z')\n",
    "end = binance.parse8601('2022-12-30T00:00:00Z')\n",
    "cnt_time = start\n",
    "data = []\n",
    "while cnt_time < end:\n",
    "    ohlcv = binance.fetch_ohlcv(symbol, timeframe, cnt_time)\n",
    "    data += ohlcv\n",
    "    cnt_time = ohlcv[-1][0] + 900000 # 1h in ms    \n",
    "df = pd.DataFrame(data, columns=['time', 'open', 'high', 'low', 'close', 'volume'])\n",
    "df['time'] = pd.to_datetime(df['time'], unit='ms')\n",
    "df.to_csv(file_name, index=False)"
   ]
  },
  {
   "cell_type": "code",
   "execution_count": 3,
   "metadata": {},
   "outputs": [
    {
     "data": {
      "text/html": [
       "<div>\n",
       "<style scoped>\n",
       "    .dataframe tbody tr th:only-of-type {\n",
       "        vertical-align: middle;\n",
       "    }\n",
       "\n",
       "    .dataframe tbody tr th {\n",
       "        vertical-align: top;\n",
       "    }\n",
       "\n",
       "    .dataframe thead th {\n",
       "        text-align: right;\n",
       "    }\n",
       "</style>\n",
       "<table border=\"1\" class=\"dataframe\">\n",
       "  <thead>\n",
       "    <tr style=\"text-align: right;\">\n",
       "      <th></th>\n",
       "      <th>time</th>\n",
       "      <th>open</th>\n",
       "      <th>high</th>\n",
       "      <th>low</th>\n",
       "      <th>close</th>\n",
       "      <th>volume</th>\n",
       "    </tr>\n",
       "  </thead>\n",
       "  <tbody>\n",
       "    <tr>\n",
       "      <th>0</th>\n",
       "      <td>2019-10-01 00:00:00</td>\n",
       "      <td>8289.97</td>\n",
       "      <td>8310.08</td>\n",
       "      <td>8206.57</td>\n",
       "      <td>8243.39</td>\n",
       "      <td>1016.103644</td>\n",
       "    </tr>\n",
       "    <tr>\n",
       "      <th>1</th>\n",
       "      <td>2019-10-01 00:15:00</td>\n",
       "      <td>8242.94</td>\n",
       "      <td>8252.53</td>\n",
       "      <td>8210.01</td>\n",
       "      <td>8220.39</td>\n",
       "      <td>391.576024</td>\n",
       "    </tr>\n",
       "    <tr>\n",
       "      <th>2</th>\n",
       "      <td>2019-10-01 00:30:00</td>\n",
       "      <td>8220.78</td>\n",
       "      <td>8222.13</td>\n",
       "      <td>8188.00</td>\n",
       "      <td>8213.23</td>\n",
       "      <td>285.706881</td>\n",
       "    </tr>\n",
       "    <tr>\n",
       "      <th>3</th>\n",
       "      <td>2019-10-01 00:45:00</td>\n",
       "      <td>8213.23</td>\n",
       "      <td>8218.34</td>\n",
       "      <td>8195.36</td>\n",
       "      <td>8199.66</td>\n",
       "      <td>176.788254</td>\n",
       "    </tr>\n",
       "    <tr>\n",
       "      <th>4</th>\n",
       "      <td>2019-10-01 01:00:00</td>\n",
       "      <td>8199.21</td>\n",
       "      <td>8222.28</td>\n",
       "      <td>8173.05</td>\n",
       "      <td>8211.85</td>\n",
       "      <td>420.860704</td>\n",
       "    </tr>\n",
       "    <tr>\n",
       "      <th>...</th>\n",
       "      <td>...</td>\n",
       "      <td>...</td>\n",
       "      <td>...</td>\n",
       "      <td>...</td>\n",
       "      <td>...</td>\n",
       "      <td>...</td>\n",
       "    </tr>\n",
       "    <tr>\n",
       "      <th>113817</th>\n",
       "      <td>2022-12-31 07:30:00</td>\n",
       "      <td>16544.76</td>\n",
       "      <td>16561.19</td>\n",
       "      <td>16543.49</td>\n",
       "      <td>16560.64</td>\n",
       "      <td>1262.953190</td>\n",
       "    </tr>\n",
       "    <tr>\n",
       "      <th>113818</th>\n",
       "      <td>2022-12-31 07:45:00</td>\n",
       "      <td>16560.64</td>\n",
       "      <td>16568.12</td>\n",
       "      <td>16554.33</td>\n",
       "      <td>16565.09</td>\n",
       "      <td>1261.966080</td>\n",
       "    </tr>\n",
       "    <tr>\n",
       "      <th>113819</th>\n",
       "      <td>2022-12-31 08:00:00</td>\n",
       "      <td>16564.81</td>\n",
       "      <td>16567.32</td>\n",
       "      <td>16558.00</td>\n",
       "      <td>16558.93</td>\n",
       "      <td>1127.094570</td>\n",
       "    </tr>\n",
       "    <tr>\n",
       "      <th>113820</th>\n",
       "      <td>2022-12-31 08:15:00</td>\n",
       "      <td>16559.18</td>\n",
       "      <td>16562.61</td>\n",
       "      <td>16552.79</td>\n",
       "      <td>16558.35</td>\n",
       "      <td>1181.999050</td>\n",
       "    </tr>\n",
       "    <tr>\n",
       "      <th>113821</th>\n",
       "      <td>2022-12-31 08:30:00</td>\n",
       "      <td>16558.35</td>\n",
       "      <td>16564.23</td>\n",
       "      <td>16557.80</td>\n",
       "      <td>16563.58</td>\n",
       "      <td>320.345380</td>\n",
       "    </tr>\n",
       "  </tbody>\n",
       "</table>\n",
       "<p>113822 rows × 6 columns</p>\n",
       "</div>"
      ],
      "text/plain": [
       "                      time      open      high       low     close  \\\n",
       "0      2019-10-01 00:00:00   8289.97   8310.08   8206.57   8243.39   \n",
       "1      2019-10-01 00:15:00   8242.94   8252.53   8210.01   8220.39   \n",
       "2      2019-10-01 00:30:00   8220.78   8222.13   8188.00   8213.23   \n",
       "3      2019-10-01 00:45:00   8213.23   8218.34   8195.36   8199.66   \n",
       "4      2019-10-01 01:00:00   8199.21   8222.28   8173.05   8211.85   \n",
       "...                    ...       ...       ...       ...       ...   \n",
       "113817 2022-12-31 07:30:00  16544.76  16561.19  16543.49  16560.64   \n",
       "113818 2022-12-31 07:45:00  16560.64  16568.12  16554.33  16565.09   \n",
       "113819 2022-12-31 08:00:00  16564.81  16567.32  16558.00  16558.93   \n",
       "113820 2022-12-31 08:15:00  16559.18  16562.61  16552.79  16558.35   \n",
       "113821 2022-12-31 08:30:00  16558.35  16564.23  16557.80  16563.58   \n",
       "\n",
       "             volume  \n",
       "0       1016.103644  \n",
       "1        391.576024  \n",
       "2        285.706881  \n",
       "3        176.788254  \n",
       "4        420.860704  \n",
       "...             ...  \n",
       "113817  1262.953190  \n",
       "113818  1261.966080  \n",
       "113819  1127.094570  \n",
       "113820  1181.999050  \n",
       "113821   320.345380  \n",
       "\n",
       "[113822 rows x 6 columns]"
      ]
     },
     "execution_count": 3,
     "metadata": {},
     "output_type": "execute_result"
    }
   ],
   "source": [
    "df"
   ]
  },
  {
   "cell_type": "code",
   "execution_count": 4,
   "metadata": {},
   "outputs": [],
   "source": [
    "df['MFI'] = abstract.MFI(df, timeperiod=14)\n",
    "df['RSI'] = abstract.RSI(df, timeperiod=14)\n",
    "df['ADX'] = abstract.ADX(df, timeperiod=14)\n",
    "df['CCI'] = abstract.CCI(df, timeperiod=14)\n",
    "df['ATR'] = abstract.ATR(df, timeperiod=14)\n",
    "df['OBV'] = abstract.OBV(df, timeperiod=14)\n",
    "df['EMA'] = abstract.EMA(df, timeperiod=14)\n",
    "df['WILLR'] = abstract.WILLR(df, timeperiod=14)\n",
    "df['AD'] = abstract.AD(df, timeperiod=14)\n",
    "df['ADOSC'] = abstract.ADOSC(df, timeperiod=14)\n",
    "df['ADXR'] = abstract.ADXR(df, timeperiod=14)\n",
    "df['APO'] = abstract.APO(df, timeperiod=14)\n",
    "df['AROONOSC'] = abstract.AROONOSC(df, timeperiod=14)\n",
    "df['BOP'] = abstract.BOP(df, timeperiod=14)\n",
    "df['CCI'] = abstract.CCI(df, timeperiod=14)\n",
    "df['CMO'] = abstract.CMO(df, timeperiod=14)\n",
    "df['DX'] = abstract.DX(df, timeperiod=14)\n",
    "df['MOM'] = abstract.MOM(df, timeperiod=14)\n",
    "df['PPO'] = abstract.PPO(df, timeperiod=14)\n",
    "df['ROC'] = abstract.ROC(df, timeperiod=14)\n",
    "df['ROCP'] = abstract.ROCP(df, timeperiod=14)\n",
    "df['ROCR'] = abstract.ROCR(df, timeperiod=14)\n",
    "df['ROCR100'] = abstract.ROCR100(df, timeperiod=14)\n",
    "df['RSI'] = abstract.RSI(df, timeperiod=14)\n",
    "df['TRIX'] = abstract.TRIX(df, timeperiod=14)\n",
    "df['ULTOSC'] = abstract.ULTOSC(df, timeperiod=14)\n",
    "df['WILLR'] = abstract.WILLR(df, timeperiod=14)\n",
    "df['WMA'] = abstract.WMA(df, timeperiod=14)\n",
    "df['HT_TRENDLINE'] = abstract.HT_TRENDLINE(df, timeperiod=14)\n",
    "df['TRANGE'] = abstract.TRANGE(df, timeperiod=14)\n",
    "df['CLOSE_percent'] = df['close'].pct_change()"
   ]
  },
  {
   "cell_type": "code",
   "execution_count": 5,
   "metadata": {},
   "outputs": [],
   "source": [
    "df['UP'] = df['CLOSE_percent'].apply(lambda x: 1 if x > 0 else 0)\n",
    "df['DOWN'] = df['CLOSE_percent'].apply(lambda x: 1 if x < 0 else 0)\n",
    "df['UP'] = df['UP'].shift(-1) #shift UP DOWN 一個單位，因為我們要預測的是下一個時間點的漲跌\n",
    "df['DOWN'] = df['DOWN'].shift(-1)\n",
    "\n",
    "df = df.dropna()"
   ]
  },
  {
   "cell_type": "code",
   "execution_count": 6,
   "metadata": {},
   "outputs": [
    {
     "name": "stderr",
     "output_type": "stream",
     "text": [
      "C:\\Users\\李軒豪\\AppData\\Roaming\\Python\\Python310\\site-packages\\pandas\\core\\frame.py:3678: SettingWithCopyWarning: \n",
      "A value is trying to be set on a copy of a slice from a DataFrame.\n",
      "Try using .loc[row_indexer,col_indexer] = value instead\n",
      "\n",
      "See the caveats in the documentation: https://pandas.pydata.org/pandas-docs/stable/user_guide/indexing.html#returning-a-view-versus-a-copy\n",
      "  self[col] = igetitem(value, i)\n",
      "C:\\Users\\李軒豪\\AppData\\Roaming\\Python\\Python310\\site-packages\\pandas\\core\\frame.py:3678: SettingWithCopyWarning: \n",
      "A value is trying to be set on a copy of a slice from a DataFrame.\n",
      "Try using .loc[row_indexer,col_indexer] = value instead\n",
      "\n",
      "See the caveats in the documentation: https://pandas.pydata.org/pandas-docs/stable/user_guide/indexing.html#returning-a-view-versus-a-copy\n",
      "  self[col] = igetitem(value, i)\n"
     ]
    }
   ],
   "source": [
    "#正規化\n",
    "from sklearn.preprocessing import MinMaxScaler\n",
    "scaler = MinMaxScaler()\n",
    "df[['MFI','RSI','ADX','CCI','ATR','OBV','EMA','WILLR','AD','ADOSC','ADXR','APO','AROONOSC','BOP','CCI','CMO','DX','MOM','PPO','ROC','ROCP','ROCR','ROCR100','RSI','TRIX','ULTOSC','WILLR','WMA','HT_TRENDLINE','TRANGE']] = scaler.fit_transform(df[['MFI','RSI','ADX','CCI','ATR','OBV','EMA','WILLR','AD','ADOSC','ADXR','APO','AROONOSC','BOP','CCI','CMO','DX','MOM','PPO','ROC','ROCP','ROCR','ROCR100','RSI','TRIX','ULTOSC','WILLR','WMA','HT_TRENDLINE','TRANGE']])\n",
    "df[['open','high','low','close','volume']] = scaler.fit_transform(df[['open','high','low','close','volume']])"
   ]
  },
  {
   "cell_type": "code",
   "execution_count": 7,
   "metadata": {},
   "outputs": [],
   "source": [
    "X = df.drop(['UP','DOWN','time','CLOSE_percent'], axis=1)\n",
    "#y -> UP and DOWN\n",
    "y = df['UP'] #UP"
   ]
  },
  {
   "cell_type": "code",
   "execution_count": 8,
   "metadata": {},
   "outputs": [
    {
     "data": {
      "text/html": [
       "<div>\n",
       "<style scoped>\n",
       "    .dataframe tbody tr th:only-of-type {\n",
       "        vertical-align: middle;\n",
       "    }\n",
       "\n",
       "    .dataframe tbody tr th {\n",
       "        vertical-align: top;\n",
       "    }\n",
       "\n",
       "    .dataframe thead th {\n",
       "        text-align: right;\n",
       "    }\n",
       "</style>\n",
       "<table border=\"1\" class=\"dataframe\">\n",
       "  <thead>\n",
       "    <tr style=\"text-align: right;\">\n",
       "      <th></th>\n",
       "      <th>open</th>\n",
       "      <th>high</th>\n",
       "      <th>low</th>\n",
       "      <th>close</th>\n",
       "      <th>volume</th>\n",
       "      <th>MFI</th>\n",
       "      <th>RSI</th>\n",
       "      <th>ADX</th>\n",
       "      <th>CCI</th>\n",
       "      <th>ATR</th>\n",
       "      <th>...</th>\n",
       "      <th>PPO</th>\n",
       "      <th>ROC</th>\n",
       "      <th>ROCP</th>\n",
       "      <th>ROCR</th>\n",
       "      <th>ROCR100</th>\n",
       "      <th>TRIX</th>\n",
       "      <th>ULTOSC</th>\n",
       "      <th>WMA</th>\n",
       "      <th>HT_TRENDLINE</th>\n",
       "      <th>TRANGE</th>\n",
       "    </tr>\n",
       "  </thead>\n",
       "  <tbody>\n",
       "    <tr>\n",
       "      <th>63</th>\n",
       "      <td>0.068547</td>\n",
       "      <td>0.063779</td>\n",
       "      <td>0.070296</td>\n",
       "      <td>0.069147</td>\n",
       "      <td>0.009006</td>\n",
       "      <td>0.545123</td>\n",
       "      <td>0.573676</td>\n",
       "      <td>0.110529</td>\n",
       "      <td>0.663657</td>\n",
       "      <td>0.017247</td>\n",
       "      <td>...</td>\n",
       "      <td>0.665069</td>\n",
       "      <td>0.525270</td>\n",
       "      <td>0.525270</td>\n",
       "      <td>0.525270</td>\n",
       "      <td>0.525270</td>\n",
       "      <td>0.652433</td>\n",
       "      <td>0.483833</td>\n",
       "      <td>0.060348</td>\n",
       "      <td>0.056874</td>\n",
       "      <td>0.005730</td>\n",
       "    </tr>\n",
       "    <tr>\n",
       "      <th>64</th>\n",
       "      <td>0.069061</td>\n",
       "      <td>0.063711</td>\n",
       "      <td>0.070232</td>\n",
       "      <td>0.068538</td>\n",
       "      <td>0.005545</td>\n",
       "      <td>0.583632</td>\n",
       "      <td>0.478211</td>\n",
       "      <td>0.097099</td>\n",
       "      <td>0.543233</td>\n",
       "      <td>0.017270</td>\n",
       "      <td>...</td>\n",
       "      <td>0.663999</td>\n",
       "      <td>0.521721</td>\n",
       "      <td>0.521721</td>\n",
       "      <td>0.521721</td>\n",
       "      <td>0.521721</td>\n",
       "      <td>0.652979</td>\n",
       "      <td>0.423186</td>\n",
       "      <td>0.060335</td>\n",
       "      <td>0.056875</td>\n",
       "      <td>0.005697</td>\n",
       "    </tr>\n",
       "    <tr>\n",
       "      <th>65</th>\n",
       "      <td>0.068445</td>\n",
       "      <td>0.063783</td>\n",
       "      <td>0.070170</td>\n",
       "      <td>0.069236</td>\n",
       "      <td>0.006517</td>\n",
       "      <td>0.645869</td>\n",
       "      <td>0.569353</td>\n",
       "      <td>0.087159</td>\n",
       "      <td>0.630719</td>\n",
       "      <td>0.017612</td>\n",
       "      <td>...</td>\n",
       "      <td>0.664184</td>\n",
       "      <td>0.530577</td>\n",
       "      <td>0.530577</td>\n",
       "      <td>0.530577</td>\n",
       "      <td>0.530577</td>\n",
       "      <td>0.654181</td>\n",
       "      <td>0.571219</td>\n",
       "      <td>0.060415</td>\n",
       "      <td>0.056885</td>\n",
       "      <td>0.006910</td>\n",
       "    </tr>\n",
       "    <tr>\n",
       "      <th>66</th>\n",
       "      <td>0.069142</td>\n",
       "      <td>0.065076</td>\n",
       "      <td>0.070752</td>\n",
       "      <td>0.070208</td>\n",
       "      <td>0.028755</td>\n",
       "      <td>0.666238</td>\n",
       "      <td>0.661885</td>\n",
       "      <td>0.109944</td>\n",
       "      <td>0.828155</td>\n",
       "      <td>0.019634</td>\n",
       "      <td>...</td>\n",
       "      <td>0.666379</td>\n",
       "      <td>0.536803</td>\n",
       "      <td>0.536803</td>\n",
       "      <td>0.536803</td>\n",
       "      <td>0.536803</td>\n",
       "      <td>0.656909</td>\n",
       "      <td>0.610421</td>\n",
       "      <td>0.060617</td>\n",
       "      <td>0.056919</td>\n",
       "      <td>0.013368</td>\n",
       "    </tr>\n",
       "    <tr>\n",
       "      <th>67</th>\n",
       "      <td>0.070112</td>\n",
       "      <td>0.065230</td>\n",
       "      <td>0.071492</td>\n",
       "      <td>0.070131</td>\n",
       "      <td>0.014693</td>\n",
       "      <td>0.677433</td>\n",
       "      <td>0.650392</td>\n",
       "      <td>0.133758</td>\n",
       "      <td>0.750029</td>\n",
       "      <td>0.020111</td>\n",
       "      <td>...</td>\n",
       "      <td>0.668514</td>\n",
       "      <td>0.536073</td>\n",
       "      <td>0.536073</td>\n",
       "      <td>0.536073</td>\n",
       "      <td>0.536073</td>\n",
       "      <td>0.660414</td>\n",
       "      <td>0.595304</td>\n",
       "      <td>0.060796</td>\n",
       "      <td>0.056964</td>\n",
       "      <td>0.008062</td>\n",
       "    </tr>\n",
       "    <tr>\n",
       "      <th>...</th>\n",
       "      <td>...</td>\n",
       "      <td>...</td>\n",
       "      <td>...</td>\n",
       "      <td>...</td>\n",
       "      <td>...</td>\n",
       "      <td>...</td>\n",
       "      <td>...</td>\n",
       "      <td>...</td>\n",
       "      <td>...</td>\n",
       "      <td>...</td>\n",
       "      <td>...</td>\n",
       "      <td>...</td>\n",
       "      <td>...</td>\n",
       "      <td>...</td>\n",
       "      <td>...</td>\n",
       "      <td>...</td>\n",
       "      <td>...</td>\n",
       "      <td>...</td>\n",
       "      <td>...</td>\n",
       "      <td>...</td>\n",
       "      <td>...</td>\n",
       "    </tr>\n",
       "    <tr>\n",
       "      <th>113816</th>\n",
       "      <td>0.195221</td>\n",
       "      <td>0.190050</td>\n",
       "      <td>0.197228</td>\n",
       "      <td>0.195304</td>\n",
       "      <td>0.018847</td>\n",
       "      <td>0.470188</td>\n",
       "      <td>0.422300</td>\n",
       "      <td>0.150463</td>\n",
       "      <td>0.419275</td>\n",
       "      <td>0.003587</td>\n",
       "      <td>...</td>\n",
       "      <td>0.660592</td>\n",
       "      <td>0.519136</td>\n",
       "      <td>0.519136</td>\n",
       "      <td>0.519136</td>\n",
       "      <td>0.519136</td>\n",
       "      <td>0.655120</td>\n",
       "      <td>0.472882</td>\n",
       "      <td>0.188627</td>\n",
       "      <td>0.185979</td>\n",
       "      <td>0.000826</td>\n",
       "    </tr>\n",
       "    <tr>\n",
       "      <th>113817</th>\n",
       "      <td>0.195219</td>\n",
       "      <td>0.190250</td>\n",
       "      <td>0.197245</td>\n",
       "      <td>0.195544</td>\n",
       "      <td>0.031283</td>\n",
       "      <td>0.550820</td>\n",
       "      <td>0.531244</td>\n",
       "      <td>0.136136</td>\n",
       "      <td>0.638452</td>\n",
       "      <td>0.003737</td>\n",
       "      <td>...</td>\n",
       "      <td>0.661073</td>\n",
       "      <td>0.520933</td>\n",
       "      <td>0.520933</td>\n",
       "      <td>0.520933</td>\n",
       "      <td>0.520933</td>\n",
       "      <td>0.655288</td>\n",
       "      <td>0.614744</td>\n",
       "      <td>0.188653</td>\n",
       "      <td>0.185968</td>\n",
       "      <td>0.002481</td>\n",
       "    </tr>\n",
       "    <tr>\n",
       "      <th>113818</th>\n",
       "      <td>0.195464</td>\n",
       "      <td>0.190357</td>\n",
       "      <td>0.197413</td>\n",
       "      <td>0.195613</td>\n",
       "      <td>0.031259</td>\n",
       "      <td>0.610873</td>\n",
       "      <td>0.557587</td>\n",
       "      <td>0.127902</td>\n",
       "      <td>0.715838</td>\n",
       "      <td>0.003733</td>\n",
       "      <td>...</td>\n",
       "      <td>0.661454</td>\n",
       "      <td>0.521604</td>\n",
       "      <td>0.521604</td>\n",
       "      <td>0.521604</td>\n",
       "      <td>0.521604</td>\n",
       "      <td>0.655607</td>\n",
       "      <td>0.592934</td>\n",
       "      <td>0.188687</td>\n",
       "      <td>0.185961</td>\n",
       "      <td>0.001933</td>\n",
       "    </tr>\n",
       "    <tr>\n",
       "      <th>113819</th>\n",
       "      <td>0.195529</td>\n",
       "      <td>0.190345</td>\n",
       "      <td>0.197470</td>\n",
       "      <td>0.195518</td>\n",
       "      <td>0.027918</td>\n",
       "      <td>0.594242</td>\n",
       "      <td>0.515002</td>\n",
       "      <td>0.120257</td>\n",
       "      <td>0.651462</td>\n",
       "      <td>0.003563</td>\n",
       "      <td>...</td>\n",
       "      <td>0.661597</td>\n",
       "      <td>0.520972</td>\n",
       "      <td>0.520972</td>\n",
       "      <td>0.520972</td>\n",
       "      <td>0.520972</td>\n",
       "      <td>0.655960</td>\n",
       "      <td>0.561749</td>\n",
       "      <td>0.188704</td>\n",
       "      <td>0.185961</td>\n",
       "      <td>0.001307</td>\n",
       "    </tr>\n",
       "    <tr>\n",
       "      <th>113820</th>\n",
       "      <td>0.195442</td>\n",
       "      <td>0.190272</td>\n",
       "      <td>0.197389</td>\n",
       "      <td>0.195509</td>\n",
       "      <td>0.029278</td>\n",
       "      <td>0.518424</td>\n",
       "      <td>0.511017</td>\n",
       "      <td>0.106662</td>\n",
       "      <td>0.583673</td>\n",
       "      <td>0.003424</td>\n",
       "      <td>...</td>\n",
       "      <td>0.662090</td>\n",
       "      <td>0.520445</td>\n",
       "      <td>0.520445</td>\n",
       "      <td>0.520445</td>\n",
       "      <td>0.520445</td>\n",
       "      <td>0.656321</td>\n",
       "      <td>0.582730</td>\n",
       "      <td>0.188719</td>\n",
       "      <td>0.185960</td>\n",
       "      <td>0.001377</td>\n",
       "    </tr>\n",
       "  </tbody>\n",
       "</table>\n",
       "<p>113758 rows × 32 columns</p>\n",
       "</div>"
      ],
      "text/plain": [
       "            open      high       low     close    volume       MFI       RSI  \\\n",
       "63      0.068547  0.063779  0.070296  0.069147  0.009006  0.545123  0.573676   \n",
       "64      0.069061  0.063711  0.070232  0.068538  0.005545  0.583632  0.478211   \n",
       "65      0.068445  0.063783  0.070170  0.069236  0.006517  0.645869  0.569353   \n",
       "66      0.069142  0.065076  0.070752  0.070208  0.028755  0.666238  0.661885   \n",
       "67      0.070112  0.065230  0.071492  0.070131  0.014693  0.677433  0.650392   \n",
       "...          ...       ...       ...       ...       ...       ...       ...   \n",
       "113816  0.195221  0.190050  0.197228  0.195304  0.018847  0.470188  0.422300   \n",
       "113817  0.195219  0.190250  0.197245  0.195544  0.031283  0.550820  0.531244   \n",
       "113818  0.195464  0.190357  0.197413  0.195613  0.031259  0.610873  0.557587   \n",
       "113819  0.195529  0.190345  0.197470  0.195518  0.027918  0.594242  0.515002   \n",
       "113820  0.195442  0.190272  0.197389  0.195509  0.029278  0.518424  0.511017   \n",
       "\n",
       "             ADX       CCI       ATR  ...       PPO       ROC      ROCP  \\\n",
       "63      0.110529  0.663657  0.017247  ...  0.665069  0.525270  0.525270   \n",
       "64      0.097099  0.543233  0.017270  ...  0.663999  0.521721  0.521721   \n",
       "65      0.087159  0.630719  0.017612  ...  0.664184  0.530577  0.530577   \n",
       "66      0.109944  0.828155  0.019634  ...  0.666379  0.536803  0.536803   \n",
       "67      0.133758  0.750029  0.020111  ...  0.668514  0.536073  0.536073   \n",
       "...          ...       ...       ...  ...       ...       ...       ...   \n",
       "113816  0.150463  0.419275  0.003587  ...  0.660592  0.519136  0.519136   \n",
       "113817  0.136136  0.638452  0.003737  ...  0.661073  0.520933  0.520933   \n",
       "113818  0.127902  0.715838  0.003733  ...  0.661454  0.521604  0.521604   \n",
       "113819  0.120257  0.651462  0.003563  ...  0.661597  0.520972  0.520972   \n",
       "113820  0.106662  0.583673  0.003424  ...  0.662090  0.520445  0.520445   \n",
       "\n",
       "            ROCR   ROCR100      TRIX    ULTOSC       WMA  HT_TRENDLINE  \\\n",
       "63      0.525270  0.525270  0.652433  0.483833  0.060348      0.056874   \n",
       "64      0.521721  0.521721  0.652979  0.423186  0.060335      0.056875   \n",
       "65      0.530577  0.530577  0.654181  0.571219  0.060415      0.056885   \n",
       "66      0.536803  0.536803  0.656909  0.610421  0.060617      0.056919   \n",
       "67      0.536073  0.536073  0.660414  0.595304  0.060796      0.056964   \n",
       "...          ...       ...       ...       ...       ...           ...   \n",
       "113816  0.519136  0.519136  0.655120  0.472882  0.188627      0.185979   \n",
       "113817  0.520933  0.520933  0.655288  0.614744  0.188653      0.185968   \n",
       "113818  0.521604  0.521604  0.655607  0.592934  0.188687      0.185961   \n",
       "113819  0.520972  0.520972  0.655960  0.561749  0.188704      0.185961   \n",
       "113820  0.520445  0.520445  0.656321  0.582730  0.188719      0.185960   \n",
       "\n",
       "          TRANGE  \n",
       "63      0.005730  \n",
       "64      0.005697  \n",
       "65      0.006910  \n",
       "66      0.013368  \n",
       "67      0.008062  \n",
       "...          ...  \n",
       "113816  0.000826  \n",
       "113817  0.002481  \n",
       "113818  0.001933  \n",
       "113819  0.001307  \n",
       "113820  0.001377  \n",
       "\n",
       "[113758 rows x 32 columns]"
      ]
     },
     "execution_count": 8,
     "metadata": {},
     "output_type": "execute_result"
    }
   ],
   "source": [
    "X"
   ]
  },
  {
   "cell_type": "code",
   "execution_count": 9,
   "metadata": {},
   "outputs": [
    {
     "data": {
      "text/plain": [
       "1.0    57230\n",
       "0.0    56528\n",
       "Name: UP, dtype: int64"
      ]
     },
     "execution_count": 9,
     "metadata": {},
     "output_type": "execute_result"
    }
   ],
   "source": [
    "y.value_counts()"
   ]
  },
  {
   "cell_type": "code",
   "execution_count": 10,
   "metadata": {},
   "outputs": [],
   "source": [
    "X = X.values\n",
    "y = y.values"
   ]
  },
  {
   "cell_type": "code",
   "execution_count": 11,
   "metadata": {},
   "outputs": [],
   "source": [
    "X_train, X_test, y_train, y_test = train_test_split(X, y, test_size=0.25, random_state=1)"
   ]
  },
  {
   "cell_type": "code",
   "execution_count": 12,
   "metadata": {},
   "outputs": [
    {
     "data": {
      "text/plain": [
       "array([[0.07616831, 0.0710053 , 0.07748153, ..., 0.0676685 , 0.06432281,\n",
       "        0.00616553],\n",
       "       [0.18529146, 0.18100395, 0.18674293, ..., 0.1789788 , 0.17562625,\n",
       "        0.01379884],\n",
       "       [0.23691367, 0.2320555 , 0.23876938, ..., 0.23101133, 0.22754397,\n",
       "        0.00539589],\n",
       "       ...,\n",
       "       [0.04843619, 0.04305331, 0.04948957, ..., 0.04031012, 0.03686429,\n",
       "        0.00628749],\n",
       "       [0.65859559, 0.65750067, 0.66158932, ..., 0.65500844, 0.65230799,\n",
       "        0.03286739],\n",
       "       [0.27439417, 0.27277663, 0.27627633, ..., 0.27078841, 0.26937049,\n",
       "        0.03489873]])"
      ]
     },
     "execution_count": 12,
     "metadata": {},
     "output_type": "execute_result"
    }
   ],
   "source": [
    "X_train"
   ]
  },
  {
   "cell_type": "code",
   "execution_count": 13,
   "metadata": {},
   "outputs": [],
   "source": [
    "#random forest classifier with n_estimators=10 (default)\n",
    "model = RandomForestClassifier(\n",
    "    n_estimators=512)\n",
    "\n"
   ]
  },
  {
   "cell_type": "code",
   "execution_count": 14,
   "metadata": {},
   "outputs": [
    {
     "ename": "KeyboardInterrupt",
     "evalue": "",
     "output_type": "error",
     "traceback": [
      "\u001b[1;31m---------------------------------------------------------------------------\u001b[0m",
      "\u001b[1;31mKeyboardInterrupt\u001b[0m                         Traceback (most recent call last)",
      "Cell \u001b[1;32mIn [14], line 2\u001b[0m\n\u001b[0;32m      1\u001b[0m \u001b[39m#train the model using the training sets y_pred=clf.predict(X_test)\u001b[39;00m\n\u001b[1;32m----> 2\u001b[0m model\u001b[39m.\u001b[39;49mfit(X_train,y_train)\n",
      "File \u001b[1;32m~\\AppData\\Roaming\\Python\\Python310\\site-packages\\sklearn\\ensemble\\_forest.py:476\u001b[0m, in \u001b[0;36mBaseForest.fit\u001b[1;34m(self, X, y, sample_weight)\u001b[0m\n\u001b[0;32m    465\u001b[0m trees \u001b[39m=\u001b[39m [\n\u001b[0;32m    466\u001b[0m     \u001b[39mself\u001b[39m\u001b[39m.\u001b[39m_make_estimator(append\u001b[39m=\u001b[39m\u001b[39mFalse\u001b[39;00m, random_state\u001b[39m=\u001b[39mrandom_state)\n\u001b[0;32m    467\u001b[0m     \u001b[39mfor\u001b[39;00m i \u001b[39min\u001b[39;00m \u001b[39mrange\u001b[39m(n_more_estimators)\n\u001b[0;32m    468\u001b[0m ]\n\u001b[0;32m    470\u001b[0m \u001b[39m# Parallel loop: we prefer the threading backend as the Cython code\u001b[39;00m\n\u001b[0;32m    471\u001b[0m \u001b[39m# for fitting the trees is internally releasing the Python GIL\u001b[39;00m\n\u001b[0;32m    472\u001b[0m \u001b[39m# making threading more efficient than multiprocessing in\u001b[39;00m\n\u001b[0;32m    473\u001b[0m \u001b[39m# that case. However, for joblib 0.12+ we respect any\u001b[39;00m\n\u001b[0;32m    474\u001b[0m \u001b[39m# parallel_backend contexts set at a higher level,\u001b[39;00m\n\u001b[0;32m    475\u001b[0m \u001b[39m# since correctness does not rely on using threads.\u001b[39;00m\n\u001b[1;32m--> 476\u001b[0m trees \u001b[39m=\u001b[39m Parallel(\n\u001b[0;32m    477\u001b[0m     n_jobs\u001b[39m=\u001b[39;49m\u001b[39mself\u001b[39;49m\u001b[39m.\u001b[39;49mn_jobs,\n\u001b[0;32m    478\u001b[0m     verbose\u001b[39m=\u001b[39;49m\u001b[39mself\u001b[39;49m\u001b[39m.\u001b[39;49mverbose,\n\u001b[0;32m    479\u001b[0m     prefer\u001b[39m=\u001b[39;49m\u001b[39m\"\u001b[39;49m\u001b[39mthreads\u001b[39;49m\u001b[39m\"\u001b[39;49m,\n\u001b[0;32m    480\u001b[0m )(\n\u001b[0;32m    481\u001b[0m     delayed(_parallel_build_trees)(\n\u001b[0;32m    482\u001b[0m         t,\n\u001b[0;32m    483\u001b[0m         \u001b[39mself\u001b[39;49m\u001b[39m.\u001b[39;49mbootstrap,\n\u001b[0;32m    484\u001b[0m         X,\n\u001b[0;32m    485\u001b[0m         y,\n\u001b[0;32m    486\u001b[0m         sample_weight,\n\u001b[0;32m    487\u001b[0m         i,\n\u001b[0;32m    488\u001b[0m         \u001b[39mlen\u001b[39;49m(trees),\n\u001b[0;32m    489\u001b[0m         verbose\u001b[39m=\u001b[39;49m\u001b[39mself\u001b[39;49m\u001b[39m.\u001b[39;49mverbose,\n\u001b[0;32m    490\u001b[0m         class_weight\u001b[39m=\u001b[39;49m\u001b[39mself\u001b[39;49m\u001b[39m.\u001b[39;49mclass_weight,\n\u001b[0;32m    491\u001b[0m         n_samples_bootstrap\u001b[39m=\u001b[39;49mn_samples_bootstrap,\n\u001b[0;32m    492\u001b[0m     )\n\u001b[0;32m    493\u001b[0m     \u001b[39mfor\u001b[39;49;00m i, t \u001b[39min\u001b[39;49;00m \u001b[39menumerate\u001b[39;49m(trees)\n\u001b[0;32m    494\u001b[0m )\n\u001b[0;32m    496\u001b[0m \u001b[39m# Collect newly grown trees\u001b[39;00m\n\u001b[0;32m    497\u001b[0m \u001b[39mself\u001b[39m\u001b[39m.\u001b[39mestimators_\u001b[39m.\u001b[39mextend(trees)\n",
      "File \u001b[1;32m~\\AppData\\Roaming\\Python\\Python310\\site-packages\\joblib\\parallel.py:1088\u001b[0m, in \u001b[0;36mParallel.__call__\u001b[1;34m(self, iterable)\u001b[0m\n\u001b[0;32m   1085\u001b[0m \u001b[39mif\u001b[39;00m \u001b[39mself\u001b[39m\u001b[39m.\u001b[39mdispatch_one_batch(iterator):\n\u001b[0;32m   1086\u001b[0m     \u001b[39mself\u001b[39m\u001b[39m.\u001b[39m_iterating \u001b[39m=\u001b[39m \u001b[39mself\u001b[39m\u001b[39m.\u001b[39m_original_iterator \u001b[39mis\u001b[39;00m \u001b[39mnot\u001b[39;00m \u001b[39mNone\u001b[39;00m\n\u001b[1;32m-> 1088\u001b[0m \u001b[39mwhile\u001b[39;00m \u001b[39mself\u001b[39;49m\u001b[39m.\u001b[39;49mdispatch_one_batch(iterator):\n\u001b[0;32m   1089\u001b[0m     \u001b[39mpass\u001b[39;00m\n\u001b[0;32m   1091\u001b[0m \u001b[39mif\u001b[39;00m pre_dispatch \u001b[39m==\u001b[39m \u001b[39m\"\u001b[39m\u001b[39mall\u001b[39m\u001b[39m\"\u001b[39m \u001b[39mor\u001b[39;00m n_jobs \u001b[39m==\u001b[39m \u001b[39m1\u001b[39m:\n\u001b[0;32m   1092\u001b[0m     \u001b[39m# The iterable was consumed all at once by the above for loop.\u001b[39;00m\n\u001b[0;32m   1093\u001b[0m     \u001b[39m# No need to wait for async callbacks to trigger to\u001b[39;00m\n\u001b[0;32m   1094\u001b[0m     \u001b[39m# consumption.\u001b[39;00m\n",
      "File \u001b[1;32m~\\AppData\\Roaming\\Python\\Python310\\site-packages\\joblib\\parallel.py:901\u001b[0m, in \u001b[0;36mParallel.dispatch_one_batch\u001b[1;34m(self, iterator)\u001b[0m\n\u001b[0;32m    899\u001b[0m     \u001b[39mreturn\u001b[39;00m \u001b[39mFalse\u001b[39;00m\n\u001b[0;32m    900\u001b[0m \u001b[39melse\u001b[39;00m:\n\u001b[1;32m--> 901\u001b[0m     \u001b[39mself\u001b[39;49m\u001b[39m.\u001b[39;49m_dispatch(tasks)\n\u001b[0;32m    902\u001b[0m     \u001b[39mreturn\u001b[39;00m \u001b[39mTrue\u001b[39;00m\n",
      "File \u001b[1;32m~\\AppData\\Roaming\\Python\\Python310\\site-packages\\joblib\\parallel.py:819\u001b[0m, in \u001b[0;36mParallel._dispatch\u001b[1;34m(self, batch)\u001b[0m\n\u001b[0;32m    817\u001b[0m \u001b[39mwith\u001b[39;00m \u001b[39mself\u001b[39m\u001b[39m.\u001b[39m_lock:\n\u001b[0;32m    818\u001b[0m     job_idx \u001b[39m=\u001b[39m \u001b[39mlen\u001b[39m(\u001b[39mself\u001b[39m\u001b[39m.\u001b[39m_jobs)\n\u001b[1;32m--> 819\u001b[0m     job \u001b[39m=\u001b[39m \u001b[39mself\u001b[39;49m\u001b[39m.\u001b[39;49m_backend\u001b[39m.\u001b[39;49mapply_async(batch, callback\u001b[39m=\u001b[39;49mcb)\n\u001b[0;32m    820\u001b[0m     \u001b[39m# A job can complete so quickly than its callback is\u001b[39;00m\n\u001b[0;32m    821\u001b[0m     \u001b[39m# called before we get here, causing self._jobs to\u001b[39;00m\n\u001b[0;32m    822\u001b[0m     \u001b[39m# grow. To ensure correct results ordering, .insert is\u001b[39;00m\n\u001b[0;32m    823\u001b[0m     \u001b[39m# used (rather than .append) in the following line\u001b[39;00m\n\u001b[0;32m    824\u001b[0m     \u001b[39mself\u001b[39m\u001b[39m.\u001b[39m_jobs\u001b[39m.\u001b[39minsert(job_idx, job)\n",
      "File \u001b[1;32m~\\AppData\\Roaming\\Python\\Python310\\site-packages\\joblib\\_parallel_backends.py:208\u001b[0m, in \u001b[0;36mSequentialBackend.apply_async\u001b[1;34m(self, func, callback)\u001b[0m\n\u001b[0;32m    206\u001b[0m \u001b[39mdef\u001b[39;00m \u001b[39mapply_async\u001b[39m(\u001b[39mself\u001b[39m, func, callback\u001b[39m=\u001b[39m\u001b[39mNone\u001b[39;00m):\n\u001b[0;32m    207\u001b[0m     \u001b[39m\"\"\"Schedule a func to be run\"\"\"\u001b[39;00m\n\u001b[1;32m--> 208\u001b[0m     result \u001b[39m=\u001b[39m ImmediateResult(func)\n\u001b[0;32m    209\u001b[0m     \u001b[39mif\u001b[39;00m callback:\n\u001b[0;32m    210\u001b[0m         callback(result)\n",
      "File \u001b[1;32m~\\AppData\\Roaming\\Python\\Python310\\site-packages\\joblib\\_parallel_backends.py:597\u001b[0m, in \u001b[0;36mImmediateResult.__init__\u001b[1;34m(self, batch)\u001b[0m\n\u001b[0;32m    594\u001b[0m \u001b[39mdef\u001b[39;00m \u001b[39m__init__\u001b[39m(\u001b[39mself\u001b[39m, batch):\n\u001b[0;32m    595\u001b[0m     \u001b[39m# Don't delay the application, to avoid keeping the input\u001b[39;00m\n\u001b[0;32m    596\u001b[0m     \u001b[39m# arguments in memory\u001b[39;00m\n\u001b[1;32m--> 597\u001b[0m     \u001b[39mself\u001b[39m\u001b[39m.\u001b[39mresults \u001b[39m=\u001b[39m batch()\n",
      "File \u001b[1;32m~\\AppData\\Roaming\\Python\\Python310\\site-packages\\joblib\\parallel.py:288\u001b[0m, in \u001b[0;36mBatchedCalls.__call__\u001b[1;34m(self)\u001b[0m\n\u001b[0;32m    284\u001b[0m \u001b[39mdef\u001b[39;00m \u001b[39m__call__\u001b[39m(\u001b[39mself\u001b[39m):\n\u001b[0;32m    285\u001b[0m     \u001b[39m# Set the default nested backend to self._backend but do not set the\u001b[39;00m\n\u001b[0;32m    286\u001b[0m     \u001b[39m# change the default number of processes to -1\u001b[39;00m\n\u001b[0;32m    287\u001b[0m     \u001b[39mwith\u001b[39;00m parallel_backend(\u001b[39mself\u001b[39m\u001b[39m.\u001b[39m_backend, n_jobs\u001b[39m=\u001b[39m\u001b[39mself\u001b[39m\u001b[39m.\u001b[39m_n_jobs):\n\u001b[1;32m--> 288\u001b[0m         \u001b[39mreturn\u001b[39;00m [func(\u001b[39m*\u001b[39margs, \u001b[39m*\u001b[39m\u001b[39m*\u001b[39mkwargs)\n\u001b[0;32m    289\u001b[0m                 \u001b[39mfor\u001b[39;00m func, args, kwargs \u001b[39min\u001b[39;00m \u001b[39mself\u001b[39m\u001b[39m.\u001b[39mitems]\n",
      "File \u001b[1;32m~\\AppData\\Roaming\\Python\\Python310\\site-packages\\joblib\\parallel.py:288\u001b[0m, in \u001b[0;36m<listcomp>\u001b[1;34m(.0)\u001b[0m\n\u001b[0;32m    284\u001b[0m \u001b[39mdef\u001b[39;00m \u001b[39m__call__\u001b[39m(\u001b[39mself\u001b[39m):\n\u001b[0;32m    285\u001b[0m     \u001b[39m# Set the default nested backend to self._backend but do not set the\u001b[39;00m\n\u001b[0;32m    286\u001b[0m     \u001b[39m# change the default number of processes to -1\u001b[39;00m\n\u001b[0;32m    287\u001b[0m     \u001b[39mwith\u001b[39;00m parallel_backend(\u001b[39mself\u001b[39m\u001b[39m.\u001b[39m_backend, n_jobs\u001b[39m=\u001b[39m\u001b[39mself\u001b[39m\u001b[39m.\u001b[39m_n_jobs):\n\u001b[1;32m--> 288\u001b[0m         \u001b[39mreturn\u001b[39;00m [func(\u001b[39m*\u001b[39margs, \u001b[39m*\u001b[39m\u001b[39m*\u001b[39mkwargs)\n\u001b[0;32m    289\u001b[0m                 \u001b[39mfor\u001b[39;00m func, args, kwargs \u001b[39min\u001b[39;00m \u001b[39mself\u001b[39m\u001b[39m.\u001b[39mitems]\n",
      "File \u001b[1;32m~\\AppData\\Roaming\\Python\\Python310\\site-packages\\sklearn\\utils\\fixes.py:117\u001b[0m, in \u001b[0;36m_FuncWrapper.__call__\u001b[1;34m(self, *args, **kwargs)\u001b[0m\n\u001b[0;32m    115\u001b[0m \u001b[39mdef\u001b[39;00m \u001b[39m__call__\u001b[39m(\u001b[39mself\u001b[39m, \u001b[39m*\u001b[39margs, \u001b[39m*\u001b[39m\u001b[39m*\u001b[39mkwargs):\n\u001b[0;32m    116\u001b[0m     \u001b[39mwith\u001b[39;00m config_context(\u001b[39m*\u001b[39m\u001b[39m*\u001b[39m\u001b[39mself\u001b[39m\u001b[39m.\u001b[39mconfig):\n\u001b[1;32m--> 117\u001b[0m         \u001b[39mreturn\u001b[39;00m \u001b[39mself\u001b[39m\u001b[39m.\u001b[39mfunction(\u001b[39m*\u001b[39margs, \u001b[39m*\u001b[39m\u001b[39m*\u001b[39mkwargs)\n",
      "File \u001b[1;32m~\\AppData\\Roaming\\Python\\Python310\\site-packages\\sklearn\\ensemble\\_forest.py:189\u001b[0m, in \u001b[0;36m_parallel_build_trees\u001b[1;34m(tree, bootstrap, X, y, sample_weight, tree_idx, n_trees, verbose, class_weight, n_samples_bootstrap)\u001b[0m\n\u001b[0;32m    186\u001b[0m     \u001b[39melif\u001b[39;00m class_weight \u001b[39m==\u001b[39m \u001b[39m\"\u001b[39m\u001b[39mbalanced_subsample\u001b[39m\u001b[39m\"\u001b[39m:\n\u001b[0;32m    187\u001b[0m         curr_sample_weight \u001b[39m*\u001b[39m\u001b[39m=\u001b[39m compute_sample_weight(\u001b[39m\"\u001b[39m\u001b[39mbalanced\u001b[39m\u001b[39m\"\u001b[39m, y, indices\u001b[39m=\u001b[39mindices)\n\u001b[1;32m--> 189\u001b[0m     tree\u001b[39m.\u001b[39;49mfit(X, y, sample_weight\u001b[39m=\u001b[39;49mcurr_sample_weight, check_input\u001b[39m=\u001b[39;49m\u001b[39mFalse\u001b[39;49;00m)\n\u001b[0;32m    190\u001b[0m \u001b[39melse\u001b[39;00m:\n\u001b[0;32m    191\u001b[0m     tree\u001b[39m.\u001b[39mfit(X, y, sample_weight\u001b[39m=\u001b[39msample_weight, check_input\u001b[39m=\u001b[39m\u001b[39mFalse\u001b[39;00m)\n",
      "File \u001b[1;32m~\\AppData\\Roaming\\Python\\Python310\\site-packages\\sklearn\\tree\\_classes.py:969\u001b[0m, in \u001b[0;36mDecisionTreeClassifier.fit\u001b[1;34m(self, X, y, sample_weight, check_input)\u001b[0m\n\u001b[0;32m    939\u001b[0m \u001b[39mdef\u001b[39;00m \u001b[39mfit\u001b[39m(\u001b[39mself\u001b[39m, X, y, sample_weight\u001b[39m=\u001b[39m\u001b[39mNone\u001b[39;00m, check_input\u001b[39m=\u001b[39m\u001b[39mTrue\u001b[39;00m):\n\u001b[0;32m    940\u001b[0m     \u001b[39m\"\"\"Build a decision tree classifier from the training set (X, y).\u001b[39;00m\n\u001b[0;32m    941\u001b[0m \n\u001b[0;32m    942\u001b[0m \u001b[39m    Parameters\u001b[39;00m\n\u001b[1;32m   (...)\u001b[0m\n\u001b[0;32m    966\u001b[0m \u001b[39m        Fitted estimator.\u001b[39;00m\n\u001b[0;32m    967\u001b[0m \u001b[39m    \"\"\"\u001b[39;00m\n\u001b[1;32m--> 969\u001b[0m     \u001b[39msuper\u001b[39;49m()\u001b[39m.\u001b[39;49mfit(\n\u001b[0;32m    970\u001b[0m         X,\n\u001b[0;32m    971\u001b[0m         y,\n\u001b[0;32m    972\u001b[0m         sample_weight\u001b[39m=\u001b[39;49msample_weight,\n\u001b[0;32m    973\u001b[0m         check_input\u001b[39m=\u001b[39;49mcheck_input,\n\u001b[0;32m    974\u001b[0m     )\n\u001b[0;32m    975\u001b[0m     \u001b[39mreturn\u001b[39;00m \u001b[39mself\u001b[39m\n",
      "File \u001b[1;32m~\\AppData\\Roaming\\Python\\Python310\\site-packages\\sklearn\\tree\\_classes.py:458\u001b[0m, in \u001b[0;36mBaseDecisionTree.fit\u001b[1;34m(self, X, y, sample_weight, check_input)\u001b[0m\n\u001b[0;32m    447\u001b[0m \u001b[39melse\u001b[39;00m:\n\u001b[0;32m    448\u001b[0m     builder \u001b[39m=\u001b[39m BestFirstTreeBuilder(\n\u001b[0;32m    449\u001b[0m         splitter,\n\u001b[0;32m    450\u001b[0m         min_samples_split,\n\u001b[1;32m   (...)\u001b[0m\n\u001b[0;32m    455\u001b[0m         \u001b[39mself\u001b[39m\u001b[39m.\u001b[39mmin_impurity_decrease,\n\u001b[0;32m    456\u001b[0m     )\n\u001b[1;32m--> 458\u001b[0m builder\u001b[39m.\u001b[39;49mbuild(\u001b[39mself\u001b[39;49m\u001b[39m.\u001b[39;49mtree_, X, y, sample_weight)\n\u001b[0;32m    460\u001b[0m \u001b[39mif\u001b[39;00m \u001b[39mself\u001b[39m\u001b[39m.\u001b[39mn_outputs_ \u001b[39m==\u001b[39m \u001b[39m1\u001b[39m \u001b[39mand\u001b[39;00m is_classifier(\u001b[39mself\u001b[39m):\n\u001b[0;32m    461\u001b[0m     \u001b[39mself\u001b[39m\u001b[39m.\u001b[39mn_classes_ \u001b[39m=\u001b[39m \u001b[39mself\u001b[39m\u001b[39m.\u001b[39mn_classes_[\u001b[39m0\u001b[39m]\n",
      "\u001b[1;31mKeyboardInterrupt\u001b[0m: "
     ]
    }
   ],
   "source": [
    "#train the model using the training sets y_pred=clf.predict(X_test)\n",
    "model.fit(X_train,y_train)"
   ]
  },
  {
   "cell_type": "code",
   "execution_count": 16,
   "metadata": {},
   "outputs": [
    {
     "name": "stdout",
     "output_type": "stream",
     "text": [
      "0.5306818581425607\n"
     ]
    }
   ],
   "source": [
    "pred = model.predict(X_test)\n",
    "\n",
    "print(accuracy_score(y_test, pred))"
   ]
  },
  {
   "cell_type": "code",
   "execution_count": 17,
   "metadata": {},
   "outputs": [
    {
     "data": {
      "text/plain": [
       "array([0., 0., 1., ..., 0., 0., 0.])"
      ]
     },
     "execution_count": 17,
     "metadata": {},
     "output_type": "execute_result"
    }
   ],
   "source": [
    "pred"
   ]
  },
  {
   "cell_type": "code",
   "execution_count": 18,
   "metadata": {},
   "outputs": [
    {
     "data": {
      "text/plain": [
       "array([0.41947785, 0.41656752, 0.41641046, 0.42092485, 0.04483384,\n",
       "       0.4149636 , 0.45493847, 0.26179493, 0.3978513 , 0.27413919,\n",
       "       0.94453874, 0.42048809, 0.36173353, 0.67494628, 0.52553879,\n",
       "       0.38693563, 0.67816449, 0.75      , 0.59111965, 0.45493847,\n",
       "       0.31580945, 0.53873752, 0.76601692, 0.53218773, 0.53218773,\n",
       "       0.53218773, 0.53218773, 0.6786045 , 0.53903802, 0.42316755,\n",
       "       0.41746466, 0.0693026 ])"
      ]
     },
     "execution_count": 18,
     "metadata": {},
     "output_type": "execute_result"
    }
   ],
   "source": [
    "X_train[0]"
   ]
  },
  {
   "cell_type": "code",
   "execution_count": 19,
   "metadata": {},
   "outputs": [
    {
     "name": "stdout",
     "output_type": "stream",
     "text": [
      "1.0\n"
     ]
    }
   ],
   "source": [
    "test_ans = model.predict(X_train)\n",
    "print(accuracy_score(y_train, test_ans))"
   ]
  },
  {
   "cell_type": "code",
   "execution_count": 20,
   "metadata": {},
   "outputs": [
    {
     "data": {
      "text/plain": [
       "array([[7404, 6695],\n",
       "       [6651, 7687]], dtype=int64)"
      ]
     },
     "execution_count": 20,
     "metadata": {},
     "output_type": "execute_result"
    }
   ],
   "source": [
    "#confusion matrix\n",
    "confusion_matrix(y_test, pred)\n"
   ]
  },
  {
   "cell_type": "code",
   "execution_count": 21,
   "metadata": {},
   "outputs": [
    {
     "name": "stdout",
     "output_type": "stream",
     "text": [
      "              precision    recall  f1-score   support\n",
      "\n",
      "         0.0       0.53      0.53      0.53     14099\n",
      "         1.0       0.53      0.54      0.54     14338\n",
      "\n",
      "    accuracy                           0.53     28437\n",
      "   macro avg       0.53      0.53      0.53     28437\n",
      "weighted avg       0.53      0.53      0.53     28437\n",
      "\n"
     ]
    }
   ],
   "source": [
    "#classification report  \n",
    "print(classification_report(y_test, pred))"
   ]
  },
  {
   "cell_type": "code",
   "execution_count": 22,
   "metadata": {},
   "outputs": [
    {
     "name": "stdout",
     "output_type": "stream",
     "text": [
      "AUC: 0.53\n"
     ]
    }
   ],
   "source": [
    "#ROC curve\n",
    "fpr, tpr, thresholds = roc_curve(y_test, pred)\n",
    "auc = roc_auc_score(y_test, pred)\n",
    "print('AUC: %.2f' % auc)"
   ]
  },
  {
   "cell_type": "code",
   "execution_count": null,
   "metadata": {},
   "outputs": [],
   "source": [
    "#save model\n",
    "import pickle\n",
    "filename = 'model.sav'\n",
    "pickle.dump(model, open(filename, 'wb'))\n"
   ]
  }
 ],
 "metadata": {
  "kernelspec": {
   "display_name": "Python 3",
   "language": "python",
   "name": "python3"
  },
  "language_info": {
   "codemirror_mode": {
    "name": "ipython",
    "version": 3
   },
   "file_extension": ".py",
   "mimetype": "text/x-python",
   "name": "python",
   "nbconvert_exporter": "python",
   "pygments_lexer": "ipython3",
   "version": "3.10.8"
  },
  "orig_nbformat": 4,
  "vscode": {
   "interpreter": {
    "hash": "26de051ba29f2982a8de78e945f0abaf191376122a1563185a90213a26c5da77"
   }
  }
 },
 "nbformat": 4,
 "nbformat_minor": 2
}
