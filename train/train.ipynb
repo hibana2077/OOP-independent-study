{
  "cells": [
    {
      "cell_type": "markdown",
      "metadata": {
        "id": "6epq6_O1vvia"
      },
      "source": [
        "[![GitHub](https://img.shields.io/badge/Github-hibana2077-blue?style=plastic-square&logo=github)](https://github.com/hibana2077)\n",
        "[![Colab](https://img.shields.io/badge/Colab-Open%20in%20Colab-blue?style=plastic-square&logo=googlecolab)](https://colab.research.google.com/github/hibana2077/hibana2077/blob/master/train/train.ipynb)"
      ]
    },
    {
      "cell_type": "markdown",
      "metadata": {
        "id": "t38eQJt0vvid"
      },
      "source": [
        "如果要訓練這份資料集會需要安裝talib套件，請參考[這裡](https://www.lfd.uci.edu/~gohlke/pythonlibs/#ta-lib)下載對應的版本，並使用pip安裝。"
      ]
    },
    {
      "cell_type": "code",
      "execution_count": 1,
      "metadata": {
        "colab": {
          "base_uri": "https://localhost:8080/"
        },
        "id": "oWr_Ksvyv3Ro",
        "outputId": "a1ee08c2-55e0-4e05-a5e3-39430fde8c45"
      },
      "outputs": [],
      "source": [
        "# !pip install ccxt"
      ]
    },
    {
      "cell_type": "code",
      "execution_count": 20,
      "metadata": {
        "colab": {
          "base_uri": "https://localhost:8080/"
        },
        "id": "GSuyiZlLwOO5",
        "outputId": "3d1ec1a2-6001-4306-8424-1923934b2884"
      },
      "outputs": [],
      "source": [
        "# !wget http://prdownloads.sourceforge.net/ta-lib/ta-lib-0.4.0-src.tar.gz\n",
        "# !tar -xzvf ta-lib-0.4.0-src.tar.gz\n",
        "# %cd ta-lib\n",
        "# !./configure --prefix=/usr\n",
        "# !make\n",
        "# !make install\n",
        "# !pip install Ta-Lib"
      ]
    },
    {
      "cell_type": "code",
      "execution_count": null,
      "metadata": {},
      "outputs": [],
      "source": [
        "from talib import abstract"
      ]
    },
    {
      "cell_type": "code",
      "execution_count": 1,
      "metadata": {
        "colab": {
          "base_uri": "https://localhost:8080/",
          "height": 387
        },
        "id": "0dEqkDzevvie",
        "outputId": "4ef1a61d-0ce2-40b5-8102-d6a51827ef87"
      },
      "outputs": [],
      "source": [
        "from ccxt import binance\n",
        "from torch.utils.data import Dataset, DataLoader\n",
        "from torch import nn\n",
        "from torch import optim\n",
        "from torch.nn import functional as F\n",
        "\n",
        "import pandas as pd\n",
        "import numpy as np\n",
        "import torch\n",
        "import os\n",
        "import sys"
      ]
    },
    {
      "cell_type": "markdown",
      "metadata": {
        "id": "H59nhzEFvvif"
      },
      "source": [
        "# 環境整理"
      ]
    },
    {
      "cell_type": "code",
      "execution_count": null,
      "metadata": {
        "id": "Zjpnlfgcvvif"
      },
      "outputs": [],
      "source": [
        "ls_dir = os.listdir(path=\"..\")\n",
        "if \"data\" not in ls_dir:\n",
        "    os.mkdir(path=\"../data\")\n",
        "if \"model\" not in ls_dir:\n",
        "    os.mkdir(path=\"../model\")\n",
        "if \"data\" in ls_dir:\n",
        "    ls_dir = os.listdir(path=\"../data\")\n",
        "    #remove all files in data folder\n",
        "    for file in ls_dir:os.remove(path=\"../data/\"+file)"
      ]
    },
    {
      "cell_type": "markdown",
      "metadata": {
        "id": "zG1FGxMUvvig"
      },
      "source": [
        "# 下載資料集"
      ]
    },
    {
      "cell_type": "code",
      "execution_count": null,
      "metadata": {
        "id": "29klRj8yvvig"
      },
      "outputs": [],
      "source": [
        "# Download data\n",
        "\n",
        "binance = binance()\n",
        "symbol = 'ETH/USDT'\n",
        "timeframe = '15m'\n",
        "file_name = f\"../data/{symbol.replace('/', '_')}_{timeframe}.csv\"\n",
        "start = binance.parse8601('2022-01-01T00:00:00Z')\n",
        "end = binance.parse8601('2023-01-01T00:00:00Z')\n",
        "cnt_time = start\n",
        "data = []\n",
        "while cnt_time < end:\n",
        "    ohlcv = binance.fetch_ohlcv(symbol, timeframe, cnt_time)\n",
        "    data += ohlcv\n",
        "    cnt_time = ohlcv[-1][0] + 900000 \n",
        "df = pd.DataFrame(data, columns=['time', 'open', 'high', 'low', 'close', 'volume'])\n",
        "df['time'] = pd.to_datetime(df['time'], unit='ms')\n",
        "df.to_csv(file_name, index=False)"
      ]
    },
    {
      "cell_type": "markdown",
      "metadata": {
        "id": "XhcDY9sbvvih"
      },
      "source": [
        "# 讀取資料集"
      ]
    },
    {
      "cell_type": "code",
      "execution_count": 2,
      "metadata": {
        "id": "sT6TVXPQvvih"
      },
      "outputs": [],
      "source": [
        "#如果有下载好的數據，可以直接讀取\n",
        "data_file = '../data/ETH_USDT_15m.csv' #-> 可以自行更換\n",
        "df = pd.read_csv(data_file)"
      ]
    },
    {
      "cell_type": "markdown",
      "metadata": {
        "id": "Zz939phEvvih"
      },
      "source": [
        "# 數據處理\n",
        "\n",
        "- 計算RSI\n",
        "- 計算MACD\n",
        "- 計算OBV\n",
        "- 計算CCI\n",
        "- 改成變化百分比 -> 標準化\n",
        "\n",
        "關於技術指標的說明可以參考[這裡](https://www.investopedia.com/terms/t/technicalindicator.asp)，或是google。"
      ]
    },
    {
      "cell_type": "code",
      "execution_count": null,
      "metadata": {
        "id": "cWEqDOiVvvih"
      },
      "outputs": [],
      "source": [
        "df['RSI'] = abstract.RSI(df, timeperiod=14)\n",
        "df['MACD'] = abstract.MACD(df, fastperiod=12, slowperiod=26, signalperiod=9)['macd'] #只取MACD\n",
        "df['OBV'] = abstract.OBV(df, timeperiod=14)\n",
        "df['CCI'] = abstract.CCI(df, timeperiod=14)\n",
        "df['ATR'] = abstract.ATR(df, timeperiod=14)\n",
        "df['ADX'] = abstract.ADX(df, timeperiod=14)\n",
        "df['MFI'] = abstract.MFI(df, timeperiod=14)\n",
        "df['CLOSE_percent'] = df['close'].pct_change()"
      ]
    },
    {
      "cell_type": "markdown",
      "metadata": {
        "id": "RDPm_zt2vvii"
      },
      "source": [
        "# 設定買賣點\n",
        "\n",
        "將買賣點分為下跌、上漲、不動，並將數據轉成one-hot編碼。"
      ]
    },
    {
      "cell_type": "code",
      "execution_count": null,
      "metadata": {
        "id": "kQ0vSu6Yvvii"
      },
      "outputs": [],
      "source": [
        "df['UP'] = df['CLOSE_percent'].apply(lambda x: 1 if x > 0 else 0)\n",
        "df['DOWN'] = df['CLOSE_percent'].apply(lambda x: 1 if x < 0 else 0)\n",
        "df['UP'] = df['UP'].shift(-1) #shift UP DOWN 一個單位，因為我們要預測的是下一個時間點的漲跌\n",
        "df['DOWN'] = df['DOWN'].shift(-1)\n",
        "\n",
        "df = df.dropna()\n"
      ]
    },
    {
      "cell_type": "code",
      "execution_count": 3,
      "metadata": {
        "id": "k77OIN-dvvii"
      },
      "outputs": [
        {
          "data": {
            "text/html": [
              "<div>\n",
              "<style scoped>\n",
              "    .dataframe tbody tr th:only-of-type {\n",
              "        vertical-align: middle;\n",
              "    }\n",
              "\n",
              "    .dataframe tbody tr th {\n",
              "        vertical-align: top;\n",
              "    }\n",
              "\n",
              "    .dataframe thead th {\n",
              "        text-align: right;\n",
              "    }\n",
              "</style>\n",
              "<table border=\"1\" class=\"dataframe\">\n",
              "  <thead>\n",
              "    <tr style=\"text-align: right;\">\n",
              "      <th></th>\n",
              "      <th>time</th>\n",
              "      <th>open</th>\n",
              "      <th>high</th>\n",
              "      <th>low</th>\n",
              "      <th>close</th>\n",
              "      <th>volume</th>\n",
              "      <th>RSI</th>\n",
              "      <th>MACD</th>\n",
              "      <th>OBV</th>\n",
              "      <th>CCI</th>\n",
              "      <th>ATR</th>\n",
              "      <th>ADX</th>\n",
              "      <th>MFI</th>\n",
              "      <th>UP</th>\n",
              "      <th>DOWN</th>\n",
              "    </tr>\n",
              "  </thead>\n",
              "  <tbody>\n",
              "    <tr>\n",
              "      <th>0</th>\n",
              "      <td>2022-01-01 08:15:00</td>\n",
              "      <td>0.946260</td>\n",
              "      <td>0.941543</td>\n",
              "      <td>0.947608</td>\n",
              "      <td>0.947727</td>\n",
              "      <td>0.002398</td>\n",
              "      <td>0.534568</td>\n",
              "      <td>0.533569</td>\n",
              "      <td>0.888414</td>\n",
              "      <td>0.484903</td>\n",
              "      <td>0.205796</td>\n",
              "      <td>0.264040</td>\n",
              "      <td>0.507308</td>\n",
              "      <td>1.0</td>\n",
              "      <td>0.0</td>\n",
              "    </tr>\n",
              "    <tr>\n",
              "      <th>1</th>\n",
              "      <td>2022-01-01 08:30:00</td>\n",
              "      <td>0.947858</td>\n",
              "      <td>0.941063</td>\n",
              "      <td>0.947614</td>\n",
              "      <td>0.947993</td>\n",
              "      <td>0.002854</td>\n",
              "      <td>0.539149</td>\n",
              "      <td>0.536218</td>\n",
              "      <td>0.888673</td>\n",
              "      <td>0.477682</td>\n",
              "      <td>0.199213</td>\n",
              "      <td>0.258053</td>\n",
              "      <td>0.523490</td>\n",
              "      <td>0.0</td>\n",
              "      <td>1.0</td>\n",
              "    </tr>\n",
              "    <tr>\n",
              "      <th>2</th>\n",
              "      <td>2022-01-01 08:45:00</td>\n",
              "      <td>0.947989</td>\n",
              "      <td>0.944291</td>\n",
              "      <td>0.949045</td>\n",
              "      <td>0.947704</td>\n",
              "      <td>0.003717</td>\n",
              "      <td>0.532898</td>\n",
              "      <td>0.537880</td>\n",
              "      <td>0.888362</td>\n",
              "      <td>0.515845</td>\n",
              "      <td>0.198994</td>\n",
              "      <td>0.261002</td>\n",
              "      <td>0.447707</td>\n",
              "      <td>1.0</td>\n",
              "      <td>0.0</td>\n",
              "    </tr>\n",
              "    <tr>\n",
              "      <th>3</th>\n",
              "      <td>2022-01-01 09:00:00</td>\n",
              "      <td>0.947617</td>\n",
              "      <td>0.943009</td>\n",
              "      <td>0.947648</td>\n",
              "      <td>0.950474</td>\n",
              "      <td>0.004672</td>\n",
              "      <td>0.582682</td>\n",
              "      <td>0.544218</td>\n",
              "      <td>0.888731</td>\n",
              "      <td>0.538501</td>\n",
              "      <td>0.199162</td>\n",
              "      <td>0.257649</td>\n",
              "      <td>0.416577</td>\n",
              "      <td>0.0</td>\n",
              "      <td>1.0</td>\n",
              "    </tr>\n",
              "    <tr>\n",
              "      <th>4</th>\n",
              "      <td>2022-01-01 09:15:00</td>\n",
              "      <td>0.950474</td>\n",
              "      <td>0.942986</td>\n",
              "      <td>0.949239</td>\n",
              "      <td>0.948076</td>\n",
              "      <td>0.003983</td>\n",
              "      <td>0.529185</td>\n",
              "      <td>0.544908</td>\n",
              "      <td>0.888403</td>\n",
              "      <td>0.543989</td>\n",
              "      <td>0.194037</td>\n",
              "      <td>0.254536</td>\n",
              "      <td>0.411309</td>\n",
              "      <td>0.0</td>\n",
              "      <td>1.0</td>\n",
              "    </tr>\n",
              "    <tr>\n",
              "      <th>...</th>\n",
              "      <td>...</td>\n",
              "      <td>...</td>\n",
              "      <td>...</td>\n",
              "      <td>...</td>\n",
              "      <td>...</td>\n",
              "      <td>...</td>\n",
              "      <td>...</td>\n",
              "      <td>...</td>\n",
              "      <td>...</td>\n",
              "      <td>...</td>\n",
              "      <td>...</td>\n",
              "      <td>...</td>\n",
              "      <td>...</td>\n",
              "      <td>...</td>\n",
              "      <td>...</td>\n",
              "    </tr>\n",
              "    <tr>\n",
              "      <th>35461</th>\n",
              "      <td>2023-01-05 17:30:00</td>\n",
              "      <td>0.117445</td>\n",
              "      <td>0.114930</td>\n",
              "      <td>0.122333</td>\n",
              "      <td>0.117112</td>\n",
              "      <td>0.003971</td>\n",
              "      <td>0.418599</td>\n",
              "      <td>0.539354</td>\n",
              "      <td>0.310202</td>\n",
              "      <td>0.447685</td>\n",
              "      <td>0.026181</td>\n",
              "      <td>0.249130</td>\n",
              "      <td>0.448492</td>\n",
              "      <td>0.0</td>\n",
              "      <td>1.0</td>\n",
              "    </tr>\n",
              "    <tr>\n",
              "      <th>35462</th>\n",
              "      <td>2023-01-05 17:45:00</td>\n",
              "      <td>0.117109</td>\n",
              "      <td>0.114453</td>\n",
              "      <td>0.122176</td>\n",
              "      <td>0.117042</td>\n",
              "      <td>0.002877</td>\n",
              "      <td>0.412897</td>\n",
              "      <td>0.538768</td>\n",
              "      <td>0.309941</td>\n",
              "      <td>0.414423</td>\n",
              "      <td>0.024402</td>\n",
              "      <td>0.253226</td>\n",
              "      <td>0.399756</td>\n",
              "      <td>1.0</td>\n",
              "      <td>0.0</td>\n",
              "    </tr>\n",
              "    <tr>\n",
              "      <th>35463</th>\n",
              "      <td>2023-01-05 18:00:00</td>\n",
              "      <td>0.117042</td>\n",
              "      <td>0.114643</td>\n",
              "      <td>0.122079</td>\n",
              "      <td>0.117156</td>\n",
              "      <td>0.005562</td>\n",
              "      <td>0.425684</td>\n",
              "      <td>0.538585</td>\n",
              "      <td>0.310363</td>\n",
              "      <td>0.412165</td>\n",
              "      <td>0.023690</td>\n",
              "      <td>0.250799</td>\n",
              "      <td>0.579382</td>\n",
              "      <td>1.0</td>\n",
              "      <td>0.0</td>\n",
              "    </tr>\n",
              "    <tr>\n",
              "      <th>35464</th>\n",
              "      <td>2023-01-05 18:15:00</td>\n",
              "      <td>0.117156</td>\n",
              "      <td>0.115538</td>\n",
              "      <td>0.122400</td>\n",
              "      <td>0.118251</td>\n",
              "      <td>0.015938</td>\n",
              "      <td>0.532847</td>\n",
              "      <td>0.540475</td>\n",
              "      <td>0.311407</td>\n",
              "      <td>0.564113</td>\n",
              "      <td>0.024910</td>\n",
              "      <td>0.227466</td>\n",
              "      <td>0.557552</td>\n",
              "      <td>0.0</td>\n",
              "      <td>1.0</td>\n",
              "    </tr>\n",
              "    <tr>\n",
              "      <th>35465</th>\n",
              "      <td>2023-01-05 18:30:00</td>\n",
              "      <td>0.118247</td>\n",
              "      <td>0.115655</td>\n",
              "      <td>0.123256</td>\n",
              "      <td>0.118063</td>\n",
              "      <td>0.004178</td>\n",
              "      <td>0.514390</td>\n",
              "      <td>0.541673</td>\n",
              "      <td>0.311068</td>\n",
              "      <td>0.628770</td>\n",
              "      <td>0.023626</td>\n",
              "      <td>0.208427</td>\n",
              "      <td>0.414513</td>\n",
              "      <td>1.0</td>\n",
              "      <td>0.0</td>\n",
              "    </tr>\n",
              "  </tbody>\n",
              "</table>\n",
              "<p>35466 rows × 15 columns</p>\n",
              "</div>"
            ],
            "text/plain": [
              "                      time      open      high       low     close    volume  \\\n",
              "0      2022-01-01 08:15:00  0.946260  0.941543  0.947608  0.947727  0.002398   \n",
              "1      2022-01-01 08:30:00  0.947858  0.941063  0.947614  0.947993  0.002854   \n",
              "2      2022-01-01 08:45:00  0.947989  0.944291  0.949045  0.947704  0.003717   \n",
              "3      2022-01-01 09:00:00  0.947617  0.943009  0.947648  0.950474  0.004672   \n",
              "4      2022-01-01 09:15:00  0.950474  0.942986  0.949239  0.948076  0.003983   \n",
              "...                    ...       ...       ...       ...       ...       ...   \n",
              "35461  2023-01-05 17:30:00  0.117445  0.114930  0.122333  0.117112  0.003971   \n",
              "35462  2023-01-05 17:45:00  0.117109  0.114453  0.122176  0.117042  0.002877   \n",
              "35463  2023-01-05 18:00:00  0.117042  0.114643  0.122079  0.117156  0.005562   \n",
              "35464  2023-01-05 18:15:00  0.117156  0.115538  0.122400  0.118251  0.015938   \n",
              "35465  2023-01-05 18:30:00  0.118247  0.115655  0.123256  0.118063  0.004178   \n",
              "\n",
              "            RSI      MACD       OBV       CCI       ATR       ADX       MFI  \\\n",
              "0      0.534568  0.533569  0.888414  0.484903  0.205796  0.264040  0.507308   \n",
              "1      0.539149  0.536218  0.888673  0.477682  0.199213  0.258053  0.523490   \n",
              "2      0.532898  0.537880  0.888362  0.515845  0.198994  0.261002  0.447707   \n",
              "3      0.582682  0.544218  0.888731  0.538501  0.199162  0.257649  0.416577   \n",
              "4      0.529185  0.544908  0.888403  0.543989  0.194037  0.254536  0.411309   \n",
              "...         ...       ...       ...       ...       ...       ...       ...   \n",
              "35461  0.418599  0.539354  0.310202  0.447685  0.026181  0.249130  0.448492   \n",
              "35462  0.412897  0.538768  0.309941  0.414423  0.024402  0.253226  0.399756   \n",
              "35463  0.425684  0.538585  0.310363  0.412165  0.023690  0.250799  0.579382   \n",
              "35464  0.532847  0.540475  0.311407  0.564113  0.024910  0.227466  0.557552   \n",
              "35465  0.514390  0.541673  0.311068  0.628770  0.023626  0.208427  0.414513   \n",
              "\n",
              "        UP  DOWN  \n",
              "0      1.0   0.0  \n",
              "1      0.0   1.0  \n",
              "2      1.0   0.0  \n",
              "3      0.0   1.0  \n",
              "4      0.0   1.0  \n",
              "...    ...   ...  \n",
              "35461  0.0   1.0  \n",
              "35462  1.0   0.0  \n",
              "35463  1.0   0.0  \n",
              "35464  0.0   1.0  \n",
              "35465  1.0   0.0  \n",
              "\n",
              "[35466 rows x 15 columns]"
            ]
          },
          "execution_count": 3,
          "metadata": {},
          "output_type": "execute_result"
        }
      ],
      "source": [
        "df"
      ]
    },
    {
      "cell_type": "code",
      "execution_count": null,
      "metadata": {
        "id": "aTh7CyL-vvij"
      },
      "outputs": [
        {
          "name": "stderr",
          "output_type": "stream",
          "text": [
            "C:\\Users\\李軒豪\\AppData\\Local\\Temp\\ipykernel_36616\\1144569331.py:2: SettingWithCopyWarning: \n",
            "A value is trying to be set on a copy of a slice from a DataFrame.\n",
            "Try using .loc[row_indexer,col_indexer] = value instead\n",
            "\n",
            "See the caveats in the documentation: https://pandas.pydata.org/pandas-docs/stable/user_guide/indexing.html#returning-a-view-versus-a-copy\n",
            "  df['RSI'] = (df['RSI'] - df['RSI'].min()) / (df['RSI'].max() - df['RSI'].min())\n",
            "C:\\Users\\李軒豪\\AppData\\Local\\Temp\\ipykernel_36616\\1144569331.py:3: SettingWithCopyWarning: \n",
            "A value is trying to be set on a copy of a slice from a DataFrame.\n",
            "Try using .loc[row_indexer,col_indexer] = value instead\n",
            "\n",
            "See the caveats in the documentation: https://pandas.pydata.org/pandas-docs/stable/user_guide/indexing.html#returning-a-view-versus-a-copy\n",
            "  df['MACD'] = (df['MACD'] - df['MACD'].min()) / (df['MACD'].max() - df['MACD'].min())\n",
            "C:\\Users\\李軒豪\\AppData\\Local\\Temp\\ipykernel_36616\\1144569331.py:4: SettingWithCopyWarning: \n",
            "A value is trying to be set on a copy of a slice from a DataFrame.\n",
            "Try using .loc[row_indexer,col_indexer] = value instead\n",
            "\n",
            "See the caveats in the documentation: https://pandas.pydata.org/pandas-docs/stable/user_guide/indexing.html#returning-a-view-versus-a-copy\n",
            "  df['OBV'] = (df['OBV'] - df['OBV'].min()) / (df['OBV'].max() - df['OBV'].min())\n",
            "C:\\Users\\李軒豪\\AppData\\Local\\Temp\\ipykernel_36616\\1144569331.py:5: SettingWithCopyWarning: \n",
            "A value is trying to be set on a copy of a slice from a DataFrame.\n",
            "Try using .loc[row_indexer,col_indexer] = value instead\n",
            "\n",
            "See the caveats in the documentation: https://pandas.pydata.org/pandas-docs/stable/user_guide/indexing.html#returning-a-view-versus-a-copy\n",
            "  df['CCI'] = (df['CCI'] - df['CCI'].min()) / (df['CCI'].max() - df['CCI'].min())\n",
            "C:\\Users\\李軒豪\\AppData\\Local\\Temp\\ipykernel_36616\\1144569331.py:6: SettingWithCopyWarning: \n",
            "A value is trying to be set on a copy of a slice from a DataFrame.\n",
            "Try using .loc[row_indexer,col_indexer] = value instead\n",
            "\n",
            "See the caveats in the documentation: https://pandas.pydata.org/pandas-docs/stable/user_guide/indexing.html#returning-a-view-versus-a-copy\n",
            "  df['ATR'] = (df['ATR'] - df['ATR'].min()) / (df['ATR'].max() - df['ATR'].min())\n",
            "C:\\Users\\李軒豪\\AppData\\Local\\Temp\\ipykernel_36616\\1144569331.py:7: SettingWithCopyWarning: \n",
            "A value is trying to be set on a copy of a slice from a DataFrame.\n",
            "Try using .loc[row_indexer,col_indexer] = value instead\n",
            "\n",
            "See the caveats in the documentation: https://pandas.pydata.org/pandas-docs/stable/user_guide/indexing.html#returning-a-view-versus-a-copy\n",
            "  df['ADX'] = (df['ADX'] - df['ADX'].min()) / (df['ADX'].max() - df['ADX'].min())\n",
            "C:\\Users\\李軒豪\\AppData\\Local\\Temp\\ipykernel_36616\\1144569331.py:8: SettingWithCopyWarning: \n",
            "A value is trying to be set on a copy of a slice from a DataFrame.\n",
            "Try using .loc[row_indexer,col_indexer] = value instead\n",
            "\n",
            "See the caveats in the documentation: https://pandas.pydata.org/pandas-docs/stable/user_guide/indexing.html#returning-a-view-versus-a-copy\n",
            "  df['MFI'] = (df['MFI'] - df['MFI'].min()) / (df['MFI'].max() - df['MFI'].min())\n",
            "C:\\Users\\李軒豪\\AppData\\Local\\Temp\\ipykernel_36616\\1144569331.py:9: SettingWithCopyWarning: \n",
            "A value is trying to be set on a copy of a slice from a DataFrame.\n",
            "Try using .loc[row_indexer,col_indexer] = value instead\n",
            "\n",
            "See the caveats in the documentation: https://pandas.pydata.org/pandas-docs/stable/user_guide/indexing.html#returning-a-view-versus-a-copy\n",
            "  df['open'] = (df['open'] - df['open'].min()) / (df['open'].max() - df['open'].min())\n",
            "C:\\Users\\李軒豪\\AppData\\Local\\Temp\\ipykernel_36616\\1144569331.py:10: SettingWithCopyWarning: \n",
            "A value is trying to be set on a copy of a slice from a DataFrame.\n",
            "Try using .loc[row_indexer,col_indexer] = value instead\n",
            "\n",
            "See the caveats in the documentation: https://pandas.pydata.org/pandas-docs/stable/user_guide/indexing.html#returning-a-view-versus-a-copy\n",
            "  df['high'] = (df['high'] - df['high'].min()) / (df['high'].max() - df['high'].min())\n",
            "C:\\Users\\李軒豪\\AppData\\Local\\Temp\\ipykernel_36616\\1144569331.py:11: SettingWithCopyWarning: \n",
            "A value is trying to be set on a copy of a slice from a DataFrame.\n",
            "Try using .loc[row_indexer,col_indexer] = value instead\n",
            "\n",
            "See the caveats in the documentation: https://pandas.pydata.org/pandas-docs/stable/user_guide/indexing.html#returning-a-view-versus-a-copy\n",
            "  df['low'] = (df['low'] - df['low'].min()) / (df['low'].max() - df['low'].min())\n",
            "C:\\Users\\李軒豪\\AppData\\Local\\Temp\\ipykernel_36616\\1144569331.py:12: SettingWithCopyWarning: \n",
            "A value is trying to be set on a copy of a slice from a DataFrame.\n",
            "Try using .loc[row_indexer,col_indexer] = value instead\n",
            "\n",
            "See the caveats in the documentation: https://pandas.pydata.org/pandas-docs/stable/user_guide/indexing.html#returning-a-view-versus-a-copy\n",
            "  df['close'] = (df['close'] - df['close'].min()) / (df['close'].max() - df['close'].min())\n",
            "C:\\Users\\李軒豪\\AppData\\Local\\Temp\\ipykernel_36616\\1144569331.py:13: SettingWithCopyWarning: \n",
            "A value is trying to be set on a copy of a slice from a DataFrame.\n",
            "Try using .loc[row_indexer,col_indexer] = value instead\n",
            "\n",
            "See the caveats in the documentation: https://pandas.pydata.org/pandas-docs/stable/user_guide/indexing.html#returning-a-view-versus-a-copy\n",
            "  df['volume'] = (df['volume'] - df['volume'].min()) / (df['volume'].max() - df['volume'].min())\n"
          ]
        }
      ],
      "source": [
        "#正規化\n",
        "df['RSI'] = (df['RSI'] - df['RSI'].min()) / (df['RSI'].max() - df['RSI'].min())\n",
        "df['MACD'] = (df['MACD'] - df['MACD'].min()) / (df['MACD'].max() - df['MACD'].min())\n",
        "df['OBV'] = (df['OBV'] - df['OBV'].min()) / (df['OBV'].max() - df['OBV'].min())\n",
        "df['CCI'] = (df['CCI'] - df['CCI'].min()) / (df['CCI'].max() - df['CCI'].min())\n",
        "df['ATR'] = (df['ATR'] - df['ATR'].min()) / (df['ATR'].max() - df['ATR'].min())\n",
        "df['ADX'] = (df['ADX'] - df['ADX'].min()) / (df['ADX'].max() - df['ADX'].min())\n",
        "df['MFI'] = (df['MFI'] - df['MFI'].min()) / (df['MFI'].max() - df['MFI'].min())\n",
        "df['open'] = (df['open'] - df['open'].min()) / (df['open'].max() - df['open'].min())\n",
        "df['high'] = (df['high'] - df['high'].min()) / (df['high'].max() - df['high'].min())\n",
        "df['low'] = (df['low'] - df['low'].min()) / (df['low'].max() - df['low'].min())\n",
        "df['close'] = (df['close'] - df['close'].min()) / (df['close'].max() - df['close'].min())\n",
        "df['volume'] = (df['volume'] - df['volume'].min()) / (df['volume'].max() - df['volume'].min())"
      ]
    },
    {
      "cell_type": "code",
      "execution_count": null,
      "metadata": {},
      "outputs": [
        {
          "name": "stderr",
          "output_type": "stream",
          "text": [
            "C:\\Users\\李軒豪\\AppData\\Roaming\\Python\\Python310\\site-packages\\pandas\\core\\frame.py:4906: SettingWithCopyWarning: \n",
            "A value is trying to be set on a copy of a slice from a DataFrame\n",
            "\n",
            "See the caveats in the documentation: https://pandas.pydata.org/pandas-docs/stable/user_guide/indexing.html#returning-a-view-versus-a-copy\n",
            "  return super().drop(\n"
          ]
        }
      ],
      "source": [
        "df.drop(['CLOSE_percent'], axis=1, inplace=True)"
      ]
    },
    {
      "cell_type": "code",
      "execution_count": 5,
      "metadata": {
        "id": "UYO1j5O-vvij"
      },
      "outputs": [
        {
          "data": {
            "text/html": [
              "<div>\n",
              "<style scoped>\n",
              "    .dataframe tbody tr th:only-of-type {\n",
              "        vertical-align: middle;\n",
              "    }\n",
              "\n",
              "    .dataframe tbody tr th {\n",
              "        vertical-align: top;\n",
              "    }\n",
              "\n",
              "    .dataframe thead th {\n",
              "        text-align: right;\n",
              "    }\n",
              "</style>\n",
              "<table border=\"1\" class=\"dataframe\">\n",
              "  <thead>\n",
              "    <tr style=\"text-align: right;\">\n",
              "      <th></th>\n",
              "      <th>time</th>\n",
              "      <th>open</th>\n",
              "      <th>high</th>\n",
              "      <th>low</th>\n",
              "      <th>close</th>\n",
              "      <th>volume</th>\n",
              "      <th>RSI</th>\n",
              "      <th>MACD</th>\n",
              "      <th>OBV</th>\n",
              "      <th>CCI</th>\n",
              "      <th>ATR</th>\n",
              "      <th>ADX</th>\n",
              "      <th>MFI</th>\n",
              "      <th>UP</th>\n",
              "      <th>DOWN</th>\n",
              "    </tr>\n",
              "  </thead>\n",
              "  <tbody>\n",
              "    <tr>\n",
              "      <th>0</th>\n",
              "      <td>2022-01-01 08:15:00</td>\n",
              "      <td>0.946260</td>\n",
              "      <td>0.941543</td>\n",
              "      <td>0.947608</td>\n",
              "      <td>0.947727</td>\n",
              "      <td>0.002398</td>\n",
              "      <td>0.534568</td>\n",
              "      <td>0.533569</td>\n",
              "      <td>0.888414</td>\n",
              "      <td>0.484903</td>\n",
              "      <td>0.205796</td>\n",
              "      <td>0.264040</td>\n",
              "      <td>0.507308</td>\n",
              "      <td>1.0</td>\n",
              "      <td>0.0</td>\n",
              "    </tr>\n",
              "    <tr>\n",
              "      <th>1</th>\n",
              "      <td>2022-01-01 08:30:00</td>\n",
              "      <td>0.947858</td>\n",
              "      <td>0.941063</td>\n",
              "      <td>0.947614</td>\n",
              "      <td>0.947993</td>\n",
              "      <td>0.002854</td>\n",
              "      <td>0.539149</td>\n",
              "      <td>0.536218</td>\n",
              "      <td>0.888673</td>\n",
              "      <td>0.477682</td>\n",
              "      <td>0.199213</td>\n",
              "      <td>0.258053</td>\n",
              "      <td>0.523490</td>\n",
              "      <td>0.0</td>\n",
              "      <td>1.0</td>\n",
              "    </tr>\n",
              "    <tr>\n",
              "      <th>2</th>\n",
              "      <td>2022-01-01 08:45:00</td>\n",
              "      <td>0.947989</td>\n",
              "      <td>0.944291</td>\n",
              "      <td>0.949045</td>\n",
              "      <td>0.947704</td>\n",
              "      <td>0.003717</td>\n",
              "      <td>0.532898</td>\n",
              "      <td>0.537880</td>\n",
              "      <td>0.888362</td>\n",
              "      <td>0.515845</td>\n",
              "      <td>0.198994</td>\n",
              "      <td>0.261002</td>\n",
              "      <td>0.447707</td>\n",
              "      <td>1.0</td>\n",
              "      <td>0.0</td>\n",
              "    </tr>\n",
              "    <tr>\n",
              "      <th>3</th>\n",
              "      <td>2022-01-01 09:00:00</td>\n",
              "      <td>0.947617</td>\n",
              "      <td>0.943009</td>\n",
              "      <td>0.947648</td>\n",
              "      <td>0.950474</td>\n",
              "      <td>0.004672</td>\n",
              "      <td>0.582682</td>\n",
              "      <td>0.544218</td>\n",
              "      <td>0.888731</td>\n",
              "      <td>0.538501</td>\n",
              "      <td>0.199162</td>\n",
              "      <td>0.257649</td>\n",
              "      <td>0.416577</td>\n",
              "      <td>0.0</td>\n",
              "      <td>1.0</td>\n",
              "    </tr>\n",
              "    <tr>\n",
              "      <th>4</th>\n",
              "      <td>2022-01-01 09:15:00</td>\n",
              "      <td>0.950474</td>\n",
              "      <td>0.942986</td>\n",
              "      <td>0.949239</td>\n",
              "      <td>0.948076</td>\n",
              "      <td>0.003983</td>\n",
              "      <td>0.529185</td>\n",
              "      <td>0.544908</td>\n",
              "      <td>0.888403</td>\n",
              "      <td>0.543989</td>\n",
              "      <td>0.194037</td>\n",
              "      <td>0.254536</td>\n",
              "      <td>0.411309</td>\n",
              "      <td>0.0</td>\n",
              "      <td>1.0</td>\n",
              "    </tr>\n",
              "    <tr>\n",
              "      <th>...</th>\n",
              "      <td>...</td>\n",
              "      <td>...</td>\n",
              "      <td>...</td>\n",
              "      <td>...</td>\n",
              "      <td>...</td>\n",
              "      <td>...</td>\n",
              "      <td>...</td>\n",
              "      <td>...</td>\n",
              "      <td>...</td>\n",
              "      <td>...</td>\n",
              "      <td>...</td>\n",
              "      <td>...</td>\n",
              "      <td>...</td>\n",
              "      <td>...</td>\n",
              "      <td>...</td>\n",
              "    </tr>\n",
              "    <tr>\n",
              "      <th>35461</th>\n",
              "      <td>2023-01-05 17:30:00</td>\n",
              "      <td>0.117445</td>\n",
              "      <td>0.114930</td>\n",
              "      <td>0.122333</td>\n",
              "      <td>0.117112</td>\n",
              "      <td>0.003971</td>\n",
              "      <td>0.418599</td>\n",
              "      <td>0.539354</td>\n",
              "      <td>0.310202</td>\n",
              "      <td>0.447685</td>\n",
              "      <td>0.026181</td>\n",
              "      <td>0.249130</td>\n",
              "      <td>0.448492</td>\n",
              "      <td>0.0</td>\n",
              "      <td>1.0</td>\n",
              "    </tr>\n",
              "    <tr>\n",
              "      <th>35462</th>\n",
              "      <td>2023-01-05 17:45:00</td>\n",
              "      <td>0.117109</td>\n",
              "      <td>0.114453</td>\n",
              "      <td>0.122176</td>\n",
              "      <td>0.117042</td>\n",
              "      <td>0.002877</td>\n",
              "      <td>0.412897</td>\n",
              "      <td>0.538768</td>\n",
              "      <td>0.309941</td>\n",
              "      <td>0.414423</td>\n",
              "      <td>0.024402</td>\n",
              "      <td>0.253226</td>\n",
              "      <td>0.399756</td>\n",
              "      <td>1.0</td>\n",
              "      <td>0.0</td>\n",
              "    </tr>\n",
              "    <tr>\n",
              "      <th>35463</th>\n",
              "      <td>2023-01-05 18:00:00</td>\n",
              "      <td>0.117042</td>\n",
              "      <td>0.114643</td>\n",
              "      <td>0.122079</td>\n",
              "      <td>0.117156</td>\n",
              "      <td>0.005562</td>\n",
              "      <td>0.425684</td>\n",
              "      <td>0.538585</td>\n",
              "      <td>0.310363</td>\n",
              "      <td>0.412165</td>\n",
              "      <td>0.023690</td>\n",
              "      <td>0.250799</td>\n",
              "      <td>0.579382</td>\n",
              "      <td>1.0</td>\n",
              "      <td>0.0</td>\n",
              "    </tr>\n",
              "    <tr>\n",
              "      <th>35464</th>\n",
              "      <td>2023-01-05 18:15:00</td>\n",
              "      <td>0.117156</td>\n",
              "      <td>0.115538</td>\n",
              "      <td>0.122400</td>\n",
              "      <td>0.118251</td>\n",
              "      <td>0.015938</td>\n",
              "      <td>0.532847</td>\n",
              "      <td>0.540475</td>\n",
              "      <td>0.311407</td>\n",
              "      <td>0.564113</td>\n",
              "      <td>0.024910</td>\n",
              "      <td>0.227466</td>\n",
              "      <td>0.557552</td>\n",
              "      <td>0.0</td>\n",
              "      <td>1.0</td>\n",
              "    </tr>\n",
              "    <tr>\n",
              "      <th>35465</th>\n",
              "      <td>2023-01-05 18:30:00</td>\n",
              "      <td>0.118247</td>\n",
              "      <td>0.115655</td>\n",
              "      <td>0.123256</td>\n",
              "      <td>0.118063</td>\n",
              "      <td>0.004178</td>\n",
              "      <td>0.514390</td>\n",
              "      <td>0.541673</td>\n",
              "      <td>0.311068</td>\n",
              "      <td>0.628770</td>\n",
              "      <td>0.023626</td>\n",
              "      <td>0.208427</td>\n",
              "      <td>0.414513</td>\n",
              "      <td>1.0</td>\n",
              "      <td>0.0</td>\n",
              "    </tr>\n",
              "  </tbody>\n",
              "</table>\n",
              "<p>35466 rows × 15 columns</p>\n",
              "</div>"
            ],
            "text/plain": [
              "                      time      open      high       low     close    volume  \\\n",
              "0      2022-01-01 08:15:00  0.946260  0.941543  0.947608  0.947727  0.002398   \n",
              "1      2022-01-01 08:30:00  0.947858  0.941063  0.947614  0.947993  0.002854   \n",
              "2      2022-01-01 08:45:00  0.947989  0.944291  0.949045  0.947704  0.003717   \n",
              "3      2022-01-01 09:00:00  0.947617  0.943009  0.947648  0.950474  0.004672   \n",
              "4      2022-01-01 09:15:00  0.950474  0.942986  0.949239  0.948076  0.003983   \n",
              "...                    ...       ...       ...       ...       ...       ...   \n",
              "35461  2023-01-05 17:30:00  0.117445  0.114930  0.122333  0.117112  0.003971   \n",
              "35462  2023-01-05 17:45:00  0.117109  0.114453  0.122176  0.117042  0.002877   \n",
              "35463  2023-01-05 18:00:00  0.117042  0.114643  0.122079  0.117156  0.005562   \n",
              "35464  2023-01-05 18:15:00  0.117156  0.115538  0.122400  0.118251  0.015938   \n",
              "35465  2023-01-05 18:30:00  0.118247  0.115655  0.123256  0.118063  0.004178   \n",
              "\n",
              "            RSI      MACD       OBV       CCI       ATR       ADX       MFI  \\\n",
              "0      0.534568  0.533569  0.888414  0.484903  0.205796  0.264040  0.507308   \n",
              "1      0.539149  0.536218  0.888673  0.477682  0.199213  0.258053  0.523490   \n",
              "2      0.532898  0.537880  0.888362  0.515845  0.198994  0.261002  0.447707   \n",
              "3      0.582682  0.544218  0.888731  0.538501  0.199162  0.257649  0.416577   \n",
              "4      0.529185  0.544908  0.888403  0.543989  0.194037  0.254536  0.411309   \n",
              "...         ...       ...       ...       ...       ...       ...       ...   \n",
              "35461  0.418599  0.539354  0.310202  0.447685  0.026181  0.249130  0.448492   \n",
              "35462  0.412897  0.538768  0.309941  0.414423  0.024402  0.253226  0.399756   \n",
              "35463  0.425684  0.538585  0.310363  0.412165  0.023690  0.250799  0.579382   \n",
              "35464  0.532847  0.540475  0.311407  0.564113  0.024910  0.227466  0.557552   \n",
              "35465  0.514390  0.541673  0.311068  0.628770  0.023626  0.208427  0.414513   \n",
              "\n",
              "        UP  DOWN  \n",
              "0      1.0   0.0  \n",
              "1      0.0   1.0  \n",
              "2      1.0   0.0  \n",
              "3      0.0   1.0  \n",
              "4      0.0   1.0  \n",
              "...    ...   ...  \n",
              "35461  0.0   1.0  \n",
              "35462  1.0   0.0  \n",
              "35463  1.0   0.0  \n",
              "35464  0.0   1.0  \n",
              "35465  1.0   0.0  \n",
              "\n",
              "[35466 rows x 15 columns]"
            ]
          },
          "execution_count": 5,
          "metadata": {},
          "output_type": "execute_result"
        }
      ],
      "source": [
        "df"
      ]
    },
    {
      "cell_type": "code",
      "execution_count": 4,
      "metadata": {
        "id": "fJySHQc1vvij"
      },
      "outputs": [
        {
          "data": {
            "text/plain": [
              "1.0    17743\n",
              "0.0    17723\n",
              "Name: UP, dtype: int64"
            ]
          },
          "execution_count": 4,
          "metadata": {},
          "output_type": "execute_result"
        }
      ],
      "source": [
        "df['UP'].value_counts()"
      ]
    },
    {
      "cell_type": "code",
      "execution_count": 5,
      "metadata": {
        "id": "assMge-pvvik"
      },
      "outputs": [
        {
          "data": {
            "text/plain": [
              "0.0    17775\n",
              "1.0    17691\n",
              "Name: DOWN, dtype: int64"
            ]
          },
          "execution_count": 5,
          "metadata": {},
          "output_type": "execute_result"
        }
      ],
      "source": [
        "df['DOWN'].value_counts()"
      ]
    },
    {
      "cell_type": "markdown",
      "metadata": {
        "id": "G30PhZn8vvik"
      },
      "source": [
        "看起來數據蠻平衡的"
      ]
    },
    {
      "cell_type": "markdown",
      "metadata": {
        "id": "PHhAI0s7vvik"
      },
      "source": [
        "# 儲存資料"
      ]
    },
    {
      "cell_type": "code",
      "execution_count": null,
      "metadata": {
        "id": "5G-LQyMFvvik"
      },
      "outputs": [],
      "source": [
        "df.to_csv(file_name, index=False)"
      ]
    },
    {
      "cell_type": "markdown",
      "metadata": {
        "id": "GGf37pdovvik"
      },
      "source": [
        "# 分割成X、y"
      ]
    },
    {
      "cell_type": "code",
      "execution_count": 6,
      "metadata": {
        "id": "J8yawScBvvik"
      },
      "outputs": [],
      "source": [
        "\n",
        "X,y = list(),list()\n",
        "\n",
        "X = df.iloc[:,1:-2].values\n",
        "y = df.iloc[:,-2:].values\n",
        "\n"
      ]
    },
    {
      "cell_type": "code",
      "execution_count": 7,
      "metadata": {
        "id": "nVAjEG8Nvvik"
      },
      "outputs": [
        {
          "data": {
            "text/plain": [
              "array([0.9462601 , 0.94154346, 0.94760773, 0.94772732, 0.00239768,\n",
              "       0.53456777, 0.53356898, 0.88841379, 0.48490306, 0.20579619,\n",
              "       0.26403984, 0.50730778])"
            ]
          },
          "execution_count": 7,
          "metadata": {},
          "output_type": "execute_result"
        }
      ],
      "source": [
        "X[0]#這裡會出現10個array，每個array裡面有12個數字，分別是open high low close volume RSI MACD OBV CCI ATR ADX MFI"
      ]
    },
    {
      "cell_type": "code",
      "execution_count": 8,
      "metadata": {
        "id": "ZdEmCm_Qvvil"
      },
      "outputs": [
        {
          "data": {
            "text/plain": [
              "array([1., 0.])"
            ]
          },
          "execution_count": 8,
          "metadata": {},
          "output_type": "execute_result"
        }
      ],
      "source": [
        "y[0]"
      ]
    },
    {
      "cell_type": "code",
      "execution_count": 9,
      "metadata": {
        "id": "MQMldPJgvvil"
      },
      "outputs": [],
      "source": [
        "X = np.array(X)\n",
        "X = torch.tensor(X, dtype=torch.float32)"
      ]
    },
    {
      "cell_type": "code",
      "execution_count": 10,
      "metadata": {
        "id": "mm5Q6Cjavvil"
      },
      "outputs": [],
      "source": [
        "y = np.array(y,dtype=np.float32)\n",
        "y = torch.tensor(y, dtype=torch.float32)"
      ]
    },
    {
      "cell_type": "code",
      "execution_count": 11,
      "metadata": {
        "id": "5nUKlKubvvil"
      },
      "outputs": [
        {
          "data": {
            "text/plain": [
              "tensor([[1., 0.],\n",
              "        [0., 1.],\n",
              "        [1., 0.],\n",
              "        ...,\n",
              "        [1., 0.],\n",
              "        [0., 1.],\n",
              "        [1., 0.]])"
            ]
          },
          "execution_count": 11,
          "metadata": {},
          "output_type": "execute_result"
        }
      ],
      "source": [
        "y"
      ]
    },
    {
      "cell_type": "code",
      "execution_count": 12,
      "metadata": {
        "id": "7kxTYq8tvvil"
      },
      "outputs": [
        {
          "name": "stdout",
          "output_type": "stream",
          "text": [
            "X shape: torch.Size([35466, 12]) , y shape: torch.Size([35466, 2])\n"
          ]
        }
      ],
      "source": [
        "print(f\"X shape: {X.shape} , y shape: {y.shape}\")"
      ]
    },
    {
      "cell_type": "code",
      "execution_count": 13,
      "metadata": {
        "id": "1bAuFUJpvvil"
      },
      "outputs": [
        {
          "data": {
            "text/plain": [
              "tensor([0.9463, 0.9415, 0.9476, 0.9477, 0.0024, 0.5346, 0.5336, 0.8884, 0.4849,\n",
              "        0.2058, 0.2640, 0.5073])"
            ]
          },
          "execution_count": 13,
          "metadata": {},
          "output_type": "execute_result"
        }
      ],
      "source": [
        "X[0]"
      ]
    },
    {
      "cell_type": "code",
      "execution_count": 14,
      "metadata": {
        "id": "XgiJoWzjvvil"
      },
      "outputs": [
        {
          "data": {
            "text/plain": [
              "tensor([1., 0.])"
            ]
          },
          "execution_count": 14,
          "metadata": {},
          "output_type": "execute_result"
        }
      ],
      "source": [
        "y[0]"
      ]
    },
    {
      "cell_type": "markdown",
      "metadata": {
        "id": "fDKqaaoKvvil"
      },
      "source": [
        "# 建立資料集類別\n",
        "\n",
        "- 要繼承torch.utils.data.Dataset\n",
        "- 要實作`__len__`、`__getitem__`\n",
        "- 後面要用DataLoader取用"
      ]
    },
    {
      "cell_type": "code",
      "execution_count": 15,
      "metadata": {
        "id": "jLDT0sbfvvim"
      },
      "outputs": [],
      "source": [
        "#用sklearn來分成train val test\n",
        "# train:val:test = 6:3:1\n",
        "from sklearn.model_selection import train_test_split\n",
        "X_train, X_test, y_train, y_test = train_test_split(X, y, test_size=0.4, random_state=42)\n",
        "X_val, X_test, y_val, y_test = train_test_split(X_test, y_test, test_size=0.75, random_state=42)"
      ]
    },
    {
      "cell_type": "code",
      "execution_count": 16,
      "metadata": {
        "id": "CSgwdCotvvim"
      },
      "outputs": [
        {
          "name": "stdout",
          "output_type": "stream",
          "text": [
            "X_train shape: torch.Size([21279, 12]) , y_train shape: torch.Size([21279, 2])\n"
          ]
        }
      ],
      "source": [
        "print(f\"X_train shape: {X_train.shape} , y_train shape: {y_train.shape}\")"
      ]
    },
    {
      "cell_type": "code",
      "execution_count": 17,
      "metadata": {},
      "outputs": [
        {
          "name": "stdout",
          "output_type": "stream",
          "text": [
            "y_train UP: 10594 , DOWN: 10685\n"
          ]
        }
      ],
      "source": [
        "a_cnt = 0\n",
        "b_cnt = 0\n",
        "for i in y_train:\n",
        "    if i[0] == 1:\n",
        "        a_cnt += 1\n",
        "    else:\n",
        "        b_cnt += 1\n",
        "print(f\"y_train UP: {a_cnt} , DOWN: {b_cnt}\")"
      ]
    },
    {
      "cell_type": "code",
      "execution_count": 18,
      "metadata": {
        "id": "ep8tt8-avvim"
      },
      "outputs": [
        {
          "name": "stdout",
          "output_type": "stream",
          "text": [
            "X_test shape: torch.Size([10641, 12]) , y_test shape: torch.Size([10641, 2])\n"
          ]
        }
      ],
      "source": [
        "print(f\"X_test shape: {X_test.shape} , y_test shape: {y_test.shape}\")"
      ]
    },
    {
      "cell_type": "code",
      "execution_count": 19,
      "metadata": {
        "id": "RPqE-CPfvvim"
      },
      "outputs": [
        {
          "name": "stdout",
          "output_type": "stream",
          "text": [
            "X_val shape: torch.Size([3546, 12]) , y_val shape: torch.Size([3546, 2])\n"
          ]
        }
      ],
      "source": [
        "print(f\"X_val shape: {X_val.shape} , y_val shape: {y_val.shape}\")"
      ]
    },
    {
      "cell_type": "code",
      "execution_count": 20,
      "metadata": {
        "id": "Y0NmS_Lqvvim"
      },
      "outputs": [],
      "source": [
        "class TrainDataset(Dataset):\n",
        "    def __init__(self, X, y):\n",
        "        self.X = X\n",
        "        self.y = y\n",
        "    def __len__(self):\n",
        "        return len(self.X)\n",
        "    def __getitem__(self, idx):\n",
        "        return self.X[idx], self.y[idx]"
      ]
    },
    {
      "cell_type": "code",
      "execution_count": 21,
      "metadata": {
        "id": "-5DjuhEyvvim"
      },
      "outputs": [],
      "source": [
        "class ValDataset(Dataset):\n",
        "    def __init__(self, X, y):\n",
        "        self.X = X\n",
        "        self.y = y\n",
        "    def __len__(self):\n",
        "        return len(self.X)\n",
        "    def __getitem__(self, idx):\n",
        "        return self.X[idx], self.y[idx]"
      ]
    },
    {
      "cell_type": "code",
      "execution_count": 22,
      "metadata": {
        "id": "qHMCNEm6vvim"
      },
      "outputs": [],
      "source": [
        "class TestDataset(Dataset):\n",
        "    def __init__(self, X, y):\n",
        "        self.X = X\n",
        "        self.y = y\n",
        "    def __len__(self):\n",
        "        return len(self.X)\n",
        "    def __getitem__(self, idx):\n",
        "        return self.X[idx], self.y[idx]"
      ]
    },
    {
      "cell_type": "code",
      "execution_count": 23,
      "metadata": {
        "id": "ChyqvyFKvvim"
      },
      "outputs": [],
      "source": [
        "train_dataset = TrainDataset(X_train, y_train)\n",
        "val_dataset = ValDataset(X_val, y_val)\n",
        "test_dataset = TestDataset(X_test, y_test)"
      ]
    },
    {
      "cell_type": "markdown",
      "metadata": {
        "id": "Ib09cuxtvvim"
      },
      "source": [
        "# 建立模型\n",
        "\n",
        "- 要繼承torch.nn.Module\n",
        "- 可能要多建立不同的模型，到時候看結果再調整 -> 先讓數據流得通，再去看成績做調整。"
      ]
    },
    {
      "attachments": {},
      "cell_type": "markdown",
      "metadata": {
        "id": "ga66dLL8vvim"
      },
      "source": [
        "- ver1 -> MLP+Dropout\n",
        "- ver3 -> GRU+MLP+Dropout\n",
        "- ver5 -> Due channel MLP+Dropout"
      ]
    },
    {
      "cell_type": "code",
      "execution_count": 24,
      "metadata": {
        "id": "L3Da8Y1avvin"
      },
      "outputs": [],
      "source": [
        "class SelectItem(torch.nn.Module):#這是用來取出多個輸出其中一個的輸出，如果不用sequential的話，就可以不用這個\n",
        "    def __init__(self, item_index):\n",
        "        super(SelectItem, self).__init__()\n",
        "        self._name = 'selectitem'\n",
        "        self.item_index = item_index\n",
        "\n",
        "    def forward(self, inputs):\n",
        "        return inputs[self.item_index]"
      ]
    },
    {
      "cell_type": "code",
      "execution_count": 27,
      "metadata": {},
      "outputs": [],
      "source": [
        "class CCV1(nn.Module):#MLP\n",
        "    def __init__(self):\n",
        "        super(CCV1, self).__init__()\n",
        "        self.Linear1 = nn.Linear(12, 128)\n",
        "        self.Linear2 = nn.Linear(128, 256)\n",
        "        self.Linear3 = nn.Linear(256, 1024)\n",
        "        self.Linear4 = nn.Linear(1024, 256)\n",
        "        self.Linear5 = nn.Linear(256, 128)\n",
        "        self.Linear6 = nn.Linear(128, 64)\n",
        "        self.Linear7 = nn.Linear(64, 2)\n",
        "        self.Dropout1 = nn.Dropout(0.3)\n",
        "        \n",
        "    def forward(self, x):\n",
        "        x = F.relu(self.Linear1(x))\n",
        "        x = F.relu(self.Linear2(x))\n",
        "        x = self.Dropout1(x)\n",
        "        x = F.relu(self.Linear3(x))\n",
        "        x = F.relu(self.Linear4(x))\n",
        "        x = self.Dropout1(x)\n",
        "        x = F.relu(self.Linear5(x))\n",
        "        x = F.relu(self.Linear6(x))\n",
        "        x = self.Dropout1(x)\n",
        "        x = self.Linear7(x)\n",
        "        return x"
      ]
    },
    {
      "cell_type": "code",
      "execution_count": 25,
      "metadata": {},
      "outputs": [],
      "source": [
        "class CCV3(nn.Module):#MLP+GRU\n",
        "    def __init__(self):\n",
        "        super(CCV3, self).__init__()\n",
        "        self.Linear1 = nn.Linear(12, 128)\n",
        "        self.Linear2 = nn.Linear(128, 256)\n",
        "        self.Linear3 = nn.Linear(256, 2)\n",
        "        self.Dropout1 = nn.Dropout(0.168)\n",
        "        self.GRU1 = nn.GRU(256, 256, 1, batch_first=True)\n",
        "\n",
        "    def forward(self, x):\n",
        "        x = F.relu(self.Linear1(x))\n",
        "        x = F.relu(self.Linear2(x))\n",
        "        x = self.Dropout1(x)\n",
        "        x , _ = self.GRU1(x)\n",
        "        x = self.Linear3(x)\n",
        "        return x"
      ]
    },
    {
      "cell_type": "code",
      "execution_count": 29,
      "metadata": {},
      "outputs": [],
      "source": [
        "class CCV5(nn.Module):#DUE channel MLP\n",
        "    def __init__(self):\n",
        "        super(CCV5, self).__init__()\n",
        "        self.pub1 = nn.Linear(12,32)\n",
        "        self.a1layer1 = nn.Linear(32, 256)\n",
        "        self.a1layer2 = nn.Linear(256, 512)\n",
        "        self.a1layer3 = nn.Linear(512, 256)\n",
        "        self.a1layer4 = nn.Linear(256, 64)#a1 end\n",
        "        self.a2layer1 = nn.Linear(32, 256)\n",
        "        self.a2layer2 = nn.Linear(256, 556)\n",
        "        self.a2layer3 = nn.Linear(556, 256)\n",
        "        self.a2layer4 = nn.Linear(256, 192)#a2 end\n",
        "        self.concat = nn.Linear(256, 32)\n",
        "        self.a3layer1 = nn.Linear(32, 16)\n",
        "        self.a3layer2 = nn.Linear(16, 2)\n",
        "        self.dropout = nn.Dropout(0.3)\n",
        "\n",
        "    def forward(self, x):\n",
        "        x = F.relu(self.pub1(x))\n",
        "        a1 = F.relu(self.a1layer1(x))\n",
        "        a1 = F.relu(self.a1layer2(a1))\n",
        "        a1 = self.dropout(a1)\n",
        "        a1 = F.relu(self.a1layer3(a1))\n",
        "        a1 = self.dropout(a1)\n",
        "        a1 = F.relu(self.a1layer4(a1))\n",
        "        a2 = F.relu(self.a2layer1(x))\n",
        "        a2 = F.relu(self.a2layer2(a2))\n",
        "        a2 = self.dropout(a2)\n",
        "        a2 = F.relu(self.a2layer3(a2))\n",
        "        a2 = F.relu(self.a2layer4(a2))\n",
        "        x = torch.cat((a1, a2), 1)\n",
        "        x = F.relu(self.concat(x))\n",
        "        x = F.relu(self.a3layer1(x))\n",
        "        x = self.a3layer2(x)\n",
        "        return x"
      ]
    },
    {
      "cell_type": "code",
      "execution_count": 76,
      "metadata": {},
      "outputs": [],
      "source": [
        "class TRANSFORMER1(nn.Module):#MLP\n",
        "    def __init__(self):\n",
        "        super(TRANSFORMER1, self).__init__()\n",
        "        self.Linear1 = nn.Linear(12, 128)\n",
        "        self.Linear2 = nn.Linear(128, 256)\n",
        "        self.Linear3 = nn.Linear(256, 1024)\n",
        "        self.Linear4 = nn.Linear(1024, 256)\n",
        "        self.Linear5 = nn.Linear(256, 128)\n",
        "        self.Linear6 = nn.Linear(128, 64)\n",
        "        self.Linear7 = nn.Linear(64, 2)\n",
        "        self.Dropout1 = nn.Dropout(0.3)\n",
        "        self.transformer1 = nn.TransformerEncoderLayer(12, 3)\n",
        "        \n",
        "    def forward(self, x):\n",
        "        insize = x.size()\n",
        "        # print(insize)\n",
        "        x = self.transformer1(x)\n",
        "        x = F.relu(self.Linear1(x))\n",
        "        x = F.relu(self.Linear2(x))\n",
        "        x = self.Dropout1(x)\n",
        "        x = F.relu(self.Linear3(x))\n",
        "        x = F.relu(self.Linear4(x))\n",
        "        x = self.Dropout1(x)\n",
        "        x = F.relu(self.Linear5(x))\n",
        "        x = F.relu(self.Linear6(x))\n",
        "        x = self.Dropout1(x)\n",
        "        x = self.Linear7(x)\n",
        "        return x"
      ]
    },
    {
      "cell_type": "markdown",
      "metadata": {
        "id": "eeIGq4dRvvio"
      },
      "source": [
        "## Note\n",
        "\n",
        "1) model\n",
        "    - `__init__`: define [layers](https://pytorch.org/docs/stable/nn.html)\n",
        "    - forward: forward pass -> compute prediction\n",
        "2) loss and optimizer\n",
        "    - lr: learning rate [default=0.001]\n",
        "    - momentum: momentum for optimizer [default=0.9]\n",
        "    - criterion: loss function [in torch.nn] eg.nn.BCELoss()\n",
        "    - optimizer: optimizer [in torch.optim] eg.torch.optim.SGD()\n",
        "        - eg. optimizer = torch.optim.SGD(model.parameters(), lr=lr, momentum=momentum)\n",
        "3) training loop\n",
        "    - forward pass: compute prediction and loss\n",
        "\n",
        "        ```python\n",
        "        output = model(data)\n",
        "        loss = criterion(output, target)\n",
        "        ```\n",
        "        \n",
        "    - backward pass: loss.backward()\n",
        "    - update weights: optimizer.step()\n",
        "    - zero the gradients: optimizer.zero_grad()"
      ]
    },
    {
      "cell_type": "markdown",
      "metadata": {
        "id": "iSv_yChTvvio"
      },
      "source": [
        "# TODO\n",
        "\n",
        "- 寫訓練方法\n",
        "    - using dataloader\n",
        "        - batch and epoch\n",
        "- 寫驗證方法\n",
        "    - using model.eval()\n"
      ]
    },
    {
      "cell_type": "code",
      "execution_count": 26,
      "metadata": {},
      "outputs": [],
      "source": [
        "def train(model, train_loader, optimizer, criterion, epoch, device):\n",
        "    if epoch == 0: print(\"Training...\")\n",
        "    model.train()\n",
        "    for batch_idx, (data, target) in enumerate(train_loader):\n",
        "        data, target = data.to(device), target.to(device)\n",
        "        optimizer.zero_grad()\n",
        "        output = model(data)\n",
        "        loss = criterion(output, target)\n",
        "        loss.backward()\n",
        "        optimizer.step()\n",
        "        if batch_idx == 0:\n",
        "            print(f\"data shape: {data.shape} , target shape: {target.shape} , output shape: {output.shape}\")\n",
        "        if batch_idx % 100 == 0:\n",
        "            print('Train Epoch: {} [{}/{} ({:.0f}%)]\\tLoss: {:.6f}'.format(\n",
        "                epoch, batch_idx * len(data), len(train_loader.dataset),\n",
        "                100. * batch_idx / len(train_loader), loss.item()))"
      ]
    },
    {
      "cell_type": "code",
      "execution_count": 27,
      "metadata": {},
      "outputs": [],
      "source": [
        "def test(model, test_loader, criterion, device):\n",
        "    model.eval()\n",
        "    test_loss = 0\n",
        "    correct = 0\n",
        "    with torch.no_grad():\n",
        "        for data, target in test_loader:\n",
        "            \n",
        "            data, target = data.to(device), target.to(device)\n",
        "            output = model(data)\n",
        "            test_loss += criterion(output, target).item() # sum up batch loss\n",
        "            pred = output.argmax(dim=1, keepdim=True) # get the index of the max log-probability\n",
        "            correct += pred.eq(target.argmax(1, keepdim=True).view_as(pred)).sum().item() #\n",
        "\n",
        "    test_loss /= len(test_loader.dataset)\n",
        "\n",
        "    print('Test set: Average loss: {:.4f}, Accuracy: {}/{} ({:.0f}%)'.format(\n",
        "        test_loss, correct, len(test_loader.dataset),\n",
        "        100. * correct / len(test_loader.dataset)))\n",
        "    return (100. * correct / len(test_loader.dataset)), test_loss"
      ]
    },
    {
      "cell_type": "code",
      "execution_count": 29,
      "metadata": {},
      "outputs": [
        {
          "name": "stdout",
          "output_type": "stream",
          "text": [
            "=== Info ===\n",
            "Device : cuda:0\n",
            "Epochs : 4\n",
            "============\n"
          ]
        }
      ],
      "source": [
        "DEVICE = torch.device(\"cuda:0\" if torch.cuda.is_available() else \"cpu\")\n",
        "EPOCHS = 4\n",
        "print(\"=== Info ===\")\n",
        "print(f\"Device : {DEVICE}\")\n",
        "print(f\"Epochs : {EPOCHS}\")\n",
        "print(\"============\")"
      ]
    },
    {
      "cell_type": "code",
      "execution_count": 77,
      "metadata": {},
      "outputs": [
        {
          "name": "stdout",
          "output_type": "stream",
          "text": [
            "data shape: torch.Size([64, 12]) , target shape: torch.Size([64, 2]) , output shape: torch.Size([64, 2])\n",
            "Train Epoch: 1 [0/21279 (0%)]\tLoss: 0.687872\n",
            "Train Epoch: 1 [6400/21279 (30%)]\tLoss: 0.691614\n",
            "Train Epoch: 1 [12800/21279 (60%)]\tLoss: 0.692566\n",
            "Train Epoch: 1 [19200/21279 (90%)]\tLoss: 0.691620\n",
            "Test set: Average loss: 0.0109, Accuracy: 5378/10641 (51%)\n",
            "data shape: torch.Size([64, 12]) , target shape: torch.Size([64, 2]) , output shape: torch.Size([64, 2])\n",
            "Train Epoch: 2 [0/21279 (0%)]\tLoss: 0.681061\n",
            "Train Epoch: 2 [6400/21279 (30%)]\tLoss: 0.692850\n",
            "Train Epoch: 2 [12800/21279 (60%)]\tLoss: 0.689584\n",
            "Train Epoch: 2 [19200/21279 (90%)]\tLoss: 0.693828\n",
            "Test set: Average loss: 0.0109, Accuracy: 5378/10641 (51%)\n",
            "data shape: torch.Size([64, 12]) , target shape: torch.Size([64, 2]) , output shape: torch.Size([64, 2])\n",
            "Train Epoch: 3 [0/21279 (0%)]\tLoss: 0.701094\n",
            "Train Epoch: 3 [6400/21279 (30%)]\tLoss: 0.692934\n",
            "Train Epoch: 3 [12800/21279 (60%)]\tLoss: 0.700441\n",
            "Train Epoch: 3 [19200/21279 (90%)]\tLoss: 0.689454\n",
            "Test set: Average loss: 0.0109, Accuracy: 5263/10641 (49%)\n",
            "data shape: torch.Size([64, 12]) , target shape: torch.Size([64, 2]) , output shape: torch.Size([64, 2])\n",
            "Train Epoch: 4 [0/21279 (0%)]\tLoss: 0.699669\n",
            "Train Epoch: 4 [6400/21279 (30%)]\tLoss: 0.695992\n",
            "Train Epoch: 4 [12800/21279 (60%)]\tLoss: 0.693191\n",
            "Train Epoch: 4 [19200/21279 (90%)]\tLoss: 0.694128\n",
            "Test set: Average loss: 0.0109, Accuracy: 5263/10641 (49%)\n"
          ]
        }
      ],
      "source": [
        "model = TRANSFORMER1().to(DEVICE)\n",
        "optimizer = optim.SGD(model.parameters(), lr=0.05,momentum=0.5)\n",
        "criterion = F.cross_entropy\n",
        "\n",
        "train_loader = DataLoader(train_dataset, batch_size=64, shuffle=True, num_workers=0)\n",
        "test_loader = DataLoader(test_dataset, batch_size=64, shuffle=False, num_workers=0)\n",
        "\n",
        "test_acc_list = []\n",
        "test_loss_list = []\n",
        "\n",
        "for epoch in range(1, EPOCHS + 1):\n",
        "    train(model, train_loader, optimizer, criterion, epoch, DEVICE)\n",
        "    test_acc, test_loss = test(model, test_loader, criterion, DEVICE)\n",
        "    test_acc_list.append(test_acc)\n",
        "    test_loss_list.append(test_loss)"
      ]
    },
    {
      "cell_type": "code",
      "execution_count": 78,
      "metadata": {},
      "outputs": [
        {
          "data": {
            "image/png": "[encoded data removed]",
            "text/plain": [
              "<Figure size 640x480 with 1 Axes>"
            ]
          },
          "metadata": {},
          "output_type": "display_data"
        }
      ],
      "source": [
        "#plot acc\n",
        "from matplotlib import pyplot as plt\n",
        "plt.plot(test_acc_list,label='acc')\n",
        "plt.legend()\n",
        "plt.show()"
      ]
    },
    {
      "cell_type": "code",
      "execution_count": 79,
      "metadata": {},
      "outputs": [
        {
          "data": {
            "image/png": "[encoded data removed]",
            "text/plain": [
              "<Figure size 640x480 with 1 Axes>"
            ]
          },
          "metadata": {},
          "output_type": "display_data"
        }
      ],
      "source": [
        "#plot loss\n",
        "plt.plot(test_loss_list,label='loss')\n",
        "plt.legend()\n",
        "plt.show()"
      ]
    },
    {
      "cell_type": "code",
      "execution_count": 81,
      "metadata": {},
      "outputs": [
        {
          "ename": "AssertionError",
          "evalue": "query should be unbatched 2D or batched 3D tensor but received 1-D query tensor",
          "output_type": "error",
          "traceback": [
            "\u001b[1;31m---------------------------------------------------------------------------\u001b[0m",
            "\u001b[1;31mAssertionError\u001b[0m                            Traceback (most recent call last)",
            "Cell \u001b[1;32mIn[81], line 1\u001b[0m\n\u001b[1;32m----> 1\u001b[0m \u001b[39mprint\u001b[39m(model(X_val[\u001b[39m1\u001b[39;49m]\u001b[39m.\u001b[39;49mto(DEVICE)))\n\u001b[0;32m      2\u001b[0m \u001b[39mprint\u001b[39m(y_val[\u001b[39m1\u001b[39m])\n",
            "File \u001b[1;32mc:\\Program Files\\Python311\\Lib\\site-packages\\torch\\nn\\modules\\module.py:1501\u001b[0m, in \u001b[0;36mModule._call_impl\u001b[1;34m(self, *args, **kwargs)\u001b[0m\n\u001b[0;32m   1496\u001b[0m \u001b[39m# If we don't have any hooks, we want to skip the rest of the logic in\u001b[39;00m\n\u001b[0;32m   1497\u001b[0m \u001b[39m# this function, and just call forward.\u001b[39;00m\n\u001b[0;32m   1498\u001b[0m \u001b[39mif\u001b[39;00m \u001b[39mnot\u001b[39;00m (\u001b[39mself\u001b[39m\u001b[39m.\u001b[39m_backward_hooks \u001b[39mor\u001b[39;00m \u001b[39mself\u001b[39m\u001b[39m.\u001b[39m_backward_pre_hooks \u001b[39mor\u001b[39;00m \u001b[39mself\u001b[39m\u001b[39m.\u001b[39m_forward_hooks \u001b[39mor\u001b[39;00m \u001b[39mself\u001b[39m\u001b[39m.\u001b[39m_forward_pre_hooks\n\u001b[0;32m   1499\u001b[0m         \u001b[39mor\u001b[39;00m _global_backward_pre_hooks \u001b[39mor\u001b[39;00m _global_backward_hooks\n\u001b[0;32m   1500\u001b[0m         \u001b[39mor\u001b[39;00m _global_forward_hooks \u001b[39mor\u001b[39;00m _global_forward_pre_hooks):\n\u001b[1;32m-> 1501\u001b[0m     \u001b[39mreturn\u001b[39;00m forward_call(\u001b[39m*\u001b[39;49margs, \u001b[39m*\u001b[39;49m\u001b[39m*\u001b[39;49mkwargs)\n\u001b[0;32m   1502\u001b[0m \u001b[39m# Do not call functions when jit is used\u001b[39;00m\n\u001b[0;32m   1503\u001b[0m full_backward_hooks, non_full_backward_hooks \u001b[39m=\u001b[39m [], []\n",
            "Cell \u001b[1;32mIn[76], line 17\u001b[0m, in \u001b[0;36mTRANSFORMER1.forward\u001b[1;34m(self, x)\u001b[0m\n\u001b[0;32m     15\u001b[0m insize \u001b[39m=\u001b[39m x\u001b[39m.\u001b[39msize()\n\u001b[0;32m     16\u001b[0m \u001b[39m# print(insize)\u001b[39;00m\n\u001b[1;32m---> 17\u001b[0m x \u001b[39m=\u001b[39m \u001b[39mself\u001b[39;49m\u001b[39m.\u001b[39;49mtransformer1(x)\n\u001b[0;32m     18\u001b[0m x \u001b[39m=\u001b[39m F\u001b[39m.\u001b[39mrelu(\u001b[39mself\u001b[39m\u001b[39m.\u001b[39mLinear1(x))\n\u001b[0;32m     19\u001b[0m x \u001b[39m=\u001b[39m F\u001b[39m.\u001b[39mrelu(\u001b[39mself\u001b[39m\u001b[39m.\u001b[39mLinear2(x))\n",
            "File \u001b[1;32mc:\\Program Files\\Python311\\Lib\\site-packages\\torch\\nn\\modules\\module.py:1501\u001b[0m, in \u001b[0;36mModule._call_impl\u001b[1;34m(self, *args, **kwargs)\u001b[0m\n\u001b[0;32m   1496\u001b[0m \u001b[39m# If we don't have any hooks, we want to skip the rest of the logic in\u001b[39;00m\n\u001b[0;32m   1497\u001b[0m \u001b[39m# this function, and just call forward.\u001b[39;00m\n\u001b[0;32m   1498\u001b[0m \u001b[39mif\u001b[39;00m \u001b[39mnot\u001b[39;00m (\u001b[39mself\u001b[39m\u001b[39m.\u001b[39m_backward_hooks \u001b[39mor\u001b[39;00m \u001b[39mself\u001b[39m\u001b[39m.\u001b[39m_backward_pre_hooks \u001b[39mor\u001b[39;00m \u001b[39mself\u001b[39m\u001b[39m.\u001b[39m_forward_hooks \u001b[39mor\u001b[39;00m \u001b[39mself\u001b[39m\u001b[39m.\u001b[39m_forward_pre_hooks\n\u001b[0;32m   1499\u001b[0m         \u001b[39mor\u001b[39;00m _global_backward_pre_hooks \u001b[39mor\u001b[39;00m _global_backward_hooks\n\u001b[0;32m   1500\u001b[0m         \u001b[39mor\u001b[39;00m _global_forward_hooks \u001b[39mor\u001b[39;00m _global_forward_pre_hooks):\n\u001b[1;32m-> 1501\u001b[0m     \u001b[39mreturn\u001b[39;00m forward_call(\u001b[39m*\u001b[39;49margs, \u001b[39m*\u001b[39;49m\u001b[39m*\u001b[39;49mkwargs)\n\u001b[0;32m   1502\u001b[0m \u001b[39m# Do not call functions when jit is used\u001b[39;00m\n\u001b[0;32m   1503\u001b[0m full_backward_hooks, non_full_backward_hooks \u001b[39m=\u001b[39m [], []\n",
            "File \u001b[1;32mc:\\Program Files\\Python311\\Lib\\site-packages\\torch\\nn\\modules\\transformer.py:573\u001b[0m, in \u001b[0;36mTransformerEncoderLayer.forward\u001b[1;34m(self, src, src_mask, src_key_padding_mask, is_causal)\u001b[0m\n\u001b[0;32m    571\u001b[0m     x \u001b[39m=\u001b[39m x \u001b[39m+\u001b[39m \u001b[39mself\u001b[39m\u001b[39m.\u001b[39m_ff_block(\u001b[39mself\u001b[39m\u001b[39m.\u001b[39mnorm2(x))\n\u001b[0;32m    572\u001b[0m \u001b[39melse\u001b[39;00m:\n\u001b[1;32m--> 573\u001b[0m     x \u001b[39m=\u001b[39m \u001b[39mself\u001b[39m\u001b[39m.\u001b[39mnorm1(x \u001b[39m+\u001b[39m \u001b[39mself\u001b[39;49m\u001b[39m.\u001b[39;49m_sa_block(x, src_mask, src_key_padding_mask))\n\u001b[0;32m    574\u001b[0m     x \u001b[39m=\u001b[39m \u001b[39mself\u001b[39m\u001b[39m.\u001b[39mnorm2(x \u001b[39m+\u001b[39m \u001b[39mself\u001b[39m\u001b[39m.\u001b[39m_ff_block(x))\n\u001b[0;32m    576\u001b[0m \u001b[39mreturn\u001b[39;00m x\n",
            "File \u001b[1;32mc:\\Program Files\\Python311\\Lib\\site-packages\\torch\\nn\\modules\\transformer.py:581\u001b[0m, in \u001b[0;36mTransformerEncoderLayer._sa_block\u001b[1;34m(self, x, attn_mask, key_padding_mask)\u001b[0m\n\u001b[0;32m    579\u001b[0m \u001b[39mdef\u001b[39;00m \u001b[39m_sa_block\u001b[39m(\u001b[39mself\u001b[39m, x: Tensor,\n\u001b[0;32m    580\u001b[0m               attn_mask: Optional[Tensor], key_padding_mask: Optional[Tensor]) \u001b[39m-\u001b[39m\u001b[39m>\u001b[39m Tensor:\n\u001b[1;32m--> 581\u001b[0m     x \u001b[39m=\u001b[39m \u001b[39mself\u001b[39;49m\u001b[39m.\u001b[39;49mself_attn(x, x, x,\n\u001b[0;32m    582\u001b[0m                        attn_mask\u001b[39m=\u001b[39;49mattn_mask,\n\u001b[0;32m    583\u001b[0m                        key_padding_mask\u001b[39m=\u001b[39;49mkey_padding_mask,\n\u001b[0;32m    584\u001b[0m                        need_weights\u001b[39m=\u001b[39;49m\u001b[39mFalse\u001b[39;49;00m)[\u001b[39m0\u001b[39m]\n\u001b[0;32m    585\u001b[0m     \u001b[39mreturn\u001b[39;00m \u001b[39mself\u001b[39m\u001b[39m.\u001b[39mdropout1(x)\n",
            "File \u001b[1;32mc:\\Program Files\\Python311\\Lib\\site-packages\\torch\\nn\\modules\\module.py:1501\u001b[0m, in \u001b[0;36mModule._call_impl\u001b[1;34m(self, *args, **kwargs)\u001b[0m\n\u001b[0;32m   1496\u001b[0m \u001b[39m# If we don't have any hooks, we want to skip the rest of the logic in\u001b[39;00m\n\u001b[0;32m   1497\u001b[0m \u001b[39m# this function, and just call forward.\u001b[39;00m\n\u001b[0;32m   1498\u001b[0m \u001b[39mif\u001b[39;00m \u001b[39mnot\u001b[39;00m (\u001b[39mself\u001b[39m\u001b[39m.\u001b[39m_backward_hooks \u001b[39mor\u001b[39;00m \u001b[39mself\u001b[39m\u001b[39m.\u001b[39m_backward_pre_hooks \u001b[39mor\u001b[39;00m \u001b[39mself\u001b[39m\u001b[39m.\u001b[39m_forward_hooks \u001b[39mor\u001b[39;00m \u001b[39mself\u001b[39m\u001b[39m.\u001b[39m_forward_pre_hooks\n\u001b[0;32m   1499\u001b[0m         \u001b[39mor\u001b[39;00m _global_backward_pre_hooks \u001b[39mor\u001b[39;00m _global_backward_hooks\n\u001b[0;32m   1500\u001b[0m         \u001b[39mor\u001b[39;00m _global_forward_hooks \u001b[39mor\u001b[39;00m _global_forward_pre_hooks):\n\u001b[1;32m-> 1501\u001b[0m     \u001b[39mreturn\u001b[39;00m forward_call(\u001b[39m*\u001b[39;49margs, \u001b[39m*\u001b[39;49m\u001b[39m*\u001b[39;49mkwargs)\n\u001b[0;32m   1502\u001b[0m \u001b[39m# Do not call functions when jit is used\u001b[39;00m\n\u001b[0;32m   1503\u001b[0m full_backward_hooks, non_full_backward_hooks \u001b[39m=\u001b[39m [], []\n",
            "File \u001b[1;32mc:\\Program Files\\Python311\\Lib\\site-packages\\torch\\nn\\modules\\activation.py:1189\u001b[0m, in \u001b[0;36mMultiheadAttention.forward\u001b[1;34m(self, query, key, value, key_padding_mask, need_weights, attn_mask, average_attn_weights, is_causal)\u001b[0m\n\u001b[0;32m   1175\u001b[0m     attn_output, attn_output_weights \u001b[39m=\u001b[39m F\u001b[39m.\u001b[39mmulti_head_attention_forward(\n\u001b[0;32m   1176\u001b[0m         query, key, value, \u001b[39mself\u001b[39m\u001b[39m.\u001b[39membed_dim, \u001b[39mself\u001b[39m\u001b[39m.\u001b[39mnum_heads,\n\u001b[0;32m   1177\u001b[0m         \u001b[39mself\u001b[39m\u001b[39m.\u001b[39min_proj_weight, \u001b[39mself\u001b[39m\u001b[39m.\u001b[39min_proj_bias,\n\u001b[1;32m   (...)\u001b[0m\n\u001b[0;32m   1186\u001b[0m         average_attn_weights\u001b[39m=\u001b[39maverage_attn_weights,\n\u001b[0;32m   1187\u001b[0m         is_causal\u001b[39m=\u001b[39mis_causal)\n\u001b[0;32m   1188\u001b[0m \u001b[39melse\u001b[39;00m:\n\u001b[1;32m-> 1189\u001b[0m     attn_output, attn_output_weights \u001b[39m=\u001b[39m F\u001b[39m.\u001b[39;49mmulti_head_attention_forward(\n\u001b[0;32m   1190\u001b[0m         query, key, value, \u001b[39mself\u001b[39;49m\u001b[39m.\u001b[39;49membed_dim, \u001b[39mself\u001b[39;49m\u001b[39m.\u001b[39;49mnum_heads,\n\u001b[0;32m   1191\u001b[0m         \u001b[39mself\u001b[39;49m\u001b[39m.\u001b[39;49min_proj_weight, \u001b[39mself\u001b[39;49m\u001b[39m.\u001b[39;49min_proj_bias,\n\u001b[0;32m   1192\u001b[0m         \u001b[39mself\u001b[39;49m\u001b[39m.\u001b[39;49mbias_k, \u001b[39mself\u001b[39;49m\u001b[39m.\u001b[39;49mbias_v, \u001b[39mself\u001b[39;49m\u001b[39m.\u001b[39;49madd_zero_attn,\n\u001b[0;32m   1193\u001b[0m         \u001b[39mself\u001b[39;49m\u001b[39m.\u001b[39;49mdropout, \u001b[39mself\u001b[39;49m\u001b[39m.\u001b[39;49mout_proj\u001b[39m.\u001b[39;49mweight, \u001b[39mself\u001b[39;49m\u001b[39m.\u001b[39;49mout_proj\u001b[39m.\u001b[39;49mbias,\n\u001b[0;32m   1194\u001b[0m         training\u001b[39m=\u001b[39;49m\u001b[39mself\u001b[39;49m\u001b[39m.\u001b[39;49mtraining,\n\u001b[0;32m   1195\u001b[0m         key_padding_mask\u001b[39m=\u001b[39;49mkey_padding_mask,\n\u001b[0;32m   1196\u001b[0m         need_weights\u001b[39m=\u001b[39;49mneed_weights,\n\u001b[0;32m   1197\u001b[0m         attn_mask\u001b[39m=\u001b[39;49mattn_mask,\n\u001b[0;32m   1198\u001b[0m         average_attn_weights\u001b[39m=\u001b[39;49maverage_attn_weights,\n\u001b[0;32m   1199\u001b[0m         is_causal\u001b[39m=\u001b[39;49mis_causal)\n\u001b[0;32m   1200\u001b[0m \u001b[39mif\u001b[39;00m \u001b[39mself\u001b[39m\u001b[39m.\u001b[39mbatch_first \u001b[39mand\u001b[39;00m is_batched:\n\u001b[0;32m   1201\u001b[0m     \u001b[39mreturn\u001b[39;00m attn_output\u001b[39m.\u001b[39mtranspose(\u001b[39m1\u001b[39m, \u001b[39m0\u001b[39m), attn_output_weights\n",
            "File \u001b[1;32mc:\\Program Files\\Python311\\Lib\\site-packages\\torch\\nn\\functional.py:5140\u001b[0m, in \u001b[0;36mmulti_head_attention_forward\u001b[1;34m(query, key, value, embed_dim_to_check, num_heads, in_proj_weight, in_proj_bias, bias_k, bias_v, add_zero_attn, dropout_p, out_proj_weight, out_proj_bias, training, key_padding_mask, need_weights, attn_mask, use_separate_proj_weight, q_proj_weight, k_proj_weight, v_proj_weight, static_k, static_v, average_attn_weights, is_causal)\u001b[0m\n\u001b[0;32m   5109\u001b[0m \u001b[39mif\u001b[39;00m has_torch_function(tens_ops):\n\u001b[0;32m   5110\u001b[0m     \u001b[39mreturn\u001b[39;00m handle_torch_function(\n\u001b[0;32m   5111\u001b[0m         multi_head_attention_forward,\n\u001b[0;32m   5112\u001b[0m         tens_ops,\n\u001b[1;32m   (...)\u001b[0m\n\u001b[0;32m   5137\u001b[0m         average_attn_weights\u001b[39m=\u001b[39maverage_attn_weights,\n\u001b[0;32m   5138\u001b[0m     )\n\u001b[1;32m-> 5140\u001b[0m is_batched \u001b[39m=\u001b[39m _mha_shape_check(query, key, value, key_padding_mask, attn_mask, num_heads)\n\u001b[0;32m   5142\u001b[0m \u001b[39m# For unbatched input, we unsqueeze at the expected batch-dim to pretend that the input\u001b[39;00m\n\u001b[0;32m   5143\u001b[0m \u001b[39m# is batched, run the computation and before returning squeeze the\u001b[39;00m\n\u001b[0;32m   5144\u001b[0m \u001b[39m# batch dimension so that the output doesn't carry this temporary batch dimension.\u001b[39;00m\n\u001b[0;32m   5145\u001b[0m \u001b[39mif\u001b[39;00m \u001b[39mnot\u001b[39;00m is_batched:\n\u001b[0;32m   5146\u001b[0m     \u001b[39m# unsqueeze if the input is unbatched\u001b[39;00m\n",
            "File \u001b[1;32mc:\\Program Files\\Python311\\Lib\\site-packages\\torch\\nn\\functional.py:4977\u001b[0m, in \u001b[0;36m_mha_shape_check\u001b[1;34m(query, key, value, key_padding_mask, attn_mask, num_heads)\u001b[0m\n\u001b[0;32m   4974\u001b[0m             \u001b[39massert\u001b[39;00m attn_mask\u001b[39m.\u001b[39mshape \u001b[39m==\u001b[39m expected_shape, \\\n\u001b[0;32m   4975\u001b[0m                 (\u001b[39mf\u001b[39m\u001b[39m\"\u001b[39m\u001b[39mExpected `attn_mask` shape to be \u001b[39m\u001b[39m{\u001b[39;00mexpected_shape\u001b[39m}\u001b[39;00m\u001b[39m but got \u001b[39m\u001b[39m{\u001b[39;00mattn_mask\u001b[39m.\u001b[39mshape\u001b[39m}\u001b[39;00m\u001b[39m\"\u001b[39m)\n\u001b[0;32m   4976\u001b[0m \u001b[39melse\u001b[39;00m:\n\u001b[1;32m-> 4977\u001b[0m     \u001b[39mraise\u001b[39;00m \u001b[39mAssertionError\u001b[39;00m(\n\u001b[0;32m   4978\u001b[0m         \u001b[39mf\u001b[39m\u001b[39m\"\u001b[39m\u001b[39mquery should be unbatched 2D or batched 3D tensor but received \u001b[39m\u001b[39m{\u001b[39;00mquery\u001b[39m.\u001b[39mdim()\u001b[39m}\u001b[39;00m\u001b[39m-D query tensor\u001b[39m\u001b[39m\"\u001b[39m)\n\u001b[0;32m   4980\u001b[0m \u001b[39mreturn\u001b[39;00m is_batched\n",
            "\u001b[1;31mAssertionError\u001b[0m: query should be unbatched 2D or batched 3D tensor but received 1-D query tensor"
          ]
        }
      ],
      "source": [
        "print(model(X_val[1].view(1,12).to(DEVICE)))\n",
        "print(y_val[1])"
      ]
    },
    {
      "cell_type": "code",
      "execution_count": 34,
      "metadata": {},
      "outputs": [
        {
          "data": {
            "text/plain": [
              "<AxesSubplot: >"
            ]
          },
          "execution_count": 34,
          "metadata": {},
          "output_type": "execute_result"
        },
        {
          "data": {
            "image/png": "[encoded data removed]",
            "text/plain": [
              "<Figure size 1000x700 with 2 Axes>"
            ]
          },
          "metadata": {},
          "output_type": "display_data"
        }
      ],
      "source": [
        "from sklearn.metrics import confusion_matrix\n",
        "import seaborn as sns\n",
        "\n",
        "y_pred = model(X_val.to(DEVICE)).argmax(dim=1, keepdim=True)\n",
        "y_true = y_val.argmax(1, keepdim=True).view_as(y_pred)\n",
        "cm = confusion_matrix(y_true.cpu(), y_pred.cpu())\n",
        "df_cm = pd.DataFrame(cm, index = [i for i in \"TF\"],\n",
        "                    columns = [i for i in \"TF\"])\n",
        "plt.figure(figsize = (10,7))\n",
        "sns.heatmap(df_cm, annot=True)"
      ]
    },
    {
      "cell_type": "code",
      "execution_count": 35,
      "metadata": {},
      "outputs": [
        {
          "name": "stdout",
          "output_type": "stream",
          "text": [
            " a_cnt : 2065 , b_cnt : 1481\n"
          ]
        }
      ],
      "source": [
        "a_cnt = 0\n",
        "b_cnt = 0\n",
        "for i in range(len(y_pred)):\n",
        "    if y_pred[i][0] == 1:\n",
        "        a_cnt += 1\n",
        "    else:\n",
        "        b_cnt += 1\n",
        "print(f\" a_cnt : {a_cnt} , b_cnt : {b_cnt}\")"
      ]
    },
    {
      "cell_type": "code",
      "execution_count": 36,
      "metadata": {},
      "outputs": [],
      "source": [
        "#save model\n",
        "torch.save(model, 'CCV1.pt')"
      ]
    },
    {
      "attachments": {},
      "cell_type": "markdown",
      "metadata": {},
      "source": [
        "# 猜測\n",
        "\n",
        "- 之前只能跑到51 ~ 49 是因為模型太大，但是資料太小，所以會發生指輸出都是一個類別的情況。 解決方法是把模型縮小，或是把資料增加。\n",
        "    - 模型條小 -> 10 層 -> 4 層 51~49 -> 52~51"
      ]
    },
    {
      "cell_type": "code",
      "execution_count": 37,
      "metadata": {},
      "outputs": [
        {
          "name": "stdout",
          "output_type": "stream",
          "text": [
            "data shape: torch.Size([64, 12]) , target shape: torch.Size([64, 2]) , output shape: torch.Size([64, 2])\n",
            "Train Epoch: 1 [0/21279 (0%)]\tLoss: 0.695192\n",
            "Train Epoch: 1 [6400/21279 (30%)]\tLoss: 0.694463\n",
            "Train Epoch: 1 [12800/21279 (60%)]\tLoss: 0.691914\n",
            "Train Epoch: 1 [19200/21279 (90%)]\tLoss: 0.694295\n",
            "Test set: Average loss: 0.0109, Accuracy: 5524/10641 (52%)\n",
            "data shape: torch.Size([64, 12]) , target shape: torch.Size([64, 2]) , output shape: torch.Size([64, 2])\n",
            "Train Epoch: 2 [0/21279 (0%)]\tLoss: 0.694183\n",
            "Train Epoch: 2 [6400/21279 (30%)]\tLoss: 0.686774\n",
            "Train Epoch: 2 [12800/21279 (60%)]\tLoss: 0.696762\n",
            "Train Epoch: 2 [19200/21279 (90%)]\tLoss: 0.701025\n",
            "Test set: Average loss: 0.0109, Accuracy: 5376/10641 (51%)\n",
            "data shape: torch.Size([64, 12]) , target shape: torch.Size([64, 2]) , output shape: torch.Size([64, 2])\n",
            "Train Epoch: 3 [0/21279 (0%)]\tLoss: 0.691065\n",
            "Train Epoch: 3 [6400/21279 (30%)]\tLoss: 0.692000\n",
            "Train Epoch: 3 [12800/21279 (60%)]\tLoss: 0.697186\n",
            "Train Epoch: 3 [19200/21279 (90%)]\tLoss: 0.689056\n",
            "Test set: Average loss: 0.0109, Accuracy: 5508/10641 (52%)\n",
            "data shape: torch.Size([64, 12]) , target shape: torch.Size([64, 2]) , output shape: torch.Size([64, 2])\n",
            "Train Epoch: 4 [0/21279 (0%)]\tLoss: 0.693429\n",
            "Train Epoch: 4 [6400/21279 (30%)]\tLoss: 0.689733\n",
            "Train Epoch: 4 [12800/21279 (60%)]\tLoss: 0.698746\n",
            "Train Epoch: 4 [19200/21279 (90%)]\tLoss: 0.695221\n",
            "Test set: Average loss: 0.0109, Accuracy: 5415/10641 (51%)\n",
            "data shape: torch.Size([64, 12]) , target shape: torch.Size([64, 2]) , output shape: torch.Size([64, 2])\n",
            "Train Epoch: 5 [0/21279 (0%)]\tLoss: 0.689656\n",
            "Train Epoch: 5 [6400/21279 (30%)]\tLoss: 0.691713\n",
            "Train Epoch: 5 [12800/21279 (60%)]\tLoss: 0.698224\n",
            "Train Epoch: 5 [19200/21279 (90%)]\tLoss: 0.707405\n",
            "Test set: Average loss: 0.0109, Accuracy: 5384/10641 (51%)\n",
            "data shape: torch.Size([64, 12]) , target shape: torch.Size([64, 2]) , output shape: torch.Size([64, 2])\n",
            "Train Epoch: 6 [0/21279 (0%)]\tLoss: 0.679413\n",
            "Train Epoch: 6 [6400/21279 (30%)]\tLoss: 0.704691\n",
            "Train Epoch: 6 [12800/21279 (60%)]\tLoss: 0.688404\n",
            "Train Epoch: 6 [19200/21279 (90%)]\tLoss: 0.690930\n",
            "Test set: Average loss: 0.0109, Accuracy: 5504/10641 (52%)\n",
            "data shape: torch.Size([64, 12]) , target shape: torch.Size([64, 2]) , output shape: torch.Size([64, 2])\n",
            "Train Epoch: 7 [0/21279 (0%)]\tLoss: 0.690732\n",
            "Train Epoch: 7 [6400/21279 (30%)]\tLoss: 0.693437\n",
            "Train Epoch: 7 [12800/21279 (60%)]\tLoss: 0.698770\n",
            "Train Epoch: 7 [19200/21279 (90%)]\tLoss: 0.696790\n",
            "Test set: Average loss: 0.0109, Accuracy: 5531/10641 (52%)\n",
            "data shape: torch.Size([64, 12]) , target shape: torch.Size([64, 2]) , output shape: torch.Size([64, 2])\n",
            "Train Epoch: 8 [0/21279 (0%)]\tLoss: 0.695183\n",
            "Train Epoch: 8 [6400/21279 (30%)]\tLoss: 0.698873\n",
            "Train Epoch: 8 [12800/21279 (60%)]\tLoss: 0.697221\n",
            "Train Epoch: 8 [19200/21279 (90%)]\tLoss: 0.685645\n",
            "Test set: Average loss: 0.0109, Accuracy: 5486/10641 (52%)\n",
            "data shape: torch.Size([64, 12]) , target shape: torch.Size([64, 2]) , output shape: torch.Size([64, 2])\n",
            "Train Epoch: 9 [0/21279 (0%)]\tLoss: 0.690788\n",
            "Train Epoch: 9 [6400/21279 (30%)]\tLoss: 0.697409\n",
            "Train Epoch: 9 [12800/21279 (60%)]\tLoss: 0.697441\n",
            "Train Epoch: 9 [19200/21279 (90%)]\tLoss: 0.696546\n",
            "Test set: Average loss: 0.0109, Accuracy: 5504/10641 (52%)\n",
            "data shape: torch.Size([64, 12]) , target shape: torch.Size([64, 2]) , output shape: torch.Size([64, 2])\n",
            "Train Epoch: 10 [0/21279 (0%)]\tLoss: 0.686047\n",
            "Train Epoch: 10 [6400/21279 (30%)]\tLoss: 0.707740\n",
            "Train Epoch: 10 [12800/21279 (60%)]\tLoss: 0.690517\n",
            "Train Epoch: 10 [19200/21279 (90%)]\tLoss: 0.686896\n",
            "Test set: Average loss: 0.0109, Accuracy: 5529/10641 (52%)\n",
            "data shape: torch.Size([64, 12]) , target shape: torch.Size([64, 2]) , output shape: torch.Size([64, 2])\n",
            "Train Epoch: 11 [0/21279 (0%)]\tLoss: 0.674682\n",
            "Train Epoch: 11 [6400/21279 (30%)]\tLoss: 0.683104\n",
            "Train Epoch: 11 [12800/21279 (60%)]\tLoss: 0.699345\n",
            "Train Epoch: 11 [19200/21279 (90%)]\tLoss: 0.682005\n",
            "Test set: Average loss: 0.0109, Accuracy: 5564/10641 (52%)\n",
            "data shape: torch.Size([64, 12]) , target shape: torch.Size([64, 2]) , output shape: torch.Size([64, 2])\n",
            "Train Epoch: 12 [0/21279 (0%)]\tLoss: 0.705320\n",
            "Train Epoch: 12 [6400/21279 (30%)]\tLoss: 0.686785\n",
            "Train Epoch: 12 [12800/21279 (60%)]\tLoss: 0.691374\n",
            "Train Epoch: 12 [19200/21279 (90%)]\tLoss: 0.706075\n",
            "Test set: Average loss: 0.0109, Accuracy: 5561/10641 (52%)\n",
            "data shape: torch.Size([64, 12]) , target shape: torch.Size([64, 2]) , output shape: torch.Size([64, 2])\n",
            "Train Epoch: 13 [0/21279 (0%)]\tLoss: 0.693640\n",
            "Train Epoch: 13 [6400/21279 (30%)]\tLoss: 0.685733\n",
            "Train Epoch: 13 [12800/21279 (60%)]\tLoss: 0.685644\n",
            "Train Epoch: 13 [19200/21279 (90%)]\tLoss: 0.692996\n",
            "Test set: Average loss: 0.0109, Accuracy: 5553/10641 (52%)\n",
            "data shape: torch.Size([64, 12]) , target shape: torch.Size([64, 2]) , output shape: torch.Size([64, 2])\n",
            "Train Epoch: 14 [0/21279 (0%)]\tLoss: 0.689616\n",
            "Train Epoch: 14 [6400/21279 (30%)]\tLoss: 0.704354\n",
            "Train Epoch: 14 [12800/21279 (60%)]\tLoss: 0.685833\n",
            "Train Epoch: 14 [19200/21279 (90%)]\tLoss: 0.690612\n",
            "Test set: Average loss: 0.0109, Accuracy: 5541/10641 (52%)\n",
            "data shape: torch.Size([64, 12]) , target shape: torch.Size([64, 2]) , output shape: torch.Size([64, 2])\n",
            "Train Epoch: 15 [0/21279 (0%)]\tLoss: 0.684322\n",
            "Train Epoch: 15 [6400/21279 (30%)]\tLoss: 0.690740\n",
            "Train Epoch: 15 [12800/21279 (60%)]\tLoss: 0.706031\n",
            "Train Epoch: 15 [19200/21279 (90%)]\tLoss: 0.696020\n",
            "Test set: Average loss: 0.0109, Accuracy: 5554/10641 (52%)\n",
            "data shape: torch.Size([64, 12]) , target shape: torch.Size([64, 2]) , output shape: torch.Size([64, 2])\n",
            "Train Epoch: 16 [0/21279 (0%)]\tLoss: 0.700731\n",
            "Train Epoch: 16 [6400/21279 (30%)]\tLoss: 0.686539\n",
            "Train Epoch: 16 [12800/21279 (60%)]\tLoss: 0.699007\n",
            "Train Epoch: 16 [19200/21279 (90%)]\tLoss: 0.698800\n",
            "Test set: Average loss: 0.0109, Accuracy: 5577/10641 (52%)\n",
            "data shape: torch.Size([64, 12]) , target shape: torch.Size([64, 2]) , output shape: torch.Size([64, 2])\n",
            "Train Epoch: 17 [0/21279 (0%)]\tLoss: 0.669872\n",
            "Train Epoch: 17 [6400/21279 (30%)]\tLoss: 0.697933\n",
            "Train Epoch: 17 [12800/21279 (60%)]\tLoss: 0.694957\n",
            "Train Epoch: 17 [19200/21279 (90%)]\tLoss: 0.674285\n",
            "Test set: Average loss: 0.0109, Accuracy: 5568/10641 (52%)\n",
            "data shape: torch.Size([64, 12]) , target shape: torch.Size([64, 2]) , output shape: torch.Size([64, 2])\n",
            "Train Epoch: 18 [0/21279 (0%)]\tLoss: 0.678145\n",
            "Train Epoch: 18 [6400/21279 (30%)]\tLoss: 0.697184\n",
            "Train Epoch: 18 [12800/21279 (60%)]\tLoss: 0.700742\n",
            "Train Epoch: 18 [19200/21279 (90%)]\tLoss: 0.681884\n",
            "Test set: Average loss: 0.0109, Accuracy: 5575/10641 (52%)\n",
            "data shape: torch.Size([64, 12]) , target shape: torch.Size([64, 2]) , output shape: torch.Size([64, 2])\n",
            "Train Epoch: 19 [0/21279 (0%)]\tLoss: 0.706228\n",
            "Train Epoch: 19 [6400/21279 (30%)]\tLoss: 0.687991\n",
            "Train Epoch: 19 [12800/21279 (60%)]\tLoss: 0.692414\n",
            "Train Epoch: 19 [19200/21279 (90%)]\tLoss: 0.688303\n",
            "Test set: Average loss: 0.0108, Accuracy: 5599/10641 (53%)\n",
            "data shape: torch.Size([64, 12]) , target shape: torch.Size([64, 2]) , output shape: torch.Size([64, 2])\n",
            "Train Epoch: 20 [0/21279 (0%)]\tLoss: 0.688947\n",
            "Train Epoch: 20 [6400/21279 (30%)]\tLoss: 0.711945\n",
            "Train Epoch: 20 [12800/21279 (60%)]\tLoss: 0.690440\n",
            "Train Epoch: 20 [19200/21279 (90%)]\tLoss: 0.695801\n",
            "Test set: Average loss: 0.0109, Accuracy: 5570/10641 (52%)\n",
            "data shape: torch.Size([64, 12]) , target shape: torch.Size([64, 2]) , output shape: torch.Size([64, 2])\n",
            "Train Epoch: 21 [0/21279 (0%)]\tLoss: 0.678196\n",
            "Train Epoch: 21 [6400/21279 (30%)]\tLoss: 0.676162\n",
            "Train Epoch: 21 [12800/21279 (60%)]\tLoss: 0.669760\n",
            "Train Epoch: 21 [19200/21279 (90%)]\tLoss: 0.691893\n",
            "Test set: Average loss: 0.0108, Accuracy: 5614/10641 (53%)\n",
            "data shape: torch.Size([64, 12]) , target shape: torch.Size([64, 2]) , output shape: torch.Size([64, 2])\n",
            "Train Epoch: 22 [0/21279 (0%)]\tLoss: 0.685507\n",
            "Train Epoch: 22 [6400/21279 (30%)]\tLoss: 0.686020\n",
            "Train Epoch: 22 [12800/21279 (60%)]\tLoss: 0.686431\n",
            "Train Epoch: 22 [19200/21279 (90%)]\tLoss: 0.682842\n",
            "Test set: Average loss: 0.0108, Accuracy: 5592/10641 (53%)\n",
            "data shape: torch.Size([64, 12]) , target shape: torch.Size([64, 2]) , output shape: torch.Size([64, 2])\n",
            "Train Epoch: 23 [0/21279 (0%)]\tLoss: 0.681504\n",
            "Train Epoch: 23 [6400/21279 (30%)]\tLoss: 0.696885\n",
            "Train Epoch: 23 [12800/21279 (60%)]\tLoss: 0.716001\n",
            "Train Epoch: 23 [19200/21279 (90%)]\tLoss: 0.696959\n",
            "Test set: Average loss: 0.0109, Accuracy: 5370/10641 (50%)\n",
            "data shape: torch.Size([64, 12]) , target shape: torch.Size([64, 2]) , output shape: torch.Size([64, 2])\n",
            "Train Epoch: 24 [0/21279 (0%)]\tLoss: 0.696960\n",
            "Train Epoch: 24 [6400/21279 (30%)]\tLoss: 0.682792\n",
            "Train Epoch: 24 [12800/21279 (60%)]\tLoss: 0.687022\n",
            "Train Epoch: 24 [19200/21279 (90%)]\tLoss: 0.689348\n",
            "Test set: Average loss: 0.0110, Accuracy: 5308/10641 (50%)\n",
            "data shape: torch.Size([64, 12]) , target shape: torch.Size([64, 2]) , output shape: torch.Size([64, 2])\n",
            "Train Epoch: 25 [0/21279 (0%)]\tLoss: 0.684461\n",
            "Train Epoch: 25 [6400/21279 (30%)]\tLoss: 0.679926\n",
            "Train Epoch: 25 [12800/21279 (60%)]\tLoss: 0.689851\n",
            "Train Epoch: 25 [19200/21279 (90%)]\tLoss: 0.690574\n",
            "Test set: Average loss: 0.0109, Accuracy: 5594/10641 (53%)\n",
            "data shape: torch.Size([64, 12]) , target shape: torch.Size([64, 2]) , output shape: torch.Size([64, 2])\n",
            "Train Epoch: 26 [0/21279 (0%)]\tLoss: 0.685898\n",
            "Train Epoch: 26 [6400/21279 (30%)]\tLoss: 0.687898\n",
            "Train Epoch: 26 [12800/21279 (60%)]\tLoss: 0.692656\n",
            "Train Epoch: 26 [19200/21279 (90%)]\tLoss: 0.688582\n",
            "Test set: Average loss: 0.0109, Accuracy: 5569/10641 (52%)\n",
            "data shape: torch.Size([64, 12]) , target shape: torch.Size([64, 2]) , output shape: torch.Size([64, 2])\n",
            "Train Epoch: 27 [0/21279 (0%)]\tLoss: 0.699460\n",
            "Train Epoch: 27 [6400/21279 (30%)]\tLoss: 0.671841\n",
            "Train Epoch: 27 [12800/21279 (60%)]\tLoss: 0.679865\n",
            "Train Epoch: 27 [19200/21279 (90%)]\tLoss: 0.682380\n",
            "Test set: Average loss: 0.0108, Accuracy: 5602/10641 (53%)\n",
            "data shape: torch.Size([64, 12]) , target shape: torch.Size([64, 2]) , output shape: torch.Size([64, 2])\n",
            "Train Epoch: 28 [0/21279 (0%)]\tLoss: 0.687173\n",
            "Train Epoch: 28 [6400/21279 (30%)]\tLoss: 0.700624\n",
            "Train Epoch: 28 [12800/21279 (60%)]\tLoss: 0.694883\n",
            "Train Epoch: 28 [19200/21279 (90%)]\tLoss: 0.684941\n",
            "Test set: Average loss: 0.0108, Accuracy: 5633/10641 (53%)\n",
            "data shape: torch.Size([64, 12]) , target shape: torch.Size([64, 2]) , output shape: torch.Size([64, 2])\n",
            "Train Epoch: 29 [0/21279 (0%)]\tLoss: 0.695212\n",
            "Train Epoch: 29 [6400/21279 (30%)]\tLoss: 0.690920\n",
            "Train Epoch: 29 [12800/21279 (60%)]\tLoss: 0.693915\n",
            "Train Epoch: 29 [19200/21279 (90%)]\tLoss: 0.723548\n",
            "Test set: Average loss: 0.0108, Accuracy: 5628/10641 (53%)\n",
            "data shape: torch.Size([64, 12]) , target shape: torch.Size([64, 2]) , output shape: torch.Size([64, 2])\n",
            "Train Epoch: 30 [0/21279 (0%)]\tLoss: 0.682725\n",
            "Train Epoch: 30 [6400/21279 (30%)]\tLoss: 0.674287\n",
            "Train Epoch: 30 [12800/21279 (60%)]\tLoss: 0.690550\n",
            "Train Epoch: 30 [19200/21279 (90%)]\tLoss: 0.678869\n",
            "Test set: Average loss: 0.0108, Accuracy: 5607/10641 (53%)\n",
            "data shape: torch.Size([64, 12]) , target shape: torch.Size([64, 2]) , output shape: torch.Size([64, 2])\n",
            "Train Epoch: 31 [0/21279 (0%)]\tLoss: 0.700627\n",
            "Train Epoch: 31 [6400/21279 (30%)]\tLoss: 0.696544\n",
            "Train Epoch: 31 [12800/21279 (60%)]\tLoss: 0.690124\n",
            "Train Epoch: 31 [19200/21279 (90%)]\tLoss: 0.698064\n",
            "Test set: Average loss: 0.0108, Accuracy: 5619/10641 (53%)\n",
            "data shape: torch.Size([64, 12]) , target shape: torch.Size([64, 2]) , output shape: torch.Size([64, 2])\n",
            "Train Epoch: 32 [0/21279 (0%)]\tLoss: 0.687933\n",
            "Train Epoch: 32 [6400/21279 (30%)]\tLoss: 0.695719\n",
            "Train Epoch: 32 [12800/21279 (60%)]\tLoss: 0.689611\n",
            "Train Epoch: 32 [19200/21279 (90%)]\tLoss: 0.709891\n",
            "Test set: Average loss: 0.0108, Accuracy: 5642/10641 (53%)\n",
            "data shape: torch.Size([64, 12]) , target shape: torch.Size([64, 2]) , output shape: torch.Size([64, 2])\n",
            "Train Epoch: 33 [0/21279 (0%)]\tLoss: 0.694166\n",
            "Train Epoch: 33 [6400/21279 (30%)]\tLoss: 0.687331\n",
            "Train Epoch: 33 [12800/21279 (60%)]\tLoss: 0.684121\n",
            "Train Epoch: 33 [19200/21279 (90%)]\tLoss: 0.682539\n",
            "Test set: Average loss: 0.0108, Accuracy: 5648/10641 (53%)\n",
            "data shape: torch.Size([64, 12]) , target shape: torch.Size([64, 2]) , output shape: torch.Size([64, 2])\n",
            "Train Epoch: 34 [0/21279 (0%)]\tLoss: 0.672250\n",
            "Train Epoch: 34 [6400/21279 (30%)]\tLoss: 0.671989\n",
            "Train Epoch: 34 [12800/21279 (60%)]\tLoss: 0.688824\n",
            "Train Epoch: 34 [19200/21279 (90%)]\tLoss: 0.681711\n",
            "Test set: Average loss: 0.0108, Accuracy: 5628/10641 (53%)\n",
            "data shape: torch.Size([64, 12]) , target shape: torch.Size([64, 2]) , output shape: torch.Size([64, 2])\n",
            "Train Epoch: 35 [0/21279 (0%)]\tLoss: 0.687848\n",
            "Train Epoch: 35 [6400/21279 (30%)]\tLoss: 0.680654\n",
            "Train Epoch: 35 [12800/21279 (60%)]\tLoss: 0.700791\n",
            "Train Epoch: 35 [19200/21279 (90%)]\tLoss: 0.689773\n",
            "Test set: Average loss: 0.0108, Accuracy: 5641/10641 (53%)\n",
            "data shape: torch.Size([64, 12]) , target shape: torch.Size([64, 2]) , output shape: torch.Size([64, 2])\n",
            "Train Epoch: 36 [0/21279 (0%)]\tLoss: 0.691821\n",
            "Train Epoch: 36 [6400/21279 (30%)]\tLoss: 0.687305\n",
            "Train Epoch: 36 [12800/21279 (60%)]\tLoss: 0.689720\n",
            "Train Epoch: 36 [19200/21279 (90%)]\tLoss: 0.703497\n",
            "Test set: Average loss: 0.0109, Accuracy: 5494/10641 (52%)\n",
            "data shape: torch.Size([64, 12]) , target shape: torch.Size([64, 2]) , output shape: torch.Size([64, 2])\n",
            "Train Epoch: 37 [0/21279 (0%)]\tLoss: 0.688123\n",
            "Train Epoch: 37 [6400/21279 (30%)]\tLoss: 0.680520\n",
            "Train Epoch: 37 [12800/21279 (60%)]\tLoss: 0.705391\n",
            "Train Epoch: 37 [19200/21279 (90%)]\tLoss: 0.693128\n",
            "Test set: Average loss: 0.0109, Accuracy: 5622/10641 (53%)\n",
            "data shape: torch.Size([64, 12]) , target shape: torch.Size([64, 2]) , output shape: torch.Size([64, 2])\n",
            "Train Epoch: 38 [0/21279 (0%)]\tLoss: 0.691698\n",
            "Train Epoch: 38 [6400/21279 (30%)]\tLoss: 0.682849\n",
            "Train Epoch: 38 [12800/21279 (60%)]\tLoss: 0.698726\n",
            "Train Epoch: 38 [19200/21279 (90%)]\tLoss: 0.693227\n",
            "Test set: Average loss: 0.0108, Accuracy: 5642/10641 (53%)\n",
            "data shape: torch.Size([64, 12]) , target shape: torch.Size([64, 2]) , output shape: torch.Size([64, 2])\n",
            "Train Epoch: 39 [0/21279 (0%)]\tLoss: 0.689808\n",
            "Train Epoch: 39 [6400/21279 (30%)]\tLoss: 0.694446\n",
            "Train Epoch: 39 [12800/21279 (60%)]\tLoss: 0.694619\n",
            "Train Epoch: 39 [19200/21279 (90%)]\tLoss: 0.676882\n",
            "Test set: Average loss: 0.0108, Accuracy: 5622/10641 (53%)\n",
            "data shape: torch.Size([64, 12]) , target shape: torch.Size([64, 2]) , output shape: torch.Size([64, 2])\n",
            "Train Epoch: 40 [0/21279 (0%)]\tLoss: 0.694446\n",
            "Train Epoch: 40 [6400/21279 (30%)]\tLoss: 0.692730\n",
            "Train Epoch: 40 [12800/21279 (60%)]\tLoss: 0.695220\n",
            "Train Epoch: 40 [19200/21279 (90%)]\tLoss: 0.697435\n",
            "Test set: Average loss: 0.0109, Accuracy: 5624/10641 (53%)\n"
          ]
        }
      ],
      "source": [
        "\n",
        "model3 = CCV3().to(DEVICE)\n",
        "optimizer = optim.SGD(model3.parameters(), lr=0.05,momentum=0.5)\n",
        "criterion = F.cross_entropy\n",
        "\n",
        "train_loader = DataLoader(train_dataset, batch_size=64, shuffle=True, num_workers=0)\n",
        "test_loader = DataLoader(test_dataset, batch_size=64, shuffle=False, num_workers=0)\n",
        "\n",
        "test_acc_list = []\n",
        "test_loss_list = []\n",
        "\n",
        "for epoch in range(1, EPOCHS + 1):\n",
        "    train(model3, train_loader, optimizer, criterion, epoch, DEVICE)\n",
        "    test_acc, test_loss = test(model3, test_loader, criterion, DEVICE)\n",
        "    test_acc_list.append(test_acc)\n",
        "    test_loss_list.append(test_loss)"
      ]
    },
    {
      "cell_type": "code",
      "execution_count": 38,
      "metadata": {},
      "outputs": [
        {
          "data": {
            "image/png": "[encoded data removed]",
            "text/plain": [
              "<Figure size 640x480 with 1 Axes>"
            ]
          },
          "metadata": {},
          "output_type": "display_data"
        }
      ],
      "source": [
        "#plot acc\n",
        "from matplotlib import pyplot as plt\n",
        "plt.plot(test_acc_list,label='acc')\n",
        "plt.legend()\n",
        "plt.show()"
      ]
    },
    {
      "cell_type": "code",
      "execution_count": 39,
      "metadata": {},
      "outputs": [
        {
          "data": {
            "image/png": "[encoded data removed]",
            "text/plain": [
              "<Figure size 640x480 with 1 Axes>"
            ]
          },
          "metadata": {},
          "output_type": "display_data"
        }
      ],
      "source": [
        "#plot loss\n",
        "plt.plot(test_loss_list,label='loss')\n",
        "plt.legend()\n",
        "plt.show()"
      ]
    },
    {
      "cell_type": "code",
      "execution_count": 40,
      "metadata": {},
      "outputs": [
        {
          "data": {
            "text/plain": [
              "<AxesSubplot: >"
            ]
          },
          "execution_count": 40,
          "metadata": {},
          "output_type": "execute_result"
        },
        {
          "data": {
            "image/png": "[encoded data removed]",
            "text/plain": [
              "<Figure size 1000x700 with 2 Axes>"
            ]
          },
          "metadata": {},
          "output_type": "display_data"
        }
      ],
      "source": [
        "#confusion matrix\n",
        "#TT TF\n",
        "#FT FF\n",
        "from sklearn.metrics import confusion_matrix\n",
        "import seaborn as sns\n",
        "\n",
        "y_pred = model3(X_val.to(DEVICE)).argmax(dim=1, keepdim=True)\n",
        "y_true = y_val.argmax(1, keepdim=True).view_as(y_pred)\n",
        "cm = confusion_matrix(y_true.cpu(), y_pred.cpu())\n",
        "df_cm = pd.DataFrame(cm, index = [i for i in \"TF\"],\n",
        "                    columns = [i for i in \"TF\"])\n",
        "plt.figure(figsize = (10,7))\n",
        "sns.heatmap(df_cm, annot=True)"
      ]
    },
    {
      "cell_type": "code",
      "execution_count": 41,
      "metadata": {},
      "outputs": [
        {
          "name": "stdout",
          "output_type": "stream",
          "text": [
            " UP : 2203 , DOWN : 1343\n"
          ]
        }
      ],
      "source": [
        "a_cnt = 0\n",
        "b_cnt = 0\n",
        "for i in range(len(y_pred)):\n",
        "    if y_pred[i][0] == 1:\n",
        "        a_cnt += 1\n",
        "    else:\n",
        "        b_cnt += 1\n",
        "print(f\" UP : {a_cnt} , DOWN : {b_cnt}\")"
      ]
    },
    {
      "cell_type": "code",
      "execution_count": 42,
      "metadata": {},
      "outputs": [],
      "source": [
        "#save model\n",
        "torch.save(model3, 'CCV3.pt')"
      ]
    },
    {
      "cell_type": "code",
      "execution_count": 43,
      "metadata": {},
      "outputs": [
        {
          "name": "stdout",
          "output_type": "stream",
          "text": [
            "data shape: torch.Size([64, 12]) , target shape: torch.Size([64, 2]) , output shape: torch.Size([64, 2])\n",
            "Train Epoch: 1 [0/21279 (0%)]\tLoss: 0.681378\n",
            "Train Epoch: 1 [6400/21279 (30%)]\tLoss: 0.694169\n",
            "Train Epoch: 1 [12800/21279 (60%)]\tLoss: 0.693834\n",
            "Train Epoch: 1 [19200/21279 (90%)]\tLoss: 0.693612\n",
            "Test set: Average loss: 0.0109, Accuracy: 5263/10641 (49%)\n",
            "data shape: torch.Size([64, 12]) , target shape: torch.Size([64, 2]) , output shape: torch.Size([64, 2])\n",
            "Train Epoch: 2 [0/21279 (0%)]\tLoss: 0.691360\n",
            "Train Epoch: 2 [6400/21279 (30%)]\tLoss: 0.691245\n",
            "Train Epoch: 2 [12800/21279 (60%)]\tLoss: 0.693205\n",
            "Train Epoch: 2 [19200/21279 (90%)]\tLoss: 0.693360\n",
            "Test set: Average loss: 0.0109, Accuracy: 5263/10641 (49%)\n",
            "data shape: torch.Size([64, 12]) , target shape: torch.Size([64, 2]) , output shape: torch.Size([64, 2])\n",
            "Train Epoch: 3 [0/21279 (0%)]\tLoss: 0.692587\n",
            "Train Epoch: 3 [6400/21279 (30%)]\tLoss: 0.695920\n",
            "Train Epoch: 3 [12800/21279 (60%)]\tLoss: 0.694336\n",
            "Train Epoch: 3 [19200/21279 (90%)]\tLoss: 0.690600\n",
            "Test set: Average loss: 0.0109, Accuracy: 5263/10641 (49%)\n",
            "data shape: torch.Size([64, 12]) , target shape: torch.Size([64, 2]) , output shape: torch.Size([64, 2])\n",
            "Train Epoch: 4 [0/21279 (0%)]\tLoss: 0.691825\n",
            "Train Epoch: 4 [6400/21279 (30%)]\tLoss: 0.694839\n",
            "Train Epoch: 4 [12800/21279 (60%)]\tLoss: 0.693343\n",
            "Train Epoch: 4 [19200/21279 (90%)]\tLoss: 0.692844\n",
            "Test set: Average loss: 0.0109, Accuracy: 5378/10641 (51%)\n",
            "data shape: torch.Size([64, 12]) , target shape: torch.Size([64, 2]) , output shape: torch.Size([64, 2])\n",
            "Train Epoch: 5 [0/21279 (0%)]\tLoss: 0.693168\n",
            "Train Epoch: 5 [6400/21279 (30%)]\tLoss: 0.693402\n",
            "Train Epoch: 5 [12800/21279 (60%)]\tLoss: 0.693809\n",
            "Train Epoch: 5 [19200/21279 (90%)]\tLoss: 0.693270\n",
            "Test set: Average loss: 0.0109, Accuracy: 5263/10641 (49%)\n",
            "data shape: torch.Size([64, 12]) , target shape: torch.Size([64, 2]) , output shape: torch.Size([64, 2])\n",
            "Train Epoch: 6 [0/21279 (0%)]\tLoss: 0.695703\n",
            "Train Epoch: 6 [6400/21279 (30%)]\tLoss: 0.695658\n",
            "Train Epoch: 6 [12800/21279 (60%)]\tLoss: 0.693442\n",
            "Train Epoch: 6 [19200/21279 (90%)]\tLoss: 0.694399\n",
            "Test set: Average loss: 0.0109, Accuracy: 5378/10641 (51%)\n",
            "data shape: torch.Size([64, 12]) , target shape: torch.Size([64, 2]) , output shape: torch.Size([64, 2])\n",
            "Train Epoch: 7 [0/21279 (0%)]\tLoss: 0.692936\n",
            "Train Epoch: 7 [6400/21279 (30%)]\tLoss: 0.696314\n",
            "Train Epoch: 7 [12800/21279 (60%)]\tLoss: 0.697850\n",
            "Train Epoch: 7 [19200/21279 (90%)]\tLoss: 0.694061\n",
            "Test set: Average loss: 0.0109, Accuracy: 5378/10641 (51%)\n",
            "data shape: torch.Size([64, 12]) , target shape: torch.Size([64, 2]) , output shape: torch.Size([64, 2])\n",
            "Train Epoch: 8 [0/21279 (0%)]\tLoss: 0.695229\n",
            "Train Epoch: 8 [6400/21279 (30%)]\tLoss: 0.693499\n",
            "Train Epoch: 8 [12800/21279 (60%)]\tLoss: 0.693904\n",
            "Train Epoch: 8 [19200/21279 (90%)]\tLoss: 0.696554\n",
            "Test set: Average loss: 0.0109, Accuracy: 5263/10641 (49%)\n",
            "data shape: torch.Size([64, 12]) , target shape: torch.Size([64, 2]) , output shape: torch.Size([64, 2])\n",
            "Train Epoch: 9 [0/21279 (0%)]\tLoss: 0.683123\n",
            "Train Epoch: 9 [6400/21279 (30%)]\tLoss: 0.688667\n",
            "Train Epoch: 9 [12800/21279 (60%)]\tLoss: 0.680614\n",
            "Train Epoch: 9 [19200/21279 (90%)]\tLoss: 0.698942\n",
            "Test set: Average loss: 0.0109, Accuracy: 5263/10641 (49%)\n",
            "data shape: torch.Size([64, 12]) , target shape: torch.Size([64, 2]) , output shape: torch.Size([64, 2])\n",
            "Train Epoch: 10 [0/21279 (0%)]\tLoss: 0.689453\n",
            "Train Epoch: 10 [6400/21279 (30%)]\tLoss: 0.694030\n",
            "Train Epoch: 10 [12800/21279 (60%)]\tLoss: 0.696632\n",
            "Train Epoch: 10 [19200/21279 (90%)]\tLoss: 0.688454\n",
            "Test set: Average loss: 0.0109, Accuracy: 5263/10641 (49%)\n",
            "data shape: torch.Size([64, 12]) , target shape: torch.Size([64, 2]) , output shape: torch.Size([64, 2])\n",
            "Train Epoch: 11 [0/21279 (0%)]\tLoss: 0.699321\n",
            "Train Epoch: 11 [6400/21279 (30%)]\tLoss: 0.693502\n",
            "Train Epoch: 11 [12800/21279 (60%)]\tLoss: 0.693053\n",
            "Train Epoch: 11 [19200/21279 (90%)]\tLoss: 0.694197\n",
            "Test set: Average loss: 0.0109, Accuracy: 5263/10641 (49%)\n",
            "data shape: torch.Size([64, 12]) , target shape: torch.Size([64, 2]) , output shape: torch.Size([64, 2])\n",
            "Train Epoch: 12 [0/21279 (0%)]\tLoss: 0.692527\n",
            "Train Epoch: 12 [6400/21279 (30%)]\tLoss: 0.693520\n",
            "Train Epoch: 12 [12800/21279 (60%)]\tLoss: 0.691247\n",
            "Train Epoch: 12 [19200/21279 (90%)]\tLoss: 0.690450\n",
            "Test set: Average loss: 0.0109, Accuracy: 5263/10641 (49%)\n",
            "data shape: torch.Size([64, 12]) , target shape: torch.Size([64, 2]) , output shape: torch.Size([64, 2])\n",
            "Train Epoch: 13 [0/21279 (0%)]\tLoss: 0.693757\n",
            "Train Epoch: 13 [6400/21279 (30%)]\tLoss: 0.693352\n",
            "Train Epoch: 13 [12800/21279 (60%)]\tLoss: 0.700122\n",
            "Train Epoch: 13 [19200/21279 (90%)]\tLoss: 0.697041\n",
            "Test set: Average loss: 0.0109, Accuracy: 5263/10641 (49%)\n",
            "data shape: torch.Size([64, 12]) , target shape: torch.Size([64, 2]) , output shape: torch.Size([64, 2])\n",
            "Train Epoch: 14 [0/21279 (0%)]\tLoss: 0.692349\n",
            "Train Epoch: 14 [6400/21279 (30%)]\tLoss: 0.695425\n",
            "Train Epoch: 14 [12800/21279 (60%)]\tLoss: 0.691624\n",
            "Train Epoch: 14 [19200/21279 (90%)]\tLoss: 0.693087\n",
            "Test set: Average loss: 0.0109, Accuracy: 5263/10641 (49%)\n",
            "data shape: torch.Size([64, 12]) , target shape: torch.Size([64, 2]) , output shape: torch.Size([64, 2])\n",
            "Train Epoch: 15 [0/21279 (0%)]\tLoss: 0.693259\n",
            "Train Epoch: 15 [6400/21279 (30%)]\tLoss: 0.693145\n",
            "Train Epoch: 15 [12800/21279 (60%)]\tLoss: 0.694480\n",
            "Train Epoch: 15 [19200/21279 (90%)]\tLoss: 0.700270\n",
            "Test set: Average loss: 0.0109, Accuracy: 5263/10641 (49%)\n",
            "data shape: torch.Size([64, 12]) , target shape: torch.Size([64, 2]) , output shape: torch.Size([64, 2])\n",
            "Train Epoch: 16 [0/21279 (0%)]\tLoss: 0.693479\n",
            "Train Epoch: 16 [6400/21279 (30%)]\tLoss: 0.692050\n",
            "Train Epoch: 16 [12800/21279 (60%)]\tLoss: 0.693578\n",
            "Train Epoch: 16 [19200/21279 (90%)]\tLoss: 0.692956\n",
            "Test set: Average loss: 0.0109, Accuracy: 5378/10641 (51%)\n",
            "data shape: torch.Size([64, 12]) , target shape: torch.Size([64, 2]) , output shape: torch.Size([64, 2])\n",
            "Train Epoch: 17 [0/21279 (0%)]\tLoss: 0.696378\n",
            "Train Epoch: 17 [6400/21279 (30%)]\tLoss: 0.692836\n",
            "Train Epoch: 17 [12800/21279 (60%)]\tLoss: 0.681711\n",
            "Train Epoch: 17 [19200/21279 (90%)]\tLoss: 0.691812\n",
            "Test set: Average loss: 0.0109, Accuracy: 5263/10641 (49%)\n",
            "data shape: torch.Size([64, 12]) , target shape: torch.Size([64, 2]) , output shape: torch.Size([64, 2])\n",
            "Train Epoch: 18 [0/21279 (0%)]\tLoss: 0.694438\n",
            "Train Epoch: 18 [6400/21279 (30%)]\tLoss: 0.694328\n",
            "Train Epoch: 18 [12800/21279 (60%)]\tLoss: 0.693237\n",
            "Train Epoch: 18 [19200/21279 (90%)]\tLoss: 0.693700\n",
            "Test set: Average loss: 0.0109, Accuracy: 5263/10641 (49%)\n",
            "data shape: torch.Size([64, 12]) , target shape: torch.Size([64, 2]) , output shape: torch.Size([64, 2])\n",
            "Train Epoch: 19 [0/21279 (0%)]\tLoss: 0.691533\n",
            "Train Epoch: 19 [6400/21279 (30%)]\tLoss: 0.693838\n",
            "Train Epoch: 19 [12800/21279 (60%)]\tLoss: 0.699450\n",
            "Train Epoch: 19 [19200/21279 (90%)]\tLoss: 0.693275\n",
            "Test set: Average loss: 0.0109, Accuracy: 5406/10641 (51%)\n",
            "data shape: torch.Size([64, 12]) , target shape: torch.Size([64, 2]) , output shape: torch.Size([64, 2])\n",
            "Train Epoch: 20 [0/21279 (0%)]\tLoss: 0.693000\n",
            "Train Epoch: 20 [6400/21279 (30%)]\tLoss: 0.693074\n",
            "Train Epoch: 20 [12800/21279 (60%)]\tLoss: 0.693913\n",
            "Train Epoch: 20 [19200/21279 (90%)]\tLoss: 0.692899\n",
            "Test set: Average loss: 0.0109, Accuracy: 5549/10641 (52%)\n",
            "data shape: torch.Size([64, 12]) , target shape: torch.Size([64, 2]) , output shape: torch.Size([64, 2])\n",
            "Train Epoch: 21 [0/21279 (0%)]\tLoss: 0.693117\n",
            "Train Epoch: 21 [6400/21279 (30%)]\tLoss: 0.694829\n",
            "Train Epoch: 21 [12800/21279 (60%)]\tLoss: 0.694010\n",
            "Train Epoch: 21 [19200/21279 (90%)]\tLoss: 0.693291\n",
            "Test set: Average loss: 0.0109, Accuracy: 5263/10641 (49%)\n",
            "data shape: torch.Size([64, 12]) , target shape: torch.Size([64, 2]) , output shape: torch.Size([64, 2])\n",
            "Train Epoch: 22 [0/21279 (0%)]\tLoss: 0.690295\n",
            "Train Epoch: 22 [6400/21279 (30%)]\tLoss: 0.693016\n",
            "Train Epoch: 22 [12800/21279 (60%)]\tLoss: 0.692960\n",
            "Train Epoch: 22 [19200/21279 (90%)]\tLoss: 0.693574\n",
            "Test set: Average loss: 0.0109, Accuracy: 5263/10641 (49%)\n",
            "data shape: torch.Size([64, 12]) , target shape: torch.Size([64, 2]) , output shape: torch.Size([64, 2])\n",
            "Train Epoch: 23 [0/21279 (0%)]\tLoss: 0.697140\n",
            "Train Epoch: 23 [6400/21279 (30%)]\tLoss: 0.694196\n",
            "Train Epoch: 23 [12800/21279 (60%)]\tLoss: 0.693443\n",
            "Train Epoch: 23 [19200/21279 (90%)]\tLoss: 0.692636\n",
            "Test set: Average loss: 0.0109, Accuracy: 5378/10641 (51%)\n",
            "data shape: torch.Size([64, 12]) , target shape: torch.Size([64, 2]) , output shape: torch.Size([64, 2])\n",
            "Train Epoch: 24 [0/21279 (0%)]\tLoss: 0.694948\n",
            "Train Epoch: 24 [6400/21279 (30%)]\tLoss: 0.692121\n",
            "Train Epoch: 24 [12800/21279 (60%)]\tLoss: 0.696020\n",
            "Train Epoch: 24 [19200/21279 (90%)]\tLoss: 0.689623\n",
            "Test set: Average loss: 0.0109, Accuracy: 5263/10641 (49%)\n",
            "data shape: torch.Size([64, 12]) , target shape: torch.Size([64, 2]) , output shape: torch.Size([64, 2])\n",
            "Train Epoch: 25 [0/21279 (0%)]\tLoss: 0.693338\n",
            "Train Epoch: 25 [6400/21279 (30%)]\tLoss: 0.694109\n",
            "Train Epoch: 25 [12800/21279 (60%)]\tLoss: 0.695703\n",
            "Train Epoch: 25 [19200/21279 (90%)]\tLoss: 0.694788\n",
            "Test set: Average loss: 0.0109, Accuracy: 5378/10641 (51%)\n",
            "data shape: torch.Size([64, 12]) , target shape: torch.Size([64, 2]) , output shape: torch.Size([64, 2])\n",
            "Train Epoch: 26 [0/21279 (0%)]\tLoss: 0.693489\n",
            "Train Epoch: 26 [6400/21279 (30%)]\tLoss: 0.692485\n",
            "Train Epoch: 26 [12800/21279 (60%)]\tLoss: 0.691934\n",
            "Train Epoch: 26 [19200/21279 (90%)]\tLoss: 0.695019\n",
            "Test set: Average loss: 0.0109, Accuracy: 5263/10641 (49%)\n",
            "data shape: torch.Size([64, 12]) , target shape: torch.Size([64, 2]) , output shape: torch.Size([64, 2])\n",
            "Train Epoch: 27 [0/21279 (0%)]\tLoss: 0.679302\n",
            "Train Epoch: 27 [6400/21279 (30%)]\tLoss: 0.693443\n",
            "Train Epoch: 27 [12800/21279 (60%)]\tLoss: 0.692716\n",
            "Train Epoch: 27 [19200/21279 (90%)]\tLoss: 0.690584\n",
            "Test set: Average loss: 0.0109, Accuracy: 5263/10641 (49%)\n",
            "data shape: torch.Size([64, 12]) , target shape: torch.Size([64, 2]) , output shape: torch.Size([64, 2])\n",
            "Train Epoch: 28 [0/21279 (0%)]\tLoss: 0.694227\n",
            "Train Epoch: 28 [6400/21279 (30%)]\tLoss: 0.693077\n",
            "Train Epoch: 28 [12800/21279 (60%)]\tLoss: 0.693218\n",
            "Train Epoch: 28 [19200/21279 (90%)]\tLoss: 0.701285\n",
            "Test set: Average loss: 0.0109, Accuracy: 5567/10641 (52%)\n",
            "data shape: torch.Size([64, 12]) , target shape: torch.Size([64, 2]) , output shape: torch.Size([64, 2])\n",
            "Train Epoch: 29 [0/21279 (0%)]\tLoss: 0.693194\n",
            "Train Epoch: 29 [6400/21279 (30%)]\tLoss: 0.697747\n",
            "Train Epoch: 29 [12800/21279 (60%)]\tLoss: 0.691218\n",
            "Train Epoch: 29 [19200/21279 (90%)]\tLoss: 0.691416\n",
            "Test set: Average loss: 0.0109, Accuracy: 5378/10641 (51%)\n",
            "data shape: torch.Size([64, 12]) , target shape: torch.Size([64, 2]) , output shape: torch.Size([64, 2])\n",
            "Train Epoch: 30 [0/21279 (0%)]\tLoss: 0.692875\n",
            "Train Epoch: 30 [6400/21279 (30%)]\tLoss: 0.695838\n",
            "Train Epoch: 30 [12800/21279 (60%)]\tLoss: 0.693330\n",
            "Train Epoch: 30 [19200/21279 (90%)]\tLoss: 0.692818\n",
            "Test set: Average loss: 0.0109, Accuracy: 5263/10641 (49%)\n",
            "data shape: torch.Size([64, 12]) , target shape: torch.Size([64, 2]) , output shape: torch.Size([64, 2])\n",
            "Train Epoch: 31 [0/21279 (0%)]\tLoss: 0.693125\n",
            "Train Epoch: 31 [6400/21279 (30%)]\tLoss: 0.693623\n",
            "Train Epoch: 31 [12800/21279 (60%)]\tLoss: 0.689903\n",
            "Train Epoch: 31 [19200/21279 (90%)]\tLoss: 0.692015\n",
            "Test set: Average loss: 0.0109, Accuracy: 5263/10641 (49%)\n",
            "data shape: torch.Size([64, 12]) , target shape: torch.Size([64, 2]) , output shape: torch.Size([64, 2])\n",
            "Train Epoch: 32 [0/21279 (0%)]\tLoss: 0.691868\n",
            "Train Epoch: 32 [6400/21279 (30%)]\tLoss: 0.692108\n",
            "Train Epoch: 32 [12800/21279 (60%)]\tLoss: 0.692984\n",
            "Train Epoch: 32 [19200/21279 (90%)]\tLoss: 0.691335\n",
            "Test set: Average loss: 0.0109, Accuracy: 5263/10641 (49%)\n",
            "data shape: torch.Size([64, 12]) , target shape: torch.Size([64, 2]) , output shape: torch.Size([64, 2])\n",
            "Train Epoch: 33 [0/21279 (0%)]\tLoss: 0.689739\n",
            "Train Epoch: 33 [6400/21279 (30%)]\tLoss: 0.693113\n",
            "Train Epoch: 33 [12800/21279 (60%)]\tLoss: 0.688094\n",
            "Train Epoch: 33 [19200/21279 (90%)]\tLoss: 0.697461\n",
            "Test set: Average loss: 0.0109, Accuracy: 5378/10641 (51%)\n",
            "data shape: torch.Size([64, 12]) , target shape: torch.Size([64, 2]) , output shape: torch.Size([64, 2])\n",
            "Train Epoch: 34 [0/21279 (0%)]\tLoss: 0.694089\n",
            "Train Epoch: 34 [6400/21279 (30%)]\tLoss: 0.693372\n",
            "Train Epoch: 34 [12800/21279 (60%)]\tLoss: 0.694059\n",
            "Train Epoch: 34 [19200/21279 (90%)]\tLoss: 0.692077\n",
            "Test set: Average loss: 0.0109, Accuracy: 5263/10641 (49%)\n",
            "data shape: torch.Size([64, 12]) , target shape: torch.Size([64, 2]) , output shape: torch.Size([64, 2])\n",
            "Train Epoch: 35 [0/21279 (0%)]\tLoss: 0.690782\n",
            "Train Epoch: 35 [6400/21279 (30%)]\tLoss: 0.685498\n",
            "Train Epoch: 35 [12800/21279 (60%)]\tLoss: 0.694005\n",
            "Train Epoch: 35 [19200/21279 (90%)]\tLoss: 0.692096\n",
            "Test set: Average loss: 0.0109, Accuracy: 5378/10641 (51%)\n",
            "data shape: torch.Size([64, 12]) , target shape: torch.Size([64, 2]) , output shape: torch.Size([64, 2])\n",
            "Train Epoch: 36 [0/21279 (0%)]\tLoss: 0.691456\n",
            "Train Epoch: 36 [6400/21279 (30%)]\tLoss: 0.692623\n",
            "Train Epoch: 36 [12800/21279 (60%)]\tLoss: 0.689515\n",
            "Train Epoch: 36 [19200/21279 (90%)]\tLoss: 0.692773\n",
            "Test set: Average loss: 0.0109, Accuracy: 5263/10641 (49%)\n",
            "data shape: torch.Size([64, 12]) , target shape: torch.Size([64, 2]) , output shape: torch.Size([64, 2])\n",
            "Train Epoch: 37 [0/21279 (0%)]\tLoss: 0.689211\n",
            "Train Epoch: 37 [6400/21279 (30%)]\tLoss: 0.693544\n",
            "Train Epoch: 37 [12800/21279 (60%)]\tLoss: 0.692484\n",
            "Train Epoch: 37 [19200/21279 (90%)]\tLoss: 0.693577\n",
            "Test set: Average loss: 0.0109, Accuracy: 5378/10641 (51%)\n",
            "data shape: torch.Size([64, 12]) , target shape: torch.Size([64, 2]) , output shape: torch.Size([64, 2])\n",
            "Train Epoch: 38 [0/21279 (0%)]\tLoss: 0.689846\n",
            "Train Epoch: 38 [6400/21279 (30%)]\tLoss: 0.692923\n",
            "Train Epoch: 38 [12800/21279 (60%)]\tLoss: 0.690801\n",
            "Train Epoch: 38 [19200/21279 (90%)]\tLoss: 0.693343\n",
            "Test set: Average loss: 0.0109, Accuracy: 5263/10641 (49%)\n",
            "data shape: torch.Size([64, 12]) , target shape: torch.Size([64, 2]) , output shape: torch.Size([64, 2])\n",
            "Train Epoch: 39 [0/21279 (0%)]\tLoss: 0.688462\n",
            "Train Epoch: 39 [6400/21279 (30%)]\tLoss: 0.692910\n",
            "Train Epoch: 39 [12800/21279 (60%)]\tLoss: 0.691951\n",
            "Train Epoch: 39 [19200/21279 (90%)]\tLoss: 0.682638\n",
            "Test set: Average loss: 0.0109, Accuracy: 5378/10641 (51%)\n",
            "data shape: torch.Size([64, 12]) , target shape: torch.Size([64, 2]) , output shape: torch.Size([64, 2])\n",
            "Train Epoch: 40 [0/21279 (0%)]\tLoss: 0.692624\n",
            "Train Epoch: 40 [6400/21279 (30%)]\tLoss: 0.691903\n",
            "Train Epoch: 40 [12800/21279 (60%)]\tLoss: 0.693084\n",
            "Train Epoch: 40 [19200/21279 (90%)]\tLoss: 0.683558\n",
            "Test set: Average loss: 0.0109, Accuracy: 5365/10641 (50%)\n"
          ]
        }
      ],
      "source": [
        "model5 = CCV5().to(DEVICE)\n",
        "optimizer = optim.SGD(model5.parameters(), lr=0.05,momentum=0.5)\n",
        "criterion = F.cross_entropy\n",
        "\n",
        "train_loader = DataLoader(train_dataset, batch_size=64, shuffle=True, num_workers=0)\n",
        "test_loader = DataLoader(test_dataset, batch_size=64, shuffle=False, num_workers=0)\n",
        "\n",
        "test_acc_list = []\n",
        "test_loss_list = []\n",
        "\n",
        "for epoch in range(1, EPOCHS + 1):\n",
        "    train(model5, train_loader, optimizer, criterion, epoch, DEVICE)\n",
        "    test_acc, test_loss = test(model5, test_loader, criterion, DEVICE)\n",
        "    test_acc_list.append(test_acc)\n",
        "    test_loss_list.append(test_loss)"
      ]
    },
    {
      "cell_type": "code",
      "execution_count": 44,
      "metadata": {},
      "outputs": [
        {
          "data": {
            "image/png": "[encoded data removed]",
            "text/plain": [
              "<Figure size 640x480 with 1 Axes>"
            ]
          },
          "metadata": {},
          "output_type": "display_data"
        }
      ],
      "source": [
        "plt.plot(test_acc_list,label='acc')\n",
        "plt.legend()\n",
        "plt.show()"
      ]
    },
    {
      "cell_type": "code",
      "execution_count": 45,
      "metadata": {},
      "outputs": [
        {
          "data": {
            "image/png": "[encoded data removed]",
            "text/plain": [
              "<Figure size 640x480 with 1 Axes>"
            ]
          },
          "metadata": {},
          "output_type": "display_data"
        }
      ],
      "source": [
        "#plot loss\n",
        "plt.plot(test_loss_list,label='loss')\n",
        "plt.legend()\n",
        "plt.show()"
      ]
    },
    {
      "cell_type": "code",
      "execution_count": 46,
      "metadata": {},
      "outputs": [
        {
          "data": {
            "text/plain": [
              "<AxesSubplot: >"
            ]
          },
          "execution_count": 46,
          "metadata": {},
          "output_type": "execute_result"
        },
        {
          "data": {
            "image/png": "[encoded data removed]",
            "text/plain": [
              "<Figure size 1000x700 with 2 Axes>"
            ]
          },
          "metadata": {},
          "output_type": "display_data"
        }
      ],
      "source": [
        "y_pred = model5(X_val.to(DEVICE)).argmax(dim=1, keepdim=True)\n",
        "y_true = y_val.argmax(1, keepdim=True).view_as(y_pred)\n",
        "cm = confusion_matrix(y_true.cpu(), y_pred.cpu())\n",
        "df_cm = pd.DataFrame(cm, index = [i for i in \"TF\"],\n",
        "                    columns = [i for i in \"TF\"])\n",
        "plt.figure(figsize = (10,7))\n",
        "sns.heatmap(df_cm, annot=True)"
      ]
    },
    {
      "cell_type": "code",
      "execution_count": 47,
      "metadata": {},
      "outputs": [],
      "source": [
        "#save model\n",
        "torch.save(model5, 'CCV5.pt')"
      ]
    }
  ],
  "metadata": {
    "accelerator": "GPU",
    "colab": {
      "include_colab_link": true,
      "machine_shape": "hm",
      "provenance": []
    },
    "gpuClass": "premium",
    "kernelspec": {
      "display_name": "Python 3",
      "language": "python",
      "name": "python3"
    },
    "language_info": {
      "codemirror_mode": {
        "name": "ipython",
        "version": 3
      },
      "file_extension": ".py",
      "mimetype": "text/x-python",
      "name": "python",
      "nbconvert_exporter": "python",
      "pygments_lexer": "ipython3",
      "version": "3.11.2"
    },
    "orig_nbformat": 4,
    "vscode": {
      "interpreter": {
        "hash": "26de051ba29f2982a8de78e945f0abaf191376122a1563185a90213a26c5da77"
      }
    }
  },
  "nbformat": 4,
  "nbformat_minor": 0
}
