{
  "cells": [
    {
      "cell_type": "markdown",
      "metadata": {
        "id": "6epq6_O1vvia"
      },
      "source": [
        "[![GitHub](https://img.shields.io/badge/Github-hibana2077-blue?style=plastic-square&logo=github)](https://github.com/hibana2077)\n",
        "[![Colab](https://img.shields.io/badge/Colab-Open%20in%20Colab-blue?style=plastic-square&logo=googlecolab)](https://colab.research.google.com/github/hibana2077/hibana2077/blob/master/train/train.ipynb)"
      ]
    },
    {
      "cell_type": "markdown",
      "metadata": {
        "id": "t38eQJt0vvid"
      },
      "source": [
        "如果要訓練這份資料集會需要安裝talib套件，請參考[這裡](https://www.lfd.uci.edu/~gohlke/pythonlibs/#ta-lib)下載對應的版本，並使用pip安裝。"
      ]
    },
    {
      "cell_type": "code",
      "execution_count": 1,
      "metadata": {
        "colab": {
          "base_uri": "https://localhost:8080/"
        },
        "id": "oWr_Ksvyv3Ro",
        "outputId": "a1ee08c2-55e0-4e05-a5e3-39430fde8c45"
      },
      "outputs": [],
      "source": [
        "# !pip install ccxt"
      ]
    },
    {
      "cell_type": "code",
      "execution_count": 2,
      "metadata": {
        "colab": {
          "base_uri": "https://localhost:8080/"
        },
        "id": "GSuyiZlLwOO5",
        "outputId": "3d1ec1a2-6001-4306-8424-1923934b2884"
      },
      "outputs": [],
      "source": [
        "# !wget http://prdownloads.sourceforge.net/ta-lib/ta-lib-0.4.0-src.tar.gz\n",
        "# !tar -xzvf ta-lib-0.4.0-src.tar.gz\n",
        "# %cd ta-lib\n",
        "# !./configure --prefix=/usr\n",
        "# !make\n",
        "# !make install\n",
        "# !pip install Ta-Lib"
      ]
    },
    {
      "cell_type": "code",
      "execution_count": 1,
      "metadata": {
        "colab": {
          "base_uri": "https://localhost:8080/",
          "height": 387
        },
        "id": "0dEqkDzevvie",
        "outputId": "4ef1a61d-0ce2-40b5-8102-d6a51827ef87"
      },
      "outputs": [],
      "source": [
        "from ccxt import binance\n",
        "from torch.utils.data import Dataset, DataLoader\n",
        "from torch import nn\n",
        "from torch import optim\n",
        "from torch.nn import functional as F\n",
        "from talib import abstract\n",
        "import pandas as pd\n",
        "import numpy as np\n",
        "import torch\n",
        "import os\n",
        "import sys"
      ]
    },
    {
      "cell_type": "markdown",
      "metadata": {
        "id": "H59nhzEFvvif"
      },
      "source": [
        "# 環境整理"
      ]
    },
    {
      "cell_type": "code",
      "execution_count": 2,
      "metadata": {
        "id": "Zjpnlfgcvvif"
      },
      "outputs": [],
      "source": [
        "ls_dir = os.listdir(path=\"..\")\n",
        "if \"data\" not in ls_dir:\n",
        "    os.mkdir(path=\"../data\")\n",
        "if \"model\" not in ls_dir:\n",
        "    os.mkdir(path=\"../model\")\n",
        "if \"data\" in ls_dir:\n",
        "    ls_dir = os.listdir(path=\"../data\")\n",
        "    #remove all files in data folder\n",
        "    for file in ls_dir:os.remove(path=\"../data/\"+file)"
      ]
    },
    {
      "cell_type": "markdown",
      "metadata": {
        "id": "zG1FGxMUvvig"
      },
      "source": [
        "# 下載資料集"
      ]
    },
    {
      "cell_type": "code",
      "execution_count": 3,
      "metadata": {
        "id": "29klRj8yvvig"
      },
      "outputs": [],
      "source": [
        "# Download data\n",
        "\n",
        "binance = binance()\n",
        "symbol = 'ETH/USDT'\n",
        "timeframe = '15m'\n",
        "file_name = f\"../data/{symbol.replace('/', '_')}_{timeframe}.csv\"\n",
        "start = binance.parse8601('2022-01-01T00:00:00Z')\n",
        "end = binance.parse8601('2023-01-01T00:00:00Z')\n",
        "cnt_time = start\n",
        "data = []\n",
        "while cnt_time < end:\n",
        "    ohlcv = binance.fetch_ohlcv(symbol, timeframe, cnt_time)\n",
        "    data += ohlcv\n",
        "    cnt_time = ohlcv[-1][0] + 900000 \n",
        "df = pd.DataFrame(data, columns=['time', 'open', 'high', 'low', 'close', 'volume'])\n",
        "df['time'] = pd.to_datetime(df['time'], unit='ms')\n",
        "df.to_csv(file_name, index=False)"
      ]
    },
    {
      "cell_type": "markdown",
      "metadata": {
        "id": "XhcDY9sbvvih"
      },
      "source": [
        "# 讀取資料集"
      ]
    },
    {
      "cell_type": "code",
      "execution_count": 2,
      "metadata": {
        "id": "sT6TVXPQvvih"
      },
      "outputs": [],
      "source": [
        "#如果有下载好的數據，可以直接讀取\n",
        "data_file = '../data/ETH_USDT_15m.csv' #-> 可以自行更換\n",
        "df = pd.read_csv(data_file)"
      ]
    },
    {
      "cell_type": "markdown",
      "metadata": {
        "id": "Zz939phEvvih"
      },
      "source": [
        "# 數據處理\n",
        "\n",
        "- 計算RSI\n",
        "- 計算MACD\n",
        "- 計算OBV\n",
        "- 計算CCI\n",
        "- 改成變化百分比 -> 標準化\n",
        "\n",
        "關於技術指標的說明可以參考[這裡](https://www.investopedia.com/terms/t/technicalindicator.asp)，或是google。"
      ]
    },
    {
      "cell_type": "code",
      "execution_count": 4,
      "metadata": {
        "id": "cWEqDOiVvvih"
      },
      "outputs": [],
      "source": [
        "df['RSI'] = abstract.RSI(df, timeperiod=14)\n",
        "df['MACD'] = abstract.MACD(df, fastperiod=12, slowperiod=26, signalperiod=9)['macd'] #只取MACD\n",
        "df['OBV'] = abstract.OBV(df, timeperiod=14)\n",
        "df['CCI'] = abstract.CCI(df, timeperiod=14)\n",
        "df['ATR'] = abstract.ATR(df, timeperiod=14)\n",
        "df['ADX'] = abstract.ADX(df, timeperiod=14)\n",
        "df['MFI'] = abstract.MFI(df, timeperiod=14)\n",
        "df['CLOSE_percent'] = df['close'].pct_change()\n",
        "#由於RSI MACD OBV CCI 他們已經是標準化的，所以不需要再標準化"
      ]
    },
    {
      "cell_type": "markdown",
      "metadata": {
        "id": "RDPm_zt2vvii"
      },
      "source": [
        "# 設定買賣點\n",
        "\n",
        "將買賣點分為下跌、上漲、不動，並將數據轉成one-hot編碼。"
      ]
    },
    {
      "cell_type": "code",
      "execution_count": 5,
      "metadata": {
        "id": "kQ0vSu6Yvvii"
      },
      "outputs": [],
      "source": [
        "df['UP'] = df['CLOSE_percent'].apply(lambda x: 1 if x > 0 else 0)\n",
        "df['DOWN'] = df['CLOSE_percent'].apply(lambda x: 1 if x < 0 else 0)\n",
        "df['UP'] = df['UP'].shift(-1) #shift UP DOWN 一個單位，因為我們要預測的是下一個時間點的漲跌\n",
        "df['DOWN'] = df['DOWN'].shift(-1)\n",
        "\n",
        "df = df.dropna()\n"
      ]
    },
    {
      "cell_type": "code",
      "execution_count": 3,
      "metadata": {
        "id": "k77OIN-dvvii"
      },
      "outputs": [
        {
          "data": {
            "text/html": [
              "<div>\n",
              "<style scoped>\n",
              "    .dataframe tbody tr th:only-of-type {\n",
              "        vertical-align: middle;\n",
              "    }\n",
              "\n",
              "    .dataframe tbody tr th {\n",
              "        vertical-align: top;\n",
              "    }\n",
              "\n",
              "    .dataframe thead th {\n",
              "        text-align: right;\n",
              "    }\n",
              "</style>\n",
              "<table border=\"1\" class=\"dataframe\">\n",
              "  <thead>\n",
              "    <tr style=\"text-align: right;\">\n",
              "      <th></th>\n",
              "      <th>time</th>\n",
              "      <th>open</th>\n",
              "      <th>high</th>\n",
              "      <th>low</th>\n",
              "      <th>close</th>\n",
              "      <th>volume</th>\n",
              "      <th>RSI</th>\n",
              "      <th>MACD</th>\n",
              "      <th>OBV</th>\n",
              "      <th>CCI</th>\n",
              "      <th>ATR</th>\n",
              "      <th>ADX</th>\n",
              "      <th>MFI</th>\n",
              "      <th>UP</th>\n",
              "      <th>DOWN</th>\n",
              "    </tr>\n",
              "  </thead>\n",
              "  <tbody>\n",
              "    <tr>\n",
              "      <th>0</th>\n",
              "      <td>2022-01-01 08:15:00</td>\n",
              "      <td>0.946260</td>\n",
              "      <td>0.941543</td>\n",
              "      <td>0.947608</td>\n",
              "      <td>0.947727</td>\n",
              "      <td>0.002398</td>\n",
              "      <td>0.534568</td>\n",
              "      <td>0.533569</td>\n",
              "      <td>0.888414</td>\n",
              "      <td>0.484903</td>\n",
              "      <td>0.205796</td>\n",
              "      <td>0.264040</td>\n",
              "      <td>0.507308</td>\n",
              "      <td>1.0</td>\n",
              "      <td>0.0</td>\n",
              "    </tr>\n",
              "    <tr>\n",
              "      <th>1</th>\n",
              "      <td>2022-01-01 08:30:00</td>\n",
              "      <td>0.947858</td>\n",
              "      <td>0.941063</td>\n",
              "      <td>0.947614</td>\n",
              "      <td>0.947993</td>\n",
              "      <td>0.002854</td>\n",
              "      <td>0.539149</td>\n",
              "      <td>0.536218</td>\n",
              "      <td>0.888673</td>\n",
              "      <td>0.477682</td>\n",
              "      <td>0.199213</td>\n",
              "      <td>0.258053</td>\n",
              "      <td>0.523490</td>\n",
              "      <td>0.0</td>\n",
              "      <td>1.0</td>\n",
              "    </tr>\n",
              "    <tr>\n",
              "      <th>2</th>\n",
              "      <td>2022-01-01 08:45:00</td>\n",
              "      <td>0.947989</td>\n",
              "      <td>0.944291</td>\n",
              "      <td>0.949045</td>\n",
              "      <td>0.947704</td>\n",
              "      <td>0.003717</td>\n",
              "      <td>0.532898</td>\n",
              "      <td>0.537880</td>\n",
              "      <td>0.888362</td>\n",
              "      <td>0.515845</td>\n",
              "      <td>0.198994</td>\n",
              "      <td>0.261002</td>\n",
              "      <td>0.447707</td>\n",
              "      <td>1.0</td>\n",
              "      <td>0.0</td>\n",
              "    </tr>\n",
              "    <tr>\n",
              "      <th>3</th>\n",
              "      <td>2022-01-01 09:00:00</td>\n",
              "      <td>0.947617</td>\n",
              "      <td>0.943009</td>\n",
              "      <td>0.947648</td>\n",
              "      <td>0.950474</td>\n",
              "      <td>0.004672</td>\n",
              "      <td>0.582682</td>\n",
              "      <td>0.544218</td>\n",
              "      <td>0.888731</td>\n",
              "      <td>0.538501</td>\n",
              "      <td>0.199162</td>\n",
              "      <td>0.257649</td>\n",
              "      <td>0.416577</td>\n",
              "      <td>0.0</td>\n",
              "      <td>1.0</td>\n",
              "    </tr>\n",
              "    <tr>\n",
              "      <th>4</th>\n",
              "      <td>2022-01-01 09:15:00</td>\n",
              "      <td>0.950474</td>\n",
              "      <td>0.942986</td>\n",
              "      <td>0.949239</td>\n",
              "      <td>0.948076</td>\n",
              "      <td>0.003983</td>\n",
              "      <td>0.529185</td>\n",
              "      <td>0.544908</td>\n",
              "      <td>0.888403</td>\n",
              "      <td>0.543989</td>\n",
              "      <td>0.194037</td>\n",
              "      <td>0.254536</td>\n",
              "      <td>0.411309</td>\n",
              "      <td>0.0</td>\n",
              "      <td>1.0</td>\n",
              "    </tr>\n",
              "    <tr>\n",
              "      <th>...</th>\n",
              "      <td>...</td>\n",
              "      <td>...</td>\n",
              "      <td>...</td>\n",
              "      <td>...</td>\n",
              "      <td>...</td>\n",
              "      <td>...</td>\n",
              "      <td>...</td>\n",
              "      <td>...</td>\n",
              "      <td>...</td>\n",
              "      <td>...</td>\n",
              "      <td>...</td>\n",
              "      <td>...</td>\n",
              "      <td>...</td>\n",
              "      <td>...</td>\n",
              "      <td>...</td>\n",
              "    </tr>\n",
              "    <tr>\n",
              "      <th>35461</th>\n",
              "      <td>2023-01-05 17:30:00</td>\n",
              "      <td>0.117445</td>\n",
              "      <td>0.114930</td>\n",
              "      <td>0.122333</td>\n",
              "      <td>0.117112</td>\n",
              "      <td>0.003971</td>\n",
              "      <td>0.418599</td>\n",
              "      <td>0.539354</td>\n",
              "      <td>0.310202</td>\n",
              "      <td>0.447685</td>\n",
              "      <td>0.026181</td>\n",
              "      <td>0.249130</td>\n",
              "      <td>0.448492</td>\n",
              "      <td>0.0</td>\n",
              "      <td>1.0</td>\n",
              "    </tr>\n",
              "    <tr>\n",
              "      <th>35462</th>\n",
              "      <td>2023-01-05 17:45:00</td>\n",
              "      <td>0.117109</td>\n",
              "      <td>0.114453</td>\n",
              "      <td>0.122176</td>\n",
              "      <td>0.117042</td>\n",
              "      <td>0.002877</td>\n",
              "      <td>0.412897</td>\n",
              "      <td>0.538768</td>\n",
              "      <td>0.309941</td>\n",
              "      <td>0.414423</td>\n",
              "      <td>0.024402</td>\n",
              "      <td>0.253226</td>\n",
              "      <td>0.399756</td>\n",
              "      <td>1.0</td>\n",
              "      <td>0.0</td>\n",
              "    </tr>\n",
              "    <tr>\n",
              "      <th>35463</th>\n",
              "      <td>2023-01-05 18:00:00</td>\n",
              "      <td>0.117042</td>\n",
              "      <td>0.114643</td>\n",
              "      <td>0.122079</td>\n",
              "      <td>0.117156</td>\n",
              "      <td>0.005562</td>\n",
              "      <td>0.425684</td>\n",
              "      <td>0.538585</td>\n",
              "      <td>0.310363</td>\n",
              "      <td>0.412165</td>\n",
              "      <td>0.023690</td>\n",
              "      <td>0.250799</td>\n",
              "      <td>0.579382</td>\n",
              "      <td>1.0</td>\n",
              "      <td>0.0</td>\n",
              "    </tr>\n",
              "    <tr>\n",
              "      <th>35464</th>\n",
              "      <td>2023-01-05 18:15:00</td>\n",
              "      <td>0.117156</td>\n",
              "      <td>0.115538</td>\n",
              "      <td>0.122400</td>\n",
              "      <td>0.118251</td>\n",
              "      <td>0.015938</td>\n",
              "      <td>0.532847</td>\n",
              "      <td>0.540475</td>\n",
              "      <td>0.311407</td>\n",
              "      <td>0.564113</td>\n",
              "      <td>0.024910</td>\n",
              "      <td>0.227466</td>\n",
              "      <td>0.557552</td>\n",
              "      <td>0.0</td>\n",
              "      <td>1.0</td>\n",
              "    </tr>\n",
              "    <tr>\n",
              "      <th>35465</th>\n",
              "      <td>2023-01-05 18:30:00</td>\n",
              "      <td>0.118247</td>\n",
              "      <td>0.115655</td>\n",
              "      <td>0.123256</td>\n",
              "      <td>0.118063</td>\n",
              "      <td>0.004178</td>\n",
              "      <td>0.514390</td>\n",
              "      <td>0.541673</td>\n",
              "      <td>0.311068</td>\n",
              "      <td>0.628770</td>\n",
              "      <td>0.023626</td>\n",
              "      <td>0.208427</td>\n",
              "      <td>0.414513</td>\n",
              "      <td>1.0</td>\n",
              "      <td>0.0</td>\n",
              "    </tr>\n",
              "  </tbody>\n",
              "</table>\n",
              "<p>35466 rows × 15 columns</p>\n",
              "</div>"
            ],
            "text/plain": [
              "                      time      open      high       low     close    volume  \\\n",
              "0      2022-01-01 08:15:00  0.946260  0.941543  0.947608  0.947727  0.002398   \n",
              "1      2022-01-01 08:30:00  0.947858  0.941063  0.947614  0.947993  0.002854   \n",
              "2      2022-01-01 08:45:00  0.947989  0.944291  0.949045  0.947704  0.003717   \n",
              "3      2022-01-01 09:00:00  0.947617  0.943009  0.947648  0.950474  0.004672   \n",
              "4      2022-01-01 09:15:00  0.950474  0.942986  0.949239  0.948076  0.003983   \n",
              "...                    ...       ...       ...       ...       ...       ...   \n",
              "35461  2023-01-05 17:30:00  0.117445  0.114930  0.122333  0.117112  0.003971   \n",
              "35462  2023-01-05 17:45:00  0.117109  0.114453  0.122176  0.117042  0.002877   \n",
              "35463  2023-01-05 18:00:00  0.117042  0.114643  0.122079  0.117156  0.005562   \n",
              "35464  2023-01-05 18:15:00  0.117156  0.115538  0.122400  0.118251  0.015938   \n",
              "35465  2023-01-05 18:30:00  0.118247  0.115655  0.123256  0.118063  0.004178   \n",
              "\n",
              "            RSI      MACD       OBV       CCI       ATR       ADX       MFI  \\\n",
              "0      0.534568  0.533569  0.888414  0.484903  0.205796  0.264040  0.507308   \n",
              "1      0.539149  0.536218  0.888673  0.477682  0.199213  0.258053  0.523490   \n",
              "2      0.532898  0.537880  0.888362  0.515845  0.198994  0.261002  0.447707   \n",
              "3      0.582682  0.544218  0.888731  0.538501  0.199162  0.257649  0.416577   \n",
              "4      0.529185  0.544908  0.888403  0.543989  0.194037  0.254536  0.411309   \n",
              "...         ...       ...       ...       ...       ...       ...       ...   \n",
              "35461  0.418599  0.539354  0.310202  0.447685  0.026181  0.249130  0.448492   \n",
              "35462  0.412897  0.538768  0.309941  0.414423  0.024402  0.253226  0.399756   \n",
              "35463  0.425684  0.538585  0.310363  0.412165  0.023690  0.250799  0.579382   \n",
              "35464  0.532847  0.540475  0.311407  0.564113  0.024910  0.227466  0.557552   \n",
              "35465  0.514390  0.541673  0.311068  0.628770  0.023626  0.208427  0.414513   \n",
              "\n",
              "        UP  DOWN  \n",
              "0      1.0   0.0  \n",
              "1      0.0   1.0  \n",
              "2      1.0   0.0  \n",
              "3      0.0   1.0  \n",
              "4      0.0   1.0  \n",
              "...    ...   ...  \n",
              "35461  0.0   1.0  \n",
              "35462  1.0   0.0  \n",
              "35463  1.0   0.0  \n",
              "35464  0.0   1.0  \n",
              "35465  1.0   0.0  \n",
              "\n",
              "[35466 rows x 15 columns]"
            ]
          },
          "execution_count": 3,
          "metadata": {},
          "output_type": "execute_result"
        }
      ],
      "source": [
        "df"
      ]
    },
    {
      "cell_type": "code",
      "execution_count": 7,
      "metadata": {
        "id": "aTh7CyL-vvij"
      },
      "outputs": [
        {
          "name": "stderr",
          "output_type": "stream",
          "text": [
            "C:\\Users\\李軒豪\\AppData\\Local\\Temp\\ipykernel_36616\\1144569331.py:2: SettingWithCopyWarning: \n",
            "A value is trying to be set on a copy of a slice from a DataFrame.\n",
            "Try using .loc[row_indexer,col_indexer] = value instead\n",
            "\n",
            "See the caveats in the documentation: https://pandas.pydata.org/pandas-docs/stable/user_guide/indexing.html#returning-a-view-versus-a-copy\n",
            "  df['RSI'] = (df['RSI'] - df['RSI'].min()) / (df['RSI'].max() - df['RSI'].min())\n",
            "C:\\Users\\李軒豪\\AppData\\Local\\Temp\\ipykernel_36616\\1144569331.py:3: SettingWithCopyWarning: \n",
            "A value is trying to be set on a copy of a slice from a DataFrame.\n",
            "Try using .loc[row_indexer,col_indexer] = value instead\n",
            "\n",
            "See the caveats in the documentation: https://pandas.pydata.org/pandas-docs/stable/user_guide/indexing.html#returning-a-view-versus-a-copy\n",
            "  df['MACD'] = (df['MACD'] - df['MACD'].min()) / (df['MACD'].max() - df['MACD'].min())\n",
            "C:\\Users\\李軒豪\\AppData\\Local\\Temp\\ipykernel_36616\\1144569331.py:4: SettingWithCopyWarning: \n",
            "A value is trying to be set on a copy of a slice from a DataFrame.\n",
            "Try using .loc[row_indexer,col_indexer] = value instead\n",
            "\n",
            "See the caveats in the documentation: https://pandas.pydata.org/pandas-docs/stable/user_guide/indexing.html#returning-a-view-versus-a-copy\n",
            "  df['OBV'] = (df['OBV'] - df['OBV'].min()) / (df['OBV'].max() - df['OBV'].min())\n",
            "C:\\Users\\李軒豪\\AppData\\Local\\Temp\\ipykernel_36616\\1144569331.py:5: SettingWithCopyWarning: \n",
            "A value is trying to be set on a copy of a slice from a DataFrame.\n",
            "Try using .loc[row_indexer,col_indexer] = value instead\n",
            "\n",
            "See the caveats in the documentation: https://pandas.pydata.org/pandas-docs/stable/user_guide/indexing.html#returning-a-view-versus-a-copy\n",
            "  df['CCI'] = (df['CCI'] - df['CCI'].min()) / (df['CCI'].max() - df['CCI'].min())\n",
            "C:\\Users\\李軒豪\\AppData\\Local\\Temp\\ipykernel_36616\\1144569331.py:6: SettingWithCopyWarning: \n",
            "A value is trying to be set on a copy of a slice from a DataFrame.\n",
            "Try using .loc[row_indexer,col_indexer] = value instead\n",
            "\n",
            "See the caveats in the documentation: https://pandas.pydata.org/pandas-docs/stable/user_guide/indexing.html#returning-a-view-versus-a-copy\n",
            "  df['ATR'] = (df['ATR'] - df['ATR'].min()) / (df['ATR'].max() - df['ATR'].min())\n",
            "C:\\Users\\李軒豪\\AppData\\Local\\Temp\\ipykernel_36616\\1144569331.py:7: SettingWithCopyWarning: \n",
            "A value is trying to be set on a copy of a slice from a DataFrame.\n",
            "Try using .loc[row_indexer,col_indexer] = value instead\n",
            "\n",
            "See the caveats in the documentation: https://pandas.pydata.org/pandas-docs/stable/user_guide/indexing.html#returning-a-view-versus-a-copy\n",
            "  df['ADX'] = (df['ADX'] - df['ADX'].min()) / (df['ADX'].max() - df['ADX'].min())\n",
            "C:\\Users\\李軒豪\\AppData\\Local\\Temp\\ipykernel_36616\\1144569331.py:8: SettingWithCopyWarning: \n",
            "A value is trying to be set on a copy of a slice from a DataFrame.\n",
            "Try using .loc[row_indexer,col_indexer] = value instead\n",
            "\n",
            "See the caveats in the documentation: https://pandas.pydata.org/pandas-docs/stable/user_guide/indexing.html#returning-a-view-versus-a-copy\n",
            "  df['MFI'] = (df['MFI'] - df['MFI'].min()) / (df['MFI'].max() - df['MFI'].min())\n",
            "C:\\Users\\李軒豪\\AppData\\Local\\Temp\\ipykernel_36616\\1144569331.py:9: SettingWithCopyWarning: \n",
            "A value is trying to be set on a copy of a slice from a DataFrame.\n",
            "Try using .loc[row_indexer,col_indexer] = value instead\n",
            "\n",
            "See the caveats in the documentation: https://pandas.pydata.org/pandas-docs/stable/user_guide/indexing.html#returning-a-view-versus-a-copy\n",
            "  df['open'] = (df['open'] - df['open'].min()) / (df['open'].max() - df['open'].min())\n",
            "C:\\Users\\李軒豪\\AppData\\Local\\Temp\\ipykernel_36616\\1144569331.py:10: SettingWithCopyWarning: \n",
            "A value is trying to be set on a copy of a slice from a DataFrame.\n",
            "Try using .loc[row_indexer,col_indexer] = value instead\n",
            "\n",
            "See the caveats in the documentation: https://pandas.pydata.org/pandas-docs/stable/user_guide/indexing.html#returning-a-view-versus-a-copy\n",
            "  df['high'] = (df['high'] - df['high'].min()) / (df['high'].max() - df['high'].min())\n",
            "C:\\Users\\李軒豪\\AppData\\Local\\Temp\\ipykernel_36616\\1144569331.py:11: SettingWithCopyWarning: \n",
            "A value is trying to be set on a copy of a slice from a DataFrame.\n",
            "Try using .loc[row_indexer,col_indexer] = value instead\n",
            "\n",
            "See the caveats in the documentation: https://pandas.pydata.org/pandas-docs/stable/user_guide/indexing.html#returning-a-view-versus-a-copy\n",
            "  df['low'] = (df['low'] - df['low'].min()) / (df['low'].max() - df['low'].min())\n",
            "C:\\Users\\李軒豪\\AppData\\Local\\Temp\\ipykernel_36616\\1144569331.py:12: SettingWithCopyWarning: \n",
            "A value is trying to be set on a copy of a slice from a DataFrame.\n",
            "Try using .loc[row_indexer,col_indexer] = value instead\n",
            "\n",
            "See the caveats in the documentation: https://pandas.pydata.org/pandas-docs/stable/user_guide/indexing.html#returning-a-view-versus-a-copy\n",
            "  df['close'] = (df['close'] - df['close'].min()) / (df['close'].max() - df['close'].min())\n",
            "C:\\Users\\李軒豪\\AppData\\Local\\Temp\\ipykernel_36616\\1144569331.py:13: SettingWithCopyWarning: \n",
            "A value is trying to be set on a copy of a slice from a DataFrame.\n",
            "Try using .loc[row_indexer,col_indexer] = value instead\n",
            "\n",
            "See the caveats in the documentation: https://pandas.pydata.org/pandas-docs/stable/user_guide/indexing.html#returning-a-view-versus-a-copy\n",
            "  df['volume'] = (df['volume'] - df['volume'].min()) / (df['volume'].max() - df['volume'].min())\n"
          ]
        }
      ],
      "source": [
        "#正規化\n",
        "df['RSI'] = (df['RSI'] - df['RSI'].min()) / (df['RSI'].max() - df['RSI'].min())\n",
        "df['MACD'] = (df['MACD'] - df['MACD'].min()) / (df['MACD'].max() - df['MACD'].min())\n",
        "df['OBV'] = (df['OBV'] - df['OBV'].min()) / (df['OBV'].max() - df['OBV'].min())\n",
        "df['CCI'] = (df['CCI'] - df['CCI'].min()) / (df['CCI'].max() - df['CCI'].min())\n",
        "df['ATR'] = (df['ATR'] - df['ATR'].min()) / (df['ATR'].max() - df['ATR'].min())\n",
        "df['ADX'] = (df['ADX'] - df['ADX'].min()) / (df['ADX'].max() - df['ADX'].min())\n",
        "df['MFI'] = (df['MFI'] - df['MFI'].min()) / (df['MFI'].max() - df['MFI'].min())\n",
        "df['open'] = (df['open'] - df['open'].min()) / (df['open'].max() - df['open'].min())\n",
        "df['high'] = (df['high'] - df['high'].min()) / (df['high'].max() - df['high'].min())\n",
        "df['low'] = (df['low'] - df['low'].min()) / (df['low'].max() - df['low'].min())\n",
        "df['close'] = (df['close'] - df['close'].min()) / (df['close'].max() - df['close'].min())\n",
        "df['volume'] = (df['volume'] - df['volume'].min()) / (df['volume'].max() - df['volume'].min())"
      ]
    },
    {
      "cell_type": "code",
      "execution_count": 8,
      "metadata": {},
      "outputs": [
        {
          "name": "stderr",
          "output_type": "stream",
          "text": [
            "C:\\Users\\李軒豪\\AppData\\Roaming\\Python\\Python310\\site-packages\\pandas\\core\\frame.py:4906: SettingWithCopyWarning: \n",
            "A value is trying to be set on a copy of a slice from a DataFrame\n",
            "\n",
            "See the caveats in the documentation: https://pandas.pydata.org/pandas-docs/stable/user_guide/indexing.html#returning-a-view-versus-a-copy\n",
            "  return super().drop(\n"
          ]
        }
      ],
      "source": [
        "df.drop(['CLOSE_percent'], axis=1, inplace=True)"
      ]
    },
    {
      "cell_type": "code",
      "execution_count": 4,
      "metadata": {
        "id": "UYO1j5O-vvij"
      },
      "outputs": [
        {
          "data": {
            "text/html": [
              "<div>\n",
              "<style scoped>\n",
              "    .dataframe tbody tr th:only-of-type {\n",
              "        vertical-align: middle;\n",
              "    }\n",
              "\n",
              "    .dataframe tbody tr th {\n",
              "        vertical-align: top;\n",
              "    }\n",
              "\n",
              "    .dataframe thead th {\n",
              "        text-align: right;\n",
              "    }\n",
              "</style>\n",
              "<table border=\"1\" class=\"dataframe\">\n",
              "  <thead>\n",
              "    <tr style=\"text-align: right;\">\n",
              "      <th></th>\n",
              "      <th>time</th>\n",
              "      <th>open</th>\n",
              "      <th>high</th>\n",
              "      <th>low</th>\n",
              "      <th>close</th>\n",
              "      <th>volume</th>\n",
              "      <th>RSI</th>\n",
              "      <th>MACD</th>\n",
              "      <th>OBV</th>\n",
              "      <th>CCI</th>\n",
              "      <th>ATR</th>\n",
              "      <th>ADX</th>\n",
              "      <th>MFI</th>\n",
              "      <th>UP</th>\n",
              "      <th>DOWN</th>\n",
              "    </tr>\n",
              "  </thead>\n",
              "  <tbody>\n",
              "    <tr>\n",
              "      <th>0</th>\n",
              "      <td>2022-01-01 08:15:00</td>\n",
              "      <td>0.946260</td>\n",
              "      <td>0.941543</td>\n",
              "      <td>0.947608</td>\n",
              "      <td>0.947727</td>\n",
              "      <td>0.002398</td>\n",
              "      <td>0.534568</td>\n",
              "      <td>0.533569</td>\n",
              "      <td>0.888414</td>\n",
              "      <td>0.484903</td>\n",
              "      <td>0.205796</td>\n",
              "      <td>0.264040</td>\n",
              "      <td>0.507308</td>\n",
              "      <td>1.0</td>\n",
              "      <td>0.0</td>\n",
              "    </tr>\n",
              "    <tr>\n",
              "      <th>1</th>\n",
              "      <td>2022-01-01 08:30:00</td>\n",
              "      <td>0.947858</td>\n",
              "      <td>0.941063</td>\n",
              "      <td>0.947614</td>\n",
              "      <td>0.947993</td>\n",
              "      <td>0.002854</td>\n",
              "      <td>0.539149</td>\n",
              "      <td>0.536218</td>\n",
              "      <td>0.888673</td>\n",
              "      <td>0.477682</td>\n",
              "      <td>0.199213</td>\n",
              "      <td>0.258053</td>\n",
              "      <td>0.523490</td>\n",
              "      <td>0.0</td>\n",
              "      <td>1.0</td>\n",
              "    </tr>\n",
              "    <tr>\n",
              "      <th>2</th>\n",
              "      <td>2022-01-01 08:45:00</td>\n",
              "      <td>0.947989</td>\n",
              "      <td>0.944291</td>\n",
              "      <td>0.949045</td>\n",
              "      <td>0.947704</td>\n",
              "      <td>0.003717</td>\n",
              "      <td>0.532898</td>\n",
              "      <td>0.537880</td>\n",
              "      <td>0.888362</td>\n",
              "      <td>0.515845</td>\n",
              "      <td>0.198994</td>\n",
              "      <td>0.261002</td>\n",
              "      <td>0.447707</td>\n",
              "      <td>1.0</td>\n",
              "      <td>0.0</td>\n",
              "    </tr>\n",
              "    <tr>\n",
              "      <th>3</th>\n",
              "      <td>2022-01-01 09:00:00</td>\n",
              "      <td>0.947617</td>\n",
              "      <td>0.943009</td>\n",
              "      <td>0.947648</td>\n",
              "      <td>0.950474</td>\n",
              "      <td>0.004672</td>\n",
              "      <td>0.582682</td>\n",
              "      <td>0.544218</td>\n",
              "      <td>0.888731</td>\n",
              "      <td>0.538501</td>\n",
              "      <td>0.199162</td>\n",
              "      <td>0.257649</td>\n",
              "      <td>0.416577</td>\n",
              "      <td>0.0</td>\n",
              "      <td>1.0</td>\n",
              "    </tr>\n",
              "    <tr>\n",
              "      <th>4</th>\n",
              "      <td>2022-01-01 09:15:00</td>\n",
              "      <td>0.950474</td>\n",
              "      <td>0.942986</td>\n",
              "      <td>0.949239</td>\n",
              "      <td>0.948076</td>\n",
              "      <td>0.003983</td>\n",
              "      <td>0.529185</td>\n",
              "      <td>0.544908</td>\n",
              "      <td>0.888403</td>\n",
              "      <td>0.543989</td>\n",
              "      <td>0.194037</td>\n",
              "      <td>0.254536</td>\n",
              "      <td>0.411309</td>\n",
              "      <td>0.0</td>\n",
              "      <td>1.0</td>\n",
              "    </tr>\n",
              "    <tr>\n",
              "      <th>...</th>\n",
              "      <td>...</td>\n",
              "      <td>...</td>\n",
              "      <td>...</td>\n",
              "      <td>...</td>\n",
              "      <td>...</td>\n",
              "      <td>...</td>\n",
              "      <td>...</td>\n",
              "      <td>...</td>\n",
              "      <td>...</td>\n",
              "      <td>...</td>\n",
              "      <td>...</td>\n",
              "      <td>...</td>\n",
              "      <td>...</td>\n",
              "      <td>...</td>\n",
              "      <td>...</td>\n",
              "    </tr>\n",
              "    <tr>\n",
              "      <th>35461</th>\n",
              "      <td>2023-01-05 17:30:00</td>\n",
              "      <td>0.117445</td>\n",
              "      <td>0.114930</td>\n",
              "      <td>0.122333</td>\n",
              "      <td>0.117112</td>\n",
              "      <td>0.003971</td>\n",
              "      <td>0.418599</td>\n",
              "      <td>0.539354</td>\n",
              "      <td>0.310202</td>\n",
              "      <td>0.447685</td>\n",
              "      <td>0.026181</td>\n",
              "      <td>0.249130</td>\n",
              "      <td>0.448492</td>\n",
              "      <td>0.0</td>\n",
              "      <td>1.0</td>\n",
              "    </tr>\n",
              "    <tr>\n",
              "      <th>35462</th>\n",
              "      <td>2023-01-05 17:45:00</td>\n",
              "      <td>0.117109</td>\n",
              "      <td>0.114453</td>\n",
              "      <td>0.122176</td>\n",
              "      <td>0.117042</td>\n",
              "      <td>0.002877</td>\n",
              "      <td>0.412897</td>\n",
              "      <td>0.538768</td>\n",
              "      <td>0.309941</td>\n",
              "      <td>0.414423</td>\n",
              "      <td>0.024402</td>\n",
              "      <td>0.253226</td>\n",
              "      <td>0.399756</td>\n",
              "      <td>1.0</td>\n",
              "      <td>0.0</td>\n",
              "    </tr>\n",
              "    <tr>\n",
              "      <th>35463</th>\n",
              "      <td>2023-01-05 18:00:00</td>\n",
              "      <td>0.117042</td>\n",
              "      <td>0.114643</td>\n",
              "      <td>0.122079</td>\n",
              "      <td>0.117156</td>\n",
              "      <td>0.005562</td>\n",
              "      <td>0.425684</td>\n",
              "      <td>0.538585</td>\n",
              "      <td>0.310363</td>\n",
              "      <td>0.412165</td>\n",
              "      <td>0.023690</td>\n",
              "      <td>0.250799</td>\n",
              "      <td>0.579382</td>\n",
              "      <td>1.0</td>\n",
              "      <td>0.0</td>\n",
              "    </tr>\n",
              "    <tr>\n",
              "      <th>35464</th>\n",
              "      <td>2023-01-05 18:15:00</td>\n",
              "      <td>0.117156</td>\n",
              "      <td>0.115538</td>\n",
              "      <td>0.122400</td>\n",
              "      <td>0.118251</td>\n",
              "      <td>0.015938</td>\n",
              "      <td>0.532847</td>\n",
              "      <td>0.540475</td>\n",
              "      <td>0.311407</td>\n",
              "      <td>0.564113</td>\n",
              "      <td>0.024910</td>\n",
              "      <td>0.227466</td>\n",
              "      <td>0.557552</td>\n",
              "      <td>0.0</td>\n",
              "      <td>1.0</td>\n",
              "    </tr>\n",
              "    <tr>\n",
              "      <th>35465</th>\n",
              "      <td>2023-01-05 18:30:00</td>\n",
              "      <td>0.118247</td>\n",
              "      <td>0.115655</td>\n",
              "      <td>0.123256</td>\n",
              "      <td>0.118063</td>\n",
              "      <td>0.004178</td>\n",
              "      <td>0.514390</td>\n",
              "      <td>0.541673</td>\n",
              "      <td>0.311068</td>\n",
              "      <td>0.628770</td>\n",
              "      <td>0.023626</td>\n",
              "      <td>0.208427</td>\n",
              "      <td>0.414513</td>\n",
              "      <td>1.0</td>\n",
              "      <td>0.0</td>\n",
              "    </tr>\n",
              "  </tbody>\n",
              "</table>\n",
              "<p>35466 rows × 15 columns</p>\n",
              "</div>"
            ],
            "text/plain": [
              "                      time      open      high       low     close    volume  \\\n",
              "0      2022-01-01 08:15:00  0.946260  0.941543  0.947608  0.947727  0.002398   \n",
              "1      2022-01-01 08:30:00  0.947858  0.941063  0.947614  0.947993  0.002854   \n",
              "2      2022-01-01 08:45:00  0.947989  0.944291  0.949045  0.947704  0.003717   \n",
              "3      2022-01-01 09:00:00  0.947617  0.943009  0.947648  0.950474  0.004672   \n",
              "4      2022-01-01 09:15:00  0.950474  0.942986  0.949239  0.948076  0.003983   \n",
              "...                    ...       ...       ...       ...       ...       ...   \n",
              "35461  2023-01-05 17:30:00  0.117445  0.114930  0.122333  0.117112  0.003971   \n",
              "35462  2023-01-05 17:45:00  0.117109  0.114453  0.122176  0.117042  0.002877   \n",
              "35463  2023-01-05 18:00:00  0.117042  0.114643  0.122079  0.117156  0.005562   \n",
              "35464  2023-01-05 18:15:00  0.117156  0.115538  0.122400  0.118251  0.015938   \n",
              "35465  2023-01-05 18:30:00  0.118247  0.115655  0.123256  0.118063  0.004178   \n",
              "\n",
              "            RSI      MACD       OBV       CCI       ATR       ADX       MFI  \\\n",
              "0      0.534568  0.533569  0.888414  0.484903  0.205796  0.264040  0.507308   \n",
              "1      0.539149  0.536218  0.888673  0.477682  0.199213  0.258053  0.523490   \n",
              "2      0.532898  0.537880  0.888362  0.515845  0.198994  0.261002  0.447707   \n",
              "3      0.582682  0.544218  0.888731  0.538501  0.199162  0.257649  0.416577   \n",
              "4      0.529185  0.544908  0.888403  0.543989  0.194037  0.254536  0.411309   \n",
              "...         ...       ...       ...       ...       ...       ...       ...   \n",
              "35461  0.418599  0.539354  0.310202  0.447685  0.026181  0.249130  0.448492   \n",
              "35462  0.412897  0.538768  0.309941  0.414423  0.024402  0.253226  0.399756   \n",
              "35463  0.425684  0.538585  0.310363  0.412165  0.023690  0.250799  0.579382   \n",
              "35464  0.532847  0.540475  0.311407  0.564113  0.024910  0.227466  0.557552   \n",
              "35465  0.514390  0.541673  0.311068  0.628770  0.023626  0.208427  0.414513   \n",
              "\n",
              "        UP  DOWN  \n",
              "0      1.0   0.0  \n",
              "1      0.0   1.0  \n",
              "2      1.0   0.0  \n",
              "3      0.0   1.0  \n",
              "4      0.0   1.0  \n",
              "...    ...   ...  \n",
              "35461  0.0   1.0  \n",
              "35462  1.0   0.0  \n",
              "35463  1.0   0.0  \n",
              "35464  0.0   1.0  \n",
              "35465  1.0   0.0  \n",
              "\n",
              "[35466 rows x 15 columns]"
            ]
          },
          "execution_count": 4,
          "metadata": {},
          "output_type": "execute_result"
        }
      ],
      "source": [
        "df"
      ]
    },
    {
      "cell_type": "code",
      "execution_count": 5,
      "metadata": {
        "id": "fJySHQc1vvij"
      },
      "outputs": [
        {
          "data": {
            "text/plain": [
              "1.0    17743\n",
              "0.0    17723\n",
              "Name: UP, dtype: int64"
            ]
          },
          "execution_count": 5,
          "metadata": {},
          "output_type": "execute_result"
        }
      ],
      "source": [
        "df['UP'].value_counts()"
      ]
    },
    {
      "cell_type": "code",
      "execution_count": 6,
      "metadata": {
        "id": "assMge-pvvik"
      },
      "outputs": [
        {
          "data": {
            "text/plain": [
              "0.0    17775\n",
              "1.0    17691\n",
              "Name: DOWN, dtype: int64"
            ]
          },
          "execution_count": 6,
          "metadata": {},
          "output_type": "execute_result"
        }
      ],
      "source": [
        "df['DOWN'].value_counts()"
      ]
    },
    {
      "cell_type": "markdown",
      "metadata": {
        "id": "G30PhZn8vvik"
      },
      "source": [
        "看起來數據蠻平衡的"
      ]
    },
    {
      "cell_type": "markdown",
      "metadata": {
        "id": "PHhAI0s7vvik"
      },
      "source": [
        "# 儲存資料"
      ]
    },
    {
      "cell_type": "code",
      "execution_count": 12,
      "metadata": {
        "id": "5G-LQyMFvvik"
      },
      "outputs": [],
      "source": [
        "df.to_csv(file_name, index=False)"
      ]
    },
    {
      "cell_type": "markdown",
      "metadata": {
        "id": "GGf37pdovvik"
      },
      "source": [
        "# 分割成X、y"
      ]
    },
    {
      "cell_type": "code",
      "execution_count": 4,
      "metadata": {
        "id": "J8yawScBvvik"
      },
      "outputs": [],
      "source": [
        "\n",
        "X,y = list(),list()\n",
        "ref_bar = 10\n",
        "\n",
        "for i in range(len(df)-ref_bar):\n",
        "    #df.iloc.values 會回傳一個numpy array\n",
        "    X.append(df.iloc[i:i+ref_bar, 1:13].values) # i to i+ref_bar-1\n",
        "    y.append(df.iloc[i+ref_bar-1, 13:].values) # i+ref_bar-1\n",
        "\n"
      ]
    },
    {
      "cell_type": "code",
      "execution_count": 5,
      "metadata": {
        "id": "nVAjEG8Nvvik"
      },
      "outputs": [
        {
          "data": {
            "text/plain": [
              "array([[0.9462601 , 0.94154346, 0.94760773, 0.94772732, 0.00239768,\n",
              "        0.53456777, 0.53356898, 0.88841379, 0.48490306, 0.20579619,\n",
              "        0.26403984, 0.50730778],\n",
              "       [0.94785826, 0.94106278, 0.94761441, 0.94799256, 0.00285434,\n",
              "        0.53914929, 0.53621835, 0.88867347, 0.47768198, 0.19921307,\n",
              "        0.25805317, 0.52348981],\n",
              "       [0.9479892 , 0.94429071, 0.94904533, 0.94770382, 0.00371728,\n",
              "        0.53289784, 0.53788012, 0.88836207, 0.51584476, 0.19899366,\n",
              "        0.26100219, 0.44770718],\n",
              "       [0.94761652, 0.94300888, 0.94764785, 0.95047374, 0.00467237,\n",
              "        0.58268216, 0.54421754, 0.88873072, 0.53850137, 0.19916168,\n",
              "        0.25764913, 0.41657723],\n",
              "       [0.95047374, 0.94298552, 0.94923924, 0.9480765 , 0.00398304,\n",
              "        0.52918494, 0.54490801, 0.88840338, 0.54398878, 0.19403652,\n",
              "        0.25453556, 0.41130869],\n",
              "       [0.94807985, 0.94197741, 0.94541455, 0.94520249, 0.00313282,\n",
              "        0.47190317, 0.54031401, 0.88812701, 0.4687601 , 0.19848396,\n",
              "        0.23569366, 0.33329042],\n",
              "       [0.94520249, 0.93972087, 0.94591269, 0.94678722, 0.00207692,\n",
              "        0.50310717, 0.53960353, 0.8883401 , 0.47637121, 0.1935931 ,\n",
              "        0.21819761, 0.33785584],\n",
              "       [0.94678722, 0.94363644, 0.94828641, 0.9471129 , 0.00472316,\n",
              "        0.50956283, 0.53969284, 0.88871179, 0.58520394, 0.19411407,\n",
              "        0.21444837, 0.40918231],\n",
              "       [0.9471129 , 0.93963742, 0.93832683, 0.93757093, 0.01316876,\n",
              "        0.35315012, 0.52276611, 0.88783389, 0.27609032, 0.21407145,\n",
              "        0.20519941, 0.37224881],\n",
              "       [0.93757093, 0.93298461, 0.93340555, 0.94005211, 0.01539134,\n",
              "        0.40236144, 0.51419591, 0.88884501, 0.23946832, 0.22690664,\n",
              "        0.20732582, 0.34140531]])"
            ]
          },
          "execution_count": 5,
          "metadata": {},
          "output_type": "execute_result"
        }
      ],
      "source": [
        "X[0]#這裡會出現10個array，每個array裡面有12個數字，分別是open high low close volume RSI MACD OBV CCI ATR ADX MFI"
      ]
    },
    {
      "cell_type": "code",
      "execution_count": 6,
      "metadata": {
        "id": "ZdEmCm_Qvvil"
      },
      "outputs": [
        {
          "data": {
            "text/plain": [
              "array([0.0, 1.0], dtype=object)"
            ]
          },
          "execution_count": 6,
          "metadata": {},
          "output_type": "execute_result"
        }
      ],
      "source": [
        "y[0]"
      ]
    },
    {
      "cell_type": "code",
      "execution_count": 7,
      "metadata": {
        "id": "MQMldPJgvvil"
      },
      "outputs": [],
      "source": [
        "X = np.array(X)\n",
        "X = torch.tensor(X, dtype=torch.float32)"
      ]
    },
    {
      "cell_type": "code",
      "execution_count": 8,
      "metadata": {
        "id": "mm5Q6Cjavvil"
      },
      "outputs": [],
      "source": [
        "y = np.array(y,dtype=np.float32)\n",
        "y = torch.tensor(y, dtype=torch.float32)"
      ]
    },
    {
      "cell_type": "code",
      "execution_count": 9,
      "metadata": {
        "id": "5nUKlKubvvil"
      },
      "outputs": [
        {
          "data": {
            "text/plain": [
              "tensor([[0., 1.],\n",
              "        [1., 0.],\n",
              "        [1., 0.],\n",
              "        ...,\n",
              "        [1., 0.],\n",
              "        [1., 0.],\n",
              "        [0., 1.]])"
            ]
          },
          "execution_count": 9,
          "metadata": {},
          "output_type": "execute_result"
        }
      ],
      "source": [
        "y"
      ]
    },
    {
      "cell_type": "code",
      "execution_count": 10,
      "metadata": {
        "id": "7kxTYq8tvvil"
      },
      "outputs": [
        {
          "name": "stdout",
          "output_type": "stream",
          "text": [
            "X shape: torch.Size([35456, 10, 12]) , y shape: torch.Size([35456, 2])\n"
          ]
        }
      ],
      "source": [
        "print(f\"X shape: {X.shape} , y shape: {y.shape}\")"
      ]
    },
    {
      "cell_type": "code",
      "execution_count": 11,
      "metadata": {
        "id": "1bAuFUJpvvil"
      },
      "outputs": [
        {
          "data": {
            "text/plain": [
              "tensor([[0.9463, 0.9415, 0.9476, 0.9477, 0.0024, 0.5346, 0.5336, 0.8884, 0.4849,\n",
              "         0.2058, 0.2640, 0.5073],\n",
              "        [0.9479, 0.9411, 0.9476, 0.9480, 0.0029, 0.5391, 0.5362, 0.8887, 0.4777,\n",
              "         0.1992, 0.2581, 0.5235],\n",
              "        [0.9480, 0.9443, 0.9490, 0.9477, 0.0037, 0.5329, 0.5379, 0.8884, 0.5158,\n",
              "         0.1990, 0.2610, 0.4477],\n",
              "        [0.9476, 0.9430, 0.9476, 0.9505, 0.0047, 0.5827, 0.5442, 0.8887, 0.5385,\n",
              "         0.1992, 0.2576, 0.4166],\n",
              "        [0.9505, 0.9430, 0.9492, 0.9481, 0.0040, 0.5292, 0.5449, 0.8884, 0.5440,\n",
              "         0.1940, 0.2545, 0.4113],\n",
              "        [0.9481, 0.9420, 0.9454, 0.9452, 0.0031, 0.4719, 0.5403, 0.8881, 0.4688,\n",
              "         0.1985, 0.2357, 0.3333],\n",
              "        [0.9452, 0.9397, 0.9459, 0.9468, 0.0021, 0.5031, 0.5396, 0.8883, 0.4764,\n",
              "         0.1936, 0.2182, 0.3379],\n",
              "        [0.9468, 0.9436, 0.9483, 0.9471, 0.0047, 0.5096, 0.5397, 0.8887, 0.5852,\n",
              "         0.1941, 0.2144, 0.4092],\n",
              "        [0.9471, 0.9396, 0.9383, 0.9376, 0.0132, 0.3532, 0.5228, 0.8878, 0.2761,\n",
              "         0.2141, 0.2052, 0.3722],\n",
              "        [0.9376, 0.9330, 0.9334, 0.9401, 0.0154, 0.4024, 0.5142, 0.8888, 0.2395,\n",
              "         0.2269, 0.2073, 0.3414]])"
            ]
          },
          "execution_count": 11,
          "metadata": {},
          "output_type": "execute_result"
        }
      ],
      "source": [
        "X[0]"
      ]
    },
    {
      "cell_type": "code",
      "execution_count": 12,
      "metadata": {
        "id": "XgiJoWzjvvil"
      },
      "outputs": [
        {
          "data": {
            "text/plain": [
              "tensor([0., 1.])"
            ]
          },
          "execution_count": 12,
          "metadata": {},
          "output_type": "execute_result"
        }
      ],
      "source": [
        "y[0]"
      ]
    },
    {
      "cell_type": "markdown",
      "metadata": {
        "id": "fDKqaaoKvvil"
      },
      "source": [
        "# 建立資料集類別\n",
        "\n",
        "- 要繼承torch.utils.data.Dataset\n",
        "- 要實作`__len__`、`__getitem__`\n",
        "- 後面要用DataLoader取用"
      ]
    },
    {
      "cell_type": "code",
      "execution_count": 13,
      "metadata": {
        "id": "jLDT0sbfvvim"
      },
      "outputs": [],
      "source": [
        "#用sklearn來分成train val test\n",
        "# train:val:test = 6:3:1\n",
        "from sklearn.model_selection import train_test_split\n",
        "X_train, X_test, y_train, y_test = train_test_split(X, y, test_size=0.4, random_state=42)\n",
        "X_val, X_test, y_val, y_test = train_test_split(X_test, y_test, test_size=0.75, random_state=42)"
      ]
    },
    {
      "cell_type": "code",
      "execution_count": 14,
      "metadata": {
        "id": "CSgwdCotvvim"
      },
      "outputs": [
        {
          "name": "stdout",
          "output_type": "stream",
          "text": [
            "X_train shape: torch.Size([21273, 10, 12]) , y_train shape: torch.Size([21273, 2])\n"
          ]
        }
      ],
      "source": [
        "print(f\"X_train shape: {X_train.shape} , y_train shape: {y_train.shape}\")"
      ]
    },
    {
      "cell_type": "code",
      "execution_count": 15,
      "metadata": {
        "id": "ep8tt8-avvim"
      },
      "outputs": [
        {
          "name": "stdout",
          "output_type": "stream",
          "text": [
            "X_test shape: torch.Size([10638, 10, 12]) , y_test shape: torch.Size([10638, 2])\n"
          ]
        }
      ],
      "source": [
        "print(f\"X_test shape: {X_test.shape} , y_test shape: {y_test.shape}\")"
      ]
    },
    {
      "cell_type": "code",
      "execution_count": 16,
      "metadata": {
        "id": "RPqE-CPfvvim"
      },
      "outputs": [
        {
          "name": "stdout",
          "output_type": "stream",
          "text": [
            "X_val shape: torch.Size([3545, 10, 12]) , y_val shape: torch.Size([3545, 2])\n"
          ]
        }
      ],
      "source": [
        "print(f\"X_val shape: {X_val.shape} , y_val shape: {y_val.shape}\")"
      ]
    },
    {
      "cell_type": "code",
      "execution_count": 17,
      "metadata": {
        "id": "Y0NmS_Lqvvim"
      },
      "outputs": [],
      "source": [
        "class TrainDataset(Dataset):\n",
        "    def __init__(self, X, y):\n",
        "        self.X = X\n",
        "        self.y = y\n",
        "    def __len__(self):\n",
        "        return len(self.X)\n",
        "    def __getitem__(self, idx):\n",
        "        return self.X[idx], self.y[idx]"
      ]
    },
    {
      "cell_type": "code",
      "execution_count": 18,
      "metadata": {
        "id": "-5DjuhEyvvim"
      },
      "outputs": [],
      "source": [
        "class ValDataset(Dataset):\n",
        "    def __init__(self, X, y):\n",
        "        self.X = X\n",
        "        self.y = y\n",
        "    def __len__(self):\n",
        "        return len(self.X)\n",
        "    def __getitem__(self, idx):\n",
        "        return self.X[idx], self.y[idx]"
      ]
    },
    {
      "cell_type": "code",
      "execution_count": 19,
      "metadata": {
        "id": "qHMCNEm6vvim"
      },
      "outputs": [],
      "source": [
        "class TestDataset(Dataset):\n",
        "    def __init__(self, X, y):\n",
        "        self.X = X\n",
        "        self.y = y\n",
        "    def __len__(self):\n",
        "        return len(self.X)\n",
        "    def __getitem__(self, idx):\n",
        "        return self.X[idx], self.y[idx]"
      ]
    },
    {
      "cell_type": "code",
      "execution_count": 20,
      "metadata": {
        "id": "ChyqvyFKvvim"
      },
      "outputs": [],
      "source": [
        "train_dataset = TrainDataset(X_train, y_train)\n",
        "val_dataset = ValDataset(X_val, y_val)\n",
        "test_dataset = TestDataset(X_test, y_test)"
      ]
    },
    {
      "cell_type": "markdown",
      "metadata": {
        "id": "Ib09cuxtvvim"
      },
      "source": [
        "# 建立模型\n",
        "\n",
        "- 要繼承torch.nn.Module\n",
        "- 可能要多建立不同的模型，到時候看結果再調整 -> 先讓數據流得通，再去看成績做調整。"
      ]
    },
    {
      "attachments": {},
      "cell_type": "markdown",
      "metadata": {
        "id": "ga66dLL8vvim"
      },
      "source": [
        "- ver1 -> CNN+MLP\n",
        "- ver2 -> CNN+LSTM+MLP\n",
        "- ver3 -> CNN+GRU+MLP\n",
        "- ver4 -> CNN+LSTM+GRU+MLP\n",
        "- ver5 -> CNN+GRU+MLP+Dropout"
      ]
    },
    {
      "cell_type": "code",
      "execution_count": 21,
      "metadata": {
        "id": "L3Da8Y1avvin"
      },
      "outputs": [],
      "source": [
        "class SelectItem(torch.nn.Module):#這是用來取出多個輸出其中一個的輸出，如果不用sequential的話，就可以不用這個\n",
        "    def __init__(self, item_index):\n",
        "        super(SelectItem, self).__init__()\n",
        "        self._name = 'selectitem'\n",
        "        self.item_index = item_index\n",
        "\n",
        "    def forward(self, inputs):\n",
        "        return inputs[self.item_index]"
      ]
    },
    {
      "cell_type": "code",
      "execution_count": 22,
      "metadata": {},
      "outputs": [],
      "source": [
        "class CCV1(nn.Module):#CNN+MLP in (64,10,12) out (64,2)\n",
        "    def __init__(self):\n",
        "        super(CCV1, self).__init__()\n",
        "        self.conv1 = nn.Conv1d(10, 64, kernel_size=3, stride=1, padding=1)\n",
        "        self.Linear1 = nn.Linear(768, 128)\n",
        "        self.Linear2 = nn.Linear(128, 256)\n",
        "        self.Linear3 = nn.Linear(256, 1024)\n",
        "        self.Linear4 = nn.Linear(1024, 256)\n",
        "        self.Linear5 = nn.Linear(256, 128)\n",
        "        self.Linear6 = nn.Linear(128, 64)\n",
        "        self.Linear7 = nn.Linear(64, 2)\n",
        "        self.Dropout1 = nn.Dropout(0.2)\n",
        "        \n",
        "    def forward(self, x):\n",
        "        x = F.relu(self.conv1(x))\n",
        "        x = x.view(-1, 64*12)\n",
        "        x = F.relu(self.Linear1(x))\n",
        "        x = F.relu(self.Linear2(x))\n",
        "        x = F.relu(self.Linear3(x))\n",
        "        x = self.Dropout1(x)\n",
        "        x = F.relu(self.Linear4(x))\n",
        "        x = F.relu(self.Linear5(x))\n",
        "        x = F.relu(self.Linear6(x))\n",
        "        x = self.Linear7(x)\n",
        "        return x"
      ]
    },
    {
      "cell_type": "code",
      "execution_count": 23,
      "metadata": {},
      "outputs": [],
      "source": [
        "class CCV2(nn.Module):#CNN+MLP+LSTM in (64,10,12) out (64,2)\n",
        "    def __init__(self):\n",
        "        super(CCV2, self).__init__()\n",
        "        self.conv1 = nn.Conv1d(10, 64, kernel_size=3, stride=1, padding=1)\n",
        "        self.Linear1 = nn.Linear(768, 1024)\n",
        "        self.Linear2 = nn.Linear(1024, 2048)\n",
        "        self.Linear3 = nn.Linear(2048, 1024)\n",
        "        self.Linear4 = nn.Linear(1024, 512)\n",
        "        self.Linear5 = nn.Linear(512, 256)\n",
        "        self.Linear6 = nn.Linear(256, 128)\n",
        "        self.Linear7 = nn.Linear(128, 64)\n",
        "        self.Linear8 = nn.Linear(64, 2)\n",
        "        self.Dropout1 = nn.Dropout(0.2)\n",
        "        self.LSTM1 = nn.LSTM(2048,2048,20)\n",
        "\n",
        "    def forward(self, x):\n",
        "        x = F.relu(self.conv1(x))\n",
        "        x = x.view(-1, 64*12)\n",
        "        x = F.relu(self.Linear1(x))\n",
        "        x = F.relu(self.Linear2(x))\n",
        "        x = self.Dropout1(x)\n",
        "        x = F.relu(SelectItem(0)(self.LSTM1(x)))\n",
        "        x = F.relu(self.Linear3(x))\n",
        "        x = F.relu(self.Linear4(x))\n",
        "        x = F.relu(self.Linear5(x))\n",
        "        x = F.relu(self.Linear6(x))\n",
        "        x = F.relu(self.Linear7(x))\n",
        "        x = self.Linear8(x)\n",
        "        return x\n"
      ]
    },
    {
      "cell_type": "code",
      "execution_count": 24,
      "metadata": {},
      "outputs": [],
      "source": [
        "class CCV3(nn.Module):#CNN+MLP+LSTM in (64,10,12) out (64,2)\n",
        "    def __init__(self):\n",
        "        super(CCV3, self).__init__()\n",
        "        self.conv1 = nn.Conv1d(10, 64, kernel_size=3, stride=1, padding=1)\n",
        "        self.Linear1 = nn.Linear(768, 1024)\n",
        "        self.Linear2 = nn.Linear(1024, 512)\n",
        "        self.Linear3 = nn.Linear(512, 256)\n",
        "        self.Linear4 = nn.Linear(256, 128)\n",
        "        self.Linear5 = nn.Linear(128, 64)\n",
        "        self.Linear6 = nn.Linear(64, 2)\n",
        "        self.Dropout1 = nn.Dropout(0.2)\n",
        "        self.LSTM1 = nn.LSTM(512,512,2)\n",
        "        self.LSTM2 = nn.LSTM(256,256,2)\n",
        "        self.LSTM3 = nn.LSTM(128,128,2)\n",
        "        self.LSTM4 = nn.LSTM(64,64,2)\n",
        "\n",
        "    def forward(self, x):\n",
        "        x = F.relu(self.conv1(x))\n",
        "        x = x.view(-1, 64*12)\n",
        "        x = F.relu(self.Linear1(x))\n",
        "        x = F.relu(self.Linear2(x))\n",
        "        x = self.Dropout1(x)\n",
        "        x = F.relu(SelectItem(0)(self.LSTM1(x)))\n",
        "        x = self.Dropout1(x)\n",
        "        x = F.relu(self.Linear3(x))\n",
        "        x = F.relu(SelectItem(0)(self.LSTM2(x)))\n",
        "        x = self.Dropout1(x)\n",
        "        x = F.relu(self.Linear4(x))\n",
        "        x = F.relu(SelectItem(0)(self.LSTM3(x)))\n",
        "        x = self.Dropout1(x)\n",
        "        x = F.relu(self.Linear5(x))\n",
        "        x = F.relu(SelectItem(0)(self.LSTM4(x)))\n",
        "        x = self.Linear6(x)\n",
        "        return x"
      ]
    },
    {
      "cell_type": "markdown",
      "metadata": {
        "id": "eeIGq4dRvvio"
      },
      "source": [
        "## Note\n",
        "\n",
        "1) model\n",
        "    - `__init__`: define [layers](https://pytorch.org/docs/stable/nn.html)\n",
        "    - forward: forward pass -> compute prediction\n",
        "2) loss and optimizer\n",
        "    - lr: learning rate [default=0.001]\n",
        "    - momentum: momentum for optimizer [default=0.9]\n",
        "    - criterion: loss function [in torch.nn] eg.nn.BCELoss()\n",
        "    - optimizer: optimizer [in torch.optim] eg.torch.optim.SGD()\n",
        "        - eg. optimizer = torch.optim.SGD(model.parameters(), lr=lr, momentum=momentum)\n",
        "3) training loop\n",
        "    - forward pass: compute prediction and loss\n",
        "\n",
        "        ```python\n",
        "        output = model(data)\n",
        "        loss = criterion(output, target)\n",
        "        ```\n",
        "        \n",
        "    - backward pass: loss.backward()\n",
        "    - update weights: optimizer.step()\n",
        "    - zero the gradients: optimizer.zero_grad()"
      ]
    },
    {
      "cell_type": "markdown",
      "metadata": {
        "id": "iSv_yChTvvio"
      },
      "source": [
        "# TODO\n",
        "\n",
        "- 寫訓練方法\n",
        "    - using dataloader\n",
        "        - batch and epoch\n",
        "- 寫驗證方法\n",
        "    - using model.eval()\n"
      ]
    },
    {
      "cell_type": "code",
      "execution_count": 25,
      "metadata": {},
      "outputs": [],
      "source": [
        "def train(model, train_loader, optimizer, criterion, epoch, device):\n",
        "    if epoch == 0: print(\"Training...\")\n",
        "    model.train()\n",
        "    for batch_idx, (data, target) in enumerate(train_loader):\n",
        "        data, target = data.to(device), target.to(device)\n",
        "        optimizer.zero_grad()\n",
        "        output = model(data)\n",
        "        loss = criterion(output, target)\n",
        "        loss.backward()\n",
        "        optimizer.step()\n",
        "        if batch_idx == 0:\n",
        "            print(f\"data shape: {data.shape} , target shape: {target.shape} , output shape: {output.shape}\")\n",
        "        if batch_idx % 100 == 0:\n",
        "            print('Train Epoch: {} [{}/{} ({:.0f}%)]\\tLoss: {:.6f}'.format(\n",
        "                epoch, batch_idx * len(data), len(train_loader.dataset),\n",
        "                100. * batch_idx / len(train_loader), loss.item()))"
      ]
    },
    {
      "cell_type": "code",
      "execution_count": 26,
      "metadata": {},
      "outputs": [],
      "source": [
        "def test(model, test_loader, criterion, device):\n",
        "    model.eval()\n",
        "    test_loss = 0\n",
        "    correct = 0\n",
        "    with torch.no_grad():\n",
        "        for data, target in test_loader:\n",
        "            \n",
        "            data, target = data.to(device), target.to(device)\n",
        "            output = model(data)\n",
        "            test_loss += criterion(output, target).item() # sum up batch loss\n",
        "            pred = output.argmax(dim=1, keepdim=True) # get the index of the max log-probability\n",
        "            correct += pred.eq(target.argmax(1, keepdim=True).view_as(pred)).sum().item() #\n",
        "\n",
        "    test_loss /= len(test_loader.dataset)\n",
        "\n",
        "    print('Test set: Average loss: {:.4f}, Accuracy: {}/{} ({:.0f}%)'.format(\n",
        "        test_loss, correct, len(test_loader.dataset),\n",
        "        100. * correct / len(test_loader.dataset)))\n",
        "    return (100. * correct / len(test_loader.dataset)), test_loss"
      ]
    },
    {
      "cell_type": "code",
      "execution_count": 27,
      "metadata": {},
      "outputs": [
        {
          "name": "stdout",
          "output_type": "stream",
          "text": [
            "=== Info ===\n",
            "Device : cpu\n",
            "Epochs : 10\n",
            "============\n"
          ]
        }
      ],
      "source": [
        "DEVICE = torch.device(\"cuda:0\" if torch.cuda.is_available() else \"cpu\")\n",
        "EPOCHS = 10\n",
        "print(\"=== Info ===\")\n",
        "print(f\"Device : {DEVICE}\")\n",
        "print(f\"Epochs : {EPOCHS}\")\n",
        "print(\"============\")"
      ]
    },
    {
      "cell_type": "code",
      "execution_count": 28,
      "metadata": {},
      "outputs": [
        {
          "name": "stdout",
          "output_type": "stream",
          "text": [
            "data shape: torch.Size([64, 10, 12]) , target shape: torch.Size([64, 2]) , output shape: torch.Size([64, 2])\n",
            "Train Epoch: 1 [0/21273 (0%)]\tLoss: 0.703216\n",
            "Train Epoch: 1 [6400/21273 (30%)]\tLoss: 0.682133\n",
            "Train Epoch: 1 [12800/21273 (60%)]\tLoss: 0.691561\n",
            "Train Epoch: 1 [19200/21273 (90%)]\tLoss: 0.692904\n",
            "Test set: Average loss: 0.0109, Accuracy: 5296/10638 (50%)\n",
            "data shape: torch.Size([64, 10, 12]) , target shape: torch.Size([64, 2]) , output shape: torch.Size([64, 2])\n",
            "Train Epoch: 2 [0/21273 (0%)]\tLoss: 0.692697\n",
            "Train Epoch: 2 [6400/21273 (30%)]\tLoss: 0.693524\n",
            "Train Epoch: 2 [12800/21273 (60%)]\tLoss: 0.692126\n",
            "Train Epoch: 2 [19200/21273 (90%)]\tLoss: 0.692862\n",
            "Test set: Average loss: 0.0109, Accuracy: 5296/10638 (50%)\n",
            "data shape: torch.Size([64, 10, 12]) , target shape: torch.Size([64, 2]) , output shape: torch.Size([64, 2])\n",
            "Train Epoch: 3 [0/21273 (0%)]\tLoss: 0.690884\n",
            "Train Epoch: 3 [6400/21273 (30%)]\tLoss: 0.694270\n",
            "Train Epoch: 3 [12800/21273 (60%)]\tLoss: 0.695901\n",
            "Train Epoch: 3 [19200/21273 (90%)]\tLoss: 0.693038\n",
            "Test set: Average loss: 0.0109, Accuracy: 5342/10638 (50%)\n",
            "data shape: torch.Size([64, 10, 12]) , target shape: torch.Size([64, 2]) , output shape: torch.Size([64, 2])\n",
            "Train Epoch: 4 [0/21273 (0%)]\tLoss: 0.692467\n",
            "Train Epoch: 4 [6400/21273 (30%)]\tLoss: 0.693060\n",
            "Train Epoch: 4 [12800/21273 (60%)]\tLoss: 0.692895\n",
            "Train Epoch: 4 [19200/21273 (90%)]\tLoss: 0.692896\n",
            "Test set: Average loss: 0.0109, Accuracy: 5342/10638 (50%)\n",
            "data shape: torch.Size([64, 10, 12]) , target shape: torch.Size([64, 2]) , output shape: torch.Size([64, 2])\n",
            "Train Epoch: 5 [0/21273 (0%)]\tLoss: 0.694424\n",
            "Train Epoch: 5 [6400/21273 (30%)]\tLoss: 0.694100\n",
            "Train Epoch: 5 [12800/21273 (60%)]\tLoss: 0.693162\n",
            "Train Epoch: 5 [19200/21273 (90%)]\tLoss: 0.692864\n",
            "Test set: Average loss: 0.0109, Accuracy: 5296/10638 (50%)\n",
            "data shape: torch.Size([64, 10, 12]) , target shape: torch.Size([64, 2]) , output shape: torch.Size([64, 2])\n",
            "Train Epoch: 6 [0/21273 (0%)]\tLoss: 0.694410\n",
            "Train Epoch: 6 [6400/21273 (30%)]\tLoss: 0.693136\n",
            "Train Epoch: 6 [12800/21273 (60%)]\tLoss: 0.693235\n",
            "Train Epoch: 6 [19200/21273 (90%)]\tLoss: 0.693850\n",
            "Test set: Average loss: 0.0109, Accuracy: 5296/10638 (50%)\n",
            "data shape: torch.Size([64, 10, 12]) , target shape: torch.Size([64, 2]) , output shape: torch.Size([64, 2])\n",
            "Train Epoch: 7 [0/21273 (0%)]\tLoss: 0.694101\n",
            "Train Epoch: 7 [6400/21273 (30%)]\tLoss: 0.693489\n",
            "Train Epoch: 7 [12800/21273 (60%)]\tLoss: 0.681803\n",
            "Train Epoch: 7 [19200/21273 (90%)]\tLoss: 0.693250\n",
            "Test set: Average loss: 0.0109, Accuracy: 5342/10638 (50%)\n",
            "data shape: torch.Size([64, 10, 12]) , target shape: torch.Size([64, 2]) , output shape: torch.Size([64, 2])\n",
            "Train Epoch: 8 [0/21273 (0%)]\tLoss: 0.693303\n",
            "Train Epoch: 8 [6400/21273 (30%)]\tLoss: 0.692791\n",
            "Train Epoch: 8 [12800/21273 (60%)]\tLoss: 0.693074\n",
            "Train Epoch: 8 [19200/21273 (90%)]\tLoss: 0.693178\n",
            "Test set: Average loss: 0.0109, Accuracy: 5342/10638 (50%)\n",
            "data shape: torch.Size([64, 10, 12]) , target shape: torch.Size([64, 2]) , output shape: torch.Size([64, 2])\n",
            "Train Epoch: 9 [0/21273 (0%)]\tLoss: 0.694908\n",
            "Train Epoch: 9 [6400/21273 (30%)]\tLoss: 0.693782\n",
            "Train Epoch: 9 [12800/21273 (60%)]\tLoss: 0.692001\n",
            "Train Epoch: 9 [19200/21273 (90%)]\tLoss: 0.693900\n",
            "Test set: Average loss: 0.0109, Accuracy: 5342/10638 (50%)\n",
            "data shape: torch.Size([64, 10, 12]) , target shape: torch.Size([64, 2]) , output shape: torch.Size([64, 2])\n",
            "Train Epoch: 10 [0/21273 (0%)]\tLoss: 0.693398\n",
            "Train Epoch: 10 [6400/21273 (30%)]\tLoss: 0.692792\n",
            "Train Epoch: 10 [12800/21273 (60%)]\tLoss: 0.691674\n",
            "Train Epoch: 10 [19200/21273 (90%)]\tLoss: 0.693234\n",
            "Test set: Average loss: 0.0109, Accuracy: 5296/10638 (50%)\n"
          ]
        }
      ],
      "source": [
        "model = CCV1().to(DEVICE)\n",
        "optimizer = optim.SGD(model.parameters(), lr=0.01, momentum=0.5)\n",
        "criterion = F.cross_entropy\n",
        "\n",
        "train_loader = DataLoader(train_dataset, batch_size=64, shuffle=True, num_workers=0)\n",
        "test_loader = DataLoader(test_dataset, batch_size=64, shuffle=False, num_workers=0)\n",
        "\n",
        "test_acc_list = []\n",
        "test_loss_list = []\n",
        "\n",
        "for epoch in range(1, EPOCHS + 1):\n",
        "    train(model, train_loader, optimizer, criterion, epoch, DEVICE)\n",
        "    test_acc, test_loss = test(model, test_loader, criterion, DEVICE)\n",
        "    test_acc_list.append(test_acc)\n",
        "    test_loss_list.append(test_loss)"
      ]
    },
    {
      "cell_type": "code",
      "execution_count": 29,
      "metadata": {},
      "outputs": [
        {
          "data": {
            "image/png": "[encoded data removed]",
            "text/plain": [
              "<Figure size 640x480 with 1 Axes>"
            ]
          },
          "metadata": {},
          "output_type": "display_data"
        }
      ],
      "source": [
        "#plot acc\n",
        "from matplotlib import pyplot as plt\n",
        "plt.plot(test_acc_list,label='acc')\n",
        "plt.legend()\n",
        "plt.show()"
      ]
    },
    {
      "cell_type": "code",
      "execution_count": 30,
      "metadata": {},
      "outputs": [
        {
          "data": {
            "image/png": "[encoded data removed]",
            "text/plain": [
              "<Figure size 640x480 with 1 Axes>"
            ]
          },
          "metadata": {},
          "output_type": "display_data"
        }
      ],
      "source": [
        "#plot loss\n",
        "plt.plot(test_loss_list,label='loss')\n",
        "plt.legend()\n",
        "plt.show()"
      ]
    },
    {
      "cell_type": "code",
      "execution_count": 47,
      "metadata": {},
      "outputs": [
        {
          "name": "stdout",
          "output_type": "stream",
          "text": [
            "tensor([[0.0058, 0.0332]], grad_fn=<AddmmBackward0>)\n",
            "tensor([1., 0.])\n"
          ]
        }
      ],
      "source": [
        "print(model(X_val[0].to(DEVICE)))\n",
        "print(y_val[0])"
      ]
    },
    {
      "cell_type": "code",
      "execution_count": 32,
      "metadata": {},
      "outputs": [
        {
          "name": "stdout",
          "output_type": "stream",
          "text": [
            "data shape: torch.Size([64, 10, 12]) , target shape: torch.Size([64, 2]) , output shape: torch.Size([64, 2])\n",
            "Train Epoch: 1 [0/21273 (0%)]\tLoss: 0.691720\n",
            "Train Epoch: 1 [6400/21273 (30%)]\tLoss: 0.693216\n",
            "Train Epoch: 1 [12800/21273 (60%)]\tLoss: 0.696802\n",
            "Train Epoch: 1 [19200/21273 (90%)]\tLoss: 0.693294\n",
            "Test set: Average loss: 0.0109, Accuracy: 5296/10638 (50%)\n",
            "data shape: torch.Size([64, 10, 12]) , target shape: torch.Size([64, 2]) , output shape: torch.Size([64, 2])\n",
            "Train Epoch: 2 [0/21273 (0%)]\tLoss: 0.691102\n",
            "Train Epoch: 2 [6400/21273 (30%)]\tLoss: 0.692885\n",
            "Train Epoch: 2 [12800/21273 (60%)]\tLoss: 0.691260\n",
            "Train Epoch: 2 [19200/21273 (90%)]\tLoss: 0.692734\n",
            "Test set: Average loss: 0.0109, Accuracy: 5296/10638 (50%)\n",
            "data shape: torch.Size([64, 10, 12]) , target shape: torch.Size([64, 2]) , output shape: torch.Size([64, 2])\n",
            "Train Epoch: 3 [0/21273 (0%)]\tLoss: 0.695713\n",
            "Train Epoch: 3 [6400/21273 (30%)]\tLoss: 0.687759\n",
            "Train Epoch: 3 [12800/21273 (60%)]\tLoss: 0.696881\n",
            "Train Epoch: 3 [19200/21273 (90%)]\tLoss: 0.689339\n",
            "Test set: Average loss: 0.0109, Accuracy: 5296/10638 (50%)\n",
            "data shape: torch.Size([64, 10, 12]) , target shape: torch.Size([64, 2]) , output shape: torch.Size([64, 2])\n",
            "Train Epoch: 4 [0/21273 (0%)]\tLoss: 0.692614\n",
            "Train Epoch: 4 [6400/21273 (30%)]\tLoss: 0.678168\n",
            "Train Epoch: 4 [12800/21273 (60%)]\tLoss: 0.698471\n",
            "Train Epoch: 4 [19200/21273 (90%)]\tLoss: 0.698441\n",
            "Test set: Average loss: 0.0109, Accuracy: 5296/10638 (50%)\n",
            "data shape: torch.Size([64, 10, 12]) , target shape: torch.Size([64, 2]) , output shape: torch.Size([64, 2])\n",
            "Train Epoch: 5 [0/21273 (0%)]\tLoss: 0.701032\n",
            "Train Epoch: 5 [6400/21273 (30%)]\tLoss: 0.699225\n",
            "Train Epoch: 5 [12800/21273 (60%)]\tLoss: 0.697427\n",
            "Train Epoch: 5 [19200/21273 (90%)]\tLoss: 0.687084\n",
            "Test set: Average loss: 0.0109, Accuracy: 5296/10638 (50%)\n",
            "data shape: torch.Size([64, 10, 12]) , target shape: torch.Size([64, 2]) , output shape: torch.Size([64, 2])\n",
            "Train Epoch: 6 [0/21273 (0%)]\tLoss: 0.691799\n",
            "Train Epoch: 6 [6400/21273 (30%)]\tLoss: 0.692998\n",
            "Train Epoch: 6 [12800/21273 (60%)]\tLoss: 0.691861\n",
            "Train Epoch: 6 [19200/21273 (90%)]\tLoss: 0.695059\n",
            "Test set: Average loss: 0.0109, Accuracy: 5296/10638 (50%)\n",
            "data shape: torch.Size([64, 10, 12]) , target shape: torch.Size([64, 2]) , output shape: torch.Size([64, 2])\n",
            "Train Epoch: 7 [0/21273 (0%)]\tLoss: 0.689533\n",
            "Train Epoch: 7 [6400/21273 (30%)]\tLoss: 0.687542\n"
          ]
        },
        {
          "ename": "KeyboardInterrupt",
          "evalue": "",
          "output_type": "error",
          "traceback": [
            "\u001b[1;31m---------------------------------------------------------------------------\u001b[0m",
            "\u001b[1;31mKeyboardInterrupt\u001b[0m                         Traceback (most recent call last)",
            "Cell \u001b[1;32mIn [32], line 12\u001b[0m\n\u001b[0;32m      9\u001b[0m test_loss_list \u001b[39m=\u001b[39m []\n\u001b[0;32m     11\u001b[0m \u001b[39mfor\u001b[39;00m epoch \u001b[39min\u001b[39;00m \u001b[39mrange\u001b[39m(\u001b[39m1\u001b[39m, EPOCHS \u001b[39m+\u001b[39m \u001b[39m1\u001b[39m):\n\u001b[1;32m---> 12\u001b[0m     train(model3, train_loader, optimizer, criterion, epoch, DEVICE)\n\u001b[0;32m     13\u001b[0m     test_acc, test_loss \u001b[39m=\u001b[39m test(model3, test_loader, criterion, DEVICE)\n\u001b[0;32m     14\u001b[0m     test_acc_list\u001b[39m.\u001b[39mappend(test_acc)\n",
            "Cell \u001b[1;32mIn [25], line 9\u001b[0m, in \u001b[0;36mtrain\u001b[1;34m(model, train_loader, optimizer, criterion, epoch, device)\u001b[0m\n\u001b[0;32m      7\u001b[0m output \u001b[39m=\u001b[39m model(data)\n\u001b[0;32m      8\u001b[0m loss \u001b[39m=\u001b[39m criterion(output, target)\n\u001b[1;32m----> 9\u001b[0m loss\u001b[39m.\u001b[39;49mbackward()\n\u001b[0;32m     10\u001b[0m optimizer\u001b[39m.\u001b[39mstep()\n\u001b[0;32m     11\u001b[0m \u001b[39mif\u001b[39;00m batch_idx \u001b[39m==\u001b[39m \u001b[39m0\u001b[39m:\n",
            "File \u001b[1;32m~\\AppData\\Roaming\\Python\\Python310\\site-packages\\torch\\_tensor.py:488\u001b[0m, in \u001b[0;36mTensor.backward\u001b[1;34m(self, gradient, retain_graph, create_graph, inputs)\u001b[0m\n\u001b[0;32m    478\u001b[0m \u001b[39mif\u001b[39;00m has_torch_function_unary(\u001b[39mself\u001b[39m):\n\u001b[0;32m    479\u001b[0m     \u001b[39mreturn\u001b[39;00m handle_torch_function(\n\u001b[0;32m    480\u001b[0m         Tensor\u001b[39m.\u001b[39mbackward,\n\u001b[0;32m    481\u001b[0m         (\u001b[39mself\u001b[39m,),\n\u001b[1;32m   (...)\u001b[0m\n\u001b[0;32m    486\u001b[0m         inputs\u001b[39m=\u001b[39minputs,\n\u001b[0;32m    487\u001b[0m     )\n\u001b[1;32m--> 488\u001b[0m torch\u001b[39m.\u001b[39;49mautograd\u001b[39m.\u001b[39;49mbackward(\n\u001b[0;32m    489\u001b[0m     \u001b[39mself\u001b[39;49m, gradient, retain_graph, create_graph, inputs\u001b[39m=\u001b[39;49minputs\n\u001b[0;32m    490\u001b[0m )\n",
            "File \u001b[1;32m~\\AppData\\Roaming\\Python\\Python310\\site-packages\\torch\\autograd\\__init__.py:197\u001b[0m, in \u001b[0;36mbackward\u001b[1;34m(tensors, grad_tensors, retain_graph, create_graph, grad_variables, inputs)\u001b[0m\n\u001b[0;32m    192\u001b[0m     retain_graph \u001b[39m=\u001b[39m create_graph\n\u001b[0;32m    194\u001b[0m \u001b[39m# The reason we repeat same the comment below is that\u001b[39;00m\n\u001b[0;32m    195\u001b[0m \u001b[39m# some Python versions print out the first line of a multi-line function\u001b[39;00m\n\u001b[0;32m    196\u001b[0m \u001b[39m# calls in the traceback and some print out the last line\u001b[39;00m\n\u001b[1;32m--> 197\u001b[0m Variable\u001b[39m.\u001b[39;49m_execution_engine\u001b[39m.\u001b[39;49mrun_backward(  \u001b[39m# Calls into the C++ engine to run the backward pass\u001b[39;49;00m\n\u001b[0;32m    198\u001b[0m     tensors, grad_tensors_, retain_graph, create_graph, inputs,\n\u001b[0;32m    199\u001b[0m     allow_unreachable\u001b[39m=\u001b[39;49m\u001b[39mTrue\u001b[39;49;00m, accumulate_grad\u001b[39m=\u001b[39;49m\u001b[39mTrue\u001b[39;49;00m)\n",
            "\u001b[1;31mKeyboardInterrupt\u001b[0m: "
          ]
        }
      ],
      "source": [
        "model3 = CCV3().to(DEVICE)\n",
        "optimizer = optim.SGD(model.parameters(), lr=0.01, momentum=0.5)\n",
        "criterion = F.cross_entropy\n",
        "\n",
        "train_loader = DataLoader(train_dataset, batch_size=64, shuffle=True, num_workers=0)\n",
        "test_loader = DataLoader(test_dataset, batch_size=64, shuffle=False, num_workers=0)\n",
        "\n",
        "test_acc_list = []\n",
        "test_loss_list = []\n",
        "\n",
        "for epoch in range(1, EPOCHS + 1):\n",
        "    train(model3, train_loader, optimizer, criterion, epoch, DEVICE)\n",
        "    test_acc, test_loss = test(model3, test_loader, criterion, DEVICE)\n",
        "    test_acc_list.append(test_acc)\n",
        "    test_loss_list.append(test_loss)"
      ]
    }
  ],
  "metadata": {
    "accelerator": "GPU",
    "colab": {
      "include_colab_link": true,
      "machine_shape": "hm",
      "provenance": []
    },
    "gpuClass": "premium",
    "kernelspec": {
      "display_name": "Python 3",
      "language": "python",
      "name": "python3"
    },
    "language_info": {
      "codemirror_mode": {
        "name": "ipython",
        "version": 3
      },
      "file_extension": ".py",
      "mimetype": "text/x-python",
      "name": "python",
      "nbconvert_exporter": "python",
      "pygments_lexer": "ipython3",
      "version": "3.10.8"
    },
    "orig_nbformat": 4,
    "vscode": {
      "interpreter": {
        "hash": "26de051ba29f2982a8de78e945f0abaf191376122a1563185a90213a26c5da77"
      }
    }
  },
  "nbformat": 4,
  "nbformat_minor": 0
}
