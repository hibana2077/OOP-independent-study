{
 "cells": [
  {
   "attachments": {},
   "cell_type": "markdown",
   "metadata": {},
   "source": [
    "[![GitHub](https://img.shields.io/badge/Github-hibana2077-blue?style=plastic-square&logo=github)](https://github.com/hibana2077)"
   ]
  },
  {
   "attachments": {},
   "cell_type": "markdown",
   "metadata": {},
   "source": [
    "如果要訓練這份資料集會需要安裝talib套件，請參考[這裡](https://www.lfd.uci.edu/~gohlke/pythonlibs/#ta-lib)下載對應的版本，並使用pip安裝。"
   ]
  },
  {
   "cell_type": "code",
   "execution_count": 1,
   "metadata": {},
   "outputs": [],
   "source": [
    "from ccxt import binance\n",
    "from torch.utils.data import Dataset, DataLoader\n",
    "from torch import nn\n",
    "from torch import optim\n",
    "from torch.nn import functional as F\n",
    "from talib import abstract\n",
    "import pandas as pd\n",
    "import numpy as np\n",
    "import os\n",
    "import sys"
   ]
  },
  {
   "attachments": {},
   "cell_type": "markdown",
   "metadata": {},
   "source": [
    "# 環境整理"
   ]
  },
  {
   "cell_type": "code",
   "execution_count": 2,
   "metadata": {},
   "outputs": [],
   "source": [
    "ls_dir = os.listdir(path=\"..\")\n",
    "if \"data\" not in ls_dir:\n",
    "    os.mkdir(path=\"../data\")\n",
    "if \"model\" not in ls_dir:\n",
    "    os.mkdir(path=\"../model\")\n",
    "if \"data\" in ls_dir:\n",
    "    ls_dir = os.listdir(path=\"../data\")\n",
    "    #remove all files in data folder\n",
    "    for file in ls_dir:os.remove(path=\"../data/\"+file)"
   ]
  },
  {
   "attachments": {},
   "cell_type": "markdown",
   "metadata": {},
   "source": [
    "# 下載資料集"
   ]
  },
  {
   "cell_type": "code",
   "execution_count": 3,
   "metadata": {},
   "outputs": [],
   "source": [
    "# Binance BTC/USDT 1h candles from 2020-01-01 to 2021-01-01\n",
    "\n",
    "binance = binance()\n",
    "symbol = 'BTC/USDT'\n",
    "timeframe = '1h'\n",
    "start = binance.parse8601('2020-01-01T00:00:00Z')\n",
    "end = binance.parse8601('2021-01-01T00:00:00Z')\n",
    "cnt_time = start\n",
    "data = []\n",
    "while cnt_time < end:\n",
    "    ohlcv = binance.fetch_ohlcv(symbol, timeframe, cnt_time)\n",
    "    data += ohlcv\n",
    "    cnt_time = ohlcv[-1][0] + 3600000 # 1h in ms    \n",
    "df = pd.DataFrame(data, columns=['time', 'open', 'high', 'low', 'close', 'volume'])\n",
    "df['time'] = pd.to_datetime(df['time'], unit='ms')\n",
    "df.to_csv('../data/btc_usdt_1h.csv', index=False)"
   ]
  },
  {
   "attachments": {},
   "cell_type": "markdown",
   "metadata": {},
   "source": [
    "# 讀取資料集"
   ]
  },
  {
   "cell_type": "code",
   "execution_count": null,
   "metadata": {},
   "outputs": [],
   "source": [
    "#如果有下载好的數據，可以直接讀取\n",
    "data_file = '../data/btc_usdt_1h.csv'\n",
    "df = pd.read_csv(data_file)"
   ]
  },
  {
   "attachments": {},
   "cell_type": "markdown",
   "metadata": {},
   "source": [
    "# 數據處理\n",
    "\n",
    "- 計算RSI\n",
    "- 計算MACD\n",
    "- 計算OBV\n",
    "- 計算CCI\n",
    "- 改成變化百分比 -> 標準化\n",
    "\n",
    "關於技術指標的說明可以參考[這裡](https://www.investopedia.com/terms/t/technicalindicator.asp)，或是google。"
   ]
  },
  {
   "cell_type": "code",
   "execution_count": null,
   "metadata": {},
   "outputs": [],
   "source": [
    "df['RSI'] = abstract.RSI(df, timeperiod=14)\n",
    "df['MACD'] = abstract.MACD(df, fastperiod=12, slowperiod=26, signalperiod=9)['macd'] #只取MACD\n",
    "df['OBV'] = abstract.OBV(df, timeperiod=14)\n",
    "df['CCI'] = abstract.CCI(df, timeperiod=14)\n",
    "df['OPEN_percent'] = df['open'].pct_change()\n",
    "df['CLOSE_percent'] = df['close'].pct_change()\n",
    "df['HIGH_percent'] = df['high'].pct_change()\n",
    "df['LOW_percent'] = df['low'].pct_change()\n",
    "df['VOLUME_percent'] = df['volume'].pct_change()\n",
    "#由於RSI MACD OBV CCI 他們已經是標準化的，所以不需要再標準化"
   ]
  },
  {
   "attachments": {},
   "cell_type": "markdown",
   "metadata": {},
   "source": [
    "# 設定買賣點"
   ]
  }
 ],
 "metadata": {
  "kernelspec": {
   "display_name": "Python 3",
   "language": "python",
   "name": "python3"
  },
  "language_info": {
   "codemirror_mode": {
    "name": "ipython",
    "version": 3
   },
   "file_extension": ".py",
   "mimetype": "text/x-python",
   "name": "python",
   "nbconvert_exporter": "python",
   "pygments_lexer": "ipython3",
   "version": "3.10.8"
  },
  "orig_nbformat": 4,
  "vscode": {
   "interpreter": {
    "hash": "26de051ba29f2982a8de78e945f0abaf191376122a1563185a90213a26c5da77"
   }
  }
 },
 "nbformat": 4,
 "nbformat_minor": 2
}
