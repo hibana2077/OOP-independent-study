{
 "cells": [
  {
   "attachments": {},
   "cell_type": "markdown",
   "metadata": {},
   "source": [
    "[![GitHub](https://img.shields.io/badge/Github-hibana2077-blue?style=plastic-square&logo=github)](https://github.com/hibana2077)\n",
    "[![Colab](https://img.shields.io/badge/Colab-Open%20in%20Colab-blue?style=plastic-square&logo=googlecolab)](https://colab.research.google.com/github/hibana2077/hibana2077/blob/master/train/train.ipynb)"
   ]
  },
  {
   "attachments": {},
   "cell_type": "markdown",
   "metadata": {},
   "source": [
    "如果要訓練這份資料集會需要安裝talib套件，請參考[這裡](https://www.lfd.uci.edu/~gohlke/pythonlibs/#ta-lib)下載對應的版本，並使用pip安裝。"
   ]
  },
  {
   "cell_type": "code",
   "execution_count": null,
   "metadata": {},
   "outputs": [],
   "source": [
    "!pip install -U pytorch"
   ]
  },
  {
   "cell_type": "code",
   "execution_count": 1,
   "metadata": {},
   "outputs": [],
   "source": [
    "from ccxt import binance\n",
    "from torch.utils.data import Dataset, DataLoader\n",
    "from torch import nn\n",
    "from torch import optim\n",
    "from torch.nn import functional as F\n",
    "from talib import abstract\n",
    "import pandas as pd\n",
    "import numpy as np\n",
    "import torch\n",
    "import os\n",
    "import sys"
   ]
  },
  {
   "attachments": {},
   "cell_type": "markdown",
   "metadata": {},
   "source": [
    "# 環境整理"
   ]
  },
  {
   "cell_type": "code",
   "execution_count": 2,
   "metadata": {},
   "outputs": [],
   "source": [
    "ls_dir = os.listdir(path=\"..\")\n",
    "if \"data\" not in ls_dir:\n",
    "    os.mkdir(path=\"../data\")\n",
    "if \"model\" not in ls_dir:\n",
    "    os.mkdir(path=\"../model\")\n",
    "if \"data\" in ls_dir:\n",
    "    ls_dir = os.listdir(path=\"../data\")\n",
    "    #remove all files in data folder\n",
    "    for file in ls_dir:os.remove(path=\"../data/\"+file)"
   ]
  },
  {
   "attachments": {},
   "cell_type": "markdown",
   "metadata": {},
   "source": [
    "# 下載資料集"
   ]
  },
  {
   "cell_type": "code",
   "execution_count": 3,
   "metadata": {},
   "outputs": [],
   "source": [
    "# Binance BTC/USDT 1h candles from 2020-01-01 to 2021-01-01\n",
    "\n",
    "binance = binance()\n",
    "symbol = 'BTC/USDT'\n",
    "timeframe = '1h'\n",
    "start = binance.parse8601('2020-01-01T00:00:00Z')\n",
    "end = binance.parse8601('2022-01-01T00:00:00Z')\n",
    "cnt_time = start\n",
    "data = []\n",
    "while cnt_time < end:\n",
    "    ohlcv = binance.fetch_ohlcv(symbol, timeframe, cnt_time)\n",
    "    data += ohlcv\n",
    "    cnt_time = ohlcv[-1][0] + 3600000 # 1h in ms    \n",
    "df = pd.DataFrame(data, columns=['time', 'open', 'high', 'low', 'close', 'volume'])\n",
    "df['time'] = pd.to_datetime(df['time'], unit='ms')\n",
    "df.to_csv('../data/btc_usdt_1h.csv', index=False)"
   ]
  },
  {
   "attachments": {},
   "cell_type": "markdown",
   "metadata": {},
   "source": [
    "# 讀取資料集"
   ]
  },
  {
   "cell_type": "code",
   "execution_count": 4,
   "metadata": {},
   "outputs": [],
   "source": [
    "#如果有下载好的數據，可以直接讀取\n",
    "data_file = '../data/btc_usdt_1h.csv'\n",
    "df = pd.read_csv(data_file)"
   ]
  },
  {
   "attachments": {},
   "cell_type": "markdown",
   "metadata": {},
   "source": [
    "# 數據處理\n",
    "\n",
    "- 計算RSI\n",
    "- 計算MACD\n",
    "- 計算OBV\n",
    "- 計算CCI\n",
    "- 改成變化百分比 -> 標準化\n",
    "\n",
    "關於技術指標的說明可以參考[這裡](https://www.investopedia.com/terms/t/technicalindicator.asp)，或是google。"
   ]
  },
  {
   "cell_type": "code",
   "execution_count": 5,
   "metadata": {},
   "outputs": [],
   "source": [
    "df['RSI'] = abstract.RSI(df, timeperiod=14)\n",
    "df['MACD'] = abstract.MACD(df, fastperiod=12, slowperiod=26, signalperiod=9)['macd'] #只取MACD\n",
    "df['OBV'] = abstract.OBV(df, timeperiod=14)\n",
    "df['CCI'] = abstract.CCI(df, timeperiod=14)\n",
    "df['OPEN_percent'] = df['open'].pct_change()\n",
    "df['CLOSE_percent'] = df['close'].pct_change()\n",
    "df['HIGH_percent'] = df['high'].pct_change()\n",
    "df['LOW_percent'] = df['low'].pct_change()\n",
    "df['VOLUME_percent'] = df['volume'].pct_change()\n",
    "#由於RSI MACD OBV CCI 他們已經是標準化的，所以不需要再標準化"
   ]
  },
  {
   "attachments": {},
   "cell_type": "markdown",
   "metadata": {},
   "source": [
    "# 設定買賣點\n",
    "\n",
    "將買賣點分為下跌、上漲、不動，並將數據轉成one-hot編碼。"
   ]
  },
  {
   "cell_type": "code",
   "execution_count": 6,
   "metadata": {},
   "outputs": [
    {
     "data": {
      "text/html": [
       "<div>\n",
       "<style scoped>\n",
       "    .dataframe tbody tr th:only-of-type {\n",
       "        vertical-align: middle;\n",
       "    }\n",
       "\n",
       "    .dataframe tbody tr th {\n",
       "        vertical-align: top;\n",
       "    }\n",
       "\n",
       "    .dataframe thead th {\n",
       "        text-align: right;\n",
       "    }\n",
       "</style>\n",
       "<table border=\"1\" class=\"dataframe\">\n",
       "  <thead>\n",
       "    <tr style=\"text-align: right;\">\n",
       "      <th></th>\n",
       "      <th>time</th>\n",
       "      <th>open</th>\n",
       "      <th>high</th>\n",
       "      <th>low</th>\n",
       "      <th>close</th>\n",
       "      <th>volume</th>\n",
       "      <th>RSI</th>\n",
       "      <th>MACD</th>\n",
       "      <th>OBV</th>\n",
       "      <th>CCI</th>\n",
       "      <th>OPEN_percent</th>\n",
       "      <th>CLOSE_percent</th>\n",
       "      <th>HIGH_percent</th>\n",
       "      <th>LOW_percent</th>\n",
       "      <th>VOLUME_percent</th>\n",
       "      <th>UP</th>\n",
       "      <th>DOWN</th>\n",
       "    </tr>\n",
       "  </thead>\n",
       "  <tbody>\n",
       "    <tr>\n",
       "      <th>33</th>\n",
       "      <td>2020-01-02 09:00:00</td>\n",
       "      <td>7153.57</td>\n",
       "      <td>7165.00</td>\n",
       "      <td>7135.36</td>\n",
       "      <td>7162.01</td>\n",
       "      <td>840.001328</td>\n",
       "      <td>46.653946</td>\n",
       "      <td>-18.772873</td>\n",
       "      <td>-1085.293960</td>\n",
       "      <td>-35.190579</td>\n",
       "      <td>0.005989</td>\n",
       "      <td>0.001069</td>\n",
       "      <td>0.001051</td>\n",
       "      <td>0.003692</td>\n",
       "      <td>-0.246517</td>\n",
       "      <td>0.0</td>\n",
       "      <td>1.0</td>\n",
       "    </tr>\n",
       "    <tr>\n",
       "      <th>34</th>\n",
       "      <td>2020-01-02 10:00:00</td>\n",
       "      <td>7162.18</td>\n",
       "      <td>7180.00</td>\n",
       "      <td>7153.33</td>\n",
       "      <td>7161.83</td>\n",
       "      <td>1446.219984</td>\n",
       "      <td>46.612835</td>\n",
       "      <td>-17.585034</td>\n",
       "      <td>-2531.513944</td>\n",
       "      <td>-4.322773</td>\n",
       "      <td>0.001204</td>\n",
       "      <td>-0.000025</td>\n",
       "      <td>0.002094</td>\n",
       "      <td>0.002518</td>\n",
       "      <td>0.721688</td>\n",
       "      <td>0.0</td>\n",
       "      <td>1.0</td>\n",
       "    </tr>\n",
       "    <tr>\n",
       "      <th>35</th>\n",
       "      <td>2020-01-02 11:00:00</td>\n",
       "      <td>7161.89</td>\n",
       "      <td>7168.67</td>\n",
       "      <td>7139.03</td>\n",
       "      <td>7139.79</td>\n",
       "      <td>761.156570</td>\n",
       "      <td>41.760421</td>\n",
       "      <td>-18.212168</td>\n",
       "      <td>-3292.670514</td>\n",
       "      <td>-32.074422</td>\n",
       "      <td>-0.000040</td>\n",
       "      <td>-0.003077</td>\n",
       "      <td>-0.001578</td>\n",
       "      <td>-0.001999</td>\n",
       "      <td>-0.473692</td>\n",
       "      <td>1.0</td>\n",
       "      <td>0.0</td>\n",
       "    </tr>\n",
       "    <tr>\n",
       "      <th>36</th>\n",
       "      <td>2020-01-02 12:00:00</td>\n",
       "      <td>7139.73</td>\n",
       "      <td>7163.40</td>\n",
       "      <td>7139.03</td>\n",
       "      <td>7158.29</td>\n",
       "      <td>794.030497</td>\n",
       "      <td>46.769498</td>\n",
       "      <td>-17.020182</td>\n",
       "      <td>-2498.640017</td>\n",
       "      <td>-11.448699</td>\n",
       "      <td>-0.003094</td>\n",
       "      <td>0.002591</td>\n",
       "      <td>-0.000735</td>\n",
       "      <td>0.000000</td>\n",
       "      <td>0.043189</td>\n",
       "      <td>0.0</td>\n",
       "      <td>1.0</td>\n",
       "    </tr>\n",
       "    <tr>\n",
       "      <th>37</th>\n",
       "      <td>2020-01-02 13:00:00</td>\n",
       "      <td>7158.86</td>\n",
       "      <td>7163.35</td>\n",
       "      <td>7107.43</td>\n",
       "      <td>7131.15</td>\n",
       "      <td>1566.280693</td>\n",
       "      <td>41.174606</td>\n",
       "      <td>-18.057343</td>\n",
       "      <td>-4064.920710</td>\n",
       "      <td>-69.799501</td>\n",
       "      <td>0.002679</td>\n",
       "      <td>-0.003791</td>\n",
       "      <td>-0.000007</td>\n",
       "      <td>-0.004426</td>\n",
       "      <td>0.972570</td>\n",
       "      <td>1.0</td>\n",
       "      <td>0.0</td>\n",
       "    </tr>\n",
       "    <tr>\n",
       "      <th>...</th>\n",
       "      <td>...</td>\n",
       "      <td>...</td>\n",
       "      <td>...</td>\n",
       "      <td>...</td>\n",
       "      <td>...</td>\n",
       "      <td>...</td>\n",
       "      <td>...</td>\n",
       "      <td>...</td>\n",
       "      <td>...</td>\n",
       "      <td>...</td>\n",
       "      <td>...</td>\n",
       "      <td>...</td>\n",
       "      <td>...</td>\n",
       "      <td>...</td>\n",
       "      <td>...</td>\n",
       "      <td>...</td>\n",
       "      <td>...</td>\n",
       "    </tr>\n",
       "    <tr>\n",
       "      <th>17994</th>\n",
       "      <td>2022-01-21 01:00:00</td>\n",
       "      <td>40894.81</td>\n",
       "      <td>40929.76</td>\n",
       "      <td>39730.00</td>\n",
       "      <td>39762.99</td>\n",
       "      <td>4172.351850</td>\n",
       "      <td>25.308075</td>\n",
       "      <td>-334.514225</td>\n",
       "      <td>697285.662621</td>\n",
       "      <td>-152.190082</td>\n",
       "      <td>0.005258</td>\n",
       "      <td>-0.027676</td>\n",
       "      <td>-0.004142</td>\n",
       "      <td>-0.016682</td>\n",
       "      <td>0.284850</td>\n",
       "      <td>1.0</td>\n",
       "      <td>0.0</td>\n",
       "    </tr>\n",
       "    <tr>\n",
       "      <th>17995</th>\n",
       "      <td>2022-01-21 02:00:00</td>\n",
       "      <td>39763.00</td>\n",
       "      <td>40280.00</td>\n",
       "      <td>39267.86</td>\n",
       "      <td>39830.52</td>\n",
       "      <td>4354.458167</td>\n",
       "      <td>26.469820</td>\n",
       "      <td>-445.353256</td>\n",
       "      <td>701640.120788</td>\n",
       "      <td>-137.983834</td>\n",
       "      <td>-0.027676</td>\n",
       "      <td>0.001698</td>\n",
       "      <td>-0.015875</td>\n",
       "      <td>-0.011632</td>\n",
       "      <td>0.043646</td>\n",
       "      <td>0.0</td>\n",
       "      <td>1.0</td>\n",
       "    </tr>\n",
       "    <tr>\n",
       "      <th>17996</th>\n",
       "      <td>2022-01-21 03:00:00</td>\n",
       "      <td>39835.99</td>\n",
       "      <td>39944.45</td>\n",
       "      <td>38220.00</td>\n",
       "      <td>38465.65</td>\n",
       "      <td>9508.823455</td>\n",
       "      <td>19.775068</td>\n",
       "      <td>-635.996220</td>\n",
       "      <td>692131.297333</td>\n",
       "      <td>-150.716081</td>\n",
       "      <td>0.001836</td>\n",
       "      <td>-0.034267</td>\n",
       "      <td>-0.008330</td>\n",
       "      <td>-0.026685</td>\n",
       "      <td>1.183698</td>\n",
       "      <td>1.0</td>\n",
       "      <td>0.0</td>\n",
       "    </tr>\n",
       "    <tr>\n",
       "      <th>17997</th>\n",
       "      <td>2022-01-21 04:00:00</td>\n",
       "      <td>38465.65</td>\n",
       "      <td>39070.00</td>\n",
       "      <td>38437.15</td>\n",
       "      <td>38842.03</td>\n",
       "      <td>3091.420650</td>\n",
       "      <td>25.379860</td>\n",
       "      <td>-748.087930</td>\n",
       "      <td>695222.717983</td>\n",
       "      <td>-126.902770</td>\n",
       "      <td>-0.034400</td>\n",
       "      <td>0.009785</td>\n",
       "      <td>-0.021892</td>\n",
       "      <td>0.005682</td>\n",
       "      <td>-0.674889</td>\n",
       "      <td>1.0</td>\n",
       "      <td>0.0</td>\n",
       "    </tr>\n",
       "    <tr>\n",
       "      <th>17998</th>\n",
       "      <td>2022-01-21 05:00:00</td>\n",
       "      <td>38842.03</td>\n",
       "      <td>38998.00</td>\n",
       "      <td>38700.19</td>\n",
       "      <td>38909.01</td>\n",
       "      <td>2658.659590</td>\n",
       "      <td>26.365761</td>\n",
       "      <td>-822.040718</td>\n",
       "      <td>697881.377573</td>\n",
       "      <td>-106.568770</td>\n",
       "      <td>0.009785</td>\n",
       "      <td>0.001724</td>\n",
       "      <td>-0.001843</td>\n",
       "      <td>0.006843</td>\n",
       "      <td>-0.139988</td>\n",
       "      <td>0.0</td>\n",
       "      <td>1.0</td>\n",
       "    </tr>\n",
       "  </tbody>\n",
       "</table>\n",
       "<p>17966 rows × 17 columns</p>\n",
       "</div>"
      ],
      "text/plain": [
       "                      time      open      high       low     close  \\\n",
       "33     2020-01-02 09:00:00   7153.57   7165.00   7135.36   7162.01   \n",
       "34     2020-01-02 10:00:00   7162.18   7180.00   7153.33   7161.83   \n",
       "35     2020-01-02 11:00:00   7161.89   7168.67   7139.03   7139.79   \n",
       "36     2020-01-02 12:00:00   7139.73   7163.40   7139.03   7158.29   \n",
       "37     2020-01-02 13:00:00   7158.86   7163.35   7107.43   7131.15   \n",
       "...                    ...       ...       ...       ...       ...   \n",
       "17994  2022-01-21 01:00:00  40894.81  40929.76  39730.00  39762.99   \n",
       "17995  2022-01-21 02:00:00  39763.00  40280.00  39267.86  39830.52   \n",
       "17996  2022-01-21 03:00:00  39835.99  39944.45  38220.00  38465.65   \n",
       "17997  2022-01-21 04:00:00  38465.65  39070.00  38437.15  38842.03   \n",
       "17998  2022-01-21 05:00:00  38842.03  38998.00  38700.19  38909.01   \n",
       "\n",
       "            volume        RSI        MACD            OBV         CCI  \\\n",
       "33      840.001328  46.653946  -18.772873   -1085.293960  -35.190579   \n",
       "34     1446.219984  46.612835  -17.585034   -2531.513944   -4.322773   \n",
       "35      761.156570  41.760421  -18.212168   -3292.670514  -32.074422   \n",
       "36      794.030497  46.769498  -17.020182   -2498.640017  -11.448699   \n",
       "37     1566.280693  41.174606  -18.057343   -4064.920710  -69.799501   \n",
       "...            ...        ...         ...            ...         ...   \n",
       "17994  4172.351850  25.308075 -334.514225  697285.662621 -152.190082   \n",
       "17995  4354.458167  26.469820 -445.353256  701640.120788 -137.983834   \n",
       "17996  9508.823455  19.775068 -635.996220  692131.297333 -150.716081   \n",
       "17997  3091.420650  25.379860 -748.087930  695222.717983 -126.902770   \n",
       "17998  2658.659590  26.365761 -822.040718  697881.377573 -106.568770   \n",
       "\n",
       "       OPEN_percent  CLOSE_percent  HIGH_percent  LOW_percent  VOLUME_percent  \\\n",
       "33         0.005989       0.001069      0.001051     0.003692       -0.246517   \n",
       "34         0.001204      -0.000025      0.002094     0.002518        0.721688   \n",
       "35        -0.000040      -0.003077     -0.001578    -0.001999       -0.473692   \n",
       "36        -0.003094       0.002591     -0.000735     0.000000        0.043189   \n",
       "37         0.002679      -0.003791     -0.000007    -0.004426        0.972570   \n",
       "...             ...            ...           ...          ...             ...   \n",
       "17994      0.005258      -0.027676     -0.004142    -0.016682        0.284850   \n",
       "17995     -0.027676       0.001698     -0.015875    -0.011632        0.043646   \n",
       "17996      0.001836      -0.034267     -0.008330    -0.026685        1.183698   \n",
       "17997     -0.034400       0.009785     -0.021892     0.005682       -0.674889   \n",
       "17998      0.009785       0.001724     -0.001843     0.006843       -0.139988   \n",
       "\n",
       "        UP  DOWN  \n",
       "33     0.0   1.0  \n",
       "34     0.0   1.0  \n",
       "35     1.0   0.0  \n",
       "36     0.0   1.0  \n",
       "37     1.0   0.0  \n",
       "...    ...   ...  \n",
       "17994  1.0   0.0  \n",
       "17995  0.0   1.0  \n",
       "17996  1.0   0.0  \n",
       "17997  1.0   0.0  \n",
       "17998  0.0   1.0  \n",
       "\n",
       "[17966 rows x 17 columns]"
      ]
     },
     "execution_count": 6,
     "metadata": {},
     "output_type": "execute_result"
    }
   ],
   "source": [
    "df['UP'] = df['CLOSE_percent'].apply(lambda x: 1 if x > 0 else 0)\n",
    "df['DOWN'] = df['CLOSE_percent'].apply(lambda x: 1 if x < 0 else 0)\n",
    "df['UP'] = df['UP'].shift(-1) #shift UP DOWN 一個單位，因為我們要預測的是下一個時間點的漲跌\n",
    "df['DOWN'] = df['DOWN'].shift(-1)\n",
    "\n",
    "df = df.dropna()\n",
    "\n",
    "df"
   ]
  },
  {
   "attachments": {},
   "cell_type": "markdown",
   "metadata": {},
   "source": [
    "# 儲存資料"
   ]
  },
  {
   "cell_type": "code",
   "execution_count": 7,
   "metadata": {},
   "outputs": [],
   "source": [
    "df.to_csv('../data/btc_usdt_1h.csv', index=False)"
   ]
  },
  {
   "attachments": {},
   "cell_type": "markdown",
   "metadata": {},
   "source": [
    "# 分割成X、y"
   ]
  },
  {
   "cell_type": "code",
   "execution_count": 8,
   "metadata": {},
   "outputs": [
    {
     "name": "stderr",
     "output_type": "stream",
     "text": [
      "/var/folders/53/7nrg8r4x06v4f93ty4vc4yzc0000gn/T/ipykernel_12116/4133839670.py:8: UserWarning: Creating a tensor from a list of numpy.ndarrays is extremely slow. Please consider converting the list to a single numpy.ndarray with numpy.array() before converting to a tensor. (Triggered internally at /Users/runner/work/pytorch/pytorch/pytorch/torch/csrc/utils/tensor_new.cpp:233.)\n",
      "  X = torch.tensor(X, dtype=torch.float32)\n"
     ]
    }
   ],
   "source": [
    "X,y = list(),list()\n",
    "ref_bar = 10\n",
    "\n",
    "for i in range(len(df)-ref_bar):\n",
    "    X.append(df.iloc[i:i+ref_bar, 1:11].values) # i to i+ref_bar-1\n",
    "    y.append(df.iloc[i+ref_bar-1, 11:13].values) # i+ref_bar-1\n",
    "\n",
    "X = torch.tensor(X, dtype=torch.float32)\n",
    "y = torch.tensor(y, dtype=torch.float32)"
   ]
  },
  {
   "cell_type": "code",
   "execution_count": 9,
   "metadata": {},
   "outputs": [
    {
     "name": "stdout",
     "output_type": "stream",
     "text": [
      "X shape: torch.Size([17956, 10, 10]) , y shape: torch.Size([17956, 2])\n"
     ]
    }
   ],
   "source": [
    "print(f\"X shape: {X.shape} , y shape: {y.shape}\")"
   ]
  },
  {
   "cell_type": "code",
   "execution_count": 10,
   "metadata": {},
   "outputs": [
    {
     "data": {
      "text/plain": [
       "tensor([[ 7.1536e+03,  7.1650e+03,  7.1354e+03,  7.1620e+03,  8.4000e+02,\n",
       "          4.6654e+01, -1.8773e+01, -1.0853e+03, -3.5191e+01,  5.9893e-03],\n",
       "        [ 7.1622e+03,  7.1800e+03,  7.1533e+03,  7.1618e+03,  1.4462e+03,\n",
       "          4.6613e+01, -1.7585e+01, -2.5315e+03, -4.3228e+00,  1.2036e-03],\n",
       "        [ 7.1619e+03,  7.1687e+03,  7.1390e+03,  7.1398e+03,  7.6116e+02,\n",
       "          4.1760e+01, -1.8212e+01, -3.2927e+03, -3.2074e+01, -4.0490e-05],\n",
       "        [ 7.1397e+03,  7.1634e+03,  7.1390e+03,  7.1583e+03,  7.9403e+02,\n",
       "          4.6769e+01, -1.7020e+01, -2.4986e+03, -1.1449e+01, -3.0942e-03],\n",
       "        [ 7.1589e+03,  7.1634e+03,  7.1074e+03,  7.1311e+03,  1.5663e+03,\n",
       "          4.1175e+01, -1.8057e+01, -4.0649e+03, -6.9799e+01,  2.6794e-03],\n",
       "        [ 7.1312e+03,  7.1571e+03,  7.1223e+03,  7.1356e+03,  9.5630e+02,\n",
       "          4.2389e+01, -1.8310e+01, -3.1086e+03, -4.6120e+01, -3.8665e-03],\n",
       "        [ 7.1356e+03,  7.1520e+03,  7.1200e+03,  7.1310e+03,  8.6243e+02,\n",
       "          4.1433e+01, -1.8667e+01, -3.9710e+03, -5.9638e+01,  6.1841e-04],\n",
       "        [ 7.1304e+03,  7.1469e+03,  7.0200e+03,  7.0523e+03,  3.6045e+03,\n",
       "          2.9291e+01, -2.5009e+01, -7.5755e+03, -3.3648e+02, -7.3154e-04],\n",
       "        [ 7.0523e+03,  7.0531e+03,  6.9247e+03,  6.9700e+03,  6.1838e+03,\n",
       "          2.2021e+01, -3.6256e+01, -1.3759e+04, -3.2975e+02, -1.0946e-02],\n",
       "        [ 6.9700e+03,  6.9897e+03,  6.9500e+03,  6.9740e+03,  1.5136e+03,\n",
       "          2.3016e+01, -4.4338e+01, -1.2246e+04, -2.1172e+02, -1.1667e-02]])"
      ]
     },
     "execution_count": 10,
     "metadata": {},
     "output_type": "execute_result"
    }
   ],
   "source": [
    "X[0]"
   ]
  },
  {
   "attachments": {},
   "cell_type": "markdown",
   "metadata": {},
   "source": [
    "# 建立資料集類別\n",
    "\n",
    "- 要繼承torch.utils.data.Dataset"
   ]
  },
  {
   "cell_type": "code",
   "execution_count": null,
   "metadata": {},
   "outputs": [],
   "source": [
    "class MyDataset(Dataset):\n",
    "    def __init__(self, X, y):\n",
    "        self.X = X\n",
    "        self.y = y\n",
    "    def __len__(self):\n",
    "        return len(self.X)\n",
    "    def __getitem__(self, idx):\n",
    "        return self.X[idx], self.y[idx]"
   ]
  },
  {
   "attachments": {},
   "cell_type": "markdown",
   "metadata": {},
   "source": [
    "# 建立模型\n",
    "\n",
    "- 要繼承torch.nn.Module"
   ]
  },
  {
   "cell_type": "code",
   "execution_count": null,
   "metadata": {},
   "outputs": [],
   "source": [
    "class LSTMClassifier(nn.Module):\n",
    "    def __init__(self, input_size, hidden_size, num_layers, num_classes):\n",
    "        super(LSTMClassifier, self).__init__()\n",
    "        self.hidden_size = hidden_size\n",
    "        self.num_layers = num_layers\n",
    "        self.lstm = nn.LSTM(input_size, hidden_size, num_layers, batch_first=True)\n",
    "        #input_size => input feature size\n",
    "        #hidden_size => hidden state size (number of neurons)\n",
    "        #num_layers => number of layers\n",
    "        #batch_first => True: (batch, seq, feature) False: (seq, batch, feature)\n",
    "        self.fc = nn.Linear(hidden_size, num_classes) # fc = fully connected\n",
    "        self.device = torch.device('cuda' if torch.cuda.is_available() else 'cpu')\n",
    "    def forward(self, x):# x 是\n",
    "        if self.device == torch.device('cuda'):\n",
    "            h0 = torch.zeros(self.num_layers, x.size(0), self.hidden_size).cuda()\n",
    "            c0 = torch.zeros(self.num_layers, x.size(0), self.hidden_size).cuda()\n",
    "        else:\n",
    "            h0 = torch.zeros(self.num_layers, x.size(0), self.hidden_size)\n",
    "            c0 = torch.zeros(self.num_layers, x.size(0), self.hidden_size)\n",
    "        out, _ = self.lstm(x, (h0, c0))\n",
    "        out = self.fc(out[:, -1, :])\n",
    "        return out\n"
   ]
  },
  {
   "attachments": {},
   "cell_type": "markdown",
   "metadata": {},
   "source": [
    "## Note\n",
    "\n",
    "1) model\n",
    "    - `__init__`: define [layers](https://pytorch.org/docs/stable/nn.html)\n",
    "    - forward: forward pass -> compute prediction\n",
    "2) loss and optimizer\n",
    "    - lr: learning rate [default=0.001]\n",
    "    - momentum: momentum for optimizer [default=0.9]\n",
    "    - criterion: loss function [in torch.nn] eg.nn.BCELoss()\n",
    "    - optimizer: optimizer [in torch.optim] eg.torch.optim.SGD()\n",
    "        - eg. optimizer = torch.optim.SGD(model.parameters(), lr=lr, momentum=momentum)\n",
    "3) training loop\n",
    "    - forward pass: compute prediction and loss\n",
    "\n",
    "        ```python\n",
    "        output = model(data)\n",
    "        loss = criterion(output, target)\n",
    "        ```\n",
    "        \n",
    "    - backward pass: loss.backward()\n",
    "    - update weights: optimizer.step()\n",
    "    - zero the gradients: optimizer.zero_grad()"
   ]
  },
  {
   "attachments": {},
   "cell_type": "markdown",
   "metadata": {},
   "source": [
    "# TODO\n",
    "\n",
    "- 資料集切割\n",
    "    - train, valid, test\n",
    "- 寫訓練方法\n",
    "    - using dataloader\n",
    "        - batch and epoch\n",
    "- 寫驗證方法\n",
    "    - using model.eval()\n"
   ]
  },
  {
   "cell_type": "code",
   "execution_count": null,
   "metadata": {},
   "outputs": [],
   "source": [
    "def train(model,opt,loss,x,y,eps):\n",
    "    for Epoch in range(eps):\n",
    "        y_pred = model(x)\n",
    "        loss_value = loss(y_pred, y)\n",
    "        opt.zero_grad()\n",
    "        loss_value.backward()\n",
    "        opt.step()\n",
    "        if Epoch % 100 == 0:\n",
    "            print('Epoch: {} | Loss: {:.4f}'.format(Epoch, loss_value.item()))"
   ]
  },
  {
   "cell_type": "code",
   "execution_count": null,
   "metadata": {},
   "outputs": [],
   "source": [
    "model = LSTMClassifier(input_size=10, hidden_size=64, num_layers=2, num_classes=2)"
   ]
  },
  {
   "cell_type": "code",
   "execution_count": null,
   "metadata": {},
   "outputs": [],
   "source": []
  }
 ],
 "metadata": {
  "kernelspec": {
   "display_name": "Python 3",
   "language": "python",
   "name": "python3"
  },
  "language_info": {
   "codemirror_mode": {
    "name": "ipython",
    "version": 3
   },
   "file_extension": ".py",
   "mimetype": "text/x-python",
   "name": "python",
   "nbconvert_exporter": "python",
   "pygments_lexer": "ipython3",
   "version": "3.10.9"
  },
  "orig_nbformat": 4,
  "vscode": {
   "interpreter": {
    "hash": "aee8b7b246df8f9039afb4144a1f6fd8d2ca17a180786b69acc140d282b71a49"
   }
  }
 },
 "nbformat": 4,
 "nbformat_minor": 2
}
