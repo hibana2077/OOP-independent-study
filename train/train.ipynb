{
  "cells": [
    {
      "cell_type": "markdown",
      "metadata": {
        "id": "6epq6_O1vvia"
      },
      "source": [
        "[![GitHub](https://img.shields.io/badge/Github-hibana2077-blue?style=plastic-square&logo=github)](https://github.com/hibana2077)\n",
        "[![Colab](https://img.shields.io/badge/Colab-Open%20in%20Colab-blue?style=plastic-square&logo=googlecolab)](https://colab.research.google.com/github/hibana2077/hibana2077/blob/master/train/train.ipynb)"
      ]
    },
    {
      "cell_type": "markdown",
      "metadata": {
        "id": "t38eQJt0vvid"
      },
      "source": [
        "如果要訓練這份資料集會需要安裝talib套件，請參考[這裡](https://www.lfd.uci.edu/~gohlke/pythonlibs/#ta-lib)下載對應的版本，並使用pip安裝。"
      ]
    },
    {
      "cell_type": "code",
      "execution_count": 19,
      "metadata": {
        "colab": {
          "base_uri": "https://localhost:8080/"
        },
        "id": "oWr_Ksvyv3Ro",
        "outputId": "a1ee08c2-55e0-4e05-a5e3-39430fde8c45"
      },
      "outputs": [],
      "source": [
        "# !pip install ccxt"
      ]
    },
    {
      "cell_type": "code",
      "execution_count": 20,
      "metadata": {
        "colab": {
          "base_uri": "https://localhost:8080/"
        },
        "id": "GSuyiZlLwOO5",
        "outputId": "3d1ec1a2-6001-4306-8424-1923934b2884"
      },
      "outputs": [],
      "source": [
        "# !wget http://prdownloads.sourceforge.net/ta-lib/ta-lib-0.4.0-src.tar.gz\n",
        "# !tar -xzvf ta-lib-0.4.0-src.tar.gz\n",
        "# %cd ta-lib\n",
        "# !./configure --prefix=/usr\n",
        "# !make\n",
        "# !make install\n",
        "# !pip install Ta-Lib"
      ]
    },
    {
      "cell_type": "code",
      "execution_count": 1,
      "metadata": {
        "colab": {
          "base_uri": "https://localhost:8080/",
          "height": 387
        },
        "id": "0dEqkDzevvie",
        "outputId": "4ef1a61d-0ce2-40b5-8102-d6a51827ef87"
      },
      "outputs": [],
      "source": [
        "from ccxt import binance\n",
        "from torch.utils.data import Dataset, DataLoader\n",
        "from torch import nn\n",
        "from torch import optim\n",
        "from torch.nn import functional as F\n",
        "from talib import abstract\n",
        "import pandas as pd\n",
        "import numpy as np\n",
        "import torch\n",
        "import os\n",
        "import sys"
      ]
    },
    {
      "cell_type": "markdown",
      "metadata": {
        "id": "H59nhzEFvvif"
      },
      "source": [
        "# 環境整理"
      ]
    },
    {
      "cell_type": "code",
      "execution_count": null,
      "metadata": {
        "id": "Zjpnlfgcvvif"
      },
      "outputs": [],
      "source": [
        "ls_dir = os.listdir(path=\"..\")\n",
        "if \"data\" not in ls_dir:\n",
        "    os.mkdir(path=\"../data\")\n",
        "if \"model\" not in ls_dir:\n",
        "    os.mkdir(path=\"../model\")\n",
        "if \"data\" in ls_dir:\n",
        "    ls_dir = os.listdir(path=\"../data\")\n",
        "    #remove all files in data folder\n",
        "    for file in ls_dir:os.remove(path=\"../data/\"+file)"
      ]
    },
    {
      "cell_type": "markdown",
      "metadata": {
        "id": "zG1FGxMUvvig"
      },
      "source": [
        "# 下載資料集"
      ]
    },
    {
      "cell_type": "code",
      "execution_count": null,
      "metadata": {
        "id": "29klRj8yvvig"
      },
      "outputs": [],
      "source": [
        "# Download data\n",
        "\n",
        "binance = binance()\n",
        "symbol = 'ETH/USDT'\n",
        "timeframe = '15m'\n",
        "file_name = f\"../data/{symbol.replace('/', '_')}_{timeframe}.csv\"\n",
        "start = binance.parse8601('2022-01-01T00:00:00Z')\n",
        "end = binance.parse8601('2023-01-01T00:00:00Z')\n",
        "cnt_time = start\n",
        "data = []\n",
        "while cnt_time < end:\n",
        "    ohlcv = binance.fetch_ohlcv(symbol, timeframe, cnt_time)\n",
        "    data += ohlcv\n",
        "    cnt_time = ohlcv[-1][0] + 900000 \n",
        "df = pd.DataFrame(data, columns=['time', 'open', 'high', 'low', 'close', 'volume'])\n",
        "df['time'] = pd.to_datetime(df['time'], unit='ms')\n",
        "df.to_csv(file_name, index=False)"
      ]
    },
    {
      "cell_type": "markdown",
      "metadata": {
        "id": "XhcDY9sbvvih"
      },
      "source": [
        "# 讀取資料集"
      ]
    },
    {
      "cell_type": "code",
      "execution_count": 2,
      "metadata": {
        "id": "sT6TVXPQvvih"
      },
      "outputs": [],
      "source": [
        "#如果有下载好的數據，可以直接讀取\n",
        "data_file = '../data/ETH_USDT_15m.csv' #-> 可以自行更換\n",
        "df = pd.read_csv(data_file)"
      ]
    },
    {
      "cell_type": "markdown",
      "metadata": {
        "id": "Zz939phEvvih"
      },
      "source": [
        "# 數據處理\n",
        "\n",
        "- 計算RSI\n",
        "- 計算MACD\n",
        "- 計算OBV\n",
        "- 計算CCI\n",
        "- 改成變化百分比 -> 標準化\n",
        "\n",
        "關於技術指標的說明可以參考[這裡](https://www.investopedia.com/terms/t/technicalindicator.asp)，或是google。"
      ]
    },
    {
      "cell_type": "code",
      "execution_count": null,
      "metadata": {
        "id": "cWEqDOiVvvih"
      },
      "outputs": [],
      "source": [
        "df['RSI'] = abstract.RSI(df, timeperiod=14)\n",
        "df['MACD'] = abstract.MACD(df, fastperiod=12, slowperiod=26, signalperiod=9)['macd'] #只取MACD\n",
        "df['OBV'] = abstract.OBV(df, timeperiod=14)\n",
        "df['CCI'] = abstract.CCI(df, timeperiod=14)\n",
        "df['ATR'] = abstract.ATR(df, timeperiod=14)\n",
        "df['ADX'] = abstract.ADX(df, timeperiod=14)\n",
        "df['MFI'] = abstract.MFI(df, timeperiod=14)\n",
        "df['CLOSE_percent'] = df['close'].pct_change()\n",
        "#由於RSI MACD OBV CCI 他們已經是標準化的，所以不需要再標準化"
      ]
    },
    {
      "cell_type": "markdown",
      "metadata": {
        "id": "RDPm_zt2vvii"
      },
      "source": [
        "# 設定買賣點\n",
        "\n",
        "將買賣點分為下跌、上漲、不動，並將數據轉成one-hot編碼。"
      ]
    },
    {
      "cell_type": "code",
      "execution_count": null,
      "metadata": {
        "id": "kQ0vSu6Yvvii"
      },
      "outputs": [],
      "source": [
        "df['UP'] = df['CLOSE_percent'].apply(lambda x: 1 if x > 0 else 0)\n",
        "df['DOWN'] = df['CLOSE_percent'].apply(lambda x: 1 if x < 0 else 0)\n",
        "df['UP'] = df['UP'].shift(-1) #shift UP DOWN 一個單位，因為我們要預測的是下一個時間點的漲跌\n",
        "df['DOWN'] = df['DOWN'].shift(-1)\n",
        "\n",
        "df = df.dropna()\n"
      ]
    },
    {
      "cell_type": "code",
      "execution_count": 3,
      "metadata": {
        "id": "k77OIN-dvvii"
      },
      "outputs": [
        {
          "data": {
            "text/html": [
              "<div>\n",
              "<style scoped>\n",
              "    .dataframe tbody tr th:only-of-type {\n",
              "        vertical-align: middle;\n",
              "    }\n",
              "\n",
              "    .dataframe tbody tr th {\n",
              "        vertical-align: top;\n",
              "    }\n",
              "\n",
              "    .dataframe thead th {\n",
              "        text-align: right;\n",
              "    }\n",
              "</style>\n",
              "<table border=\"1\" class=\"dataframe\">\n",
              "  <thead>\n",
              "    <tr style=\"text-align: right;\">\n",
              "      <th></th>\n",
              "      <th>time</th>\n",
              "      <th>open</th>\n",
              "      <th>high</th>\n",
              "      <th>low</th>\n",
              "      <th>close</th>\n",
              "      <th>volume</th>\n",
              "      <th>RSI</th>\n",
              "      <th>MACD</th>\n",
              "      <th>OBV</th>\n",
              "      <th>CCI</th>\n",
              "      <th>ATR</th>\n",
              "      <th>ADX</th>\n",
              "      <th>MFI</th>\n",
              "      <th>UP</th>\n",
              "      <th>DOWN</th>\n",
              "    </tr>\n",
              "  </thead>\n",
              "  <tbody>\n",
              "    <tr>\n",
              "      <th>0</th>\n",
              "      <td>2022-01-01 08:15:00</td>\n",
              "      <td>0.946260</td>\n",
              "      <td>0.941543</td>\n",
              "      <td>0.947608</td>\n",
              "      <td>0.947727</td>\n",
              "      <td>0.002398</td>\n",
              "      <td>0.534568</td>\n",
              "      <td>0.533569</td>\n",
              "      <td>0.888414</td>\n",
              "      <td>0.484903</td>\n",
              "      <td>0.205796</td>\n",
              "      <td>0.264040</td>\n",
              "      <td>0.507308</td>\n",
              "      <td>1.0</td>\n",
              "      <td>0.0</td>\n",
              "    </tr>\n",
              "    <tr>\n",
              "      <th>1</th>\n",
              "      <td>2022-01-01 08:30:00</td>\n",
              "      <td>0.947858</td>\n",
              "      <td>0.941063</td>\n",
              "      <td>0.947614</td>\n",
              "      <td>0.947993</td>\n",
              "      <td>0.002854</td>\n",
              "      <td>0.539149</td>\n",
              "      <td>0.536218</td>\n",
              "      <td>0.888673</td>\n",
              "      <td>0.477682</td>\n",
              "      <td>0.199213</td>\n",
              "      <td>0.258053</td>\n",
              "      <td>0.523490</td>\n",
              "      <td>0.0</td>\n",
              "      <td>1.0</td>\n",
              "    </tr>\n",
              "    <tr>\n",
              "      <th>2</th>\n",
              "      <td>2022-01-01 08:45:00</td>\n",
              "      <td>0.947989</td>\n",
              "      <td>0.944291</td>\n",
              "      <td>0.949045</td>\n",
              "      <td>0.947704</td>\n",
              "      <td>0.003717</td>\n",
              "      <td>0.532898</td>\n",
              "      <td>0.537880</td>\n",
              "      <td>0.888362</td>\n",
              "      <td>0.515845</td>\n",
              "      <td>0.198994</td>\n",
              "      <td>0.261002</td>\n",
              "      <td>0.447707</td>\n",
              "      <td>1.0</td>\n",
              "      <td>0.0</td>\n",
              "    </tr>\n",
              "    <tr>\n",
              "      <th>3</th>\n",
              "      <td>2022-01-01 09:00:00</td>\n",
              "      <td>0.947617</td>\n",
              "      <td>0.943009</td>\n",
              "      <td>0.947648</td>\n",
              "      <td>0.950474</td>\n",
              "      <td>0.004672</td>\n",
              "      <td>0.582682</td>\n",
              "      <td>0.544218</td>\n",
              "      <td>0.888731</td>\n",
              "      <td>0.538501</td>\n",
              "      <td>0.199162</td>\n",
              "      <td>0.257649</td>\n",
              "      <td>0.416577</td>\n",
              "      <td>0.0</td>\n",
              "      <td>1.0</td>\n",
              "    </tr>\n",
              "    <tr>\n",
              "      <th>4</th>\n",
              "      <td>2022-01-01 09:15:00</td>\n",
              "      <td>0.950474</td>\n",
              "      <td>0.942986</td>\n",
              "      <td>0.949239</td>\n",
              "      <td>0.948076</td>\n",
              "      <td>0.003983</td>\n",
              "      <td>0.529185</td>\n",
              "      <td>0.544908</td>\n",
              "      <td>0.888403</td>\n",
              "      <td>0.543989</td>\n",
              "      <td>0.194037</td>\n",
              "      <td>0.254536</td>\n",
              "      <td>0.411309</td>\n",
              "      <td>0.0</td>\n",
              "      <td>1.0</td>\n",
              "    </tr>\n",
              "    <tr>\n",
              "      <th>...</th>\n",
              "      <td>...</td>\n",
              "      <td>...</td>\n",
              "      <td>...</td>\n",
              "      <td>...</td>\n",
              "      <td>...</td>\n",
              "      <td>...</td>\n",
              "      <td>...</td>\n",
              "      <td>...</td>\n",
              "      <td>...</td>\n",
              "      <td>...</td>\n",
              "      <td>...</td>\n",
              "      <td>...</td>\n",
              "      <td>...</td>\n",
              "      <td>...</td>\n",
              "      <td>...</td>\n",
              "    </tr>\n",
              "    <tr>\n",
              "      <th>35461</th>\n",
              "      <td>2023-01-05 17:30:00</td>\n",
              "      <td>0.117445</td>\n",
              "      <td>0.114930</td>\n",
              "      <td>0.122333</td>\n",
              "      <td>0.117112</td>\n",
              "      <td>0.003971</td>\n",
              "      <td>0.418599</td>\n",
              "      <td>0.539354</td>\n",
              "      <td>0.310202</td>\n",
              "      <td>0.447685</td>\n",
              "      <td>0.026181</td>\n",
              "      <td>0.249130</td>\n",
              "      <td>0.448492</td>\n",
              "      <td>0.0</td>\n",
              "      <td>1.0</td>\n",
              "    </tr>\n",
              "    <tr>\n",
              "      <th>35462</th>\n",
              "      <td>2023-01-05 17:45:00</td>\n",
              "      <td>0.117109</td>\n",
              "      <td>0.114453</td>\n",
              "      <td>0.122176</td>\n",
              "      <td>0.117042</td>\n",
              "      <td>0.002877</td>\n",
              "      <td>0.412897</td>\n",
              "      <td>0.538768</td>\n",
              "      <td>0.309941</td>\n",
              "      <td>0.414423</td>\n",
              "      <td>0.024402</td>\n",
              "      <td>0.253226</td>\n",
              "      <td>0.399756</td>\n",
              "      <td>1.0</td>\n",
              "      <td>0.0</td>\n",
              "    </tr>\n",
              "    <tr>\n",
              "      <th>35463</th>\n",
              "      <td>2023-01-05 18:00:00</td>\n",
              "      <td>0.117042</td>\n",
              "      <td>0.114643</td>\n",
              "      <td>0.122079</td>\n",
              "      <td>0.117156</td>\n",
              "      <td>0.005562</td>\n",
              "      <td>0.425684</td>\n",
              "      <td>0.538585</td>\n",
              "      <td>0.310363</td>\n",
              "      <td>0.412165</td>\n",
              "      <td>0.023690</td>\n",
              "      <td>0.250799</td>\n",
              "      <td>0.579382</td>\n",
              "      <td>1.0</td>\n",
              "      <td>0.0</td>\n",
              "    </tr>\n",
              "    <tr>\n",
              "      <th>35464</th>\n",
              "      <td>2023-01-05 18:15:00</td>\n",
              "      <td>0.117156</td>\n",
              "      <td>0.115538</td>\n",
              "      <td>0.122400</td>\n",
              "      <td>0.118251</td>\n",
              "      <td>0.015938</td>\n",
              "      <td>0.532847</td>\n",
              "      <td>0.540475</td>\n",
              "      <td>0.311407</td>\n",
              "      <td>0.564113</td>\n",
              "      <td>0.024910</td>\n",
              "      <td>0.227466</td>\n",
              "      <td>0.557552</td>\n",
              "      <td>0.0</td>\n",
              "      <td>1.0</td>\n",
              "    </tr>\n",
              "    <tr>\n",
              "      <th>35465</th>\n",
              "      <td>2023-01-05 18:30:00</td>\n",
              "      <td>0.118247</td>\n",
              "      <td>0.115655</td>\n",
              "      <td>0.123256</td>\n",
              "      <td>0.118063</td>\n",
              "      <td>0.004178</td>\n",
              "      <td>0.514390</td>\n",
              "      <td>0.541673</td>\n",
              "      <td>0.311068</td>\n",
              "      <td>0.628770</td>\n",
              "      <td>0.023626</td>\n",
              "      <td>0.208427</td>\n",
              "      <td>0.414513</td>\n",
              "      <td>1.0</td>\n",
              "      <td>0.0</td>\n",
              "    </tr>\n",
              "  </tbody>\n",
              "</table>\n",
              "<p>35466 rows × 15 columns</p>\n",
              "</div>"
            ],
            "text/plain": [
              "                      time      open      high       low     close    volume  \\\n",
              "0      2022-01-01 08:15:00  0.946260  0.941543  0.947608  0.947727  0.002398   \n",
              "1      2022-01-01 08:30:00  0.947858  0.941063  0.947614  0.947993  0.002854   \n",
              "2      2022-01-01 08:45:00  0.947989  0.944291  0.949045  0.947704  0.003717   \n",
              "3      2022-01-01 09:00:00  0.947617  0.943009  0.947648  0.950474  0.004672   \n",
              "4      2022-01-01 09:15:00  0.950474  0.942986  0.949239  0.948076  0.003983   \n",
              "...                    ...       ...       ...       ...       ...       ...   \n",
              "35461  2023-01-05 17:30:00  0.117445  0.114930  0.122333  0.117112  0.003971   \n",
              "35462  2023-01-05 17:45:00  0.117109  0.114453  0.122176  0.117042  0.002877   \n",
              "35463  2023-01-05 18:00:00  0.117042  0.114643  0.122079  0.117156  0.005562   \n",
              "35464  2023-01-05 18:15:00  0.117156  0.115538  0.122400  0.118251  0.015938   \n",
              "35465  2023-01-05 18:30:00  0.118247  0.115655  0.123256  0.118063  0.004178   \n",
              "\n",
              "            RSI      MACD       OBV       CCI       ATR       ADX       MFI  \\\n",
              "0      0.534568  0.533569  0.888414  0.484903  0.205796  0.264040  0.507308   \n",
              "1      0.539149  0.536218  0.888673  0.477682  0.199213  0.258053  0.523490   \n",
              "2      0.532898  0.537880  0.888362  0.515845  0.198994  0.261002  0.447707   \n",
              "3      0.582682  0.544218  0.888731  0.538501  0.199162  0.257649  0.416577   \n",
              "4      0.529185  0.544908  0.888403  0.543989  0.194037  0.254536  0.411309   \n",
              "...         ...       ...       ...       ...       ...       ...       ...   \n",
              "35461  0.418599  0.539354  0.310202  0.447685  0.026181  0.249130  0.448492   \n",
              "35462  0.412897  0.538768  0.309941  0.414423  0.024402  0.253226  0.399756   \n",
              "35463  0.425684  0.538585  0.310363  0.412165  0.023690  0.250799  0.579382   \n",
              "35464  0.532847  0.540475  0.311407  0.564113  0.024910  0.227466  0.557552   \n",
              "35465  0.514390  0.541673  0.311068  0.628770  0.023626  0.208427  0.414513   \n",
              "\n",
              "        UP  DOWN  \n",
              "0      1.0   0.0  \n",
              "1      0.0   1.0  \n",
              "2      1.0   0.0  \n",
              "3      0.0   1.0  \n",
              "4      0.0   1.0  \n",
              "...    ...   ...  \n",
              "35461  0.0   1.0  \n",
              "35462  1.0   0.0  \n",
              "35463  1.0   0.0  \n",
              "35464  0.0   1.0  \n",
              "35465  1.0   0.0  \n",
              "\n",
              "[35466 rows x 15 columns]"
            ]
          },
          "execution_count": 3,
          "metadata": {},
          "output_type": "execute_result"
        }
      ],
      "source": [
        "df"
      ]
    },
    {
      "cell_type": "code",
      "execution_count": null,
      "metadata": {
        "id": "aTh7CyL-vvij"
      },
      "outputs": [
        {
          "name": "stderr",
          "output_type": "stream",
          "text": [
            "C:\\Users\\李軒豪\\AppData\\Local\\Temp\\ipykernel_36616\\1144569331.py:2: SettingWithCopyWarning: \n",
            "A value is trying to be set on a copy of a slice from a DataFrame.\n",
            "Try using .loc[row_indexer,col_indexer] = value instead\n",
            "\n",
            "See the caveats in the documentation: https://pandas.pydata.org/pandas-docs/stable/user_guide/indexing.html#returning-a-view-versus-a-copy\n",
            "  df['RSI'] = (df['RSI'] - df['RSI'].min()) / (df['RSI'].max() - df['RSI'].min())\n",
            "C:\\Users\\李軒豪\\AppData\\Local\\Temp\\ipykernel_36616\\1144569331.py:3: SettingWithCopyWarning: \n",
            "A value is trying to be set on a copy of a slice from a DataFrame.\n",
            "Try using .loc[row_indexer,col_indexer] = value instead\n",
            "\n",
            "See the caveats in the documentation: https://pandas.pydata.org/pandas-docs/stable/user_guide/indexing.html#returning-a-view-versus-a-copy\n",
            "  df['MACD'] = (df['MACD'] - df['MACD'].min()) / (df['MACD'].max() - df['MACD'].min())\n",
            "C:\\Users\\李軒豪\\AppData\\Local\\Temp\\ipykernel_36616\\1144569331.py:4: SettingWithCopyWarning: \n",
            "A value is trying to be set on a copy of a slice from a DataFrame.\n",
            "Try using .loc[row_indexer,col_indexer] = value instead\n",
            "\n",
            "See the caveats in the documentation: https://pandas.pydata.org/pandas-docs/stable/user_guide/indexing.html#returning-a-view-versus-a-copy\n",
            "  df['OBV'] = (df['OBV'] - df['OBV'].min()) / (df['OBV'].max() - df['OBV'].min())\n",
            "C:\\Users\\李軒豪\\AppData\\Local\\Temp\\ipykernel_36616\\1144569331.py:5: SettingWithCopyWarning: \n",
            "A value is trying to be set on a copy of a slice from a DataFrame.\n",
            "Try using .loc[row_indexer,col_indexer] = value instead\n",
            "\n",
            "See the caveats in the documentation: https://pandas.pydata.org/pandas-docs/stable/user_guide/indexing.html#returning-a-view-versus-a-copy\n",
            "  df['CCI'] = (df['CCI'] - df['CCI'].min()) / (df['CCI'].max() - df['CCI'].min())\n",
            "C:\\Users\\李軒豪\\AppData\\Local\\Temp\\ipykernel_36616\\1144569331.py:6: SettingWithCopyWarning: \n",
            "A value is trying to be set on a copy of a slice from a DataFrame.\n",
            "Try using .loc[row_indexer,col_indexer] = value instead\n",
            "\n",
            "See the caveats in the documentation: https://pandas.pydata.org/pandas-docs/stable/user_guide/indexing.html#returning-a-view-versus-a-copy\n",
            "  df['ATR'] = (df['ATR'] - df['ATR'].min()) / (df['ATR'].max() - df['ATR'].min())\n",
            "C:\\Users\\李軒豪\\AppData\\Local\\Temp\\ipykernel_36616\\1144569331.py:7: SettingWithCopyWarning: \n",
            "A value is trying to be set on a copy of a slice from a DataFrame.\n",
            "Try using .loc[row_indexer,col_indexer] = value instead\n",
            "\n",
            "See the caveats in the documentation: https://pandas.pydata.org/pandas-docs/stable/user_guide/indexing.html#returning-a-view-versus-a-copy\n",
            "  df['ADX'] = (df['ADX'] - df['ADX'].min()) / (df['ADX'].max() - df['ADX'].min())\n",
            "C:\\Users\\李軒豪\\AppData\\Local\\Temp\\ipykernel_36616\\1144569331.py:8: SettingWithCopyWarning: \n",
            "A value is trying to be set on a copy of a slice from a DataFrame.\n",
            "Try using .loc[row_indexer,col_indexer] = value instead\n",
            "\n",
            "See the caveats in the documentation: https://pandas.pydata.org/pandas-docs/stable/user_guide/indexing.html#returning-a-view-versus-a-copy\n",
            "  df['MFI'] = (df['MFI'] - df['MFI'].min()) / (df['MFI'].max() - df['MFI'].min())\n",
            "C:\\Users\\李軒豪\\AppData\\Local\\Temp\\ipykernel_36616\\1144569331.py:9: SettingWithCopyWarning: \n",
            "A value is trying to be set on a copy of a slice from a DataFrame.\n",
            "Try using .loc[row_indexer,col_indexer] = value instead\n",
            "\n",
            "See the caveats in the documentation: https://pandas.pydata.org/pandas-docs/stable/user_guide/indexing.html#returning-a-view-versus-a-copy\n",
            "  df['open'] = (df['open'] - df['open'].min()) / (df['open'].max() - df['open'].min())\n",
            "C:\\Users\\李軒豪\\AppData\\Local\\Temp\\ipykernel_36616\\1144569331.py:10: SettingWithCopyWarning: \n",
            "A value is trying to be set on a copy of a slice from a DataFrame.\n",
            "Try using .loc[row_indexer,col_indexer] = value instead\n",
            "\n",
            "See the caveats in the documentation: https://pandas.pydata.org/pandas-docs/stable/user_guide/indexing.html#returning-a-view-versus-a-copy\n",
            "  df['high'] = (df['high'] - df['high'].min()) / (df['high'].max() - df['high'].min())\n",
            "C:\\Users\\李軒豪\\AppData\\Local\\Temp\\ipykernel_36616\\1144569331.py:11: SettingWithCopyWarning: \n",
            "A value is trying to be set on a copy of a slice from a DataFrame.\n",
            "Try using .loc[row_indexer,col_indexer] = value instead\n",
            "\n",
            "See the caveats in the documentation: https://pandas.pydata.org/pandas-docs/stable/user_guide/indexing.html#returning-a-view-versus-a-copy\n",
            "  df['low'] = (df['low'] - df['low'].min()) / (df['low'].max() - df['low'].min())\n",
            "C:\\Users\\李軒豪\\AppData\\Local\\Temp\\ipykernel_36616\\1144569331.py:12: SettingWithCopyWarning: \n",
            "A value is trying to be set on a copy of a slice from a DataFrame.\n",
            "Try using .loc[row_indexer,col_indexer] = value instead\n",
            "\n",
            "See the caveats in the documentation: https://pandas.pydata.org/pandas-docs/stable/user_guide/indexing.html#returning-a-view-versus-a-copy\n",
            "  df['close'] = (df['close'] - df['close'].min()) / (df['close'].max() - df['close'].min())\n",
            "C:\\Users\\李軒豪\\AppData\\Local\\Temp\\ipykernel_36616\\1144569331.py:13: SettingWithCopyWarning: \n",
            "A value is trying to be set on a copy of a slice from a DataFrame.\n",
            "Try using .loc[row_indexer,col_indexer] = value instead\n",
            "\n",
            "See the caveats in the documentation: https://pandas.pydata.org/pandas-docs/stable/user_guide/indexing.html#returning-a-view-versus-a-copy\n",
            "  df['volume'] = (df['volume'] - df['volume'].min()) / (df['volume'].max() - df['volume'].min())\n"
          ]
        }
      ],
      "source": [
        "#正規化\n",
        "df['RSI'] = (df['RSI'] - df['RSI'].min()) / (df['RSI'].max() - df['RSI'].min())\n",
        "df['MACD'] = (df['MACD'] - df['MACD'].min()) / (df['MACD'].max() - df['MACD'].min())\n",
        "df['OBV'] = (df['OBV'] - df['OBV'].min()) / (df['OBV'].max() - df['OBV'].min())\n",
        "df['CCI'] = (df['CCI'] - df['CCI'].min()) / (df['CCI'].max() - df['CCI'].min())\n",
        "df['ATR'] = (df['ATR'] - df['ATR'].min()) / (df['ATR'].max() - df['ATR'].min())\n",
        "df['ADX'] = (df['ADX'] - df['ADX'].min()) / (df['ADX'].max() - df['ADX'].min())\n",
        "df['MFI'] = (df['MFI'] - df['MFI'].min()) / (df['MFI'].max() - df['MFI'].min())\n",
        "df['open'] = (df['open'] - df['open'].min()) / (df['open'].max() - df['open'].min())\n",
        "df['high'] = (df['high'] - df['high'].min()) / (df['high'].max() - df['high'].min())\n",
        "df['low'] = (df['low'] - df['low'].min()) / (df['low'].max() - df['low'].min())\n",
        "df['close'] = (df['close'] - df['close'].min()) / (df['close'].max() - df['close'].min())\n",
        "df['volume'] = (df['volume'] - df['volume'].min()) / (df['volume'].max() - df['volume'].min())"
      ]
    },
    {
      "cell_type": "code",
      "execution_count": null,
      "metadata": {},
      "outputs": [
        {
          "name": "stderr",
          "output_type": "stream",
          "text": [
            "C:\\Users\\李軒豪\\AppData\\Roaming\\Python\\Python310\\site-packages\\pandas\\core\\frame.py:4906: SettingWithCopyWarning: \n",
            "A value is trying to be set on a copy of a slice from a DataFrame\n",
            "\n",
            "See the caveats in the documentation: https://pandas.pydata.org/pandas-docs/stable/user_guide/indexing.html#returning-a-view-versus-a-copy\n",
            "  return super().drop(\n"
          ]
        }
      ],
      "source": [
        "df.drop(['CLOSE_percent'], axis=1, inplace=True)"
      ]
    },
    {
      "cell_type": "code",
      "execution_count": 4,
      "metadata": {
        "id": "UYO1j5O-vvij"
      },
      "outputs": [
        {
          "data": {
            "text/html": [
              "<div>\n",
              "<style scoped>\n",
              "    .dataframe tbody tr th:only-of-type {\n",
              "        vertical-align: middle;\n",
              "    }\n",
              "\n",
              "    .dataframe tbody tr th {\n",
              "        vertical-align: top;\n",
              "    }\n",
              "\n",
              "    .dataframe thead th {\n",
              "        text-align: right;\n",
              "    }\n",
              "</style>\n",
              "<table border=\"1\" class=\"dataframe\">\n",
              "  <thead>\n",
              "    <tr style=\"text-align: right;\">\n",
              "      <th></th>\n",
              "      <th>time</th>\n",
              "      <th>open</th>\n",
              "      <th>high</th>\n",
              "      <th>low</th>\n",
              "      <th>close</th>\n",
              "      <th>volume</th>\n",
              "      <th>RSI</th>\n",
              "      <th>MACD</th>\n",
              "      <th>OBV</th>\n",
              "      <th>CCI</th>\n",
              "      <th>ATR</th>\n",
              "      <th>ADX</th>\n",
              "      <th>MFI</th>\n",
              "      <th>UP</th>\n",
              "      <th>DOWN</th>\n",
              "    </tr>\n",
              "  </thead>\n",
              "  <tbody>\n",
              "    <tr>\n",
              "      <th>0</th>\n",
              "      <td>2022-01-01 08:15:00</td>\n",
              "      <td>0.946260</td>\n",
              "      <td>0.941543</td>\n",
              "      <td>0.947608</td>\n",
              "      <td>0.947727</td>\n",
              "      <td>0.002398</td>\n",
              "      <td>0.534568</td>\n",
              "      <td>0.533569</td>\n",
              "      <td>0.888414</td>\n",
              "      <td>0.484903</td>\n",
              "      <td>0.205796</td>\n",
              "      <td>0.264040</td>\n",
              "      <td>0.507308</td>\n",
              "      <td>1.0</td>\n",
              "      <td>0.0</td>\n",
              "    </tr>\n",
              "    <tr>\n",
              "      <th>1</th>\n",
              "      <td>2022-01-01 08:30:00</td>\n",
              "      <td>0.947858</td>\n",
              "      <td>0.941063</td>\n",
              "      <td>0.947614</td>\n",
              "      <td>0.947993</td>\n",
              "      <td>0.002854</td>\n",
              "      <td>0.539149</td>\n",
              "      <td>0.536218</td>\n",
              "      <td>0.888673</td>\n",
              "      <td>0.477682</td>\n",
              "      <td>0.199213</td>\n",
              "      <td>0.258053</td>\n",
              "      <td>0.523490</td>\n",
              "      <td>0.0</td>\n",
              "      <td>1.0</td>\n",
              "    </tr>\n",
              "    <tr>\n",
              "      <th>2</th>\n",
              "      <td>2022-01-01 08:45:00</td>\n",
              "      <td>0.947989</td>\n",
              "      <td>0.944291</td>\n",
              "      <td>0.949045</td>\n",
              "      <td>0.947704</td>\n",
              "      <td>0.003717</td>\n",
              "      <td>0.532898</td>\n",
              "      <td>0.537880</td>\n",
              "      <td>0.888362</td>\n",
              "      <td>0.515845</td>\n",
              "      <td>0.198994</td>\n",
              "      <td>0.261002</td>\n",
              "      <td>0.447707</td>\n",
              "      <td>1.0</td>\n",
              "      <td>0.0</td>\n",
              "    </tr>\n",
              "    <tr>\n",
              "      <th>3</th>\n",
              "      <td>2022-01-01 09:00:00</td>\n",
              "      <td>0.947617</td>\n",
              "      <td>0.943009</td>\n",
              "      <td>0.947648</td>\n",
              "      <td>0.950474</td>\n",
              "      <td>0.004672</td>\n",
              "      <td>0.582682</td>\n",
              "      <td>0.544218</td>\n",
              "      <td>0.888731</td>\n",
              "      <td>0.538501</td>\n",
              "      <td>0.199162</td>\n",
              "      <td>0.257649</td>\n",
              "      <td>0.416577</td>\n",
              "      <td>0.0</td>\n",
              "      <td>1.0</td>\n",
              "    </tr>\n",
              "    <tr>\n",
              "      <th>4</th>\n",
              "      <td>2022-01-01 09:15:00</td>\n",
              "      <td>0.950474</td>\n",
              "      <td>0.942986</td>\n",
              "      <td>0.949239</td>\n",
              "      <td>0.948076</td>\n",
              "      <td>0.003983</td>\n",
              "      <td>0.529185</td>\n",
              "      <td>0.544908</td>\n",
              "      <td>0.888403</td>\n",
              "      <td>0.543989</td>\n",
              "      <td>0.194037</td>\n",
              "      <td>0.254536</td>\n",
              "      <td>0.411309</td>\n",
              "      <td>0.0</td>\n",
              "      <td>1.0</td>\n",
              "    </tr>\n",
              "    <tr>\n",
              "      <th>...</th>\n",
              "      <td>...</td>\n",
              "      <td>...</td>\n",
              "      <td>...</td>\n",
              "      <td>...</td>\n",
              "      <td>...</td>\n",
              "      <td>...</td>\n",
              "      <td>...</td>\n",
              "      <td>...</td>\n",
              "      <td>...</td>\n",
              "      <td>...</td>\n",
              "      <td>...</td>\n",
              "      <td>...</td>\n",
              "      <td>...</td>\n",
              "      <td>...</td>\n",
              "      <td>...</td>\n",
              "    </tr>\n",
              "    <tr>\n",
              "      <th>35461</th>\n",
              "      <td>2023-01-05 17:30:00</td>\n",
              "      <td>0.117445</td>\n",
              "      <td>0.114930</td>\n",
              "      <td>0.122333</td>\n",
              "      <td>0.117112</td>\n",
              "      <td>0.003971</td>\n",
              "      <td>0.418599</td>\n",
              "      <td>0.539354</td>\n",
              "      <td>0.310202</td>\n",
              "      <td>0.447685</td>\n",
              "      <td>0.026181</td>\n",
              "      <td>0.249130</td>\n",
              "      <td>0.448492</td>\n",
              "      <td>0.0</td>\n",
              "      <td>1.0</td>\n",
              "    </tr>\n",
              "    <tr>\n",
              "      <th>35462</th>\n",
              "      <td>2023-01-05 17:45:00</td>\n",
              "      <td>0.117109</td>\n",
              "      <td>0.114453</td>\n",
              "      <td>0.122176</td>\n",
              "      <td>0.117042</td>\n",
              "      <td>0.002877</td>\n",
              "      <td>0.412897</td>\n",
              "      <td>0.538768</td>\n",
              "      <td>0.309941</td>\n",
              "      <td>0.414423</td>\n",
              "      <td>0.024402</td>\n",
              "      <td>0.253226</td>\n",
              "      <td>0.399756</td>\n",
              "      <td>1.0</td>\n",
              "      <td>0.0</td>\n",
              "    </tr>\n",
              "    <tr>\n",
              "      <th>35463</th>\n",
              "      <td>2023-01-05 18:00:00</td>\n",
              "      <td>0.117042</td>\n",
              "      <td>0.114643</td>\n",
              "      <td>0.122079</td>\n",
              "      <td>0.117156</td>\n",
              "      <td>0.005562</td>\n",
              "      <td>0.425684</td>\n",
              "      <td>0.538585</td>\n",
              "      <td>0.310363</td>\n",
              "      <td>0.412165</td>\n",
              "      <td>0.023690</td>\n",
              "      <td>0.250799</td>\n",
              "      <td>0.579382</td>\n",
              "      <td>1.0</td>\n",
              "      <td>0.0</td>\n",
              "    </tr>\n",
              "    <tr>\n",
              "      <th>35464</th>\n",
              "      <td>2023-01-05 18:15:00</td>\n",
              "      <td>0.117156</td>\n",
              "      <td>0.115538</td>\n",
              "      <td>0.122400</td>\n",
              "      <td>0.118251</td>\n",
              "      <td>0.015938</td>\n",
              "      <td>0.532847</td>\n",
              "      <td>0.540475</td>\n",
              "      <td>0.311407</td>\n",
              "      <td>0.564113</td>\n",
              "      <td>0.024910</td>\n",
              "      <td>0.227466</td>\n",
              "      <td>0.557552</td>\n",
              "      <td>0.0</td>\n",
              "      <td>1.0</td>\n",
              "    </tr>\n",
              "    <tr>\n",
              "      <th>35465</th>\n",
              "      <td>2023-01-05 18:30:00</td>\n",
              "      <td>0.118247</td>\n",
              "      <td>0.115655</td>\n",
              "      <td>0.123256</td>\n",
              "      <td>0.118063</td>\n",
              "      <td>0.004178</td>\n",
              "      <td>0.514390</td>\n",
              "      <td>0.541673</td>\n",
              "      <td>0.311068</td>\n",
              "      <td>0.628770</td>\n",
              "      <td>0.023626</td>\n",
              "      <td>0.208427</td>\n",
              "      <td>0.414513</td>\n",
              "      <td>1.0</td>\n",
              "      <td>0.0</td>\n",
              "    </tr>\n",
              "  </tbody>\n",
              "</table>\n",
              "<p>35466 rows × 15 columns</p>\n",
              "</div>"
            ],
            "text/plain": [
              "                      time      open      high       low     close    volume  \\\n",
              "0      2022-01-01 08:15:00  0.946260  0.941543  0.947608  0.947727  0.002398   \n",
              "1      2022-01-01 08:30:00  0.947858  0.941063  0.947614  0.947993  0.002854   \n",
              "2      2022-01-01 08:45:00  0.947989  0.944291  0.949045  0.947704  0.003717   \n",
              "3      2022-01-01 09:00:00  0.947617  0.943009  0.947648  0.950474  0.004672   \n",
              "4      2022-01-01 09:15:00  0.950474  0.942986  0.949239  0.948076  0.003983   \n",
              "...                    ...       ...       ...       ...       ...       ...   \n",
              "35461  2023-01-05 17:30:00  0.117445  0.114930  0.122333  0.117112  0.003971   \n",
              "35462  2023-01-05 17:45:00  0.117109  0.114453  0.122176  0.117042  0.002877   \n",
              "35463  2023-01-05 18:00:00  0.117042  0.114643  0.122079  0.117156  0.005562   \n",
              "35464  2023-01-05 18:15:00  0.117156  0.115538  0.122400  0.118251  0.015938   \n",
              "35465  2023-01-05 18:30:00  0.118247  0.115655  0.123256  0.118063  0.004178   \n",
              "\n",
              "            RSI      MACD       OBV       CCI       ATR       ADX       MFI  \\\n",
              "0      0.534568  0.533569  0.888414  0.484903  0.205796  0.264040  0.507308   \n",
              "1      0.539149  0.536218  0.888673  0.477682  0.199213  0.258053  0.523490   \n",
              "2      0.532898  0.537880  0.888362  0.515845  0.198994  0.261002  0.447707   \n",
              "3      0.582682  0.544218  0.888731  0.538501  0.199162  0.257649  0.416577   \n",
              "4      0.529185  0.544908  0.888403  0.543989  0.194037  0.254536  0.411309   \n",
              "...         ...       ...       ...       ...       ...       ...       ...   \n",
              "35461  0.418599  0.539354  0.310202  0.447685  0.026181  0.249130  0.448492   \n",
              "35462  0.412897  0.538768  0.309941  0.414423  0.024402  0.253226  0.399756   \n",
              "35463  0.425684  0.538585  0.310363  0.412165  0.023690  0.250799  0.579382   \n",
              "35464  0.532847  0.540475  0.311407  0.564113  0.024910  0.227466  0.557552   \n",
              "35465  0.514390  0.541673  0.311068  0.628770  0.023626  0.208427  0.414513   \n",
              "\n",
              "        UP  DOWN  \n",
              "0      1.0   0.0  \n",
              "1      0.0   1.0  \n",
              "2      1.0   0.0  \n",
              "3      0.0   1.0  \n",
              "4      0.0   1.0  \n",
              "...    ...   ...  \n",
              "35461  0.0   1.0  \n",
              "35462  1.0   0.0  \n",
              "35463  1.0   0.0  \n",
              "35464  0.0   1.0  \n",
              "35465  1.0   0.0  \n",
              "\n",
              "[35466 rows x 15 columns]"
            ]
          },
          "execution_count": 4,
          "metadata": {},
          "output_type": "execute_result"
        }
      ],
      "source": [
        "df"
      ]
    },
    {
      "cell_type": "code",
      "execution_count": 4,
      "metadata": {
        "id": "fJySHQc1vvij"
      },
      "outputs": [
        {
          "data": {
            "text/plain": [
              "1.0    17743\n",
              "0.0    17723\n",
              "Name: UP, dtype: int64"
            ]
          },
          "execution_count": 4,
          "metadata": {},
          "output_type": "execute_result"
        }
      ],
      "source": [
        "df['UP'].value_counts()"
      ]
    },
    {
      "cell_type": "code",
      "execution_count": 5,
      "metadata": {
        "id": "assMge-pvvik"
      },
      "outputs": [
        {
          "data": {
            "text/plain": [
              "0.0    17775\n",
              "1.0    17691\n",
              "Name: DOWN, dtype: int64"
            ]
          },
          "execution_count": 5,
          "metadata": {},
          "output_type": "execute_result"
        }
      ],
      "source": [
        "df['DOWN'].value_counts()"
      ]
    },
    {
      "cell_type": "markdown",
      "metadata": {
        "id": "G30PhZn8vvik"
      },
      "source": [
        "看起來數據蠻平衡的"
      ]
    },
    {
      "cell_type": "markdown",
      "metadata": {
        "id": "PHhAI0s7vvik"
      },
      "source": [
        "# 儲存資料"
      ]
    },
    {
      "cell_type": "code",
      "execution_count": null,
      "metadata": {
        "id": "5G-LQyMFvvik"
      },
      "outputs": [],
      "source": [
        "df.to_csv(file_name, index=False)"
      ]
    },
    {
      "cell_type": "markdown",
      "metadata": {
        "id": "GGf37pdovvik"
      },
      "source": [
        "# 分割成X、y"
      ]
    },
    {
      "cell_type": "code",
      "execution_count": 5,
      "metadata": {
        "id": "J8yawScBvvik"
      },
      "outputs": [],
      "source": [
        "\n",
        "X,y = list(),list()\n",
        "\n",
        "X = df.iloc[:,1:-2].values\n",
        "y = df.iloc[:,-2:].values\n",
        "\n"
      ]
    },
    {
      "cell_type": "code",
      "execution_count": 6,
      "metadata": {
        "id": "nVAjEG8Nvvik"
      },
      "outputs": [
        {
          "data": {
            "text/plain": [
              "array([0.9462601 , 0.94154346, 0.94760773, 0.94772732, 0.00239768,\n",
              "       0.53456777, 0.53356898, 0.88841379, 0.48490306, 0.20579619,\n",
              "       0.26403984, 0.50730778])"
            ]
          },
          "execution_count": 6,
          "metadata": {},
          "output_type": "execute_result"
        }
      ],
      "source": [
        "X[0]#這裡會出現10個array，每個array裡面有12個數字，分別是open high low close volume RSI MACD OBV CCI ATR ADX MFI"
      ]
    },
    {
      "cell_type": "code",
      "execution_count": 7,
      "metadata": {
        "id": "ZdEmCm_Qvvil"
      },
      "outputs": [
        {
          "data": {
            "text/plain": [
              "array([1., 0.])"
            ]
          },
          "execution_count": 7,
          "metadata": {},
          "output_type": "execute_result"
        }
      ],
      "source": [
        "y[0]"
      ]
    },
    {
      "cell_type": "code",
      "execution_count": 8,
      "metadata": {
        "id": "MQMldPJgvvil"
      },
      "outputs": [],
      "source": [
        "X = np.array(X)\n",
        "X = torch.tensor(X, dtype=torch.float32)"
      ]
    },
    {
      "cell_type": "code",
      "execution_count": 9,
      "metadata": {
        "id": "mm5Q6Cjavvil"
      },
      "outputs": [],
      "source": [
        "y = np.array(y,dtype=np.float32)\n",
        "y = torch.tensor(y, dtype=torch.float32)"
      ]
    },
    {
      "cell_type": "code",
      "execution_count": 10,
      "metadata": {
        "id": "5nUKlKubvvil"
      },
      "outputs": [
        {
          "data": {
            "text/plain": [
              "tensor([[1., 0.],\n",
              "        [0., 1.],\n",
              "        [1., 0.],\n",
              "        ...,\n",
              "        [1., 0.],\n",
              "        [0., 1.],\n",
              "        [1., 0.]])"
            ]
          },
          "execution_count": 10,
          "metadata": {},
          "output_type": "execute_result"
        }
      ],
      "source": [
        "y"
      ]
    },
    {
      "cell_type": "code",
      "execution_count": 11,
      "metadata": {
        "id": "7kxTYq8tvvil"
      },
      "outputs": [
        {
          "name": "stdout",
          "output_type": "stream",
          "text": [
            "X shape: torch.Size([35466, 12]) , y shape: torch.Size([35466, 2])\n"
          ]
        }
      ],
      "source": [
        "print(f\"X shape: {X.shape} , y shape: {y.shape}\")"
      ]
    },
    {
      "cell_type": "code",
      "execution_count": 12,
      "metadata": {
        "id": "1bAuFUJpvvil"
      },
      "outputs": [
        {
          "data": {
            "text/plain": [
              "tensor([0.9463, 0.9415, 0.9476, 0.9477, 0.0024, 0.5346, 0.5336, 0.8884, 0.4849,\n",
              "        0.2058, 0.2640, 0.5073])"
            ]
          },
          "execution_count": 12,
          "metadata": {},
          "output_type": "execute_result"
        }
      ],
      "source": [
        "X[0]"
      ]
    },
    {
      "cell_type": "code",
      "execution_count": 13,
      "metadata": {
        "id": "XgiJoWzjvvil"
      },
      "outputs": [
        {
          "data": {
            "text/plain": [
              "tensor([1., 0.])"
            ]
          },
          "execution_count": 13,
          "metadata": {},
          "output_type": "execute_result"
        }
      ],
      "source": [
        "y[0]"
      ]
    },
    {
      "cell_type": "markdown",
      "metadata": {
        "id": "fDKqaaoKvvil"
      },
      "source": [
        "# 建立資料集類別\n",
        "\n",
        "- 要繼承torch.utils.data.Dataset\n",
        "- 要實作`__len__`、`__getitem__`\n",
        "- 後面要用DataLoader取用"
      ]
    },
    {
      "cell_type": "code",
      "execution_count": 14,
      "metadata": {
        "id": "jLDT0sbfvvim"
      },
      "outputs": [],
      "source": [
        "#用sklearn來分成train val test\n",
        "# train:val:test = 6:3:1\n",
        "from sklearn.model_selection import train_test_split\n",
        "X_train, X_test, y_train, y_test = train_test_split(X, y, test_size=0.4, random_state=42)\n",
        "X_val, X_test, y_val, y_test = train_test_split(X_test, y_test, test_size=0.75, random_state=42)"
      ]
    },
    {
      "cell_type": "code",
      "execution_count": 15,
      "metadata": {
        "id": "CSgwdCotvvim"
      },
      "outputs": [
        {
          "name": "stdout",
          "output_type": "stream",
          "text": [
            "X_train shape: torch.Size([21279, 12]) , y_train shape: torch.Size([21279, 2])\n"
          ]
        }
      ],
      "source": [
        "print(f\"X_train shape: {X_train.shape} , y_train shape: {y_train.shape}\")"
      ]
    },
    {
      "cell_type": "code",
      "execution_count": 16,
      "metadata": {
        "id": "ep8tt8-avvim"
      },
      "outputs": [
        {
          "name": "stdout",
          "output_type": "stream",
          "text": [
            "X_test shape: torch.Size([10641, 12]) , y_test shape: torch.Size([10641, 2])\n"
          ]
        }
      ],
      "source": [
        "print(f\"X_test shape: {X_test.shape} , y_test shape: {y_test.shape}\")"
      ]
    },
    {
      "cell_type": "code",
      "execution_count": 17,
      "metadata": {
        "id": "RPqE-CPfvvim"
      },
      "outputs": [
        {
          "name": "stdout",
          "output_type": "stream",
          "text": [
            "X_val shape: torch.Size([3546, 12]) , y_val shape: torch.Size([3546, 2])\n"
          ]
        }
      ],
      "source": [
        "print(f\"X_val shape: {X_val.shape} , y_val shape: {y_val.shape}\")"
      ]
    },
    {
      "cell_type": "code",
      "execution_count": 18,
      "metadata": {
        "id": "Y0NmS_Lqvvim"
      },
      "outputs": [],
      "source": [
        "class TrainDataset(Dataset):\n",
        "    def __init__(self, X, y):\n",
        "        self.X = X\n",
        "        self.y = y\n",
        "    def __len__(self):\n",
        "        return len(self.X)\n",
        "    def __getitem__(self, idx):\n",
        "        return self.X[idx], self.y[idx]"
      ]
    },
    {
      "cell_type": "code",
      "execution_count": 19,
      "metadata": {
        "id": "-5DjuhEyvvim"
      },
      "outputs": [],
      "source": [
        "class ValDataset(Dataset):\n",
        "    def __init__(self, X, y):\n",
        "        self.X = X\n",
        "        self.y = y\n",
        "    def __len__(self):\n",
        "        return len(self.X)\n",
        "    def __getitem__(self, idx):\n",
        "        return self.X[idx], self.y[idx]"
      ]
    },
    {
      "cell_type": "code",
      "execution_count": 20,
      "metadata": {
        "id": "qHMCNEm6vvim"
      },
      "outputs": [],
      "source": [
        "class TestDataset(Dataset):\n",
        "    def __init__(self, X, y):\n",
        "        self.X = X\n",
        "        self.y = y\n",
        "    def __len__(self):\n",
        "        return len(self.X)\n",
        "    def __getitem__(self, idx):\n",
        "        return self.X[idx], self.y[idx]"
      ]
    },
    {
      "cell_type": "code",
      "execution_count": 21,
      "metadata": {
        "id": "ChyqvyFKvvim"
      },
      "outputs": [],
      "source": [
        "train_dataset = TrainDataset(X_train, y_train)\n",
        "val_dataset = ValDataset(X_val, y_val)\n",
        "test_dataset = TestDataset(X_test, y_test)"
      ]
    },
    {
      "cell_type": "markdown",
      "metadata": {
        "id": "Ib09cuxtvvim"
      },
      "source": [
        "# 建立模型\n",
        "\n",
        "- 要繼承torch.nn.Module\n",
        "- 可能要多建立不同的模型，到時候看結果再調整 -> 先讓數據流得通，再去看成績做調整。"
      ]
    },
    {
      "attachments": {},
      "cell_type": "markdown",
      "metadata": {
        "id": "ga66dLL8vvim"
      },
      "source": [
        "- ver1 -> CNN+MLP\n",
        "- ver2 -> CNN+LSTM+MLP\n",
        "- ver3 -> CNN+GRU+MLP\n",
        "- ver4 -> CNN+LSTM+GRU+MLP\n",
        "- ver5 -> CNN+GRU+MLP+Dropout"
      ]
    },
    {
      "cell_type": "code",
      "execution_count": 22,
      "metadata": {
        "id": "L3Da8Y1avvin"
      },
      "outputs": [],
      "source": [
        "class SelectItem(torch.nn.Module):#這是用來取出多個輸出其中一個的輸出，如果不用sequential的話，就可以不用這個\n",
        "    def __init__(self, item_index):\n",
        "        super(SelectItem, self).__init__()\n",
        "        self._name = 'selectitem'\n",
        "        self.item_index = item_index\n",
        "\n",
        "    def forward(self, inputs):\n",
        "        return inputs[self.item_index]"
      ]
    },
    {
      "cell_type": "code",
      "execution_count": 23,
      "metadata": {},
      "outputs": [],
      "source": [
        "class CCV1(nn.Module):#CNN+MLP in (64,10,12) out (64,2)\n",
        "    def __init__(self):\n",
        "        super(CCV1, self).__init__()\n",
        "        self.Linear1 = nn.Linear(12, 128)\n",
        "        self.Linear2 = nn.Linear(128, 256)\n",
        "        self.Linear3 = nn.Linear(256, 1024)\n",
        "        self.Linear4 = nn.Linear(1024, 256)\n",
        "        self.Linear5 = nn.Linear(256, 128)\n",
        "        self.Linear6 = nn.Linear(128, 64)\n",
        "        self.Linear7 = nn.Linear(64, 2)\n",
        "        self.Dropout1 = nn.Dropout(0.2)\n",
        "        \n",
        "    def forward(self, x):\n",
        "        x = F.relu(self.Linear1(x))\n",
        "        x = F.relu(self.Linear2(x))\n",
        "        x = F.relu(self.Linear3(x))\n",
        "        x = self.Dropout1(x)\n",
        "        x = F.relu(self.Linear4(x))\n",
        "        x = F.relu(self.Linear5(x))\n",
        "        x = F.relu(self.Linear6(x))\n",
        "        x = self.Linear7(x)\n",
        "        return x"
      ]
    },
    {
      "cell_type": "code",
      "execution_count": 24,
      "metadata": {},
      "outputs": [],
      "source": [
        "class CCV2(nn.Module):#CNN+MLP+LSTM in (64,10,12) out (64,2)\n",
        "    def __init__(self):\n",
        "        super(CCV2, self).__init__()\n",
        "        self.Linear1 = nn.Linear(12, 1024)\n",
        "        self.Linear2 = nn.Linear(1024, 2048)\n",
        "        self.Linear3 = nn.Linear(2048, 1024)\n",
        "        self.Linear4 = nn.Linear(1024, 512)\n",
        "        self.Linear5 = nn.Linear(512, 256)\n",
        "        self.Linear6 = nn.Linear(256, 128)\n",
        "        self.Linear7 = nn.Linear(128, 64)\n",
        "        self.Linear8 = nn.Linear(64, 2)\n",
        "        self.Dropout1 = nn.Dropout(0.2)\n",
        "        self.LSTM1 = nn.LSTM(2048,2048,20)\n",
        "\n",
        "    def forward(self, x):\n",
        "        x = F.relu(self.Linear1(x))\n",
        "        x = F.relu(self.Linear2(x))\n",
        "        x = self.Dropout1(x)\n",
        "        x = F.relu(SelectItem(0)(self.LSTM1(x)))\n",
        "        x = F.relu(self.Linear3(x))\n",
        "        x = F.relu(self.Linear4(x))\n",
        "        x = F.relu(self.Linear5(x))\n",
        "        x = F.relu(self.Linear6(x))\n",
        "        x = F.relu(self.Linear7(x))\n",
        "        x = self.Linear8(x)\n",
        "        return x\n"
      ]
    },
    {
      "cell_type": "code",
      "execution_count": 49,
      "metadata": {},
      "outputs": [],
      "source": [
        "class CCV3(nn.Module):#CNN+MLP+LSTM in (64,10,12) out (64,2)\n",
        "    def __init__(self):\n",
        "        super(CCV3, self).__init__()\n",
        "        self.Linear1 = nn.Linear(12, 1024)\n",
        "        self.Linear2 = nn.Linear(1024, 512)\n",
        "        self.Linear3 = nn.Linear(512, 256)\n",
        "        self.Linear4 = nn.Linear(256, 32)\n",
        "        self.Linear5 = nn.Linear(32, 16)\n",
        "        self.Linear6 = nn.Linear(16, 2)\n",
        "        self.Dropout1 = nn.Dropout(0.2)\n",
        "        self.LSTM1 = nn.LSTM(512,512,2)\n",
        "\n",
        "    def forward(self, x):\n",
        "        x = F.relu(self.Linear1(x))\n",
        "        x = F.relu(self.Linear2(x))\n",
        "        x = self.Dropout1(x)\n",
        "        x = F.relu(SelectItem(0)(self.LSTM1(x)))\n",
        "        x = self.Dropout1(x)\n",
        "        x = F.relu(self.Linear3(x))\n",
        "        x = self.Dropout1(x)\n",
        "        x = F.relu(self.Linear4(x))\n",
        "        x = self.Dropout1(x)\n",
        "        x = F.relu(self.Linear5(x))\n",
        "        x = self.Linear6(x)\n",
        "        return x"
      ]
    },
    {
      "cell_type": "markdown",
      "metadata": {
        "id": "eeIGq4dRvvio"
      },
      "source": [
        "## Note\n",
        "\n",
        "1) model\n",
        "    - `__init__`: define [layers](https://pytorch.org/docs/stable/nn.html)\n",
        "    - forward: forward pass -> compute prediction\n",
        "2) loss and optimizer\n",
        "    - lr: learning rate [default=0.001]\n",
        "    - momentum: momentum for optimizer [default=0.9]\n",
        "    - criterion: loss function [in torch.nn] eg.nn.BCELoss()\n",
        "    - optimizer: optimizer [in torch.optim] eg.torch.optim.SGD()\n",
        "        - eg. optimizer = torch.optim.SGD(model.parameters(), lr=lr, momentum=momentum)\n",
        "3) training loop\n",
        "    - forward pass: compute prediction and loss\n",
        "\n",
        "        ```python\n",
        "        output = model(data)\n",
        "        loss = criterion(output, target)\n",
        "        ```\n",
        "        \n",
        "    - backward pass: loss.backward()\n",
        "    - update weights: optimizer.step()\n",
        "    - zero the gradients: optimizer.zero_grad()"
      ]
    },
    {
      "cell_type": "markdown",
      "metadata": {
        "id": "iSv_yChTvvio"
      },
      "source": [
        "# TODO\n",
        "\n",
        "- 寫訓練方法\n",
        "    - using dataloader\n",
        "        - batch and epoch\n",
        "- 寫驗證方法\n",
        "    - using model.eval()\n"
      ]
    },
    {
      "cell_type": "code",
      "execution_count": 26,
      "metadata": {},
      "outputs": [],
      "source": [
        "def train(model, train_loader, optimizer, criterion, epoch, device):\n",
        "    if epoch == 0: print(\"Training...\")\n",
        "    model.train()\n",
        "    for batch_idx, (data, target) in enumerate(train_loader):\n",
        "        data, target = data.to(device), target.to(device)\n",
        "        optimizer.zero_grad()\n",
        "        output = model(data)\n",
        "        loss = criterion(output, target)\n",
        "        loss.backward()\n",
        "        optimizer.step()\n",
        "        if batch_idx == 0:\n",
        "            print(f\"data shape: {data.shape} , target shape: {target.shape} , output shape: {output.shape}\")\n",
        "        if batch_idx % 100 == 0:\n",
        "            print('Train Epoch: {} [{}/{} ({:.0f}%)]\\tLoss: {:.6f}'.format(\n",
        "                epoch, batch_idx * len(data), len(train_loader.dataset),\n",
        "                100. * batch_idx / len(train_loader), loss.item()))"
      ]
    },
    {
      "cell_type": "code",
      "execution_count": 27,
      "metadata": {},
      "outputs": [],
      "source": [
        "def test(model, test_loader, criterion, device):\n",
        "    model.eval()\n",
        "    test_loss = 0\n",
        "    correct = 0\n",
        "    with torch.no_grad():\n",
        "        for data, target in test_loader:\n",
        "            \n",
        "            data, target = data.to(device), target.to(device)\n",
        "            output = model(data)\n",
        "            test_loss += criterion(output, target).item() # sum up batch loss\n",
        "            pred = output.argmax(dim=1, keepdim=True) # get the index of the max log-probability\n",
        "            correct += pred.eq(target.argmax(1, keepdim=True).view_as(pred)).sum().item() #\n",
        "\n",
        "    test_loss /= len(test_loader.dataset)\n",
        "\n",
        "    print('Test set: Average loss: {:.4f}, Accuracy: {}/{} ({:.0f}%)'.format(\n",
        "        test_loss, correct, len(test_loader.dataset),\n",
        "        100. * correct / len(test_loader.dataset)))\n",
        "    return (100. * correct / len(test_loader.dataset)), test_loss"
      ]
    },
    {
      "cell_type": "code",
      "execution_count": 39,
      "metadata": {},
      "outputs": [
        {
          "name": "stdout",
          "output_type": "stream",
          "text": [
            "=== Info ===\n",
            "Device : cpu\n",
            "Epochs : 100\n",
            "============\n"
          ]
        }
      ],
      "source": [
        "DEVICE = torch.device(\"cuda:0\" if torch.cuda.is_available() else \"cpu\")\n",
        "EPOCHS = 100\n",
        "print(\"=== Info ===\")\n",
        "print(f\"Device : {DEVICE}\")\n",
        "print(f\"Epochs : {EPOCHS}\")\n",
        "print(\"============\")"
      ]
    },
    {
      "cell_type": "code",
      "execution_count": 42,
      "metadata": {},
      "outputs": [
        {
          "name": "stdout",
          "output_type": "stream",
          "text": [
            "data shape: torch.Size([64, 12]) , target shape: torch.Size([64, 2]) , output shape: torch.Size([64, 2])\n",
            "Train Epoch: 1 [0/21279 (0%)]\tLoss: 0.694018\n",
            "Train Epoch: 1 [6400/21279 (30%)]\tLoss: 0.693001\n",
            "Train Epoch: 1 [12800/21279 (60%)]\tLoss: 0.692612\n",
            "Train Epoch: 1 [19200/21279 (90%)]\tLoss: 0.694996\n",
            "Test set: Average loss: 0.0109, Accuracy: 5378/10641 (51%)\n",
            "data shape: torch.Size([64, 12]) , target shape: torch.Size([64, 2]) , output shape: torch.Size([64, 2])\n",
            "Train Epoch: 2 [0/21279 (0%)]\tLoss: 0.684803\n",
            "Train Epoch: 2 [6400/21279 (30%)]\tLoss: 0.692753\n",
            "Train Epoch: 2 [12800/21279 (60%)]\tLoss: 0.695705\n",
            "Train Epoch: 2 [19200/21279 (90%)]\tLoss: 0.689606\n",
            "Test set: Average loss: 0.0109, Accuracy: 5451/10641 (51%)\n",
            "data shape: torch.Size([64, 12]) , target shape: torch.Size([64, 2]) , output shape: torch.Size([64, 2])\n",
            "Train Epoch: 3 [0/21279 (0%)]\tLoss: 0.682254\n",
            "Train Epoch: 3 [6400/21279 (30%)]\tLoss: 0.692699\n",
            "Train Epoch: 3 [12800/21279 (60%)]\tLoss: 0.692911\n",
            "Train Epoch: 3 [19200/21279 (90%)]\tLoss: 0.693133\n",
            "Test set: Average loss: 0.0109, Accuracy: 5263/10641 (49%)\n",
            "data shape: torch.Size([64, 12]) , target shape: torch.Size([64, 2]) , output shape: torch.Size([64, 2])\n",
            "Train Epoch: 4 [0/21279 (0%)]\tLoss: 0.687827\n",
            "Train Epoch: 4 [6400/21279 (30%)]\tLoss: 0.694386\n",
            "Train Epoch: 4 [12800/21279 (60%)]\tLoss: 0.694640\n",
            "Train Epoch: 4 [19200/21279 (90%)]\tLoss: 0.695836\n",
            "Test set: Average loss: 0.0109, Accuracy: 5373/10641 (50%)\n",
            "data shape: torch.Size([64, 12]) , target shape: torch.Size([64, 2]) , output shape: torch.Size([64, 2])\n",
            "Train Epoch: 5 [0/21279 (0%)]\tLoss: 0.692875\n",
            "Train Epoch: 5 [6400/21279 (30%)]\tLoss: 0.693354\n",
            "Train Epoch: 5 [12800/21279 (60%)]\tLoss: 0.699800\n",
            "Train Epoch: 5 [19200/21279 (90%)]\tLoss: 0.693083\n",
            "Test set: Average loss: 0.0109, Accuracy: 5263/10641 (49%)\n",
            "data shape: torch.Size([64, 12]) , target shape: torch.Size([64, 2]) , output shape: torch.Size([64, 2])\n",
            "Train Epoch: 6 [0/21279 (0%)]\tLoss: 0.695875\n",
            "Train Epoch: 6 [6400/21279 (30%)]\tLoss: 0.692561\n",
            "Train Epoch: 6 [12800/21279 (60%)]\tLoss: 0.691111\n",
            "Train Epoch: 6 [19200/21279 (90%)]\tLoss: 0.682142\n",
            "Test set: Average loss: 0.0109, Accuracy: 5263/10641 (49%)\n",
            "data shape: torch.Size([64, 12]) , target shape: torch.Size([64, 2]) , output shape: torch.Size([64, 2])\n",
            "Train Epoch: 7 [0/21279 (0%)]\tLoss: 0.696963\n",
            "Train Epoch: 7 [6400/21279 (30%)]\tLoss: 0.687365\n",
            "Train Epoch: 7 [12800/21279 (60%)]\tLoss: 0.682824\n",
            "Train Epoch: 7 [19200/21279 (90%)]\tLoss: 0.692618\n",
            "Test set: Average loss: 0.0109, Accuracy: 5263/10641 (49%)\n",
            "data shape: torch.Size([64, 12]) , target shape: torch.Size([64, 2]) , output shape: torch.Size([64, 2])\n",
            "Train Epoch: 8 [0/21279 (0%)]\tLoss: 0.692945\n",
            "Train Epoch: 8 [6400/21279 (30%)]\tLoss: 0.691783\n",
            "Train Epoch: 8 [12800/21279 (60%)]\tLoss: 0.692552\n",
            "Train Epoch: 8 [19200/21279 (90%)]\tLoss: 0.690471\n",
            "Test set: Average loss: 0.0109, Accuracy: 5263/10641 (49%)\n",
            "data shape: torch.Size([64, 12]) , target shape: torch.Size([64, 2]) , output shape: torch.Size([64, 2])\n",
            "Train Epoch: 9 [0/21279 (0%)]\tLoss: 0.695946\n",
            "Train Epoch: 9 [6400/21279 (30%)]\tLoss: 0.683123\n",
            "Train Epoch: 9 [12800/21279 (60%)]\tLoss: 0.691269\n",
            "Train Epoch: 9 [19200/21279 (90%)]\tLoss: 0.693886\n",
            "Test set: Average loss: 0.0109, Accuracy: 5443/10641 (51%)\n",
            "data shape: torch.Size([64, 12]) , target shape: torch.Size([64, 2]) , output shape: torch.Size([64, 2])\n",
            "Train Epoch: 10 [0/21279 (0%)]\tLoss: 0.693498\n",
            "Train Epoch: 10 [6400/21279 (30%)]\tLoss: 0.692252\n",
            "Train Epoch: 10 [12800/21279 (60%)]\tLoss: 0.696829\n",
            "Train Epoch: 10 [19200/21279 (90%)]\tLoss: 0.696158\n",
            "Test set: Average loss: 0.0109, Accuracy: 5370/10641 (50%)\n",
            "data shape: torch.Size([64, 12]) , target shape: torch.Size([64, 2]) , output shape: torch.Size([64, 2])\n",
            "Train Epoch: 11 [0/21279 (0%)]\tLoss: 0.693006\n",
            "Train Epoch: 11 [6400/21279 (30%)]\tLoss: 0.695969\n",
            "Train Epoch: 11 [12800/21279 (60%)]\tLoss: 0.688462\n",
            "Train Epoch: 11 [19200/21279 (90%)]\tLoss: 0.692722\n",
            "Test set: Average loss: 0.0109, Accuracy: 5378/10641 (51%)\n",
            "data shape: torch.Size([64, 12]) , target shape: torch.Size([64, 2]) , output shape: torch.Size([64, 2])\n",
            "Train Epoch: 12 [0/21279 (0%)]\tLoss: 0.693927\n",
            "Train Epoch: 12 [6400/21279 (30%)]\tLoss: 0.692913\n",
            "Train Epoch: 12 [12800/21279 (60%)]\tLoss: 0.692298\n",
            "Train Epoch: 12 [19200/21279 (90%)]\tLoss: 0.696434\n",
            "Test set: Average loss: 0.0109, Accuracy: 5393/10641 (51%)\n",
            "data shape: torch.Size([64, 12]) , target shape: torch.Size([64, 2]) , output shape: torch.Size([64, 2])\n",
            "Train Epoch: 13 [0/21279 (0%)]\tLoss: 0.681160\n",
            "Train Epoch: 13 [6400/21279 (30%)]\tLoss: 0.697701\n",
            "Train Epoch: 13 [12800/21279 (60%)]\tLoss: 0.692835\n",
            "Train Epoch: 13 [19200/21279 (90%)]\tLoss: 0.694092\n",
            "Test set: Average loss: 0.0109, Accuracy: 5263/10641 (49%)\n",
            "data shape: torch.Size([64, 12]) , target shape: torch.Size([64, 2]) , output shape: torch.Size([64, 2])\n",
            "Train Epoch: 14 [0/21279 (0%)]\tLoss: 0.692974\n",
            "Train Epoch: 14 [6400/21279 (30%)]\tLoss: 0.690615\n",
            "Train Epoch: 14 [12800/21279 (60%)]\tLoss: 0.694549\n",
            "Train Epoch: 14 [19200/21279 (90%)]\tLoss: 0.691325\n",
            "Test set: Average loss: 0.0109, Accuracy: 5263/10641 (49%)\n",
            "data shape: torch.Size([64, 12]) , target shape: torch.Size([64, 2]) , output shape: torch.Size([64, 2])\n",
            "Train Epoch: 15 [0/21279 (0%)]\tLoss: 0.694278\n",
            "Train Epoch: 15 [6400/21279 (30%)]\tLoss: 0.691128\n",
            "Train Epoch: 15 [12800/21279 (60%)]\tLoss: 0.691546\n",
            "Train Epoch: 15 [19200/21279 (90%)]\tLoss: 0.692732\n",
            "Test set: Average loss: 0.0109, Accuracy: 5334/10641 (50%)\n",
            "data shape: torch.Size([64, 12]) , target shape: torch.Size([64, 2]) , output shape: torch.Size([64, 2])\n",
            "Train Epoch: 16 [0/21279 (0%)]\tLoss: 0.687030\n",
            "Train Epoch: 16 [6400/21279 (30%)]\tLoss: 0.693078\n",
            "Train Epoch: 16 [12800/21279 (60%)]\tLoss: 0.689393\n",
            "Train Epoch: 16 [19200/21279 (90%)]\tLoss: 0.694583\n",
            "Test set: Average loss: 0.0109, Accuracy: 5470/10641 (51%)\n",
            "data shape: torch.Size([64, 12]) , target shape: torch.Size([64, 2]) , output shape: torch.Size([64, 2])\n",
            "Train Epoch: 17 [0/21279 (0%)]\tLoss: 0.689606\n",
            "Train Epoch: 17 [6400/21279 (30%)]\tLoss: 0.696417\n",
            "Train Epoch: 17 [12800/21279 (60%)]\tLoss: 0.690617\n",
            "Train Epoch: 17 [19200/21279 (90%)]\tLoss: 0.695381\n",
            "Test set: Average loss: 0.0109, Accuracy: 5394/10641 (51%)\n",
            "data shape: torch.Size([64, 12]) , target shape: torch.Size([64, 2]) , output shape: torch.Size([64, 2])\n",
            "Train Epoch: 18 [0/21279 (0%)]\tLoss: 0.691400\n",
            "Train Epoch: 18 [6400/21279 (30%)]\tLoss: 0.695438\n",
            "Train Epoch: 18 [12800/21279 (60%)]\tLoss: 0.696643\n",
            "Train Epoch: 18 [19200/21279 (90%)]\tLoss: 0.691162\n",
            "Test set: Average loss: 0.0109, Accuracy: 5424/10641 (51%)\n",
            "data shape: torch.Size([64, 12]) , target shape: torch.Size([64, 2]) , output shape: torch.Size([64, 2])\n",
            "Train Epoch: 19 [0/21279 (0%)]\tLoss: 0.688241\n",
            "Train Epoch: 19 [6400/21279 (30%)]\tLoss: 0.688272\n",
            "Train Epoch: 19 [12800/21279 (60%)]\tLoss: 0.703750\n",
            "Train Epoch: 19 [19200/21279 (90%)]\tLoss: 0.683089\n",
            "Test set: Average loss: 0.0109, Accuracy: 5404/10641 (51%)\n",
            "data shape: torch.Size([64, 12]) , target shape: torch.Size([64, 2]) , output shape: torch.Size([64, 2])\n",
            "Train Epoch: 20 [0/21279 (0%)]\tLoss: 0.694960\n",
            "Train Epoch: 20 [6400/21279 (30%)]\tLoss: 0.701140\n",
            "Train Epoch: 20 [12800/21279 (60%)]\tLoss: 0.692246\n",
            "Train Epoch: 20 [19200/21279 (90%)]\tLoss: 0.678198\n",
            "Test set: Average loss: 0.0108, Accuracy: 5563/10641 (52%)\n",
            "data shape: torch.Size([64, 12]) , target shape: torch.Size([64, 2]) , output shape: torch.Size([64, 2])\n",
            "Train Epoch: 21 [0/21279 (0%)]\tLoss: 0.681901\n",
            "Train Epoch: 21 [6400/21279 (30%)]\tLoss: 0.685230\n",
            "Train Epoch: 21 [12800/21279 (60%)]\tLoss: 0.680746\n",
            "Train Epoch: 21 [19200/21279 (90%)]\tLoss: 0.701718\n",
            "Test set: Average loss: 0.0108, Accuracy: 5609/10641 (53%)\n",
            "data shape: torch.Size([64, 12]) , target shape: torch.Size([64, 2]) , output shape: torch.Size([64, 2])\n",
            "Train Epoch: 22 [0/21279 (0%)]\tLoss: 0.699173\n",
            "Train Epoch: 22 [6400/21279 (30%)]\tLoss: 0.694969\n",
            "Train Epoch: 22 [12800/21279 (60%)]\tLoss: 0.690016\n",
            "Train Epoch: 22 [19200/21279 (90%)]\tLoss: 0.697347\n",
            "Test set: Average loss: 0.0108, Accuracy: 5646/10641 (53%)\n",
            "data shape: torch.Size([64, 12]) , target shape: torch.Size([64, 2]) , output shape: torch.Size([64, 2])\n",
            "Train Epoch: 23 [0/21279 (0%)]\tLoss: 0.686749\n",
            "Train Epoch: 23 [6400/21279 (30%)]\tLoss: 0.688264\n",
            "Train Epoch: 23 [12800/21279 (60%)]\tLoss: 0.685588\n",
            "Train Epoch: 23 [19200/21279 (90%)]\tLoss: 0.695906\n",
            "Test set: Average loss: 0.0109, Accuracy: 5435/10641 (51%)\n",
            "data shape: torch.Size([64, 12]) , target shape: torch.Size([64, 2]) , output shape: torch.Size([64, 2])\n",
            "Train Epoch: 24 [0/21279 (0%)]\tLoss: 0.695272\n",
            "Train Epoch: 24 [6400/21279 (30%)]\tLoss: 0.680888\n",
            "Train Epoch: 24 [12800/21279 (60%)]\tLoss: 0.680682\n",
            "Train Epoch: 24 [19200/21279 (90%)]\tLoss: 0.692219\n",
            "Test set: Average loss: 0.0108, Accuracy: 5638/10641 (53%)\n",
            "data shape: torch.Size([64, 12]) , target shape: torch.Size([64, 2]) , output shape: torch.Size([64, 2])\n",
            "Train Epoch: 25 [0/21279 (0%)]\tLoss: 0.693733\n",
            "Train Epoch: 25 [6400/21279 (30%)]\tLoss: 0.692111\n",
            "Train Epoch: 25 [12800/21279 (60%)]\tLoss: 0.680480\n",
            "Train Epoch: 25 [19200/21279 (90%)]\tLoss: 0.685513\n",
            "Test set: Average loss: 0.0108, Accuracy: 5548/10641 (52%)\n",
            "data shape: torch.Size([64, 12]) , target shape: torch.Size([64, 2]) , output shape: torch.Size([64, 2])\n",
            "Train Epoch: 26 [0/21279 (0%)]\tLoss: 0.670784\n",
            "Train Epoch: 26 [6400/21279 (30%)]\tLoss: 0.692729\n",
            "Train Epoch: 26 [12800/21279 (60%)]\tLoss: 0.678425\n",
            "Train Epoch: 26 [19200/21279 (90%)]\tLoss: 0.702239\n",
            "Test set: Average loss: 0.0108, Accuracy: 5612/10641 (53%)\n",
            "data shape: torch.Size([64, 12]) , target shape: torch.Size([64, 2]) , output shape: torch.Size([64, 2])\n",
            "Train Epoch: 27 [0/21279 (0%)]\tLoss: 0.686584\n",
            "Train Epoch: 27 [6400/21279 (30%)]\tLoss: 0.691385\n",
            "Train Epoch: 27 [12800/21279 (60%)]\tLoss: 0.695457\n",
            "Train Epoch: 27 [19200/21279 (90%)]\tLoss: 0.685756\n",
            "Test set: Average loss: 0.0109, Accuracy: 5404/10641 (51%)\n",
            "data shape: torch.Size([64, 12]) , target shape: torch.Size([64, 2]) , output shape: torch.Size([64, 2])\n",
            "Train Epoch: 28 [0/21279 (0%)]\tLoss: 0.664369\n",
            "Train Epoch: 28 [6400/21279 (30%)]\tLoss: 0.691963\n",
            "Train Epoch: 28 [12800/21279 (60%)]\tLoss: 0.687766\n",
            "Train Epoch: 28 [19200/21279 (90%)]\tLoss: 0.675674\n",
            "Test set: Average loss: 0.0109, Accuracy: 5533/10641 (52%)\n",
            "data shape: torch.Size([64, 12]) , target shape: torch.Size([64, 2]) , output shape: torch.Size([64, 2])\n",
            "Train Epoch: 29 [0/21279 (0%)]\tLoss: 0.679860\n",
            "Train Epoch: 29 [6400/21279 (30%)]\tLoss: 0.697045\n",
            "Train Epoch: 29 [12800/21279 (60%)]\tLoss: 0.697528\n",
            "Train Epoch: 29 [19200/21279 (90%)]\tLoss: 0.684802\n",
            "Test set: Average loss: 0.0108, Accuracy: 5617/10641 (53%)\n",
            "data shape: torch.Size([64, 12]) , target shape: torch.Size([64, 2]) , output shape: torch.Size([64, 2])\n",
            "Train Epoch: 30 [0/21279 (0%)]\tLoss: 0.709076\n",
            "Train Epoch: 30 [6400/21279 (30%)]\tLoss: 0.682733\n",
            "Train Epoch: 30 [12800/21279 (60%)]\tLoss: 0.694297\n",
            "Train Epoch: 30 [19200/21279 (90%)]\tLoss: 0.681195\n",
            "Test set: Average loss: 0.0109, Accuracy: 5534/10641 (52%)\n",
            "data shape: torch.Size([64, 12]) , target shape: torch.Size([64, 2]) , output shape: torch.Size([64, 2])\n",
            "Train Epoch: 31 [0/21279 (0%)]\tLoss: 0.684506\n",
            "Train Epoch: 31 [6400/21279 (30%)]\tLoss: 0.675044\n",
            "Train Epoch: 31 [12800/21279 (60%)]\tLoss: 0.703552\n",
            "Train Epoch: 31 [19200/21279 (90%)]\tLoss: 0.681672\n",
            "Test set: Average loss: 0.0108, Accuracy: 5618/10641 (53%)\n",
            "data shape: torch.Size([64, 12]) , target shape: torch.Size([64, 2]) , output shape: torch.Size([64, 2])\n",
            "Train Epoch: 32 [0/21279 (0%)]\tLoss: 0.692402\n",
            "Train Epoch: 32 [6400/21279 (30%)]\tLoss: 0.678026\n",
            "Train Epoch: 32 [12800/21279 (60%)]\tLoss: 0.706055\n",
            "Train Epoch: 32 [19200/21279 (90%)]\tLoss: 0.684907\n",
            "Test set: Average loss: 0.0108, Accuracy: 5634/10641 (53%)\n",
            "data shape: torch.Size([64, 12]) , target shape: torch.Size([64, 2]) , output shape: torch.Size([64, 2])\n",
            "Train Epoch: 33 [0/21279 (0%)]\tLoss: 0.680472\n",
            "Train Epoch: 33 [6400/21279 (30%)]\tLoss: 0.693540\n",
            "Train Epoch: 33 [12800/21279 (60%)]\tLoss: 0.690831\n",
            "Train Epoch: 33 [19200/21279 (90%)]\tLoss: 0.670149\n",
            "Test set: Average loss: 0.0108, Accuracy: 5602/10641 (53%)\n",
            "data shape: torch.Size([64, 12]) , target shape: torch.Size([64, 2]) , output shape: torch.Size([64, 2])\n",
            "Train Epoch: 34 [0/21279 (0%)]\tLoss: 0.692567\n",
            "Train Epoch: 34 [6400/21279 (30%)]\tLoss: 0.685563\n",
            "Train Epoch: 34 [12800/21279 (60%)]\tLoss: 0.705752\n",
            "Train Epoch: 34 [19200/21279 (90%)]\tLoss: 0.691676\n",
            "Test set: Average loss: 0.0109, Accuracy: 5381/10641 (51%)\n",
            "data shape: torch.Size([64, 12]) , target shape: torch.Size([64, 2]) , output shape: torch.Size([64, 2])\n",
            "Train Epoch: 35 [0/21279 (0%)]\tLoss: 0.714398\n",
            "Train Epoch: 35 [6400/21279 (30%)]\tLoss: 0.688343\n",
            "Train Epoch: 35 [12800/21279 (60%)]\tLoss: 0.687103\n",
            "Train Epoch: 35 [19200/21279 (90%)]\tLoss: 0.688982\n",
            "Test set: Average loss: 0.0109, Accuracy: 5499/10641 (52%)\n",
            "data shape: torch.Size([64, 12]) , target shape: torch.Size([64, 2]) , output shape: torch.Size([64, 2])\n",
            "Train Epoch: 36 [0/21279 (0%)]\tLoss: 0.697480\n",
            "Train Epoch: 36 [6400/21279 (30%)]\tLoss: 0.687690\n",
            "Train Epoch: 36 [12800/21279 (60%)]\tLoss: 0.683438\n",
            "Train Epoch: 36 [19200/21279 (90%)]\tLoss: 0.688011\n",
            "Test set: Average loss: 0.0108, Accuracy: 5664/10641 (53%)\n",
            "data shape: torch.Size([64, 12]) , target shape: torch.Size([64, 2]) , output shape: torch.Size([64, 2])\n",
            "Train Epoch: 37 [0/21279 (0%)]\tLoss: 0.681316\n",
            "Train Epoch: 37 [6400/21279 (30%)]\tLoss: 0.694116\n",
            "Train Epoch: 37 [12800/21279 (60%)]\tLoss: 0.690440\n",
            "Train Epoch: 37 [19200/21279 (90%)]\tLoss: 0.689602\n",
            "Test set: Average loss: 0.0108, Accuracy: 5624/10641 (53%)\n",
            "data shape: torch.Size([64, 12]) , target shape: torch.Size([64, 2]) , output shape: torch.Size([64, 2])\n",
            "Train Epoch: 38 [0/21279 (0%)]\tLoss: 0.687024\n",
            "Train Epoch: 38 [6400/21279 (30%)]\tLoss: 0.684931\n",
            "Train Epoch: 38 [12800/21279 (60%)]\tLoss: 0.690407\n",
            "Train Epoch: 38 [19200/21279 (90%)]\tLoss: 0.669322\n",
            "Test set: Average loss: 0.0108, Accuracy: 5653/10641 (53%)\n",
            "data shape: torch.Size([64, 12]) , target shape: torch.Size([64, 2]) , output shape: torch.Size([64, 2])\n",
            "Train Epoch: 39 [0/21279 (0%)]\tLoss: 0.691032\n",
            "Train Epoch: 39 [6400/21279 (30%)]\tLoss: 0.681716\n",
            "Train Epoch: 39 [12800/21279 (60%)]\tLoss: 0.703398\n",
            "Train Epoch: 39 [19200/21279 (90%)]\tLoss: 0.685925\n",
            "Test set: Average loss: 0.0108, Accuracy: 5644/10641 (53%)\n",
            "data shape: torch.Size([64, 12]) , target shape: torch.Size([64, 2]) , output shape: torch.Size([64, 2])\n",
            "Train Epoch: 40 [0/21279 (0%)]\tLoss: 0.693033\n",
            "Train Epoch: 40 [6400/21279 (30%)]\tLoss: 0.705853\n",
            "Train Epoch: 40 [12800/21279 (60%)]\tLoss: 0.684719\n",
            "Train Epoch: 40 [19200/21279 (90%)]\tLoss: 0.678097\n",
            "Test set: Average loss: 0.0109, Accuracy: 5554/10641 (52%)\n",
            "data shape: torch.Size([64, 12]) , target shape: torch.Size([64, 2]) , output shape: torch.Size([64, 2])\n",
            "Train Epoch: 41 [0/21279 (0%)]\tLoss: 0.678375\n",
            "Train Epoch: 41 [6400/21279 (30%)]\tLoss: 0.682435\n",
            "Train Epoch: 41 [12800/21279 (60%)]\tLoss: 0.680200\n",
            "Train Epoch: 41 [19200/21279 (90%)]\tLoss: 0.681083\n",
            "Test set: Average loss: 0.0108, Accuracy: 5642/10641 (53%)\n",
            "data shape: torch.Size([64, 12]) , target shape: torch.Size([64, 2]) , output shape: torch.Size([64, 2])\n",
            "Train Epoch: 42 [0/21279 (0%)]\tLoss: 0.677795\n",
            "Train Epoch: 42 [6400/21279 (30%)]\tLoss: 0.697308\n",
            "Train Epoch: 42 [12800/21279 (60%)]\tLoss: 0.693744\n",
            "Train Epoch: 42 [19200/21279 (90%)]\tLoss: 0.696517\n",
            "Test set: Average loss: 0.0108, Accuracy: 5616/10641 (53%)\n",
            "data shape: torch.Size([64, 12]) , target shape: torch.Size([64, 2]) , output shape: torch.Size([64, 2])\n",
            "Train Epoch: 43 [0/21279 (0%)]\tLoss: 0.682538\n",
            "Train Epoch: 43 [6400/21279 (30%)]\tLoss: 0.695829\n",
            "Train Epoch: 43 [12800/21279 (60%)]\tLoss: 0.692862\n",
            "Train Epoch: 43 [19200/21279 (90%)]\tLoss: 0.686213\n",
            "Test set: Average loss: 0.0108, Accuracy: 5640/10641 (53%)\n",
            "data shape: torch.Size([64, 12]) , target shape: torch.Size([64, 2]) , output shape: torch.Size([64, 2])\n",
            "Train Epoch: 44 [0/21279 (0%)]\tLoss: 0.687358\n",
            "Train Epoch: 44 [6400/21279 (30%)]\tLoss: 0.726349\n",
            "Train Epoch: 44 [12800/21279 (60%)]\tLoss: 0.693349\n",
            "Train Epoch: 44 [19200/21279 (90%)]\tLoss: 0.686541\n",
            "Test set: Average loss: 0.0109, Accuracy: 5619/10641 (53%)\n",
            "data shape: torch.Size([64, 12]) , target shape: torch.Size([64, 2]) , output shape: torch.Size([64, 2])\n",
            "Train Epoch: 45 [0/21279 (0%)]\tLoss: 0.682175\n",
            "Train Epoch: 45 [6400/21279 (30%)]\tLoss: 0.698737\n",
            "Train Epoch: 45 [12800/21279 (60%)]\tLoss: 0.685394\n",
            "Train Epoch: 45 [19200/21279 (90%)]\tLoss: 0.681952\n",
            "Test set: Average loss: 0.0108, Accuracy: 5655/10641 (53%)\n",
            "data shape: torch.Size([64, 12]) , target shape: torch.Size([64, 2]) , output shape: torch.Size([64, 2])\n",
            "Train Epoch: 46 [0/21279 (0%)]\tLoss: 0.700533\n",
            "Train Epoch: 46 [6400/21279 (30%)]\tLoss: 0.685323\n",
            "Train Epoch: 46 [12800/21279 (60%)]\tLoss: 0.707239\n",
            "Train Epoch: 46 [19200/21279 (90%)]\tLoss: 0.690221\n",
            "Test set: Average loss: 0.0108, Accuracy: 5651/10641 (53%)\n",
            "data shape: torch.Size([64, 12]) , target shape: torch.Size([64, 2]) , output shape: torch.Size([64, 2])\n",
            "Train Epoch: 47 [0/21279 (0%)]\tLoss: 0.683572\n",
            "Train Epoch: 47 [6400/21279 (30%)]\tLoss: 0.710722\n",
            "Train Epoch: 47 [12800/21279 (60%)]\tLoss: 0.683714\n",
            "Train Epoch: 47 [19200/21279 (90%)]\tLoss: 0.687671\n",
            "Test set: Average loss: 0.0108, Accuracy: 5653/10641 (53%)\n",
            "data shape: torch.Size([64, 12]) , target shape: torch.Size([64, 2]) , output shape: torch.Size([64, 2])\n",
            "Train Epoch: 48 [0/21279 (0%)]\tLoss: 0.680546\n",
            "Train Epoch: 48 [6400/21279 (30%)]\tLoss: 0.677661\n",
            "Train Epoch: 48 [12800/21279 (60%)]\tLoss: 0.692602\n",
            "Train Epoch: 48 [19200/21279 (90%)]\tLoss: 0.699105\n",
            "Test set: Average loss: 0.0108, Accuracy: 5631/10641 (53%)\n",
            "data shape: torch.Size([64, 12]) , target shape: torch.Size([64, 2]) , output shape: torch.Size([64, 2])\n",
            "Train Epoch: 49 [0/21279 (0%)]\tLoss: 0.705296\n",
            "Train Epoch: 49 [6400/21279 (30%)]\tLoss: 0.693102\n",
            "Train Epoch: 49 [12800/21279 (60%)]\tLoss: 0.695430\n",
            "Train Epoch: 49 [19200/21279 (90%)]\tLoss: 0.681971\n",
            "Test set: Average loss: 0.0108, Accuracy: 5653/10641 (53%)\n",
            "data shape: torch.Size([64, 12]) , target shape: torch.Size([64, 2]) , output shape: torch.Size([64, 2])\n",
            "Train Epoch: 50 [0/21279 (0%)]\tLoss: 0.690659\n",
            "Train Epoch: 50 [6400/21279 (30%)]\tLoss: 0.684190\n",
            "Train Epoch: 50 [12800/21279 (60%)]\tLoss: 0.687736\n",
            "Train Epoch: 50 [19200/21279 (90%)]\tLoss: 0.690517\n",
            "Test set: Average loss: 0.0108, Accuracy: 5621/10641 (53%)\n",
            "data shape: torch.Size([64, 12]) , target shape: torch.Size([64, 2]) , output shape: torch.Size([64, 2])\n",
            "Train Epoch: 51 [0/21279 (0%)]\tLoss: 0.692630\n",
            "Train Epoch: 51 [6400/21279 (30%)]\tLoss: 0.670191\n",
            "Train Epoch: 51 [12800/21279 (60%)]\tLoss: 0.684090\n",
            "Train Epoch: 51 [19200/21279 (90%)]\tLoss: 0.698984\n",
            "Test set: Average loss: 0.0108, Accuracy: 5625/10641 (53%)\n",
            "data shape: torch.Size([64, 12]) , target shape: torch.Size([64, 2]) , output shape: torch.Size([64, 2])\n",
            "Train Epoch: 52 [0/21279 (0%)]\tLoss: 0.692991\n",
            "Train Epoch: 52 [6400/21279 (30%)]\tLoss: 0.688769\n",
            "Train Epoch: 52 [12800/21279 (60%)]\tLoss: 0.669822\n",
            "Train Epoch: 52 [19200/21279 (90%)]\tLoss: 0.696468\n",
            "Test set: Average loss: 0.0108, Accuracy: 5599/10641 (53%)\n",
            "data shape: torch.Size([64, 12]) , target shape: torch.Size([64, 2]) , output shape: torch.Size([64, 2])\n",
            "Train Epoch: 53 [0/21279 (0%)]\tLoss: 0.695061\n",
            "Train Epoch: 53 [6400/21279 (30%)]\tLoss: 0.684378\n",
            "Train Epoch: 53 [12800/21279 (60%)]\tLoss: 0.678129\n",
            "Train Epoch: 53 [19200/21279 (90%)]\tLoss: 0.687948\n",
            "Test set: Average loss: 0.0109, Accuracy: 5623/10641 (53%)\n",
            "data shape: torch.Size([64, 12]) , target shape: torch.Size([64, 2]) , output shape: torch.Size([64, 2])\n",
            "Train Epoch: 54 [0/21279 (0%)]\tLoss: 0.686745\n",
            "Train Epoch: 54 [6400/21279 (30%)]\tLoss: 0.711026\n",
            "Train Epoch: 54 [12800/21279 (60%)]\tLoss: 0.688223\n",
            "Train Epoch: 54 [19200/21279 (90%)]\tLoss: 0.683029\n",
            "Test set: Average loss: 0.0108, Accuracy: 5628/10641 (53%)\n",
            "data shape: torch.Size([64, 12]) , target shape: torch.Size([64, 2]) , output shape: torch.Size([64, 2])\n",
            "Train Epoch: 55 [0/21279 (0%)]\tLoss: 0.677292\n",
            "Train Epoch: 55 [6400/21279 (30%)]\tLoss: 0.686029\n",
            "Train Epoch: 55 [12800/21279 (60%)]\tLoss: 0.688023\n",
            "Train Epoch: 55 [19200/21279 (90%)]\tLoss: 0.682432\n",
            "Test set: Average loss: 0.0108, Accuracy: 5655/10641 (53%)\n",
            "data shape: torch.Size([64, 12]) , target shape: torch.Size([64, 2]) , output shape: torch.Size([64, 2])\n",
            "Train Epoch: 56 [0/21279 (0%)]\tLoss: 0.670639\n",
            "Train Epoch: 56 [6400/21279 (30%)]\tLoss: 0.675611\n",
            "Train Epoch: 56 [12800/21279 (60%)]\tLoss: 0.697321\n",
            "Train Epoch: 56 [19200/21279 (90%)]\tLoss: 0.669508\n",
            "Test set: Average loss: 0.0109, Accuracy: 5623/10641 (53%)\n",
            "data shape: torch.Size([64, 12]) , target shape: torch.Size([64, 2]) , output shape: torch.Size([64, 2])\n",
            "Train Epoch: 57 [0/21279 (0%)]\tLoss: 0.682343\n",
            "Train Epoch: 57 [6400/21279 (30%)]\tLoss: 0.669054\n",
            "Train Epoch: 57 [12800/21279 (60%)]\tLoss: 0.683487\n",
            "Train Epoch: 57 [19200/21279 (90%)]\tLoss: 0.707621\n",
            "Test set: Average loss: 0.0108, Accuracy: 5646/10641 (53%)\n",
            "data shape: torch.Size([64, 12]) , target shape: torch.Size([64, 2]) , output shape: torch.Size([64, 2])\n",
            "Train Epoch: 58 [0/21279 (0%)]\tLoss: 0.673569\n",
            "Train Epoch: 58 [6400/21279 (30%)]\tLoss: 0.696436\n",
            "Train Epoch: 58 [12800/21279 (60%)]\tLoss: 0.695572\n",
            "Train Epoch: 58 [19200/21279 (90%)]\tLoss: 0.687406\n",
            "Test set: Average loss: 0.0108, Accuracy: 5645/10641 (53%)\n",
            "data shape: torch.Size([64, 12]) , target shape: torch.Size([64, 2]) , output shape: torch.Size([64, 2])\n",
            "Train Epoch: 59 [0/21279 (0%)]\tLoss: 0.683752\n",
            "Train Epoch: 59 [6400/21279 (30%)]\tLoss: 0.709370\n",
            "Train Epoch: 59 [12800/21279 (60%)]\tLoss: 0.700589\n",
            "Train Epoch: 59 [19200/21279 (90%)]\tLoss: 0.713195\n",
            "Test set: Average loss: 0.0108, Accuracy: 5673/10641 (53%)\n",
            "data shape: torch.Size([64, 12]) , target shape: torch.Size([64, 2]) , output shape: torch.Size([64, 2])\n",
            "Train Epoch: 60 [0/21279 (0%)]\tLoss: 0.708833\n",
            "Train Epoch: 60 [6400/21279 (30%)]\tLoss: 0.682935\n",
            "Train Epoch: 60 [12800/21279 (60%)]\tLoss: 0.668128\n",
            "Train Epoch: 60 [19200/21279 (90%)]\tLoss: 0.682949\n",
            "Test set: Average loss: 0.0109, Accuracy: 5624/10641 (53%)\n",
            "data shape: torch.Size([64, 12]) , target shape: torch.Size([64, 2]) , output shape: torch.Size([64, 2])\n",
            "Train Epoch: 61 [0/21279 (0%)]\tLoss: 0.710733\n",
            "Train Epoch: 61 [6400/21279 (30%)]\tLoss: 0.705401\n",
            "Train Epoch: 61 [12800/21279 (60%)]\tLoss: 0.698990\n",
            "Train Epoch: 61 [19200/21279 (90%)]\tLoss: 0.704012\n",
            "Test set: Average loss: 0.0108, Accuracy: 5629/10641 (53%)\n",
            "data shape: torch.Size([64, 12]) , target shape: torch.Size([64, 2]) , output shape: torch.Size([64, 2])\n",
            "Train Epoch: 62 [0/21279 (0%)]\tLoss: 0.673150\n",
            "Train Epoch: 62 [6400/21279 (30%)]\tLoss: 0.702526\n",
            "Train Epoch: 62 [12800/21279 (60%)]\tLoss: 0.688358\n",
            "Train Epoch: 62 [19200/21279 (90%)]\tLoss: 0.707077\n",
            "Test set: Average loss: 0.0109, Accuracy: 5611/10641 (53%)\n",
            "data shape: torch.Size([64, 12]) , target shape: torch.Size([64, 2]) , output shape: torch.Size([64, 2])\n",
            "Train Epoch: 63 [0/21279 (0%)]\tLoss: 0.685207\n",
            "Train Epoch: 63 [6400/21279 (30%)]\tLoss: 0.689658\n",
            "Train Epoch: 63 [12800/21279 (60%)]\tLoss: 0.686119\n",
            "Train Epoch: 63 [19200/21279 (90%)]\tLoss: 0.701961\n",
            "Test set: Average loss: 0.0108, Accuracy: 5642/10641 (53%)\n",
            "data shape: torch.Size([64, 12]) , target shape: torch.Size([64, 2]) , output shape: torch.Size([64, 2])\n",
            "Train Epoch: 64 [0/21279 (0%)]\tLoss: 0.687167\n",
            "Train Epoch: 64 [6400/21279 (30%)]\tLoss: 0.694711\n",
            "Train Epoch: 64 [12800/21279 (60%)]\tLoss: 0.695325\n",
            "Train Epoch: 64 [19200/21279 (90%)]\tLoss: 0.720035\n",
            "Test set: Average loss: 0.0108, Accuracy: 5627/10641 (53%)\n",
            "data shape: torch.Size([64, 12]) , target shape: torch.Size([64, 2]) , output shape: torch.Size([64, 2])\n",
            "Train Epoch: 65 [0/21279 (0%)]\tLoss: 0.680081\n",
            "Train Epoch: 65 [6400/21279 (30%)]\tLoss: 0.686683\n",
            "Train Epoch: 65 [12800/21279 (60%)]\tLoss: 0.697848\n",
            "Train Epoch: 65 [19200/21279 (90%)]\tLoss: 0.694724\n",
            "Test set: Average loss: 0.0108, Accuracy: 5610/10641 (53%)\n",
            "data shape: torch.Size([64, 12]) , target shape: torch.Size([64, 2]) , output shape: torch.Size([64, 2])\n",
            "Train Epoch: 66 [0/21279 (0%)]\tLoss: 0.703782\n",
            "Train Epoch: 66 [6400/21279 (30%)]\tLoss: 0.705613\n",
            "Train Epoch: 66 [12800/21279 (60%)]\tLoss: 0.694327\n",
            "Train Epoch: 66 [19200/21279 (90%)]\tLoss: 0.684813\n",
            "Test set: Average loss: 0.0108, Accuracy: 5658/10641 (53%)\n",
            "data shape: torch.Size([64, 12]) , target shape: torch.Size([64, 2]) , output shape: torch.Size([64, 2])\n",
            "Train Epoch: 67 [0/21279 (0%)]\tLoss: 0.674718\n",
            "Train Epoch: 67 [6400/21279 (30%)]\tLoss: 0.694410\n",
            "Train Epoch: 67 [12800/21279 (60%)]\tLoss: 0.694887\n",
            "Train Epoch: 67 [19200/21279 (90%)]\tLoss: 0.694183\n",
            "Test set: Average loss: 0.0108, Accuracy: 5630/10641 (53%)\n",
            "data shape: torch.Size([64, 12]) , target shape: torch.Size([64, 2]) , output shape: torch.Size([64, 2])\n",
            "Train Epoch: 68 [0/21279 (0%)]\tLoss: 0.684498\n",
            "Train Epoch: 68 [6400/21279 (30%)]\tLoss: 0.687130\n",
            "Train Epoch: 68 [12800/21279 (60%)]\tLoss: 0.688122\n",
            "Train Epoch: 68 [19200/21279 (90%)]\tLoss: 0.675401\n",
            "Test set: Average loss: 0.0109, Accuracy: 5619/10641 (53%)\n",
            "data shape: torch.Size([64, 12]) , target shape: torch.Size([64, 2]) , output shape: torch.Size([64, 2])\n",
            "Train Epoch: 69 [0/21279 (0%)]\tLoss: 0.690138\n",
            "Train Epoch: 69 [6400/21279 (30%)]\tLoss: 0.677424\n",
            "Train Epoch: 69 [12800/21279 (60%)]\tLoss: 0.694627\n",
            "Train Epoch: 69 [19200/21279 (90%)]\tLoss: 0.703765\n",
            "Test set: Average loss: 0.0109, Accuracy: 5578/10641 (52%)\n",
            "data shape: torch.Size([64, 12]) , target shape: torch.Size([64, 2]) , output shape: torch.Size([64, 2])\n",
            "Train Epoch: 70 [0/21279 (0%)]\tLoss: 0.715519\n",
            "Train Epoch: 70 [6400/21279 (30%)]\tLoss: 0.694329\n",
            "Train Epoch: 70 [12800/21279 (60%)]\tLoss: 0.700238\n",
            "Train Epoch: 70 [19200/21279 (90%)]\tLoss: 0.701158\n",
            "Test set: Average loss: 0.0108, Accuracy: 5653/10641 (53%)\n",
            "data shape: torch.Size([64, 12]) , target shape: torch.Size([64, 2]) , output shape: torch.Size([64, 2])\n",
            "Train Epoch: 71 [0/21279 (0%)]\tLoss: 0.692687\n",
            "Train Epoch: 71 [6400/21279 (30%)]\tLoss: 0.707065\n",
            "Train Epoch: 71 [12800/21279 (60%)]\tLoss: 0.682814\n",
            "Train Epoch: 71 [19200/21279 (90%)]\tLoss: 0.677783\n",
            "Test set: Average loss: 0.0108, Accuracy: 5630/10641 (53%)\n",
            "data shape: torch.Size([64, 12]) , target shape: torch.Size([64, 2]) , output shape: torch.Size([64, 2])\n",
            "Train Epoch: 72 [0/21279 (0%)]\tLoss: 0.674351\n",
            "Train Epoch: 72 [6400/21279 (30%)]\tLoss: 0.689753\n",
            "Train Epoch: 72 [12800/21279 (60%)]\tLoss: 0.677516\n",
            "Train Epoch: 72 [19200/21279 (90%)]\tLoss: 0.690154\n",
            "Test set: Average loss: 0.0108, Accuracy: 5623/10641 (53%)\n",
            "data shape: torch.Size([64, 12]) , target shape: torch.Size([64, 2]) , output shape: torch.Size([64, 2])\n",
            "Train Epoch: 73 [0/21279 (0%)]\tLoss: 0.684822\n",
            "Train Epoch: 73 [6400/21279 (30%)]\tLoss: 0.686874\n",
            "Train Epoch: 73 [12800/21279 (60%)]\tLoss: 0.687098\n",
            "Train Epoch: 73 [19200/21279 (90%)]\tLoss: 0.672400\n",
            "Test set: Average loss: 0.0108, Accuracy: 5634/10641 (53%)\n",
            "data shape: torch.Size([64, 12]) , target shape: torch.Size([64, 2]) , output shape: torch.Size([64, 2])\n",
            "Train Epoch: 74 [0/21279 (0%)]\tLoss: 0.683955\n",
            "Train Epoch: 74 [6400/21279 (30%)]\tLoss: 0.720677\n",
            "Train Epoch: 74 [12800/21279 (60%)]\tLoss: 0.691255\n",
            "Train Epoch: 74 [19200/21279 (90%)]\tLoss: 0.703248\n",
            "Test set: Average loss: 0.0109, Accuracy: 5603/10641 (53%)\n",
            "data shape: torch.Size([64, 12]) , target shape: torch.Size([64, 2]) , output shape: torch.Size([64, 2])\n",
            "Train Epoch: 75 [0/21279 (0%)]\tLoss: 0.697136\n",
            "Train Epoch: 75 [6400/21279 (30%)]\tLoss: 0.677617\n",
            "Train Epoch: 75 [12800/21279 (60%)]\tLoss: 0.696061\n",
            "Train Epoch: 75 [19200/21279 (90%)]\tLoss: 0.687177\n",
            "Test set: Average loss: 0.0108, Accuracy: 5639/10641 (53%)\n",
            "data shape: torch.Size([64, 12]) , target shape: torch.Size([64, 2]) , output shape: torch.Size([64, 2])\n",
            "Train Epoch: 76 [0/21279 (0%)]\tLoss: 0.680550\n",
            "Train Epoch: 76 [6400/21279 (30%)]\tLoss: 0.685069\n",
            "Train Epoch: 76 [12800/21279 (60%)]\tLoss: 0.677873\n",
            "Train Epoch: 76 [19200/21279 (90%)]\tLoss: 0.678211\n",
            "Test set: Average loss: 0.0108, Accuracy: 5645/10641 (53%)\n",
            "data shape: torch.Size([64, 12]) , target shape: torch.Size([64, 2]) , output shape: torch.Size([64, 2])\n",
            "Train Epoch: 77 [0/21279 (0%)]\tLoss: 0.696700\n",
            "Train Epoch: 77 [6400/21279 (30%)]\tLoss: 0.683784\n",
            "Train Epoch: 77 [12800/21279 (60%)]\tLoss: 0.689744\n",
            "Train Epoch: 77 [19200/21279 (90%)]\tLoss: 0.689733\n",
            "Test set: Average loss: 0.0108, Accuracy: 5634/10641 (53%)\n",
            "data shape: torch.Size([64, 12]) , target shape: torch.Size([64, 2]) , output shape: torch.Size([64, 2])\n",
            "Train Epoch: 78 [0/21279 (0%)]\tLoss: 0.679386\n",
            "Train Epoch: 78 [6400/21279 (30%)]\tLoss: 0.714487\n",
            "Train Epoch: 78 [12800/21279 (60%)]\tLoss: 0.698253\n",
            "Train Epoch: 78 [19200/21279 (90%)]\tLoss: 0.681987\n",
            "Test set: Average loss: 0.0108, Accuracy: 5652/10641 (53%)\n",
            "data shape: torch.Size([64, 12]) , target shape: torch.Size([64, 2]) , output shape: torch.Size([64, 2])\n",
            "Train Epoch: 79 [0/21279 (0%)]\tLoss: 0.677338\n",
            "Train Epoch: 79 [6400/21279 (30%)]\tLoss: 0.691696\n",
            "Train Epoch: 79 [12800/21279 (60%)]\tLoss: 0.681682\n",
            "Train Epoch: 79 [19200/21279 (90%)]\tLoss: 0.680440\n",
            "Test set: Average loss: 0.0108, Accuracy: 5654/10641 (53%)\n",
            "data shape: torch.Size([64, 12]) , target shape: torch.Size([64, 2]) , output shape: torch.Size([64, 2])\n",
            "Train Epoch: 80 [0/21279 (0%)]\tLoss: 0.690267\n",
            "Train Epoch: 80 [6400/21279 (30%)]\tLoss: 0.692353\n",
            "Train Epoch: 80 [12800/21279 (60%)]\tLoss: 0.679985\n",
            "Train Epoch: 80 [19200/21279 (90%)]\tLoss: 0.683709\n",
            "Test set: Average loss: 0.0109, Accuracy: 5592/10641 (53%)\n",
            "data shape: torch.Size([64, 12]) , target shape: torch.Size([64, 2]) , output shape: torch.Size([64, 2])\n",
            "Train Epoch: 81 [0/21279 (0%)]\tLoss: 0.698036\n",
            "Train Epoch: 81 [6400/21279 (30%)]\tLoss: 0.667770\n",
            "Train Epoch: 81 [12800/21279 (60%)]\tLoss: 0.684072\n",
            "Train Epoch: 81 [19200/21279 (90%)]\tLoss: 0.694747\n",
            "Test set: Average loss: 0.0108, Accuracy: 5641/10641 (53%)\n",
            "data shape: torch.Size([64, 12]) , target shape: torch.Size([64, 2]) , output shape: torch.Size([64, 2])\n",
            "Train Epoch: 82 [0/21279 (0%)]\tLoss: 0.687988\n",
            "Train Epoch: 82 [6400/21279 (30%)]\tLoss: 0.692234\n",
            "Train Epoch: 82 [12800/21279 (60%)]\tLoss: 0.671289\n",
            "Train Epoch: 82 [19200/21279 (90%)]\tLoss: 0.677095\n",
            "Test set: Average loss: 0.0108, Accuracy: 5642/10641 (53%)\n",
            "data shape: torch.Size([64, 12]) , target shape: torch.Size([64, 2]) , output shape: torch.Size([64, 2])\n",
            "Train Epoch: 83 [0/21279 (0%)]\tLoss: 0.691082\n",
            "Train Epoch: 83 [6400/21279 (30%)]\tLoss: 0.688473\n",
            "Train Epoch: 83 [12800/21279 (60%)]\tLoss: 0.700616\n",
            "Train Epoch: 83 [19200/21279 (90%)]\tLoss: 0.696875\n",
            "Test set: Average loss: 0.0108, Accuracy: 5629/10641 (53%)\n",
            "data shape: torch.Size([64, 12]) , target shape: torch.Size([64, 2]) , output shape: torch.Size([64, 2])\n",
            "Train Epoch: 84 [0/21279 (0%)]\tLoss: 0.670207\n",
            "Train Epoch: 84 [6400/21279 (30%)]\tLoss: 0.692595\n",
            "Train Epoch: 84 [12800/21279 (60%)]\tLoss: 0.691895\n",
            "Train Epoch: 84 [19200/21279 (90%)]\tLoss: 0.682192\n",
            "Test set: Average loss: 0.0108, Accuracy: 5624/10641 (53%)\n",
            "data shape: torch.Size([64, 12]) , target shape: torch.Size([64, 2]) , output shape: torch.Size([64, 2])\n",
            "Train Epoch: 85 [0/21279 (0%)]\tLoss: 0.702612\n",
            "Train Epoch: 85 [6400/21279 (30%)]\tLoss: 0.690736\n",
            "Train Epoch: 85 [12800/21279 (60%)]\tLoss: 0.685548\n",
            "Train Epoch: 85 [19200/21279 (90%)]\tLoss: 0.680919\n",
            "Test set: Average loss: 0.0109, Accuracy: 5621/10641 (53%)\n",
            "data shape: torch.Size([64, 12]) , target shape: torch.Size([64, 2]) , output shape: torch.Size([64, 2])\n",
            "Train Epoch: 86 [0/21279 (0%)]\tLoss: 0.700440\n",
            "Train Epoch: 86 [6400/21279 (30%)]\tLoss: 0.682060\n",
            "Train Epoch: 86 [12800/21279 (60%)]\tLoss: 0.699037\n",
            "Train Epoch: 86 [19200/21279 (90%)]\tLoss: 0.689572\n",
            "Test set: Average loss: 0.0108, Accuracy: 5628/10641 (53%)\n",
            "data shape: torch.Size([64, 12]) , target shape: torch.Size([64, 2]) , output shape: torch.Size([64, 2])\n",
            "Train Epoch: 87 [0/21279 (0%)]\tLoss: 0.695865\n",
            "Train Epoch: 87 [6400/21279 (30%)]\tLoss: 0.676792\n",
            "Train Epoch: 87 [12800/21279 (60%)]\tLoss: 0.723674\n",
            "Train Epoch: 87 [19200/21279 (90%)]\tLoss: 0.684008\n",
            "Test set: Average loss: 0.0108, Accuracy: 5658/10641 (53%)\n",
            "data shape: torch.Size([64, 12]) , target shape: torch.Size([64, 2]) , output shape: torch.Size([64, 2])\n",
            "Train Epoch: 88 [0/21279 (0%)]\tLoss: 0.670838\n",
            "Train Epoch: 88 [6400/21279 (30%)]\tLoss: 0.693187\n",
            "Train Epoch: 88 [12800/21279 (60%)]\tLoss: 0.669210\n",
            "Train Epoch: 88 [19200/21279 (90%)]\tLoss: 0.698817\n",
            "Test set: Average loss: 0.0108, Accuracy: 5660/10641 (53%)\n",
            "data shape: torch.Size([64, 12]) , target shape: torch.Size([64, 2]) , output shape: torch.Size([64, 2])\n",
            "Train Epoch: 89 [0/21279 (0%)]\tLoss: 0.671301\n",
            "Train Epoch: 89 [6400/21279 (30%)]\tLoss: 0.680587\n",
            "Train Epoch: 89 [12800/21279 (60%)]\tLoss: 0.669725\n",
            "Train Epoch: 89 [19200/21279 (90%)]\tLoss: 0.684133\n",
            "Test set: Average loss: 0.0108, Accuracy: 5598/10641 (53%)\n",
            "data shape: torch.Size([64, 12]) , target shape: torch.Size([64, 2]) , output shape: torch.Size([64, 2])\n",
            "Train Epoch: 90 [0/21279 (0%)]\tLoss: 0.703540\n",
            "Train Epoch: 90 [6400/21279 (30%)]\tLoss: 0.692359\n",
            "Train Epoch: 90 [12800/21279 (60%)]\tLoss: 0.684900\n",
            "Train Epoch: 90 [19200/21279 (90%)]\tLoss: 0.664923\n",
            "Test set: Average loss: 0.0109, Accuracy: 5584/10641 (52%)\n",
            "data shape: torch.Size([64, 12]) , target shape: torch.Size([64, 2]) , output shape: torch.Size([64, 2])\n",
            "Train Epoch: 91 [0/21279 (0%)]\tLoss: 0.686240\n",
            "Train Epoch: 91 [6400/21279 (30%)]\tLoss: 0.670915\n",
            "Train Epoch: 91 [12800/21279 (60%)]\tLoss: 0.694348\n",
            "Train Epoch: 91 [19200/21279 (90%)]\tLoss: 0.693254\n",
            "Test set: Average loss: 0.0108, Accuracy: 5631/10641 (53%)\n",
            "data shape: torch.Size([64, 12]) , target shape: torch.Size([64, 2]) , output shape: torch.Size([64, 2])\n",
            "Train Epoch: 92 [0/21279 (0%)]\tLoss: 0.698469\n",
            "Train Epoch: 92 [6400/21279 (30%)]\tLoss: 0.689882\n",
            "Train Epoch: 92 [12800/21279 (60%)]\tLoss: 0.695815\n",
            "Train Epoch: 92 [19200/21279 (90%)]\tLoss: 0.691426\n",
            "Test set: Average loss: 0.0108, Accuracy: 5651/10641 (53%)\n",
            "data shape: torch.Size([64, 12]) , target shape: torch.Size([64, 2]) , output shape: torch.Size([64, 2])\n",
            "Train Epoch: 93 [0/21279 (0%)]\tLoss: 0.695832\n",
            "Train Epoch: 93 [6400/21279 (30%)]\tLoss: 0.685835\n",
            "Train Epoch: 93 [12800/21279 (60%)]\tLoss: 0.695811\n",
            "Train Epoch: 93 [19200/21279 (90%)]\tLoss: 0.710873\n",
            "Test set: Average loss: 0.0109, Accuracy: 5635/10641 (53%)\n",
            "data shape: torch.Size([64, 12]) , target shape: torch.Size([64, 2]) , output shape: torch.Size([64, 2])\n",
            "Train Epoch: 94 [0/21279 (0%)]\tLoss: 0.664541\n",
            "Train Epoch: 94 [6400/21279 (30%)]\tLoss: 0.695841\n",
            "Train Epoch: 94 [12800/21279 (60%)]\tLoss: 0.692174\n",
            "Train Epoch: 94 [19200/21279 (90%)]\tLoss: 0.685812\n",
            "Test set: Average loss: 0.0109, Accuracy: 5591/10641 (53%)\n",
            "data shape: torch.Size([64, 12]) , target shape: torch.Size([64, 2]) , output shape: torch.Size([64, 2])\n",
            "Train Epoch: 95 [0/21279 (0%)]\tLoss: 0.676681\n",
            "Train Epoch: 95 [6400/21279 (30%)]\tLoss: 0.688470\n",
            "Train Epoch: 95 [12800/21279 (60%)]\tLoss: 0.690977\n",
            "Train Epoch: 95 [19200/21279 (90%)]\tLoss: 0.684375\n",
            "Test set: Average loss: 0.0108, Accuracy: 5649/10641 (53%)\n",
            "data shape: torch.Size([64, 12]) , target shape: torch.Size([64, 2]) , output shape: torch.Size([64, 2])\n",
            "Train Epoch: 96 [0/21279 (0%)]\tLoss: 0.691302\n",
            "Train Epoch: 96 [6400/21279 (30%)]\tLoss: 0.688146\n",
            "Train Epoch: 96 [12800/21279 (60%)]\tLoss: 0.681729\n",
            "Train Epoch: 96 [19200/21279 (90%)]\tLoss: 0.690045\n",
            "Test set: Average loss: 0.0108, Accuracy: 5635/10641 (53%)\n",
            "data shape: torch.Size([64, 12]) , target shape: torch.Size([64, 2]) , output shape: torch.Size([64, 2])\n",
            "Train Epoch: 97 [0/21279 (0%)]\tLoss: 0.695132\n",
            "Train Epoch: 97 [6400/21279 (30%)]\tLoss: 0.694953\n",
            "Train Epoch: 97 [12800/21279 (60%)]\tLoss: 0.705343\n",
            "Train Epoch: 97 [19200/21279 (90%)]\tLoss: 0.706485\n",
            "Test set: Average loss: 0.0109, Accuracy: 5579/10641 (52%)\n",
            "data shape: torch.Size([64, 12]) , target shape: torch.Size([64, 2]) , output shape: torch.Size([64, 2])\n",
            "Train Epoch: 98 [0/21279 (0%)]\tLoss: 0.698231\n",
            "Train Epoch: 98 [6400/21279 (30%)]\tLoss: 0.695955\n",
            "Train Epoch: 98 [12800/21279 (60%)]\tLoss: 0.700447\n",
            "Train Epoch: 98 [19200/21279 (90%)]\tLoss: 0.701834\n",
            "Test set: Average loss: 0.0108, Accuracy: 5620/10641 (53%)\n",
            "data shape: torch.Size([64, 12]) , target shape: torch.Size([64, 2]) , output shape: torch.Size([64, 2])\n",
            "Train Epoch: 99 [0/21279 (0%)]\tLoss: 0.697451\n",
            "Train Epoch: 99 [6400/21279 (30%)]\tLoss: 0.690836\n",
            "Train Epoch: 99 [12800/21279 (60%)]\tLoss: 0.677059\n",
            "Train Epoch: 99 [19200/21279 (90%)]\tLoss: 0.710348\n",
            "Test set: Average loss: 0.0109, Accuracy: 5630/10641 (53%)\n",
            "data shape: torch.Size([64, 12]) , target shape: torch.Size([64, 2]) , output shape: torch.Size([64, 2])\n",
            "Train Epoch: 100 [0/21279 (0%)]\tLoss: 0.686370\n",
            "Train Epoch: 100 [6400/21279 (30%)]\tLoss: 0.694868\n",
            "Train Epoch: 100 [12800/21279 (60%)]\tLoss: 0.698055\n",
            "Train Epoch: 100 [19200/21279 (90%)]\tLoss: 0.678094\n",
            "Test set: Average loss: 0.0108, Accuracy: 5645/10641 (53%)\n"
          ]
        }
      ],
      "source": [
        "model = CCV1().to(DEVICE)\n",
        "optimizer = optim.SGD(model.parameters(), lr=0.05,momentum=0.5)\n",
        "criterion = F.cross_entropy\n",
        "\n",
        "train_loader = DataLoader(train_dataset, batch_size=64, shuffle=True, num_workers=0)\n",
        "test_loader = DataLoader(test_dataset, batch_size=64, shuffle=False, num_workers=0)\n",
        "\n",
        "test_acc_list = []\n",
        "test_loss_list = []\n",
        "\n",
        "for epoch in range(1, EPOCHS + 1):\n",
        "    train(model, train_loader, optimizer, criterion, epoch, DEVICE)\n",
        "    test_acc, test_loss = test(model, test_loader, criterion, DEVICE)\n",
        "    test_acc_list.append(test_acc)\n",
        "    test_loss_list.append(test_loss)"
      ]
    },
    {
      "cell_type": "code",
      "execution_count": 43,
      "metadata": {},
      "outputs": [
        {
          "data": {
            "image/png": "[encoded data removed]",
            "text/plain": [
              "<Figure size 640x480 with 1 Axes>"
            ]
          },
          "metadata": {},
          "output_type": "display_data"
        }
      ],
      "source": [
        "#plot acc\n",
        "from matplotlib import pyplot as plt\n",
        "plt.plot(test_acc_list,label='acc')\n",
        "plt.legend()\n",
        "plt.show()"
      ]
    },
    {
      "cell_type": "code",
      "execution_count": 44,
      "metadata": {},
      "outputs": [
        {
          "data": {
            "image/png": "[encoded data removed]",
            "text/plain": [
              "<Figure size 640x480 with 1 Axes>"
            ]
          },
          "metadata": {},
          "output_type": "display_data"
        }
      ],
      "source": [
        "#plot loss\n",
        "plt.plot(test_loss_list,label='loss')\n",
        "plt.legend()\n",
        "plt.show()"
      ]
    },
    {
      "cell_type": "code",
      "execution_count": 45,
      "metadata": {},
      "outputs": [
        {
          "name": "stdout",
          "output_type": "stream",
          "text": [
            "tensor([-0.1590,  0.0431], grad_fn=<AddBackward0>)\n",
            "tensor([0., 1.])\n"
          ]
        }
      ],
      "source": [
        "print(model(X_val[0].to(DEVICE)))\n",
        "print(y_val[0])"
      ]
    },
    {
      "cell_type": "code",
      "execution_count": 50,
      "metadata": {},
      "outputs": [
        {
          "name": "stdout",
          "output_type": "stream",
          "text": [
            "data shape: torch.Size([64, 12]) , target shape: torch.Size([64, 2]) , output shape: torch.Size([64, 2])\n",
            "Train Epoch: 1 [0/21279 (0%)]\tLoss: 0.688686\n"
          ]
        },
        {
          "ename": "KeyboardInterrupt",
          "evalue": "",
          "output_type": "error",
          "traceback": [
            "\u001b[1;31m---------------------------------------------------------------------------\u001b[0m",
            "\u001b[1;31mKeyboardInterrupt\u001b[0m                         Traceback (most recent call last)",
            "Cell \u001b[1;32mIn [50], line 12\u001b[0m\n\u001b[0;32m      9\u001b[0m test_loss_list \u001b[39m=\u001b[39m []\n\u001b[0;32m     11\u001b[0m \u001b[39mfor\u001b[39;00m epoch \u001b[39min\u001b[39;00m \u001b[39mrange\u001b[39m(\u001b[39m1\u001b[39m, EPOCHS \u001b[39m+\u001b[39m \u001b[39m1\u001b[39m):\n\u001b[1;32m---> 12\u001b[0m     train(model3, train_loader, optimizer, criterion, epoch, DEVICE)\n\u001b[0;32m     13\u001b[0m     test_acc, test_loss \u001b[39m=\u001b[39m test(model3, test_loader, criterion, DEVICE)\n\u001b[0;32m     14\u001b[0m     test_acc_list\u001b[39m.\u001b[39mappend(test_acc)\n",
            "Cell \u001b[1;32mIn [26], line 9\u001b[0m, in \u001b[0;36mtrain\u001b[1;34m(model, train_loader, optimizer, criterion, epoch, device)\u001b[0m\n\u001b[0;32m      7\u001b[0m output \u001b[39m=\u001b[39m model(data)\n\u001b[0;32m      8\u001b[0m loss \u001b[39m=\u001b[39m criterion(output, target)\n\u001b[1;32m----> 9\u001b[0m loss\u001b[39m.\u001b[39;49mbackward()\n\u001b[0;32m     10\u001b[0m optimizer\u001b[39m.\u001b[39mstep()\n\u001b[0;32m     11\u001b[0m \u001b[39mif\u001b[39;00m batch_idx \u001b[39m==\u001b[39m \u001b[39m0\u001b[39m:\n",
            "File \u001b[1;32m~\\AppData\\Roaming\\Python\\Python310\\site-packages\\torch\\_tensor.py:488\u001b[0m, in \u001b[0;36mTensor.backward\u001b[1;34m(self, gradient, retain_graph, create_graph, inputs)\u001b[0m\n\u001b[0;32m    478\u001b[0m \u001b[39mif\u001b[39;00m has_torch_function_unary(\u001b[39mself\u001b[39m):\n\u001b[0;32m    479\u001b[0m     \u001b[39mreturn\u001b[39;00m handle_torch_function(\n\u001b[0;32m    480\u001b[0m         Tensor\u001b[39m.\u001b[39mbackward,\n\u001b[0;32m    481\u001b[0m         (\u001b[39mself\u001b[39m,),\n\u001b[1;32m   (...)\u001b[0m\n\u001b[0;32m    486\u001b[0m         inputs\u001b[39m=\u001b[39minputs,\n\u001b[0;32m    487\u001b[0m     )\n\u001b[1;32m--> 488\u001b[0m torch\u001b[39m.\u001b[39;49mautograd\u001b[39m.\u001b[39;49mbackward(\n\u001b[0;32m    489\u001b[0m     \u001b[39mself\u001b[39;49m, gradient, retain_graph, create_graph, inputs\u001b[39m=\u001b[39;49minputs\n\u001b[0;32m    490\u001b[0m )\n",
            "File \u001b[1;32m~\\AppData\\Roaming\\Python\\Python310\\site-packages\\torch\\autograd\\__init__.py:197\u001b[0m, in \u001b[0;36mbackward\u001b[1;34m(tensors, grad_tensors, retain_graph, create_graph, grad_variables, inputs)\u001b[0m\n\u001b[0;32m    192\u001b[0m     retain_graph \u001b[39m=\u001b[39m create_graph\n\u001b[0;32m    194\u001b[0m \u001b[39m# The reason we repeat same the comment below is that\u001b[39;00m\n\u001b[0;32m    195\u001b[0m \u001b[39m# some Python versions print out the first line of a multi-line function\u001b[39;00m\n\u001b[0;32m    196\u001b[0m \u001b[39m# calls in the traceback and some print out the last line\u001b[39;00m\n\u001b[1;32m--> 197\u001b[0m Variable\u001b[39m.\u001b[39;49m_execution_engine\u001b[39m.\u001b[39;49mrun_backward(  \u001b[39m# Calls into the C++ engine to run the backward pass\u001b[39;49;00m\n\u001b[0;32m    198\u001b[0m     tensors, grad_tensors_, retain_graph, create_graph, inputs,\n\u001b[0;32m    199\u001b[0m     allow_unreachable\u001b[39m=\u001b[39;49m\u001b[39mTrue\u001b[39;49;00m, accumulate_grad\u001b[39m=\u001b[39;49m\u001b[39mTrue\u001b[39;49;00m)\n",
            "\u001b[1;31mKeyboardInterrupt\u001b[0m: "
          ]
        }
      ],
      "source": [
        "\n",
        "model3 = CCV3().to(DEVICE)\n",
        "optimizer = optim.SGD(model3.parameters(), lr=0.01, momentum=0.5)\n",
        "criterion = F.cross_entropy\n",
        "\n",
        "train_loader = DataLoader(train_dataset, batch_size=64, shuffle=True, num_workers=0)\n",
        "test_loader = DataLoader(test_dataset, batch_size=64, shuffle=False, num_workers=0)\n",
        "\n",
        "test_acc_list = []\n",
        "test_loss_list = []\n",
        "\n",
        "for epoch in range(1, EPOCHS + 1):\n",
        "    train(model3, train_loader, optimizer, criterion, epoch, DEVICE)\n",
        "    test_acc, test_loss = test(model3, test_loader, criterion, DEVICE)\n",
        "    test_acc_list.append(test_acc)\n",
        "    test_loss_list.append(test_loss)"
      ]
    },
    {
      "cell_type": "code",
      "execution_count": null,
      "metadata": {},
      "outputs": [
        {
          "data": {
            "image/png": "[encoded data removed]",
            "text/plain": [
              "<Figure size 640x480 with 1 Axes>"
            ]
          },
          "metadata": {},
          "output_type": "display_data"
        }
      ],
      "source": [
        "#plot acc\n",
        "from matplotlib import pyplot as plt\n",
        "plt.plot(test_acc_list,label='acc')\n",
        "plt.legend()\n",
        "plt.show()"
      ]
    },
    {
      "cell_type": "code",
      "execution_count": null,
      "metadata": {},
      "outputs": [
        {
          "data": {
            "image/png": "[encoded data removed]",
            "text/plain": [
              "<Figure size 640x480 with 1 Axes>"
            ]
          },
          "metadata": {},
          "output_type": "display_data"
        }
      ],
      "source": [
        "#plot loss\n",
        "plt.plot(test_loss_list,label='loss')\n",
        "plt.legend()\n",
        "plt.show()"
      ]
    },
    {
      "cell_type": "code",
      "execution_count": 32,
      "metadata": {},
      "outputs": [
        {
          "data": {
            "text/plain": [
              "<AxesSubplot: >"
            ]
          },
          "execution_count": 32,
          "metadata": {},
          "output_type": "execute_result"
        },
        {
          "data": {
            "image/png": "[encoded data removed]",
            "text/plain": [
              "<Figure size 1000x700 with 2 Axes>"
            ]
          },
          "metadata": {},
          "output_type": "display_data"
        }
      ],
      "source": [
        "#confusion matrix\n",
        "#TT TF\n",
        "#FT FF\n",
        "from sklearn.metrics import confusion_matrix\n",
        "import seaborn as sns\n",
        "\n",
        "y_pred = model(X_val.to(DEVICE)).argmax(dim=1, keepdim=True)\n",
        "y_true = y_val.argmax(1, keepdim=True).view_as(y_pred)\n",
        "cm = confusion_matrix(y_true.cpu(), y_pred.cpu())\n",
        "df_cm = pd.DataFrame(cm, index = [i for i in \"TF\"],\n",
        "                    columns = [i for i in \"TF\"])\n",
        "plt.figure(figsize = (10,7))\n",
        "sns.heatmap(df_cm, annot=True)"
      ]
    },
    {
      "cell_type": "code",
      "execution_count": 33,
      "metadata": {},
      "outputs": [
        {
          "data": {
            "text/plain": [
              "tensor([[1],\n",
              "        [1],\n",
              "        [1],\n",
              "        ...,\n",
              "        [1],\n",
              "        [1],\n",
              "        [1]])"
            ]
          },
          "execution_count": 33,
          "metadata": {},
          "output_type": "execute_result"
        }
      ],
      "source": [
        "y_pred"
      ]
    }
  ],
  "metadata": {
    "accelerator": "GPU",
    "colab": {
      "include_colab_link": true,
      "machine_shape": "hm",
      "provenance": []
    },
    "gpuClass": "premium",
    "kernelspec": {
      "display_name": "Python 3",
      "language": "python",
      "name": "python3"
    },
    "language_info": {
      "codemirror_mode": {
        "name": "ipython",
        "version": 3
      },
      "file_extension": ".py",
      "mimetype": "text/x-python",
      "name": "python",
      "nbconvert_exporter": "python",
      "pygments_lexer": "ipython3",
      "version": "3.10.8"
    },
    "orig_nbformat": 4,
    "vscode": {
      "interpreter": {
        "hash": "26de051ba29f2982a8de78e945f0abaf191376122a1563185a90213a26c5da77"
      }
    }
  },
  "nbformat": 4,
  "nbformat_minor": 0
}
