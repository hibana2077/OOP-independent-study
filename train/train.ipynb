{
 "cells": [
  {
   "attachments": {},
   "cell_type": "markdown",
   "metadata": {},
   "source": [
    "[![GitHub](https://img.shields.io/badge/Github-hibana2077-blue?style=plastic-square&logo=github)](https://github.com/hibana2077)\n",
    "[![Colab](https://img.shields.io/badge/Colab-Open%20in%20Colab-blue?style=plastic-square&logo=googlecolab)](https://colab.research.google.com/github/hibana2077/hibana2077/blob/master/train/train.ipynb)"
   ]
  },
  {
   "attachments": {},
   "cell_type": "markdown",
   "metadata": {},
   "source": [
    "如果要訓練這份資料集會需要安裝talib套件，請參考[這裡](https://www.lfd.uci.edu/~gohlke/pythonlibs/#ta-lib)下載對應的版本，並使用pip安裝。"
   ]
  },
  {
   "cell_type": "code",
   "execution_count": null,
   "metadata": {},
   "outputs": [],
   "source": [
    "!pip install -U pytorch"
   ]
  },
  {
   "cell_type": "code",
   "execution_count": 1,
   "metadata": {},
   "outputs": [],
   "source": [
    "from ccxt import binance\n",
    "from torch.utils.data import Dataset, DataLoader\n",
    "from torch import nn\n",
    "from torch import optim\n",
    "from torch.nn import functional as F\n",
    "from talib import abstract\n",
    "import pandas as pd\n",
    "import numpy as np\n",
    "import torch\n",
    "import os\n",
    "import sys"
   ]
  },
  {
   "attachments": {},
   "cell_type": "markdown",
   "metadata": {},
   "source": [
    "# 環境整理"
   ]
  },
  {
   "cell_type": "code",
   "execution_count": 2,
   "metadata": {},
   "outputs": [],
   "source": [
    "ls_dir = os.listdir(path=\"..\")\n",
    "if \"data\" not in ls_dir:\n",
    "    os.mkdir(path=\"../data\")\n",
    "if \"model\" not in ls_dir:\n",
    "    os.mkdir(path=\"../model\")\n",
    "if \"data\" in ls_dir:\n",
    "    ls_dir = os.listdir(path=\"../data\")\n",
    "    #remove all files in data folder\n",
    "    for file in ls_dir:os.remove(path=\"../data/\"+file)"
   ]
  },
  {
   "attachments": {},
   "cell_type": "markdown",
   "metadata": {},
   "source": [
    "# 下載資料集"
   ]
  },
  {
   "cell_type": "code",
   "execution_count": 3,
   "metadata": {},
   "outputs": [],
   "source": [
    "# Binance BTC/USDT 1h candles from 2020-01-01 to 2021-01-01\n",
    "\n",
    "binance = binance()\n",
    "symbol = 'BTC/USDT'\n",
    "timeframe = '1h'\n",
    "file_name = f\"../data/{symbol.replace('/', '_')}_{timeframe}.csv\"\n",
    "start = binance.parse8601('2020-01-01T00:00:00Z')\n",
    "end = binance.parse8601('2022-01-01T00:00:00Z')\n",
    "cnt_time = start\n",
    "data = []\n",
    "while cnt_time < end:\n",
    "    ohlcv = binance.fetch_ohlcv(symbol, timeframe, cnt_time)\n",
    "    data += ohlcv\n",
    "    cnt_time = ohlcv[-1][0] + 3600000 # 1h in ms    \n",
    "df = pd.DataFrame(data, columns=['time', 'open', 'high', 'low', 'close', 'volume'])\n",
    "df['time'] = pd.to_datetime(df['time'], unit='ms')\n",
    "df.to_csv(file_name, index=False)"
   ]
  },
  {
   "attachments": {},
   "cell_type": "markdown",
   "metadata": {},
   "source": [
    "# 讀取資料集"
   ]
  },
  {
   "cell_type": "code",
   "execution_count": 2,
   "metadata": {},
   "outputs": [],
   "source": [
    "#如果有下载好的數據，可以直接讀取\n",
    "data_file = '../data/btc_usdt_1h.csv' #-> 可以自行更換\n",
    "df = pd.read_csv(data_file)"
   ]
  },
  {
   "attachments": {},
   "cell_type": "markdown",
   "metadata": {},
   "source": [
    "# 數據處理\n",
    "\n",
    "- 計算RSI\n",
    "- 計算MACD\n",
    "- 計算OBV\n",
    "- 計算CCI\n",
    "- 改成變化百分比 -> 標準化\n",
    "\n",
    "關於技術指標的說明可以參考[這裡](https://www.investopedia.com/terms/t/technicalindicator.asp)，或是google。"
   ]
  },
  {
   "cell_type": "code",
   "execution_count": 4,
   "metadata": {},
   "outputs": [],
   "source": [
    "df['RSI'] = abstract.RSI(df, timeperiod=14)\n",
    "df['MACD'] = abstract.MACD(df, fastperiod=12, slowperiod=26, signalperiod=9)['macd'] #只取MACD\n",
    "df['OBV'] = abstract.OBV(df, timeperiod=14)\n",
    "df['CCI'] = abstract.CCI(df, timeperiod=14)\n",
    "df['OPEN_percent'] = df['open'].pct_change()\n",
    "df['CLOSE_percent'] = df['close'].pct_change()\n",
    "df['HIGH_percent'] = df['high'].pct_change()\n",
    "df['LOW_percent'] = df['low'].pct_change()\n",
    "df['VOLUME_percent'] = df['volume'].pct_change()\n",
    "#由於RSI MACD OBV CCI 他們已經是標準化的，所以不需要再標準化"
   ]
  },
  {
   "attachments": {},
   "cell_type": "markdown",
   "metadata": {},
   "source": [
    "# 設定買賣點\n",
    "\n",
    "將買賣點分為下跌、上漲、不動，並將數據轉成one-hot編碼。"
   ]
  },
  {
   "cell_type": "code",
   "execution_count": 5,
   "metadata": {},
   "outputs": [],
   "source": [
    "df['UP'] = df['CLOSE_percent'].apply(lambda x: 1 if x > 0 else 0)\n",
    "df['DOWN'] = df['CLOSE_percent'].apply(lambda x: 1 if x < 0 else 0)\n",
    "df['UP'] = df['UP'].shift(-1) #shift UP DOWN 一個單位，因為我們要預測的是下一個時間點的漲跌\n",
    "df['DOWN'] = df['DOWN'].shift(-1)\n",
    "\n",
    "df = df.dropna()\n"
   ]
  },
  {
   "cell_type": "code",
   "execution_count": 3,
   "metadata": {},
   "outputs": [
    {
     "data": {
      "text/html": [
       "<div>\n",
       "<style scoped>\n",
       "    .dataframe tbody tr th:only-of-type {\n",
       "        vertical-align: middle;\n",
       "    }\n",
       "\n",
       "    .dataframe tbody tr th {\n",
       "        vertical-align: top;\n",
       "    }\n",
       "\n",
       "    .dataframe thead th {\n",
       "        text-align: right;\n",
       "    }\n",
       "</style>\n",
       "<table border=\"1\" class=\"dataframe\">\n",
       "  <thead>\n",
       "    <tr style=\"text-align: right;\">\n",
       "      <th></th>\n",
       "      <th>time</th>\n",
       "      <th>open</th>\n",
       "      <th>high</th>\n",
       "      <th>low</th>\n",
       "      <th>close</th>\n",
       "      <th>volume</th>\n",
       "      <th>RSI</th>\n",
       "      <th>MACD</th>\n",
       "      <th>OBV</th>\n",
       "      <th>CCI</th>\n",
       "      <th>OPEN_percent</th>\n",
       "      <th>CLOSE_percent</th>\n",
       "      <th>HIGH_percent</th>\n",
       "      <th>LOW_percent</th>\n",
       "      <th>VOLUME_percent</th>\n",
       "      <th>UP</th>\n",
       "      <th>DOWN</th>\n",
       "    </tr>\n",
       "  </thead>\n",
       "  <tbody>\n",
       "    <tr>\n",
       "      <th>0</th>\n",
       "      <td>2020-01-02 09:00:00</td>\n",
       "      <td>7153.57</td>\n",
       "      <td>7165.00</td>\n",
       "      <td>7135.36</td>\n",
       "      <td>7162.01</td>\n",
       "      <td>840.001328</td>\n",
       "      <td>46.653946</td>\n",
       "      <td>-18.772873</td>\n",
       "      <td>-1085.293960</td>\n",
       "      <td>-35.190579</td>\n",
       "      <td>0.005989</td>\n",
       "      <td>0.001069</td>\n",
       "      <td>0.001051</td>\n",
       "      <td>0.003692</td>\n",
       "      <td>-0.246517</td>\n",
       "      <td>0.0</td>\n",
       "      <td>1.0</td>\n",
       "    </tr>\n",
       "    <tr>\n",
       "      <th>1</th>\n",
       "      <td>2020-01-02 10:00:00</td>\n",
       "      <td>7162.18</td>\n",
       "      <td>7180.00</td>\n",
       "      <td>7153.33</td>\n",
       "      <td>7161.83</td>\n",
       "      <td>1446.219984</td>\n",
       "      <td>46.612835</td>\n",
       "      <td>-17.585034</td>\n",
       "      <td>-2531.513944</td>\n",
       "      <td>-4.322773</td>\n",
       "      <td>0.001204</td>\n",
       "      <td>-0.000025</td>\n",
       "      <td>0.002094</td>\n",
       "      <td>0.002518</td>\n",
       "      <td>0.721688</td>\n",
       "      <td>0.0</td>\n",
       "      <td>1.0</td>\n",
       "    </tr>\n",
       "    <tr>\n",
       "      <th>2</th>\n",
       "      <td>2020-01-02 11:00:00</td>\n",
       "      <td>7161.89</td>\n",
       "      <td>7168.67</td>\n",
       "      <td>7139.03</td>\n",
       "      <td>7139.79</td>\n",
       "      <td>761.156570</td>\n",
       "      <td>41.760421</td>\n",
       "      <td>-18.212168</td>\n",
       "      <td>-3292.670514</td>\n",
       "      <td>-32.074422</td>\n",
       "      <td>-0.000040</td>\n",
       "      <td>-0.003077</td>\n",
       "      <td>-0.001578</td>\n",
       "      <td>-0.001999</td>\n",
       "      <td>-0.473692</td>\n",
       "      <td>1.0</td>\n",
       "      <td>0.0</td>\n",
       "    </tr>\n",
       "    <tr>\n",
       "      <th>3</th>\n",
       "      <td>2020-01-02 12:00:00</td>\n",
       "      <td>7139.73</td>\n",
       "      <td>7163.40</td>\n",
       "      <td>7139.03</td>\n",
       "      <td>7158.29</td>\n",
       "      <td>794.030497</td>\n",
       "      <td>46.769498</td>\n",
       "      <td>-17.020182</td>\n",
       "      <td>-2498.640017</td>\n",
       "      <td>-11.448699</td>\n",
       "      <td>-0.003094</td>\n",
       "      <td>0.002591</td>\n",
       "      <td>-0.000735</td>\n",
       "      <td>0.000000</td>\n",
       "      <td>0.043189</td>\n",
       "      <td>0.0</td>\n",
       "      <td>1.0</td>\n",
       "    </tr>\n",
       "    <tr>\n",
       "      <th>4</th>\n",
       "      <td>2020-01-02 13:00:00</td>\n",
       "      <td>7158.86</td>\n",
       "      <td>7163.35</td>\n",
       "      <td>7107.43</td>\n",
       "      <td>7131.15</td>\n",
       "      <td>1566.280693</td>\n",
       "      <td>41.174606</td>\n",
       "      <td>-18.057343</td>\n",
       "      <td>-4064.920710</td>\n",
       "      <td>-69.799501</td>\n",
       "      <td>0.002679</td>\n",
       "      <td>-0.003791</td>\n",
       "      <td>-0.000007</td>\n",
       "      <td>-0.004426</td>\n",
       "      <td>0.972570</td>\n",
       "      <td>1.0</td>\n",
       "      <td>0.0</td>\n",
       "    </tr>\n",
       "    <tr>\n",
       "      <th>...</th>\n",
       "      <td>...</td>\n",
       "      <td>...</td>\n",
       "      <td>...</td>\n",
       "      <td>...</td>\n",
       "      <td>...</td>\n",
       "      <td>...</td>\n",
       "      <td>...</td>\n",
       "      <td>...</td>\n",
       "      <td>...</td>\n",
       "      <td>...</td>\n",
       "      <td>...</td>\n",
       "      <td>...</td>\n",
       "      <td>...</td>\n",
       "      <td>...</td>\n",
       "      <td>...</td>\n",
       "      <td>...</td>\n",
       "      <td>...</td>\n",
       "    </tr>\n",
       "    <tr>\n",
       "      <th>17961</th>\n",
       "      <td>2022-01-21 01:00:00</td>\n",
       "      <td>40894.81</td>\n",
       "      <td>40929.76</td>\n",
       "      <td>39730.00</td>\n",
       "      <td>39762.99</td>\n",
       "      <td>4172.351850</td>\n",
       "      <td>25.308075</td>\n",
       "      <td>-334.514225</td>\n",
       "      <td>697285.662621</td>\n",
       "      <td>-152.190082</td>\n",
       "      <td>0.005258</td>\n",
       "      <td>-0.027676</td>\n",
       "      <td>-0.004142</td>\n",
       "      <td>-0.016682</td>\n",
       "      <td>0.284850</td>\n",
       "      <td>1.0</td>\n",
       "      <td>0.0</td>\n",
       "    </tr>\n",
       "    <tr>\n",
       "      <th>17962</th>\n",
       "      <td>2022-01-21 02:00:00</td>\n",
       "      <td>39763.00</td>\n",
       "      <td>40280.00</td>\n",
       "      <td>39267.86</td>\n",
       "      <td>39830.52</td>\n",
       "      <td>4354.458167</td>\n",
       "      <td>26.469820</td>\n",
       "      <td>-445.353256</td>\n",
       "      <td>701640.120788</td>\n",
       "      <td>-137.983834</td>\n",
       "      <td>-0.027676</td>\n",
       "      <td>0.001698</td>\n",
       "      <td>-0.015875</td>\n",
       "      <td>-0.011632</td>\n",
       "      <td>0.043646</td>\n",
       "      <td>0.0</td>\n",
       "      <td>1.0</td>\n",
       "    </tr>\n",
       "    <tr>\n",
       "      <th>17963</th>\n",
       "      <td>2022-01-21 03:00:00</td>\n",
       "      <td>39835.99</td>\n",
       "      <td>39944.45</td>\n",
       "      <td>38220.00</td>\n",
       "      <td>38465.65</td>\n",
       "      <td>9508.823455</td>\n",
       "      <td>19.775068</td>\n",
       "      <td>-635.996220</td>\n",
       "      <td>692131.297333</td>\n",
       "      <td>-150.716081</td>\n",
       "      <td>0.001836</td>\n",
       "      <td>-0.034267</td>\n",
       "      <td>-0.008330</td>\n",
       "      <td>-0.026685</td>\n",
       "      <td>1.183698</td>\n",
       "      <td>1.0</td>\n",
       "      <td>0.0</td>\n",
       "    </tr>\n",
       "    <tr>\n",
       "      <th>17964</th>\n",
       "      <td>2022-01-21 04:00:00</td>\n",
       "      <td>38465.65</td>\n",
       "      <td>39070.00</td>\n",
       "      <td>38437.15</td>\n",
       "      <td>38842.03</td>\n",
       "      <td>3091.420650</td>\n",
       "      <td>25.379860</td>\n",
       "      <td>-748.087930</td>\n",
       "      <td>695222.717983</td>\n",
       "      <td>-126.902770</td>\n",
       "      <td>-0.034400</td>\n",
       "      <td>0.009785</td>\n",
       "      <td>-0.021892</td>\n",
       "      <td>0.005682</td>\n",
       "      <td>-0.674889</td>\n",
       "      <td>1.0</td>\n",
       "      <td>0.0</td>\n",
       "    </tr>\n",
       "    <tr>\n",
       "      <th>17965</th>\n",
       "      <td>2022-01-21 05:00:00</td>\n",
       "      <td>38842.03</td>\n",
       "      <td>38998.00</td>\n",
       "      <td>38700.19</td>\n",
       "      <td>38909.01</td>\n",
       "      <td>2658.659590</td>\n",
       "      <td>26.365761</td>\n",
       "      <td>-822.040718</td>\n",
       "      <td>697881.377573</td>\n",
       "      <td>-106.568770</td>\n",
       "      <td>0.009785</td>\n",
       "      <td>0.001724</td>\n",
       "      <td>-0.001843</td>\n",
       "      <td>0.006843</td>\n",
       "      <td>-0.139988</td>\n",
       "      <td>0.0</td>\n",
       "      <td>1.0</td>\n",
       "    </tr>\n",
       "  </tbody>\n",
       "</table>\n",
       "<p>17966 rows × 17 columns</p>\n",
       "</div>"
      ],
      "text/plain": [
       "                      time      open      high       low     close  \\\n",
       "0      2020-01-02 09:00:00   7153.57   7165.00   7135.36   7162.01   \n",
       "1      2020-01-02 10:00:00   7162.18   7180.00   7153.33   7161.83   \n",
       "2      2020-01-02 11:00:00   7161.89   7168.67   7139.03   7139.79   \n",
       "3      2020-01-02 12:00:00   7139.73   7163.40   7139.03   7158.29   \n",
       "4      2020-01-02 13:00:00   7158.86   7163.35   7107.43   7131.15   \n",
       "...                    ...       ...       ...       ...       ...   \n",
       "17961  2022-01-21 01:00:00  40894.81  40929.76  39730.00  39762.99   \n",
       "17962  2022-01-21 02:00:00  39763.00  40280.00  39267.86  39830.52   \n",
       "17963  2022-01-21 03:00:00  39835.99  39944.45  38220.00  38465.65   \n",
       "17964  2022-01-21 04:00:00  38465.65  39070.00  38437.15  38842.03   \n",
       "17965  2022-01-21 05:00:00  38842.03  38998.00  38700.19  38909.01   \n",
       "\n",
       "            volume        RSI        MACD            OBV         CCI  \\\n",
       "0       840.001328  46.653946  -18.772873   -1085.293960  -35.190579   \n",
       "1      1446.219984  46.612835  -17.585034   -2531.513944   -4.322773   \n",
       "2       761.156570  41.760421  -18.212168   -3292.670514  -32.074422   \n",
       "3       794.030497  46.769498  -17.020182   -2498.640017  -11.448699   \n",
       "4      1566.280693  41.174606  -18.057343   -4064.920710  -69.799501   \n",
       "...            ...        ...         ...            ...         ...   \n",
       "17961  4172.351850  25.308075 -334.514225  697285.662621 -152.190082   \n",
       "17962  4354.458167  26.469820 -445.353256  701640.120788 -137.983834   \n",
       "17963  9508.823455  19.775068 -635.996220  692131.297333 -150.716081   \n",
       "17964  3091.420650  25.379860 -748.087930  695222.717983 -126.902770   \n",
       "17965  2658.659590  26.365761 -822.040718  697881.377573 -106.568770   \n",
       "\n",
       "       OPEN_percent  CLOSE_percent  HIGH_percent  LOW_percent  VOLUME_percent  \\\n",
       "0          0.005989       0.001069      0.001051     0.003692       -0.246517   \n",
       "1          0.001204      -0.000025      0.002094     0.002518        0.721688   \n",
       "2         -0.000040      -0.003077     -0.001578    -0.001999       -0.473692   \n",
       "3         -0.003094       0.002591     -0.000735     0.000000        0.043189   \n",
       "4          0.002679      -0.003791     -0.000007    -0.004426        0.972570   \n",
       "...             ...            ...           ...          ...             ...   \n",
       "17961      0.005258      -0.027676     -0.004142    -0.016682        0.284850   \n",
       "17962     -0.027676       0.001698     -0.015875    -0.011632        0.043646   \n",
       "17963      0.001836      -0.034267     -0.008330    -0.026685        1.183698   \n",
       "17964     -0.034400       0.009785     -0.021892     0.005682       -0.674889   \n",
       "17965      0.009785       0.001724     -0.001843     0.006843       -0.139988   \n",
       "\n",
       "        UP  DOWN  \n",
       "0      0.0   1.0  \n",
       "1      0.0   1.0  \n",
       "2      1.0   0.0  \n",
       "3      0.0   1.0  \n",
       "4      1.0   0.0  \n",
       "...    ...   ...  \n",
       "17961  1.0   0.0  \n",
       "17962  0.0   1.0  \n",
       "17963  1.0   0.0  \n",
       "17964  1.0   0.0  \n",
       "17965  0.0   1.0  \n",
       "\n",
       "[17966 rows x 17 columns]"
      ]
     },
     "execution_count": 3,
     "metadata": {},
     "output_type": "execute_result"
    }
   ],
   "source": [
    "df"
   ]
  },
  {
   "cell_type": "code",
   "execution_count": 4,
   "metadata": {},
   "outputs": [
    {
     "data": {
      "text/plain": [
       "1.0    9186\n",
       "0.0    8780\n",
       "Name: UP, dtype: int64"
      ]
     },
     "execution_count": 4,
     "metadata": {},
     "output_type": "execute_result"
    }
   ],
   "source": [
    "df['UP'].value_counts()"
   ]
  },
  {
   "cell_type": "code",
   "execution_count": 5,
   "metadata": {},
   "outputs": [
    {
     "data": {
      "text/plain": [
       "0.0    9189\n",
       "1.0    8777\n",
       "Name: DOWN, dtype: int64"
      ]
     },
     "execution_count": 5,
     "metadata": {},
     "output_type": "execute_result"
    }
   ],
   "source": [
    "df['DOWN'].value_counts()"
   ]
  },
  {
   "attachments": {},
   "cell_type": "markdown",
   "metadata": {},
   "source": [
    "看起來數據蠻平衡的"
   ]
  },
  {
   "attachments": {},
   "cell_type": "markdown",
   "metadata": {},
   "source": [
    "# 儲存資料"
   ]
  },
  {
   "cell_type": "code",
   "execution_count": 9,
   "metadata": {},
   "outputs": [],
   "source": [
    "df.to_csv(file_name, index=False)"
   ]
  },
  {
   "attachments": {},
   "cell_type": "markdown",
   "metadata": {},
   "source": [
    "# 分割成X、y"
   ]
  },
  {
   "cell_type": "code",
   "execution_count": 6,
   "metadata": {},
   "outputs": [],
   "source": [
    "'''\n",
    "Author: hibana2077 hibana2077@gmail.com\n",
    "Date: 2022-12-23 16:28:55\n",
    "LastEditors: hibana2077 hibana2077@gmail.com\n",
    "LastEditTime: 2022-12-29 12:33:45\n",
    "FilePath: \\OOP-independent-study\\train\\train.ipynb\n",
    "Description: 这是默认设置,请设置`customMade`, 打开koroFileHeader查看配置 进行设置: https://github.com/OBKoro1/koro1FileHeader/wiki/%E9%85%8D%E7%BD%AE\n",
    "'''\n",
    "X,y = list(),list()\n",
    "ref_bar = 10\n",
    "\n",
    "for i in range(len(df)-ref_bar):\n",
    "    #df.iloc.values 會回傳一個numpy array\n",
    "    X.append(df.iloc[i:i+ref_bar, 6:15].values) # i to i+ref_bar-1\n",
    "    y.append(df.iloc[i+ref_bar-1, 15:].values) # i+ref_bar-1\n",
    "\n"
   ]
  },
  {
   "cell_type": "code",
   "execution_count": 7,
   "metadata": {},
   "outputs": [
    {
     "data": {
      "text/plain": [
       "array([[ 4.66539459e+01, -1.87728730e+01, -1.08529396e+03,\n",
       "        -3.51905789e+01,  5.98932918e-03,  1.06927803e-03,\n",
       "         1.05064911e-03,  3.69244533e-03, -2.46517407e-01],\n",
       "       [ 4.66128349e+01, -1.75850337e+01, -2.53151394e+03,\n",
       "        -4.32277334e+00,  1.20359485e-03, -2.51326094e-05,\n",
       "         2.09351012e-03,  2.51844336e-03,  7.21687735e-01],\n",
       "       [ 4.17604212e+01, -1.82121677e+01, -3.29267051e+03,\n",
       "        -3.20744220e+01, -4.04904652e-05, -3.07742574e-03,\n",
       "        -1.57799443e-03, -1.99906897e-03, -4.73692399e-01],\n",
       "       [ 4.67694980e+01, -1.70201825e+01, -2.49864002e+03,\n",
       "        -1.14486985e+01, -3.09415531e-03,  2.59111262e-03,\n",
       "        -7.35143339e-04,  0.00000000e+00,  4.31894413e-02],\n",
       "       [ 4.11746059e+01, -1.80573430e+01, -4.06492071e+03,\n",
       "        -6.97995011e+01,  2.67937303e-03, -3.79140828e-03,\n",
       "        -6.97992573e-06, -4.42637165e-03,  9.72569944e-01],\n",
       "       [ 4.23888154e+01, -1.83099634e+01, -3.10861979e+03,\n",
       "        -4.61201187e+01, -3.86653741e-03,  6.22620475e-04,\n",
       "        -8.72496807e-04,  2.09780469e-03, -3.89444734e-01],\n",
       "       [ 4.14325615e+01, -1.86669741e+01, -3.97104950e+03,\n",
       "        -5.96375695e+01,  6.18410978e-04, -6.46057299e-04,\n",
       "        -7.12579117e-04, -3.28543709e-04, -9.81607406e-02],\n",
       "       [ 2.92906191e+01, -2.50088261e+01, -7.57552365e+03,\n",
       "        -3.36481172e+02, -7.31544273e-04, -1.10307419e-02,\n",
       "        -7.20078300e-04, -1.40449438e-02,  3.17944103e+00],\n",
       "       [ 2.20210403e+01, -3.62561594e+01, -1.37593492e+04,\n",
       "        -3.29745074e+02, -1.09461360e-02, -1.16670826e-02,\n",
       "        -1.31190664e-02, -1.35698006e-02,  7.15597138e-01],\n",
       "       [ 2.30163374e+01, -4.43375042e+01, -1.22457513e+04,\n",
       "        -2.11715190e+02, -1.16670826e-02,  5.71015374e-04,\n",
       "        -8.99038577e-03,  3.64201400e-03, -7.55232755e-01]])"
      ]
     },
     "execution_count": 7,
     "metadata": {},
     "output_type": "execute_result"
    }
   ],
   "source": [
    "X[0]#這裡會出現10個array，每個array裡面有9個數字，分別是RSI,MACD,OBV,CCI,OPEN_percent,CLOSE_percent,HIGH_percent,LOW_percent,VOLUME_percent"
   ]
  },
  {
   "cell_type": "code",
   "execution_count": 8,
   "metadata": {},
   "outputs": [
    {
     "data": {
      "text/plain": [
       "array([1.0, 0.0], dtype=object)"
      ]
     },
     "execution_count": 8,
     "metadata": {},
     "output_type": "execute_result"
    }
   ],
   "source": [
    "y[0]"
   ]
  },
  {
   "cell_type": "code",
   "execution_count": 9,
   "metadata": {},
   "outputs": [],
   "source": [
    "X = np.array(X)\n",
    "X = torch.tensor(X, dtype=torch.float32)"
   ]
  },
  {
   "cell_type": "code",
   "execution_count": 10,
   "metadata": {},
   "outputs": [],
   "source": [
    "y = np.array(y,dtype=np.float32)\n",
    "y = torch.tensor(y, dtype=torch.float32)\n",
    "y = y.view(y.shape[0],1,2)"
   ]
  },
  {
   "cell_type": "code",
   "execution_count": 11,
   "metadata": {},
   "outputs": [
    {
     "data": {
      "text/plain": [
       "tensor([[[1., 0.]],\n",
       "\n",
       "        [[0., 1.]],\n",
       "\n",
       "        [[1., 0.]],\n",
       "\n",
       "        ...,\n",
       "\n",
       "        [[0., 1.]],\n",
       "\n",
       "        [[1., 0.]],\n",
       "\n",
       "        [[1., 0.]]])"
      ]
     },
     "execution_count": 11,
     "metadata": {},
     "output_type": "execute_result"
    }
   ],
   "source": [
    "y"
   ]
  },
  {
   "cell_type": "code",
   "execution_count": 12,
   "metadata": {},
   "outputs": [
    {
     "name": "stdout",
     "output_type": "stream",
     "text": [
      "X shape: torch.Size([17956, 10, 9]) , y shape: torch.Size([17956, 1, 2])\n"
     ]
    }
   ],
   "source": [
    "print(f\"X shape: {X.shape} , y shape: {y.shape}\")"
   ]
  },
  {
   "cell_type": "code",
   "execution_count": 13,
   "metadata": {},
   "outputs": [
    {
     "data": {
      "text/plain": [
       "tensor([[ 4.6654e+01, -1.8773e+01, -1.0853e+03, -3.5191e+01,  5.9893e-03,\n",
       "          1.0693e-03,  1.0506e-03,  3.6924e-03, -2.4652e-01],\n",
       "        [ 4.6613e+01, -1.7585e+01, -2.5315e+03, -4.3228e+00,  1.2036e-03,\n",
       "         -2.5133e-05,  2.0935e-03,  2.5184e-03,  7.2169e-01],\n",
       "        [ 4.1760e+01, -1.8212e+01, -3.2927e+03, -3.2074e+01, -4.0490e-05,\n",
       "         -3.0774e-03, -1.5780e-03, -1.9991e-03, -4.7369e-01],\n",
       "        [ 4.6769e+01, -1.7020e+01, -2.4986e+03, -1.1449e+01, -3.0942e-03,\n",
       "          2.5911e-03, -7.3514e-04,  0.0000e+00,  4.3189e-02],\n",
       "        [ 4.1175e+01, -1.8057e+01, -4.0649e+03, -6.9799e+01,  2.6794e-03,\n",
       "         -3.7914e-03, -6.9799e-06, -4.4264e-03,  9.7257e-01],\n",
       "        [ 4.2389e+01, -1.8310e+01, -3.1086e+03, -4.6120e+01, -3.8665e-03,\n",
       "          6.2262e-04, -8.7250e-04,  2.0978e-03, -3.8944e-01],\n",
       "        [ 4.1433e+01, -1.8667e+01, -3.9710e+03, -5.9638e+01,  6.1841e-04,\n",
       "         -6.4606e-04, -7.1258e-04, -3.2854e-04, -9.8161e-02],\n",
       "        [ 2.9291e+01, -2.5009e+01, -7.5755e+03, -3.3648e+02, -7.3154e-04,\n",
       "         -1.1031e-02, -7.2008e-04, -1.4045e-02,  3.1794e+00],\n",
       "        [ 2.2021e+01, -3.6256e+01, -1.3759e+04, -3.2975e+02, -1.0946e-02,\n",
       "         -1.1667e-02, -1.3119e-02, -1.3570e-02,  7.1560e-01],\n",
       "        [ 2.3016e+01, -4.4338e+01, -1.2246e+04, -2.1172e+02, -1.1667e-02,\n",
       "          5.7102e-04, -8.9904e-03,  3.6420e-03, -7.5523e-01]])"
      ]
     },
     "execution_count": 13,
     "metadata": {},
     "output_type": "execute_result"
    }
   ],
   "source": [
    "X[0]"
   ]
  },
  {
   "cell_type": "code",
   "execution_count": 14,
   "metadata": {},
   "outputs": [
    {
     "data": {
      "text/plain": [
       "tensor([[1., 0.]])"
      ]
     },
     "execution_count": 14,
     "metadata": {},
     "output_type": "execute_result"
    }
   ],
   "source": [
    "y[0]"
   ]
  },
  {
   "attachments": {},
   "cell_type": "markdown",
   "metadata": {},
   "source": [
    "# 建立資料集類別\n",
    "\n",
    "- 要繼承torch.utils.data.Dataset\n",
    "- 要實作`__len__`、`__getitem__`\n",
    "- 後面要用DataLoader取用"
   ]
  },
  {
   "cell_type": "code",
   "execution_count": 15,
   "metadata": {},
   "outputs": [],
   "source": [
    "#用sklearn來分成train val test\n",
    "# train:val:test = 6:3:1\n",
    "from sklearn.model_selection import train_test_split\n",
    "X_train, X_test, y_train, y_test = train_test_split(X, y, test_size=0.4, random_state=42)\n",
    "X_val, X_test, y_val, y_test = train_test_split(X_test, y_test, test_size=0.75, random_state=42)"
   ]
  },
  {
   "cell_type": "code",
   "execution_count": 17,
   "metadata": {},
   "outputs": [
    {
     "name": "stdout",
     "output_type": "stream",
     "text": [
      "X_train shape: torch.Size([10773, 10, 9]) , y_train shape: torch.Size([10773, 1, 2])\n"
     ]
    }
   ],
   "source": [
    "print(f\"X_train shape: {X_train.shape} , y_train shape: {y_train.shape}\")"
   ]
  },
  {
   "cell_type": "code",
   "execution_count": 18,
   "metadata": {},
   "outputs": [
    {
     "name": "stdout",
     "output_type": "stream",
     "text": [
      "X_test shape: torch.Size([5388, 10, 9]) , y_test shape: torch.Size([5388, 1, 2])\n"
     ]
    }
   ],
   "source": [
    "print(f\"X_test shape: {X_test.shape} , y_test shape: {y_test.shape}\")"
   ]
  },
  {
   "cell_type": "code",
   "execution_count": 19,
   "metadata": {},
   "outputs": [
    {
     "name": "stdout",
     "output_type": "stream",
     "text": [
      "X_val shape: torch.Size([1795, 10, 9]) , y_val shape: torch.Size([1795, 1, 2])\n"
     ]
    }
   ],
   "source": [
    "print(f\"X_val shape: {X_val.shape} , y_val shape: {y_val.shape}\")"
   ]
  },
  {
   "cell_type": "code",
   "execution_count": 20,
   "metadata": {},
   "outputs": [],
   "source": [
    "class TrainDataset(Dataset):\n",
    "    def __init__(self, X, y):\n",
    "        self.X = X\n",
    "        self.y = y\n",
    "    def __len__(self):\n",
    "        return len(self.X)\n",
    "    def __getitem__(self, idx):\n",
    "        return self.X[idx], self.y[idx]"
   ]
  },
  {
   "cell_type": "code",
   "execution_count": 21,
   "metadata": {},
   "outputs": [],
   "source": [
    "class ValDataset(Dataset):\n",
    "    def __init__(self, X, y):\n",
    "        self.X = X\n",
    "        self.y = y\n",
    "    def __len__(self):\n",
    "        return len(self.X)\n",
    "    def __getitem__(self, idx):\n",
    "        return self.X[idx], self.y[idx]"
   ]
  },
  {
   "cell_type": "code",
   "execution_count": 22,
   "metadata": {},
   "outputs": [],
   "source": [
    "class TestDataset(Dataset):\n",
    "    def __init__(self, X, y):\n",
    "        self.X = X\n",
    "        self.y = y\n",
    "    def __len__(self):\n",
    "        return len(self.X)\n",
    "    def __getitem__(self, idx):\n",
    "        return self.X[idx], self.y[idx]"
   ]
  },
  {
   "cell_type": "code",
   "execution_count": 23,
   "metadata": {},
   "outputs": [],
   "source": [
    "train_dataset = TrainDataset(X_train, y_train)\n",
    "val_dataset = ValDataset(X_val, y_val)\n",
    "test_dataset = TestDataset(X_test, y_test)"
   ]
  },
  {
   "cell_type": "code",
   "execution_count": 24,
   "metadata": {},
   "outputs": [
    {
     "data": {
      "text/plain": [
       "(tensor([[ 2.6485e+01, -1.6131e+02,  5.9201e+04, -9.2721e+01,  1.1383e-04,\n",
       "          -1.5751e-02, -5.2585e-03, -1.8805e-02,  2.6932e+00],\n",
       "         [ 3.0662e+01, -1.6142e+02,  6.5494e+04, -1.0451e+02, -1.5854e-02,\n",
       "           5.4725e-03, -8.8063e-03, -9.8619e-03,  2.4279e-01],\n",
       "         [ 3.1172e+01, -1.5920e+02,  6.8492e+04, -8.2316e+01,  5.4911e-03,\n",
       "           6.5906e-04,  3.3058e-03,  1.3949e-02, -5.2356e-01],\n",
       "         [ 3.4758e+01, -1.5249e+02,  7.0689e+04, -6.9617e+01,  5.6474e-04,\n",
       "           4.5702e-03,  2.4989e-03, -1.1561e-03, -2.6727e-01],\n",
       "         [ 3.3365e+01, -1.4784e+02,  6.8939e+04, -6.4270e+01,  4.6649e-03,\n",
       "          -3.3857e-03, -1.2640e-03,  3.1921e-03, -2.0327e-01],\n",
       "         [ 3.8114e+01, -1.3833e+02,  7.1194e+04, -5.3180e+00, -3.3903e-03,\n",
       "           6.0401e-03,  3.4302e-03,  3.6942e-03,  2.8836e-01],\n",
       "         [ 4.1996e+01, -1.2563e+02,  7.4509e+04,  6.5914e+01,  6.1618e-03,\n",
       "           5.2347e-03,  6.0992e-03,  5.7934e-03,  4.7046e-01],\n",
       "         [ 4.2460e+01, -1.1382e+02,  7.7150e+04,  5.7361e+01,  5.1268e-03,\n",
       "           6.2212e-04, -1.2785e-03,  5.7143e-04, -2.0367e-01],\n",
       "         [ 4.0858e+01, -1.0526e+02,  7.4163e+04,  7.2963e+01,  6.3120e-04,\n",
       "          -2.8284e-03,  3.6751e-03,  3.3409e-03,  1.3121e-01],\n",
       "         [ 3.8443e+01, -1.0042e+02,  7.1985e+04,  3.3445e+01, -2.8511e-03,\n",
       "          -4.3827e-03, -2.1920e-03, -4.9099e-03, -2.7082e-01]]),\n",
       " tensor([[1., 0.]]))"
      ]
     },
     "execution_count": 24,
     "metadata": {},
     "output_type": "execute_result"
    }
   ],
   "source": [
    "train_dataset[0]"
   ]
  },
  {
   "cell_type": "code",
   "execution_count": 25,
   "metadata": {},
   "outputs": [
    {
     "data": {
      "text/plain": [
       "(tensor([[ 5.8582e+01,  1.1959e+01,  1.7403e+05,  1.2495e+02,  2.3374e-03,\n",
       "           1.8267e-04, -5.4229e-04,  4.1859e-04, -3.5869e-01],\n",
       "         [ 6.3649e+01,  1.6000e+01,  1.7615e+05,  1.6399e+02,  1.8372e-04,\n",
       "           3.4994e-03,  3.7772e-03,  7.5628e-04,  7.1435e-01],\n",
       "         [ 5.8219e+01,  1.7091e+01,  1.7406e+05,  1.4761e+02,  3.5025e-03,\n",
       "          -2.4690e-03,  1.7672e-03,  2.1793e-03, -1.4666e-02],\n",
       "         [ 4.7602e+01,  1.3153e+01,  1.7200e+05, -4.7687e+00, -2.4721e-03,\n",
       "          -6.0084e-03, -4.5180e-03, -6.8919e-03, -8.9839e-03],\n",
       "         [ 4.8285e+01,  1.0227e+01,  1.7353e+05, -5.5034e+01, -6.0084e-03,\n",
       "           4.0697e-04, -4.2758e-03, -9.4518e-04, -2.5954e-01],\n",
       "         [ 4.8247e+01,  7.8008e+00,  1.7251e+05, -3.7415e+01,  4.3843e-04,\n",
       "          -2.3066e-05,  1.9157e-04,  1.6272e-03, -3.3478e-01],\n",
       "         [ 5.3201e+01,  7.9776e+00,  1.7349e+05, -1.3241e+01, -5.4518e-05,\n",
       "           2.8477e-03,  1.6464e-03, -1.6246e-03, -3.4308e-02],\n",
       "         [ 5.4422e+01,  8.5884e+00,  1.7475e+05,  4.1980e+01,  2.8466e-03,\n",
       "           7.3813e-04,  9.9164e-04,  4.8134e-03,  2.7685e-01],\n",
       "         [ 5.6130e+01,  9.7493e+00,  1.7776e+05,  9.6822e+01,  7.3917e-04,\n",
       "           1.0218e-03,  4.5952e-03,  1.3600e-03,  1.3930e+00],\n",
       "         [ 5.6707e+01,  1.0805e+01,  1.7882e+05,  5.3165e+01,  1.0228e-03,\n",
       "           3.3711e-04, -3.0114e-03, -5.4640e-04, -6.4831e-01]]),\n",
       " tensor([[1., 0.]]))"
      ]
     },
     "execution_count": 25,
     "metadata": {},
     "output_type": "execute_result"
    }
   ],
   "source": [
    "test_dataset[0]"
   ]
  },
  {
   "cell_type": "code",
   "execution_count": 26,
   "metadata": {},
   "outputs": [
    {
     "data": {
      "text/plain": [
       "(tensor([[ 5.1127e+01, -1.1306e+01,  1.4610e+05,  1.1628e+02,  5.5154e-03,\n",
       "          -2.1892e-03, -1.4525e-04,  6.5048e-03, -3.8472e-02],\n",
       "         [ 5.4208e+01, -6.8719e+00,  1.4772e+05,  1.3500e+02, -2.0385e-03,\n",
       "           2.6357e-03,  3.1875e-04, -1.2827e-03, -1.8354e-01],\n",
       "         [ 5.3234e+01, -3.8597e+00,  1.4493e+05,  1.5453e+02,  2.5641e-03,\n",
       "          -7.0847e-04,  4.9459e-03,  2.8703e-03,  7.2001e-01],\n",
       "         [ 5.1449e+01, -2.4242e+00,  1.4352e+05,  8.2549e+01, -7.4507e-04,\n",
       "          -1.2713e-03, -5.5099e-03, -1.6517e-03, -4.9351e-01],\n",
       "         [ 5.1561e+01, -1.2097e+00,  1.4503e+05,  7.0754e+01, -1.3289e-03,\n",
       "           8.1788e-05, -5.2268e-04,  3.1912e-04,  6.8788e-02],\n",
       "         [ 5.6285e+01,  2.4527e+00,  1.4686e+05,  9.7540e+01,  1.3947e-04,\n",
       "           3.5449e-03,  2.4443e-03,  7.7761e-04,  2.1341e-01],\n",
       "         [ 5.1317e+01,  2.8077e+00,  1.4526e+05,  6.2449e+01,  3.5145e-03,\n",
       "          -3.2566e-03, -2.4832e-04, -6.9731e-04, -1.2636e-01],\n",
       "         [ 5.1451e+01,  3.1264e+00,  1.4670e+05,  4.3849e+01, -3.2013e-03,\n",
       "           9.5385e-05, -2.1186e-03, -1.4481e-04, -9.8977e-02],\n",
       "         [ 5.1772e+01,  3.5024e+00,  1.4828e+05,  2.4871e+01,  1.2263e-04,\n",
       "           2.1276e-04, -1.2226e-03, -1.6015e-03,  9.3302e-02],\n",
       "         [ 4.6845e+01,  1.3623e+00,  1.4685e+05, -3.5074e+00,  6.3930e-05,\n",
       "          -3.1457e-03,  2.2408e-04, -2.4807e-04, -9.6214e-02]]),\n",
       " tensor([[1., 0.]]))"
      ]
     },
     "execution_count": 26,
     "metadata": {},
     "output_type": "execute_result"
    }
   ],
   "source": [
    "val_dataset[0]"
   ]
  },
  {
   "attachments": {},
   "cell_type": "markdown",
   "metadata": {},
   "source": [
    "# 建立模型\n",
    "\n",
    "- 要繼承torch.nn.Module\n",
    "- 可能要多建立不同的模型，到時候看結果再調整 -> 先讓數據流得通，再去看成績做調整。"
   ]
  },
  {
   "attachments": {},
   "cell_type": "markdown",
   "metadata": {},
   "source": [
    "- ver1 -> CNN+MLP\n",
    "- ver2 -> CNN+LSTM+MLP\n",
    "- ver3 -> CNN+GRU+MLP\n",
    "- ver4 -> CNN+LSTM+GRU+MLP"
   ]
  },
  {
   "cell_type": "code",
   "execution_count": 71,
   "metadata": {},
   "outputs": [],
   "source": [
    "class SelectItem(torch.nn.Module):#這是用來取出多個輸出其中一個的輸出，如果不用sequential的話，就可以不用這個\n",
    "    def __init__(self, item_index):\n",
    "        super(SelectItem, self).__init__()\n",
    "        self._name = 'selectitem'\n",
    "        self.item_index = item_index\n",
    "\n",
    "    def forward(self, inputs):\n",
    "        return inputs[self.item_index]"
   ]
  },
  {
   "cell_type": "code",
   "execution_count": null,
   "metadata": {},
   "outputs": [],
   "source": [
    "class crypto_classfier_ver1(nn.Module): #CNN+MLP\n",
    "    def __init__(self):\n",
    "        super(crypto_classfier_ver1, self).__init__()\n",
    "        self.net = nn.Sequential(\n",
    "            torch.nn.Conv1d(10, 20, 3, stride=1, padding=1),\n",
    "            torch.nn.ReLU(),\n",
    "            torch.nn.MaxPool1d(1, stride=8),\n",
    "            torch.nn.Conv1d(20, 40, 3, stride=1, padding=1),\n",
    "            torch.nn.ReLU(),\n",
    "            torch.nn.MaxPool1d(1, stride=1),\n",
    "            torch.nn.Conv1d(40, 1, 3, stride=1, padding=1),\n",
    "            torch.nn.ReLU(),\n",
    "            torch.nn.Linear(2,16),\n",
    "            torch.nn.ReLU(),\n",
    "            torch.nn.Linear(16,2),\n",
    "            torch.nn.Softmax(dim=1))\n",
    "    def forward(self, x):\n",
    "        x = self.net(x)\n",
    "        return x"
   ]
  },
  {
   "cell_type": "code",
   "execution_count": null,
   "metadata": {},
   "outputs": [],
   "source": [
    "class crypto_classfier_ver2(nn.Module): #CNN+LSTM+MLP\n",
    "    def __init__(self):\n",
    "        super(crypto_classfier_ver2, self).__init__()\n",
    "        self.net = nn.Sequential(\n",
    "            torch.nn.Conv1d(10, 20, 3, stride=1, padding=1),\n",
    "            torch.nn.ReLU(),\n",
    "            torch.nn.MaxPool1d(1, stride=8),\n",
    "            torch.nn.Conv1d(20, 40, 3, stride=1, padding=1),\n",
    "            torch.nn.ReLU(),\n",
    "            torch.nn.MaxPool1d(1, stride=1),\n",
    "            torch.nn.Conv1d(40, 1, 3, stride=1, padding=1),\n",
    "            torch.nn.ReLU(),\n",
    "            torch.nn.LSTM(2, 16, 25),\n",
    "            SelectItem(0),\n",
    "            torch.nn.Linear(16,2),\n",
    "            torch.nn.Softmax(dim=1))\n",
    "    def forward(self, x):\n",
    "        x = self.net(x)\n",
    "        return x"
   ]
  },
  {
   "cell_type": "code",
   "execution_count": null,
   "metadata": {},
   "outputs": [],
   "source": [
    "class crypto_classfier_ver3(nn.Module):#CNN+GRU+MLP\n",
    "    def __init__(self):\n",
    "        super(crypto_classfier_ver3, self).__init__()\n",
    "        self.net = nn.Sequential(\n",
    "            torch.nn.Conv1d(10, 20, 3, stride=1, padding=1),\n",
    "            torch.nn.ReLU(),\n",
    "            torch.nn.MaxPool1d(1, stride=1),\n",
    "            torch.nn.Conv1d(20, 40, 3, stride=1, padding=1),\n",
    "            torch.nn.ReLU(),\n",
    "            torch.nn.MaxPool1d(1, stride=1),\n",
    "            torch.nn.Conv1d(40, 1, 3, stride=1, padding=1),\n",
    "            torch.nn.Linear(9,64),\n",
    "            torch.nn.Linear(64,128),\n",
    "            torch.nn.GRU(128, 64, 25),\n",
    "            SelectItem(0),\n",
    "            torch.nn.Linear(64,2),\n",
    "            torch.nn.Softmax(dim=1))\n",
    "    def forward(self, x):\n",
    "        x = self.net(x)\n",
    "        return x"
   ]
  },
  {
   "cell_type": "code",
   "execution_count": 69,
   "metadata": {},
   "outputs": [
    {
     "data": {
      "text/plain": [
       "torch.Size([10, 9])"
      ]
     },
     "execution_count": 69,
     "metadata": {},
     "output_type": "execute_result"
    }
   ],
   "source": [
    "lab_tensor = train_dataset[0][0]\n",
    "lab_tensor.shape"
   ]
  },
  {
   "cell_type": "code",
   "execution_count": 58,
   "metadata": {},
   "outputs": [],
   "source": [
    "from torchsummary import summary"
   ]
  },
  {
   "cell_type": "code",
   "execution_count": 85,
   "metadata": {},
   "outputs": [
    {
     "name": "stdout",
     "output_type": "stream",
     "text": [
      "tensor([[0.5201, 0.4799]], grad_fn=<SoftmaxBackward0>)\n",
      "torch.Size([1, 2])\n"
     ]
    }
   ],
   "source": [
    "lab_models = torch.nn.Sequential(\n",
    "            torch.nn.Conv1d(10, 20, 3, stride=1, padding=1),\n",
    "            torch.nn.ReLU(),\n",
    "            torch.nn.MaxPool1d(1, stride=1),\n",
    "            torch.nn.Conv1d(20, 40, 3, stride=1, padding=1),\n",
    "            torch.nn.ReLU(),\n",
    "            torch.nn.MaxPool1d(1, stride=1),\n",
    "            torch.nn.Conv1d(40, 1, 3, stride=1, padding=1),\n",
    "            torch.nn.Linear(9,64),\n",
    "            torch.nn.Linear(64,128),\n",
    "            torch.nn.GRU(128, 64, 25),\n",
    "            SelectItem(0),\n",
    "            torch.nn.Linear(64,2),\n",
    "            torch.nn.Softmax(dim=1))\n",
    "out = lab_models(lab_tensor)\n",
    "print(out)\n",
    "print(out.shape)\n",
    "# summary(lab_models, (10, 9))"
   ]
  },
  {
   "attachments": {},
   "cell_type": "markdown",
   "metadata": {},
   "source": [
    "## Note\n",
    "\n",
    "1) model\n",
    "    - `__init__`: define [layers](https://pytorch.org/docs/stable/nn.html)\n",
    "    - forward: forward pass -> compute prediction\n",
    "2) loss and optimizer\n",
    "    - lr: learning rate [default=0.001]\n",
    "    - momentum: momentum for optimizer [default=0.9]\n",
    "    - criterion: loss function [in torch.nn] eg.nn.BCELoss()\n",
    "    - optimizer: optimizer [in torch.optim] eg.torch.optim.SGD()\n",
    "        - eg. optimizer = torch.optim.SGD(model.parameters(), lr=lr, momentum=momentum)\n",
    "3) training loop\n",
    "    - forward pass: compute prediction and loss\n",
    "\n",
    "        ```python\n",
    "        output = model(data)\n",
    "        loss = criterion(output, target)\n",
    "        ```\n",
    "        \n",
    "    - backward pass: loss.backward()\n",
    "    - update weights: optimizer.step()\n",
    "    - zero the gradients: optimizer.zero_grad()"
   ]
  },
  {
   "attachments": {},
   "cell_type": "markdown",
   "metadata": {},
   "source": [
    "# TODO\n",
    "\n",
    "- 寫訓練方法\n",
    "    - using dataloader\n",
    "        - batch and epoch\n",
    "- 寫驗證方法\n",
    "    - using model.eval()\n"
   ]
  }
 ],
 "metadata": {
  "kernelspec": {
   "display_name": "Python 3",
   "language": "python",
   "name": "python3"
  },
  "language_info": {
   "codemirror_mode": {
    "name": "ipython",
    "version": 3
   },
   "file_extension": ".py",
   "mimetype": "text/x-python",
   "name": "python",
   "nbconvert_exporter": "python",
   "pygments_lexer": "ipython3",
   "version": "3.10.8"
  },
  "orig_nbformat": 4,
  "vscode": {
   "interpreter": {
    "hash": "26de051ba29f2982a8de78e945f0abaf191376122a1563185a90213a26c5da77"
   }
  }
 },
 "nbformat": 4,
 "nbformat_minor": 2
}
