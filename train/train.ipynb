{
  "cells": [
    {
      "cell_type": "markdown",
      "metadata": {
        "id": "6epq6_O1vvia"
      },
      "source": [
        "[![GitHub](https://img.shields.io/badge/Github-hibana2077-blue?style=plastic-square&logo=github)](https://github.com/hibana2077)\n",
        "[![Colab](https://img.shields.io/badge/Colab-Open%20in%20Colab-blue?style=plastic-square&logo=googlecolab)](https://colab.research.google.com/github/hibana2077/hibana2077/blob/master/train/train.ipynb)"
      ]
    },
    {
      "cell_type": "markdown",
      "metadata": {
        "id": "t38eQJt0vvid"
      },
      "source": [
        "如果要訓練這份資料集會需要安裝talib套件，請參考[這裡](https://www.lfd.uci.edu/~gohlke/pythonlibs/#ta-lib)下載對應的版本，並使用pip安裝。"
      ]
    },
    {
      "cell_type": "code",
      "execution_count": 19,
      "metadata": {
        "colab": {
          "base_uri": "https://localhost:8080/"
        },
        "id": "oWr_Ksvyv3Ro",
        "outputId": "a1ee08c2-55e0-4e05-a5e3-39430fde8c45"
      },
      "outputs": [],
      "source": [
        "# !pip install ccxt"
      ]
    },
    {
      "cell_type": "code",
      "execution_count": 20,
      "metadata": {
        "colab": {
          "base_uri": "https://localhost:8080/"
        },
        "id": "GSuyiZlLwOO5",
        "outputId": "3d1ec1a2-6001-4306-8424-1923934b2884"
      },
      "outputs": [],
      "source": [
        "# !wget http://prdownloads.sourceforge.net/ta-lib/ta-lib-0.4.0-src.tar.gz\n",
        "# !tar -xzvf ta-lib-0.4.0-src.tar.gz\n",
        "# %cd ta-lib\n",
        "# !./configure --prefix=/usr\n",
        "# !make\n",
        "# !make install\n",
        "# !pip install Ta-Lib"
      ]
    },
    {
      "cell_type": "code",
      "execution_count": 1,
      "metadata": {
        "colab": {
          "base_uri": "https://localhost:8080/",
          "height": 387
        },
        "id": "0dEqkDzevvie",
        "outputId": "4ef1a61d-0ce2-40b5-8102-d6a51827ef87"
      },
      "outputs": [],
      "source": [
        "from ccxt import binance\n",
        "from torch.utils.data import Dataset, DataLoader\n",
        "from torch import nn\n",
        "from torch import optim\n",
        "from torch.nn import functional as F\n",
        "from talib import abstract\n",
        "import pandas as pd\n",
        "import numpy as np\n",
        "import torch\n",
        "import os\n",
        "import sys"
      ]
    },
    {
      "cell_type": "markdown",
      "metadata": {
        "id": "H59nhzEFvvif"
      },
      "source": [
        "# 環境整理"
      ]
    },
    {
      "cell_type": "code",
      "execution_count": null,
      "metadata": {
        "id": "Zjpnlfgcvvif"
      },
      "outputs": [],
      "source": [
        "ls_dir = os.listdir(path=\"..\")\n",
        "if \"data\" not in ls_dir:\n",
        "    os.mkdir(path=\"../data\")\n",
        "if \"model\" not in ls_dir:\n",
        "    os.mkdir(path=\"../model\")\n",
        "if \"data\" in ls_dir:\n",
        "    ls_dir = os.listdir(path=\"../data\")\n",
        "    #remove all files in data folder\n",
        "    for file in ls_dir:os.remove(path=\"../data/\"+file)"
      ]
    },
    {
      "cell_type": "markdown",
      "metadata": {
        "id": "zG1FGxMUvvig"
      },
      "source": [
        "# 下載資料集"
      ]
    },
    {
      "cell_type": "code",
      "execution_count": null,
      "metadata": {
        "id": "29klRj8yvvig"
      },
      "outputs": [],
      "source": [
        "# Download data\n",
        "\n",
        "binance = binance()\n",
        "symbol = 'ETH/USDT'\n",
        "timeframe = '15m'\n",
        "file_name = f\"../data/{symbol.replace('/', '_')}_{timeframe}.csv\"\n",
        "start = binance.parse8601('2022-01-01T00:00:00Z')\n",
        "end = binance.parse8601('2023-01-01T00:00:00Z')\n",
        "cnt_time = start\n",
        "data = []\n",
        "while cnt_time < end:\n",
        "    ohlcv = binance.fetch_ohlcv(symbol, timeframe, cnt_time)\n",
        "    data += ohlcv\n",
        "    cnt_time = ohlcv[-1][0] + 900000 \n",
        "df = pd.DataFrame(data, columns=['time', 'open', 'high', 'low', 'close', 'volume'])\n",
        "df['time'] = pd.to_datetime(df['time'], unit='ms')\n",
        "df.to_csv(file_name, index=False)"
      ]
    },
    {
      "cell_type": "markdown",
      "metadata": {
        "id": "XhcDY9sbvvih"
      },
      "source": [
        "# 讀取資料集"
      ]
    },
    {
      "cell_type": "code",
      "execution_count": 2,
      "metadata": {
        "id": "sT6TVXPQvvih"
      },
      "outputs": [],
      "source": [
        "#如果有下载好的數據，可以直接讀取\n",
        "data_file = '../data/ETH_USDT_15m.csv' #-> 可以自行更換\n",
        "df = pd.read_csv(data_file)"
      ]
    },
    {
      "cell_type": "markdown",
      "metadata": {
        "id": "Zz939phEvvih"
      },
      "source": [
        "# 數據處理\n",
        "\n",
        "- 計算RSI\n",
        "- 計算MACD\n",
        "- 計算OBV\n",
        "- 計算CCI\n",
        "- 改成變化百分比 -> 標準化\n",
        "\n",
        "關於技術指標的說明可以參考[這裡](https://www.investopedia.com/terms/t/technicalindicator.asp)，或是google。"
      ]
    },
    {
      "cell_type": "code",
      "execution_count": null,
      "metadata": {
        "id": "cWEqDOiVvvih"
      },
      "outputs": [],
      "source": [
        "df['RSI'] = abstract.RSI(df, timeperiod=14)\n",
        "df['MACD'] = abstract.MACD(df, fastperiod=12, slowperiod=26, signalperiod=9)['macd'] #只取MACD\n",
        "df['OBV'] = abstract.OBV(df, timeperiod=14)\n",
        "df['CCI'] = abstract.CCI(df, timeperiod=14)\n",
        "df['ATR'] = abstract.ATR(df, timeperiod=14)\n",
        "df['ADX'] = abstract.ADX(df, timeperiod=14)\n",
        "df['MFI'] = abstract.MFI(df, timeperiod=14)\n",
        "df['CLOSE_percent'] = df['close'].pct_change()"
      ]
    },
    {
      "cell_type": "markdown",
      "metadata": {
        "id": "RDPm_zt2vvii"
      },
      "source": [
        "# 設定買賣點\n",
        "\n",
        "將買賣點分為下跌、上漲、不動，並將數據轉成one-hot編碼。"
      ]
    },
    {
      "cell_type": "code",
      "execution_count": null,
      "metadata": {
        "id": "kQ0vSu6Yvvii"
      },
      "outputs": [],
      "source": [
        "df['UP'] = df['CLOSE_percent'].apply(lambda x: 1 if x > 0 else 0)\n",
        "df['DOWN'] = df['CLOSE_percent'].apply(lambda x: 1 if x < 0 else 0)\n",
        "df['UP'] = df['UP'].shift(-1) #shift UP DOWN 一個單位，因為我們要預測的是下一個時間點的漲跌\n",
        "df['DOWN'] = df['DOWN'].shift(-1)\n",
        "\n",
        "df = df.dropna()\n"
      ]
    },
    {
      "cell_type": "code",
      "execution_count": 3,
      "metadata": {
        "id": "k77OIN-dvvii"
      },
      "outputs": [
        {
          "data": {
            "text/html": [
              "<div>\n",
              "<style scoped>\n",
              "    .dataframe tbody tr th:only-of-type {\n",
              "        vertical-align: middle;\n",
              "    }\n",
              "\n",
              "    .dataframe tbody tr th {\n",
              "        vertical-align: top;\n",
              "    }\n",
              "\n",
              "    .dataframe thead th {\n",
              "        text-align: right;\n",
              "    }\n",
              "</style>\n",
              "<table border=\"1\" class=\"dataframe\">\n",
              "  <thead>\n",
              "    <tr style=\"text-align: right;\">\n",
              "      <th></th>\n",
              "      <th>time</th>\n",
              "      <th>open</th>\n",
              "      <th>high</th>\n",
              "      <th>low</th>\n",
              "      <th>close</th>\n",
              "      <th>volume</th>\n",
              "      <th>RSI</th>\n",
              "      <th>MACD</th>\n",
              "      <th>OBV</th>\n",
              "      <th>CCI</th>\n",
              "      <th>ATR</th>\n",
              "      <th>ADX</th>\n",
              "      <th>MFI</th>\n",
              "      <th>UP</th>\n",
              "      <th>DOWN</th>\n",
              "    </tr>\n",
              "  </thead>\n",
              "  <tbody>\n",
              "    <tr>\n",
              "      <th>0</th>\n",
              "      <td>2022-01-01 08:15:00</td>\n",
              "      <td>0.946260</td>\n",
              "      <td>0.941543</td>\n",
              "      <td>0.947608</td>\n",
              "      <td>0.947727</td>\n",
              "      <td>0.002398</td>\n",
              "      <td>0.534568</td>\n",
              "      <td>0.533569</td>\n",
              "      <td>0.888414</td>\n",
              "      <td>0.484903</td>\n",
              "      <td>0.205796</td>\n",
              "      <td>0.264040</td>\n",
              "      <td>0.507308</td>\n",
              "      <td>1.0</td>\n",
              "      <td>0.0</td>\n",
              "    </tr>\n",
              "    <tr>\n",
              "      <th>1</th>\n",
              "      <td>2022-01-01 08:30:00</td>\n",
              "      <td>0.947858</td>\n",
              "      <td>0.941063</td>\n",
              "      <td>0.947614</td>\n",
              "      <td>0.947993</td>\n",
              "      <td>0.002854</td>\n",
              "      <td>0.539149</td>\n",
              "      <td>0.536218</td>\n",
              "      <td>0.888673</td>\n",
              "      <td>0.477682</td>\n",
              "      <td>0.199213</td>\n",
              "      <td>0.258053</td>\n",
              "      <td>0.523490</td>\n",
              "      <td>0.0</td>\n",
              "      <td>1.0</td>\n",
              "    </tr>\n",
              "    <tr>\n",
              "      <th>2</th>\n",
              "      <td>2022-01-01 08:45:00</td>\n",
              "      <td>0.947989</td>\n",
              "      <td>0.944291</td>\n",
              "      <td>0.949045</td>\n",
              "      <td>0.947704</td>\n",
              "      <td>0.003717</td>\n",
              "      <td>0.532898</td>\n",
              "      <td>0.537880</td>\n",
              "      <td>0.888362</td>\n",
              "      <td>0.515845</td>\n",
              "      <td>0.198994</td>\n",
              "      <td>0.261002</td>\n",
              "      <td>0.447707</td>\n",
              "      <td>1.0</td>\n",
              "      <td>0.0</td>\n",
              "    </tr>\n",
              "    <tr>\n",
              "      <th>3</th>\n",
              "      <td>2022-01-01 09:00:00</td>\n",
              "      <td>0.947617</td>\n",
              "      <td>0.943009</td>\n",
              "      <td>0.947648</td>\n",
              "      <td>0.950474</td>\n",
              "      <td>0.004672</td>\n",
              "      <td>0.582682</td>\n",
              "      <td>0.544218</td>\n",
              "      <td>0.888731</td>\n",
              "      <td>0.538501</td>\n",
              "      <td>0.199162</td>\n",
              "      <td>0.257649</td>\n",
              "      <td>0.416577</td>\n",
              "      <td>0.0</td>\n",
              "      <td>1.0</td>\n",
              "    </tr>\n",
              "    <tr>\n",
              "      <th>4</th>\n",
              "      <td>2022-01-01 09:15:00</td>\n",
              "      <td>0.950474</td>\n",
              "      <td>0.942986</td>\n",
              "      <td>0.949239</td>\n",
              "      <td>0.948076</td>\n",
              "      <td>0.003983</td>\n",
              "      <td>0.529185</td>\n",
              "      <td>0.544908</td>\n",
              "      <td>0.888403</td>\n",
              "      <td>0.543989</td>\n",
              "      <td>0.194037</td>\n",
              "      <td>0.254536</td>\n",
              "      <td>0.411309</td>\n",
              "      <td>0.0</td>\n",
              "      <td>1.0</td>\n",
              "    </tr>\n",
              "    <tr>\n",
              "      <th>...</th>\n",
              "      <td>...</td>\n",
              "      <td>...</td>\n",
              "      <td>...</td>\n",
              "      <td>...</td>\n",
              "      <td>...</td>\n",
              "      <td>...</td>\n",
              "      <td>...</td>\n",
              "      <td>...</td>\n",
              "      <td>...</td>\n",
              "      <td>...</td>\n",
              "      <td>...</td>\n",
              "      <td>...</td>\n",
              "      <td>...</td>\n",
              "      <td>...</td>\n",
              "      <td>...</td>\n",
              "    </tr>\n",
              "    <tr>\n",
              "      <th>35461</th>\n",
              "      <td>2023-01-05 17:30:00</td>\n",
              "      <td>0.117445</td>\n",
              "      <td>0.114930</td>\n",
              "      <td>0.122333</td>\n",
              "      <td>0.117112</td>\n",
              "      <td>0.003971</td>\n",
              "      <td>0.418599</td>\n",
              "      <td>0.539354</td>\n",
              "      <td>0.310202</td>\n",
              "      <td>0.447685</td>\n",
              "      <td>0.026181</td>\n",
              "      <td>0.249130</td>\n",
              "      <td>0.448492</td>\n",
              "      <td>0.0</td>\n",
              "      <td>1.0</td>\n",
              "    </tr>\n",
              "    <tr>\n",
              "      <th>35462</th>\n",
              "      <td>2023-01-05 17:45:00</td>\n",
              "      <td>0.117109</td>\n",
              "      <td>0.114453</td>\n",
              "      <td>0.122176</td>\n",
              "      <td>0.117042</td>\n",
              "      <td>0.002877</td>\n",
              "      <td>0.412897</td>\n",
              "      <td>0.538768</td>\n",
              "      <td>0.309941</td>\n",
              "      <td>0.414423</td>\n",
              "      <td>0.024402</td>\n",
              "      <td>0.253226</td>\n",
              "      <td>0.399756</td>\n",
              "      <td>1.0</td>\n",
              "      <td>0.0</td>\n",
              "    </tr>\n",
              "    <tr>\n",
              "      <th>35463</th>\n",
              "      <td>2023-01-05 18:00:00</td>\n",
              "      <td>0.117042</td>\n",
              "      <td>0.114643</td>\n",
              "      <td>0.122079</td>\n",
              "      <td>0.117156</td>\n",
              "      <td>0.005562</td>\n",
              "      <td>0.425684</td>\n",
              "      <td>0.538585</td>\n",
              "      <td>0.310363</td>\n",
              "      <td>0.412165</td>\n",
              "      <td>0.023690</td>\n",
              "      <td>0.250799</td>\n",
              "      <td>0.579382</td>\n",
              "      <td>1.0</td>\n",
              "      <td>0.0</td>\n",
              "    </tr>\n",
              "    <tr>\n",
              "      <th>35464</th>\n",
              "      <td>2023-01-05 18:15:00</td>\n",
              "      <td>0.117156</td>\n",
              "      <td>0.115538</td>\n",
              "      <td>0.122400</td>\n",
              "      <td>0.118251</td>\n",
              "      <td>0.015938</td>\n",
              "      <td>0.532847</td>\n",
              "      <td>0.540475</td>\n",
              "      <td>0.311407</td>\n",
              "      <td>0.564113</td>\n",
              "      <td>0.024910</td>\n",
              "      <td>0.227466</td>\n",
              "      <td>0.557552</td>\n",
              "      <td>0.0</td>\n",
              "      <td>1.0</td>\n",
              "    </tr>\n",
              "    <tr>\n",
              "      <th>35465</th>\n",
              "      <td>2023-01-05 18:30:00</td>\n",
              "      <td>0.118247</td>\n",
              "      <td>0.115655</td>\n",
              "      <td>0.123256</td>\n",
              "      <td>0.118063</td>\n",
              "      <td>0.004178</td>\n",
              "      <td>0.514390</td>\n",
              "      <td>0.541673</td>\n",
              "      <td>0.311068</td>\n",
              "      <td>0.628770</td>\n",
              "      <td>0.023626</td>\n",
              "      <td>0.208427</td>\n",
              "      <td>0.414513</td>\n",
              "      <td>1.0</td>\n",
              "      <td>0.0</td>\n",
              "    </tr>\n",
              "  </tbody>\n",
              "</table>\n",
              "<p>35466 rows × 15 columns</p>\n",
              "</div>"
            ],
            "text/plain": [
              "                      time      open      high       low     close    volume  \\\n",
              "0      2022-01-01 08:15:00  0.946260  0.941543  0.947608  0.947727  0.002398   \n",
              "1      2022-01-01 08:30:00  0.947858  0.941063  0.947614  0.947993  0.002854   \n",
              "2      2022-01-01 08:45:00  0.947989  0.944291  0.949045  0.947704  0.003717   \n",
              "3      2022-01-01 09:00:00  0.947617  0.943009  0.947648  0.950474  0.004672   \n",
              "4      2022-01-01 09:15:00  0.950474  0.942986  0.949239  0.948076  0.003983   \n",
              "...                    ...       ...       ...       ...       ...       ...   \n",
              "35461  2023-01-05 17:30:00  0.117445  0.114930  0.122333  0.117112  0.003971   \n",
              "35462  2023-01-05 17:45:00  0.117109  0.114453  0.122176  0.117042  0.002877   \n",
              "35463  2023-01-05 18:00:00  0.117042  0.114643  0.122079  0.117156  0.005562   \n",
              "35464  2023-01-05 18:15:00  0.117156  0.115538  0.122400  0.118251  0.015938   \n",
              "35465  2023-01-05 18:30:00  0.118247  0.115655  0.123256  0.118063  0.004178   \n",
              "\n",
              "            RSI      MACD       OBV       CCI       ATR       ADX       MFI  \\\n",
              "0      0.534568  0.533569  0.888414  0.484903  0.205796  0.264040  0.507308   \n",
              "1      0.539149  0.536218  0.888673  0.477682  0.199213  0.258053  0.523490   \n",
              "2      0.532898  0.537880  0.888362  0.515845  0.198994  0.261002  0.447707   \n",
              "3      0.582682  0.544218  0.888731  0.538501  0.199162  0.257649  0.416577   \n",
              "4      0.529185  0.544908  0.888403  0.543989  0.194037  0.254536  0.411309   \n",
              "...         ...       ...       ...       ...       ...       ...       ...   \n",
              "35461  0.418599  0.539354  0.310202  0.447685  0.026181  0.249130  0.448492   \n",
              "35462  0.412897  0.538768  0.309941  0.414423  0.024402  0.253226  0.399756   \n",
              "35463  0.425684  0.538585  0.310363  0.412165  0.023690  0.250799  0.579382   \n",
              "35464  0.532847  0.540475  0.311407  0.564113  0.024910  0.227466  0.557552   \n",
              "35465  0.514390  0.541673  0.311068  0.628770  0.023626  0.208427  0.414513   \n",
              "\n",
              "        UP  DOWN  \n",
              "0      1.0   0.0  \n",
              "1      0.0   1.0  \n",
              "2      1.0   0.0  \n",
              "3      0.0   1.0  \n",
              "4      0.0   1.0  \n",
              "...    ...   ...  \n",
              "35461  0.0   1.0  \n",
              "35462  1.0   0.0  \n",
              "35463  1.0   0.0  \n",
              "35464  0.0   1.0  \n",
              "35465  1.0   0.0  \n",
              "\n",
              "[35466 rows x 15 columns]"
            ]
          },
          "execution_count": 3,
          "metadata": {},
          "output_type": "execute_result"
        }
      ],
      "source": [
        "df"
      ]
    },
    {
      "cell_type": "code",
      "execution_count": null,
      "metadata": {
        "id": "aTh7CyL-vvij"
      },
      "outputs": [
        {
          "name": "stderr",
          "output_type": "stream",
          "text": [
            "C:\\Users\\李軒豪\\AppData\\Local\\Temp\\ipykernel_36616\\1144569331.py:2: SettingWithCopyWarning: \n",
            "A value is trying to be set on a copy of a slice from a DataFrame.\n",
            "Try using .loc[row_indexer,col_indexer] = value instead\n",
            "\n",
            "See the caveats in the documentation: https://pandas.pydata.org/pandas-docs/stable/user_guide/indexing.html#returning-a-view-versus-a-copy\n",
            "  df['RSI'] = (df['RSI'] - df['RSI'].min()) / (df['RSI'].max() - df['RSI'].min())\n",
            "C:\\Users\\李軒豪\\AppData\\Local\\Temp\\ipykernel_36616\\1144569331.py:3: SettingWithCopyWarning: \n",
            "A value is trying to be set on a copy of a slice from a DataFrame.\n",
            "Try using .loc[row_indexer,col_indexer] = value instead\n",
            "\n",
            "See the caveats in the documentation: https://pandas.pydata.org/pandas-docs/stable/user_guide/indexing.html#returning-a-view-versus-a-copy\n",
            "  df['MACD'] = (df['MACD'] - df['MACD'].min()) / (df['MACD'].max() - df['MACD'].min())\n",
            "C:\\Users\\李軒豪\\AppData\\Local\\Temp\\ipykernel_36616\\1144569331.py:4: SettingWithCopyWarning: \n",
            "A value is trying to be set on a copy of a slice from a DataFrame.\n",
            "Try using .loc[row_indexer,col_indexer] = value instead\n",
            "\n",
            "See the caveats in the documentation: https://pandas.pydata.org/pandas-docs/stable/user_guide/indexing.html#returning-a-view-versus-a-copy\n",
            "  df['OBV'] = (df['OBV'] - df['OBV'].min()) / (df['OBV'].max() - df['OBV'].min())\n",
            "C:\\Users\\李軒豪\\AppData\\Local\\Temp\\ipykernel_36616\\1144569331.py:5: SettingWithCopyWarning: \n",
            "A value is trying to be set on a copy of a slice from a DataFrame.\n",
            "Try using .loc[row_indexer,col_indexer] = value instead\n",
            "\n",
            "See the caveats in the documentation: https://pandas.pydata.org/pandas-docs/stable/user_guide/indexing.html#returning-a-view-versus-a-copy\n",
            "  df['CCI'] = (df['CCI'] - df['CCI'].min()) / (df['CCI'].max() - df['CCI'].min())\n",
            "C:\\Users\\李軒豪\\AppData\\Local\\Temp\\ipykernel_36616\\1144569331.py:6: SettingWithCopyWarning: \n",
            "A value is trying to be set on a copy of a slice from a DataFrame.\n",
            "Try using .loc[row_indexer,col_indexer] = value instead\n",
            "\n",
            "See the caveats in the documentation: https://pandas.pydata.org/pandas-docs/stable/user_guide/indexing.html#returning-a-view-versus-a-copy\n",
            "  df['ATR'] = (df['ATR'] - df['ATR'].min()) / (df['ATR'].max() - df['ATR'].min())\n",
            "C:\\Users\\李軒豪\\AppData\\Local\\Temp\\ipykernel_36616\\1144569331.py:7: SettingWithCopyWarning: \n",
            "A value is trying to be set on a copy of a slice from a DataFrame.\n",
            "Try using .loc[row_indexer,col_indexer] = value instead\n",
            "\n",
            "See the caveats in the documentation: https://pandas.pydata.org/pandas-docs/stable/user_guide/indexing.html#returning-a-view-versus-a-copy\n",
            "  df['ADX'] = (df['ADX'] - df['ADX'].min()) / (df['ADX'].max() - df['ADX'].min())\n",
            "C:\\Users\\李軒豪\\AppData\\Local\\Temp\\ipykernel_36616\\1144569331.py:8: SettingWithCopyWarning: \n",
            "A value is trying to be set on a copy of a slice from a DataFrame.\n",
            "Try using .loc[row_indexer,col_indexer] = value instead\n",
            "\n",
            "See the caveats in the documentation: https://pandas.pydata.org/pandas-docs/stable/user_guide/indexing.html#returning-a-view-versus-a-copy\n",
            "  df['MFI'] = (df['MFI'] - df['MFI'].min()) / (df['MFI'].max() - df['MFI'].min())\n",
            "C:\\Users\\李軒豪\\AppData\\Local\\Temp\\ipykernel_36616\\1144569331.py:9: SettingWithCopyWarning: \n",
            "A value is trying to be set on a copy of a slice from a DataFrame.\n",
            "Try using .loc[row_indexer,col_indexer] = value instead\n",
            "\n",
            "See the caveats in the documentation: https://pandas.pydata.org/pandas-docs/stable/user_guide/indexing.html#returning-a-view-versus-a-copy\n",
            "  df['open'] = (df['open'] - df['open'].min()) / (df['open'].max() - df['open'].min())\n",
            "C:\\Users\\李軒豪\\AppData\\Local\\Temp\\ipykernel_36616\\1144569331.py:10: SettingWithCopyWarning: \n",
            "A value is trying to be set on a copy of a slice from a DataFrame.\n",
            "Try using .loc[row_indexer,col_indexer] = value instead\n",
            "\n",
            "See the caveats in the documentation: https://pandas.pydata.org/pandas-docs/stable/user_guide/indexing.html#returning-a-view-versus-a-copy\n",
            "  df['high'] = (df['high'] - df['high'].min()) / (df['high'].max() - df['high'].min())\n",
            "C:\\Users\\李軒豪\\AppData\\Local\\Temp\\ipykernel_36616\\1144569331.py:11: SettingWithCopyWarning: \n",
            "A value is trying to be set on a copy of a slice from a DataFrame.\n",
            "Try using .loc[row_indexer,col_indexer] = value instead\n",
            "\n",
            "See the caveats in the documentation: https://pandas.pydata.org/pandas-docs/stable/user_guide/indexing.html#returning-a-view-versus-a-copy\n",
            "  df['low'] = (df['low'] - df['low'].min()) / (df['low'].max() - df['low'].min())\n",
            "C:\\Users\\李軒豪\\AppData\\Local\\Temp\\ipykernel_36616\\1144569331.py:12: SettingWithCopyWarning: \n",
            "A value is trying to be set on a copy of a slice from a DataFrame.\n",
            "Try using .loc[row_indexer,col_indexer] = value instead\n",
            "\n",
            "See the caveats in the documentation: https://pandas.pydata.org/pandas-docs/stable/user_guide/indexing.html#returning-a-view-versus-a-copy\n",
            "  df['close'] = (df['close'] - df['close'].min()) / (df['close'].max() - df['close'].min())\n",
            "C:\\Users\\李軒豪\\AppData\\Local\\Temp\\ipykernel_36616\\1144569331.py:13: SettingWithCopyWarning: \n",
            "A value is trying to be set on a copy of a slice from a DataFrame.\n",
            "Try using .loc[row_indexer,col_indexer] = value instead\n",
            "\n",
            "See the caveats in the documentation: https://pandas.pydata.org/pandas-docs/stable/user_guide/indexing.html#returning-a-view-versus-a-copy\n",
            "  df['volume'] = (df['volume'] - df['volume'].min()) / (df['volume'].max() - df['volume'].min())\n"
          ]
        }
      ],
      "source": [
        "#正規化\n",
        "df['RSI'] = (df['RSI'] - df['RSI'].min()) / (df['RSI'].max() - df['RSI'].min())\n",
        "df['MACD'] = (df['MACD'] - df['MACD'].min()) / (df['MACD'].max() - df['MACD'].min())\n",
        "df['OBV'] = (df['OBV'] - df['OBV'].min()) / (df['OBV'].max() - df['OBV'].min())\n",
        "df['CCI'] = (df['CCI'] - df['CCI'].min()) / (df['CCI'].max() - df['CCI'].min())\n",
        "df['ATR'] = (df['ATR'] - df['ATR'].min()) / (df['ATR'].max() - df['ATR'].min())\n",
        "df['ADX'] = (df['ADX'] - df['ADX'].min()) / (df['ADX'].max() - df['ADX'].min())\n",
        "df['MFI'] = (df['MFI'] - df['MFI'].min()) / (df['MFI'].max() - df['MFI'].min())\n",
        "df['open'] = (df['open'] - df['open'].min()) / (df['open'].max() - df['open'].min())\n",
        "df['high'] = (df['high'] - df['high'].min()) / (df['high'].max() - df['high'].min())\n",
        "df['low'] = (df['low'] - df['low'].min()) / (df['low'].max() - df['low'].min())\n",
        "df['close'] = (df['close'] - df['close'].min()) / (df['close'].max() - df['close'].min())\n",
        "df['volume'] = (df['volume'] - df['volume'].min()) / (df['volume'].max() - df['volume'].min())"
      ]
    },
    {
      "cell_type": "code",
      "execution_count": null,
      "metadata": {},
      "outputs": [
        {
          "name": "stderr",
          "output_type": "stream",
          "text": [
            "C:\\Users\\李軒豪\\AppData\\Roaming\\Python\\Python310\\site-packages\\pandas\\core\\frame.py:4906: SettingWithCopyWarning: \n",
            "A value is trying to be set on a copy of a slice from a DataFrame\n",
            "\n",
            "See the caveats in the documentation: https://pandas.pydata.org/pandas-docs/stable/user_guide/indexing.html#returning-a-view-versus-a-copy\n",
            "  return super().drop(\n"
          ]
        }
      ],
      "source": [
        "df.drop(['CLOSE_percent'], axis=1, inplace=True)"
      ]
    },
    {
      "cell_type": "code",
      "execution_count": 4,
      "metadata": {
        "id": "UYO1j5O-vvij"
      },
      "outputs": [
        {
          "data": {
            "text/html": [
              "<div>\n",
              "<style scoped>\n",
              "    .dataframe tbody tr th:only-of-type {\n",
              "        vertical-align: middle;\n",
              "    }\n",
              "\n",
              "    .dataframe tbody tr th {\n",
              "        vertical-align: top;\n",
              "    }\n",
              "\n",
              "    .dataframe thead th {\n",
              "        text-align: right;\n",
              "    }\n",
              "</style>\n",
              "<table border=\"1\" class=\"dataframe\">\n",
              "  <thead>\n",
              "    <tr style=\"text-align: right;\">\n",
              "      <th></th>\n",
              "      <th>time</th>\n",
              "      <th>open</th>\n",
              "      <th>high</th>\n",
              "      <th>low</th>\n",
              "      <th>close</th>\n",
              "      <th>volume</th>\n",
              "      <th>RSI</th>\n",
              "      <th>MACD</th>\n",
              "      <th>OBV</th>\n",
              "      <th>CCI</th>\n",
              "      <th>ATR</th>\n",
              "      <th>ADX</th>\n",
              "      <th>MFI</th>\n",
              "      <th>UP</th>\n",
              "      <th>DOWN</th>\n",
              "    </tr>\n",
              "  </thead>\n",
              "  <tbody>\n",
              "    <tr>\n",
              "      <th>0</th>\n",
              "      <td>2022-01-01 08:15:00</td>\n",
              "      <td>0.946260</td>\n",
              "      <td>0.941543</td>\n",
              "      <td>0.947608</td>\n",
              "      <td>0.947727</td>\n",
              "      <td>0.002398</td>\n",
              "      <td>0.534568</td>\n",
              "      <td>0.533569</td>\n",
              "      <td>0.888414</td>\n",
              "      <td>0.484903</td>\n",
              "      <td>0.205796</td>\n",
              "      <td>0.264040</td>\n",
              "      <td>0.507308</td>\n",
              "      <td>1.0</td>\n",
              "      <td>0.0</td>\n",
              "    </tr>\n",
              "    <tr>\n",
              "      <th>1</th>\n",
              "      <td>2022-01-01 08:30:00</td>\n",
              "      <td>0.947858</td>\n",
              "      <td>0.941063</td>\n",
              "      <td>0.947614</td>\n",
              "      <td>0.947993</td>\n",
              "      <td>0.002854</td>\n",
              "      <td>0.539149</td>\n",
              "      <td>0.536218</td>\n",
              "      <td>0.888673</td>\n",
              "      <td>0.477682</td>\n",
              "      <td>0.199213</td>\n",
              "      <td>0.258053</td>\n",
              "      <td>0.523490</td>\n",
              "      <td>0.0</td>\n",
              "      <td>1.0</td>\n",
              "    </tr>\n",
              "    <tr>\n",
              "      <th>2</th>\n",
              "      <td>2022-01-01 08:45:00</td>\n",
              "      <td>0.947989</td>\n",
              "      <td>0.944291</td>\n",
              "      <td>0.949045</td>\n",
              "      <td>0.947704</td>\n",
              "      <td>0.003717</td>\n",
              "      <td>0.532898</td>\n",
              "      <td>0.537880</td>\n",
              "      <td>0.888362</td>\n",
              "      <td>0.515845</td>\n",
              "      <td>0.198994</td>\n",
              "      <td>0.261002</td>\n",
              "      <td>0.447707</td>\n",
              "      <td>1.0</td>\n",
              "      <td>0.0</td>\n",
              "    </tr>\n",
              "    <tr>\n",
              "      <th>3</th>\n",
              "      <td>2022-01-01 09:00:00</td>\n",
              "      <td>0.947617</td>\n",
              "      <td>0.943009</td>\n",
              "      <td>0.947648</td>\n",
              "      <td>0.950474</td>\n",
              "      <td>0.004672</td>\n",
              "      <td>0.582682</td>\n",
              "      <td>0.544218</td>\n",
              "      <td>0.888731</td>\n",
              "      <td>0.538501</td>\n",
              "      <td>0.199162</td>\n",
              "      <td>0.257649</td>\n",
              "      <td>0.416577</td>\n",
              "      <td>0.0</td>\n",
              "      <td>1.0</td>\n",
              "    </tr>\n",
              "    <tr>\n",
              "      <th>4</th>\n",
              "      <td>2022-01-01 09:15:00</td>\n",
              "      <td>0.950474</td>\n",
              "      <td>0.942986</td>\n",
              "      <td>0.949239</td>\n",
              "      <td>0.948076</td>\n",
              "      <td>0.003983</td>\n",
              "      <td>0.529185</td>\n",
              "      <td>0.544908</td>\n",
              "      <td>0.888403</td>\n",
              "      <td>0.543989</td>\n",
              "      <td>0.194037</td>\n",
              "      <td>0.254536</td>\n",
              "      <td>0.411309</td>\n",
              "      <td>0.0</td>\n",
              "      <td>1.0</td>\n",
              "    </tr>\n",
              "    <tr>\n",
              "      <th>...</th>\n",
              "      <td>...</td>\n",
              "      <td>...</td>\n",
              "      <td>...</td>\n",
              "      <td>...</td>\n",
              "      <td>...</td>\n",
              "      <td>...</td>\n",
              "      <td>...</td>\n",
              "      <td>...</td>\n",
              "      <td>...</td>\n",
              "      <td>...</td>\n",
              "      <td>...</td>\n",
              "      <td>...</td>\n",
              "      <td>...</td>\n",
              "      <td>...</td>\n",
              "      <td>...</td>\n",
              "    </tr>\n",
              "    <tr>\n",
              "      <th>35461</th>\n",
              "      <td>2023-01-05 17:30:00</td>\n",
              "      <td>0.117445</td>\n",
              "      <td>0.114930</td>\n",
              "      <td>0.122333</td>\n",
              "      <td>0.117112</td>\n",
              "      <td>0.003971</td>\n",
              "      <td>0.418599</td>\n",
              "      <td>0.539354</td>\n",
              "      <td>0.310202</td>\n",
              "      <td>0.447685</td>\n",
              "      <td>0.026181</td>\n",
              "      <td>0.249130</td>\n",
              "      <td>0.448492</td>\n",
              "      <td>0.0</td>\n",
              "      <td>1.0</td>\n",
              "    </tr>\n",
              "    <tr>\n",
              "      <th>35462</th>\n",
              "      <td>2023-01-05 17:45:00</td>\n",
              "      <td>0.117109</td>\n",
              "      <td>0.114453</td>\n",
              "      <td>0.122176</td>\n",
              "      <td>0.117042</td>\n",
              "      <td>0.002877</td>\n",
              "      <td>0.412897</td>\n",
              "      <td>0.538768</td>\n",
              "      <td>0.309941</td>\n",
              "      <td>0.414423</td>\n",
              "      <td>0.024402</td>\n",
              "      <td>0.253226</td>\n",
              "      <td>0.399756</td>\n",
              "      <td>1.0</td>\n",
              "      <td>0.0</td>\n",
              "    </tr>\n",
              "    <tr>\n",
              "      <th>35463</th>\n",
              "      <td>2023-01-05 18:00:00</td>\n",
              "      <td>0.117042</td>\n",
              "      <td>0.114643</td>\n",
              "      <td>0.122079</td>\n",
              "      <td>0.117156</td>\n",
              "      <td>0.005562</td>\n",
              "      <td>0.425684</td>\n",
              "      <td>0.538585</td>\n",
              "      <td>0.310363</td>\n",
              "      <td>0.412165</td>\n",
              "      <td>0.023690</td>\n",
              "      <td>0.250799</td>\n",
              "      <td>0.579382</td>\n",
              "      <td>1.0</td>\n",
              "      <td>0.0</td>\n",
              "    </tr>\n",
              "    <tr>\n",
              "      <th>35464</th>\n",
              "      <td>2023-01-05 18:15:00</td>\n",
              "      <td>0.117156</td>\n",
              "      <td>0.115538</td>\n",
              "      <td>0.122400</td>\n",
              "      <td>0.118251</td>\n",
              "      <td>0.015938</td>\n",
              "      <td>0.532847</td>\n",
              "      <td>0.540475</td>\n",
              "      <td>0.311407</td>\n",
              "      <td>0.564113</td>\n",
              "      <td>0.024910</td>\n",
              "      <td>0.227466</td>\n",
              "      <td>0.557552</td>\n",
              "      <td>0.0</td>\n",
              "      <td>1.0</td>\n",
              "    </tr>\n",
              "    <tr>\n",
              "      <th>35465</th>\n",
              "      <td>2023-01-05 18:30:00</td>\n",
              "      <td>0.118247</td>\n",
              "      <td>0.115655</td>\n",
              "      <td>0.123256</td>\n",
              "      <td>0.118063</td>\n",
              "      <td>0.004178</td>\n",
              "      <td>0.514390</td>\n",
              "      <td>0.541673</td>\n",
              "      <td>0.311068</td>\n",
              "      <td>0.628770</td>\n",
              "      <td>0.023626</td>\n",
              "      <td>0.208427</td>\n",
              "      <td>0.414513</td>\n",
              "      <td>1.0</td>\n",
              "      <td>0.0</td>\n",
              "    </tr>\n",
              "  </tbody>\n",
              "</table>\n",
              "<p>35466 rows × 15 columns</p>\n",
              "</div>"
            ],
            "text/plain": [
              "                      time      open      high       low     close    volume  \\\n",
              "0      2022-01-01 08:15:00  0.946260  0.941543  0.947608  0.947727  0.002398   \n",
              "1      2022-01-01 08:30:00  0.947858  0.941063  0.947614  0.947993  0.002854   \n",
              "2      2022-01-01 08:45:00  0.947989  0.944291  0.949045  0.947704  0.003717   \n",
              "3      2022-01-01 09:00:00  0.947617  0.943009  0.947648  0.950474  0.004672   \n",
              "4      2022-01-01 09:15:00  0.950474  0.942986  0.949239  0.948076  0.003983   \n",
              "...                    ...       ...       ...       ...       ...       ...   \n",
              "35461  2023-01-05 17:30:00  0.117445  0.114930  0.122333  0.117112  0.003971   \n",
              "35462  2023-01-05 17:45:00  0.117109  0.114453  0.122176  0.117042  0.002877   \n",
              "35463  2023-01-05 18:00:00  0.117042  0.114643  0.122079  0.117156  0.005562   \n",
              "35464  2023-01-05 18:15:00  0.117156  0.115538  0.122400  0.118251  0.015938   \n",
              "35465  2023-01-05 18:30:00  0.118247  0.115655  0.123256  0.118063  0.004178   \n",
              "\n",
              "            RSI      MACD       OBV       CCI       ATR       ADX       MFI  \\\n",
              "0      0.534568  0.533569  0.888414  0.484903  0.205796  0.264040  0.507308   \n",
              "1      0.539149  0.536218  0.888673  0.477682  0.199213  0.258053  0.523490   \n",
              "2      0.532898  0.537880  0.888362  0.515845  0.198994  0.261002  0.447707   \n",
              "3      0.582682  0.544218  0.888731  0.538501  0.199162  0.257649  0.416577   \n",
              "4      0.529185  0.544908  0.888403  0.543989  0.194037  0.254536  0.411309   \n",
              "...         ...       ...       ...       ...       ...       ...       ...   \n",
              "35461  0.418599  0.539354  0.310202  0.447685  0.026181  0.249130  0.448492   \n",
              "35462  0.412897  0.538768  0.309941  0.414423  0.024402  0.253226  0.399756   \n",
              "35463  0.425684  0.538585  0.310363  0.412165  0.023690  0.250799  0.579382   \n",
              "35464  0.532847  0.540475  0.311407  0.564113  0.024910  0.227466  0.557552   \n",
              "35465  0.514390  0.541673  0.311068  0.628770  0.023626  0.208427  0.414513   \n",
              "\n",
              "        UP  DOWN  \n",
              "0      1.0   0.0  \n",
              "1      0.0   1.0  \n",
              "2      1.0   0.0  \n",
              "3      0.0   1.0  \n",
              "4      0.0   1.0  \n",
              "...    ...   ...  \n",
              "35461  0.0   1.0  \n",
              "35462  1.0   0.0  \n",
              "35463  1.0   0.0  \n",
              "35464  0.0   1.0  \n",
              "35465  1.0   0.0  \n",
              "\n",
              "[35466 rows x 15 columns]"
            ]
          },
          "execution_count": 4,
          "metadata": {},
          "output_type": "execute_result"
        }
      ],
      "source": [
        "df"
      ]
    },
    {
      "cell_type": "code",
      "execution_count": 5,
      "metadata": {
        "id": "fJySHQc1vvij"
      },
      "outputs": [
        {
          "data": {
            "text/plain": [
              "1.0    17743\n",
              "0.0    17723\n",
              "Name: UP, dtype: int64"
            ]
          },
          "execution_count": 5,
          "metadata": {},
          "output_type": "execute_result"
        }
      ],
      "source": [
        "df['UP'].value_counts()"
      ]
    },
    {
      "cell_type": "code",
      "execution_count": 6,
      "metadata": {
        "id": "assMge-pvvik"
      },
      "outputs": [
        {
          "data": {
            "text/plain": [
              "0.0    17775\n",
              "1.0    17691\n",
              "Name: DOWN, dtype: int64"
            ]
          },
          "execution_count": 6,
          "metadata": {},
          "output_type": "execute_result"
        }
      ],
      "source": [
        "df['DOWN'].value_counts()"
      ]
    },
    {
      "cell_type": "markdown",
      "metadata": {
        "id": "G30PhZn8vvik"
      },
      "source": [
        "看起來數據蠻平衡的"
      ]
    },
    {
      "cell_type": "markdown",
      "metadata": {
        "id": "PHhAI0s7vvik"
      },
      "source": [
        "# 儲存資料"
      ]
    },
    {
      "cell_type": "code",
      "execution_count": null,
      "metadata": {
        "id": "5G-LQyMFvvik"
      },
      "outputs": [],
      "source": [
        "df.to_csv(file_name, index=False)"
      ]
    },
    {
      "cell_type": "markdown",
      "metadata": {
        "id": "GGf37pdovvik"
      },
      "source": [
        "# 分割成X、y"
      ]
    },
    {
      "cell_type": "code",
      "execution_count": 4,
      "metadata": {
        "id": "J8yawScBvvik"
      },
      "outputs": [],
      "source": [
        "\n",
        "X,y = list(),list()\n",
        "\n",
        "X = df.iloc[:,1:-2].values\n",
        "y = df.iloc[:,-2:].values\n",
        "\n"
      ]
    },
    {
      "cell_type": "code",
      "execution_count": 5,
      "metadata": {
        "id": "nVAjEG8Nvvik"
      },
      "outputs": [
        {
          "data": {
            "text/plain": [
              "array([0.9462601 , 0.94154346, 0.94760773, 0.94772732, 0.00239768,\n",
              "       0.53456777, 0.53356898, 0.88841379, 0.48490306, 0.20579619,\n",
              "       0.26403984, 0.50730778])"
            ]
          },
          "execution_count": 5,
          "metadata": {},
          "output_type": "execute_result"
        }
      ],
      "source": [
        "X[0]#這裡會出現10個array，每個array裡面有12個數字，分別是open high low close volume RSI MACD OBV CCI ATR ADX MFI"
      ]
    },
    {
      "cell_type": "code",
      "execution_count": 6,
      "metadata": {
        "id": "ZdEmCm_Qvvil"
      },
      "outputs": [
        {
          "data": {
            "text/plain": [
              "array([1., 0.])"
            ]
          },
          "execution_count": 6,
          "metadata": {},
          "output_type": "execute_result"
        }
      ],
      "source": [
        "y[0]"
      ]
    },
    {
      "cell_type": "code",
      "execution_count": 7,
      "metadata": {
        "id": "MQMldPJgvvil"
      },
      "outputs": [],
      "source": [
        "X = np.array(X)\n",
        "X = torch.tensor(X, dtype=torch.float32)"
      ]
    },
    {
      "cell_type": "code",
      "execution_count": 8,
      "metadata": {
        "id": "mm5Q6Cjavvil"
      },
      "outputs": [],
      "source": [
        "y = np.array(y,dtype=np.float32)\n",
        "y = torch.tensor(y, dtype=torch.float32)"
      ]
    },
    {
      "cell_type": "code",
      "execution_count": 9,
      "metadata": {
        "id": "5nUKlKubvvil"
      },
      "outputs": [
        {
          "data": {
            "text/plain": [
              "tensor([[1., 0.],\n",
              "        [0., 1.],\n",
              "        [1., 0.],\n",
              "        ...,\n",
              "        [1., 0.],\n",
              "        [0., 1.],\n",
              "        [1., 0.]])"
            ]
          },
          "execution_count": 9,
          "metadata": {},
          "output_type": "execute_result"
        }
      ],
      "source": [
        "y"
      ]
    },
    {
      "cell_type": "code",
      "execution_count": 10,
      "metadata": {
        "id": "7kxTYq8tvvil"
      },
      "outputs": [
        {
          "name": "stdout",
          "output_type": "stream",
          "text": [
            "X shape: torch.Size([35466, 12]) , y shape: torch.Size([35466, 2])\n"
          ]
        }
      ],
      "source": [
        "print(f\"X shape: {X.shape} , y shape: {y.shape}\")"
      ]
    },
    {
      "cell_type": "code",
      "execution_count": 11,
      "metadata": {
        "id": "1bAuFUJpvvil"
      },
      "outputs": [
        {
          "data": {
            "text/plain": [
              "tensor([0.9463, 0.9415, 0.9476, 0.9477, 0.0024, 0.5346, 0.5336, 0.8884, 0.4849,\n",
              "        0.2058, 0.2640, 0.5073])"
            ]
          },
          "execution_count": 11,
          "metadata": {},
          "output_type": "execute_result"
        }
      ],
      "source": [
        "X[0]"
      ]
    },
    {
      "cell_type": "code",
      "execution_count": 12,
      "metadata": {
        "id": "XgiJoWzjvvil"
      },
      "outputs": [
        {
          "data": {
            "text/plain": [
              "tensor([1., 0.])"
            ]
          },
          "execution_count": 12,
          "metadata": {},
          "output_type": "execute_result"
        }
      ],
      "source": [
        "y[0]"
      ]
    },
    {
      "cell_type": "markdown",
      "metadata": {
        "id": "fDKqaaoKvvil"
      },
      "source": [
        "# 建立資料集類別\n",
        "\n",
        "- 要繼承torch.utils.data.Dataset\n",
        "- 要實作`__len__`、`__getitem__`\n",
        "- 後面要用DataLoader取用"
      ]
    },
    {
      "cell_type": "code",
      "execution_count": 13,
      "metadata": {
        "id": "jLDT0sbfvvim"
      },
      "outputs": [],
      "source": [
        "#用sklearn來分成train val test\n",
        "# train:val:test = 6:3:1\n",
        "from sklearn.model_selection import train_test_split\n",
        "X_train, X_test, y_train, y_test = train_test_split(X, y, test_size=0.4, random_state=42)\n",
        "X_val, X_test, y_val, y_test = train_test_split(X_test, y_test, test_size=0.75, random_state=42)"
      ]
    },
    {
      "cell_type": "code",
      "execution_count": 14,
      "metadata": {
        "id": "CSgwdCotvvim"
      },
      "outputs": [
        {
          "name": "stdout",
          "output_type": "stream",
          "text": [
            "X_train shape: torch.Size([21279, 12]) , y_train shape: torch.Size([21279, 2])\n"
          ]
        }
      ],
      "source": [
        "print(f\"X_train shape: {X_train.shape} , y_train shape: {y_train.shape}\")"
      ]
    },
    {
      "cell_type": "code",
      "execution_count": 15,
      "metadata": {},
      "outputs": [
        {
          "name": "stdout",
          "output_type": "stream",
          "text": [
            "y_train UP: 10594 , DOWN: 10685\n"
          ]
        }
      ],
      "source": [
        "a_cnt = 0\n",
        "b_cnt = 0\n",
        "for i in y_train:\n",
        "    if i[0] == 1:\n",
        "        a_cnt += 1\n",
        "    else:\n",
        "        b_cnt += 1\n",
        "print(f\"y_train UP: {a_cnt} , DOWN: {b_cnt}\")"
      ]
    },
    {
      "cell_type": "code",
      "execution_count": 16,
      "metadata": {
        "id": "ep8tt8-avvim"
      },
      "outputs": [
        {
          "name": "stdout",
          "output_type": "stream",
          "text": [
            "X_test shape: torch.Size([10641, 12]) , y_test shape: torch.Size([10641, 2])\n"
          ]
        }
      ],
      "source": [
        "print(f\"X_test shape: {X_test.shape} , y_test shape: {y_test.shape}\")"
      ]
    },
    {
      "cell_type": "code",
      "execution_count": 17,
      "metadata": {
        "id": "RPqE-CPfvvim"
      },
      "outputs": [
        {
          "name": "stdout",
          "output_type": "stream",
          "text": [
            "X_val shape: torch.Size([3546, 12]) , y_val shape: torch.Size([3546, 2])\n"
          ]
        }
      ],
      "source": [
        "print(f\"X_val shape: {X_val.shape} , y_val shape: {y_val.shape}\")"
      ]
    },
    {
      "cell_type": "code",
      "execution_count": 18,
      "metadata": {
        "id": "Y0NmS_Lqvvim"
      },
      "outputs": [],
      "source": [
        "class TrainDataset(Dataset):\n",
        "    def __init__(self, X, y):\n",
        "        self.X = X\n",
        "        self.y = y\n",
        "    def __len__(self):\n",
        "        return len(self.X)\n",
        "    def __getitem__(self, idx):\n",
        "        return self.X[idx], self.y[idx]"
      ]
    },
    {
      "cell_type": "code",
      "execution_count": 19,
      "metadata": {
        "id": "-5DjuhEyvvim"
      },
      "outputs": [],
      "source": [
        "class ValDataset(Dataset):\n",
        "    def __init__(self, X, y):\n",
        "        self.X = X\n",
        "        self.y = y\n",
        "    def __len__(self):\n",
        "        return len(self.X)\n",
        "    def __getitem__(self, idx):\n",
        "        return self.X[idx], self.y[idx]"
      ]
    },
    {
      "cell_type": "code",
      "execution_count": 20,
      "metadata": {
        "id": "qHMCNEm6vvim"
      },
      "outputs": [],
      "source": [
        "class TestDataset(Dataset):\n",
        "    def __init__(self, X, y):\n",
        "        self.X = X\n",
        "        self.y = y\n",
        "    def __len__(self):\n",
        "        return len(self.X)\n",
        "    def __getitem__(self, idx):\n",
        "        return self.X[idx], self.y[idx]"
      ]
    },
    {
      "cell_type": "code",
      "execution_count": 21,
      "metadata": {
        "id": "ChyqvyFKvvim"
      },
      "outputs": [],
      "source": [
        "train_dataset = TrainDataset(X_train, y_train)\n",
        "val_dataset = ValDataset(X_val, y_val)\n",
        "test_dataset = TestDataset(X_test, y_test)"
      ]
    },
    {
      "cell_type": "markdown",
      "metadata": {
        "id": "Ib09cuxtvvim"
      },
      "source": [
        "# 建立模型\n",
        "\n",
        "- 要繼承torch.nn.Module\n",
        "- 可能要多建立不同的模型，到時候看結果再調整 -> 先讓數據流得通，再去看成績做調整。"
      ]
    },
    {
      "attachments": {},
      "cell_type": "markdown",
      "metadata": {
        "id": "ga66dLL8vvim"
      },
      "source": [
        "- ver1 -> MLP+Dropout\n",
        "- ver3 -> GRU+MLP+Dropout\n",
        "- ver5 -> Due channel MLP+Dropout"
      ]
    },
    {
      "cell_type": "code",
      "execution_count": 22,
      "metadata": {
        "id": "L3Da8Y1avvin"
      },
      "outputs": [],
      "source": [
        "class SelectItem(torch.nn.Module):#這是用來取出多個輸出其中一個的輸出，如果不用sequential的話，就可以不用這個\n",
        "    def __init__(self, item_index):\n",
        "        super(SelectItem, self).__init__()\n",
        "        self._name = 'selectitem'\n",
        "        self.item_index = item_index\n",
        "\n",
        "    def forward(self, inputs):\n",
        "        return inputs[self.item_index]"
      ]
    },
    {
      "cell_type": "code",
      "execution_count": 23,
      "metadata": {},
      "outputs": [],
      "source": [
        "class CCV1(nn.Module):#MLP\n",
        "    def __init__(self):\n",
        "        super(CCV1, self).__init__()\n",
        "        self.Linear1 = nn.Linear(12, 128)\n",
        "        self.Linear2 = nn.Linear(128, 256)\n",
        "        self.Linear3 = nn.Linear(256, 1024)\n",
        "        self.Linear4 = nn.Linear(1024, 256)\n",
        "        self.Linear5 = nn.Linear(256, 128)\n",
        "        self.Linear6 = nn.Linear(128, 64)\n",
        "        self.Linear7 = nn.Linear(64, 2)\n",
        "        self.Dropout1 = nn.Dropout(0.3)\n",
        "        \n",
        "    def forward(self, x):\n",
        "        x = F.relu(self.Linear1(x))\n",
        "        x = F.relu(self.Linear2(x))\n",
        "        x = self.Dropout1(x)\n",
        "        x = F.relu(self.Linear3(x))\n",
        "        x = F.relu(self.Linear4(x))\n",
        "        x = self.Dropout1(x)\n",
        "        x = F.relu(self.Linear5(x))\n",
        "        x = F.relu(self.Linear6(x))\n",
        "        x = self.Dropout1(x)\n",
        "        x = self.Linear7(x)\n",
        "        return x"
      ]
    },
    {
      "cell_type": "code",
      "execution_count": 48,
      "metadata": {},
      "outputs": [],
      "source": [
        "class CCV3(nn.Module):#MLP+GRU\n",
        "    def __init__(self):\n",
        "        super(CCV3, self).__init__()\n",
        "        self.Linear1 = nn.Linear(12, 128)\n",
        "        self.Linear2 = nn.Linear(128, 256)\n",
        "        self.Linear3 = nn.Linear(256, 2)\n",
        "        self.Dropout1 = nn.Dropout(0.168)\n",
        "        self.GRU1 = nn.GRU(256, 256, 1, batch_first=True)\n",
        "\n",
        "    def forward(self, x):\n",
        "        x = F.relu(self.Linear1(x))\n",
        "        x = F.relu(self.Linear2(x))\n",
        "        x = self.Dropout1(x)\n",
        "        x , _ = self.GRU1(x)\n",
        "        x = self.Linear3(x)\n",
        "        return x"
      ]
    },
    {
      "cell_type": "code",
      "execution_count": 78,
      "metadata": {},
      "outputs": [],
      "source": [
        "class CCV5(nn.Module):#DUE channel MLP\n",
        "    def __init__(self):\n",
        "        super(CCV5, self).__init__()\n",
        "        self.pub1 = nn.Linear(12,32)\n",
        "        self.a1layer1 = nn.Linear(32, 256)\n",
        "        self.a1layer2 = nn.Linear(256, 512)\n",
        "        self.a1layer3 = nn.Linear(512, 256)\n",
        "        self.a1layer4 = nn.Linear(256, 64)#a1 end\n",
        "        self.a2layer1 = nn.Linear(32, 256)\n",
        "        self.a2layer2 = nn.Linear(256, 556)\n",
        "        self.a2layer3 = nn.Linear(556, 256)\n",
        "        self.a2layer4 = nn.Linear(256, 192)#a2 end\n",
        "        self.concat = nn.Linear(256, 32)\n",
        "        self.a3layer1 = nn.Linear(32, 16)\n",
        "        self.a3layer2 = nn.Linear(16, 2)\n",
        "        self.dropout = nn.Dropout(0.3)\n",
        "\n",
        "    def forward(self, x):\n",
        "        x = F.relu(self.pub1(x))\n",
        "        a1 = F.relu(self.a1layer1(x))\n",
        "        a1 = F.relu(self.a1layer2(a1))\n",
        "        a1 = self.dropout(a1)\n",
        "        a1 = F.relu(self.a1layer3(a1))\n",
        "        a1 = self.dropout(a1)\n",
        "        a1 = F.relu(self.a1layer4(a1))\n",
        "        a2 = F.relu(self.a2layer1(x))\n",
        "        a2 = F.relu(self.a2layer2(a2))\n",
        "        a2 = self.dropout(a2)\n",
        "        a2 = F.relu(self.a2layer3(a2))\n",
        "        a2 = F.relu(self.a2layer4(a2))\n",
        "        x = torch.cat((a1, a2), 1)\n",
        "        x = F.relu(self.concat(x))\n",
        "        x = F.relu(self.a3layer1(x))\n",
        "        x = self.a3layer2(x)\n",
        "        return x"
      ]
    },
    {
      "cell_type": "markdown",
      "metadata": {
        "id": "eeIGq4dRvvio"
      },
      "source": [
        "## Note\n",
        "\n",
        "1) model\n",
        "    - `__init__`: define [layers](https://pytorch.org/docs/stable/nn.html)\n",
        "    - forward: forward pass -> compute prediction\n",
        "2) loss and optimizer\n",
        "    - lr: learning rate [default=0.001]\n",
        "    - momentum: momentum for optimizer [default=0.9]\n",
        "    - criterion: loss function [in torch.nn] eg.nn.BCELoss()\n",
        "    - optimizer: optimizer [in torch.optim] eg.torch.optim.SGD()\n",
        "        - eg. optimizer = torch.optim.SGD(model.parameters(), lr=lr, momentum=momentum)\n",
        "3) training loop\n",
        "    - forward pass: compute prediction and loss\n",
        "\n",
        "        ```python\n",
        "        output = model(data)\n",
        "        loss = criterion(output, target)\n",
        "        ```\n",
        "        \n",
        "    - backward pass: loss.backward()\n",
        "    - update weights: optimizer.step()\n",
        "    - zero the gradients: optimizer.zero_grad()"
      ]
    },
    {
      "cell_type": "markdown",
      "metadata": {
        "id": "iSv_yChTvvio"
      },
      "source": [
        "# TODO\n",
        "\n",
        "- 寫訓練方法\n",
        "    - using dataloader\n",
        "        - batch and epoch\n",
        "- 寫驗證方法\n",
        "    - using model.eval()\n"
      ]
    },
    {
      "cell_type": "code",
      "execution_count": 25,
      "metadata": {},
      "outputs": [],
      "source": [
        "def train(model, train_loader, optimizer, criterion, epoch, device):\n",
        "    if epoch == 0: print(\"Training...\")\n",
        "    model.train()\n",
        "    for batch_idx, (data, target) in enumerate(train_loader):\n",
        "        data, target = data.to(device), target.to(device)\n",
        "        optimizer.zero_grad()\n",
        "        output = model(data)\n",
        "        loss = criterion(output, target)\n",
        "        loss.backward()\n",
        "        optimizer.step()\n",
        "        if batch_idx == 0:\n",
        "            print(f\"data shape: {data.shape} , target shape: {target.shape} , output shape: {output.shape}\")\n",
        "        if batch_idx % 100 == 0:\n",
        "            print('Train Epoch: {} [{}/{} ({:.0f}%)]\\tLoss: {:.6f}'.format(\n",
        "                epoch, batch_idx * len(data), len(train_loader.dataset),\n",
        "                100. * batch_idx / len(train_loader), loss.item()))"
      ]
    },
    {
      "cell_type": "code",
      "execution_count": 26,
      "metadata": {},
      "outputs": [],
      "source": [
        "def test(model, test_loader, criterion, device):\n",
        "    model.eval()\n",
        "    test_loss = 0\n",
        "    correct = 0\n",
        "    with torch.no_grad():\n",
        "        for data, target in test_loader:\n",
        "            \n",
        "            data, target = data.to(device), target.to(device)\n",
        "            output = model(data)\n",
        "            test_loss += criterion(output, target).item() # sum up batch loss\n",
        "            pred = output.argmax(dim=1, keepdim=True) # get the index of the max log-probability\n",
        "            correct += pred.eq(target.argmax(1, keepdim=True).view_as(pred)).sum().item() #\n",
        "\n",
        "    test_loss /= len(test_loader.dataset)\n",
        "\n",
        "    print('Test set: Average loss: {:.4f}, Accuracy: {}/{} ({:.0f}%)'.format(\n",
        "        test_loss, correct, len(test_loader.dataset),\n",
        "        100. * correct / len(test_loader.dataset)))\n",
        "    return (100. * correct / len(test_loader.dataset)), test_loss"
      ]
    },
    {
      "cell_type": "code",
      "execution_count": 27,
      "metadata": {},
      "outputs": [
        {
          "name": "stdout",
          "output_type": "stream",
          "text": [
            "=== Info ===\n",
            "Device : cpu\n",
            "Epochs : 40\n",
            "============\n"
          ]
        }
      ],
      "source": [
        "DEVICE = torch.device(\"cuda:0\" if torch.cuda.is_available() else \"cpu\")\n",
        "EPOCHS = 40\n",
        "print(\"=== Info ===\")\n",
        "print(f\"Device : {DEVICE}\")\n",
        "print(f\"Epochs : {EPOCHS}\")\n",
        "print(\"============\")"
      ]
    },
    {
      "cell_type": "code",
      "execution_count": 83,
      "metadata": {},
      "outputs": [
        {
          "name": "stdout",
          "output_type": "stream",
          "text": [
            "data shape: torch.Size([64, 12]) , target shape: torch.Size([64, 2]) , output shape: torch.Size([64, 2])\n",
            "Train Epoch: 1 [0/21279 (0%)]\tLoss: 0.694175\n",
            "Train Epoch: 1 [6400/21279 (30%)]\tLoss: 0.694215\n",
            "Train Epoch: 1 [12800/21279 (60%)]\tLoss: 0.690895\n",
            "Train Epoch: 1 [19200/21279 (90%)]\tLoss: 0.693026\n",
            "Test set: Average loss: 0.0109, Accuracy: 5263/10641 (49%)\n",
            "data shape: torch.Size([64, 12]) , target shape: torch.Size([64, 2]) , output shape: torch.Size([64, 2])\n",
            "Train Epoch: 2 [0/21279 (0%)]\tLoss: 0.693401\n",
            "Train Epoch: 2 [6400/21279 (30%)]\tLoss: 0.691814\n",
            "Train Epoch: 2 [12800/21279 (60%)]\tLoss: 0.688825\n",
            "Train Epoch: 2 [19200/21279 (90%)]\tLoss: 0.690842\n",
            "Test set: Average loss: 0.0109, Accuracy: 5263/10641 (49%)\n",
            "data shape: torch.Size([64, 12]) , target shape: torch.Size([64, 2]) , output shape: torch.Size([64, 2])\n",
            "Train Epoch: 3 [0/21279 (0%)]\tLoss: 0.695797\n",
            "Train Epoch: 3 [6400/21279 (30%)]\tLoss: 0.697753\n",
            "Train Epoch: 3 [12800/21279 (60%)]\tLoss: 0.690856\n",
            "Train Epoch: 3 [19200/21279 (90%)]\tLoss: 0.690942\n",
            "Test set: Average loss: 0.0109, Accuracy: 5378/10641 (51%)\n",
            "data shape: torch.Size([64, 12]) , target shape: torch.Size([64, 2]) , output shape: torch.Size([64, 2])\n",
            "Train Epoch: 4 [0/21279 (0%)]\tLoss: 0.692434\n",
            "Train Epoch: 4 [6400/21279 (30%)]\tLoss: 0.696434\n",
            "Train Epoch: 4 [12800/21279 (60%)]\tLoss: 0.693734\n",
            "Train Epoch: 4 [19200/21279 (90%)]\tLoss: 0.691321\n",
            "Test set: Average loss: 0.0109, Accuracy: 5263/10641 (49%)\n",
            "data shape: torch.Size([64, 12]) , target shape: torch.Size([64, 2]) , output shape: torch.Size([64, 2])\n",
            "Train Epoch: 5 [0/21279 (0%)]\tLoss: 0.687902\n",
            "Train Epoch: 5 [6400/21279 (30%)]\tLoss: 0.690142\n",
            "Train Epoch: 5 [12800/21279 (60%)]\tLoss: 0.692440\n",
            "Train Epoch: 5 [19200/21279 (90%)]\tLoss: 0.692565\n",
            "Test set: Average loss: 0.0109, Accuracy: 5263/10641 (49%)\n",
            "data shape: torch.Size([64, 12]) , target shape: torch.Size([64, 2]) , output shape: torch.Size([64, 2])\n",
            "Train Epoch: 6 [0/21279 (0%)]\tLoss: 0.693985\n",
            "Train Epoch: 6 [6400/21279 (30%)]\tLoss: 0.689952\n",
            "Train Epoch: 6 [12800/21279 (60%)]\tLoss: 0.699879\n",
            "Train Epoch: 6 [19200/21279 (90%)]\tLoss: 0.691023\n",
            "Test set: Average loss: 0.0109, Accuracy: 5378/10641 (51%)\n",
            "data shape: torch.Size([64, 12]) , target shape: torch.Size([64, 2]) , output shape: torch.Size([64, 2])\n",
            "Train Epoch: 7 [0/21279 (0%)]\tLoss: 0.689788\n",
            "Train Epoch: 7 [6400/21279 (30%)]\tLoss: 0.693577\n",
            "Train Epoch: 7 [12800/21279 (60%)]\tLoss: 0.692886\n",
            "Train Epoch: 7 [19200/21279 (90%)]\tLoss: 0.691633\n",
            "Test set: Average loss: 0.0109, Accuracy: 5263/10641 (49%)\n",
            "data shape: torch.Size([64, 12]) , target shape: torch.Size([64, 2]) , output shape: torch.Size([64, 2])\n",
            "Train Epoch: 8 [0/21279 (0%)]\tLoss: 0.691710\n",
            "Train Epoch: 8 [6400/21279 (30%)]\tLoss: 0.682605\n",
            "Train Epoch: 8 [12800/21279 (60%)]\tLoss: 0.691039\n",
            "Train Epoch: 8 [19200/21279 (90%)]\tLoss: 0.681261\n",
            "Test set: Average loss: 0.0109, Accuracy: 5263/10641 (49%)\n",
            "data shape: torch.Size([64, 12]) , target shape: torch.Size([64, 2]) , output shape: torch.Size([64, 2])\n",
            "Train Epoch: 9 [0/21279 (0%)]\tLoss: 0.692611\n",
            "Train Epoch: 9 [6400/21279 (30%)]\tLoss: 0.695832\n",
            "Train Epoch: 9 [12800/21279 (60%)]\tLoss: 0.697410\n",
            "Train Epoch: 9 [19200/21279 (90%)]\tLoss: 0.671965\n",
            "Test set: Average loss: 0.0109, Accuracy: 5378/10641 (51%)\n",
            "data shape: torch.Size([64, 12]) , target shape: torch.Size([64, 2]) , output shape: torch.Size([64, 2])\n",
            "Train Epoch: 10 [0/21279 (0%)]\tLoss: 0.691457\n",
            "Train Epoch: 10 [6400/21279 (30%)]\tLoss: 0.694132\n",
            "Train Epoch: 10 [12800/21279 (60%)]\tLoss: 0.687994\n",
            "Train Epoch: 10 [19200/21279 (90%)]\tLoss: 0.691690\n",
            "Test set: Average loss: 0.0109, Accuracy: 5263/10641 (49%)\n",
            "data shape: torch.Size([64, 12]) , target shape: torch.Size([64, 2]) , output shape: torch.Size([64, 2])\n",
            "Train Epoch: 11 [0/21279 (0%)]\tLoss: 0.692981\n",
            "Train Epoch: 11 [6400/21279 (30%)]\tLoss: 0.692663\n",
            "Train Epoch: 11 [12800/21279 (60%)]\tLoss: 0.695973\n",
            "Train Epoch: 11 [19200/21279 (90%)]\tLoss: 0.692612\n",
            "Test set: Average loss: 0.0109, Accuracy: 5263/10641 (49%)\n",
            "data shape: torch.Size([64, 12]) , target shape: torch.Size([64, 2]) , output shape: torch.Size([64, 2])\n",
            "Train Epoch: 12 [0/21279 (0%)]\tLoss: 0.694353\n",
            "Train Epoch: 12 [6400/21279 (30%)]\tLoss: 0.690301\n",
            "Train Epoch: 12 [12800/21279 (60%)]\tLoss: 0.694061\n",
            "Train Epoch: 12 [19200/21279 (90%)]\tLoss: 0.692184\n",
            "Test set: Average loss: 0.0109, Accuracy: 5263/10641 (49%)\n",
            "data shape: torch.Size([64, 12]) , target shape: torch.Size([64, 2]) , output shape: torch.Size([64, 2])\n",
            "Train Epoch: 13 [0/21279 (0%)]\tLoss: 0.692566\n",
            "Train Epoch: 13 [6400/21279 (30%)]\tLoss: 0.708339\n",
            "Train Epoch: 13 [12800/21279 (60%)]\tLoss: 0.694375\n",
            "Train Epoch: 13 [19200/21279 (90%)]\tLoss: 0.695119\n",
            "Test set: Average loss: 0.0109, Accuracy: 5378/10641 (51%)\n",
            "data shape: torch.Size([64, 12]) , target shape: torch.Size([64, 2]) , output shape: torch.Size([64, 2])\n",
            "Train Epoch: 14 [0/21279 (0%)]\tLoss: 0.694087\n",
            "Train Epoch: 14 [6400/21279 (30%)]\tLoss: 0.695154\n",
            "Train Epoch: 14 [12800/21279 (60%)]\tLoss: 0.687922\n",
            "Train Epoch: 14 [19200/21279 (90%)]\tLoss: 0.690106\n",
            "Test set: Average loss: 0.0109, Accuracy: 5263/10641 (49%)\n",
            "data shape: torch.Size([64, 12]) , target shape: torch.Size([64, 2]) , output shape: torch.Size([64, 2])\n",
            "Train Epoch: 15 [0/21279 (0%)]\tLoss: 0.687951\n",
            "Train Epoch: 15 [6400/21279 (30%)]\tLoss: 0.695623\n",
            "Train Epoch: 15 [12800/21279 (60%)]\tLoss: 0.694138\n",
            "Train Epoch: 15 [19200/21279 (90%)]\tLoss: 0.691076\n",
            "Test set: Average loss: 0.0109, Accuracy: 5487/10641 (52%)\n",
            "data shape: torch.Size([64, 12]) , target shape: torch.Size([64, 2]) , output shape: torch.Size([64, 2])\n",
            "Train Epoch: 16 [0/21279 (0%)]\tLoss: 0.692035\n",
            "Train Epoch: 16 [6400/21279 (30%)]\tLoss: 0.692328\n",
            "Train Epoch: 16 [12800/21279 (60%)]\tLoss: 0.695220\n",
            "Train Epoch: 16 [19200/21279 (90%)]\tLoss: 0.696228\n",
            "Test set: Average loss: 0.0109, Accuracy: 5378/10641 (51%)\n",
            "data shape: torch.Size([64, 12]) , target shape: torch.Size([64, 2]) , output shape: torch.Size([64, 2])\n",
            "Train Epoch: 17 [0/21279 (0%)]\tLoss: 0.695092\n",
            "Train Epoch: 17 [6400/21279 (30%)]\tLoss: 0.696042\n",
            "Train Epoch: 17 [12800/21279 (60%)]\tLoss: 0.690872\n",
            "Train Epoch: 17 [19200/21279 (90%)]\tLoss: 0.688713\n",
            "Test set: Average loss: 0.0109, Accuracy: 5263/10641 (49%)\n",
            "data shape: torch.Size([64, 12]) , target shape: torch.Size([64, 2]) , output shape: torch.Size([64, 2])\n",
            "Train Epoch: 18 [0/21279 (0%)]\tLoss: 0.694383\n",
            "Train Epoch: 18 [6400/21279 (30%)]\tLoss: 0.690924\n",
            "Train Epoch: 18 [12800/21279 (60%)]\tLoss: 0.691975\n",
            "Train Epoch: 18 [19200/21279 (90%)]\tLoss: 0.692961\n",
            "Test set: Average loss: 0.0109, Accuracy: 5474/10641 (51%)\n",
            "data shape: torch.Size([64, 12]) , target shape: torch.Size([64, 2]) , output shape: torch.Size([64, 2])\n",
            "Train Epoch: 19 [0/21279 (0%)]\tLoss: 0.694148\n",
            "Train Epoch: 19 [6400/21279 (30%)]\tLoss: 0.691995\n",
            "Train Epoch: 19 [12800/21279 (60%)]\tLoss: 0.693930\n",
            "Train Epoch: 19 [19200/21279 (90%)]\tLoss: 0.687679\n",
            "Test set: Average loss: 0.0109, Accuracy: 5579/10641 (52%)\n",
            "data shape: torch.Size([64, 12]) , target shape: torch.Size([64, 2]) , output shape: torch.Size([64, 2])\n",
            "Train Epoch: 20 [0/21279 (0%)]\tLoss: 0.690075\n",
            "Train Epoch: 20 [6400/21279 (30%)]\tLoss: 0.690737\n",
            "Train Epoch: 20 [12800/21279 (60%)]\tLoss: 0.695789\n",
            "Train Epoch: 20 [19200/21279 (90%)]\tLoss: 0.695426\n",
            "Test set: Average loss: 0.0109, Accuracy: 5457/10641 (51%)\n",
            "data shape: torch.Size([64, 12]) , target shape: torch.Size([64, 2]) , output shape: torch.Size([64, 2])\n",
            "Train Epoch: 21 [0/21279 (0%)]\tLoss: 0.677406\n",
            "Train Epoch: 21 [6400/21279 (30%)]\tLoss: 0.687797\n",
            "Train Epoch: 21 [12800/21279 (60%)]\tLoss: 0.694781\n",
            "Train Epoch: 21 [19200/21279 (90%)]\tLoss: 0.687664\n",
            "Test set: Average loss: 0.0109, Accuracy: 5453/10641 (51%)\n",
            "data shape: torch.Size([64, 12]) , target shape: torch.Size([64, 2]) , output shape: torch.Size([64, 2])\n",
            "Train Epoch: 22 [0/21279 (0%)]\tLoss: 0.702845\n",
            "Train Epoch: 22 [6400/21279 (30%)]\tLoss: 0.689238\n",
            "Train Epoch: 22 [12800/21279 (60%)]\tLoss: 0.692275\n",
            "Train Epoch: 22 [19200/21279 (90%)]\tLoss: 0.699389\n",
            "Test set: Average loss: 0.0109, Accuracy: 5499/10641 (52%)\n",
            "data shape: torch.Size([64, 12]) , target shape: torch.Size([64, 2]) , output shape: torch.Size([64, 2])\n",
            "Train Epoch: 23 [0/21279 (0%)]\tLoss: 0.703217\n",
            "Train Epoch: 23 [6400/21279 (30%)]\tLoss: 0.699258\n",
            "Train Epoch: 23 [12800/21279 (60%)]\tLoss: 0.691777\n",
            "Train Epoch: 23 [19200/21279 (90%)]\tLoss: 0.683735\n",
            "Test set: Average loss: 0.0109, Accuracy: 5595/10641 (53%)\n",
            "data shape: torch.Size([64, 12]) , target shape: torch.Size([64, 2]) , output shape: torch.Size([64, 2])\n",
            "Train Epoch: 24 [0/21279 (0%)]\tLoss: 0.686959\n",
            "Train Epoch: 24 [6400/21279 (30%)]\tLoss: 0.691466\n",
            "Train Epoch: 24 [12800/21279 (60%)]\tLoss: 0.670010\n",
            "Train Epoch: 24 [19200/21279 (90%)]\tLoss: 0.697211\n",
            "Test set: Average loss: 0.0108, Accuracy: 5599/10641 (53%)\n",
            "data shape: torch.Size([64, 12]) , target shape: torch.Size([64, 2]) , output shape: torch.Size([64, 2])\n",
            "Train Epoch: 25 [0/21279 (0%)]\tLoss: 0.689955\n",
            "Train Epoch: 25 [6400/21279 (30%)]\tLoss: 0.678143\n",
            "Train Epoch: 25 [12800/21279 (60%)]\tLoss: 0.692218\n",
            "Train Epoch: 25 [19200/21279 (90%)]\tLoss: 0.681337\n",
            "Test set: Average loss: 0.0108, Accuracy: 5576/10641 (52%)\n",
            "data shape: torch.Size([64, 12]) , target shape: torch.Size([64, 2]) , output shape: torch.Size([64, 2])\n",
            "Train Epoch: 26 [0/21279 (0%)]\tLoss: 0.691809\n",
            "Train Epoch: 26 [6400/21279 (30%)]\tLoss: 0.695906\n",
            "Train Epoch: 26 [12800/21279 (60%)]\tLoss: 0.703415\n",
            "Train Epoch: 26 [19200/21279 (90%)]\tLoss: 0.697586\n",
            "Test set: Average loss: 0.0108, Accuracy: 5605/10641 (53%)\n",
            "data shape: torch.Size([64, 12]) , target shape: torch.Size([64, 2]) , output shape: torch.Size([64, 2])\n",
            "Train Epoch: 27 [0/21279 (0%)]\tLoss: 0.686838\n",
            "Train Epoch: 27 [6400/21279 (30%)]\tLoss: 0.675801\n",
            "Train Epoch: 27 [12800/21279 (60%)]\tLoss: 0.687510\n",
            "Train Epoch: 27 [19200/21279 (90%)]\tLoss: 0.687825\n",
            "Test set: Average loss: 0.0108, Accuracy: 5622/10641 (53%)\n",
            "data shape: torch.Size([64, 12]) , target shape: torch.Size([64, 2]) , output shape: torch.Size([64, 2])\n",
            "Train Epoch: 28 [0/21279 (0%)]\tLoss: 0.687608\n",
            "Train Epoch: 28 [6400/21279 (30%)]\tLoss: 0.703295\n",
            "Train Epoch: 28 [12800/21279 (60%)]\tLoss: 0.693067\n",
            "Train Epoch: 28 [19200/21279 (90%)]\tLoss: 0.696030\n",
            "Test set: Average loss: 0.0108, Accuracy: 5607/10641 (53%)\n",
            "data shape: torch.Size([64, 12]) , target shape: torch.Size([64, 2]) , output shape: torch.Size([64, 2])\n",
            "Train Epoch: 29 [0/21279 (0%)]\tLoss: 0.681572\n",
            "Train Epoch: 29 [6400/21279 (30%)]\tLoss: 0.685462\n",
            "Train Epoch: 29 [12800/21279 (60%)]\tLoss: 0.696955\n",
            "Train Epoch: 29 [19200/21279 (90%)]\tLoss: 0.692961\n",
            "Test set: Average loss: 0.0108, Accuracy: 5646/10641 (53%)\n",
            "data shape: torch.Size([64, 12]) , target shape: torch.Size([64, 2]) , output shape: torch.Size([64, 2])\n",
            "Train Epoch: 30 [0/21279 (0%)]\tLoss: 0.699994\n",
            "Train Epoch: 30 [6400/21279 (30%)]\tLoss: 0.699090\n",
            "Train Epoch: 30 [12800/21279 (60%)]\tLoss: 0.687573\n",
            "Train Epoch: 30 [19200/21279 (90%)]\tLoss: 0.692115\n",
            "Test set: Average loss: 0.0108, Accuracy: 5615/10641 (53%)\n",
            "data shape: torch.Size([64, 12]) , target shape: torch.Size([64, 2]) , output shape: torch.Size([64, 2])\n",
            "Train Epoch: 31 [0/21279 (0%)]\tLoss: 0.707899\n",
            "Train Epoch: 31 [6400/21279 (30%)]\tLoss: 0.679307\n",
            "Train Epoch: 31 [12800/21279 (60%)]\tLoss: 0.676840\n",
            "Train Epoch: 31 [19200/21279 (90%)]\tLoss: 0.692397\n",
            "Test set: Average loss: 0.0109, Accuracy: 5495/10641 (52%)\n",
            "data shape: torch.Size([64, 12]) , target shape: torch.Size([64, 2]) , output shape: torch.Size([64, 2])\n",
            "Train Epoch: 32 [0/21279 (0%)]\tLoss: 0.689075\n",
            "Train Epoch: 32 [6400/21279 (30%)]\tLoss: 0.695254\n",
            "Train Epoch: 32 [12800/21279 (60%)]\tLoss: 0.676883\n",
            "Train Epoch: 32 [19200/21279 (90%)]\tLoss: 0.696825\n",
            "Test set: Average loss: 0.0108, Accuracy: 5622/10641 (53%)\n",
            "data shape: torch.Size([64, 12]) , target shape: torch.Size([64, 2]) , output shape: torch.Size([64, 2])\n",
            "Train Epoch: 33 [0/21279 (0%)]\tLoss: 0.674005\n",
            "Train Epoch: 33 [6400/21279 (30%)]\tLoss: 0.686841\n",
            "Train Epoch: 33 [12800/21279 (60%)]\tLoss: 0.699469\n",
            "Train Epoch: 33 [19200/21279 (90%)]\tLoss: 0.684217\n",
            "Test set: Average loss: 0.0108, Accuracy: 5579/10641 (52%)\n",
            "data shape: torch.Size([64, 12]) , target shape: torch.Size([64, 2]) , output shape: torch.Size([64, 2])\n",
            "Train Epoch: 34 [0/21279 (0%)]\tLoss: 0.684882\n",
            "Train Epoch: 34 [6400/21279 (30%)]\tLoss: 0.686905\n",
            "Train Epoch: 34 [12800/21279 (60%)]\tLoss: 0.695328\n",
            "Train Epoch: 34 [19200/21279 (90%)]\tLoss: 0.678277\n",
            "Test set: Average loss: 0.0108, Accuracy: 5629/10641 (53%)\n",
            "data shape: torch.Size([64, 12]) , target shape: torch.Size([64, 2]) , output shape: torch.Size([64, 2])\n",
            "Train Epoch: 35 [0/21279 (0%)]\tLoss: 0.689142\n",
            "Train Epoch: 35 [6400/21279 (30%)]\tLoss: 0.693001\n",
            "Train Epoch: 35 [12800/21279 (60%)]\tLoss: 0.683223\n",
            "Train Epoch: 35 [19200/21279 (90%)]\tLoss: 0.701368\n",
            "Test set: Average loss: 0.0109, Accuracy: 5563/10641 (52%)\n",
            "data shape: torch.Size([64, 12]) , target shape: torch.Size([64, 2]) , output shape: torch.Size([64, 2])\n",
            "Train Epoch: 36 [0/21279 (0%)]\tLoss: 0.694288\n",
            "Train Epoch: 36 [6400/21279 (30%)]\tLoss: 0.693210\n",
            "Train Epoch: 36 [12800/21279 (60%)]\tLoss: 0.685694\n",
            "Train Epoch: 36 [19200/21279 (90%)]\tLoss: 0.680763\n",
            "Test set: Average loss: 0.0109, Accuracy: 5622/10641 (53%)\n",
            "data shape: torch.Size([64, 12]) , target shape: torch.Size([64, 2]) , output shape: torch.Size([64, 2])\n",
            "Train Epoch: 37 [0/21279 (0%)]\tLoss: 0.697429\n",
            "Train Epoch: 37 [6400/21279 (30%)]\tLoss: 0.695371\n",
            "Train Epoch: 37 [12800/21279 (60%)]\tLoss: 0.687596\n",
            "Train Epoch: 37 [19200/21279 (90%)]\tLoss: 0.701048\n",
            "Test set: Average loss: 0.0108, Accuracy: 5625/10641 (53%)\n",
            "data shape: torch.Size([64, 12]) , target shape: torch.Size([64, 2]) , output shape: torch.Size([64, 2])\n",
            "Train Epoch: 38 [0/21279 (0%)]\tLoss: 0.667043\n",
            "Train Epoch: 38 [6400/21279 (30%)]\tLoss: 0.696970\n",
            "Train Epoch: 38 [12800/21279 (60%)]\tLoss: 0.694146\n",
            "Train Epoch: 38 [19200/21279 (90%)]\tLoss: 0.688197\n",
            "Test set: Average loss: 0.0108, Accuracy: 5643/10641 (53%)\n",
            "data shape: torch.Size([64, 12]) , target shape: torch.Size([64, 2]) , output shape: torch.Size([64, 2])\n",
            "Train Epoch: 39 [0/21279 (0%)]\tLoss: 0.685655\n",
            "Train Epoch: 39 [6400/21279 (30%)]\tLoss: 0.692154\n",
            "Train Epoch: 39 [12800/21279 (60%)]\tLoss: 0.706778\n",
            "Train Epoch: 39 [19200/21279 (90%)]\tLoss: 0.699201\n",
            "Test set: Average loss: 0.0108, Accuracy: 5643/10641 (53%)\n",
            "data shape: torch.Size([64, 12]) , target shape: torch.Size([64, 2]) , output shape: torch.Size([64, 2])\n",
            "Train Epoch: 40 [0/21279 (0%)]\tLoss: 0.698368\n",
            "Train Epoch: 40 [6400/21279 (30%)]\tLoss: 0.687403\n",
            "Train Epoch: 40 [12800/21279 (60%)]\tLoss: 0.702675\n",
            "Train Epoch: 40 [19200/21279 (90%)]\tLoss: 0.679090\n",
            "Test set: Average loss: 0.0108, Accuracy: 5607/10641 (53%)\n"
          ]
        }
      ],
      "source": [
        "model = CCV1().to(DEVICE)\n",
        "optimizer = optim.SGD(model.parameters(), lr=0.05,momentum=0.5)\n",
        "criterion = F.cross_entropy\n",
        "\n",
        "train_loader = DataLoader(train_dataset, batch_size=64, shuffle=True, num_workers=0)\n",
        "test_loader = DataLoader(test_dataset, batch_size=64, shuffle=False, num_workers=0)\n",
        "\n",
        "test_acc_list = []\n",
        "test_loss_list = []\n",
        "\n",
        "for epoch in range(1, EPOCHS + 1):\n",
        "    train(model, train_loader, optimizer, criterion, epoch, DEVICE)\n",
        "    test_acc, test_loss = test(model, test_loader, criterion, DEVICE)\n",
        "    test_acc_list.append(test_acc)\n",
        "    test_loss_list.append(test_loss)"
      ]
    },
    {
      "cell_type": "code",
      "execution_count": 84,
      "metadata": {},
      "outputs": [
        {
          "data": {
            "image/png": "[encoded data removed]",
            "text/plain": [
              "<Figure size 640x480 with 1 Axes>"
            ]
          },
          "metadata": {},
          "output_type": "display_data"
        }
      ],
      "source": [
        "#plot acc\n",
        "from matplotlib import pyplot as plt\n",
        "plt.plot(test_acc_list,label='acc')\n",
        "plt.legend()\n",
        "plt.show()"
      ]
    },
    {
      "cell_type": "code",
      "execution_count": 85,
      "metadata": {},
      "outputs": [
        {
          "data": {
            "image/png": "[encoded data removed]",
            "text/plain": [
              "<Figure size 640x480 with 1 Axes>"
            ]
          },
          "metadata": {},
          "output_type": "display_data"
        }
      ],
      "source": [
        "#plot loss\n",
        "plt.plot(test_loss_list,label='loss')\n",
        "plt.legend()\n",
        "plt.show()"
      ]
    },
    {
      "cell_type": "code",
      "execution_count": 86,
      "metadata": {},
      "outputs": [
        {
          "name": "stdout",
          "output_type": "stream",
          "text": [
            "tensor([-0.2096,  0.0436], grad_fn=<AddBackward0>)\n",
            "tensor([0., 1.])\n"
          ]
        }
      ],
      "source": [
        "print(model(X_val[0].to(DEVICE)))\n",
        "print(y_val[0])"
      ]
    },
    {
      "cell_type": "code",
      "execution_count": 87,
      "metadata": {},
      "outputs": [
        {
          "data": {
            "text/plain": [
              "<AxesSubplot: >"
            ]
          },
          "execution_count": 87,
          "metadata": {},
          "output_type": "execute_result"
        },
        {
          "data": {
            "image/png": "[encoded data removed]",
            "text/plain": [
              "<Figure size 1000x700 with 2 Axes>"
            ]
          },
          "metadata": {},
          "output_type": "display_data"
        }
      ],
      "source": [
        "from sklearn.metrics import confusion_matrix\n",
        "import seaborn as sns\n",
        "\n",
        "y_pred = model(X_val.to(DEVICE)).argmax(dim=1, keepdim=True)\n",
        "y_true = y_val.argmax(1, keepdim=True).view_as(y_pred)\n",
        "cm = confusion_matrix(y_true.cpu(), y_pred.cpu())\n",
        "df_cm = pd.DataFrame(cm, index = [i for i in \"TF\"],\n",
        "                    columns = [i for i in \"TF\"])\n",
        "plt.figure(figsize = (10,7))\n",
        "sns.heatmap(df_cm, annot=True)"
      ]
    },
    {
      "cell_type": "code",
      "execution_count": 88,
      "metadata": {},
      "outputs": [
        {
          "name": "stdout",
          "output_type": "stream",
          "text": [
            " a_cnt : 2053 , b_cnt : 1493\n"
          ]
        }
      ],
      "source": [
        "a_cnt = 0\n",
        "b_cnt = 0\n",
        "for i in range(len(y_pred)):\n",
        "    if y_pred[i][0] == 1:\n",
        "        a_cnt += 1\n",
        "    else:\n",
        "        b_cnt += 1\n",
        "print(f\" a_cnt : {a_cnt} , b_cnt : {b_cnt}\")"
      ]
    },
    {
      "cell_type": "code",
      "execution_count": 89,
      "metadata": {},
      "outputs": [],
      "source": [
        "#save model\n",
        "torch.save(model.state_dict(), 'CCV1.pt')"
      ]
    },
    {
      "attachments": {},
      "cell_type": "markdown",
      "metadata": {},
      "source": [
        "# 猜測\n",
        "\n",
        "- 之前只能跑到51 ~ 49 是因為模型太大，但是資料太小，所以會發生指輸出都是一個類別的情況。 解決方法是把模型縮小，或是把資料增加。\n",
        "    - 模型條小 -> 10 層 -> 4 層 51~49 -> 52~51"
      ]
    },
    {
      "cell_type": "code",
      "execution_count": 49,
      "metadata": {},
      "outputs": [
        {
          "name": "stdout",
          "output_type": "stream",
          "text": [
            "data shape: torch.Size([64, 12]) , target shape: torch.Size([64, 2]) , output shape: torch.Size([64, 2])\n",
            "Train Epoch: 1 [0/21279 (0%)]\tLoss: 0.686946\n",
            "Train Epoch: 1 [6400/21279 (30%)]\tLoss: 0.688877\n",
            "Train Epoch: 1 [12800/21279 (60%)]\tLoss: 0.702374\n",
            "Train Epoch: 1 [19200/21279 (90%)]\tLoss: 0.694165\n",
            "Test set: Average loss: 0.0109, Accuracy: 5263/10641 (49%)\n",
            "data shape: torch.Size([64, 12]) , target shape: torch.Size([64, 2]) , output shape: torch.Size([64, 2])\n",
            "Train Epoch: 2 [0/21279 (0%)]\tLoss: 0.677262\n",
            "Train Epoch: 2 [6400/21279 (30%)]\tLoss: 0.687823\n",
            "Train Epoch: 2 [12800/21279 (60%)]\tLoss: 0.697502\n",
            "Train Epoch: 2 [19200/21279 (90%)]\tLoss: 0.688600\n",
            "Test set: Average loss: 0.0109, Accuracy: 5507/10641 (52%)\n",
            "data shape: torch.Size([64, 12]) , target shape: torch.Size([64, 2]) , output shape: torch.Size([64, 2])\n",
            "Train Epoch: 3 [0/21279 (0%)]\tLoss: 0.683641\n",
            "Train Epoch: 3 [6400/21279 (30%)]\tLoss: 0.694811\n",
            "Train Epoch: 3 [12800/21279 (60%)]\tLoss: 0.696690\n",
            "Train Epoch: 3 [19200/21279 (90%)]\tLoss: 0.697866\n",
            "Test set: Average loss: 0.0109, Accuracy: 5395/10641 (51%)\n",
            "data shape: torch.Size([64, 12]) , target shape: torch.Size([64, 2]) , output shape: torch.Size([64, 2])\n",
            "Train Epoch: 4 [0/21279 (0%)]\tLoss: 0.696032\n",
            "Train Epoch: 4 [6400/21279 (30%)]\tLoss: 0.689730\n",
            "Train Epoch: 4 [12800/21279 (60%)]\tLoss: 0.695243\n",
            "Train Epoch: 4 [19200/21279 (90%)]\tLoss: 0.689065\n",
            "Test set: Average loss: 0.0109, Accuracy: 5383/10641 (51%)\n",
            "data shape: torch.Size([64, 12]) , target shape: torch.Size([64, 2]) , output shape: torch.Size([64, 2])\n",
            "Train Epoch: 5 [0/21279 (0%)]\tLoss: 0.689489\n",
            "Train Epoch: 5 [6400/21279 (30%)]\tLoss: 0.695352\n",
            "Train Epoch: 5 [12800/21279 (60%)]\tLoss: 0.696941\n",
            "Train Epoch: 5 [19200/21279 (90%)]\tLoss: 0.693458\n",
            "Test set: Average loss: 0.0109, Accuracy: 5500/10641 (52%)\n",
            "data shape: torch.Size([64, 12]) , target shape: torch.Size([64, 2]) , output shape: torch.Size([64, 2])\n",
            "Train Epoch: 6 [0/21279 (0%)]\tLoss: 0.690364\n",
            "Train Epoch: 6 [6400/21279 (30%)]\tLoss: 0.685870\n",
            "Train Epoch: 6 [12800/21279 (60%)]\tLoss: 0.700301\n",
            "Train Epoch: 6 [19200/21279 (90%)]\tLoss: 0.693974\n",
            "Test set: Average loss: 0.0109, Accuracy: 5346/10641 (50%)\n",
            "data shape: torch.Size([64, 12]) , target shape: torch.Size([64, 2]) , output shape: torch.Size([64, 2])\n",
            "Train Epoch: 7 [0/21279 (0%)]\tLoss: 0.693809\n",
            "Train Epoch: 7 [6400/21279 (30%)]\tLoss: 0.695728\n",
            "Train Epoch: 7 [12800/21279 (60%)]\tLoss: 0.686815\n",
            "Train Epoch: 7 [19200/21279 (90%)]\tLoss: 0.693095\n",
            "Test set: Average loss: 0.0109, Accuracy: 5361/10641 (50%)\n",
            "data shape: torch.Size([64, 12]) , target shape: torch.Size([64, 2]) , output shape: torch.Size([64, 2])\n",
            "Train Epoch: 8 [0/21279 (0%)]\tLoss: 0.699400\n",
            "Train Epoch: 8 [6400/21279 (30%)]\tLoss: 0.694681\n",
            "Train Epoch: 8 [12800/21279 (60%)]\tLoss: 0.702224\n",
            "Train Epoch: 8 [19200/21279 (90%)]\tLoss: 0.682149\n",
            "Test set: Average loss: 0.0109, Accuracy: 5454/10641 (51%)\n",
            "data shape: torch.Size([64, 12]) , target shape: torch.Size([64, 2]) , output shape: torch.Size([64, 2])\n",
            "Train Epoch: 9 [0/21279 (0%)]\tLoss: 0.689718\n",
            "Train Epoch: 9 [6400/21279 (30%)]\tLoss: 0.694841\n",
            "Train Epoch: 9 [12800/21279 (60%)]\tLoss: 0.699545\n",
            "Train Epoch: 9 [19200/21279 (90%)]\tLoss: 0.687027\n",
            "Test set: Average loss: 0.0109, Accuracy: 5424/10641 (51%)\n",
            "data shape: torch.Size([64, 12]) , target shape: torch.Size([64, 2]) , output shape: torch.Size([64, 2])\n",
            "Train Epoch: 10 [0/21279 (0%)]\tLoss: 0.687372\n",
            "Train Epoch: 10 [6400/21279 (30%)]\tLoss: 0.692977\n",
            "Train Epoch: 10 [12800/21279 (60%)]\tLoss: 0.680464\n",
            "Train Epoch: 10 [19200/21279 (90%)]\tLoss: 0.700569\n",
            "Test set: Average loss: 0.0109, Accuracy: 5542/10641 (52%)\n",
            "data shape: torch.Size([64, 12]) , target shape: torch.Size([64, 2]) , output shape: torch.Size([64, 2])\n",
            "Train Epoch: 11 [0/21279 (0%)]\tLoss: 0.692367\n",
            "Train Epoch: 11 [6400/21279 (30%)]\tLoss: 0.689789\n",
            "Train Epoch: 11 [12800/21279 (60%)]\tLoss: 0.683362\n",
            "Train Epoch: 11 [19200/21279 (90%)]\tLoss: 0.693522\n",
            "Test set: Average loss: 0.0109, Accuracy: 5525/10641 (52%)\n",
            "data shape: torch.Size([64, 12]) , target shape: torch.Size([64, 2]) , output shape: torch.Size([64, 2])\n",
            "Train Epoch: 12 [0/21279 (0%)]\tLoss: 0.693313\n",
            "Train Epoch: 12 [6400/21279 (30%)]\tLoss: 0.698933\n",
            "Train Epoch: 12 [12800/21279 (60%)]\tLoss: 0.671974\n",
            "Train Epoch: 12 [19200/21279 (90%)]\tLoss: 0.699945\n",
            "Test set: Average loss: 0.0109, Accuracy: 5538/10641 (52%)\n",
            "data shape: torch.Size([64, 12]) , target shape: torch.Size([64, 2]) , output shape: torch.Size([64, 2])\n",
            "Train Epoch: 13 [0/21279 (0%)]\tLoss: 0.684686\n",
            "Train Epoch: 13 [6400/21279 (30%)]\tLoss: 0.680361\n",
            "Train Epoch: 13 [12800/21279 (60%)]\tLoss: 0.678690\n",
            "Train Epoch: 13 [19200/21279 (90%)]\tLoss: 0.703825\n",
            "Test set: Average loss: 0.0109, Accuracy: 5554/10641 (52%)\n",
            "data shape: torch.Size([64, 12]) , target shape: torch.Size([64, 2]) , output shape: torch.Size([64, 2])\n",
            "Train Epoch: 14 [0/21279 (0%)]\tLoss: 0.693226\n",
            "Train Epoch: 14 [6400/21279 (30%)]\tLoss: 0.696445\n",
            "Train Epoch: 14 [12800/21279 (60%)]\tLoss: 0.691744\n",
            "Train Epoch: 14 [19200/21279 (90%)]\tLoss: 0.696180\n",
            "Test set: Average loss: 0.0108, Accuracy: 5575/10641 (52%)\n",
            "data shape: torch.Size([64, 12]) , target shape: torch.Size([64, 2]) , output shape: torch.Size([64, 2])\n",
            "Train Epoch: 15 [0/21279 (0%)]\tLoss: 0.694183\n",
            "Train Epoch: 15 [6400/21279 (30%)]\tLoss: 0.686059\n",
            "Train Epoch: 15 [12800/21279 (60%)]\tLoss: 0.693658\n",
            "Train Epoch: 15 [19200/21279 (90%)]\tLoss: 0.691734\n",
            "Test set: Average loss: 0.0108, Accuracy: 5569/10641 (52%)\n",
            "data shape: torch.Size([64, 12]) , target shape: torch.Size([64, 2]) , output shape: torch.Size([64, 2])\n",
            "Train Epoch: 16 [0/21279 (0%)]\tLoss: 0.686100\n",
            "Train Epoch: 16 [6400/21279 (30%)]\tLoss: 0.679033\n",
            "Train Epoch: 16 [12800/21279 (60%)]\tLoss: 0.706803\n",
            "Train Epoch: 16 [19200/21279 (90%)]\tLoss: 0.690278\n",
            "Test set: Average loss: 0.0108, Accuracy: 5593/10641 (53%)\n",
            "data shape: torch.Size([64, 12]) , target shape: torch.Size([64, 2]) , output shape: torch.Size([64, 2])\n",
            "Train Epoch: 17 [0/21279 (0%)]\tLoss: 0.693303\n",
            "Train Epoch: 17 [6400/21279 (30%)]\tLoss: 0.702418\n",
            "Train Epoch: 17 [12800/21279 (60%)]\tLoss: 0.694450\n",
            "Train Epoch: 17 [19200/21279 (90%)]\tLoss: 0.691654\n",
            "Test set: Average loss: 0.0110, Accuracy: 5323/10641 (50%)\n",
            "data shape: torch.Size([64, 12]) , target shape: torch.Size([64, 2]) , output shape: torch.Size([64, 2])\n",
            "Train Epoch: 18 [0/21279 (0%)]\tLoss: 0.689932\n",
            "Train Epoch: 18 [6400/21279 (30%)]\tLoss: 0.691294\n",
            "Train Epoch: 18 [12800/21279 (60%)]\tLoss: 0.666763\n",
            "Train Epoch: 18 [19200/21279 (90%)]\tLoss: 0.691718\n",
            "Test set: Average loss: 0.0108, Accuracy: 5561/10641 (52%)\n",
            "data shape: torch.Size([64, 12]) , target shape: torch.Size([64, 2]) , output shape: torch.Size([64, 2])\n",
            "Train Epoch: 19 [0/21279 (0%)]\tLoss: 0.693551\n",
            "Train Epoch: 19 [6400/21279 (30%)]\tLoss: 0.680509\n",
            "Train Epoch: 19 [12800/21279 (60%)]\tLoss: 0.689075\n",
            "Train Epoch: 19 [19200/21279 (90%)]\tLoss: 0.702651\n",
            "Test set: Average loss: 0.0109, Accuracy: 5511/10641 (52%)\n",
            "data shape: torch.Size([64, 12]) , target shape: torch.Size([64, 2]) , output shape: torch.Size([64, 2])\n",
            "Train Epoch: 20 [0/21279 (0%)]\tLoss: 0.693003\n",
            "Train Epoch: 20 [6400/21279 (30%)]\tLoss: 0.684878\n",
            "Train Epoch: 20 [12800/21279 (60%)]\tLoss: 0.683224\n",
            "Train Epoch: 20 [19200/21279 (90%)]\tLoss: 0.695758\n",
            "Test set: Average loss: 0.0109, Accuracy: 5539/10641 (52%)\n",
            "data shape: torch.Size([64, 12]) , target shape: torch.Size([64, 2]) , output shape: torch.Size([64, 2])\n",
            "Train Epoch: 21 [0/21279 (0%)]\tLoss: 0.687799\n",
            "Train Epoch: 21 [6400/21279 (30%)]\tLoss: 0.691974\n",
            "Train Epoch: 21 [12800/21279 (60%)]\tLoss: 0.692555\n",
            "Train Epoch: 21 [19200/21279 (90%)]\tLoss: 0.693409\n",
            "Test set: Average loss: 0.0109, Accuracy: 5543/10641 (52%)\n",
            "data shape: torch.Size([64, 12]) , target shape: torch.Size([64, 2]) , output shape: torch.Size([64, 2])\n",
            "Train Epoch: 22 [0/21279 (0%)]\tLoss: 0.699345\n",
            "Train Epoch: 22 [6400/21279 (30%)]\tLoss: 0.698636\n",
            "Train Epoch: 22 [12800/21279 (60%)]\tLoss: 0.694432\n",
            "Train Epoch: 22 [19200/21279 (90%)]\tLoss: 0.688986\n",
            "Test set: Average loss: 0.0108, Accuracy: 5601/10641 (53%)\n",
            "data shape: torch.Size([64, 12]) , target shape: torch.Size([64, 2]) , output shape: torch.Size([64, 2])\n",
            "Train Epoch: 23 [0/21279 (0%)]\tLoss: 0.671681\n",
            "Train Epoch: 23 [6400/21279 (30%)]\tLoss: 0.686496\n",
            "Train Epoch: 23 [12800/21279 (60%)]\tLoss: 0.688713\n",
            "Train Epoch: 23 [19200/21279 (90%)]\tLoss: 0.670320\n",
            "Test set: Average loss: 0.0109, Accuracy: 5494/10641 (52%)\n",
            "data shape: torch.Size([64, 12]) , target shape: torch.Size([64, 2]) , output shape: torch.Size([64, 2])\n",
            "Train Epoch: 24 [0/21279 (0%)]\tLoss: 0.684555\n",
            "Train Epoch: 24 [6400/21279 (30%)]\tLoss: 0.676972\n",
            "Train Epoch: 24 [12800/21279 (60%)]\tLoss: 0.700698\n",
            "Train Epoch: 24 [19200/21279 (90%)]\tLoss: 0.696738\n",
            "Test set: Average loss: 0.0108, Accuracy: 5607/10641 (53%)\n",
            "data shape: torch.Size([64, 12]) , target shape: torch.Size([64, 2]) , output shape: torch.Size([64, 2])\n",
            "Train Epoch: 25 [0/21279 (0%)]\tLoss: 0.692303\n",
            "Train Epoch: 25 [6400/21279 (30%)]\tLoss: 0.678489\n",
            "Train Epoch: 25 [12800/21279 (60%)]\tLoss: 0.672163\n",
            "Train Epoch: 25 [19200/21279 (90%)]\tLoss: 0.687211\n",
            "Test set: Average loss: 0.0108, Accuracy: 5628/10641 (53%)\n",
            "data shape: torch.Size([64, 12]) , target shape: torch.Size([64, 2]) , output shape: torch.Size([64, 2])\n",
            "Train Epoch: 26 [0/21279 (0%)]\tLoss: 0.693529\n",
            "Train Epoch: 26 [6400/21279 (30%)]\tLoss: 0.677879\n",
            "Train Epoch: 26 [12800/21279 (60%)]\tLoss: 0.693712\n",
            "Train Epoch: 26 [19200/21279 (90%)]\tLoss: 0.695325\n",
            "Test set: Average loss: 0.0108, Accuracy: 5581/10641 (52%)\n",
            "data shape: torch.Size([64, 12]) , target shape: torch.Size([64, 2]) , output shape: torch.Size([64, 2])\n",
            "Train Epoch: 27 [0/21279 (0%)]\tLoss: 0.687712\n",
            "Train Epoch: 27 [6400/21279 (30%)]\tLoss: 0.692647\n",
            "Train Epoch: 27 [12800/21279 (60%)]\tLoss: 0.686129\n",
            "Train Epoch: 27 [19200/21279 (90%)]\tLoss: 0.682633\n",
            "Test set: Average loss: 0.0109, Accuracy: 5476/10641 (51%)\n",
            "data shape: torch.Size([64, 12]) , target shape: torch.Size([64, 2]) , output shape: torch.Size([64, 2])\n",
            "Train Epoch: 28 [0/21279 (0%)]\tLoss: 0.692721\n",
            "Train Epoch: 28 [6400/21279 (30%)]\tLoss: 0.689904\n",
            "Train Epoch: 28 [12800/21279 (60%)]\tLoss: 0.693389\n",
            "Train Epoch: 28 [19200/21279 (90%)]\tLoss: 0.698494\n",
            "Test set: Average loss: 0.0109, Accuracy: 5505/10641 (52%)\n",
            "data shape: torch.Size([64, 12]) , target shape: torch.Size([64, 2]) , output shape: torch.Size([64, 2])\n",
            "Train Epoch: 29 [0/21279 (0%)]\tLoss: 0.685846\n",
            "Train Epoch: 29 [6400/21279 (30%)]\tLoss: 0.706799\n",
            "Train Epoch: 29 [12800/21279 (60%)]\tLoss: 0.697454\n",
            "Train Epoch: 29 [19200/21279 (90%)]\tLoss: 0.700314\n",
            "Test set: Average loss: 0.0108, Accuracy: 5612/10641 (53%)\n",
            "data shape: torch.Size([64, 12]) , target shape: torch.Size([64, 2]) , output shape: torch.Size([64, 2])\n",
            "Train Epoch: 30 [0/21279 (0%)]\tLoss: 0.688097\n",
            "Train Epoch: 30 [6400/21279 (30%)]\tLoss: 0.696690\n",
            "Train Epoch: 30 [12800/21279 (60%)]\tLoss: 0.690354\n",
            "Train Epoch: 30 [19200/21279 (90%)]\tLoss: 0.702077\n",
            "Test set: Average loss: 0.0109, Accuracy: 5594/10641 (53%)\n",
            "data shape: torch.Size([64, 12]) , target shape: torch.Size([64, 2]) , output shape: torch.Size([64, 2])\n",
            "Train Epoch: 31 [0/21279 (0%)]\tLoss: 0.706244\n",
            "Train Epoch: 31 [6400/21279 (30%)]\tLoss: 0.691571\n",
            "Train Epoch: 31 [12800/21279 (60%)]\tLoss: 0.702055\n",
            "Train Epoch: 31 [19200/21279 (90%)]\tLoss: 0.679650\n",
            "Test set: Average loss: 0.0108, Accuracy: 5636/10641 (53%)\n",
            "data shape: torch.Size([64, 12]) , target shape: torch.Size([64, 2]) , output shape: torch.Size([64, 2])\n",
            "Train Epoch: 32 [0/21279 (0%)]\tLoss: 0.680266\n",
            "Train Epoch: 32 [6400/21279 (30%)]\tLoss: 0.702443\n",
            "Train Epoch: 32 [12800/21279 (60%)]\tLoss: 0.690828\n",
            "Train Epoch: 32 [19200/21279 (90%)]\tLoss: 0.685213\n",
            "Test set: Average loss: 0.0109, Accuracy: 5523/10641 (52%)\n",
            "data shape: torch.Size([64, 12]) , target shape: torch.Size([64, 2]) , output shape: torch.Size([64, 2])\n",
            "Train Epoch: 33 [0/21279 (0%)]\tLoss: 0.692738\n",
            "Train Epoch: 33 [6400/21279 (30%)]\tLoss: 0.688392\n",
            "Train Epoch: 33 [12800/21279 (60%)]\tLoss: 0.667167\n",
            "Train Epoch: 33 [19200/21279 (90%)]\tLoss: 0.682054\n",
            "Test set: Average loss: 0.0108, Accuracy: 5623/10641 (53%)\n",
            "data shape: torch.Size([64, 12]) , target shape: torch.Size([64, 2]) , output shape: torch.Size([64, 2])\n",
            "Train Epoch: 34 [0/21279 (0%)]\tLoss: 0.703390\n",
            "Train Epoch: 34 [6400/21279 (30%)]\tLoss: 0.687692\n",
            "Train Epoch: 34 [12800/21279 (60%)]\tLoss: 0.684463\n",
            "Train Epoch: 34 [19200/21279 (90%)]\tLoss: 0.673664\n",
            "Test set: Average loss: 0.0108, Accuracy: 5622/10641 (53%)\n",
            "data shape: torch.Size([64, 12]) , target shape: torch.Size([64, 2]) , output shape: torch.Size([64, 2])\n",
            "Train Epoch: 35 [0/21279 (0%)]\tLoss: 0.691624\n",
            "Train Epoch: 35 [6400/21279 (30%)]\tLoss: 0.691850\n",
            "Train Epoch: 35 [12800/21279 (60%)]\tLoss: 0.688484\n",
            "Train Epoch: 35 [19200/21279 (90%)]\tLoss: 0.687519\n",
            "Test set: Average loss: 0.0109, Accuracy: 5592/10641 (53%)\n",
            "data shape: torch.Size([64, 12]) , target shape: torch.Size([64, 2]) , output shape: torch.Size([64, 2])\n",
            "Train Epoch: 36 [0/21279 (0%)]\tLoss: 0.697653\n",
            "Train Epoch: 36 [6400/21279 (30%)]\tLoss: 0.683053\n",
            "Train Epoch: 36 [12800/21279 (60%)]\tLoss: 0.675064\n",
            "Train Epoch: 36 [19200/21279 (90%)]\tLoss: 0.686141\n",
            "Test set: Average loss: 0.0108, Accuracy: 5635/10641 (53%)\n",
            "data shape: torch.Size([64, 12]) , target shape: torch.Size([64, 2]) , output shape: torch.Size([64, 2])\n",
            "Train Epoch: 37 [0/21279 (0%)]\tLoss: 0.693588\n",
            "Train Epoch: 37 [6400/21279 (30%)]\tLoss: 0.691045\n",
            "Train Epoch: 37 [12800/21279 (60%)]\tLoss: 0.671937\n",
            "Train Epoch: 37 [19200/21279 (90%)]\tLoss: 0.697896\n",
            "Test set: Average loss: 0.0109, Accuracy: 5629/10641 (53%)\n",
            "data shape: torch.Size([64, 12]) , target shape: torch.Size([64, 2]) , output shape: torch.Size([64, 2])\n",
            "Train Epoch: 38 [0/21279 (0%)]\tLoss: 0.694695\n",
            "Train Epoch: 38 [6400/21279 (30%)]\tLoss: 0.687019\n",
            "Train Epoch: 38 [12800/21279 (60%)]\tLoss: 0.699033\n",
            "Train Epoch: 38 [19200/21279 (90%)]\tLoss: 0.685259\n",
            "Test set: Average loss: 0.0108, Accuracy: 5667/10641 (53%)\n",
            "data shape: torch.Size([64, 12]) , target shape: torch.Size([64, 2]) , output shape: torch.Size([64, 2])\n",
            "Train Epoch: 39 [0/21279 (0%)]\tLoss: 0.687991\n",
            "Train Epoch: 39 [6400/21279 (30%)]\tLoss: 0.706142\n",
            "Train Epoch: 39 [12800/21279 (60%)]\tLoss: 0.669025\n",
            "Train Epoch: 39 [19200/21279 (90%)]\tLoss: 0.695303\n",
            "Test set: Average loss: 0.0109, Accuracy: 5646/10641 (53%)\n",
            "data shape: torch.Size([64, 12]) , target shape: torch.Size([64, 2]) , output shape: torch.Size([64, 2])\n",
            "Train Epoch: 40 [0/21279 (0%)]\tLoss: 0.660849\n",
            "Train Epoch: 40 [6400/21279 (30%)]\tLoss: 0.684121\n",
            "Train Epoch: 40 [12800/21279 (60%)]\tLoss: 0.691908\n",
            "Train Epoch: 40 [19200/21279 (90%)]\tLoss: 0.689230\n",
            "Test set: Average loss: 0.0108, Accuracy: 5618/10641 (53%)\n"
          ]
        }
      ],
      "source": [
        "\n",
        "model3 = CCV3().to(DEVICE)\n",
        "optimizer = optim.SGD(model3.parameters(), lr=0.05,momentum=0.5)\n",
        "criterion = F.cross_entropy\n",
        "\n",
        "train_loader = DataLoader(train_dataset, batch_size=64, shuffle=True, num_workers=0)\n",
        "test_loader = DataLoader(test_dataset, batch_size=64, shuffle=False, num_workers=0)\n",
        "\n",
        "test_acc_list = []\n",
        "test_loss_list = []\n",
        "\n",
        "for epoch in range(1, EPOCHS + 1):\n",
        "    train(model3, train_loader, optimizer, criterion, epoch, DEVICE)\n",
        "    test_acc, test_loss = test(model3, test_loader, criterion, DEVICE)\n",
        "    test_acc_list.append(test_acc)\n",
        "    test_loss_list.append(test_loss)"
      ]
    },
    {
      "cell_type": "code",
      "execution_count": 50,
      "metadata": {},
      "outputs": [
        {
          "data": {
            "image/png": "[encoded data removed]",
            "text/plain": [
              "<Figure size 640x480 with 1 Axes>"
            ]
          },
          "metadata": {},
          "output_type": "display_data"
        }
      ],
      "source": [
        "#plot acc\n",
        "from matplotlib import pyplot as plt\n",
        "plt.plot(test_acc_list,label='acc')\n",
        "plt.legend()\n",
        "plt.show()"
      ]
    },
    {
      "cell_type": "code",
      "execution_count": 51,
      "metadata": {},
      "outputs": [
        {
          "data": {
            "image/png": "[encoded data removed]",
            "text/plain": [
              "<Figure size 640x480 with 1 Axes>"
            ]
          },
          "metadata": {},
          "output_type": "display_data"
        }
      ],
      "source": [
        "#plot loss\n",
        "plt.plot(test_loss_list,label='loss')\n",
        "plt.legend()\n",
        "plt.show()"
      ]
    },
    {
      "cell_type": "code",
      "execution_count": 52,
      "metadata": {},
      "outputs": [
        {
          "data": {
            "text/plain": [
              "<AxesSubplot: >"
            ]
          },
          "execution_count": 52,
          "metadata": {},
          "output_type": "execute_result"
        },
        {
          "data": {
            "image/png": "[encoded data removed]",
            "text/plain": [
              "<Figure size 1000x700 with 2 Axes>"
            ]
          },
          "metadata": {},
          "output_type": "display_data"
        }
      ],
      "source": [
        "#confusion matrix\n",
        "#TT TF\n",
        "#FT FF\n",
        "from sklearn.metrics import confusion_matrix\n",
        "import seaborn as sns\n",
        "\n",
        "y_pred = model3(X_val.to(DEVICE)).argmax(dim=1, keepdim=True)\n",
        "y_true = y_val.argmax(1, keepdim=True).view_as(y_pred)\n",
        "cm = confusion_matrix(y_true.cpu(), y_pred.cpu())\n",
        "df_cm = pd.DataFrame(cm, index = [i for i in \"TF\"],\n",
        "                    columns = [i for i in \"TF\"])\n",
        "plt.figure(figsize = (10,7))\n",
        "sns.heatmap(df_cm, annot=True)"
      ]
    },
    {
      "cell_type": "code",
      "execution_count": 53,
      "metadata": {},
      "outputs": [
        {
          "name": "stdout",
          "output_type": "stream",
          "text": [
            " UP : 1673 , DOWN : 1873\n"
          ]
        }
      ],
      "source": [
        "a_cnt = 0\n",
        "b_cnt = 0\n",
        "for i in range(len(y_pred)):\n",
        "    if y_pred[i][0] == 1:\n",
        "        a_cnt += 1\n",
        "    else:\n",
        "        b_cnt += 1\n",
        "print(f\" UP : {a_cnt} , DOWN : {b_cnt}\")"
      ]
    },
    {
      "cell_type": "code",
      "execution_count": 55,
      "metadata": {},
      "outputs": [],
      "source": [
        "#save model\n",
        "torch.save(model3.state_dict(), 'CCV3.pt')"
      ]
    },
    {
      "cell_type": "code",
      "execution_count": 79,
      "metadata": {},
      "outputs": [
        {
          "name": "stdout",
          "output_type": "stream",
          "text": [
            "data shape: torch.Size([64, 12]) , target shape: torch.Size([64, 2]) , output shape: torch.Size([64, 2])\n",
            "Train Epoch: 1 [0/21279 (0%)]\tLoss: 0.692774\n",
            "Train Epoch: 1 [6400/21279 (30%)]\tLoss: 0.692683\n",
            "Train Epoch: 1 [12800/21279 (60%)]\tLoss: 0.690307\n",
            "Train Epoch: 1 [19200/21279 (90%)]\tLoss: 0.686930\n",
            "Test set: Average loss: 0.0109, Accuracy: 5263/10641 (49%)\n",
            "data shape: torch.Size([64, 12]) , target shape: torch.Size([64, 2]) , output shape: torch.Size([64, 2])\n",
            "Train Epoch: 2 [0/21279 (0%)]\tLoss: 0.693157\n",
            "Train Epoch: 2 [6400/21279 (30%)]\tLoss: 0.694501\n",
            "Train Epoch: 2 [12800/21279 (60%)]\tLoss: 0.695806\n",
            "Train Epoch: 2 [19200/21279 (90%)]\tLoss: 0.692798\n",
            "Test set: Average loss: 0.0109, Accuracy: 5263/10641 (49%)\n",
            "data shape: torch.Size([64, 12]) , target shape: torch.Size([64, 2]) , output shape: torch.Size([64, 2])\n",
            "Train Epoch: 3 [0/21279 (0%)]\tLoss: 0.686712\n",
            "Train Epoch: 3 [6400/21279 (30%)]\tLoss: 0.695675\n",
            "Train Epoch: 3 [12800/21279 (60%)]\tLoss: 0.693273\n",
            "Train Epoch: 3 [19200/21279 (90%)]\tLoss: 0.693062\n",
            "Test set: Average loss: 0.0109, Accuracy: 5378/10641 (51%)\n",
            "data shape: torch.Size([64, 12]) , target shape: torch.Size([64, 2]) , output shape: torch.Size([64, 2])\n",
            "Train Epoch: 4 [0/21279 (0%)]\tLoss: 0.693732\n",
            "Train Epoch: 4 [6400/21279 (30%)]\tLoss: 0.692505\n",
            "Train Epoch: 4 [12800/21279 (60%)]\tLoss: 0.694012\n",
            "Train Epoch: 4 [19200/21279 (90%)]\tLoss: 0.693022\n",
            "Test set: Average loss: 0.0109, Accuracy: 5378/10641 (51%)\n",
            "data shape: torch.Size([64, 12]) , target shape: torch.Size([64, 2]) , output shape: torch.Size([64, 2])\n",
            "Train Epoch: 5 [0/21279 (0%)]\tLoss: 0.695682\n",
            "Train Epoch: 5 [6400/21279 (30%)]\tLoss: 0.692725\n",
            "Train Epoch: 5 [12800/21279 (60%)]\tLoss: 0.690033\n",
            "Train Epoch: 5 [19200/21279 (90%)]\tLoss: 0.685221\n",
            "Test set: Average loss: 0.0109, Accuracy: 5263/10641 (49%)\n",
            "data shape: torch.Size([64, 12]) , target shape: torch.Size([64, 2]) , output shape: torch.Size([64, 2])\n",
            "Train Epoch: 6 [0/21279 (0%)]\tLoss: 0.695805\n",
            "Train Epoch: 6 [6400/21279 (30%)]\tLoss: 0.693259\n",
            "Train Epoch: 6 [12800/21279 (60%)]\tLoss: 0.692158\n",
            "Train Epoch: 6 [19200/21279 (90%)]\tLoss: 0.697829\n",
            "Test set: Average loss: 0.0109, Accuracy: 5263/10641 (49%)\n",
            "data shape: torch.Size([64, 12]) , target shape: torch.Size([64, 2]) , output shape: torch.Size([64, 2])\n",
            "Train Epoch: 7 [0/21279 (0%)]\tLoss: 0.694174\n",
            "Train Epoch: 7 [6400/21279 (30%)]\tLoss: 0.691329\n",
            "Train Epoch: 7 [12800/21279 (60%)]\tLoss: 0.691305\n",
            "Train Epoch: 7 [19200/21279 (90%)]\tLoss: 0.680905\n",
            "Test set: Average loss: 0.0109, Accuracy: 5378/10641 (51%)\n",
            "data shape: torch.Size([64, 12]) , target shape: torch.Size([64, 2]) , output shape: torch.Size([64, 2])\n",
            "Train Epoch: 8 [0/21279 (0%)]\tLoss: 0.695247\n",
            "Train Epoch: 8 [6400/21279 (30%)]\tLoss: 0.693744\n",
            "Train Epoch: 8 [12800/21279 (60%)]\tLoss: 0.691464\n",
            "Train Epoch: 8 [19200/21279 (90%)]\tLoss: 0.694066\n",
            "Test set: Average loss: 0.0109, Accuracy: 5263/10641 (49%)\n",
            "data shape: torch.Size([64, 12]) , target shape: torch.Size([64, 2]) , output shape: torch.Size([64, 2])\n",
            "Train Epoch: 9 [0/21279 (0%)]\tLoss: 0.698656\n",
            "Train Epoch: 9 [6400/21279 (30%)]\tLoss: 0.693330\n",
            "Train Epoch: 9 [12800/21279 (60%)]\tLoss: 0.691192\n",
            "Train Epoch: 9 [19200/21279 (90%)]\tLoss: 0.692402\n",
            "Test set: Average loss: 0.0109, Accuracy: 5263/10641 (49%)\n",
            "data shape: torch.Size([64, 12]) , target shape: torch.Size([64, 2]) , output shape: torch.Size([64, 2])\n",
            "Train Epoch: 10 [0/21279 (0%)]\tLoss: 0.688589\n",
            "Train Epoch: 10 [6400/21279 (30%)]\tLoss: 0.691433\n",
            "Train Epoch: 10 [12800/21279 (60%)]\tLoss: 0.694966\n",
            "Train Epoch: 10 [19200/21279 (90%)]\tLoss: 0.699156\n",
            "Test set: Average loss: 0.0109, Accuracy: 5378/10641 (51%)\n",
            "data shape: torch.Size([64, 12]) , target shape: torch.Size([64, 2]) , output shape: torch.Size([64, 2])\n",
            "Train Epoch: 11 [0/21279 (0%)]\tLoss: 0.693358\n",
            "Train Epoch: 11 [6400/21279 (30%)]\tLoss: 0.693598\n",
            "Train Epoch: 11 [12800/21279 (60%)]\tLoss: 0.695379\n",
            "Train Epoch: 11 [19200/21279 (90%)]\tLoss: 0.699657\n",
            "Test set: Average loss: 0.0109, Accuracy: 5263/10641 (49%)\n",
            "data shape: torch.Size([64, 12]) , target shape: torch.Size([64, 2]) , output shape: torch.Size([64, 2])\n",
            "Train Epoch: 12 [0/21279 (0%)]\tLoss: 0.695055\n",
            "Train Epoch: 12 [6400/21279 (30%)]\tLoss: 0.696225\n",
            "Train Epoch: 12 [12800/21279 (60%)]\tLoss: 0.691773\n",
            "Train Epoch: 12 [19200/21279 (90%)]\tLoss: 0.693935\n",
            "Test set: Average loss: 0.0109, Accuracy: 5378/10641 (51%)\n",
            "data shape: torch.Size([64, 12]) , target shape: torch.Size([64, 2]) , output shape: torch.Size([64, 2])\n",
            "Train Epoch: 13 [0/21279 (0%)]\tLoss: 0.691966\n",
            "Train Epoch: 13 [6400/21279 (30%)]\tLoss: 0.697272\n",
            "Train Epoch: 13 [12800/21279 (60%)]\tLoss: 0.693876\n",
            "Train Epoch: 13 [19200/21279 (90%)]\tLoss: 0.688574\n",
            "Test set: Average loss: 0.0109, Accuracy: 5378/10641 (51%)\n",
            "data shape: torch.Size([64, 12]) , target shape: torch.Size([64, 2]) , output shape: torch.Size([64, 2])\n",
            "Train Epoch: 14 [0/21279 (0%)]\tLoss: 0.692947\n",
            "Train Epoch: 14 [6400/21279 (30%)]\tLoss: 0.694172\n",
            "Train Epoch: 14 [12800/21279 (60%)]\tLoss: 0.690423\n",
            "Train Epoch: 14 [19200/21279 (90%)]\tLoss: 0.692163\n",
            "Test set: Average loss: 0.0109, Accuracy: 5263/10641 (49%)\n",
            "data shape: torch.Size([64, 12]) , target shape: torch.Size([64, 2]) , output shape: torch.Size([64, 2])\n",
            "Train Epoch: 15 [0/21279 (0%)]\tLoss: 0.689493\n",
            "Train Epoch: 15 [6400/21279 (30%)]\tLoss: 0.695600\n",
            "Train Epoch: 15 [12800/21279 (60%)]\tLoss: 0.693233\n",
            "Train Epoch: 15 [19200/21279 (90%)]\tLoss: 0.692263\n",
            "Test set: Average loss: 0.0109, Accuracy: 5378/10641 (51%)\n",
            "data shape: torch.Size([64, 12]) , target shape: torch.Size([64, 2]) , output shape: torch.Size([64, 2])\n",
            "Train Epoch: 16 [0/21279 (0%)]\tLoss: 0.695739\n",
            "Train Epoch: 16 [6400/21279 (30%)]\tLoss: 0.691303\n",
            "Train Epoch: 16 [12800/21279 (60%)]\tLoss: 0.682419\n",
            "Train Epoch: 16 [19200/21279 (90%)]\tLoss: 0.693098\n",
            "Test set: Average loss: 0.0109, Accuracy: 5263/10641 (49%)\n",
            "data shape: torch.Size([64, 12]) , target shape: torch.Size([64, 2]) , output shape: torch.Size([64, 2])\n",
            "Train Epoch: 17 [0/21279 (0%)]\tLoss: 0.693128\n",
            "Train Epoch: 17 [6400/21279 (30%)]\tLoss: 0.691757\n",
            "Train Epoch: 17 [12800/21279 (60%)]\tLoss: 0.692139\n",
            "Train Epoch: 17 [19200/21279 (90%)]\tLoss: 0.693222\n",
            "Test set: Average loss: 0.0109, Accuracy: 5442/10641 (51%)\n",
            "data shape: torch.Size([64, 12]) , target shape: torch.Size([64, 2]) , output shape: torch.Size([64, 2])\n",
            "Train Epoch: 18 [0/21279 (0%)]\tLoss: 0.693146\n",
            "Train Epoch: 18 [6400/21279 (30%)]\tLoss: 0.695820\n",
            "Train Epoch: 18 [12800/21279 (60%)]\tLoss: 0.693063\n",
            "Train Epoch: 18 [19200/21279 (90%)]\tLoss: 0.694380\n",
            "Test set: Average loss: 0.0109, Accuracy: 5378/10641 (51%)\n",
            "data shape: torch.Size([64, 12]) , target shape: torch.Size([64, 2]) , output shape: torch.Size([64, 2])\n",
            "Train Epoch: 19 [0/21279 (0%)]\tLoss: 0.688537\n",
            "Train Epoch: 19 [6400/21279 (30%)]\tLoss: 0.695074\n",
            "Train Epoch: 19 [12800/21279 (60%)]\tLoss: 0.694381\n",
            "Train Epoch: 19 [19200/21279 (90%)]\tLoss: 0.696423\n",
            "Test set: Average loss: 0.0109, Accuracy: 5378/10641 (51%)\n",
            "data shape: torch.Size([64, 12]) , target shape: torch.Size([64, 2]) , output shape: torch.Size([64, 2])\n",
            "Train Epoch: 20 [0/21279 (0%)]\tLoss: 0.693914\n",
            "Train Epoch: 20 [6400/21279 (30%)]\tLoss: 0.693018\n",
            "Train Epoch: 20 [12800/21279 (60%)]\tLoss: 0.692181\n",
            "Train Epoch: 20 [19200/21279 (90%)]\tLoss: 0.692741\n",
            "Test set: Average loss: 0.0109, Accuracy: 5263/10641 (49%)\n",
            "data shape: torch.Size([64, 12]) , target shape: torch.Size([64, 2]) , output shape: torch.Size([64, 2])\n",
            "Train Epoch: 21 [0/21279 (0%)]\tLoss: 0.682960\n",
            "Train Epoch: 21 [6400/21279 (30%)]\tLoss: 0.693211\n",
            "Train Epoch: 21 [12800/21279 (60%)]\tLoss: 0.693418\n",
            "Train Epoch: 21 [19200/21279 (90%)]\tLoss: 0.694138\n",
            "Test set: Average loss: 0.0109, Accuracy: 5378/10641 (51%)\n",
            "data shape: torch.Size([64, 12]) , target shape: torch.Size([64, 2]) , output shape: torch.Size([64, 2])\n",
            "Train Epoch: 22 [0/21279 (0%)]\tLoss: 0.685831\n",
            "Train Epoch: 22 [6400/21279 (30%)]\tLoss: 0.695513\n",
            "Train Epoch: 22 [12800/21279 (60%)]\tLoss: 0.696076\n",
            "Train Epoch: 22 [19200/21279 (90%)]\tLoss: 0.693488\n",
            "Test set: Average loss: 0.0109, Accuracy: 5263/10641 (49%)\n",
            "data shape: torch.Size([64, 12]) , target shape: torch.Size([64, 2]) , output shape: torch.Size([64, 2])\n",
            "Train Epoch: 23 [0/21279 (0%)]\tLoss: 0.697442\n",
            "Train Epoch: 23 [6400/21279 (30%)]\tLoss: 0.689291\n",
            "Train Epoch: 23 [12800/21279 (60%)]\tLoss: 0.694445\n",
            "Train Epoch: 23 [19200/21279 (90%)]\tLoss: 0.693280\n",
            "Test set: Average loss: 0.0109, Accuracy: 5263/10641 (49%)\n",
            "data shape: torch.Size([64, 12]) , target shape: torch.Size([64, 2]) , output shape: torch.Size([64, 2])\n",
            "Train Epoch: 24 [0/21279 (0%)]\tLoss: 0.682329\n",
            "Train Epoch: 24 [6400/21279 (30%)]\tLoss: 0.693992\n",
            "Train Epoch: 24 [12800/21279 (60%)]\tLoss: 0.692941\n",
            "Train Epoch: 24 [19200/21279 (90%)]\tLoss: 0.693767\n",
            "Test set: Average loss: 0.0109, Accuracy: 5378/10641 (51%)\n",
            "data shape: torch.Size([64, 12]) , target shape: torch.Size([64, 2]) , output shape: torch.Size([64, 2])\n",
            "Train Epoch: 25 [0/21279 (0%)]\tLoss: 0.682254\n",
            "Train Epoch: 25 [6400/21279 (30%)]\tLoss: 0.697280\n",
            "Train Epoch: 25 [12800/21279 (60%)]\tLoss: 0.694865\n",
            "Train Epoch: 25 [19200/21279 (90%)]\tLoss: 0.692644\n",
            "Test set: Average loss: 0.0109, Accuracy: 5378/10641 (51%)\n",
            "data shape: torch.Size([64, 12]) , target shape: torch.Size([64, 2]) , output shape: torch.Size([64, 2])\n",
            "Train Epoch: 26 [0/21279 (0%)]\tLoss: 0.693348\n",
            "Train Epoch: 26 [6400/21279 (30%)]\tLoss: 0.692294\n",
            "Train Epoch: 26 [12800/21279 (60%)]\tLoss: 0.691813\n",
            "Train Epoch: 26 [19200/21279 (90%)]\tLoss: 0.693234\n",
            "Test set: Average loss: 0.0109, Accuracy: 5378/10641 (51%)\n",
            "data shape: torch.Size([64, 12]) , target shape: torch.Size([64, 2]) , output shape: torch.Size([64, 2])\n",
            "Train Epoch: 27 [0/21279 (0%)]\tLoss: 0.692949\n",
            "Train Epoch: 27 [6400/21279 (30%)]\tLoss: 0.682241\n",
            "Train Epoch: 27 [12800/21279 (60%)]\tLoss: 0.693415\n",
            "Train Epoch: 27 [19200/21279 (90%)]\tLoss: 0.694163\n",
            "Test set: Average loss: 0.0109, Accuracy: 5263/10641 (49%)\n",
            "data shape: torch.Size([64, 12]) , target shape: torch.Size([64, 2]) , output shape: torch.Size([64, 2])\n",
            "Train Epoch: 28 [0/21279 (0%)]\tLoss: 0.691750\n",
            "Train Epoch: 28 [6400/21279 (30%)]\tLoss: 0.690762\n",
            "Train Epoch: 28 [12800/21279 (60%)]\tLoss: 0.691026\n",
            "Train Epoch: 28 [19200/21279 (90%)]\tLoss: 0.692247\n",
            "Test set: Average loss: 0.0109, Accuracy: 5263/10641 (49%)\n",
            "data shape: torch.Size([64, 12]) , target shape: torch.Size([64, 2]) , output shape: torch.Size([64, 2])\n",
            "Train Epoch: 29 [0/21279 (0%)]\tLoss: 0.692607\n",
            "Train Epoch: 29 [6400/21279 (30%)]\tLoss: 0.694715\n",
            "Train Epoch: 29 [12800/21279 (60%)]\tLoss: 0.695161\n",
            "Train Epoch: 29 [19200/21279 (90%)]\tLoss: 0.693554\n",
            "Test set: Average loss: 0.0109, Accuracy: 5378/10641 (51%)\n",
            "data shape: torch.Size([64, 12]) , target shape: torch.Size([64, 2]) , output shape: torch.Size([64, 2])\n",
            "Train Epoch: 30 [0/21279 (0%)]\tLoss: 0.693481\n",
            "Train Epoch: 30 [6400/21279 (30%)]\tLoss: 0.693309\n",
            "Train Epoch: 30 [12800/21279 (60%)]\tLoss: 0.701407\n",
            "Train Epoch: 30 [19200/21279 (90%)]\tLoss: 0.692474\n",
            "Test set: Average loss: 0.0109, Accuracy: 5378/10641 (51%)\n",
            "data shape: torch.Size([64, 12]) , target shape: torch.Size([64, 2]) , output shape: torch.Size([64, 2])\n",
            "Train Epoch: 31 [0/21279 (0%)]\tLoss: 0.695065\n",
            "Train Epoch: 31 [6400/21279 (30%)]\tLoss: 0.694404\n",
            "Train Epoch: 31 [12800/21279 (60%)]\tLoss: 0.691855\n",
            "Train Epoch: 31 [19200/21279 (90%)]\tLoss: 0.692718\n",
            "Test set: Average loss: 0.0109, Accuracy: 5378/10641 (51%)\n",
            "data shape: torch.Size([64, 12]) , target shape: torch.Size([64, 2]) , output shape: torch.Size([64, 2])\n",
            "Train Epoch: 32 [0/21279 (0%)]\tLoss: 0.688383\n",
            "Train Epoch: 32 [6400/21279 (30%)]\tLoss: 0.689608\n",
            "Train Epoch: 32 [12800/21279 (60%)]\tLoss: 0.692202\n",
            "Train Epoch: 32 [19200/21279 (90%)]\tLoss: 0.693895\n",
            "Test set: Average loss: 0.0109, Accuracy: 5263/10641 (49%)\n",
            "data shape: torch.Size([64, 12]) , target shape: torch.Size([64, 2]) , output shape: torch.Size([64, 2])\n",
            "Train Epoch: 33 [0/21279 (0%)]\tLoss: 0.694215\n",
            "Train Epoch: 33 [6400/21279 (30%)]\tLoss: 0.693361\n",
            "Train Epoch: 33 [12800/21279 (60%)]\tLoss: 0.699967\n",
            "Train Epoch: 33 [19200/21279 (90%)]\tLoss: 0.696278\n",
            "Test set: Average loss: 0.0109, Accuracy: 5263/10641 (49%)\n",
            "data shape: torch.Size([64, 12]) , target shape: torch.Size([64, 2]) , output shape: torch.Size([64, 2])\n",
            "Train Epoch: 34 [0/21279 (0%)]\tLoss: 0.694245\n",
            "Train Epoch: 34 [6400/21279 (30%)]\tLoss: 0.693112\n",
            "Train Epoch: 34 [12800/21279 (60%)]\tLoss: 0.692954\n",
            "Train Epoch: 34 [19200/21279 (90%)]\tLoss: 0.700195\n",
            "Test set: Average loss: 0.0109, Accuracy: 5263/10641 (49%)\n",
            "data shape: torch.Size([64, 12]) , target shape: torch.Size([64, 2]) , output shape: torch.Size([64, 2])\n",
            "Train Epoch: 35 [0/21279 (0%)]\tLoss: 0.692936\n",
            "Train Epoch: 35 [6400/21279 (30%)]\tLoss: 0.697981\n",
            "Train Epoch: 35 [12800/21279 (60%)]\tLoss: 0.691653\n",
            "Train Epoch: 35 [19200/21279 (90%)]\tLoss: 0.692610\n",
            "Test set: Average loss: 0.0109, Accuracy: 5378/10641 (51%)\n",
            "data shape: torch.Size([64, 12]) , target shape: torch.Size([64, 2]) , output shape: torch.Size([64, 2])\n",
            "Train Epoch: 36 [0/21279 (0%)]\tLoss: 0.689341\n",
            "Train Epoch: 36 [6400/21279 (30%)]\tLoss: 0.691582\n",
            "Train Epoch: 36 [12800/21279 (60%)]\tLoss: 0.698944\n",
            "Train Epoch: 36 [19200/21279 (90%)]\tLoss: 0.702863\n",
            "Test set: Average loss: 0.0109, Accuracy: 5378/10641 (51%)\n",
            "data shape: torch.Size([64, 12]) , target shape: torch.Size([64, 2]) , output shape: torch.Size([64, 2])\n",
            "Train Epoch: 37 [0/21279 (0%)]\tLoss: 0.693449\n",
            "Train Epoch: 37 [6400/21279 (30%)]\tLoss: 0.691954\n",
            "Train Epoch: 37 [12800/21279 (60%)]\tLoss: 0.693594\n",
            "Train Epoch: 37 [19200/21279 (90%)]\tLoss: 0.682224\n",
            "Test set: Average loss: 0.0109, Accuracy: 5378/10641 (51%)\n",
            "data shape: torch.Size([64, 12]) , target shape: torch.Size([64, 2]) , output shape: torch.Size([64, 2])\n",
            "Train Epoch: 38 [0/21279 (0%)]\tLoss: 0.693776\n",
            "Train Epoch: 38 [6400/21279 (30%)]\tLoss: 0.694654\n",
            "Train Epoch: 38 [12800/21279 (60%)]\tLoss: 0.692600\n",
            "Train Epoch: 38 [19200/21279 (90%)]\tLoss: 0.697611\n",
            "Test set: Average loss: 0.0109, Accuracy: 5263/10641 (49%)\n",
            "data shape: torch.Size([64, 12]) , target shape: torch.Size([64, 2]) , output shape: torch.Size([64, 2])\n",
            "Train Epoch: 39 [0/21279 (0%)]\tLoss: 0.681232\n",
            "Train Epoch: 39 [6400/21279 (30%)]\tLoss: 0.694890\n",
            "Train Epoch: 39 [12800/21279 (60%)]\tLoss: 0.692833\n",
            "Train Epoch: 39 [19200/21279 (90%)]\tLoss: 0.693211\n",
            "Test set: Average loss: 0.0109, Accuracy: 5378/10641 (51%)\n",
            "data shape: torch.Size([64, 12]) , target shape: torch.Size([64, 2]) , output shape: torch.Size([64, 2])\n",
            "Train Epoch: 40 [0/21279 (0%)]\tLoss: 0.693680\n",
            "Train Epoch: 40 [6400/21279 (30%)]\tLoss: 0.691237\n",
            "Train Epoch: 40 [12800/21279 (60%)]\tLoss: 0.692872\n",
            "Train Epoch: 40 [19200/21279 (90%)]\tLoss: 0.692576\n",
            "Test set: Average loss: 0.0109, Accuracy: 5378/10641 (51%)\n"
          ]
        }
      ],
      "source": [
        "model5 = CCV5().to(DEVICE)\n",
        "optimizer = optim.SGD(model5.parameters(), lr=0.05,momentum=0.5)\n",
        "criterion = F.cross_entropy\n",
        "\n",
        "train_loader = DataLoader(train_dataset, batch_size=64, shuffle=True, num_workers=0)\n",
        "test_loader = DataLoader(test_dataset, batch_size=64, shuffle=False, num_workers=0)\n",
        "\n",
        "test_acc_list = []\n",
        "test_loss_list = []\n",
        "\n",
        "for epoch in range(1, EPOCHS + 1):\n",
        "    train(model5, train_loader, optimizer, criterion, epoch, DEVICE)\n",
        "    test_acc, test_loss = test(model5, test_loader, criterion, DEVICE)\n",
        "    test_acc_list.append(test_acc)\n",
        "    test_loss_list.append(test_loss)"
      ]
    },
    {
      "cell_type": "code",
      "execution_count": 80,
      "metadata": {},
      "outputs": [
        {
          "data": {
            "image/png": "[encoded data removed]",
            "text/plain": [
              "<Figure size 640x480 with 1 Axes>"
            ]
          },
          "metadata": {},
          "output_type": "display_data"
        }
      ],
      "source": [
        "plt.plot(test_acc_list,label='acc')\n",
        "plt.legend()\n",
        "plt.show()"
      ]
    },
    {
      "cell_type": "code",
      "execution_count": 81,
      "metadata": {},
      "outputs": [
        {
          "data": {
            "image/png": "[encoded data removed]",
            "text/plain": [
              "<Figure size 640x480 with 1 Axes>"
            ]
          },
          "metadata": {},
          "output_type": "display_data"
        }
      ],
      "source": [
        "#plot loss\n",
        "plt.plot(test_loss_list,label='loss')\n",
        "plt.legend()\n",
        "plt.show()"
      ]
    },
    {
      "cell_type": "code",
      "execution_count": 82,
      "metadata": {},
      "outputs": [
        {
          "data": {
            "text/plain": [
              "<AxesSubplot: >"
            ]
          },
          "execution_count": 82,
          "metadata": {},
          "output_type": "execute_result"
        },
        {
          "data": {
            "image/png": "[encoded data removed]",
            "text/plain": [
              "<Figure size 1000x700 with 2 Axes>"
            ]
          },
          "metadata": {},
          "output_type": "display_data"
        }
      ],
      "source": [
        "y_pred = model5(X_val.to(DEVICE)).argmax(dim=1, keepdim=True)\n",
        "y_true = y_val.argmax(1, keepdim=True).view_as(y_pred)\n",
        "cm = confusion_matrix(y_true.cpu(), y_pred.cpu())\n",
        "df_cm = pd.DataFrame(cm, index = [i for i in \"TF\"],\n",
        "                    columns = [i for i in \"TF\"])\n",
        "plt.figure(figsize = (10,7))\n",
        "sns.heatmap(df_cm, annot=True)"
      ]
    },
    {
      "cell_type": "code",
      "execution_count": 90,
      "metadata": {},
      "outputs": [],
      "source": [
        "#save model\n",
        "torch.save(model5.state_dict(), 'CCV5.pt')"
      ]
    }
  ],
  "metadata": {
    "accelerator": "GPU",
    "colab": {
      "include_colab_link": true,
      "machine_shape": "hm",
      "provenance": []
    },
    "gpuClass": "premium",
    "kernelspec": {
      "display_name": "Python 3",
      "language": "python",
      "name": "python3"
    },
    "language_info": {
      "codemirror_mode": {
        "name": "ipython",
        "version": 3
      },
      "file_extension": ".py",
      "mimetype": "text/x-python",
      "name": "python",
      "nbconvert_exporter": "python",
      "pygments_lexer": "ipython3",
      "version": "3.10.8 (tags/v3.10.8:aaaf517, Oct 11 2022, 16:50:30) [MSC v.1933 64 bit (AMD64)]"
    },
    "orig_nbformat": 4,
    "vscode": {
      "interpreter": {
        "hash": "26de051ba29f2982a8de78e945f0abaf191376122a1563185a90213a26c5da77"
      }
    }
  },
  "nbformat": 4,
  "nbformat_minor": 0
}
